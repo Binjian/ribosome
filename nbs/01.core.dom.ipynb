{
 "cells": [
  {
   "cell_type": "markdown",
   "id": "354e685a",
   "metadata": {},
   "source": [
    "# DOM Model with Pydantic and Pandoc Integration\n",
    "This notebook demonstrates a Document Object Model (DOM) using Pydantic for static typing and validation, and integrates Pandoc (via pypandoc) for Markdown processing."
   ]
  },
  {
   "cell_type": "code",
   "execution_count": null,
   "id": "745a9572",
   "metadata": {},
   "outputs": [],
   "source": [
    "#| default_exp dom\n",
    "#| export\n",
    "from typing import List, Optional\n",
    "from pydantic import BaseModel, Field, validator\n",
    "import base64\n",
    "import pypandoc\n",
    "import pathlib"
   ]
  },
  {
   "cell_type": "markdown",
   "id": "d8e78a35",
   "metadata": {},
   "source": [
    "## Base Element Class"
   ]
  },
  {
   "cell_type": "code",
   "execution_count": null,
   "id": "837951d8",
   "metadata": {},
   "outputs": [],
   "source": [
    "#| export\n",
    "class Element(BaseModel):\n",
    "    summary: Optional[str] = None"
   ]
  },
  {
   "cell_type": "markdown",
   "id": "7c18b3b4",
   "metadata": {},
   "source": [
    "## Figure Class with Base64 Validation"
   ]
  },
  {
   "cell_type": "code",
   "execution_count": null,
   "id": "0c9cb6bb",
   "metadata": {},
   "outputs": [],
   "source": [
    "#| export\n",
    "class Figure(Element):\n",
    "    rawdata: str = Field(..., description=\"Base64-encoded image data\")\n",
    "    @validator('rawdata')\n",
    "    def validate_base64(cls, v):\n",
    "        try:\n",
    "            base64.b64decode(v)\n",
    "        except Exception:\n",
    "            raise ValueError('rawdata must be valid base64')\n",
    "        return v"
   ]
  },
  {
   "cell_type": "markdown",
   "id": "56fc259b",
   "metadata": {},
   "source": [
    "## Table Structure: Cell, Column, Row, Table"
   ]
  },
  {
   "cell_type": "code",
   "execution_count": null,
   "id": "a921e917",
   "metadata": {},
   "outputs": [],
   "source": [
    "#| export\n",
    "class Cell(BaseModel):\n",
    "    c: str\n",
    "class Column(BaseModel):\n",
    "    cells: List[Cell]\n",
    "class Row(BaseModel):\n",
    "    cols: List[Column]\n",
    "class Table(Element):\n",
    "    rows: List[Row]"
   ]
  },
  {
   "cell_type": "markdown",
   "id": "a7130886",
   "metadata": {},
   "source": [
    "## Markdown Class with pypandoc Integration"
   ]
  },
  {
   "cell_type": "code",
   "execution_count": null,
   "id": "775311ac",
   "metadata": {},
   "outputs": [],
   "source": [
    "#| export\n",
    "class Markdown(BaseModel):\n",
    "    content: str = \"\"\n",
    "    def to_markdown(self) -> str:\n",
    "        return self.content\n",
    "    def to_html(self) -> str:\n",
    "        return pypandoc.convert_text(self.content, 'md', 'html')\n",
    "    def to_latex(self) -> str:\n",
    "        return pypandoc.convert_text(self.content, 'md', 'latex')\n",
    "    def walk(self, action):\n",
    "        import json\n",
    "        ast_json = pypandoc.convert_text(self.content, 'md', 'json')\n",
    "        ast = json.loads(ast_json)\n",
    "        def walk_node(node):\n",
    "            node = action(node)\n",
    "            if isinstance(node, dict):\n",
    "                for key, value in node.items():\n",
    "                    if isinstance(value, list):\n",
    "                        node[key] = [walk_node(child) if isinstance(child, (dict, list)) else child for child in value]\n",
    "                    elif isinstance(value, dict):\n",
    "                        node[key] = walk_node(value)\n",
    "            elif isinstance(node, list):\n",
    "                node = [walk_node(child) if isinstance(child, (dict, list)) else child for child in node]\n",
    "            return node\n",
    "        ast = walk_node(ast)\n",
    "        new_json = json.dumps(ast)\n",
    "        self.content = pypandoc.convert_text(new_json, 'json', 'md')\n",
    "    @staticmethod\n",
    "    def from_file(filepath: pathlib.Path):\n",
    "        content = filepath.read_text(encoding='utf-8')\n",
    "        return Markdown(content=content)"
   ]
  },
  {
   "cell_type": "markdown",
   "id": "712e4302",
   "metadata": {},
   "source": [
    "## Section Class: Recursive Document Structure"
   ]
  },
  {
   "cell_type": "code",
   "execution_count": null,
   "id": "73069f50",
   "metadata": {},
   "outputs": [],
   "source": [
    "#| export\n",
    "class Section(BaseModel):\n",
    "    summary: Optional[str] = None\n",
    "    paragraphs: List[str] = Field(default_factory=list)\n",
    "    figures: List[Figure] = Field(default_factory=list)\n",
    "    tables: List[Table] = Field(default_factory=list)\n",
    "    subsections: List['Section'] = Field(default_factory=list)\n",
    "    def __init__(self, summary: Optional[str] = None, paragraphs: Optional[List[str]] = None,\n",
    "                 figures: Optional[List[Figure]] = None, tables: Optional[List[Table]] = None,\n",
    "                 subsections: Optional[List[dict]] = None):\n",
    "        # Recursively initialize subsections if provided as dicts\n",
    "        if subsections is not None:\n",
    "            subs = [Section(**s) if isinstance(s, dict) else s for s in subsections]\n",
    "        else:\n",
    "            subs = []\n",
    "        super().__init__(\n",
    "            summary=summary,\n",
    "            paragraphs=paragraphs or [],\n",
    "            figures=figures or [],\n",
    "            tables=tables or [],\n",
    "            subsections=subs\n",
    "        )\n",
    "    @classmethod\n",
    "    def init(cls, md: Markdown):\n",
    "        # Placeholder for initialization from Markdown\n",
    "        return cls()\n",
    "    @staticmethod\n",
    "    def update_forward_refs():\n",
    "        # BaseModel.update_forward_refs(Section=Section)\n",
    "        BaseModel.model_rebuild()\n",
    "# Support for recursive Section references\n",
    "Section.update_forward_refs()"
   ]
  }
 ],
 "metadata": {
  "language_info": {
   "name": "python"
  }
 },
 "nbformat": 4,
 "nbformat_minor": 5
}
