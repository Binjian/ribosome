{
 "cells": [
  {
   "cell_type": "markdown",
   "id": "d2e487e0",
   "metadata": {},
   "source": [
    "--\n",
    "description: DOM Model with Pydantic and Pandoc Integration\n",
    "output-file: core.dom.html\n",
    "title: core.dom\n",
    "\n",
    "This notebook demonstrates a Document Object Model (DOM) using Pydantic for static typing and validation, and integrates Pandoc (via pypandoc) for Markdown processing.\n",
    "---"
   ]
  },
  {
   "cell_type": "code",
   "execution_count": 1,
   "id": "354e685a",
   "metadata": {},
   "outputs": [],
   "source": [
    "# | default_exp dom"
   ]
  },
  {
   "cell_type": "code",
   "execution_count": 2,
   "id": "8af0c04b",
   "metadata": {},
   "outputs": [],
   "source": [
    "# | hide\n",
    "from nbdev.showdoc import *\n",
    "from IPython.core.interactiveshell import InteractiveShell\n",
    "\n",
    "InteractiveShell.ast_node_interactivity = \"all\""
   ]
  },
  {
   "cell_type": "code",
   "execution_count": 36,
   "id": "745a9572",
   "metadata": {},
   "outputs": [],
   "source": [
    "# | export\n",
    "from typing import List, Optional\n",
    "from pydantic import BaseModel, Field, field_validator\n",
    "import base64\n",
    "import pypandoc\n",
    "import pathlib\n",
    "import json\n",
    "import re\n",
    "import os\n",
    "from pathlib import Path\n",
    "from pprint import pprint"
   ]
  },
  {
   "cell_type": "code",
   "execution_count": 4,
   "id": "361567c2",
   "metadata": {},
   "outputs": [],
   "source": [
    "#| export\n",
    "from ollama import chat, ChatResponse, Client"
   ]
  },
  {
   "cell_type": "markdown",
   "id": "d8e78a35",
   "metadata": {},
   "source": [
    "## Base Element Class"
   ]
  },
  {
   "cell_type": "code",
   "execution_count": 5,
   "id": "837951d8",
   "metadata": {},
   "outputs": [],
   "source": [
    "# | export\n",
    "class Element(BaseModel):\n",
    "    summary: Optional[str] = None"
   ]
  },
  {
   "cell_type": "markdown",
   "id": "7c18b3b4",
   "metadata": {},
   "source": [
    "## Figure Class with Base64 Validation"
   ]
  },
  {
   "cell_type": "code",
   "execution_count": 6,
   "id": "0c9cb6bb",
   "metadata": {},
   "outputs": [],
   "source": [
    "# | export\n",
    "class Figure(Element):\n",
    "    rawdata: str = Field(..., description=\"Base64-encoded image data\")\n",
    "\n",
    "    @field_validator(\"rawdata\")\n",
    "    def validate_base64(cls, v):\n",
    "        try:\n",
    "            base64.b64decode(v)\n",
    "        except Exception:\n",
    "            raise ValueError(\"rawdata must be valid base64\")\n",
    "        return v"
   ]
  },
  {
   "cell_type": "markdown",
   "id": "56fc259b",
   "metadata": {},
   "source": [
    "## Table Structure: Cell, Column, Row, Table"
   ]
  },
  {
   "cell_type": "code",
   "execution_count": 7,
   "id": "a921e917",
   "metadata": {},
   "outputs": [],
   "source": [
    "# | export\n",
    "class Cell(BaseModel):\n",
    "    c: str\n",
    "\n",
    "\n",
    "class Column(BaseModel):\n",
    "    cells: List[Cell]\n",
    "\n",
    "\n",
    "class Row(BaseModel):\n",
    "    cols: List[Column]\n",
    "\n",
    "\n",
    "class Table(Element):\n",
    "    rows: List[Row]"
   ]
  },
  {
   "cell_type": "code",
   "execution_count": 8,
   "id": "ac94f2d9",
   "metadata": {},
   "outputs": [],
   "source": [
    "# | export\n",
    "def get_text_summary_response(content: str, model:str=\"gemma3-27b\", role:str=\"user\") -> ChatResponse:\n",
    "    \"\"\"\n",
    "    Returns a ChatResponse from the chat model with a summary prompt for the given content.\n",
    "    \"\"\"\n",
    "    return chat(\n",
    "        model=model,\n",
    "        messages=[\n",
    "            {\n",
    "                \"role\": role,\n",
    "                \"content\": (\n",
    "                    f\"Please provide a summary of the following string. \"\n",
    "                    f\"The summary should be concise and informative: {content}. \"\n",
    "                    \n",
    "                ),\n",
    "            }\n",
    "        ],\n",
    "    )"
   ]
  },
  {
   "cell_type": "code",
   "execution_count": 23,
   "id": "a2cb622f",
   "metadata": {},
   "outputs": [],
   "source": [
    "# | export\n",
    "image_link_pattern = r'[^\\s]+\\.(?:jpg|jpeg|png|gif|bmp|webp)'\n",
    "\n",
    "def get_image_summary_response(image_link: str, model:str=\"gemma3:27b\", role:str=\"user\") -> ChatResponse:\n",
    "    \"\"\"\n",
    "    Returns a ChatResponse from the chat model with a summary prompt for the given image.\n",
    "    \"\"\"\n",
    "    if not re.match(image_link_pattern, image_link):\n",
    "        # If the image link is not a URL, throw an error\n",
    "        raise ValueError(f\"Invalid image link: {image_link}\")\n",
    "    response = chat(\n",
    "        model=model,\n",
    "        messages=[\n",
    "            {\n",
    "                \"role\": role,\n",
    "                \"content\": \"Please provide a summary of the following image. \"\n",
    "                           \"The summary should be concise and informative.\",\n",
    "                'images': [f\"{image_link}\"],\n",
    "            }\n",
    "        ],\n",
    "    )\n",
    "    return response\n"
   ]
  },
  {
   "cell_type": "code",
   "execution_count": 24,
   "id": "c6f06588",
   "metadata": {},
   "outputs": [
    {
     "data": {
      "text/plain": [
       "'../res/siasun_md_sammple/SN024002/img/__3.png'"
      ]
     },
     "execution_count": 24,
     "metadata": {},
     "output_type": "execute_result"
    }
   ],
   "source": [
    "# os.getcwd()\n",
    "image_link = \"../res/siasun_md_sammple/SN024002/img/__3.png\"\n",
    "# image_link\n",
    "res = re.match(image_link_pattern, image_link)\n",
    "res.group(0)\n",
    "# get_image_summary_response(\"../res/\")"
   ]
  },
  {
   "cell_type": "code",
   "execution_count": 33,
   "id": "28596903",
   "metadata": {},
   "outputs": [
    {
     "data": {
      "text/plain": [
       "'/d/devel/rag/ribosome/res/siasun_md_sample/SN024002/img/img_1.png'"
      ]
     },
     "execution_count": 33,
     "metadata": {},
     "output_type": "execute_result"
    }
   ],
   "source": [
    "# imagepath = Path(os.getcwd()).parent / 'res/siasun_md_sample/SN024002/img/__3.png'\n",
    "imagepath = Path(os.getcwd()).parent / 'res/siasun_md_sample/SN024002/img/img_1.png'\n",
    "image_link = str(imagepath)\n",
    "image_link"
   ]
  },
  {
   "cell_type": "code",
   "execution_count": 26,
   "id": "400bfd40",
   "metadata": {},
   "outputs": [
    {
     "name": "stdout",
     "output_type": "stream",
     "text": [
      "Matched image link: /d/devel/rag/ribosome/res/siasun_md_sample/SN024002/img/__3.png\n"
     ]
    }
   ],
   "source": [
    "# res = re.match(image_link_pattern, 'img/small.avi')\n",
    "res = re.match(image_link_pattern, image_link)\n",
    "# in case of match, print the matched string\n",
    "if res:\n",
    "    print(f\"Matched image link: {res.group(0)}\")\n",
    "else:\n",
    "    print(res)"
   ]
  },
  {
   "cell_type": "code",
   "execution_count": null,
   "id": "5315073c",
   "metadata": {},
   "outputs": [],
   "source": [
    "response = get_image_summary_response(image_link, model=\"gemma3:27b\", role=\"user\")\n",
    "# print(response.content)\n",
    "pprint(response.message.content)"
   ]
  },
  {
   "cell_type": "markdown",
   "id": "a7130886",
   "metadata": {},
   "source": [
    "## Markdown Class with pypandoc Integration"
   ]
  },
  {
   "cell_type": "code",
   "execution_count": null,
   "id": "775311ac",
   "metadata": {},
   "outputs": [],
   "source": [
    "# | export\n",
    "class Markdown(BaseModel):\n",
    "    # The content of the Markdown document. This can be a string containing Markdown syntax.\n",
    "    raw_markdown: Optional[str] = Field(None, description=\"Raw Markdown content\")\n",
    "    # raw json\n",
    "    raw_json: Optional[str] = Field(None, description=\"Raw JSON content\")\n",
    "    # The json representation of the Markdown AST.\n",
    "    ast_json: Optional[str] = Field(None, description=\"JSON representation of the Markdown AST\")\n",
    "\n",
    "\n",
    "    def __init__(self, content: Optional[str] = None, **data):\n",
    "        \"\"\" Initializes the Markdown object with raw Markdown content.\n",
    "        If content is provided, it will be set as the raw_markdown.\n",
    "        \"\"\"\n",
    "        super().__init__(**data)\n",
    "        if content:\n",
    "            self.raw_markdown = content\n",
    "            self.raw_json = pypandoc.convert_text(self.raw_markdown, \"json\", \"md\")\n",
    "        else:\n",
    "            self.raw_markdown = None\n",
    "            self.raw_json = None\n",
    "    \n",
    "    def to_markdown(self) -> str | None:\n",
    "        return self.raw_markdown\n",
    "\n",
    "    def to_html(self) -> str | None:\n",
    "        if not self.raw_markdown:\n",
    "            return None\n",
    "        # Convert raw Markdown to HTML using pypandoc\n",
    "        return pypandoc.convert_text(self.raw_markdown, \"html\", \"md\")\n",
    "\n",
    "    def to_latex(self) -> str | None:\n",
    "        if not self.raw_markdown:\n",
    "            return None\n",
    "        return pypandoc.convert_text(self.raw_markdown, \"latex\", \"md\")\n",
    "\n",
    "    def to_json(self) -> str | None:\n",
    "        \"\"\" Converts the Markdown content to a JSON representation of its AST.\n",
    "        This uses pypandoc to convert the Markdown content into a JSON format.\n",
    "        \"\"\"\n",
    "        return self.raw_json\n",
    "\n",
    "    def walk(self, action: callable = None) -> None:\n",
    "        \"\"\" Walks through the Markdown AST and applies an action to each node.\n",
    "        If no action is provided, it defaults to the identity function.\n",
    "        \"\"\"\n",
    "        if not self.raw_markdown:\n",
    "            raise ValueError(\"Markdown content is empty. Cannot walk the AST.\")\n",
    "        if action is None:\n",
    "            action = self.__class__.identity\n",
    "\n",
    "        ast = json.loads(self.raw_json)\n",
    "\n",
    "        def walk_node(node):\n",
    "            node = action(node)\n",
    "            if isinstance(node, dict):\n",
    "                for key, value in node.items():\n",
    "                    if isinstance(value, list):\n",
    "                        node[key] = [\n",
    "                            walk_node(child)\n",
    "                            if isinstance(child, (dict, list))\n",
    "                            else child\n",
    "                            for child in value\n",
    "                        ]\n",
    "                    elif isinstance(value, dict):\n",
    "                        node[key] = walk_node(value)\n",
    "            elif isinstance(node, list):\n",
    "                node = [\n",
    "                    walk_node(child) if isinstance(child, (dict, list)) else child\n",
    "                    for child in node\n",
    "                ]\n",
    "            return node\n",
    "\n",
    "        ast = walk_node(ast)\n",
    "        self.ast_json = json.dumps(ast, ensure_ascii=False).encode(\"utf-8\").decode(\"utf-8\")\n",
    "\n",
    "    def summary(self, action: callable = None) -> None:\n",
    "        \"\"\" Walks through the Markdown AST and applies an action to each node.\n",
    "        If no action is provided, it defaults to the identity function.\n",
    "        \"\"\"\n",
    "        if not self.raw_markdown:\n",
    "            raise ValueError(\"Markdown content is empty. Cannot walk the AST.\")\n",
    "        if action is None:\n",
    "            action = self.__class__.identity\n",
    "\n",
    "        ast = json.loads(self.raw_json)\n",
    "\n",
    "        def summary_node(node):\n",
    "            node = action(node)\n",
    "            if isinstance(node, dict):\n",
    "                for key, value in node.items():\n",
    "                    if isinstance(value, list):\n",
    "                        node[key] = [\n",
    "                            summary_node(child)\n",
    "                            if isinstance(child, (dict, list))\n",
    "                            else child\n",
    "                            for child in value\n",
    "                        ]\n",
    "                    elif isinstance(value, dict):\n",
    "                        node[key] = summary_node(value)\n",
    "            elif isinstance(node, list):\n",
    "                node = [\n",
    "                    summary_node(child) if isinstance(child, (dict, list)) else child\n",
    "                    for child in node\n",
    "                ]\n",
    "            return node\n",
    "\n",
    "        ast = summary_node(ast)\n",
    "        self.ast_json = json.dumps(ast, ensure_ascii=False).encode(\"utf-8\").decode(\"utf-8\")\n",
    "    @staticmethod\n",
    "    def from_file(filepath: pathlib.Path):\n",
    "        content = filepath.read_text(encoding=\"utf-8\")\n",
    "        return Markdown(content=content)\n",
    "    \n",
    "    @classmethod\n",
    "    def identity(cls, obj):\n",
    "        \"\"\"Identity function for use in walk.\"\"\"\n",
    "        return obj"
   ]
  },
  {
   "cell_type": "code",
   "execution_count": 12,
   "id": "6a413bcd",
   "metadata": {},
   "outputs": [
    {
     "data": {
      "text/plain": [
       "['test.html',\n",
       " 'SR024011',\n",
       " 'SN024002',\n",
       " 'test.md',\n",
       " 'test.rst',\n",
       " 'test_raw.json',\n",
       " 'test.json',\n",
       " 'test_ast.json']"
      ]
     },
     "execution_count": 12,
     "metadata": {},
     "output_type": "execute_result"
    }
   ],
   "source": [
    "# create test case for Markdown class with identity function\n",
    "import os\n",
    "import shutil\n",
    "from pathlib import Path\n",
    "# change directory to the script's directory\n",
    "cwd = Path(os.getcwd()).parent / \"res/siasun_md_sample\"\n",
    "os.chdir(cwd)\n",
    "cwd = os.getcwd()\n",
    "os.listdir(cwd)\n",
    "\n",
    "# os.chdir(Path(cwd).parent / \"res/SR02401\")\n"
   ]
  },
  {
   "cell_type": "code",
   "execution_count": 13,
   "id": "c16c2fff",
   "metadata": {},
   "outputs": [
    {
     "data": {
      "text/plain": [
       "42"
      ]
     },
     "execution_count": 13,
     "metadata": {},
     "output_type": "execute_result"
    },
    {
     "data": {
      "text/plain": [
       "46"
      ]
     },
     "execution_count": 13,
     "metadata": {},
     "output_type": "execute_result"
    },
    {
     "data": {
      "text/plain": [
       "420"
      ]
     },
     "execution_count": 13,
     "metadata": {},
     "output_type": "execute_result"
    },
    {
     "data": {
      "text/plain": [
       "487"
      ]
     },
     "execution_count": 13,
     "metadata": {},
     "output_type": "execute_result"
    },
    {
     "data": {
      "text/plain": [
       "420"
      ]
     },
     "execution_count": 13,
     "metadata": {},
     "output_type": "execute_result"
    }
   ],
   "source": [
    "md = Markdown(content=\"# Test\\n\\nThis is a test.\\n\\nThis is **bold**.\")\n",
    "# save the markdown content to a file\n",
    "md_file = Path(cwd) / \"test.md\"\n",
    "md_file.write_text(md.raw_markdown, encoding=\"utf-8\")\n",
    "rst = pypandoc.convert_file('test.md', \"rst\", format=\"md\")\n",
    "rst_file = Path(cwd) / \"test.rst\"\n",
    "rst_file.write_text(rst, encoding=\"utf-8\")\n",
    "\n",
    "js = md.to_json()\n",
    "js_file = Path(cwd) / \"test.json\"\n",
    "js_file.write_text(js, encoding=\"utf-8\")\n",
    "md.walk()\n",
    "# md.ast_json\n",
    "(Path(cwd) / \"test_ast.json\").write_text(md.ast_json, encoding=\"utf-8\")\n",
    "(Path(cwd) / \"test_raw.json\").write_text(md.raw_json, encoding=\"utf-8\")"
   ]
  },
  {
   "cell_type": "code",
   "execution_count": 14,
   "id": "8b46336c",
   "metadata": {},
   "outputs": [
    {
     "data": {
      "text/plain": [
       "'/d/devel/rag/ribosome/res/siasun_md_sample'"
      ]
     },
     "execution_count": 14,
     "metadata": {},
     "output_type": "execute_result"
    }
   ],
   "source": [
    "cwd"
   ]
  },
  {
   "cell_type": "code",
   "execution_count": 24,
   "id": "e7315907",
   "metadata": {},
   "outputs": [],
   "source": [
    "# md_file = Path(cwd) / \"SN024002/SN024002《新松SN7B-7-0.90规格参数》A-1.md\"\n",
    "md_file = Path(cwd) / \"SX322002/SX322002《新松机器人码垛应用操作手册》-V1.0.md\"\n",
    "md = Markdown.from_file(md_file)"
   ]
  },
  {
   "cell_type": "code",
   "execution_count": 25,
   "id": "eda0482a",
   "metadata": {},
   "outputs": [
    {
     "data": {
      "text/plain": [
       "43753"
      ]
     },
     "execution_count": 25,
     "metadata": {},
     "output_type": "execute_result"
    },
    {
     "data": {
      "text/plain": [
       "37755"
      ]
     },
     "execution_count": 25,
     "metadata": {},
     "output_type": "execute_result"
    }
   ],
   "source": [
    "md.walk()\n",
    "(Path(cwd) / \"SX322002/SX322002《新松机器人码垛应用操作手册》-V1.0_ast.json\").write_text(md.ast_json, encoding=\"utf-8\")\n",
    "(Path(cwd) / \"SX322002/SX322002《新松机器人码垛应用操作手册》-V1.0_raw.json\").write_text(md.raw_json, encoding=\"utf-8\")"
   ]
  },
  {
   "cell_type": "code",
   "execution_count": null,
   "id": "85888341",
   "metadata": {},
   "outputs": [],
   "source": [
    "\n",
    "def test_markdown_walk_identity():\n",
    "    md.walk(identity)\n",
    "    print(md.content)  # Should print the original content\n",
    "    # assert md.content == \"# Test\\n\\nThis is a test.\"\n",
    "\n",
    "test_markdown_walk_identity()"
   ]
  },
  {
   "cell_type": "markdown",
   "id": "712e4302",
   "metadata": {},
   "source": [
    "## Section Class: Recursive Document Structure"
   ]
  },
  {
   "cell_type": "code",
   "execution_count": 9,
   "id": "73069f50",
   "metadata": {},
   "outputs": [],
   "source": [
    "# | export\n",
    "class Section(BaseModel):\n",
    "    summary: Optional[str] = None\n",
    "    paragraphs: List[str] = Field(default_factory=list)\n",
    "    figures: List[Figure] = Field(default_factory=list)\n",
    "    tables: List[Table] = Field(default_factory=list)\n",
    "    subsections: List[\"Section\"] = Field(default_factory=list)\n",
    "\n",
    "    def __init__(\n",
    "        self,\n",
    "        summary: Optional[str] = None,\n",
    "        paragraphs: Optional[List[str]] = None,\n",
    "        figures: Optional[List[Figure]] = None,\n",
    "        tables: Optional[List[Table]] = None,\n",
    "        subsections: Optional[List[dict]] = None,\n",
    "    ):\n",
    "        # Recursively initialize subsections if provided as dicts\n",
    "        if subsections is not None:\n",
    "            subs = [Section(**s) if isinstance(s, dict) else s for s in subsections]\n",
    "        else:\n",
    "            subs = []\n",
    "        super().__init__(\n",
    "            summary=summary,\n",
    "            paragraphs=paragraphs or [],\n",
    "            figures=figures or [],\n",
    "            tables=tables or [],\n",
    "            subsections=subs,\n",
    "        )\n",
    "\n",
    "    @classmethod\n",
    "    def init(cls, md: Markdown):\n",
    "        # Placeholder for initialization from Markdown\n",
    "        return cls()\n",
    "\n",
    "    @classmethod\n",
    "    def update_forward_refs(cls, **localns):\n",
    "        ...\n",
    "        #BaseModel.model_rebuild()\n",
    "\n",
    "\n",
    "# Support for recursive Section references\n",
    "Section.model_rebuild()"
   ]
  }
 ],
 "metadata": {
  "kernelspec": {
   "display_name": "cell",
   "language": "python",
   "name": "python3"
  },
  "language_info": {
   "codemirror_mode": {
    "name": "ipython",
    "version": 3
   },
   "file_extension": ".py",
   "mimetype": "text/x-python",
   "name": "python",
   "nbconvert_exporter": "python",
   "pygments_lexer": "ipython3",
   "version": "3.12.9"
  }
 },
 "nbformat": 4,
 "nbformat_minor": 5
}
