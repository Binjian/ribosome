{
 "cells": [
  {
   "cell_type": "markdown",
   "id": "d2e487e0",
   "metadata": {},
   "source": [
    "--\n",
    "description: DOM Model with Pydantic and Pandoc Integration\n",
    "output-file: core.dom.html\n",
    "title: core.dom\n",
    "\n",
    "This notebook demonstrates a Document Object Model (DOM) using Pydantic for static typing and validation, and integrates Pandoc (via pypandoc) for Markdown processing.\n",
    "---"
   ]
  },
  {
   "cell_type": "code",
   "execution_count": 1,
   "id": "354e685a",
   "metadata": {},
   "outputs": [],
   "source": [
    "# | default_exp dom"
   ]
  },
  {
   "cell_type": "code",
   "execution_count": 2,
   "id": "8af0c04b",
   "metadata": {},
   "outputs": [],
   "source": [
    "# | hide\n",
    "from nbdev.showdoc import *\n",
    "from IPython.core.interactiveshell import InteractiveShell\n",
    "from IPython.display import Markdown, display\n",
    "\n",
    "InteractiveShell.ast_node_interactivity = \"all\""
   ]
  },
  {
   "cell_type": "code",
   "execution_count": 3,
   "id": "745a9572",
   "metadata": {},
   "outputs": [],
   "source": [
    "# | export\n",
    "from typing import List, Optional\n",
    "from pydantic import BaseModel, Field, field_validator\n",
    "import base64\n",
    "import pypandoc\n",
    "import pathlib\n",
    "import json\n",
    "import re\n",
    "import os\n",
    "from pathlib import Path\n",
    "from pprint import pprint\n",
    "import markdown"
   ]
  },
  {
   "cell_type": "code",
   "execution_count": 4,
   "id": "361567c2",
   "metadata": {},
   "outputs": [],
   "source": [
    "#| export\n",
    "from ollama import chat, ChatResponse, Client"
   ]
  },
  {
   "cell_type": "markdown",
   "id": "d8e78a35",
   "metadata": {},
   "source": [
    "## Base Element Class"
   ]
  },
  {
   "cell_type": "code",
   "execution_count": 5,
   "id": "837951d8",
   "metadata": {},
   "outputs": [],
   "source": [
    "# | export\n",
    "class Element(BaseModel):\n",
    "    summary: Optional[str] = None"
   ]
  },
  {
   "cell_type": "markdown",
   "id": "7c18b3b4",
   "metadata": {},
   "source": [
    "## Figure Class with Base64 Validation"
   ]
  },
  {
   "cell_type": "code",
   "execution_count": 6,
   "id": "0c9cb6bb",
   "metadata": {},
   "outputs": [],
   "source": [
    "# | export\n",
    "class Figure(Element):\n",
    "    rawdata: str = Field(..., description=\"Base64-encoded image data\")\n",
    "\n",
    "    @field_validator(\"rawdata\")\n",
    "    def validate_base64(cls, v):\n",
    "        try:\n",
    "            base64.b64decode(v)\n",
    "        except Exception:\n",
    "            raise ValueError(\"rawdata must be valid base64\")\n",
    "        return v"
   ]
  },
  {
   "cell_type": "markdown",
   "id": "56fc259b",
   "metadata": {},
   "source": [
    "## Table Structure: Cell, Column, Row, Table"
   ]
  },
  {
   "cell_type": "code",
   "execution_count": 7,
   "id": "a921e917",
   "metadata": {},
   "outputs": [],
   "source": [
    "# | export\n",
    "class Cell(BaseModel):\n",
    "    c: str\n",
    "\n",
    "\n",
    "class Column(BaseModel):\n",
    "    cells: List[Cell]\n",
    "\n",
    "\n",
    "class Row(BaseModel):\n",
    "    cols: List[Column]\n",
    "\n",
    "\n",
    "class Table(Element):\n",
    "    rows: List[Row]"
   ]
  },
  {
   "cell_type": "code",
   "execution_count": 8,
   "id": "ac94f2d9",
   "metadata": {},
   "outputs": [],
   "source": [
    "# | export\n",
    "def get_text_summary_response(content: str, model:str=\"gemma3-27b\", role:str=\"user\", lang: str=\"zh\") -> ChatResponse:\n",
    "    \"\"\"\n",
    "    Returns a ChatResponse from the chat model with a summary prompt for the given content.\n",
    "    \"\"\"\n",
    "    match lang:\n",
    "        case \"en\":\n",
    "            prompt = (\n",
    "                f\"Please provide a summary of the following string. \"\n",
    "                f\"The summary should be concise and informative: {content}. \"\n",
    "            )\n",
    "        case \"zh\":\n",
    "            content = re.sub(r\"\\s+\", \" \", content.strip())\n",
    "            prompt = (\n",
    "                f\"请提供以下字符串的摘要。\"\n",
    "                f\"摘要应简明扼要且信息丰富: {content}. \"\n",
    "            )\n",
    "        case _:\n",
    "            raise ValueError(f\"Unsupported language: {lang}\")\n",
    "    return chat(\n",
    "        model=model,\n",
    "        messages=[\n",
    "            {\n",
    "                \"role\": role,\n",
    "                \"content\": prompt,\n",
    "            }\n",
    "        ],\n",
    "    )"
   ]
  },
  {
   "cell_type": "code",
   "execution_count": 9,
   "id": "a2cb622f",
   "metadata": {},
   "outputs": [],
   "source": [
    "# | export\n",
    "image_link_pattern = r'[^\\s]+\\.(?:jpg|jpeg|png|gif|bmp|webp)'\n",
    "\n",
    "def get_image_summary_response(image_link: str | Path, model:str=\"gemma3:27b\", role:str=\"user\", lang: str='zh') -> ChatResponse:\n",
    "    \"\"\"\n",
    "    Returns a ChatResponse from the chat model with a summary prompt for the given image.\n",
    "    \"\"\"\n",
    "    if isinstance(image_link, Path):\n",
    "        image_link = str(image_link)\n",
    "    if not re.match(image_link_pattern, image_link):\n",
    "        # If the image link is not a URL, throw an error\n",
    "        raise ValueError(f\"Invalid image link: {image_link}\")\n",
    "    \n",
    "    match lang:\n",
    "        case 'en':\n",
    "            prompt = \"Please provide a summary of the following image. The summary should be concise and informative about the robot.\"\n",
    "        case 'zh':\n",
    "            prompt = \"请提供以下图像的摘要。关于机器人机械尺寸,运动范围,自由度的说明应简明扼要。\"\n",
    "        case _:\n",
    "            raise ValueError(f\"Unsupported language: {lang}\")\n",
    "\n",
    "    response = chat(\n",
    "        model=model,\n",
    "        messages=[\n",
    "            {\n",
    "                \"role\": role,\n",
    "                \"content\": prompt,\n",
    "                'images': [f\"{image_link}\"],\n",
    "            }\n",
    "        ],\n",
    "    )\n",
    "    return response\n"
   ]
  },
  {
   "cell_type": "code",
   "execution_count": 10,
   "id": "c6f06588",
   "metadata": {},
   "outputs": [
    {
     "data": {
      "text/plain": [
       "'../res/siasun_md_sammple_hrsl/SN024002/img/__2.png'"
      ]
     },
     "execution_count": 10,
     "metadata": {},
     "output_type": "execute_result"
    }
   ],
   "source": [
    "# os.getcwd()\n",
    "image_link = \"../res/siasun_md_sammple_hrsl/SN024002/img/__2.png\"\n",
    "# image_link\n",
    "res = re.match(image_link_pattern, image_link)\n",
    "res.group(0)\n",
    "# get_image_summary_response(\"../res/\")"
   ]
  },
  {
   "cell_type": "code",
   "execution_count": 11,
   "id": "28596903",
   "metadata": {},
   "outputs": [
    {
     "data": {
      "text/plain": [
       "'/d/devel/rag/ribosome/res/siasun_md_sample_hrsl/SX322002/img/img_11.png'"
      ]
     },
     "execution_count": 11,
     "metadata": {},
     "output_type": "execute_result"
    },
    {
     "data": {
      "text/markdown": [
       "![image](/d/devel/rag/ribosome/res/siasun_md_sample_hrsl/SX322002/img/img_11.png)"
      ],
      "text/plain": [
       "<IPython.core.display.Markdown object>"
      ]
     },
     "metadata": {},
     "output_type": "display_data"
    }
   ],
   "source": [
    "# imagepath = Path(os.getcwd()).parent / 'res/siasun_md_sample/SN024002/img/__3.png'\n",
    "# imagepath = Path(os.getcwd()).parent / 'siasun_md_sample_hrsl/SN024002/img/img_11.png'\n",
    "imagepath = Path(os.getcwd()).parent / 'res/siasun_md_sample_hrsl/SX322002/img/img_11.png'\n",
    "image_link = str(imagepath)\n",
    "image_link\n",
    "display(Markdown(f\"![image]({image_link})\"))"
   ]
  },
  {
   "cell_type": "code",
   "execution_count": 12,
   "id": "400bfd40",
   "metadata": {},
   "outputs": [
    {
     "name": "stdout",
     "output_type": "stream",
     "text": [
      "Matched image link: img/small.png\n"
     ]
    }
   ],
   "source": [
    "# res = re.match(image_link_pattern, 'http://baidu.com/?home/img/small.png')\n",
    "res = re.match(image_link_pattern, 'img/small.png')\n",
    "# res = re.match(image_link_pattern, image_link)\n",
    "# in case of match, print the matched string\n",
    "if res:\n",
    "    print(f\"Matched image link: {res.group(0)}\")\n",
    "else:\n",
    "    print(res)"
   ]
  },
  {
   "cell_type": "code",
   "execution_count": 13,
   "id": "5315073c",
   "metadata": {},
   "outputs": [],
   "source": [
    "if False:\n",
    "    response = get_image_summary_response(image_link, model=\"gemma3:27b\", role=\"user\", lang='zh')\n",
    "    md_text = markdown.markdown(response.message.content)\n",
    "    Markdown(md_text)\n",
    "    # print(md_text)\n",
    "    # print(response.content)\n"
   ]
  },
  {
   "cell_type": "markdown",
   "id": "a7130886",
   "metadata": {},
   "source": [
    "## DOM Class with pypandoc Integration"
   ]
  },
  {
   "cell_type": "code",
   "execution_count": 14,
   "id": "775311ac",
   "metadata": {},
   "outputs": [],
   "source": [
    "# | export\n",
    "from platform import node\n",
    "\n",
    "\n",
    "class DOM(BaseModel):\n",
    "    # The content of the Markdown document. This can be a string containing Markdown syntax.\n",
    "    raw_markdown: Optional[str] = Field(None, description=\"Raw Markdown content\")\n",
    "    # raw json\n",
    "    raw_json: Optional[str] = Field(None, description=\"Raw JSON content\")\n",
    "    # The json representation of the Markdown AST.\n",
    "    ast_json: Optional[str] = Field(None, description=\"JSON representation of the Markdown AST\")\n",
    "    root_path: Optional[str] = Field(None, description=\"root path of the markdown document, required to get access to the images\")\n",
    "    table_count: int = Field(0, description=\"Number of tables in the Markdown document\")\n",
    "    header_count: int = Field(0, description=\"Number of headers in the Markdown document\")\n",
    "\n",
    "    TextBlock_Types: set[str] = {\n",
    "        \"Plain\",\n",
    "        \"Para\",\n",
    "        \"Figure\",\n",
    "        \"LineBlock\",\"CodeBlock\",\"RawBlock\",\"OrderedList\",\"BulletList\",\"DefinitionList\",\n",
    "        \"Header\",\"BlockQuote\",\n",
    "        \"Table\",\"TableRow\", \"TableCell\"}\n",
    "\n",
    "    NonTextBlock_Types: set[str] = {\"HorizontalRule\", \"Div\", \"Null\"}\n",
    "\n",
    "    Block_Types: set[str] = TextBlock_Types.union(TextBlock_Types)\n",
    "\n",
    "    Inline_Types: set[str] = {\n",
    "        \"Str\", \"Emph\", \"Strong\", \"Strikeout\", \"Superscript\", \"Subscript\",\n",
    "        \"Decimal\", \"Period\",\n",
    "        \"Link\", \n",
    "        \"Image\", \n",
    "        \"Code\", \"Math\", \"RawInline\", \"SoftBreak\",\n",
    "        \"HardBreak\", \"Span\"   \n",
    "    }\n",
    "    \n",
    "    Element_Types: set[str] = Block_Types | Inline_Types\n",
    "\n",
    "    def __init__(self, md_file_path: Path, **data):\n",
    "        \"\"\" Initializes the Markdown object with raw Markdown content.\n",
    "        If content is provided, it will be set as the raw_markdown.\n",
    "        \"\"\"\n",
    "        super().__init__(**data)\n",
    "        content = md_file_path.read_text(encoding=\"utf-8\")\n",
    "        self.root_path = md_file_path.parent\n",
    "        if content:\n",
    "            self.raw_markdown = content\n",
    "            self.raw_json = pypandoc.convert_text(self.raw_markdown, \"json\", \"md\")\n",
    "        else:\n",
    "            self.raw_markdown = None\n",
    "            self.raw_json = None\n",
    "\n",
    "    def to_markdown(self) -> str | None:\n",
    "        return self.raw_markdown\n",
    "\n",
    "    def to_html(self) -> str | None:\n",
    "        if not self.raw_markdown:\n",
    "            return None\n",
    "        # Convert raw Markdown to HTML using pypandoc\n",
    "        return pypandoc.convert_text(self.raw_markdown, \"html\", \"md\")\n",
    "\n",
    "    def to_latex(self) -> str | None:\n",
    "        if not self.raw_markdown:\n",
    "            return None\n",
    "        return pypandoc.convert_text(self.raw_markdown, \"latex\", \"md\")\n",
    "\n",
    "    def to_json(self) -> str | None:\n",
    "        \"\"\" Converts the Markdown content to a JSON representation of its AST.\n",
    "        This uses pypandoc to convert the Markdown content into a JSON format.\n",
    "        \"\"\"\n",
    "        return self.raw_json\n",
    "\n",
    "    def walk(self, action: callable = None) -> None:\n",
    "        \"\"\" Walks through the Markdown AST and applies an action to each node.\n",
    "        If no action is provided, it defaults to the identity function.\n",
    "        \"\"\"\n",
    "        if not self.raw_json:\n",
    "            raise ValueError(\"raw_json content is empty. Cannot walk the AST.\")\n",
    "        if action is None:\n",
    "            action = self.__class__.identity\n",
    "\n",
    "        ast = json.loads(self.raw_json)\n",
    "\n",
    "        def walk_node(node):\n",
    "            node = action(node)\n",
    "            if isinstance(node, dict):\n",
    "                for key, value in node.items():\n",
    "                    if isinstance(value, list):\n",
    "                        node[key] = [\n",
    "                            walk_node(child)\n",
    "                            if isinstance(child, (dict, list))\n",
    "                            else child\n",
    "                            for child in value\n",
    "                        ]\n",
    "                    elif isinstance(value, dict):\n",
    "                        node[key] = walk_node(value)\n",
    "            elif isinstance(node, list):\n",
    "                node = [\n",
    "                    walk_node(child) if isinstance(child, (dict, list)) else child\n",
    "                    for child in node\n",
    "                ]\n",
    "            return node\n",
    "\n",
    "        ast = walk_node(ast)\n",
    "        self.ast_json = json.dumps(ast, ensure_ascii=False).encode(\"utf-8\").decode(\"utf-8\")\n",
    "\n",
    "    def textualize(self, action: callable = None) -> None:\n",
    "        \"\"\" Walks through the Markdown AST and applies an action to each node.\n",
    "        If no action is provided, it defaults to the identity function.\n",
    "        \"\"\"\n",
    "\n",
    "        def get_leaf_summary(node:str) -> str:\n",
    "\n",
    "            # If the string length is less than 200, return the node as is\n",
    "            if len(node) < 200:\n",
    "                return node\n",
    "            # If the node is not an image link, return a summary of the text\n",
    "            response = get_text_summary_response(node, model=\"gemma3:27b\", role=\"user\")\n",
    "            if response.message.content:\n",
    "                return response.message.content\n",
    "            else:\n",
    "                # If the response is empty, return the original node\n",
    "                return node\n",
    "        \n",
    "        def get_list_summary(root: list) -> str:\n",
    "            \"\"\"\n",
    "            Given a list of strings, return a summary of the list.\n",
    "            If the list is empty, return an empty string.\n",
    "            If the list has only one element, return the summary of that element.\n",
    "            If the list has more than one element, return a summary of the concatenated elements.\n",
    "            \"\"\"\n",
    "            list_summary = []\n",
    "            for n in root:\n",
    "                if isinstance(n, str):\n",
    "                    # If the element is a string, get its summary\n",
    "                    summary = get_leaf_summary(n)\n",
    "                elif isinstance(n, int) or isinstance(n, float):\n",
    "                    # If the element is a number, get its summary\n",
    "                    summary = get_leaf_summary(str(n))\n",
    "                elif isinstance(n, dict):\n",
    "                    # If the dict has a 's' key, use it as the summary\n",
    "                    summary = n.get('s', '')\n",
    "                elif isinstance(n, list):\n",
    "                    # If the element is a list, get its summary\n",
    "                    summary = get_list_summary(n)\n",
    "                elif n is None:\n",
    "                    # If the element is None, skip it\n",
    "                    summary = \"\"\n",
    "                else:\n",
    "                    raise ValueError(f\"Unsupported element type: {type(n)} in {n}\")\n",
    "                list_summary.append(summary)\n",
    "                \n",
    "            # Concatenate all elements and summarize\n",
    "            # concatenated = \" \".join(list_summary)\n",
    "            # response = get_text_summary_response(concatenated, model=\"gemma3:27b\", role=\"user\", lang='zh')\n",
    "            # if response.message.content:\n",
    "            #     return response.message.content\n",
    "            # else:\n",
    "            #     # If the response is empty, raise an exception\n",
    "            #     raise ValueError(\"Summary response is empty. Please check the input data.\")\n",
    "            return get_leaf_summary(\" \".join(list_summary))\n",
    "\n",
    "        def summary_node(node: dict | list) -> dict | list:\n",
    "            '''\n",
    "            Given a string node, add key,value pair: node['s'] = node_summary, and return the node \n",
    "            '''\n",
    "            if isinstance(node, dict):\n",
    "                try:\n",
    "                    t = node[\"t\"]\n",
    "                except KeyError:\n",
    "                    raise ValueError(f\"Node does not have a 't' key: {node}\")\n",
    "                if t == \"Image\": # Image summary, the Image node is as defined in the pandoc AST\n",
    "                    summary = []\n",
    "                    summary.append(node['c'][1][0]['c']) # The content of the second element is the image caption\n",
    "                    try:\n",
    "                        # summary.append(node['c'][0])  # The first element are defined to be attributes of the image rendering, i.e. content-irrelevant.\n",
    "                        # If the node is an image, get its link\n",
    "                        image_link = self.root_path / node['c'][2][0]  # Assuming the image link is in the third element of the list\n",
    "                        image_link = str(image_link)\n",
    "                        if image_link and re.match(image_link_pattern, image_link):\n",
    "                            # If the node is an image link, get its summary\n",
    "                            response = get_image_summary_response(image_link, model=\"gemma3:27b\", role=\"user\", lang='zh')\n",
    "                            summary.append(response.message.content)\n",
    "                        else:\n",
    "                            # If the node is not an image link, summarize its content\n",
    "                            raise ValueError(f\"Invalid image link: {image_link}\")\n",
    "                        # Get the summary of the image caption\n",
    "\n",
    "                    except (IndexError, KeyError):\n",
    "                        # Handle cases where the image link is not in the expected format\n",
    "                        raise ValueError(f\"Invalid image node structure: {node}\")\n",
    "                    # The second element is the image title\n",
    "                    summary.append(node['c'][2][1])  # The second element is the image title\n",
    "\n",
    "                    node[\"s\"] = get_text_summary_response(\n",
    "                        \" \".join(summary), model=\"gemma3:27b\", role=\"user\"\n",
    "                    ).message.content\n",
    "\n",
    "                    print(f\"Summarize image: {image_link}\")\n",
    "\n",
    "                else: # TextBlock summary\n",
    "                    dict_summary = []\n",
    "                    for key, value in node.items(): # get summary of the values (content)\n",
    "                        if isinstance(value, list):  # get the summary of the string list\n",
    "                            if value == []:\n",
    "                                # If the list is empty, skip it\n",
    "                                continue\n",
    "                            # If the value is a list, summarize each element\n",
    "                            node[key] = [\n",
    "                                summary_node(child)\n",
    "                                if isinstance(child, (dict,list))\n",
    "                                else child\n",
    "                                for child in value\n",
    "                            ]\n",
    "                            dict_summary.append(get_list_summary(value))\n",
    "                        elif isinstance(value, dict):\n",
    "                            child = summary_node(value)  # insert the value['s']\n",
    "                            assert isinstance(child, dict) and 's' in child, f\"Expected dict with 's' key, got {child}\"\n",
    "                            dict_summary.append(child['s'])\n",
    "\n",
    "                        elif value is None or value == \"\":\n",
    "                            # If the value is None, skip it\n",
    "                            continue\n",
    "                        else:\n",
    "                            if not isinstance(value, str):\n",
    "                                # If the value is not a string, convert it to a string\n",
    "                                value = str(value)\n",
    "                            dict_summary.append(get_leaf_summary(value))\n",
    "                    # get the summary of the node\n",
    "                    if dict_summary:  # type: ignore\n",
    "                        # If there are summaries, concatenate them\n",
    "                        node[\"s\"] = get_leaf_summary(\" \".join(dict_summary))\n",
    "                        # node[\"s\"] = get_text_summary_response(\n",
    "                        #     \" \".join(dict_summary), model=\"gemma3:27b\", role=\"user\", lang='zh'\n",
    "                        # ).message.content\n",
    "                    else:\n",
    "                        # If no summaries, set to empty string\n",
    "                        node[\"s\"] = \"\"\n",
    "\n",
    "                    # if t is table\n",
    "                    if t == \"Table\":\n",
    "                        print(f\"Summarize table: {self.table_count}\")\n",
    "                        self.table_count += 1\n",
    "                    elif t == \"Header\":\n",
    "                        print(f\"Summarize header: {self.header_count} header depth {node['c'][0]}\")\n",
    "                        self.header_count += 1\n",
    "\n",
    "            elif isinstance(node, list):\n",
    "                node = [\n",
    "                    summary_node(child) if isinstance(child, (dict,list)) else child\n",
    "                    for child in node\n",
    "                ]\n",
    "\n",
    "            return node\n",
    "\n",
    "        if not self.raw_json:\n",
    "            raise ValueError(\"raw_json content is empty. Cannot walk the AST and summarize.\")\n",
    "        if action is None:\n",
    "            action = self.__class__.identity\n",
    "        # Start walking the AST and summarizing nodes\n",
    "        ast = json.loads(self.raw_json)\n",
    "        block = ast.get(\"blocks\", [])\n",
    "        block = summary_node(block)\n",
    "        # Convert the summarized AST back to JSON\n",
    "        self.ast_json = json.dumps({\"blocks\": block}, ensure_ascii=False).encode(\"utf-8\").decode(\"utf-8\")\n",
    "\n",
    "    @classmethod\n",
    "    def identity(cls, obj):\n",
    "        \"\"\"Identity function for use in walk.\"\"\"\n",
    "        return obj"
   ]
  },
  {
   "cell_type": "markdown",
   "id": "01f30dc3",
   "metadata": {},
   "source": []
  },
  {
   "cell_type": "code",
   "execution_count": 15,
   "id": "e756760d",
   "metadata": {},
   "outputs": [
    {
     "data": {
      "text/plain": [
       "Path('/d/devel/rag/ribosome/res/siasun_md_sample_hrsl/SX322002')"
      ]
     },
     "execution_count": 15,
     "metadata": {},
     "output_type": "execute_result"
    },
    {
     "data": {
      "text/plain": [
       "'/d/devel/rag/ribosome/nbs'"
      ]
     },
     "execution_count": 15,
     "metadata": {},
     "output_type": "execute_result"
    }
   ],
   "source": [
    "md_file = Path(os.getcwd()).parent / 'res/siasun_md_sample_hrsl/SX322002/SX322002.md'\n",
    "md_file.parent\n",
    "os.getcwd()\n",
    "\n",
    "# md_file\n",
    "dom = DOM(md_file)"
   ]
  },
  {
   "cell_type": "code",
   "execution_count": 16,
   "id": "35cacded",
   "metadata": {},
   "outputs": [
    {
     "name": "stdout",
     "output_type": "stream",
     "text": [
      "Summarize image: /d/devel/rag/ribosome/res/siasun_md_sample_hrsl/SX322002/img/img_0.jpeg\n",
      "Summarize table: 0\n",
      "Summarize table: 1\n",
      "Summarize table: 2\n",
      "Summarize header: 0 header depth 1\n",
      "Summarize header: 1 header depth 2\n",
      "Summarize header: 2 header depth 2\n",
      "Summarize header: 3 header depth 3\n",
      "Summarize image: /d/devel/rag/ribosome/res/siasun_md_sample_hrsl/SX322002/img/1_1.jpeg\n",
      "Summarize header: 4 header depth 3\n",
      "Summarize image: /d/devel/rag/ribosome/res/siasun_md_sample_hrsl/SX322002/img/img_2.png\n",
      "Summarize image: /d/devel/rag/ribosome/res/siasun_md_sample_hrsl/SX322002/img/img_3.png\n",
      "Summarize image: /d/devel/rag/ribosome/res/siasun_md_sample_hrsl/SX322002/img/img_4.png\n",
      "Summarize image: /d/devel/rag/ribosome/res/siasun_md_sample_hrsl/SX322002/img/img_5.png\n",
      "Summarize header: 5 header depth 3\n",
      "Summarize image: /d/devel/rag/ribosome/res/siasun_md_sample_hrsl/SX322002/img/img_6.png\n",
      "Summarize header: 6 header depth 2\n",
      "Summarize table: 3\n",
      "Summarize header: 7 header depth 3\n",
      "Summarize image: /d/devel/rag/ribosome/res/siasun_md_sample_hrsl/SX322002/img/3_7.jpeg\n",
      "Summarize image: /d/devel/rag/ribosome/res/siasun_md_sample_hrsl/SX322002/img/4_8.jpeg\n",
      "Summarize header: 8 header depth 3\n",
      "Summarize header: 9 header depth 3\n",
      "Summarize header: 10 header depth 3\n",
      "Summarize header: 11 header depth 3\n",
      "Summarize header: 12 header depth 3\n",
      "Summarize header: 13 header depth 2\n",
      "Summarize image: /d/devel/rag/ribosome/res/siasun_md_sample_hrsl/SX322002/img/img_9.png\n",
      "Summarize image: /d/devel/rag/ribosome/res/siasun_md_sample_hrsl/SX322002/img/img_10.png\n",
      "Summarize header: 14 header depth 2\n",
      "Summarize header: 15 header depth 2\n",
      "Summarize header: 16 header depth 3\n",
      "Summarize image: /d/devel/rag/ribosome/res/siasun_md_sample_hrsl/SX322002/img/img_11.png\n",
      "Summarize header: 17 header depth 3\n",
      "Summarize table: 4\n"
     ]
    }
   ],
   "source": [
    "dom.textualize()"
   ]
  },
  {
   "cell_type": "code",
   "execution_count": 28,
   "id": "f86f8aac",
   "metadata": {},
   "outputs": [
    {
     "data": {
      "text/plain": [
       "'SX322002.md'"
      ]
     },
     "execution_count": 28,
     "metadata": {},
     "output_type": "execute_result"
    },
    {
     "data": {
      "text/plain": [
       "Path('/d/devel/rag/ribosome/res/siasun_md_sample_hrsl/SX322002/SX322002_semantics.json')"
      ]
     },
     "execution_count": 28,
     "metadata": {},
     "output_type": "execute_result"
    }
   ],
   "source": [
    "md_file.name\n",
    "js_semantics_file = md_file.parent / (str(md_file.stem) + \"_semantics.json\")\n",
    "js_semantics_file"
   ]
  },
  {
   "cell_type": "code",
   "execution_count": 30,
   "id": "1759b18f",
   "metadata": {},
   "outputs": [
    {
     "data": {
      "text/plain": [
       "'{\"blocks\": [{\"t\": \"Figure\", \"c\": [[\"\", [], []], [null, [{\"t\": \"Plain\", \"c\": [{\"t\": \"Str\", \"c\": \"img\", \"s\": \"Str img\"}], \"s\": \"Plain Str img\"}]], [{\"t\": \"Plain\", \"c\": [{\"t\": \"Image\", \"c\": [[\"\", [], []], [{\"t\": \"Str\", \"c\": \"img\"}], [\"img/img_0.jpeg\", \"\"]], \"s\": \"这幅图像展示了四台由SIASUN生产的红色六轴工业机器人。这些机器人具备灵活的运动能力和三维空间中的复杂运动功能，适用于工业自动化应用。虽然图像未提供具体尺寸和负载能力，但可以推断它们具有较大的工作范围。\\\\n\"}], \"s\": \"Plain 这幅图像展示了四台由SIASUN生产的红色六轴工业机器人。这些机器人具备灵活的运动能力和三维空间中的复杂运动功能，适用于工业自动化应用。虽然图像未提供具体尺寸和负载能力，但可以推断它们具有较大的工作范围。\\\\n\"}]], \"s\": \"Figure     Plain Str img Plain 这幅图像展示了四台由SIASUN生产的红色六轴工业机器人。这些机器人具备灵活的运动能力和三维空间中的复杂运动功能，适用于工业自动化应用。虽然图像未提供具体尺寸和负载能力，但可以推断它们具有较大的工作范围。\\\\n\"}, {\"t\": \"Table\", \"c\": [[\"\", [], []], [null, []], [[{\"t\": \"AlignDefault\", \"s\": \"AlignDefault\"}, {\"t\": \"ColWidthDefault\", \"s\": \"ColWidthDefault\"}]], [[\"\", [], []], [[[\"\", [], []], [[[\"\", [], []], {\"t\": \"AlignDefault\", \"s\": \"AlignDefault\"}, 1, 1, [{\"t\": \"Plain\", \"c\": [{\"t\": \"Str\", \"c\": \"S:\", \"s\": \"Str S:\"}, {\"t\": \"RawInline\", \"c\": [\"tex\", \"\\\\\\\\品牌与公共关系部\"], \"s\": \"RawInline tex \\\\\\\\品牌与公共关系部\"}, {\"t\": \"Str\", \"c\": \"\\\\\\\\1.LOGO\", \"s\": \"Str \\\\\\\\1.LOGO\"}, {\"t\": \"RawInline\", \"c\": [\"tex\", \"\\\\\\\\SIASUN\"], \"s\": \"RawInline tex \\\\\\\\SIASUN\"}, {\"t\": \"Str\", \"c\": \"+新松透明底.png\", \"s\": \"Str +新松透明底.png\"}], \"s\": \"Plain Str S: RawInline tex \\\\\\\\品牌与公共关系部 Str \\\\\\\\1.LOGO RawInline tex \\\\\\\\SIASUN Str +新松透明底.png\"}]]]]]], [[[\"\", [], []], 0, [], [[[\"\", [], []], [[[\"\", [], []], {\"t\": \"AlignDefault\", \"s\": \"AlignDefault\"}, 1, 1, [{\"t\": \"Plain\", \"c\": [{\"t\": \"Str\", \"c\": \"新松机器人码垛应用操作手册\", \"s\": \"Str 新松机器人码垛应用操作手册\"}], \"s\": \"Plain Str 新松机器人码垛应用操作手册\"}]]]], [[\"\", [], []], [[[\"\", [], []], {\"t\": \"AlignDefault\", \"s\": \"AlignDefault\"}, 1, 1, [{\"t\": \"Plain\", \"c\": [{\"t\": \"Str\", \"c\": \"工业机器人\", \"s\": \"Str 工业机器人\"}, {\"t\": \"Space\", \"s\": \"Space\"}, {\"t\": \"Str\", \"c\": \"技术资料\", \"s\": \"Str 技术资料\"}], \"s\": \"Plain Str 工业机器人 Space Str 技术资料\"}]]]]]]], [[\"\", [], []], []]], \"s\": \"这是一份**新松机器人码垛应用操作手册的技术文档**，包含**品牌信息(LOGO及SIASUN)**、**图像(新松透明底.png)**以及**文档排版设置**。\\\\n\"}, {\"t\": \"Table\", \"c\": [[\"\", [], []], [null, []], [[{\"t\": \"AlignDefault\", \"s\": \"AlignDefault\"}, {\"t\": \"ColWidthDefault\", \"s\": \"ColWidthDefault\"}]], [[\"\", [], []], []], [[[\"\", [], []], 0, [], []]], [[\"\", [], []], []]], \"s\": \"Table      AlignDefault ColWidthDefault        0      \"}, {\"t\": \"Para\", \"c\": [{\"t\": \"Str\", \"c\": \"文件历次修订记录\", \"s\": \"Str 文件历次修订记录\"}], \"s\": \"Para Str 文件历次修订记录\"}, {\"t\": \"Table\", \"c\": [[\"\", [], []], [null, []], [[{\"t\": \"AlignDefault\", \"s\": \"AlignDefault\"}, {\"t\": \"ColWidthDefault\", \"s\": \"ColWidthDefault\"}], [{\"t\": \"AlignDefault\", \"s\": \"AlignDefault\"}, {\"t\": \"ColWidthDefault\", \"s\": \"ColWidthDefault\"}], [{\"t\": \"AlignDefault\", \"s\": \"AlignDefault\"}, {\"t\": \"ColWidthDefault\", \"s\": \"ColWidthDefault\"}], [{\"t\": \"AlignDefault\", \"s\": \"AlignDefault\"}, {\"t\": \"ColWidthDefault\", \"s\": \"ColWidthDefault\"}]], [[\"\", [], []], [[[\"\", [], []], [[[\"\", [], []], {\"t\": \"AlignDefault\", \"s\": \"AlignDefault\"}, 1, 1, [{\"t\": \"Plain\", \"c\": [{\"t\": \"Strong\", \"c\": [{\"t\": \"Str\", \"c\": \"文件版本\", \"s\": \"Str 文件版本\"}], \"s\": \"Strong Str 文件版本\"}], \"s\": \"Plain Strong Str 文件版本\"}]], [[\"\", [], []], {\"t\": \"AlignDefault\", \"s\": \"AlignDefault\"}, 1, 1, [{\"t\": \"Plain\", \"c\": [{\"t\": \"Strong\", \"c\": [{\"t\": \"Str\", \"c\": \"修订日期\", \"s\": \"Str 修订日期\"}], \"s\": \"Strong Str 修订日期\"}], \"s\": \"Plain Strong Str 修订日期\"}]], [[\"\", [], []], {\"t\": \"AlignDefault\", \"s\": \"AlignDefault\"}, 1, 1, [{\"t\": \"Plain\", \"c\": [{\"t\": \"Strong\", \"c\": [{\"t\": \"Str\", \"c\": \"修订人\", \"s\": \"Str 修订人\"}], \"s\": \"Strong Str 修订人\"}], \"s\": \"Plain Strong Str 修订人\"}]], [[\"\", [], []], {\"t\": \"AlignDefault\", \"s\": \"AlignDefault\"}, 1, 1, [{\"t\": \"Plain\", \"c\": [{\"t\": \"Strong\", \"c\": [{\"t\": \"Str\", \"c\": \"主要变化\", \"s\": \"Str 主要变化\"}], \"s\": \"Strong Str 主要变化\"}], \"s\": \"Plain Strong Str 主要变化\"}]]]]]], [[[\"\", [], []], 0, [], [[[\"\", [], []], [[[\"\", [], []], {\"t\": \"AlignDefault\", \"s\": \"AlignDefault\"}, 1, 1, [{\"t\": \"Plain\", \"c\": [{\"t\": \"Str\", \"c\": \"V1.0\", \"s\": \"Str V1.0\"}], \"s\": \"Plain Str V1.0\"}]], [[\"\", [], []], {\"t\": \"AlignDefault\", \"s\": \"AlignDefault\"}, 1, 1, [{\"t\": \"Plain\", \"c\": [{\"t\": \"Str\", \"c\": \"2024年4月7日\", \"s\": \"Str 2024年4月7日\"}], \"s\": \"Plain Str 2024年4月7日\"}]], [[\"\", [], []], {\"t\": \"AlignDefault\", \"s\": \"AlignDefault\"}, 1, 1, [{\"t\": \"Plain\", \"c\": [{\"t\": \"Str\", \"c\": \"沙景超\", \"s\": \"Str 沙景超\"}], \"s\": \"Plain Str 沙景超\"}]], [[\"\", [], []], {\"t\": \"AlignDefault\", \"s\": \"AlignDefault\"}, 1, 1, [{\"t\": \"Plain\", \"c\": [{\"t\": \"Str\", \"c\": \"初版创建。\", \"s\": \"Str 初版创建。\"}], \"s\": \"Plain Str 初版创建。\"}]]]], [[\"\", [], []], [[[\"\", [], []], {\"t\": \"AlignDefault\", \"s\": \"AlignDefault\"}, 1, 1, []], [[\"\", [], []], {\"t\": \"AlignDefault\", \"s\": \"AlignDefault\"}, 1, 1, []], [[\"\", [], []], {\"t\": \"AlignDefault\", \"s\": \"AlignDefault\"}, 1, 1, []], [[\"\", [], []], {\"t\": \"AlignDefault\", \"s\": \"AlignDefault\"}, 1, 1, []]]], [[\"\", [], []], [[[\"\", [], []], {\"t\": \"AlignDefault\", \"s\": \"AlignDefault\"}, 1, 1, []], [[\"\", [], []], {\"t\": \"AlignDefault\", \"s\": \"AlignDefault\"}, 1, 1, []], [[\"\", [], []], {\"t\": \"AlignDefault\", \"s\": \"AlignDefault\"}, 1, 1, []], [[\"\", [], []], {\"t\": \"AlignDefault\", \"s\": \"AlignDefault\"}, 1, 1, []]]], [[\"\", [], []], [[[\"\", [], []], {\"t\": \"AlignDefault\", \"s\": \"AlignDefault\"}, 1, 1, []], [[\"\", [], []], {\"t\": \"AlignDefault\", \"s\": \"AlignDefault\"}, 1, 1, []], [[\"\", [], []], {\"t\": \"AlignDefault\", \"s\": \"AlignDefault\"}, 1, 1, []], [[\"\", [], []], {\"t\": \"AlignDefault\", \"s\": \"AlignDefault\"}, 1, 1, []]]], [[\"\", [], []], [[[\"\", [], []], {\"t\": \"AlignDefault\", \"s\": \"AlignDefault\"}, 1, 1, []], [[\"\", [], []], {\"t\": \"AlignDefault\", \"s\": \"AlignDefault\"}, 1, 1, []], [[\"\", [], []], {\"t\": \"AlignDefault\", \"s\": \"AlignDefault\"}, 1, 1, []], [[\"\", [], []], {\"t\": \"AlignDefault\", \"s\": \"AlignDefault\"}, 1, 1, []]]], [[\"\", [], []], [[[\"\", [], []], {\"t\": \"AlignDefault\", \"s\": \"AlignDefault\"}, 1, 1, []], [[\"\", [], []], {\"t\": \"AlignDefault\", \"s\": \"AlignDefault\"}, 1, 1, []], [[\"\", [], []], {\"t\": \"AlignDefault\", \"s\": \"AlignDefault\"}, 1, 1, []], [[\"\", [], []], {\"t\": \"AlignDefault\", \"s\": \"AlignDefault\"}, 1, 1, []]]]]]], [[\"\", [], []], []]], \"s\": \"Table 该字符串描述了一个名为“AlignDefault”的项目/配置，版本号为V1.0，创建日期为2024年4月7日，作者为沙景超。重复出现的“AlignDefault 1 1”可能表示配置状态确认或记录。\\\\n\"}, {\"t\": \"Para\", \"c\": [{\"t\": \"Str\", \"c\": \"目录\", \"s\": \"Str 目录\"}], \"s\": \"Para Str 目录\"}, {\"t\": \"Para\", \"c\": [{\"t\": \"Link\", \"c\": [[\"\", [], []], [{\"t\": \"Str\", \"c\": \"文件历次修订记录\", \"s\": \"Str 文件历次修订记录\"}, {\"t\": \"Space\", \"s\": \"Space\"}, {\"t\": \"Str\", \"c\": \"1\", \"s\": \"Str 1\"}], [\"#_Toc163461914\", \"\"]], \"s\": \"Link    Str 文件历次修订记录 Space Str 1 #_Toc163461914 \"}], \"s\": \"Para Link    Str 文件历次修订记录 Space Str 1 #_Toc163461914 \"}, {\"t\": \"Para\", \"c\": [{\"t\": \"Link\", \"c\": [[\"\", [], []], [{\"t\": \"Str\", \"c\": \"1\", \"s\": \"Str 1\"}, {\"t\": \"Space\", \"s\": \"Space\"}, {\"t\": \"Str\", \"c\": \"码垛操作\", \"s\": \"Str 码垛操作\"}, {\"t\": \"Space\", \"s\": \"Space\"}, {\"t\": \"Str\", \"c\": \"1\", \"s\": \"Str 1\"}], [\"#_Toc163461915\", \"\"]], \"s\": \"Link    Str 1 Space Str 码垛操作 Space Str 1 #_Toc163461915 \"}], \"s\": \"Para Link    Str 1 Space Str 码垛操作 Space Str 1 #_Toc163461915 \"}, {\"t\": \"Para\", \"c\": [{\"t\": \"Link\", \"c\": [[\"\", [], []], [{\"t\": \"Strong\", \"c\": [{\"t\": \"Str\", \"c\": \"1.1\", \"s\": \"Str 1.1\"}], \"s\": \"Strong Str 1.1\"}, {\"t\": \"Space\", \"s\": \"Space\"}, {\"t\": \"Str\", \"c\": \"码垛功能介绍\", \"s\": \"Str 码垛功能介绍\"}, {\"t\": \"Space\", \"s\": \"Space\"}, {\"t\": \"Str\", \"c\": \"1\", \"s\": \"Str 1\"}], [\"#_Toc163461916\", \"\"]], \"s\": \"Link    Strong Str 1.1 Space Str 码垛功能介绍 Space Str 1 #_Toc163461916 \"}], \"s\": \"Para Link    Strong Str 1.1 Space Str 码垛功能介绍 Space Str 1 #_Toc163461916 \"}, {\"t\": \"Para\", \"c\": [{\"t\": \"Link\", \"c\": [[\"\", [], []], [{\"t\": \"Strong\", \"c\": [{\"t\": \"Str\", \"c\": \"1.2\", \"s\": \"Str 1.2\"}], \"s\": \"Strong Str 1.2\"}, {\"t\": \"Space\", \"s\": \"Space\"}, {\"t\": \"Str\", \"c\": \"码垛配置\", \"s\": \"Str 码垛配置\"}, {\"t\": \"Space\", \"s\": \"Space\"}, {\"t\": \"Str\", \"c\": \"1\", \"s\": \"Str 1\"}], [\"#_Toc163461917\", \"\"]], \"s\": \"Link    Strong Str 1.2 Space Str 码垛配置 Space Str 1 #_Toc163461917 \"}], \"s\": \"Para Link    Strong Str 1.2 Space Str 码垛配置 Space Str 1 #_Toc163461917 \"}, {\"t\": \"Para\", \"c\": [{\"t\": \"Link\", \"c\": [[\"\", [], []], [{\"t\": \"Strong\", \"c\": [{\"t\": \"Str\", \"c\": \"1.2.1\", \"s\": \"Str 1.2.1\"}], \"s\": \"Strong Str 1.2.1\"}, {\"t\": \"Space\", \"s\": \"Space\"}, {\"t\": \"Str\", \"c\": \"用户坐标系配置\", \"s\": \"Str 用户坐标系配置\"}, {\"t\": \"Space\", \"s\": \"Space\"}, {\"t\": \"Str\", \"c\": \"1\", \"s\": \"Str 1\"}], [\"#_Toc163461918\", \"\"]], \"s\": \"Link    Strong Str 1.2.1 Space Str 用户坐标系配置 Space Str 1 #_Toc163461918 \"}], \"s\": \"Para Link    Strong Str 1.2.1 Space Str 用户坐标系配置 Space Str 1 #_Toc163461918 \"}, {\"t\": \"Para\", \"c\": [{\"t\": \"Link\", \"c\": [[\"\", [], []], [{\"t\": \"Strong\", \"c\": [{\"t\": \"Str\", \"c\": \"1.2.2\", \"s\": \"Str 1.2.2\"}], \"s\": \"Strong Str 1.2.2\"}, {\"t\": \"Space\", \"s\": \"Space\"}, {\"t\": \"Str\", \"c\": \"码垛属性文件配置\", \"s\": \"Str 码垛属性文件配置\"}, {\"t\": \"Space\", \"s\": \"Space\"}, {\"t\": \"Str\", \"c\": \"1\", \"s\": \"Str 1\"}], [\"#_Toc163461919\", \"\"]], \"s\": \"Link    Strong Str 1.2.2 Space Str 码垛属性文件配置 Space Str 1 #_Toc163461919 \"}], \"s\": \"Para Link    Strong Str 1.2.2 Space Str 码垛属性文件配置 Space Str 1 #_Toc163461919 \"}, {\"t\": \"Para\", \"c\": [{\"t\": \"Link\", \"c\": [[\"\", [], []], [{\"t\": \"Strong\", \"c\": [{\"t\": \"Str\", \"c\": \"1.2.3\", \"s\": \"Str 1.2.3\"}], \"s\": \"Strong Str 1.2.3\"}, {\"t\": \"Space\", \"s\": \"Space\"}, {\"t\": \"Str\", \"c\": \"计数器设置\", \"s\": \"Str 计数器设置\"}, {\"t\": \"Space\", \"s\": \"Space\"}, {\"t\": \"Str\", \"c\": \"4\", \"s\": \"Str 4\"}], [\"#_Toc163461920\", \"\"]], \"s\": \"Link    Strong Str 1.2.3 Space Str 计数器设置 Space Str 4 #_Toc163461920 \"}], \"s\": \"Para Link    Strong Str 1.2.3 Space Str 计数器设置 Space Str 4 #_Toc163461920 \"}, {\"t\": \"Para\", \"c\": [{\"t\": \"Link\", \"c\": [[\"\", [], []], [{\"t\": \"Strong\", \"c\": [{\"t\": \"Str\", \"c\": \"1.3\", \"s\": \"Str 1.3\"}], \"s\": \"Strong Str 1.3\"}, {\"t\": \"Space\", \"s\": \"Space\"}, {\"t\": \"Str\", \"c\": \"码垛指令\", \"s\": \"Str 码垛指令\"}, {\"t\": \"Space\", \"s\": \"Space\"}, {\"t\": \"Str\", \"c\": \"6\", \"s\": \"Str 6\"}], [\"#_Toc163461921\", \"\"]], \"s\": \"Link    Strong Str 1.3 Space Str 码垛指令 Space Str 6 #_Toc163461921 \"}], \"s\": \"Para Link    Strong Str 1.3 Space Str 码垛指令 Space Str 6 #_Toc163461921 \"}, {\"t\": \"Para\", \"c\": [{\"t\": \"Link\", \"c\": [[\"\", [], []], [{\"t\": \"Strong\", \"c\": [{\"t\": \"Str\", \"c\": \"1.3.1\", \"s\": \"Str 1.3.1\"}], \"s\": \"Strong Str 1.3.1\"}, {\"t\": \"Space\", \"s\": \"Space\"}, {\"t\": \"Str\", \"c\": \"PAL\", \"s\": \"Str PAL\"}, {\"t\": \"Space\", \"s\": \"Space\"}, {\"t\": \"Str\", \"c\": \"S指令中的模式含义\", \"s\": \"Str S指令中的模式含义\"}, {\"t\": \"Space\", \"s\": \"Space\"}, {\"t\": \"Str\", \"c\": \"7\", \"s\": \"Str 7\"}], [\"#_Toc163461922\", \"\"]], \"s\": \"Link    Strong Str 1.3.1 Space Str PAL Space Str S指令中的模式含义 Space Str 7 #_Toc163461922 \"}], \"s\": \"Para Link    Strong Str 1.3.1 Space Str PAL Space Str S指令中的模式含义 Space Str 7 #_Toc163461922 \"}, {\"t\": \"Para\", \"c\": [{\"t\": \"Link\", \"c\": [[\"\", [], []], [{\"t\": \"Strong\", \"c\": [{\"t\": \"Str\", \"c\": \"1.3.2\", \"s\": \"Str 1.3.2\"}], \"s\": \"Strong Str 1.3.2\"}, {\"t\": \"Space\", \"s\": \"Space\"}, {\"t\": \"Str\", \"c\": \"PAL\", \"s\": \"Str PAL\"}, {\"t\": \"Space\", \"s\": \"Space\"}, {\"t\": \"Str\", \"c\": \"L&PAL\", \"s\": \"Str L&PAL\"}, {\"t\": \"Space\", \"s\": \"Space\"}, {\"t\": \"Str\", \"c\": \"J指令说明\", \"s\": \"Str J指令说明\"}, {\"t\": \"Space\", \"s\": \"Space\"}, {\"t\": \"Str\", \"c\": \"8\", \"s\": \"Str 8\"}], [\"#_Toc163461923\", \"\"]], \"s\": \"Link    Strong Str 1.3.2 Space Str PAL Space Str L&PAL Space Str J指令说明 Space Str 8 #_Toc163461923 \"}], \"s\": \"Para Link    Strong Str 1.3.2 Space Str PAL Space Str L&PAL Space Str J指令说明 Space Str 8 #_Toc163461923 \"}, {\"t\": \"Para\", \"c\": [{\"t\": \"Link\", \"c\": [[\"\", [], []], [{\"t\": \"Strong\", \"c\": [{\"t\": \"Str\", \"c\": \"1.3.3\", \"s\": \"Str 1.3.3\"}], \"s\": \"Strong Str 1.3.3\"}, {\"t\": \"Space\", \"s\": \"Space\"}, {\"t\": \"Str\", \"c\": \"PAL\", \"s\": \"Str PAL\"}, {\"t\": \"Space\", \"s\": \"Space\"}, {\"t\": \"Str\", \"c\": \"R指令\", \"s\": \"Str R指令\"}, {\"t\": \"Space\", \"s\": \"Space\"}, {\"t\": \"Str\", \"c\": \"8\", \"s\": \"Str 8\"}], [\"#_Toc163461924\", \"\"]], \"s\": \"Link    Strong Str 1.3.3 Space Str PAL Space Str R指令 Space Str 8 #_Toc163461924 \"}], \"s\": \"Para Link    Strong Str 1.3.3 Space Str PAL Space Str R指令 Space Str 8 #_Toc163461924 \"}, {\"t\": \"Para\", \"c\": [{\"t\": \"Link\", \"c\": [[\"\", [], []], [{\"t\": \"Strong\", \"c\": [{\"t\": \"Str\", \"c\": \"1.3.4\", \"s\": \"Str 1.3.4\"}], \"s\": \"Strong Str 1.3.4\"}, {\"t\": \"Space\", \"s\": \"Space\"}, {\"t\": \"Str\", \"c\": \"PAL\", \"s\": \"Str PAL\"}, {\"t\": \"Space\", \"s\": \"Space\"}, {\"t\": \"Str\", \"c\": \"E指令\", \"s\": \"Str E指令\"}, {\"t\": \"Space\", \"s\": \"Space\"}, {\"t\": \"Str\", \"c\": \"8\", \"s\": \"Str 8\"}], [\"#_Toc163461925\", \"\"]], \"s\": \"Link    Strong Str 1.3.4 Space Str PAL Space Str E指令 Space Str 8 #_Toc163461925 \"}], \"s\": \"Para Link    Strong Str 1.3.4 Space Str PAL Space Str E指令 Space Str 8 #_Toc163461925 \"}, {\"t\": \"Para\", \"c\": [{\"t\": \"Link\", \"c\": [[\"\", [], []], [{\"t\": \"Strong\", \"c\": [{\"t\": \"Str\", \"c\": \"1.3.5\", \"s\": \"Str 1.3.5\"}], \"s\": \"Strong Str 1.3.5\"}, {\"t\": \"Space\", \"s\": \"Space\"}, {\"t\": \"Str\", \"c\": \"PR指令\", \"s\": \"Str PR指令\"}, {\"t\": \"Space\", \"s\": \"Space\"}, {\"t\": \"Str\", \"c\": \"9\", \"s\": \"Str 9\"}], [\"#_Toc163461926\", \"\"]], \"s\": \"Link    Strong Str 1.3.5 Space Str PR指令 Space Str 9 #_Toc163461926 \"}], \"s\": \"Para Link    Strong Str 1.3.5 Space Str PR指令 Space Str 9 #_Toc163461926 \"}, {\"t\": \"Para\", \"c\": [{\"t\": \"Link\", \"c\": [[\"\", [], []], [{\"t\": \"Strong\", \"c\": [{\"t\": \"Str\", \"c\": \"1.3.6\", \"s\": \"Str 1.3.6\"}], \"s\": \"Strong Str 1.3.6\"}, {\"t\": \"Space\", \"s\": \"Space\"}, {\"t\": \"Str\", \"c\": \"IF\", \"s\": \"Str IF\"}, {\"t\": \"Space\", \"s\": \"Space\"}, {\"t\": \"Str\", \"c\": \"PR指令\", \"s\": \"Str PR指令\"}, {\"t\": \"Space\", \"s\": \"Space\"}, {\"t\": \"Str\", \"c\": \"9\", \"s\": \"Str 9\"}], [\"#_Toc163461927\", \"\"]], \"s\": \"Link    Strong Str 1.3.6 Space Str IF Space Str PR指令 Space Str 9 #_Toc163461927 \"}], \"s\": \"Para Link    Strong Str 1.3.6 Space Str IF Space Str PR指令 Space Str 9 #_Toc163461927 \"}, {\"t\": \"Para\", \"c\": [{\"t\": \"Link\", \"c\": [[\"\", [], []], [{\"t\": \"Strong\", \"c\": [{\"t\": \"Str\", \"c\": \"1.4\", \"s\": \"Str 1.4\"}], \"s\": \"Strong Str 1.4\"}, {\"t\": \"Space\", \"s\": \"Space\"}, {\"t\": \"Str\", \"c\": \"码垛指令在RC界面中的位置的位置\", \"s\": \"Str 码垛指令在RC界面中的位置的位置\"}, {\"t\": \"Space\", \"s\": \"Space\"}, {\"t\": \"Str\", \"c\": \"9\", \"s\": \"Str 9\"}], [\"#_Toc163461928\", \"\"]], \"s\": \"Link    Strong Str 1.4 Space Str 码垛指令在RC界面中的位置的位置 Space Str 9 #_Toc163461928 \"}], \"s\": \"Para Link    Strong Str 1.4 Space Str 码垛指令在RC界面中的位置的位置 Space Str 9 #_Toc163461928 \"}, {\"t\": \"Para\", \"c\": [{\"t\": \"Link\", \"c\": [[\"\", [], []], [{\"t\": \"Strong\", \"c\": [{\"t\": \"Str\", \"c\": \"1.5\", \"s\": \"Str 1.5\"}], \"s\": \"Strong Str 1.5\"}, {\"t\": \"Space\", \"s\": \"Space\"}, {\"t\": \"Str\", \"c\": \"码垛指令使用注意事项\", \"s\": \"Str 码垛指令使用注意事项\"}, {\"t\": \"Space\", \"s\": \"Space\"}, {\"t\": \"Str\", \"c\": \"10\", \"s\": \"Str 10\"}], [\"#_Toc163461929\", \"\"]], \"s\": \"Link    Strong Str 1.5 Space Str 码垛指令使用注意事项 Space Str 10 #_Toc163461929 \"}], \"s\": \"Para Link    Strong Str 1.5 Space Str 码垛指令使用注意事项 Space Str 10 #_Toc163461929 \"}, {\"t\": \"Para\", \"c\": [{\"t\": \"Link\", \"c\": [[\"\", [], []], [{\"t\": \"Strong\", \"c\": [{\"t\": \"Str\", \"c\": \"1.6\", \"s\": \"Str 1.6\"}], \"s\": \"Strong Str 1.6\"}, {\"t\": \"Space\", \"s\": \"Space\"}, {\"t\": \"Str\", \"c\": \"码垛实例\", \"s\": \"Str 码垛实例\"}, {\"t\": \"Space\", \"s\": \"Space\"}, {\"t\": \"Str\", \"c\": \"11\", \"s\": \"Str 11\"}], [\"#_Toc163461930\", \"\"]], \"s\": \"Link    Strong Str 1.6 Space Str 码垛实例 Space Str 11 #_Toc163461930 \"}], \"s\": \"Para Link    Strong Str 1.6 Space Str 码垛实例 Space Str 11 #_Toc163461930 \"}, {\"t\": \"Para\", \"c\": [{\"t\": \"Link\", \"c\": [[\"\", [], []], [{\"t\": \"Strong\", \"c\": [{\"t\": \"Str\", \"c\": \"1.6.1\", \"s\": \"Str 1.6.1\"}], \"s\": \"Strong Str 1.6.1\"}, {\"t\": \"Space\", \"s\": \"Space\"}, {\"t\": \"Str\", \"c\": \"码垛三个托盘的工件实例\", \"s\": \"Str 码垛三个托盘的工件实例\"}, {\"t\": \"Space\", \"s\": \"Space\"}, {\"t\": \"Str\", \"c\": \"11\", \"s\": \"Str 11\"}], [\"#_Toc163461931\", \"\"]], \"s\": \"Link    Strong Str 1.6.1 Space Str 码垛三个托盘的工件实例 Space Str 11 #_Toc163461931 \"}], \"s\": \"Para Link    Strong Str 1.6.1 Space Str 码垛三个托盘的工件实例 Space Str 11 #_Toc163461931 \"}, {\"t\": \"Para\", \"c\": [{\"t\": \"Link\", \"c\": [[\"\", [], []], [{\"t\": \"Strong\", \"c\": [{\"t\": \"Str\", \"c\": \"1.6.2\", \"s\": \"Str 1.6.2\"}], \"s\": \"Strong Str 1.6.2\"}, {\"t\": \"Space\", \"s\": \"Space\"}, {\"t\": \"Str\", \"c\": \"码垛作业\", \"s\": \"Str 码垛作业\"}, {\"t\": \"Space\", \"s\": \"Space\"}, {\"t\": \"Str\", \"c\": \"11\", \"s\": \"Str 11\"}], [\"#_Toc163461932\", \"\"]], \"s\": \"Link    Strong Str 1.6.2 Space Str 码垛作业 Space Str 11 #_Toc163461932 \"}], \"s\": \"Para Link    Strong Str 1.6.2 Space Str 码垛作业 Space Str 11 #_Toc163461932 \"}, {\"t\": \"Header\", \"c\": [1, [\"码垛操作\", [], []], [{\"t\": \"Str\", \"c\": \"码垛操作\", \"s\": \"Str 码垛操作\"}]], \"s\": \"Header 1 码垛操作   Str 码垛操作\"}, {\"t\": \"Para\", \"c\": [{\"t\": \"Str\", \"c\": \"本部分操作适合新松提供的码垛软件功能模块，客户在购买机器人时选择配置。\", \"s\": \"Str 本部分操作适合新松提供的码垛软件功能模块，客户在购买机器人时选择配置。\"}], \"s\": \"Para Str 本部分操作适合新松提供的码垛软件功能模块，客户在购买机器人时选择配置。\"}, {\"t\": \"Header\", \"c\": [2, [\"码垛功能介绍\", [], []], [{\"t\": \"Str\", \"c\": \"码垛功能介绍\", \"s\": \"Str 码垛功能介绍\"}]], \"s\": \"Header 2 码垛功能介绍   Str 码垛功能介绍\"}, {\"t\": \"Para\", \"c\": [{\"t\": \"Str\", \"c\": \"码垛机器人提供快捷的码垛操作，客户可通过配置码垛的行列等属性利用码垛指令进行方便快捷的操作。\", \"s\": \"Str 码垛机器人提供快捷的码垛操作，客户可通过配置码垛的行列等属性利用码垛指令进行方便快捷的操作。\"}], \"s\": \"Para Str 码垛机器人提供快捷的码垛操作，客户可通过配置码垛的行列等属性利用码垛指令进行方便快捷的操作。\"}, {\"t\": \"Header\", \"c\": [2, [\"码垛配置\", [], []], [{\"t\": \"Str\", \"c\": \"码垛配置\", \"s\": \"Str 码垛配置\"}]], \"s\": \"Header 2 码垛配置   Str 码垛配置\"}, {\"t\": \"Header\", \"c\": [3, [\"用户坐标系配置\", [], []], [{\"t\": \"Str\", \"c\": \"用户坐标系配置\", \"s\": \"Str 用户坐标系配置\"}]], \"s\": \"Header 3 用户坐标系配置   Str 用户坐标系配置\"}, {\"t\": \"Para\", \"c\": [{\"t\": \"Str\", \"c\": \"用户坐标系配置是码垛功能的基础，码垛配置中的行码垛和列码垛就是参照用户坐标的X、Y方向进行定义的，码垛的动作是相对用户坐标系中的位移运动，所以在进行码垛位置示教前需要标定用户坐标系。\", \"s\": \"Str 用户坐标系配置是码垛功能的基础，码垛配置中的行码垛和列码垛就是参照用户坐标的X、Y方向进行定义的，码垛的动作是相对用户坐标系中的位移运动，所以在进行码垛位置示教前需要标定用户坐标系。\"}], \"s\": \"Para Str 用户坐标系配置是码垛功能的基础，码垛配置中的行码垛和列码垛就是参照用户坐标的X、Y方向进行定义的，码垛的动作是相对用户坐标系中的位移运动，所以在进行码垛位置示教前需要标定用户坐标系。\"}, {\"t\": \"Para\", \"c\": [{\"t\": \"Str\", \"c\": \"用户坐标系通常设定在托盘上平面的一角，标定的方法使用3点法，第一点确定用户坐标系的原点，第二点确定用户坐标系的X轴方向，第三点确定Y轴方向，Z轴方向由右手定则确定。\", \"s\": \"Str 用户坐标系通常设定在托盘上平面的一角，标定的方法使用3点法，第一点确定用户坐标系的原点，第二点确定用户坐标系的X轴方向，第三点确定Y轴方向，Z轴方向由右手定则确定。\"}], \"s\": \"Para Str 用户坐标系通常设定在托盘上平面的一角，标定的方法使用3点法，第一点确定用户坐标系的原点，第二点确定用户坐标系的X轴方向，第三点确定Y轴方向，Z轴方向由右手定则确定。\"}, {\"t\": \"Figure\", \"c\": [[\"\", [], []], [null, [{\"t\": \"Plain\", \"c\": [{\"t\": \"Str\", \"c\": \"1\", \"s\": \"Str 1\"}], \"s\": \"Plain Str 1\"}]], [{\"t\": \"Plain\", \"c\": [{\"t\": \"Image\", \"c\": [[\"\", [], []], [{\"t\": \"Str\", \"c\": \"1\"}], [\"img/1_1.jpeg\", \"\"]], \"s\": \"该图像展示了一个包含两个工作台（A和B）的机器人工作站，机器人机械臂可在其中执行四个工作步骤。虽然图示显示机器人具备至少3个自由度，并涉及用户坐标系和机器人自身坐标系，但具体机械臂尺寸和自由度数量等详细信息未在图像中给出。总体来说，图像展示了工作站布局和机械臂的移动范围。\\\\n\"}], \"s\": \"Plain 该图像展示了一个包含两个工作台（A和B）的机器人工作站，机器人机械臂可在其中执行四个工作步骤。虽然图示显示机器人具备至少3个自由度，并涉及用户坐标系和机器人自身坐标系，但具体机械臂尺寸和自由度数量等详细信息未在图像中给出。总体来说，图像展示了工作站布局和机械臂的移动范围。\\\\n\"}]], \"s\": \"Figure     Plain Str 1 Plain 该图像展示了一个包含两个工作台（A和B）的机器人工作站，机器人机械臂可在其中执行四个工作步骤。虽然图示显示机器人具备至少3个自由度，并涉及用户坐标系和机器人自身坐标系，但具体机械臂尺寸和自由度数量等详细信息未在图像中给出。总体来说，图像展示了工作站布局和机械臂的移动范围。\\\\n\"}, {\"t\": \"Para\", \"c\": [{\"t\": \"Str\", \"c\": \"图1-1\", \"s\": \"Str 图1-1\"}, {\"t\": \"Space\", \"s\": \"Space\"}, {\"t\": \"Str\", \"c\": \"用户坐标系的标定\", \"s\": \"Str 用户坐标系的标定\"}], \"s\": \"Para Str 图1-1 Space Str 用户坐标系的标定\"}, {\"t\": \"Header\", \"c\": [3, [\"码垛属性文件配置\", [], []], [{\"t\": \"Str\", \"c\": \"码垛属性文件配置\", \"s\": \"Str 码垛属性文件配置\"}]], \"s\": \"Header 3 码垛属性文件配置   Str 码垛属性文件配置\"}, {\"t\": \"Para\", \"c\": [{\"t\": \"Str\", \"c\": \"新松码垛机器人支持8个码垛设置文件，码垛设置（配置托盘属性）界面如下：\", \"s\": \"Str 新松码垛机器人支持8个码垛设置文件，码垛设置（配置托盘属性）界面如下：\"}], \"s\": \"Para Str 新松码垛机器人支持8个码垛设置文件，码垛设置（配置托盘属性）界面如下：\"}, {\"t\": \"Figure\", \"c\": [[\"\", [], []], [null, [{\"t\": \"Plain\", \"c\": [{\"t\": \"Str\", \"c\": \"img\", \"s\": \"Str img\"}], \"s\": \"Plain Str img\"}]], [{\"t\": \"Plain\", \"c\": [{\"t\": \"Image\", \"c\": [[\"\", [], []], [{\"t\": \"Str\", \"c\": \"img\"}], [\"img/img_2.png\", \"\"]], \"s\": \"该截图展示了一个机器人控制界面，配置为处理单个工件。目前机器人运动范围设置为零，需要进一步配置。图片中未显示机器人的自由度信息。\\\\n\"}], \"s\": \"Plain 该截图展示了一个机器人控制界面，配置为处理单个工件。目前机器人运动范围设置为零，需要进一步配置。图片中未显示机器人的自由度信息。\\\\n\"}]], \"s\": \"Figure     Plain Str img Plain 该截图展示了一个机器人控制界面，配置为处理单个工件。目前机器人运动范围设置为零，需要进一步配置。图片中未显示机器人的自由度信息。\\\\n\"}, {\"t\": \"Para\", \"c\": [{\"t\": \"Str\", \"c\": \"图1-2码垛设置界面\", \"s\": \"Str 图1-2码垛设置界面\"}], \"s\": \"Para Str 图1-2码垛设置界面\"}, {\"t\": \"OrderedList\", \"c\": [[1, {\"t\": \"Decimal\", \"s\": \"Decimal\"}, {\"t\": \"Period\", \"s\": \"Period\"}], [[{\"t\": \"Plain\", \"c\": [{\"t\": \"Str\", \"c\": \"工件总数：该托盘需要码垛的工件总个数。根据工件总数和层高度，机器人会自动计算码垛的层数。\", \"s\": \"Str 工件总数：该托盘需要码垛的工件总个数。根据工件总数和层高度，机器人会自动计算码垛的层数。\"}], \"s\": \"Plain Str 工件总数：该托盘需要码垛的工件总个数。根据工件总数和层高度，机器人会自动计算码垛的层数。\"}], [{\"t\": \"Plain\", \"c\": [{\"t\": \"Str\", \"c\": \"每行工件数:用户坐标系X方向的工件数。\", \"s\": \"Str 每行工件数:用户坐标系X方向的工件数。\"}], \"s\": \"Plain Str 每行工件数:用户坐标系X方向的工件数。\"}], [{\"t\": \"Plain\", \"c\": [{\"t\": \"Str\", \"c\": \"每列工件数：用户坐标系Y方向的工件数。\", \"s\": \"Str 每列工件数：用户坐标系Y方向的工件数。\"}], \"s\": \"Plain Str 每列工件数：用户坐标系Y方向的工件数。\"}], [{\"t\": \"Plain\", \"c\": [{\"t\": \"Str\", \"c\": \"每行工件偏置：X方向上相邻码垛工件之间抓取点之间的距离。保证足够大，使得工件可以放置进去。每行工件偏置数值是工件宽（长）与工件之间相应方向的间隔距离的和。可以精确到0.001mm。\", \"s\": \"Str 每行工件偏置：X方向上相邻码垛工件之间抓取点之间的距离。保证足够大，使得工件可以放置进去。每行工件偏置数值是工件宽（长）与工件之间相应方向的间隔距离的和。可以精确到0.001mm。\"}], \"s\": \"Plain Str 每行工件偏置：X方向上相邻码垛工件之间抓取点之间的距离。保证足够大，使得工件可以放置进去。每行工件偏置数值是工件宽（长）与工件之间相应方向的间隔距离的和。可以精确到0.001mm。\"}], [{\"t\": \"Plain\", \"c\": [{\"t\": \"Str\", \"c\": \"每列工件偏置：Y方向上相邻码垛工件之间抓取点之间的距离。保证足够大，使得工件可以放置进去。每列工件偏置数值是工件宽（长）与工件之间相应方向的间隔距离的和。可以精确到0.001mm。\", \"s\": \"Str 每列工件偏置：Y方向上相邻码垛工件之间抓取点之间的距离。保证足够大，使得工件可以放置进去。每列工件偏置数值是工件宽（长）与工件之间相应方向的间隔距离的和。可以精确到0.001mm。\"}], \"s\": \"Plain Str 每列工件偏置：Y方向上相邻码垛工件之间抓取点之间的距离。保证足够大，使得工件可以放置进去。每列工件偏置数值是工件宽（长）与工件之间相应方向的间隔距离的和。可以精确到0.001mm。\"}], [{\"t\": \"Plain\", \"c\": [{\"t\": \"Str\", \"c\": \"层高度：每层的高度，单位为mm，可以精确到0.001mm。\", \"s\": \"Str 层高度：每层的高度，单位为mm，可以精确到0.001mm。\"}], \"s\": \"Plain Str 层高度：每层的高度，单位为mm，可以精确到0.001mm。\"}]]], \"s\": \"OrderedList 该字符串描述了码垛机器人所需的关键参数，包括**工件总数**、**每行/列工件数**、**工件间距（偏置）**以及**层高度**。这些参数用于自动计算码垛层数并执行码垛任务，数值精确到0.001mm，确保码垛的精确性和可行性。\\\\n\"}, {\"t\": \"Para\", \"c\": [{\"t\": \"Strong\", \"c\": [{\"t\": \"Str\", \"c\": \"注意\", \"s\": \"Str 注意\"}], \"s\": \"Strong Str 注意\"}, {\"t\": \"Str\", \"c\": \"：工件数参数需要输入整数。\", \"s\": \"Str ：工件数参数需要输入整数。\"}], \"s\": \"Para Strong Str 注意 Str ：工件数参数需要输入整数。\"}, {\"t\": \"Para\", \"c\": [{\"t\": \"Str\", \"c\": \"进入码垛设置的操作如下：\", \"s\": \"Str 进入码垛设置的操作如下：\"}], \"s\": \"Para Str 进入码垛设置的操作如下：\"}, {\"t\": \"OrderedList\", \"c\": [[1, {\"t\": \"Decimal\", \"s\": \"Decimal\"}, {\"t\": \"Period\", \"s\": \"Period\"}], [[{\"t\": \"Plain\", \"c\": [{\"t\": \"Str\", \"c\": \"点击应用\", \"s\": \"Str 点击应用\"}], \"s\": \"Plain Str 点击应用\"}]]], \"s\": \"OrderedList 1 Decimal Period Plain Str 点击应用\"}, {\"t\": \"Figure\", \"c\": [[\"\", [], []], [null, [{\"t\": \"Plain\", \"c\": [{\"t\": \"Str\", \"c\": \"img\", \"s\": \"Str img\"}], \"s\": \"Plain Str img\"}]], [{\"t\": \"Plain\", \"c\": [{\"t\": \"Image\", \"c\": [[\"\", [], []], [{\"t\": \"Str\", \"c\": \"img\"}], [\"img/img_3.png\", \"\"]], \"s\": \"该图像展示了一个SIASUN品牌的工业机器人控制界面截图。界面包含“作业”、“坐标”、“IO”等功能选项，并显示机器人状态信息。 具体机器人的自由度、运动范围和尺寸无法从图像中确定，需要参考技术文档。\\\\n\"}], \"s\": \"Plain 该图像展示了一个SIASUN品牌的工业机器人控制界面截图。界面包含“作业”、“坐标”、“IO”等功能选项，并显示机器人状态信息。 具体机器人的自由度、运动范围和尺寸无法从图像中确定，需要参考技术文档。\\\\n\"}]], \"s\": \"Figure     Plain Str img Plain 该图像展示了一个SIASUN品牌的工业机器人控制界面截图。界面包含“作业”、“坐标”、“IO”等功能选项，并显示机器人状态信息。 具体机器人的自由度、运动范围和尺寸无法从图像中确定，需要参考技术文档。\\\\n\"}, {\"t\": \"Para\", \"c\": [{\"t\": \"Str\", \"c\": \"图1-3机器人主界面\", \"s\": \"Str 图1-3机器人主界面\"}], \"s\": \"Para Str 图1-3机器人主界面\"}, {\"t\": \"OrderedList\", \"c\": [[1, {\"t\": \"Decimal\", \"s\": \"Decimal\"}, {\"t\": \"Period\", \"s\": \"Period\"}], [[{\"t\": \"Plain\", \"c\": [{\"t\": \"Str\", \"c\": \"点击简单码垛\", \"s\": \"Str 点击简单码垛\"}], \"s\": \"Plain Str 点击简单码垛\"}]]], \"s\": \"OrderedList 1 Decimal Period Plain Str 点击简单码垛\"}, {\"t\": \"Figure\", \"c\": [[\"\", [], []], [null, [{\"t\": \"Plain\", \"c\": [{\"t\": \"Str\", \"c\": \"img\", \"s\": \"Str img\"}], \"s\": \"Plain Str img\"}]], [{\"t\": \"Plain\", \"c\": [{\"t\": \"Image\", \"c\": [[\"\", [], []], [{\"t\": \"Str\", \"c\": \"img\"}], [\"img/img_4.png\", \"\"]], \"s\": \"该截图仅显示一个名为“SIMSUN”的文字标志以及网页/机器人控制界面元素，**无法提供机器人的机械尺寸、运动范围或自由度等信息**。需要更多机器人外观或技术规格的截图/文档才能进行总结。\\\\n\"}], \"s\": \"Plain 该截图仅显示一个名为“SIMSUN”的文字标志以及网页/机器人控制界面元素，**无法提供机器人的机械尺寸、运动范围或自由度等信息**。需要更多机器人外观或技术规格的截图/文档才能进行总结。\\\\n\"}]], \"s\": \"Figure     Plain Str img Plain 该截图仅显示一个名为“SIMSUN”的文字标志以及网页/机器人控制界面元素，**无法提供机器人的机械尺寸、运动范围或自由度等信息**。需要更多机器人外观或技术规格的截图/文档才能进行总结。\\\\n\"}, {\"t\": \"Para\", \"c\": [{\"t\": \"Str\", \"c\": \"图1-4简单码垛配置界面\", \"s\": \"Str 图1-4简单码垛配置界面\"}], \"s\": \"Para Str 图1-4简单码垛配置界面\"}, {\"t\": \"OrderedList\", \"c\": [[1, {\"t\": \"Decimal\", \"s\": \"Decimal\"}, {\"t\": \"Period\", \"s\": \"Period\"}], [[{\"t\": \"Plain\", \"c\": [{\"t\": \"Str\", \"c\": \"点击码垛设置\", \"s\": \"Str 点击码垛设置\"}], \"s\": \"Plain Str 点击码垛设置\"}]]], \"s\": \"OrderedList 1 Decimal Period Plain Str 点击码垛设置\"}, {\"t\": \"Figure\", \"c\": [[\"\", [], []], [null, [{\"t\": \"Plain\", \"c\": [{\"t\": \"Str\", \"c\": \"img\", \"s\": \"Str img\"}], \"s\": \"Plain Str img\"}]], [{\"t\": \"Plain\", \"c\": [{\"t\": \"Image\", \"c\": [[\"\", [], []], [{\"t\": \"Str\", \"c\": \"img\"}], [\"img/img_5.png\", \"\"]], \"s\": \"这张机器人控制软件界面截图显示，机器人目前配置了一个工作件，且所有运动范围（行、列、层高）均为0mm。这暗示机器人可能处于停止状态或正在进行初始化设置。界面无法直接显示机器人的自由度，需要更多信息才能确定。\\\\n\"}], \"s\": \"Plain 这张机器人控制软件界面截图显示，机器人目前配置了一个工作件，且所有运动范围（行、列、层高）均为0mm。这暗示机器人可能处于停止状态或正在进行初始化设置。界面无法直接显示机器人的自由度，需要更多信息才能确定。\\\\n\"}]], \"s\": \"Figure     Plain Str img Plain 这张机器人控制软件界面截图显示，机器人目前配置了一个工作件，且所有运动范围（行、列、层高）均为0mm。这暗示机器人可能处于停止状态或正在进行初始化设置。界面无法直接显示机器人的自由度，需要更多信息才能确定。\\\\n\"}, {\"t\": \"Para\", \"c\": [{\"t\": \"Str\", \"c\": \"图1-5码垛设置界面\", \"s\": \"Str 图1-5码垛设置界面\"}], \"s\": \"Para Str 图1-5码垛设置界面\"}, {\"t\": \"Para\", \"c\": [{\"t\": \"Str\", \"c\": \"码垛设置（配置托盘属性）文件可以通过按上一页、下一页进行文件的切换。\", \"s\": \"Str 码垛设置（配置托盘属性）文件可以通过按上一页、下一页进行文件的切换。\"}], \"s\": \"Para Str 码垛设置（配置托盘属性）文件可以通过按上一页、下一页进行文件的切换。\"}, {\"t\": \"Para\", \"c\": [{\"t\": \"Str\", \"c\": \"不同的码垛设置文件不能一起修改。\", \"s\": \"Str 不同的码垛设置文件不能一起修改。\"}], \"s\": \"Para Str 不同的码垛设置文件不能一起修改。\"}, {\"t\": \"Para\", \"c\": [{\"t\": \"Str\", \"c\": \"托盘属性文件中的参数值必须是整数，且要大于或等于0，输入小于零的数值，系统会自动修改为0。\", \"s\": \"Str 托盘属性文件中的参数值必须是整数，且要大于或等于0，输入小于零的数值，系统会自动修改为0。\"}], \"s\": \"Para Str 托盘属性文件中的参数值必须是整数，且要大于或等于0，输入小于零的数值，系统会自动修改为0。\"}, {\"t\": \"Header\", \"c\": [3, [\"计数器设置\", [], []], [{\"t\": \"Str\", \"c\": \"计数器设置\", \"s\": \"Str 计数器设置\"}]], \"s\": \"Header 3 计数器设置   Str 计数器设置\"}, {\"t\": \"Para\", \"c\": [{\"t\": \"Str\", \"c\": \"计数器设置的文件都有8个，分别对应8个码垛设置（配置托盘属性）文件，也就是说，码垛设置和计数器文件一一对应。\", \"s\": \"Str 计数器设置的文件都有8个，分别对应8个码垛设置（配置托盘属性）文件，也就是说，码垛设置和计数器文件一一对应。\"}], \"s\": \"Para Str 计数器设置的文件都有8个，分别对应8个码垛设置（配置托盘属性）文件，也就是说，码垛设置和计数器文件一一对应。\"}, {\"t\": \"Para\", \"c\": [{\"t\": \"Str\", \"c\": \"码垛过程中计数器自动计数，当系统断电计数器清零后或某些特殊情况，可以设置计数器，让机器人从特定位置开始码垛。\", \"s\": \"Str 码垛过程中计数器自动计数，当系统断电计数器清零后或某些特殊情况，可以设置计数器，让机器人从特定位置开始码垛。\"}], \"s\": \"Para Str 码垛过程中计数器自动计数，当系统断电计数器清零后或某些特殊情况，可以设置计数器，让机器人从特定位置开始码垛。\"}, {\"t\": \"Para\", \"c\": [{\"t\": \"Str\", \"c\": \"进入计数器设置界面的操作如下（接上面进入码垛设置操作步骤）：\", \"s\": \"Str 进入计数器设置界面的操作如下（接上面进入码垛设置操作步骤）：\"}], \"s\": \"Para Str 进入计数器设置界面的操作如下（接上面进入码垛设置操作步骤）：\"}, {\"t\": \"Figure\", \"c\": [[\"\", [], []], [null, [{\"t\": \"Plain\", \"c\": [{\"t\": \"Str\", \"c\": \"img\", \"s\": \"Str img\"}], \"s\": \"Plain Str img\"}]], [{\"t\": \"Plain\", \"c\": [{\"t\": \"Image\", \"c\": [[\"\", [], []], [{\"t\": \"Str\", \"c\": \"img\"}], [\"img/img_6.png\", \"\"]], \"s\": \"这张截图展示了一个机器人控制界面，允许用户配置参数和监控运动状态。界面信息表明机器人结构可能相对简单，但具体尺寸、运动范围和自由度无法仅从该界面确定。\\\\n\"}], \"s\": \"Plain 这张截图展示了一个机器人控制界面，允许用户配置参数和监控运动状态。界面信息表明机器人结构可能相对简单，但具体尺寸、运动范围和自由度无法仅从该界面确定。\\\\n\"}]], \"s\": \"Figure     Plain Str img Plain 这张截图展示了一个机器人控制界面，允许用户配置参数和监控运动状态。界面信息表明机器人结构可能相对简单，但具体尺寸、运动范围和自由度无法仅从该界面确定。\\\\n\"}, {\"t\": \"Para\", \"c\": [{\"t\": \"Str\", \"c\": \"图1-6设置计数器界面\", \"s\": \"Str 图1-6设置计数器界面\"}], \"s\": \"Para Str 图1-6设置计数器界面\"}, {\"t\": \"Para\", \"c\": [{\"t\": \"Str\", \"c\": \"可以按下一页（上一页）进入各计数器文件：\", \"s\": \"Str 可以按下一页（上一页）进入各计数器文件：\"}], \"s\": \"Para Str 可以按下一页（上一页）进入各计数器文件：\"}, {\"t\": \"OrderedList\", \"c\": [[1, {\"t\": \"Decimal\", \"s\": \"Decimal\"}, {\"t\": \"Period\", \"s\": \"Period\"}], [[{\"t\": \"Plain\", \"c\": [{\"t\": \"Str\", \"c\": \"行数计数器数值：将要执行码垛的行数\", \"s\": \"Str 行数计数器数值：将要执行码垛的行数\"}], \"s\": \"Plain Str 行数计数器数值：将要执行码垛的行数\"}], [{\"t\": \"Plain\", \"c\": [{\"t\": \"Str\", \"c\": \"列数计数器数值：将要执行码垛的列数\", \"s\": \"Str 列数计数器数值：将要执行码垛的列数\"}], \"s\": \"Plain Str 列数计数器数值：将要执行码垛的列数\"}], [{\"t\": \"Plain\", \"c\": [{\"t\": \"Str\", \"c\": \"层数计数器数值：将要执行码垛的层数\", \"s\": \"Str 层数计数器数值：将要执行码垛的层数\"}], \"s\": \"Plain Str 层数计数器数值：将要执行码垛的层数\"}], [{\"t\": \"Plain\", \"c\": [{\"t\": \"Str\", \"c\": \"个数计数器数值：将要执行码垛的个数\", \"s\": \"Str 个数计数器数值：将要执行码垛的个数\"}], \"s\": \"Plain Str 个数计数器数值：将要执行码垛的个数\"}]]], \"s\": \"OrderedList 1 Decimal Period Plain Str 行数计数器数值：将要执行码垛的行数 Plain Str 列数计数器数值：将要执行码垛的列数 Plain Str 层数计数器数值：将要执行码垛的层数 Plain Str 个数计数器数值：将要执行码垛的个数\"}, {\"t\": \"Para\", \"c\": [{\"t\": \"Str\", \"c\": \"如果行数计数器、列计数器、层计数器、个数计数器都被置成1，则码垛从头开始进行码垛。如果行计数器、层计数器、个数计数器被设置某个数值，例如设置成2,2,2，14则下一次码垛将从2,2,2，14进行码垛。\", \"s\": \"Str 如果行数计数器、列计数器、层计数器、个数计数器都被置成1，则码垛从头开始进行码垛。如果行计数器、层计数器、个数计数器被设置某个数值，例如设置成2,2,2，14则下一次码垛将从2,2,2，14进行码垛。\"}], \"s\": \"Para Str 如果行数计数器、列计数器、层计数器、个数计数器都被置成1，则码垛从头开始进行码垛。如果行计数器、层计数器、个数计数器被设置某个数值，例如设置成2,2,2，14则下一次码垛将从2,2,2，14进行码垛。\"}, {\"t\": \"Para\", \"c\": [{\"t\": \"Str\", \"c\": \"这里面注意的是个数计数器是为了表示码垛了多少个工件（实际为个数计数器中的数-1）。可以设置成用户想表示的数值。但是不要超过要码垛的总的个数，如果超过，系统会自动进行复位操作。\", \"s\": \"Str 这里面注意的是个数计数器是为了表示码垛了多少个工件（实际为个数计数器中的数-1）。可以设置成用户想表示的数值。但是不要超过要码垛的总的个数，如果超过，系统会自动进行复位操作。\"}], \"s\": \"Para Str 这里面注意的是个数计数器是为了表示码垛了多少个工件（实际为个数计数器中的数-1）。可以设置成用户想表示的数值。但是不要超过要码垛的总的个数，如果超过，系统会自动进行复位操作。\"}, {\"t\": \"Para\", \"c\": [{\"t\": \"Str\", \"c\": \"不同文件号的计数器数值可以一起修改然后退出保存。\", \"s\": \"Str 不同文件号的计数器数值可以一起修改然后退出保存。\"}], \"s\": \"Para Str 不同文件号的计数器数值可以一起修改然后退出保存。\"}, {\"t\": \"Para\", \"c\": [{\"t\": \"Str\", \"c\": \"这里面的默认值从上至下是1、1、1、1，其原因如下，最初肯定码垛的时候是从第一行、第一列、第一层开始码垛的，默认设置1、1、1、1即可。如果你输入小于默认数值，系统会自动修改为默认值。\", \"s\": \"Str 这里面的默认值从上至下是1、1、1、1，其原因如下，最初肯定码垛的时候是从第一行、第一列、第一层开始码垛的，默认设置1、1、1、1即可。如果你输入小于默认数值，系统会自动修改为默认值。\"}], \"s\": \"Para Str 这里面的默认值从上至下是1、1、1、1，其原因如下，最初肯定码垛的时候是从第一行、第一列、第一层开始码垛的，默认设置1、1、1、1即可。如果你输入小于默认数值，系统会自动修改为默认值。\"}, {\"t\": \"Header\", \"c\": [2, [\"码垛指令\", [], []], [{\"t\": \"Str\", \"c\": \"码垛指令\", \"s\": \"Str 码垛指令\"}]], \"s\": \"Header 2 码垛指令   Str 码垛指令\"}, {\"t\": \"Table\", \"c\": [[\"\", [], []], [null, []], [[{\"t\": \"AlignDefault\", \"s\": \"AlignDefault\"}, {\"t\": \"ColWidth\", \"c\": 0.14285714285714285, \"s\": \"ColWidth 0.14285714285714285\"}], [{\"t\": \"AlignDefault\", \"s\": \"AlignDefault\"}, {\"t\": \"ColWidth\", \"c\": 0.14285714285714285, \"s\": \"ColWidth 0.14285714285714285\"}], [{\"t\": \"AlignDefault\", \"s\": \"AlignDefault\"}, {\"t\": \"ColWidth\", \"c\": 0.14285714285714285, \"s\": \"ColWidth 0.14285714285714285\"}], [{\"t\": \"AlignDefault\", \"s\": \"AlignDefault\"}, {\"t\": \"ColWidth\", \"c\": 0.14285714285714285, \"s\": \"ColWidth 0.14285714285714285\"}], [{\"t\": \"AlignDefault\", \"s\": \"AlignDefault\"}, {\"t\": \"ColWidth\", \"c\": 0.14285714285714285, \"s\": \"ColWidth 0.14285714285714285\"}], [{\"t\": \"AlignDefault\", \"s\": \"AlignDefault\"}, {\"t\": \"ColWidth\", \"c\": 0.14285714285714285, \"s\": \"ColWidth 0.14285714285714285\"}], [{\"t\": \"AlignDefault\", \"s\": \"AlignDefault\"}, {\"t\": \"ColWidth\", \"c\": 0.14285714285714285, \"s\": \"ColWidth 0.14285714285714285\"}]], [[\"\", [], []], [[[\"\", [], []], [[[\"\", [], []], {\"t\": \"AlignDefault\", \"s\": \"AlignDefault\"}, 1, 1, [{\"t\": \"Plain\", \"c\": [{\"t\": \"Str\", \"c\": \"PAL\", \"s\": \"Str PAL\"}, {\"t\": \"Space\", \"s\": \"Space\"}, {\"t\": \"Str\", \"c\": \"S\", \"s\": \"Str S\"}], \"s\": \"Plain Str PAL Space Str S\"}]], [[\"\", [], []], {\"t\": \"AlignDefault\", \"s\": \"AlignDefault\"}, 1, 1, [{\"t\": \"Plain\", \"c\": [{\"t\": \"Str\", \"c\": \"功能\", \"s\": \"Str 功能\"}], \"s\": \"Plain Str 功能\"}]], [[\"\", [], []], {\"t\": \"AlignDefault\", \"s\": \"AlignDefault\"}, 1, 1, [{\"t\": \"Plain\", \"c\": [{\"t\": \"Str\", \"c\": \"码垛开始标志指令\", \"s\": \"Str 码垛开始标志指令\"}], \"s\": \"Plain Str 码垛开始标志指令\"}]], [[\"\", [], []], {\"t\": \"AlignDefault\", \"s\": \"AlignDefault\"}, 1, 1, []], [[\"\", [], []], {\"t\": \"AlignDefault\", \"s\": \"AlignDefault\"}, 1, 1, []], [[\"\", [], []], {\"t\": \"AlignDefault\", \"s\": \"AlignDefault\"}, 1, 1, []], [[\"\", [], []], {\"t\": \"AlignDefault\", \"s\": \"AlignDefault\"}, 1, 1, []]]]]], [[[\"\", [], []], 0, [], [[[\"\", [], []], [[[\"\", [], []], {\"t\": \"AlignDefault\", \"s\": \"AlignDefault\"}, 1, 1, [{\"t\": \"Plain\", \"c\": [{\"t\": \"Str\", \"c\": \"格式\", \"s\": \"Str 格式\"}], \"s\": \"Plain Str 格式\"}]], [[\"\", [], []], {\"t\": \"AlignDefault\", \"s\": \"AlignDefault\"}, 1, 1, [{\"t\": \"Plain\", \"c\": [{\"t\": \"Str\", \"c\": \"PAL\", \"s\": \"Str PAL\"}, {\"t\": \"Space\", \"s\": \"Space\"}, {\"t\": \"Str\", \"c\": \"S\", \"s\": \"Str S\"}, {\"t\": \"Space\", \"s\": \"Space\"}, {\"t\": \"Str\", \"c\": \"<参数项1>\", \"s\": \"Str <参数项1>\"}, {\"t\": \"Space\", \"s\": \"Space\"}, {\"t\": \"Str\", \"c\": \"<参数项2>\", \"s\": \"Str <参数项2>\"}], \"s\": \"Plain Str PAL Space Str S Space Str <参数项1> Space Str <参数项2>\"}]], [[\"\", [], []], {\"t\": \"AlignDefault\", \"s\": \"AlignDefault\"}, 1, 1, []], [[\"\", [], []], {\"t\": \"AlignDefault\", \"s\": \"AlignDefault\"}, 1, 1, []], [[\"\", [], []], {\"t\": \"AlignDefault\", \"s\": \"AlignDefault\"}, 1, 1, []], [[\"\", [], []], {\"t\": \"AlignDefault\", \"s\": \"AlignDefault\"}, 1, 1, []], [[\"\", [], []], {\"t\": \"AlignDefault\", \"s\": \"AlignDefault\"}, 1, 1, []]]], [[\"\", [], []], [[[\"\", [], []], {\"t\": \"AlignDefault\", \"s\": \"AlignDefault\"}, 1, 1, [{\"t\": \"Plain\", \"c\": [{\"t\": \"Str\", \"c\": \"说明\", \"s\": \"Str 说明\"}], \"s\": \"Plain Str 说明\"}]], [[\"\", [], []], {\"t\": \"AlignDefault\", \"s\": \"AlignDefault\"}, 1, 1, [{\"t\": \"Plain\", \"c\": [{\"t\": \"Str\", \"c\": \"参数项1\", \"s\": \"Str 参数项1\"}], \"s\": \"Plain Str 参数项1\"}]], [[\"\", [], []], {\"t\": \"AlignDefault\", \"s\": \"AlignDefault\"}, 1, 1, []], [[\"\", [], []], {\"t\": \"AlignDefault\", \"s\": \"AlignDefault\"}, 1, 1, [{\"t\": \"Plain\", \"c\": [{\"t\": \"Str\", \"c\": \"码垛模式：目前支持两种模式1-2，\", \"s\": \"Str 码垛模式：目前支持两种模式1-2，\"}, {\"t\": \"Space\", \"s\": \"Space\"}, {\"t\": \"Str\", \"c\": \"2两种模式分别为按照行码垛和按照列码垛。\", \"s\": \"Str 2两种模式分别为按照行码垛和按照列码垛。\"}], \"s\": \"Plain Str 码垛模式：目前支持两种模式1-2， Space Str 2两种模式分别为按照行码垛和按照列码垛。\"}]], [[\"\", [], []], {\"t\": \"AlignDefault\", \"s\": \"AlignDefault\"}, 1, 1, []], [[\"\", [], []], {\"t\": \"AlignDefault\", \"s\": \"AlignDefault\"}, 1, 1, []], [[\"\", [], []], {\"t\": \"AlignDefault\", \"s\": \"AlignDefault\"}, 1, 1, []]]], [[\"\", [], []], [[[\"\", [], []], {\"t\": \"AlignDefault\", \"s\": \"AlignDefault\"}, 1, 1, [{\"t\": \"Plain\", \"c\": [{\"t\": \"Str\", \"c\": \"参数项2\", \"s\": \"Str 参数项2\"}], \"s\": \"Plain Str 参数项2\"}]], [[\"\", [], []], {\"t\": \"AlignDefault\", \"s\": \"AlignDefault\"}, 1, 1, []], [[\"\", [], []], {\"t\": \"AlignDefault\", \"s\": \"AlignDefault\"}, 1, 1, [{\"t\": \"Plain\", \"c\": [{\"t\": \"Str\", \"c\": \"码垛设置文件号：通常把码垛托盘当做一个单位，一个码垛托盘分配一组计数器和一组码垛设置，与用户坐标系绑定使用。\", \"s\": \"Str 码垛设置文件号：通常把码垛托盘当做一个单位，一个码垛托盘分配一组计数器和一组码垛设置，与用户坐标系绑定使用。\"}], \"s\": \"Plain Str 码垛设置文件号：通常把码垛托盘当做一个单位，一个码垛托盘分配一组计数器和一组码垛设置，与用户坐标系绑定使用。\"}]], [[\"\", [], []], {\"t\": \"AlignDefault\", \"s\": \"AlignDefault\"}, 1, 1, []], [[\"\", [], []], {\"t\": \"AlignDefault\", \"s\": \"AlignDefault\"}, 1, 1, []], [[\"\", [], []], {\"t\": \"AlignDefault\", \"s\": \"AlignDefault\"}, 1, 1, []], [[\"\", [], []], {\"t\": \"AlignDefault\", \"s\": \"AlignDefault\"}, 1, 1, []]]], [[\"\", [], []], [[[\"\", [], []], {\"t\": \"AlignDefault\", \"s\": \"AlignDefault\"}, 1, 1, [{\"t\": \"Plain\", \"c\": [{\"t\": \"Str\", \"c\": \"举例\", \"s\": \"Str 举例\"}], \"s\": \"Plain Str 举例\"}]], [[\"\", [], []], {\"t\": \"AlignDefault\", \"s\": \"AlignDefault\"}, 1, 1, [{\"t\": \"Plain\", \"c\": [{\"t\": \"Str\", \"c\": \"PAL\", \"s\": \"Str PAL\"}, {\"t\": \"Space\", \"s\": \"Space\"}, {\"t\": \"Str\", \"c\": \"S\", \"s\": \"Str S\"}, {\"t\": \"Space\", \"s\": \"Space\"}, {\"t\": \"Str\", \"c\": \"1\", \"s\": \"Str 1\"}, {\"t\": \"Space\", \"s\": \"Space\"}, {\"t\": \"Str\", \"c\": \"2\", \"s\": \"Str 2\"}], \"s\": \"Plain Str PAL Space Str S Space Str 1 Space Str 2\"}]], [[\"\", [], []], {\"t\": \"AlignDefault\", \"s\": \"AlignDefault\"}, 1, 1, []], [[\"\", [], []], {\"t\": \"AlignDefault\", \"s\": \"AlignDefault\"}, 1, 1, []], [[\"\", [], []], {\"t\": \"AlignDefault\", \"s\": \"AlignDefault\"}, 1, 1, []], [[\"\", [], []], {\"t\": \"AlignDefault\", \"s\": \"AlignDefault\"}, 1, 1, []], [[\"\", [], []], {\"t\": \"AlignDefault\", \"s\": \"AlignDefault\"}, 1, 1, []]]], [[\"\", [], []], [[[\"\", [], []], {\"t\": \"AlignDefault\", \"s\": \"AlignDefault\"}, 1, 1, [{\"t\": \"Plain\", \"c\": [{\"t\": \"Str\", \"c\": \"PAL\", \"s\": \"Str PAL\"}, {\"t\": \"Space\", \"s\": \"Space\"}, {\"t\": \"Str\", \"c\": \"L\", \"s\": \"Str L\"}], \"s\": \"Plain Str PAL Space Str L\"}]], [[\"\", [], []], {\"t\": \"AlignDefault\", \"s\": \"AlignDefault\"}, 1, 1, [{\"t\": \"Plain\", \"c\": [{\"t\": \"Str\", \"c\": \"功能\", \"s\": \"Str 功能\"}], \"s\": \"Plain Str 功能\"}]], [[\"\", [], []], {\"t\": \"AlignDefault\", \"s\": \"AlignDefault\"}, 1, 1, [{\"t\": \"Plain\", \"c\": [{\"t\": \"Str\", \"c\": \"码垛以直线移动到示教点，含位置点信息\", \"s\": \"Str 码垛以直线移动到示教点，含位置点信息\"}], \"s\": \"Plain Str 码垛以直线移动到示教点，含位置点信息\"}]], [[\"\", [], []], {\"t\": \"AlignDefault\", \"s\": \"AlignDefault\"}, 1, 1, []], [[\"\", [], []], {\"t\": \"AlignDefault\", \"s\": \"AlignDefault\"}, 1, 1, []], [[\"\", [], []], {\"t\": \"AlignDefault\", \"s\": \"AlignDefault\"}, 1, 1, []], [[\"\", [], []], {\"t\": \"AlignDefault\", \"s\": \"AlignDefault\"}, 1, 1, []]]], [[\"\", [], []], [[[\"\", [], []], {\"t\": \"AlignDefault\", \"s\": \"AlignDefault\"}, 1, 1, [{\"t\": \"Plain\", \"c\": [{\"t\": \"Str\", \"c\": \"格式\", \"s\": \"Str 格式\"}], \"s\": \"Plain Str 格式\"}]], [[\"\", [], []], {\"t\": \"AlignDefault\", \"s\": \"AlignDefault\"}, 1, 1, [{\"t\": \"Plain\", \"c\": [{\"t\": \"Str\", \"c\": \"PAL\", \"s\": \"Str PAL\"}, {\"t\": \"Space\", \"s\": \"Space\"}, {\"t\": \"Str\", \"c\": \"L\", \"s\": \"Str L\"}, {\"t\": \"Space\", \"s\": \"Space\"}, {\"t\": \"Str\", \"c\": \"VL=<参数项>\", \"s\": \"Str VL=<参数项>\"}], \"s\": \"Plain Str PAL Space Str L Space Str VL=<参数项>\"}]], [[\"\", [], []], {\"t\": \"AlignDefault\", \"s\": \"AlignDefault\"}, 1, 1, []], [[\"\", [], []], {\"t\": \"AlignDefault\", \"s\": \"AlignDefault\"}, 1, 1, []], [[\"\", [], []], {\"t\": \"AlignDefault\", \"s\": \"AlignDefault\"}, 1, 1, []], [[\"\", [], []], {\"t\": \"AlignDefault\", \"s\": \"AlignDefault\"}, 1, 1, []], [[\"\", [], []], {\"t\": \"AlignDefault\", \"s\": \"AlignDefault\"}, 1, 1, []]]], [[\"\", [], []], [[[\"\", [], []], {\"t\": \"AlignDefault\", \"s\": \"AlignDefault\"}, 1, 1, [{\"t\": \"Plain\", \"c\": [{\"t\": \"Str\", \"c\": \"说明\", \"s\": \"Str 说明\"}], \"s\": \"Plain Str 说明\"}]], [[\"\", [], []], {\"t\": \"AlignDefault\", \"s\": \"AlignDefault\"}, 1, 1, [{\"t\": \"Plain\", \"c\": [{\"t\": \"Str\", \"c\": \"参数项\", \"s\": \"Str 参数项\"}], \"s\": \"Plain Str 参数项\"}]], [[\"\", [], []], {\"t\": \"AlignDefault\", \"s\": \"AlignDefault\"}, 1, 1, [{\"t\": \"Plain\", \"c\": [{\"t\": \"Str\", \"c\": \"含义：直线运动速度\", \"s\": \"Str 含义：直线运动速度\"}, {\"t\": \"Space\", \"s\": \"Space\"}, {\"t\": \"Str\", \"c\": \"数值范围\", \"s\": \"Str 数值范围\"}, {\"t\": \"Space\", \"s\": \"Space\"}, {\"t\": \"Str\", \"c\": \"1~1600\", \"s\": \"Str 1~1600\"}, {\"t\": \"Space\", \"s\": \"Space\"}, {\"t\": \"Str\", \"c\": \"（mm/s）；数值范围可能因机器人型号不同而不同\", \"s\": \"Str （mm/s）；数值范围可能因机器人型号不同而不同\"}], \"s\": \"Plain Str 含义：直线运动速度 Space Str 数值范围 Space Str 1~1600 Space Str （mm/s）；数值范围可能因机器人型号不同而不同\"}]], [[\"\", [], []], {\"t\": \"AlignDefault\", \"s\": \"AlignDefault\"}, 1, 1, []], [[\"\", [], []], {\"t\": \"AlignDefault\", \"s\": \"AlignDefault\"}, 1, 1, []], [[\"\", [], []], {\"t\": \"AlignDefault\", \"s\": \"AlignDefault\"}, 1, 1, []], [[\"\", [], []], {\"t\": \"AlignDefault\", \"s\": \"AlignDefault\"}, 1, 1, []]]], [[\"\", [], []], [[[\"\", [], []], {\"t\": \"AlignDefault\", \"s\": \"AlignDefault\"}, 1, 1, [{\"t\": \"Plain\", \"c\": [{\"t\": \"Str\", \"c\": \"举例\", \"s\": \"Str 举例\"}], \"s\": \"Plain Str 举例\"}]], [[\"\", [], []], {\"t\": \"AlignDefault\", \"s\": \"AlignDefault\"}, 1, 1, [{\"t\": \"Plain\", \"c\": [{\"t\": \"Str\", \"c\": \"PAL\", \"s\": \"Str PAL\"}, {\"t\": \"Space\", \"s\": \"Space\"}, {\"t\": \"Str\", \"c\": \"L\", \"s\": \"Str L\"}, {\"t\": \"Space\", \"s\": \"Space\"}, {\"t\": \"Str\", \"c\": \"VL=400\", \"s\": \"Str VL=400\"}], \"s\": \"Plain Str PAL Space Str L Space Str VL=400\"}]], [[\"\", [], []], {\"t\": \"AlignDefault\", \"s\": \"AlignDefault\"}, 1, 1, []], [[\"\", [], []], {\"t\": \"AlignDefault\", \"s\": \"AlignDefault\"}, 1, 1, []], [[\"\", [], []], {\"t\": \"AlignDefault\", \"s\": \"AlignDefault\"}, 1, 1, []], [[\"\", [], []], {\"t\": \"AlignDefault\", \"s\": \"AlignDefault\"}, 1, 1, []], [[\"\", [], []], {\"t\": \"AlignDefault\", \"s\": \"AlignDefault\"}, 1, 1, []]]], [[\"\", [], []], [[[\"\", [], []], {\"t\": \"AlignDefault\", \"s\": \"AlignDefault\"}, 1, 1, [{\"t\": \"Plain\", \"c\": [{\"t\": \"Str\", \"c\": \"PAL\", \"s\": \"Str PAL\"}, {\"t\": \"Space\", \"s\": \"Space\"}, {\"t\": \"Str\", \"c\": \"J\", \"s\": \"Str J\"}], \"s\": \"Plain Str PAL Space Str J\"}]], [[\"\", [], []], {\"t\": \"AlignDefault\", \"s\": \"AlignDefault\"}, 1, 1, [{\"t\": \"Plain\", \"c\": [{\"t\": \"Str\", \"c\": \"功能\", \"s\": \"Str 功能\"}], \"s\": \"Plain Str 功能\"}]], [[\"\", [], []], {\"t\": \"AlignDefault\", \"s\": \"AlignDefault\"}, 1, 1, [{\"t\": \"Plain\", \"c\": [{\"t\": \"Str\", \"c\": \"码垛以关节插补移动到示教点，含位置点信息\", \"s\": \"Str 码垛以关节插补移动到示教点，含位置点信息\"}], \"s\": \"Plain Str 码垛以关节插补移动到示教点，含位置点信息\"}]], [[\"\", [], []], {\"t\": \"AlignDefault\", \"s\": \"AlignDefault\"}, 1, 1, []], [[\"\", [], []], {\"t\": \"AlignDefault\", \"s\": \"AlignDefault\"}, 1, 1, []], [[\"\", [], []], {\"t\": \"AlignDefault\", \"s\": \"AlignDefault\"}, 1, 1, []], [[\"\", [], []], {\"t\": \"AlignDefault\", \"s\": \"AlignDefault\"}, 1, 1, []]]], [[\"\", [], []], [[[\"\", [], []], {\"t\": \"AlignDefault\", \"s\": \"AlignDefault\"}, 1, 1, [{\"t\": \"Plain\", \"c\": [{\"t\": \"Str\", \"c\": \"格式\", \"s\": \"Str 格式\"}], \"s\": \"Plain Str 格式\"}]], [[\"\", [], []], {\"t\": \"AlignDefault\", \"s\": \"AlignDefault\"}, 1, 1, [{\"t\": \"Plain\", \"c\": [{\"t\": \"Str\", \"c\": \"PAL\", \"s\": \"Str PAL\"}, {\"t\": \"Space\", \"s\": \"Space\"}, {\"t\": \"Str\", \"c\": \"J\", \"s\": \"Str J\"}, {\"t\": \"Space\", \"s\": \"Space\"}, {\"t\": \"Str\", \"c\": \"VJ=<参数项>\", \"s\": \"Str VJ=<参数项>\"}], \"s\": \"Plain Str PAL Space Str J Space Str VJ=<参数项>\"}]], [[\"\", [], []], {\"t\": \"AlignDefault\", \"s\": \"AlignDefault\"}, 1, 1, []], [[\"\", [], []], {\"t\": \"AlignDefault\", \"s\": \"AlignDefault\"}, 1, 1, []], [[\"\", [], []], {\"t\": \"AlignDefault\", \"s\": \"AlignDefault\"}, 1, 1, []], [[\"\", [], []], {\"t\": \"AlignDefault\", \"s\": \"AlignDefault\"}, 1, 1, []], [[\"\", [], []], {\"t\": \"AlignDefault\", \"s\": \"AlignDefault\"}, 1, 1, []]]], [[\"\", [], []], [[[\"\", [], []], {\"t\": \"AlignDefault\", \"s\": \"AlignDefault\"}, 1, 1, [{\"t\": \"Plain\", \"c\": [{\"t\": \"Str\", \"c\": \"说明\", \"s\": \"Str 说明\"}], \"s\": \"Plain Str 说明\"}]], [[\"\", [], []], {\"t\": \"AlignDefault\", \"s\": \"AlignDefault\"}, 1, 1, [{\"t\": \"Plain\", \"c\": [{\"t\": \"Str\", \"c\": \"参数项\", \"s\": \"Str 参数项\"}], \"s\": \"Plain Str 参数项\"}]], [[\"\", [], []], {\"t\": \"AlignDefault\", \"s\": \"AlignDefault\"}, 1, 1, [{\"t\": \"Plain\", \"c\": [{\"t\": \"Str\", \"c\": \"含义：关节运动速度\", \"s\": \"Str 含义：关节运动速度\"}, {\"t\": \"Space\", \"s\": \"Space\"}, {\"t\": \"Str\", \"c\": \"数值范围:\", \"s\": \"Str 数值范围:\"}, {\"t\": \"Space\", \"s\": \"Space\"}, {\"t\": \"Str\", \"c\": \"1~99\\u3000（%）\", \"s\": \"Str 1~99\\u3000（%）\"}], \"s\": \"Plain Str 含义：关节运动速度 Space Str 数值范围: Space Str 1~99\\u3000（%）\"}]], [[\"\", [], []], {\"t\": \"AlignDefault\", \"s\": \"AlignDefault\"}, 1, 1, []], [[\"\", [], []], {\"t\": \"AlignDefault\", \"s\": \"AlignDefault\"}, 1, 1, []], [[\"\", [], []], {\"t\": \"AlignDefault\", \"s\": \"AlignDefault\"}, 1, 1, []], [[\"\", [], []], {\"t\": \"AlignDefault\", \"s\": \"AlignDefault\"}, 1, 1, []]]], [[\"\", [], []], [[[\"\", [], []], {\"t\": \"AlignDefault\", \"s\": \"AlignDefault\"}, 1, 1, [{\"t\": \"Plain\", \"c\": [{\"t\": \"Str\", \"c\": \"举例\", \"s\": \"Str 举例\"}], \"s\": \"Plain Str 举例\"}]], [[\"\", [], []], {\"t\": \"AlignDefault\", \"s\": \"AlignDefault\"}, 1, 1, [{\"t\": \"Plain\", \"c\": [{\"t\": \"Str\", \"c\": \"PAL\", \"s\": \"Str PAL\"}, {\"t\": \"Space\", \"s\": \"Space\"}, {\"t\": \"Str\", \"c\": \"J\", \"s\": \"Str J\"}, {\"t\": \"Space\", \"s\": \"Space\"}, {\"t\": \"Str\", \"c\": \"VJ=50\", \"s\": \"Str VJ=50\"}], \"s\": \"Plain Str PAL Space Str J Space Str VJ=50\"}]], [[\"\", [], []], {\"t\": \"AlignDefault\", \"s\": \"AlignDefault\"}, 1, 1, []], [[\"\", [], []], {\"t\": \"AlignDefault\", \"s\": \"AlignDefault\"}, 1, 1, []], [[\"\", [], []], {\"t\": \"AlignDefault\", \"s\": \"AlignDefault\"}, 1, 1, []], [[\"\", [], []], {\"t\": \"AlignDefault\", \"s\": \"AlignDefault\"}, 1, 1, []], [[\"\", [], []], {\"t\": \"AlignDefault\", \"s\": \"AlignDefault\"}, 1, 1, []]]], [[\"\", [], []], [[[\"\", [], []], {\"t\": \"AlignDefault\", \"s\": \"AlignDefault\"}, 1, 1, [{\"t\": \"Plain\", \"c\": [{\"t\": \"Str\", \"c\": \"PAL\", \"s\": \"Str PAL\"}, {\"t\": \"Space\", \"s\": \"Space\"}, {\"t\": \"Str\", \"c\": \"E\", \"s\": \"Str E\"}], \"s\": \"Plain Str PAL Space Str E\"}]], [[\"\", [], []], {\"t\": \"AlignDefault\", \"s\": \"AlignDefault\"}, 1, 1, [{\"t\": \"Plain\", \"c\": [{\"t\": \"Str\", \"c\": \"功能\", \"s\": \"Str 功能\"}], \"s\": \"Plain Str 功能\"}]], [[\"\", [], []], {\"t\": \"AlignDefault\", \"s\": \"AlignDefault\"}, 1, 1, [{\"t\": \"Plain\", \"c\": [{\"t\": \"Str\", \"c\": \"码垛完成指令\", \"s\": \"Str 码垛完成指令\"}], \"s\": \"Plain Str 码垛完成指令\"}]], [[\"\", [], []], {\"t\": \"AlignDefault\", \"s\": \"AlignDefault\"}, 1, 1, []], [[\"\", [], []], {\"t\": \"AlignDefault\", \"s\": \"AlignDefault\"}, 1, 1, []], [[\"\", [], []], {\"t\": \"AlignDefault\", \"s\": \"AlignDefault\"}, 1, 1, []], [[\"\", [], []], {\"t\": \"AlignDefault\", \"s\": \"AlignDefault\"}, 1, 1, []]]], [[\"\", [], []], [[[\"\", [], []], {\"t\": \"AlignDefault\", \"s\": \"AlignDefault\"}, 1, 1, [{\"t\": \"Plain\", \"c\": [{\"t\": \"Str\", \"c\": \"格式\", \"s\": \"Str 格式\"}], \"s\": \"Plain Str 格式\"}]], [[\"\", [], []], {\"t\": \"AlignDefault\", \"s\": \"AlignDefault\"}, 1, 1, [{\"t\": \"Plain\", \"c\": [{\"t\": \"Str\", \"c\": \"PAL\", \"s\": \"Str PAL\"}, {\"t\": \"Space\", \"s\": \"Space\"}, {\"t\": \"Str\", \"c\": \"E\", \"s\": \"Str E\"}, {\"t\": \"Space\", \"s\": \"Space\"}, {\"t\": \"Str\", \"c\": \"#<参数项>\", \"s\": \"Str #<参数项>\"}], \"s\": \"Plain Str PAL Space Str E Space Str #<参数项>\"}]], [[\"\", [], []], {\"t\": \"AlignDefault\", \"s\": \"AlignDefault\"}, 1, 1, []], [[\"\", [], []], {\"t\": \"AlignDefault\", \"s\": \"AlignDefault\"}, 1, 1, []], [[\"\", [], []], {\"t\": \"AlignDefault\", \"s\": \"AlignDefault\"}, 1, 1, []], [[\"\", [], []], {\"t\": \"AlignDefault\", \"s\": \"AlignDefault\"}, 1, 1, []], [[\"\", [], []], {\"t\": \"AlignDefault\", \"s\": \"AlignDefault\"}, 1, 1, []]]], [[\"\", [], []], [[[\"\", [], []], {\"t\": \"AlignDefault\", \"s\": \"AlignDefault\"}, 1, 1, [{\"t\": \"Plain\", \"c\": [{\"t\": \"Str\", \"c\": \"说明\", \"s\": \"Str 说明\"}], \"s\": \"Plain Str 说明\"}]], [[\"\", [], []], {\"t\": \"AlignDefault\", \"s\": \"AlignDefault\"}, 1, 1, [{\"t\": \"Plain\", \"c\": [{\"t\": \"Str\", \"c\": \"参数项\", \"s\": \"Str 参数项\"}], \"s\": \"Plain Str 参数项\"}]], [[\"\", [], []], {\"t\": \"AlignDefault\", \"s\": \"AlignDefault\"}, 1, 1, [{\"t\": \"Plain\", \"c\": [{\"t\": \"Str\", \"c\": \"含义：输出IO号，码垛结束（满载）的输出信号\", \"s\": \"Str 含义：输出IO号，码垛结束（满载）的输出信号\"}], \"s\": \"Plain Str 含义：输出IO号，码垛结束（满载）的输出信号\"}]], [[\"\", [], []], {\"t\": \"AlignDefault\", \"s\": \"AlignDefault\"}, 1, 1, []], [[\"\", [], []], {\"t\": \"AlignDefault\", \"s\": \"AlignDefault\"}, 1, 1, []], [[\"\", [], []], {\"t\": \"AlignDefault\", \"s\": \"AlignDefault\"}, 1, 1, []], [[\"\", [], []], {\"t\": \"AlignDefault\", \"s\": \"AlignDefault\"}, 1, 1, []]]], [[\"\", [], []], [[[\"\", [], []], {\"t\": \"AlignDefault\", \"s\": \"AlignDefault\"}, 1, 1, [{\"t\": \"Plain\", \"c\": [{\"t\": \"Str\", \"c\": \"举例\", \"s\": \"Str 举例\"}], \"s\": \"Plain Str 举例\"}]], [[\"\", [], []], {\"t\": \"AlignDefault\", \"s\": \"AlignDefault\"}, 1, 1, [{\"t\": \"Plain\", \"c\": [{\"t\": \"Str\", \"c\": \"PAL\", \"s\": \"Str PAL\"}, {\"t\": \"Space\", \"s\": \"Space\"}, {\"t\": \"Str\", \"c\": \"E\", \"s\": \"Str E\"}, {\"t\": \"Space\", \"s\": \"Space\"}, {\"t\": \"Str\", \"c\": \"#15\", \"s\": \"Str #15\"}], \"s\": \"Plain Str PAL Space Str E Space Str #15\"}]], [[\"\", [], []], {\"t\": \"AlignDefault\", \"s\": \"AlignDefault\"}, 1, 1, []], [[\"\", [], []], {\"t\": \"AlignDefault\", \"s\": \"AlignDefault\"}, 1, 1, []], [[\"\", [], []], {\"t\": \"AlignDefault\", \"s\": \"AlignDefault\"}, 1, 1, []], [[\"\", [], []], {\"t\": \"AlignDefault\", \"s\": \"AlignDefault\"}, 1, 1, []], [[\"\", [], []], {\"t\": \"AlignDefault\", \"s\": \"AlignDefault\"}, 1, 1, []]]], [[\"\", [], []], [[[\"\", [], []], {\"t\": \"AlignDefault\", \"s\": \"AlignDefault\"}, 1, 1, [{\"t\": \"Plain\", \"c\": [{\"t\": \"Str\", \"c\": \"PAL\", \"s\": \"Str PAL\"}, {\"t\": \"Space\", \"s\": \"Space\"}, {\"t\": \"Str\", \"c\": \"R\", \"s\": \"Str R\"}], \"s\": \"Plain Str PAL Space Str R\"}]], [[\"\", [], []], {\"t\": \"AlignDefault\", \"s\": \"AlignDefault\"}, 1, 1, [{\"t\": \"Plain\", \"c\": [{\"t\": \"Str\", \"c\": \"功能\", \"s\": \"Str 功能\"}], \"s\": \"Plain Str 功能\"}]], [[\"\", [], []], {\"t\": \"AlignDefault\", \"s\": \"AlignDefault\"}, 1, 1, [{\"t\": \"Plain\", \"c\": [{\"t\": \"Str\", \"c\": \"码垛计数器复位指令\", \"s\": \"Str 码垛计数器复位指令\"}], \"s\": \"Plain Str 码垛计数器复位指令\"}]], [[\"\", [], []], {\"t\": \"AlignDefault\", \"s\": \"AlignDefault\"}, 1, 1, []], [[\"\", [], []], {\"t\": \"AlignDefault\", \"s\": \"AlignDefault\"}, 1, 1, []], [[\"\", [], []], {\"t\": \"AlignDefault\", \"s\": \"AlignDefault\"}, 1, 1, []], [[\"\", [], []], {\"t\": \"AlignDefault\", \"s\": \"AlignDefault\"}, 1, 1, []]]], [[\"\", [], []], [[[\"\", [], []], {\"t\": \"AlignDefault\", \"s\": \"AlignDefault\"}, 1, 1, [{\"t\": \"Plain\", \"c\": [{\"t\": \"Str\", \"c\": \"格式\", \"s\": \"Str 格式\"}], \"s\": \"Plain Str 格式\"}]], [[\"\", [], []], {\"t\": \"AlignDefault\", \"s\": \"AlignDefault\"}, 1, 1, [{\"t\": \"Plain\", \"c\": [{\"t\": \"Str\", \"c\": \"PAL\", \"s\": \"Str PAL\"}, {\"t\": \"Space\", \"s\": \"Space\"}, {\"t\": \"Str\", \"c\": \"R\", \"s\": \"Str R\"}, {\"t\": \"Space\", \"s\": \"Space\"}, {\"t\": \"Str\", \"c\": \"<参数项>\", \"s\": \"Str <参数项>\"}], \"s\": \"Plain Str PAL Space Str R Space Str <参数项>\"}]], [[\"\", [], []], {\"t\": \"AlignDefault\", \"s\": \"AlignDefault\"}, 1, 1, []], [[\"\", [], []], {\"t\": \"AlignDefault\", \"s\": \"AlignDefault\"}, 1, 1, []], [[\"\", [], []], {\"t\": \"AlignDefault\", \"s\": \"AlignDefault\"}, 1, 1, []], [[\"\", [], []], {\"t\": \"AlignDefault\", \"s\": \"AlignDefault\"}, 1, 1, []], [[\"\", [], []], {\"t\": \"AlignDefault\", \"s\": \"AlignDefault\"}, 1, 1, []]]], [[\"\", [], []], [[[\"\", [], []], {\"t\": \"AlignDefault\", \"s\": \"AlignDefault\"}, 1, 1, [{\"t\": \"Plain\", \"c\": [{\"t\": \"Str\", \"c\": \"说明\", \"s\": \"Str 说明\"}], \"s\": \"Plain Str 说明\"}]], [[\"\", [], []], {\"t\": \"AlignDefault\", \"s\": \"AlignDefault\"}, 1, 1, [{\"t\": \"Plain\", \"c\": [{\"t\": \"Str\", \"c\": \"参数项\", \"s\": \"Str 参数项\"}], \"s\": \"Plain Str 参数项\"}]], [[\"\", [], []], {\"t\": \"AlignDefault\", \"s\": \"AlignDefault\"}, 1, 1, [{\"t\": \"Plain\", \"c\": [{\"t\": \"Str\", \"c\": \"含义：计数器文件号\", \"s\": \"Str 含义：计数器文件号\"}], \"s\": \"Plain Str 含义：计数器文件号\"}]], [[\"\", [], []], {\"t\": \"AlignDefault\", \"s\": \"AlignDefault\"}, 1, 1, []], [[\"\", [], []], {\"t\": \"AlignDefault\", \"s\": \"AlignDefault\"}, 1, 1, []], [[\"\", [], []], {\"t\": \"AlignDefault\", \"s\": \"AlignDefault\"}, 1, 1, []], [[\"\", [], []], {\"t\": \"AlignDefault\", \"s\": \"AlignDefault\"}, 1, 1, []]]], [[\"\", [], []], [[[\"\", [], []], {\"t\": \"AlignDefault\", \"s\": \"AlignDefault\"}, 1, 1, [{\"t\": \"Plain\", \"c\": [{\"t\": \"Str\", \"c\": \"举例\", \"s\": \"Str 举例\"}], \"s\": \"Plain Str 举例\"}]], [[\"\", [], []], {\"t\": \"AlignDefault\", \"s\": \"AlignDefault\"}, 1, 1, [{\"t\": \"Plain\", \"c\": [{\"t\": \"Str\", \"c\": \"PAL\", \"s\": \"Str PAL\"}, {\"t\": \"Space\", \"s\": \"Space\"}, {\"t\": \"Str\", \"c\": \"R\", \"s\": \"Str R\"}, {\"t\": \"Space\", \"s\": \"Space\"}, {\"t\": \"Str\", \"c\": \"1\", \"s\": \"Str 1\"}], \"s\": \"Plain Str PAL Space Str R Space Str 1\"}]], [[\"\", [], []], {\"t\": \"AlignDefault\", \"s\": \"AlignDefault\"}, 1, 1, []], [[\"\", [], []], {\"t\": \"AlignDefault\", \"s\": \"AlignDefault\"}, 1, 1, []], [[\"\", [], []], {\"t\": \"AlignDefault\", \"s\": \"AlignDefault\"}, 1, 1, []], [[\"\", [], []], {\"t\": \"AlignDefault\", \"s\": \"AlignDefault\"}, 1, 1, []], [[\"\", [], []], {\"t\": \"AlignDefault\", \"s\": \"AlignDefault\"}, 1, 1, []]]], [[\"\", [], []], [[[\"\", [], []], {\"t\": \"AlignDefault\", \"s\": \"AlignDefault\"}, 1, 1, [{\"t\": \"Plain\", \"c\": [{\"t\": \"Str\", \"c\": \"PR\", \"s\": \"Str PR\"}], \"s\": \"Plain Str PR\"}]], [[\"\", [], []], {\"t\": \"AlignDefault\", \"s\": \"AlignDefault\"}, 1, 1, [{\"t\": \"Plain\", \"c\": [{\"t\": \"Str\", \"c\": \"功能\", \"s\": \"Str 功能\"}], \"s\": \"Plain Str 功能\"}]], [[\"\", [], []], {\"t\": \"AlignDefault\", \"s\": \"AlignDefault\"}, 1, 1, [{\"t\": \"Plain\", \"c\": [{\"t\": \"Str\", \"c\": \"设置码垛文件中计数器的数值\", \"s\": \"Str 设置码垛文件中计数器的数值\"}], \"s\": \"Plain Str 设置码垛文件中计数器的数值\"}]], [[\"\", [], []], {\"t\": \"AlignDefault\", \"s\": \"AlignDefault\"}, 1, 1, []], [[\"\", [], []], {\"t\": \"AlignDefault\", \"s\": \"AlignDefault\"}, 1, 1, []], [[\"\", [], []], {\"t\": \"AlignDefault\", \"s\": \"AlignDefault\"}, 1, 1, []], [[\"\", [], []], {\"t\": \"AlignDefault\", \"s\": \"AlignDefault\"}, 1, 1, []]]], [[\"\", [], []], [[[\"\", [], []], {\"t\": \"AlignDefault\", \"s\": \"AlignDefault\"}, 1, 1, [{\"t\": \"Plain\", \"c\": [{\"t\": \"Str\", \"c\": \"格式\", \"s\": \"Str 格式\"}], \"s\": \"Plain Str 格式\"}]], [[\"\", [], []], {\"t\": \"AlignDefault\", \"s\": \"AlignDefault\"}, 1, 1, [{\"t\": \"Plain\", \"c\": [{\"t\": \"Str\", \"c\": \"PR\", \"s\": \"Str PR\"}, {\"t\": \"Space\", \"s\": \"Space\"}, {\"t\": \"Str\", \"c\": \"#<参数项>=<参数项>，<参数项>，<参数项>\", \"s\": \"Str #<参数项>=<参数项>，<参数项>，<参数项>\"}], \"s\": \"Plain Str PR Space Str #<参数项>=<参数项>，<参数项>，<参数项>\"}]], [[\"\", [], []], {\"t\": \"AlignDefault\", \"s\": \"AlignDefault\"}, 1, 1, []], [[\"\", [], []], {\"t\": \"AlignDefault\", \"s\": \"AlignDefault\"}, 1, 1, []], [[\"\", [], []], {\"t\": \"AlignDefault\", \"s\": \"AlignDefault\"}, 1, 1, []], [[\"\", [], []], {\"t\": \"AlignDefault\", \"s\": \"AlignDefault\"}, 1, 1, []], [[\"\", [], []], {\"t\": \"AlignDefault\", \"s\": \"AlignDefault\"}, 1, 1, []]]], [[\"\", [], []], [[[\"\", [], []], {\"t\": \"AlignDefault\", \"s\": \"AlignDefault\"}, 1, 1, [{\"t\": \"Plain\", \"c\": [{\"t\": \"Str\", \"c\": \"说明\", \"s\": \"Str 说明\"}], \"s\": \"Plain Str 说明\"}]], [[\"\", [], []], {\"t\": \"AlignDefault\", \"s\": \"AlignDefault\"}, 1, 1, [{\"t\": \"Plain\", \"c\": [{\"t\": \"Str\", \"c\": \"参数项1\", \"s\": \"Str 参数项1\"}], \"s\": \"Plain Str 参数项1\"}]], [[\"\", [], []], {\"t\": \"AlignDefault\", \"s\": \"AlignDefault\"}, 1, 1, []], [[\"\", [], []], {\"t\": \"AlignDefault\", \"s\": \"AlignDefault\"}, 1, 1, []], [[\"\", [], []], {\"t\": \"AlignDefault\", \"s\": \"AlignDefault\"}, 1, 1, [{\"t\": \"Plain\", \"c\": [{\"t\": \"Str\", \"c\": \"码垛文件号\", \"s\": \"Str 码垛文件号\"}], \"s\": \"Plain Str 码垛文件号\"}]], [[\"\", [], []], {\"t\": \"AlignDefault\", \"s\": \"AlignDefault\"}, 1, 1, []], [[\"\", [], []], {\"t\": \"AlignDefault\", \"s\": \"AlignDefault\"}, 1, 1, []]]], [[\"\", [], []], [[[\"\", [], []], {\"t\": \"AlignDefault\", \"s\": \"AlignDefault\"}, 1, 1, [{\"t\": \"Plain\", \"c\": [{\"t\": \"Str\", \"c\": \"参数项2,3,4\", \"s\": \"Str 参数项2,3,4\"}], \"s\": \"Plain Str 参数项2,3,4\"}]], [[\"\", [], []], {\"t\": \"AlignDefault\", \"s\": \"AlignDefault\"}, 1, 1, []], [[\"\", [], []], {\"t\": \"AlignDefault\", \"s\": \"AlignDefault\"}, 1, 1, []], [[\"\", [], []], {\"t\": \"AlignDefault\", \"s\": \"AlignDefault\"}, 1, 1, [{\"t\": \"Plain\", \"c\": [{\"t\": \"Str\", \"c\": \"根据PAL\", \"s\": \"Str 根据PAL\"}, {\"t\": \"Space\", \"s\": \"Space\"}, {\"t\": \"Str\", \"c\": \"S中的码垛模式：如果按行码垛，则参数分别为行计数器数值，列计数器数值，层计数器数值；如果按列码垛，则参数项分别为列计数器数值，行计数器数值，层计数器数值\", \"s\": \"Str S中的码垛模式：如果按行码垛，则参数分别为行计数器数值，列计数器数值，层计数器数值；如果按列码垛，则参数项分别为列计数器数值，行计数器数值，层计数器数值\"}], \"s\": \"Plain Str 根据PAL Space Str S中的码垛模式：如果按行码垛，则参数分别为行计数器数值，列计数器数值，层计数器数值；如果按列码垛，则参数项分别为列计数器数值，行计数器数值，层计数器数值\"}]], [[\"\", [], []], {\"t\": \"AlignDefault\", \"s\": \"AlignDefault\"}, 1, 1, []], [[\"\", [], []], {\"t\": \"AlignDefault\", \"s\": \"AlignDefault\"}, 1, 1, []], [[\"\", [], []], {\"t\": \"AlignDefault\", \"s\": \"AlignDefault\"}, 1, 1, []]]], [[\"\", [], []], [[[\"\", [], []], {\"t\": \"AlignDefault\", \"s\": \"AlignDefault\"}, 1, 1, [{\"t\": \"Plain\", \"c\": [{\"t\": \"Str\", \"c\": \"举例\", \"s\": \"Str 举例\"}], \"s\": \"Plain Str 举例\"}]], [[\"\", [], []], {\"t\": \"AlignDefault\", \"s\": \"AlignDefault\"}, 1, 1, [{\"t\": \"Plain\", \"c\": [{\"t\": \"Str\", \"c\": \"PR\", \"s\": \"Str PR\"}, {\"t\": \"Space\", \"s\": \"Space\"}, {\"t\": \"Str\", \"c\": \"#01=2,3,4\", \"s\": \"Str #01=2,3,4\"}], \"s\": \"Plain Str PR Space Str #01=2,3,4\"}]], [[\"\", [], []], {\"t\": \"AlignDefault\", \"s\": \"AlignDefault\"}, 1, 1, []], [[\"\", [], []], {\"t\": \"AlignDefault\", \"s\": \"AlignDefault\"}, 1, 1, []], [[\"\", [], []], {\"t\": \"AlignDefault\", \"s\": \"AlignDefault\"}, 1, 1, []], [[\"\", [], []], {\"t\": \"AlignDefault\", \"s\": \"AlignDefault\"}, 1, 1, []], [[\"\", [], []], {\"t\": \"AlignDefault\", \"s\": \"AlignDefault\"}, 1, 1, []]]], [[\"\", [], []], [[[\"\", [], []], {\"t\": \"AlignDefault\", \"s\": \"AlignDefault\"}, 1, 1, [{\"t\": \"Plain\", \"c\": [{\"t\": \"Str\", \"c\": \"IF\", \"s\": \"Str IF\"}, {\"t\": \"Space\", \"s\": \"Space\"}, {\"t\": \"Str\", \"c\": \"PR\", \"s\": \"Str PR\"}], \"s\": \"Plain Str IF Space Str PR\"}]], [[\"\", [], []], {\"t\": \"AlignDefault\", \"s\": \"AlignDefault\"}, 1, 1, [{\"t\": \"Plain\", \"c\": [{\"t\": \"Str\", \"c\": \"功能\", \"s\": \"Str 功能\"}], \"s\": \"Plain Str 功能\"}]], [[\"\", [], []], {\"t\": \"AlignDefault\", \"s\": \"AlignDefault\"}, 1, 1, [{\"t\": \"Plain\", \"c\": [{\"t\": \"Str\", \"c\": \"判断码垛文件中计数器的数值选择性跳转\", \"s\": \"Str 判断码垛文件中计数器的数值选择性跳转\"}], \"s\": \"Plain Str 判断码垛文件中计数器的数值选择性跳转\"}]], [[\"\", [], []], {\"t\": \"AlignDefault\", \"s\": \"AlignDefault\"}, 1, 1, []], [[\"\", [], []], {\"t\": \"AlignDefault\", \"s\": \"AlignDefault\"}, 1, 1, []], [[\"\", [], []], {\"t\": \"AlignDefault\", \"s\": \"AlignDefault\"}, 1, 1, []], [[\"\", [], []], {\"t\": \"AlignDefault\", \"s\": \"AlignDefault\"}, 1, 1, []]]], [[\"\", [], []], [[[\"\", [], []], {\"t\": \"AlignDefault\", \"s\": \"AlignDefault\"}, 1, 1, [{\"t\": \"Plain\", \"c\": [{\"t\": \"Str\", \"c\": \"格式\", \"s\": \"Str 格式\"}], \"s\": \"Plain Str 格式\"}]], [[\"\", [], []], {\"t\": \"AlignDefault\", \"s\": \"AlignDefault\"}, 1, 1, [{\"t\": \"Plain\", \"c\": [{\"t\": \"Str\", \"c\": \"IF\", \"s\": \"Str IF\"}, {\"t\": \"Space\", \"s\": \"Space\"}, {\"t\": \"Str\", \"c\": \"PR#<参数项>=<参数项>，<参数项>，<参数项>\", \"s\": \"Str PR#<参数项>=<参数项>，<参数项>，<参数项>\"}, {\"t\": \"Space\", \"s\": \"Space\"}, {\"t\": \"Str\", \"c\": \"L<参数项>\", \"s\": \"Str L<参数项>\"}], \"s\": \"Plain Str IF Space Str PR#<参数项>=<参数项>，<参数项>，<参数项> Space Str L<参数项>\"}]], [[\"\", [], []], {\"t\": \"AlignDefault\", \"s\": \"AlignDefault\"}, 1, 1, []], [[\"\", [], []], {\"t\": \"AlignDefault\", \"s\": \"AlignDefault\"}, 1, 1, []], [[\"\", [], []], {\"t\": \"AlignDefault\", \"s\": \"AlignDefault\"}, 1, 1, []], [[\"\", [], []], {\"t\": \"AlignDefault\", \"s\": \"AlignDefault\"}, 1, 1, []], [[\"\", [], []], {\"t\": \"AlignDefault\", \"s\": \"AlignDefault\"}, 1, 1, []]]], [[\"\", [], []], [[[\"\", [], []], {\"t\": \"AlignDefault\", \"s\": \"AlignDefault\"}, 1, 1, [{\"t\": \"Plain\", \"c\": [{\"t\": \"Str\", \"c\": \"说明\", \"s\": \"Str 说明\"}], \"s\": \"Plain Str 说明\"}]], [[\"\", [], []], {\"t\": \"AlignDefault\", \"s\": \"AlignDefault\"}, 1, 1, [{\"t\": \"Plain\", \"c\": [{\"t\": \"Str\", \"c\": \"参数项1,2,3,4\", \"s\": \"Str 参数项1,2,3,4\"}], \"s\": \"Plain Str 参数项1,2,3,4\"}]], [[\"\", [], []], {\"t\": \"AlignDefault\", \"s\": \"AlignDefault\"}, 1, 1, []], [[\"\", [], []], {\"t\": \"AlignDefault\", \"s\": \"AlignDefault\"}, 1, 1, []], [[\"\", [], []], {\"t\": \"AlignDefault\", \"s\": \"AlignDefault\"}, 1, 1, []], [[\"\", [], []], {\"t\": \"AlignDefault\", \"s\": \"AlignDefault\"}, 1, 1, [{\"t\": \"Plain\", \"c\": [{\"t\": \"Str\", \"c\": \"与PR中参数项含义相同\", \"s\": \"Str 与PR中参数项含义相同\"}], \"s\": \"Plain Str 与PR中参数项含义相同\"}]], [[\"\", [], []], {\"t\": \"AlignDefault\", \"s\": \"AlignDefault\"}, 1, 1, []]]], [[\"\", [], []], [[[\"\", [], []], {\"t\": \"AlignDefault\", \"s\": \"AlignDefault\"}, 1, 1, [{\"t\": \"Plain\", \"c\": [{\"t\": \"Str\", \"c\": \"参数项5\", \"s\": \"Str 参数项5\"}], \"s\": \"Plain Str 参数项5\"}]], [[\"\", [], []], {\"t\": \"AlignDefault\", \"s\": \"AlignDefault\"}, 1, 1, []], [[\"\", [], []], {\"t\": \"AlignDefault\", \"s\": \"AlignDefault\"}, 1, 1, []], [[\"\", [], []], {\"t\": \"AlignDefault\", \"s\": \"AlignDefault\"}, 1, 1, []], [[\"\", [], []], {\"t\": \"AlignDefault\", \"s\": \"AlignDefault\"}, 1, 1, [{\"t\": \"Plain\", \"c\": [{\"t\": \"Str\", \"c\": \"满足条件时跳转标签\", \"s\": \"Str 满足条件时跳转标签\"}], \"s\": \"Plain Str 满足条件时跳转标签\"}]], [[\"\", [], []], {\"t\": \"AlignDefault\", \"s\": \"AlignDefault\"}, 1, 1, []], [[\"\", [], []], {\"t\": \"AlignDefault\", \"s\": \"AlignDefault\"}, 1, 1, []]]], [[\"\", [], []], [[[\"\", [], []], {\"t\": \"AlignDefault\", \"s\": \"AlignDefault\"}, 1, 1, [{\"t\": \"Plain\", \"c\": [{\"t\": \"Str\", \"c\": \"举例\", \"s\": \"Str 举例\"}], \"s\": \"Plain Str 举例\"}]], [[\"\", [], []], {\"t\": \"AlignDefault\", \"s\": \"AlignDefault\"}, 1, 1, [{\"t\": \"Plain\", \"c\": [{\"t\": \"Str\", \"c\": \"IF\", \"s\": \"Str IF\"}, {\"t\": \"Space\", \"s\": \"Space\"}, {\"t\": \"Str\", \"c\": \"PR#01=2,3,4\", \"s\": \"Str PR#01=2,3,4\"}, {\"t\": \"Space\", \"s\": \"Space\"}, {\"t\": \"Str\", \"c\": \"L10\", \"s\": \"Str L10\"}], \"s\": \"Plain Str IF Space Str PR#01=2,3,4 Space Str L10\"}]], [[\"\", [], []], {\"t\": \"AlignDefault\", \"s\": \"AlignDefault\"}, 1, 1, []], [[\"\", [], []], {\"t\": \"AlignDefault\", \"s\": \"AlignDefault\"}, 1, 1, []], [[\"\", [], []], {\"t\": \"AlignDefault\", \"s\": \"AlignDefault\"}, 1, 1, []], [[\"\", [], []], {\"t\": \"AlignDefault\", \"s\": \"AlignDefault\"}, 1, 1, []], [[\"\", [], []], {\"t\": \"AlignDefault\", \"s\": \"AlignDefault\"}, 1, 1, []]]]]]], [[\"\", [], []], []]], \"s\": \"Table 该字符串描述了一个码垛系统的配置，核心是重复执行的**对齐指令（`AlignDefault`，列宽固定为0.14285714285714285）**。这些指令基于参数值（`PR#01`等于2, 3, 或 4）控制码垛过程，包括对齐、计数、条件跳转和码垛区域切换。本质上，这是一个**参数驱动的码垛逻辑配置描述**，包含码垛开始标志指令。\\\\n\"}, {\"t\": \"Header\", \"c\": [3, [\"pal-s指令中的模式含义\", [], []], [{\"t\": \"Str\", \"c\": \"PAL\", \"s\": \"Str PAL\"}, {\"t\": \"Space\", \"s\": \"Space\"}, {\"t\": \"Str\", \"c\": \"S指令中的模式含义\", \"s\": \"Str S指令中的模式含义\"}]], \"s\": \"Header 3 pal-s指令中的模式含义   Str PAL Space Str S指令中的模式含义\"}, {\"t\": \"Para\", \"c\": [{\"t\": \"Str\", \"c\": \"目前支持两种模式1-2，如图2，3两种模式分别为按照行码垛和按照列码垛。行码垛和列码垛是按照用户坐标系的X轴和Y轴方向定义的。\", \"s\": \"Str 目前支持两种模式1-2，如图2，3两种模式分别为按照行码垛和按照列码垛。行码垛和列码垛是按照用户坐标系的X轴和Y轴方向定义的。\"}], \"s\": \"Para Str 目前支持两种模式1-2，如图2，3两种模式分别为按照行码垛和按照列码垛。行码垛和列码垛是按照用户坐标系的X轴和Y轴方向定义的。\"}, {\"t\": \"Figure\", \"c\": [[\"\", [], []], [null, [{\"t\": \"Plain\", \"c\": [{\"t\": \"Str\", \"c\": \"3\", \"s\": \"Str 3\"}], \"s\": \"Plain Str 3\"}]], [{\"t\": \"Plain\", \"c\": [{\"t\": \"Image\", \"c\": [[\"\", [], []], [{\"t\": \"Str\", \"c\": \"3\"}], [\"img/3_7.jpeg\", \"\"]], \"s\": \"该图像展示了一个由多个相同尺寸的立方体模块构成的结构，推测是模块化机械臂或机器人组件。该结构通过模块间的连接实现运动，拥有多自由度，可以实现空间定位和姿态调整。整体尺寸和运动范围取决于模块数量和排列方式。\\\\n\"}], \"s\": \"Plain 该图像展示了一个由多个相同尺寸的立方体模块构成的结构，推测是模块化机械臂或机器人组件。该结构通过模块间的连接实现运动，拥有多自由度，可以实现空间定位和姿态调整。整体尺寸和运动范围取决于模块数量和排列方式。\\\\n\"}]], \"s\": \"Figure     Plain Str 3 Plain 该图像展示了一个由多个相同尺寸的立方体模块构成的结构，推测是模块化机械臂或机器人组件。该结构通过模块间的连接实现运动，拥有多自由度，可以实现空间定位和姿态调整。整体尺寸和运动范围取决于模块数量和排列方式。\\\\n\"}, {\"t\": \"Para\", \"c\": [{\"t\": \"Str\", \"c\": \"图1-7行码垛（按X方向进行装载）\", \"s\": \"Str 图1-7行码垛（按X方向进行装载）\"}], \"s\": \"Para Str 图1-7行码垛（按X方向进行装载）\"}, {\"t\": \"Figure\", \"c\": [[\"\", [], []], [null, [{\"t\": \"Plain\", \"c\": [{\"t\": \"Str\", \"c\": \"4\", \"s\": \"Str 4\"}], \"s\": \"Plain Str 4\"}]], [{\"t\": \"Plain\", \"c\": [{\"t\": \"Image\", \"c\": [[\"\", [], []], [{\"t\": \"Str\", \"c\": \"4\"}], [\"img/4_8.jpeg\", \"\"]], \"s\": \"该图像展示了一个由方块堆叠而成的机器人结构，类似于机械臂或定位器。其尺寸由方块大小和层数决定，具备水平、垂直运动及多个自由度，可能应用于精确定位、抓取或放置等任务。\\\\n\"}], \"s\": \"Plain 该图像展示了一个由方块堆叠而成的机器人结构，类似于机械臂或定位器。其尺寸由方块大小和层数决定，具备水平、垂直运动及多个自由度，可能应用于精确定位、抓取或放置等任务。\\\\n\"}]], \"s\": \"Figure     Plain Str 4 Plain 该图像展示了一个由方块堆叠而成的机器人结构，类似于机械臂或定位器。其尺寸由方块大小和层数决定，具备水平、垂直运动及多个自由度，可能应用于精确定位、抓取或放置等任务。\\\\n\"}, {\"t\": \"Para\", \"c\": [{\"t\": \"Str\", \"c\": \"图1-8列码垛（按Y方向进行装载）\", \"s\": \"Str 图1-8列码垛（按Y方向进行装载）\"}], \"s\": \"Para Str 图1-8列码垛（按Y方向进行装载）\"}, {\"t\": \"Header\", \"c\": [3, [\"pal-lpal-j指令说明\", [], []], [{\"t\": \"Str\", \"c\": \"PAL\", \"s\": \"Str PAL\"}, {\"t\": \"Space\", \"s\": \"Space\"}, {\"t\": \"Str\", \"c\": \"L&PAL\", \"s\": \"Str L&PAL\"}, {\"t\": \"Space\", \"s\": \"Space\"}, {\"t\": \"Str\", \"c\": \"J指令说明\", \"s\": \"Str J指令说明\"}]], \"s\": \"Header 3 pal-lpal-j指令说明   Str PAL Space Str L&PAL Space Str J指令说明\"}, {\"t\": \"Para\", \"c\": [{\"t\": \"Str\", \"c\": \"PAL\", \"s\": \"Str PAL\"}, {\"t\": \"Space\", \"s\": \"Space\"}, {\"t\": \"Str\", \"c\": \"L和PAL\", \"s\": \"Str L和PAL\"}, {\"t\": \"Space\", \"s\": \"Space\"}, {\"t\": \"Str\", \"c\": \"J用于规划码垛运动过程，PAL\", \"s\": \"Str J用于规划码垛运动过程，PAL\"}, {\"t\": \"Space\", \"s\": \"Space\"}, {\"t\": \"Str\", \"c\": \"L和PAL\", \"s\": \"Str L和PAL\"}, {\"t\": \"Space\", \"s\": \"Space\"}, {\"t\": \"Str\", \"c\": \"J指令为特殊逻辑指令，该指令因为没有步号，所以无法在示教模式下以正方向运动方式到达，但可以记录机器人位置点，通常作为托盘第一个件码垛时的动作示教点。\", \"s\": \"Str J指令为特殊逻辑指令，该指令因为没有步号，所以无法在示教模式下以正方向运动方式到达，但可以记录机器人位置点，通常作为托盘第一个件码垛时的动作示教点。\"}], \"s\": \"Para Str PAL Space Str L和PAL Space Str J用于规划码垛运动过程，PAL Space Str L和PAL Space Str J指令为特殊逻辑指令，该指令因为没有步号，所以无法在示教模式下以正方向运动方式到达，但可以记录机器人位置点，通常作为托盘第一个件码垛时的动作示教点。\"}, {\"t\": \"Para\", \"c\": [{\"t\": \"Str\", \"c\": \"例：\", \"s\": \"Str 例：\"}, {\"t\": \"Space\", \"s\": \"Space\"}, {\"t\": \"Str\", \"c\": \"PAL\", \"s\": \"Str PAL\"}, {\"t\": \"Space\", \"s\": \"Space\"}, {\"t\": \"Str\", \"c\": \"S\", \"s\": \"Str S\"}, {\"t\": \"Space\", \"s\": \"Space\"}, {\"t\": \"Str\", \"c\": \"1\", \"s\": \"Str 1\"}, {\"t\": \"Space\", \"s\": \"Space\"}, {\"t\": \"Str\", \"c\": \"1\", \"s\": \"Str 1\"}], \"s\": \"Para Str 例： Space Str PAL Space Str S Space Str 1 Space Str 1\"}, {\"t\": \"Para\", \"c\": [{\"t\": \"Str\", \"c\": \"PAL\", \"s\": \"Str PAL\"}, {\"t\": \"Space\", \"s\": \"Space\"}, {\"t\": \"Str\", \"c\": \"J\", \"s\": \"Str J\"}, {\"t\": \"Space\", \"s\": \"Space\"}, {\"t\": \"Str\", \"c\": \"VJ=30\", \"s\": \"Str VJ=30\"}], \"s\": \"Para Str PAL Space Str J Space Str VJ=30\"}, {\"t\": \"Para\", \"c\": [{\"t\": \"Str\", \"c\": \"PAL\", \"s\": \"Str PAL\"}, {\"t\": \"Space\", \"s\": \"Space\"}, {\"t\": \"Str\", \"c\": \"L\", \"s\": \"Str L\"}, {\"t\": \"Space\", \"s\": \"Space\"}, {\"t\": \"Str\", \"c\": \"VL=200\", \"s\": \"Str VL=200\"}], \"s\": \"Para Str PAL Space Str L Space Str VL=200\"}, {\"t\": \"Para\", \"c\": [{\"t\": \"Str\", \"c\": \"OUT[3]=0\", \"s\": \"Str OUT[3]=0\"}], \"s\": \"Para Str OUT[3]=0\"}, {\"t\": \"Para\", \"c\": [{\"t\": \"Str\", \"c\": \"OUT[5]=1\", \"s\": \"Str OUT[5]=1\"}, {\"t\": \"Space\", \"s\": \"Space\"}, {\"t\": \"Str\", \"c\": \"与上条指令结合假设为控制夹手放下工件的指令\", \"s\": \"Str 与上条指令结合假设为控制夹手放下工件的指令\"}], \"s\": \"Para Str OUT[5]=1 Space Str 与上条指令结合假设为控制夹手放下工件的指令\"}, {\"t\": \"Para\", \"c\": [{\"t\": \"Str\", \"c\": \"DELAY\", \"s\": \"Str DELAY\"}, {\"t\": \"Space\", \"s\": \"Space\"}, {\"t\": \"Str\", \"c\": \"T=1.0\", \"s\": \"Str T=1.0\"}], \"s\": \"Para Str DELAY Space Str T=1.0\"}, {\"t\": \"Para\", \"c\": [{\"t\": \"Str\", \"c\": \"PAL\", \"s\": \"Str PAL\"}, {\"t\": \"Space\", \"s\": \"Space\"}, {\"t\": \"Str\", \"c\": \"L\", \"s\": \"Str L\"}, {\"t\": \"Space\", \"s\": \"Space\"}, {\"t\": \"Str\", \"c\": \"VL=200\", \"s\": \"Str VL=200\"}], \"s\": \"Para Str PAL Space Str L Space Str VL=200\"}, {\"t\": \"Para\", \"c\": [{\"t\": \"Str\", \"c\": \"PAL\", \"s\": \"Str PAL\"}, {\"t\": \"Space\", \"s\": \"Space\"}, {\"t\": \"Str\", \"c\": \"E\", \"s\": \"Str E\"}, {\"t\": \"Space\", \"s\": \"Space\"}, {\"t\": \"Str\", \"c\": \"#[13]\", \"s\": \"Str #[13]\"}], \"s\": \"Para Str PAL Space Str E Space Str #[13]\"}, {\"t\": \"Para\", \"c\": [{\"t\": \"Str\", \"c\": \"如例中，3条指令：\", \"s\": \"Str 如例中，3条指令：\"}, {\"t\": \"Quoted\", \"c\": [{\"t\": \"DoubleQuote\", \"s\": \"DoubleQuote\"}, [{\"t\": \"Str\", \"c\": \"PAL\", \"s\": \"Str PAL\"}, {\"t\": \"Space\", \"s\": \"Space\"}, {\"t\": \"Str\", \"c\": \"J\", \"s\": \"Str J\"}]], \"s\": \"Quoted DoubleQuote Str PAL Space Str J\"}, {\"t\": \"Str\", \"c\": \",\", \"s\": \"Str ,\"}, {\"t\": \"Quoted\", \"c\": [{\"t\": \"DoubleQuote\", \"s\": \"DoubleQuote\"}, [{\"t\": \"Str\", \"c\": \"PAL\", \"s\": \"Str PAL\"}, {\"t\": \"Space\", \"s\": \"Space\"}, {\"t\": \"Str\", \"c\": \"L\", \"s\": \"Str L\"}]], \"s\": \"Quoted DoubleQuote Str PAL Space Str L\"}, {\"t\": \"Str\", \"c\": \",\", \"s\": \"Str ,\"}, {\"t\": \"Quoted\", \"c\": [{\"t\": \"DoubleQuote\", \"s\": \"DoubleQuote\"}, [{\"t\": \"Str\", \"c\": \"PAL\", \"s\": \"Str PAL\"}, {\"t\": \"Space\", \"s\": \"Space\"}, {\"t\": \"Str\", \"c\": \"L\", \"s\": \"Str L\"}]], \"s\": \"Quoted DoubleQuote Str PAL Space Str L\"}, {\"t\": \"Str\", \"c\": \",记录的位置含义依次为：\", \"s\": \"Str ,记录的位置含义依次为：\"}, {\"t\": \"Quoted\", \"c\": [{\"t\": \"DoubleQuote\", \"s\": \"DoubleQuote\"}, [{\"t\": \"Str\", \"c\": \"托盘1首个码垛工件放置点的上方\", \"s\": \"Str 托盘1首个码垛工件放置点的上方\"}]], \"s\": \"Quoted DoubleQuote Str 托盘1首个码垛工件放置点的上方\"}, {\"t\": \"Quoted\", \"c\": [{\"t\": \"DoubleQuote\", \"s\": \"DoubleQuote\"}, [{\"t\": \"Str\", \"c\": \"工件1放置点\", \"s\": \"Str 工件1放置点\"}]], \"s\": \"Quoted DoubleQuote Str 工件1放置点\"}, {\"t\": \"Quoted\", \"c\": [{\"t\": \"DoubleQuote\", \"s\": \"DoubleQuote\"}, [{\"t\": \"Str\", \"c\": \"托盘1首个码垛工件放置点上方\", \"s\": \"Str 托盘1首个码垛工件放置点上方\"}]], \"s\": \"Quoted DoubleQuote Str 托盘1首个码垛工件放置点上方\"}, {\"t\": \"Str\", \"c\": \"旨在形成一个垂直放件的过程，在作业执行时，PAL\", \"s\": \"Str 旨在形成一个垂直放件的过程，在作业执行时，PAL\"}, {\"t\": \"Space\", \"s\": \"Space\"}, {\"t\": \"Str\", \"c\": \"S指令标志了码垛开始，在PAL\", \"s\": \"Str S指令标志了码垛开始，在PAL\"}, {\"t\": \"Space\", \"s\": \"Space\"}, {\"t\": \"Str\", \"c\": \"S和PAL\", \"s\": \"Str S和PAL\"}, {\"t\": \"Space\", \"s\": \"Space\"}, {\"t\": \"Str\", \"c\": \"E之间的PAL\", \"s\": \"Str E之间的PAL\"}, {\"t\": \"Space\", \"s\": \"Space\"}, {\"t\": \"Str\", \"c\": \"J和PAL\", \"s\": \"Str J和PAL\"}, {\"t\": \"Space\", \"s\": \"Space\"}, {\"t\": \"Str\", \"c\": \"L指令的位置点，会以示教作业时编写的基准位置根据计数器和码垛设置的参数之间计算出的偏移量开始偏移，由放置单个工件的动作根据计数器的累加而成为整个码垛过程。\", \"s\": \"Str L指令的位置点，会以示教作业时编写的基准位置根据计数器和码垛设置的参数之间计算出的偏移量开始偏移，由放置单个工件的动作根据计数器的累加而成为整个码垛过程。\"}], \"s\": \"Para 该字符串描述了一个码垛过程，使用“PAL Space Str J”和“PAL Space Str L”指令定义工件放置位置。这些指令基于示教的基准位置，通过计数器和码垛参数计算偏移量来确定工件的具体放置位置，形成垂直码垛。 “PAL Space Str S”和“PAL Space Str E”分别标志码垛的开始和结束。\\\\n\"}, {\"t\": \"Header\", \"c\": [3, [\"pal-r指令\", [], []], [{\"t\": \"Str\", \"c\": \"PAL\", \"s\": \"Str PAL\"}, {\"t\": \"Space\", \"s\": \"Space\"}, {\"t\": \"Str\", \"c\": \"R指令\", \"s\": \"Str R指令\"}]], \"s\": \"Header 3 pal-r指令   Str PAL Space Str R指令\"}, {\"t\": \"Para\", \"c\": [{\"t\": \"Str\", \"c\": \"PAL\", \"s\": \"Str PAL\"}, {\"t\": \"Space\", \"s\": \"Space\"}, {\"t\": \"Str\", \"c\": \"R码垛复位指令：\", \"s\": \"Str R码垛复位指令：\"}], \"s\": \"Para Str PAL Space Str R码垛复位指令：\"}, {\"t\": \"Para\", \"c\": [{\"t\": \"Str\", \"c\": \"PAL\", \"s\": \"Str PAL\"}, {\"t\": \"Space\", \"s\": \"Space\"}, {\"t\": \"Str\", \"c\": \"R\", \"s\": \"Str R\"}, {\"t\": \"Space\", \"s\": \"Space\"}, {\"t\": \"Str\", \"c\": \"#\", \"s\": \"Str #\"}, {\"t\": \"Space\", \"s\": \"Space\"}, {\"t\": \"Str\", \"c\": \"[文件号]\", \"s\": \"Str [文件号]\"}], \"s\": \"Para Str PAL Space Str R Space Str # Space Str [文件号]\"}, {\"t\": \"Para\", \"c\": [{\"t\": \"Str\", \"c\": \"目前码垛复位指令暂时只能与条件判断指令配合，利用调用子作业或者跳转的方式实现，满足一定条件则进行计数器置位的操作。如果满足条件则对相应托盘号对应的计数器进行全部复位。\", \"s\": \"Str 目前码垛复位指令暂时只能与条件判断指令配合，利用调用子作业或者跳转的方式实现，满足一定条件则进行计数器置位的操作。如果满足条件则对相应托盘号对应的计数器进行全部复位。\"}], \"s\": \"Para Str 目前码垛复位指令暂时只能与条件判断指令配合，利用调用子作业或者跳转的方式实现，满足一定条件则进行计数器置位的操作。如果满足条件则对相应托盘号对应的计数器进行全部复位。\"}, {\"t\": \"Para\", \"c\": [{\"t\": \"Str\", \"c\": \"[文件号]：输入文件号，使得文件号对应的托盘置位。\", \"s\": \"Str [文件号]：输入文件号，使得文件号对应的托盘置位。\"}], \"s\": \"Para Str [文件号]：输入文件号，使得文件号对应的托盘置位。\"}, {\"t\": \"Header\", \"c\": [3, [\"pal-e指令\", [], []], [{\"t\": \"Str\", \"c\": \"PAL\", \"s\": \"Str PAL\"}, {\"t\": \"Space\", \"s\": \"Space\"}, {\"t\": \"Str\", \"c\": \"E指令\", \"s\": \"Str E指令\"}]], \"s\": \"Header 3 pal-e指令   Str PAL Space Str E指令\"}, {\"t\": \"Para\", \"c\": [{\"t\": \"Str\", \"c\": \"PAL\", \"s\": \"Str PAL\"}, {\"t\": \"Space\", \"s\": \"Space\"}, {\"t\": \"Str\", \"c\": \"E码垛结束指令：\", \"s\": \"Str E码垛结束指令：\"}], \"s\": \"Para Str PAL Space Str E码垛结束指令：\"}, {\"t\": \"Para\", \"c\": [{\"t\": \"Str\", \"c\": \"PAL\", \"s\": \"Str PAL\"}, {\"t\": \"Space\", \"s\": \"Space\"}, {\"t\": \"Str\", \"c\": \"E\", \"s\": \"Str E\"}, {\"t\": \"Space\", \"s\": \"Space\"}, {\"t\": \"Str\", \"c\": \"#[信号]\", \"s\": \"Str #[信号]\"}], \"s\": \"Para Str PAL Space Str E Space Str #[信号]\"}, {\"t\": \"Para\", \"c\": [{\"t\": \"Str\", \"c\": \"码垛完成指令，与PAL\", \"s\": \"Str 码垛完成指令，与PAL\"}, {\"t\": \"Space\", \"s\": \"Space\"}, {\"t\": \"Str\", \"c\": \"S指令成对出现。\", \"s\": \"Str S指令成对出现。\"}], \"s\": \"Para Str 码垛完成指令，与PAL Space Str S指令成对出现。\"}, {\"t\": \"Header\", \"c\": [3, [\"pr指令\", [], []], [{\"t\": \"Str\", \"c\": \"PR指令\", \"s\": \"Str PR指令\"}]], \"s\": \"Header 3 pr指令   Str PR指令\"}, {\"t\": \"Para\", \"c\": [{\"t\": \"Str\", \"c\": \"码垛文件计数器赋值指令：\", \"s\": \"Str 码垛文件计数器赋值指令：\"}], \"s\": \"Para Str 码垛文件计数器赋值指令：\"}, {\"t\": \"Para\", \"c\": [{\"t\": \"Str\", \"c\": \"PR\", \"s\": \"Str PR\"}, {\"t\": \"Space\", \"s\": \"Space\"}, {\"t\": \"Str\", \"c\": \"#<参数项>=<参数项>，<参数项>，<参数项>\", \"s\": \"Str #<参数项>=<参数项>，<参数项>，<参数项>\"}], \"s\": \"Para Str PR Space Str #<参数项>=<参数项>，<参数项>，<参数项>\"}, {\"t\": \"Para\", \"c\": [{\"t\": \"Str\", \"c\": \"令码垛文件中的3个计数器等于设定值。如：\", \"s\": \"Str 令码垛文件中的3个计数器等于设定值。如：\"}, {\"t\": \"Quoted\", \"c\": [{\"t\": \"DoubleQuote\", \"s\": \"DoubleQuote\"}, [{\"t\": \"Str\", \"c\": \"PR#01=1，2，3\", \"s\": \"Str PR#01=1，2，3\"}]], \"s\": \"Quoted DoubleQuote Str PR#01=1，2，3\"}, {\"t\": \"Str\", \"c\": \"，如果当前码垛模式是按行码垛，则指令含义为使码垛文件1中的行计数器值为1，列计数器值为2，层计数器值为3；如果当前码垛模式是按列码垛，则指令含义为使码垛文件1中的列计数器值为1，行计数器值为2，层计数器值为3。\", \"s\": \"Str ，如果当前码垛模式是按行码垛，则指令含义为使码垛文件1中的行计数器值为1，列计数器值为2，层计数器值为3；如果当前码垛模式是按列码垛，则指令含义为使码垛文件1中的列计数器值为1，行计数器值为2，层计数器值为3。\"}], \"s\": \"Para Str 令码垛文件中的3个计数器等于设定值。如： Quoted DoubleQuote Str PR#01=1，2，3 Str ，如果当前码垛模式是按行码垛，则指令含义为使码垛文件1中的行计数器值为1，列计数器值为2，层计数器值为3；如果当前码垛模式是按列码垛，则指令含义为使码垛文件1中的列计数器值为1，行计数器值为2，层计数器值为3。\"}, {\"t\": \"Header\", \"c\": [3, [\"if-pr指令\", [], []], [{\"t\": \"Str\", \"c\": \"IF\", \"s\": \"Str IF\"}, {\"t\": \"Space\", \"s\": \"Space\"}, {\"t\": \"Str\", \"c\": \"PR指令\", \"s\": \"Str PR指令\"}]], \"s\": \"Header 3 if-pr指令   Str IF Space Str PR指令\"}, {\"t\": \"Para\", \"c\": [{\"t\": \"Str\", \"c\": \"条件判断跳转指令：\", \"s\": \"Str 条件判断跳转指令：\"}], \"s\": \"Para Str 条件判断跳转指令：\"}, {\"t\": \"Para\", \"c\": [{\"t\": \"Str\", \"c\": \"IF\", \"s\": \"Str IF\"}, {\"t\": \"Space\", \"s\": \"Space\"}, {\"t\": \"Str\", \"c\": \"PR#<参数项>=<参数项>，<参数项>，<参数项>\", \"s\": \"Str PR#<参数项>=<参数项>，<参数项>，<参数项>\"}, {\"t\": \"Space\", \"s\": \"Space\"}, {\"t\": \"Str\", \"c\": \"L<参数项>\", \"s\": \"Str L<参数项>\"}], \"s\": \"Para Str IF Space Str PR#<参数项>=<参数项>，<参数项>，<参数项> Space Str L<参数项>\"}, {\"t\": \"Para\", \"c\": [{\"t\": \"Str\", \"c\": \"当码垛文件计数器中的值等于当前值时跳转到标签。\", \"s\": \"Str 当码垛文件计数器中的值等于当前值时跳转到标签。\"}], \"s\": \"Para Str 当码垛文件计数器中的值等于当前值时跳转到标签。\"}, {\"t\": \"Header\", \"c\": [2, [\"码垛指令在rc界面中的位置的位置\", [], []], [{\"t\": \"Str\", \"c\": \"码垛指令在RC界面中的位置的位置\", \"s\": \"Str 码垛指令在RC界面中的位置的位置\"}]], \"s\": \"Header 2 码垛指令在rc界面中的位置的位置   Str 码垛指令在RC界面中的位置的位置\"}, {\"t\": \"Para\", \"c\": [{\"t\": \"Str\", \"c\": \"码垛指令在菜单中编辑\", \"s\": \"Str 码垛指令在菜单中编辑\"}], \"s\": \"Para Str 码垛指令在菜单中编辑\"}, {\"t\": \"Figure\", \"c\": [[\"\", [], []], [null, [{\"t\": \"Plain\", \"c\": [{\"t\": \"Str\", \"c\": \"img\", \"s\": \"Str img\"}], \"s\": \"Plain Str img\"}]], [{\"t\": \"Plain\", \"c\": [{\"t\": \"Image\", \"c\": [[\"\", [], []], [{\"t\": \"Str\", \"c\": \"img\"}], [\"img/img_9.png\", \"\"]], \"s\": \"该图像展示了一个机器人控制界面的网页截图。界面包含运动设置、系统信息和轴控制等功能，表明该机器人具备运动控制能力，至少拥有6个自由度。虽然界面未直接显示尺寸信息，但可能通过系统信息间接获取相关参数。总而言之，该界面用于控制和监控一个至少6轴的机器人。\\\\n\"}], \"s\": \"Plain 该图像展示了一个机器人控制界面的网页截图。界面包含运动设置、系统信息和轴控制等功能，表明该机器人具备运动控制能力，至少拥有6个自由度。虽然界面未直接显示尺寸信息，但可能通过系统信息间接获取相关参数。总而言之，该界面用于控制和监控一个至少6轴的机器人。\\\\n\"}]], \"s\": \"Figure     Plain Str img Plain 该图像展示了一个机器人控制界面的网页截图。界面包含运动设置、系统信息和轴控制等功能，表明该机器人具备运动控制能力，至少拥有6个自由度。虽然界面未直接显示尺寸信息，但可能通过系统信息间接获取相关参数。总而言之，该界面用于控制和监控一个至少6轴的机器人。\\\\n\"}, {\"t\": \"Para\", \"c\": [{\"t\": \"Str\", \"c\": \"图1-9码垛应用指令\", \"s\": \"Str 图1-9码垛应用指令\"}], \"s\": \"Para Str 图1-9码垛应用指令\"}, {\"t\": \"Figure\", \"c\": [[\"\", [], []], [null, [{\"t\": \"Plain\", \"c\": [{\"t\": \"Str\", \"c\": \"img\", \"s\": \"Str img\"}], \"s\": \"Plain Str img\"}]], [{\"t\": \"Plain\", \"c\": [{\"t\": \"Image\", \"c\": [[\"\", [], []], [{\"t\": \"Str\", \"c\": \"img\"}], [\"img/img_10.png\", \"\"]], \"s\": \"这张截图展示了一个工业机器人控制软件界面，用于编写和控制机器人运动轨迹。界面包含程序列表（如`NOP`, `PALS`, `PALL`指令）、状态信息和功能菜单。从程序代码推断，该机器人至少具有6轴自由度，但截图无法提供关于其机械尺寸或完整运动范围的信息。需要查阅相关技术文档以获取更详细的机器人参数。\\\\n\"}], \"s\": \"Plain 这张截图展示了一个工业机器人控制软件界面，用于编写和控制机器人运动轨迹。界面包含程序列表（如`NOP`, `PALS`, `PALL`指令）、状态信息和功能菜单。从程序代码推断，该机器人至少具有6轴自由度，但截图无法提供关于其机械尺寸或完整运动范围的信息。需要查阅相关技术文档以获取更详细的机器人参数。\\\\n\"}]], \"s\": \"Figure     Plain Str img Plain 这张截图展示了一个工业机器人控制软件界面，用于编写和控制机器人运动轨迹。界面包含程序列表（如`NOP`, `PALS`, `PALL`指令）、状态信息和功能菜单。从程序代码推断，该机器人至少具有6轴自由度，但截图无法提供关于其机械尺寸或完整运动范围的信息。需要查阅相关技术文档以获取更详细的机器人参数。\\\\n\"}, {\"t\": \"Para\", \"c\": [{\"t\": \"Str\", \"c\": \"图1-10简单码垛程序\", \"s\": \"Str 图1-10简单码垛程序\"}], \"s\": \"Para Str 图1-10简单码垛程序\"}, {\"t\": \"Header\", \"c\": [2, [\"码垛指令使用注意事项\", [], []], [{\"t\": \"Str\", \"c\": \"码垛指令使用注意事项\", \"s\": \"Str 码垛指令使用注意事项\"}]], \"s\": \"Header 2 码垛指令使用注意事项   Str 码垛指令使用注意事项\"}, {\"t\": \"Para\", \"c\": [{\"t\": \"Str\", \"c\": \"一个PALS指令后面有一个运动码垛指令PALL或者PALJ，最后必须有一个PALE结束指令。\", \"s\": \"Str 一个PALS指令后面有一个运动码垛指令PALL或者PALJ，最后必须有一个PALE结束指令。\"}], \"s\": \"Para Str 一个PALS指令后面有一个运动码垛指令PALL或者PALJ，最后必须有一个PALE结束指令。\"}, {\"t\": \"Header\", \"c\": [2, [\"码垛实例\", [], []], [{\"t\": \"Str\", \"c\": \"码垛实例\", \"s\": \"Str 码垛实例\"}]], \"s\": \"Header 2 码垛实例   Str 码垛实例\"}, {\"t\": \"Header\", \"c\": [3, [\"码垛三个托盘的工件实例\", [], []], [{\"t\": \"Str\", \"c\": \"码垛三个托盘的工件实例\", \"s\": \"Str 码垛三个托盘的工件实例\"}]], \"s\": \"Header 3 码垛三个托盘的工件实例   Str 码垛三个托盘的工件实例\"}, {\"t\": \"Para\", \"c\": [{\"t\": \"Str\", \"c\": \"如图1-11，拿三个托盘码垛实例进行说明，机器人从货站取工件，放置到托盘1；然后再从货站取工件，再放置到托盘2；依次从货站再去工件，放置到托盘3；以此作为循环继续进行。\", \"s\": \"Str 如图1-11，拿三个托盘码垛实例进行说明，机器人从货站取工件，放置到托盘1；然后再从货站取工件，再放置到托盘2；依次从货站再去工件，放置到托盘3；以此作为循环继续进行。\"}], \"s\": \"Para Str 如图1-11，拿三个托盘码垛实例进行说明，机器人从货站取工件，放置到托盘1；然后再从货站取工件，再放置到托盘2；依次从货站再去工件，放置到托盘3；以此作为循环继续进行。\"}, {\"t\": \"Figure\", \"c\": [[\"\", [], []], [null, [{\"t\": \"Plain\", \"c\": [{\"t\": \"Str\", \"c\": \"img\", \"s\": \"Str img\"}], \"s\": \"Plain Str img\"}]], [{\"t\": \"Plain\", \"c\": [{\"t\": \"Image\", \"c\": [[\"\", [], []], [{\"t\": \"Str\", \"c\": \"img\"}], [\"img/img_11.png\", \"\"]], \"s\": \"该图像展示了一台6轴关节式工业机器人，用于自动化生产线。机器人臂长度适中，可在三维空间内进行水平、垂直移动和旋转，并配有托盘式工作台用于零件的抓取和放置。图像序列展示了机器人从初始位置抓取零件的过程。 该机器人具有灵活精确的操作能力，可适应不同的生产需求。\\\\n\"}], \"s\": \"Plain 该图像展示了一台6轴关节式工业机器人，用于自动化生产线。机器人臂长度适中，可在三维空间内进行水平、垂直移动和旋转，并配有托盘式工作台用于零件的抓取和放置。图像序列展示了机器人从初始位置抓取零件的过程。 该机器人具有灵活精确的操作能力，可适应不同的生产需求。\\\\n\"}]], \"s\": \"Figure     Plain Str img Plain 该图像展示了一台6轴关节式工业机器人，用于自动化生产线。机器人臂长度适中，可在三维空间内进行水平、垂直移动和旋转，并配有托盘式工作台用于零件的抓取和放置。图像序列展示了机器人从初始位置抓取零件的过程。 该机器人具有灵活精确的操作能力，可适应不同的生产需求。\\\\n\"}, {\"t\": \"Para\", \"c\": [{\"t\": \"Str\", \"c\": \"图1-11\", \"s\": \"Str 图1-11\"}, {\"t\": \"Space\", \"s\": \"Space\"}, {\"t\": \"Str\", \"c\": \"针对3个托盘进行的码垛\", \"s\": \"Str 针对3个托盘进行的码垛\"}], \"s\": \"Para Str 图1-11 Space Str 针对3个托盘进行的码垛\"}, {\"t\": \"Header\", \"c\": [3, [\"码垛作业\", [], []], [{\"t\": \"Str\", \"c\": \"码垛作业\", \"s\": \"Str 码垛作业\"}]], \"s\": \"Header 3 码垛作业   Str 码垛作业\"}, {\"t\": \"Para\", \"c\": [{\"t\": \"Str\", \"c\": \"针对上图1-11，进行编写作业如下。\", \"s\": \"Str 针对上图1-11，进行编写作业如下。\"}], \"s\": \"Para Str 针对上图1-11，进行编写作业如下。\"}, {\"t\": \"Table\", \"c\": [[\"\", [], []], [null, []], [[{\"t\": \"AlignDefault\", \"s\": \"AlignDefault\"}, {\"t\": \"ColWidthDefault\", \"s\": \"ColWidthDefault\"}], [{\"t\": \"AlignDefault\", \"s\": \"AlignDefault\"}, {\"t\": \"ColWidthDefault\", \"s\": \"ColWidthDefault\"}], [{\"t\": \"AlignDefault\", \"s\": \"AlignDefault\"}, {\"t\": \"ColWidthDefault\", \"s\": \"ColWidthDefault\"}]], [[\"\", [], []], [[[\"\", [], []], [[[\"\", [], []], {\"t\": \"AlignDefault\", \"s\": \"AlignDefault\"}, 1, 1, [{\"t\": \"Plain\", \"c\": [{\"t\": \"Str\", \"c\": \"000\", \"s\": \"Str 000\"}], \"s\": \"Plain Str 000\"}]], [[\"\", [], []], {\"t\": \"AlignDefault\", \"s\": \"AlignDefault\"}, 1, 1, [{\"t\": \"Plain\", \"c\": [{\"t\": \"Str\", \"c\": \"NOP\", \"s\": \"Str NOP\"}], \"s\": \"Plain Str NOP\"}]], [[\"\", [], []], {\"t\": \"AlignDefault\", \"s\": \"AlignDefault\"}, 1, 1, []]]]]], [[[\"\", [], []], 0, [], [[[\"\", [], []], [[[\"\", [], []], {\"t\": \"AlignDefault\", \"s\": \"AlignDefault\"}, 1, 1, [{\"t\": \"Plain\", \"c\": [{\"t\": \"Str\", \"c\": \"001\", \"s\": \"Str 001\"}], \"s\": \"Plain Str 001\"}]], [[\"\", [], []], {\"t\": \"AlignDefault\", \"s\": \"AlignDefault\"}, 1, 1, [{\"t\": \"Plain\", \"c\": [{\"t\": \"Str\", \"c\": \"MOVL\", \"s\": \"Str MOVL\"}, {\"t\": \"Space\", \"s\": \"Space\"}, {\"t\": \"Str\", \"c\": \"VL=300\", \"s\": \"Str VL=300\"}], \"s\": \"Plain Str MOVL Space Str VL=300\"}]], [[\"\", [], []], {\"t\": \"AlignDefault\", \"s\": \"AlignDefault\"}, 1, 1, [{\"t\": \"Plain\", \"c\": [{\"t\": \"Str\", \"c\": \"固定位置取工件的位置点\", \"s\": \"Str 固定位置取工件的位置点\"}], \"s\": \"Plain Str 固定位置取工件的位置点\"}]]]], [[\"\", [], []], [[[\"\", [], []], {\"t\": \"AlignDefault\", \"s\": \"AlignDefault\"}, 1, 1, [{\"t\": \"Plain\", \"c\": [{\"t\": \"Str\", \"c\": \"002\", \"s\": \"Str 002\"}], \"s\": \"Plain Str 002\"}]], [[\"\", [], []], {\"t\": \"AlignDefault\", \"s\": \"AlignDefault\"}, 1, 1, [{\"t\": \"Plain\", \"c\": [{\"t\": \"Str\", \"c\": \"MOVL\", \"s\": \"Str MOVL\"}, {\"t\": \"Space\", \"s\": \"Space\"}, {\"t\": \"Str\", \"c\": \"VL=200\", \"s\": \"Str VL=200\"}], \"s\": \"Plain Str MOVL Space Str VL=200\"}]], [[\"\", [], []], {\"t\": \"AlignDefault\", \"s\": \"AlignDefault\"}, 1, 1, [{\"t\": \"Plain\", \"c\": [{\"t\": \"Str\", \"c\": \"移动到接近托盘1一点\", \"s\": \"Str 移动到接近托盘1一点\"}], \"s\": \"Plain Str 移动到接近托盘1一点\"}]]]], [[\"\", [], []], [[[\"\", [], []], {\"t\": \"AlignDefault\", \"s\": \"AlignDefault\"}, 1, 1, [{\"t\": \"Plain\", \"c\": [{\"t\": \"Str\", \"c\": \"003\", \"s\": \"Str 003\"}], \"s\": \"Plain Str 003\"}]], [[\"\", [], []], {\"t\": \"AlignDefault\", \"s\": \"AlignDefault\"}, 1, 1, [{\"t\": \"Plain\", \"c\": [{\"t\": \"Strong\", \"c\": [{\"t\": \"Str\", \"c\": \"PALS\", \"s\": \"Str PALS\"}, {\"t\": \"Space\", \"s\": \"Space\"}, {\"t\": \"Str\", \"c\": \"1\", \"s\": \"Str 1\"}, {\"t\": \"Space\", \"s\": \"Space\"}, {\"t\": \"Str\", \"c\": \"1\", \"s\": \"Str 1\"}], \"s\": \"Strong Str PALS Space Str 1 Space Str 1\"}], \"s\": \"Plain Strong Str PALS Space Str 1 Space Str 1\"}]], [[\"\", [], []], {\"t\": \"AlignDefault\", \"s\": \"AlignDefault\"}, 1, 1, [{\"t\": \"Plain\", \"c\": [{\"t\": \"Str\", \"c\": \"对托盘1，以模式1进行码垛开始\", \"s\": \"Str 对托盘1，以模式1进行码垛开始\"}], \"s\": \"Plain Str 对托盘1，以模式1进行码垛开始\"}]]]], [[\"\", [], []], [[[\"\", [], []], {\"t\": \"AlignDefault\", \"s\": \"AlignDefault\"}, 1, 1, [{\"t\": \"Plain\", \"c\": [{\"t\": \"Str\", \"c\": \"004\", \"s\": \"Str 004\"}], \"s\": \"Plain Str 004\"}]], [[\"\", [], []], {\"t\": \"AlignDefault\", \"s\": \"AlignDefault\"}, 1, 1, [{\"t\": \"Plain\", \"c\": [{\"t\": \"Str\", \"c\": \"PALL\", \"s\": \"Str PALL\"}, {\"t\": \"Space\", \"s\": \"Space\"}, {\"t\": \"Str\", \"c\": \"VL=400\", \"s\": \"Str VL=400\"}], \"s\": \"Plain Str PALL Space Str VL=400\"}]], [[\"\", [], []], {\"t\": \"AlignDefault\", \"s\": \"AlignDefault\"}, 1, 1, [{\"t\": \"Plain\", \"c\": [{\"t\": \"Str\", \"c\": \"对托盘1，第一个工件的码垛点\", \"s\": \"Str 对托盘1，第一个工件的码垛点\"}], \"s\": \"Plain Str 对托盘1，第一个工件的码垛点\"}]]]], [[\"\", [], []], [[[\"\", [], []], {\"t\": \"AlignDefault\", \"s\": \"AlignDefault\"}, 1, 1, [{\"t\": \"Plain\", \"c\": [{\"t\": \"Str\", \"c\": \"005\", \"s\": \"Str 005\"}], \"s\": \"Plain Str 005\"}]], [[\"\", [], []], {\"t\": \"AlignDefault\", \"s\": \"AlignDefault\"}, 1, 1, [{\"t\": \"Plain\", \"c\": [{\"t\": \"Strong\", \"c\": [{\"t\": \"Str\", \"c\": \"PAL\", \"s\": \"Str PAL\"}, {\"t\": \"Space\", \"s\": \"Space\"}, {\"t\": \"Str\", \"c\": \"E\", \"s\": \"Str E\"}, {\"t\": \"Space\", \"s\": \"Space\"}, {\"t\": \"Str\", \"c\": \"#1\", \"s\": \"Str #1\"}], \"s\": \"Strong Str PAL Space Str E Space Str #1\"}], \"s\": \"Plain Strong Str PAL Space Str E Space Str #1\"}]], [[\"\", [], []], {\"t\": \"AlignDefault\", \"s\": \"AlignDefault\"}, 1, 1, [{\"t\": \"Plain\", \"c\": [{\"t\": \"Str\", \"c\": \"码垛结束标志\", \"s\": \"Str 码垛结束标志\"}], \"s\": \"Plain Str 码垛结束标志\"}]]]], [[\"\", [], []], [[[\"\", [], []], {\"t\": \"AlignDefault\", \"s\": \"AlignDefault\"}, 1, 1, [{\"t\": \"Plain\", \"c\": [{\"t\": \"Str\", \"c\": \"006\", \"s\": \"Str 006\"}], \"s\": \"Plain Str 006\"}]], [[\"\", [], []], {\"t\": \"AlignDefault\", \"s\": \"AlignDefault\"}, 1, 1, [{\"t\": \"Plain\", \"c\": [{\"t\": \"Str\", \"c\": \"MOVL\", \"s\": \"Str MOVL\"}, {\"t\": \"Space\", \"s\": \"Space\"}, {\"t\": \"Str\", \"c\": \"VL=300\", \"s\": \"Str VL=300\"}], \"s\": \"Plain Str MOVL Space Str VL=300\"}]], [[\"\", [], []], {\"t\": \"AlignDefault\", \"s\": \"AlignDefault\"}, 1, 1, [{\"t\": \"Plain\", \"c\": [{\"t\": \"Str\", \"c\": \"到货站取工件的位置点\", \"s\": \"Str 到货站取工件的位置点\"}], \"s\": \"Plain Str 到货站取工件的位置点\"}]]]], [[\"\", [], []], [[[\"\", [], []], {\"t\": \"AlignDefault\", \"s\": \"AlignDefault\"}, 1, 1, [{\"t\": \"Plain\", \"c\": [{\"t\": \"Str\", \"c\": \"007\", \"s\": \"Str 007\"}], \"s\": \"Plain Str 007\"}]], [[\"\", [], []], {\"t\": \"AlignDefault\", \"s\": \"AlignDefault\"}, 1, 1, [{\"t\": \"Plain\", \"c\": [{\"t\": \"Str\", \"c\": \"MOVL\", \"s\": \"Str MOVL\"}, {\"t\": \"Space\", \"s\": \"Space\"}, {\"t\": \"Str\", \"c\": \"VL=200\", \"s\": \"Str VL=200\"}], \"s\": \"Plain Str MOVL Space Str VL=200\"}]], [[\"\", [], []], {\"t\": \"AlignDefault\", \"s\": \"AlignDefault\"}, 1, 1, [{\"t\": \"Plain\", \"c\": [{\"t\": \"Str\", \"c\": \"移动到接近托盘2一点\", \"s\": \"Str 移动到接近托盘2一点\"}], \"s\": \"Plain Str 移动到接近托盘2一点\"}]]]], [[\"\", [], []], [[[\"\", [], []], {\"t\": \"AlignDefault\", \"s\": \"AlignDefault\"}, 1, 1, [{\"t\": \"Plain\", \"c\": [{\"t\": \"Str\", \"c\": \"008\", \"s\": \"Str 008\"}], \"s\": \"Plain Str 008\"}]], [[\"\", [], []], {\"t\": \"AlignDefault\", \"s\": \"AlignDefault\"}, 1, 1, [{\"t\": \"Plain\", \"c\": [{\"t\": \"Strong\", \"c\": [{\"t\": \"Str\", \"c\": \"PALS\", \"s\": \"Str PALS\"}, {\"t\": \"Space\", \"s\": \"Space\"}, {\"t\": \"Str\", \"c\": \"1\", \"s\": \"Str 1\"}, {\"t\": \"Space\", \"s\": \"Space\"}, {\"t\": \"Str\", \"c\": \"2\", \"s\": \"Str 2\"}], \"s\": \"Strong Str PALS Space Str 1 Space Str 2\"}], \"s\": \"Plain Strong Str PALS Space Str 1 Space Str 2\"}]], [[\"\", [], []], {\"t\": \"AlignDefault\", \"s\": \"AlignDefault\"}, 1, 1, [{\"t\": \"Plain\", \"c\": [{\"t\": \"Str\", \"c\": \"对托盘2，以模式1进行码垛开始\", \"s\": \"Str 对托盘2，以模式1进行码垛开始\"}], \"s\": \"Plain Str 对托盘2，以模式1进行码垛开始\"}]]]], [[\"\", [], []], [[[\"\", [], []], {\"t\": \"AlignDefault\", \"s\": \"AlignDefault\"}, 1, 1, [{\"t\": \"Plain\", \"c\": [{\"t\": \"Str\", \"c\": \"009\", \"s\": \"Str 009\"}], \"s\": \"Plain Str 009\"}]], [[\"\", [], []], {\"t\": \"AlignDefault\", \"s\": \"AlignDefault\"}, 1, 1, [{\"t\": \"Plain\", \"c\": [{\"t\": \"Str\", \"c\": \"PALL\", \"s\": \"Str PALL\"}, {\"t\": \"Space\", \"s\": \"Space\"}, {\"t\": \"Str\", \"c\": \"VL=400\", \"s\": \"Str VL=400\"}], \"s\": \"Plain Str PALL Space Str VL=400\"}]], [[\"\", [], []], {\"t\": \"AlignDefault\", \"s\": \"AlignDefault\"}, 1, 1, [{\"t\": \"Plain\", \"c\": [{\"t\": \"Str\", \"c\": \"对托盘2，第一个工件的码垛点\", \"s\": \"Str 对托盘2，第一个工件的码垛点\"}], \"s\": \"Plain Str 对托盘2，第一个工件的码垛点\"}]]]], [[\"\", [], []], [[[\"\", [], []], {\"t\": \"AlignDefault\", \"s\": \"AlignDefault\"}, 1, 1, [{\"t\": \"Plain\", \"c\": [{\"t\": \"Str\", \"c\": \"010\", \"s\": \"Str 010\"}], \"s\": \"Plain Str 010\"}]], [[\"\", [], []], {\"t\": \"AlignDefault\", \"s\": \"AlignDefault\"}, 1, 1, [{\"t\": \"Plain\", \"c\": [{\"t\": \"Strong\", \"c\": [{\"t\": \"Str\", \"c\": \"PAL\", \"s\": \"Str PAL\"}, {\"t\": \"Space\", \"s\": \"Space\"}, {\"t\": \"Str\", \"c\": \"E\", \"s\": \"Str E\"}, {\"t\": \"Space\", \"s\": \"Space\"}, {\"t\": \"Str\", \"c\": \"#2\", \"s\": \"Str #2\"}], \"s\": \"Strong Str PAL Space Str E Space Str #2\"}], \"s\": \"Plain Strong Str PAL Space Str E Space Str #2\"}]], [[\"\", [], []], {\"t\": \"AlignDefault\", \"s\": \"AlignDefault\"}, 1, 1, [{\"t\": \"Plain\", \"c\": [{\"t\": \"Str\", \"c\": \"码垛结束标志\", \"s\": \"Str 码垛结束标志\"}], \"s\": \"Plain Str 码垛结束标志\"}]]]], [[\"\", [], []], [[[\"\", [], []], {\"t\": \"AlignDefault\", \"s\": \"AlignDefault\"}, 1, 1, [{\"t\": \"Plain\", \"c\": [{\"t\": \"Str\", \"c\": \"011\", \"s\": \"Str 011\"}], \"s\": \"Plain Str 011\"}]], [[\"\", [], []], {\"t\": \"AlignDefault\", \"s\": \"AlignDefault\"}, 1, 1, [{\"t\": \"Plain\", \"c\": [{\"t\": \"Str\", \"c\": \"MOVL\", \"s\": \"Str MOVL\"}, {\"t\": \"Space\", \"s\": \"Space\"}, {\"t\": \"Str\", \"c\": \"VL=300\", \"s\": \"Str VL=300\"}], \"s\": \"Plain Str MOVL Space Str VL=300\"}]], [[\"\", [], []], {\"t\": \"AlignDefault\", \"s\": \"AlignDefault\"}, 1, 1, [{\"t\": \"Plain\", \"c\": [{\"t\": \"Str\", \"c\": \"到货站取工件的位置点\", \"s\": \"Str 到货站取工件的位置点\"}], \"s\": \"Plain Str 到货站取工件的位置点\"}]]]], [[\"\", [], []], [[[\"\", [], []], {\"t\": \"AlignDefault\", \"s\": \"AlignDefault\"}, 1, 1, [{\"t\": \"Plain\", \"c\": [{\"t\": \"Str\", \"c\": \"012\", \"s\": \"Str 012\"}], \"s\": \"Plain Str 012\"}]], [[\"\", [], []], {\"t\": \"AlignDefault\", \"s\": \"AlignDefault\"}, 1, 1, [{\"t\": \"Plain\", \"c\": [{\"t\": \"Str\", \"c\": \"MOVL\", \"s\": \"Str MOVL\"}, {\"t\": \"Space\", \"s\": \"Space\"}, {\"t\": \"Str\", \"c\": \"VL=200\", \"s\": \"Str VL=200\"}], \"s\": \"Plain Str MOVL Space Str VL=200\"}]], [[\"\", [], []], {\"t\": \"AlignDefault\", \"s\": \"AlignDefault\"}, 1, 1, [{\"t\": \"Plain\", \"c\": [{\"t\": \"Str\", \"c\": \"移动到接近托盘3一点\", \"s\": \"Str 移动到接近托盘3一点\"}], \"s\": \"Plain Str 移动到接近托盘3一点\"}]]]], [[\"\", [], []], [[[\"\", [], []], {\"t\": \"AlignDefault\", \"s\": \"AlignDefault\"}, 1, 1, [{\"t\": \"Plain\", \"c\": [{\"t\": \"Str\", \"c\": \"013\", \"s\": \"Str 013\"}], \"s\": \"Plain Str 013\"}]], [[\"\", [], []], {\"t\": \"AlignDefault\", \"s\": \"AlignDefault\"}, 1, 1, [{\"t\": \"Plain\", \"c\": [{\"t\": \"Strong\", \"c\": [{\"t\": \"Str\", \"c\": \"PALS\", \"s\": \"Str PALS\"}, {\"t\": \"Space\", \"s\": \"Space\"}, {\"t\": \"Str\", \"c\": \"1\", \"s\": \"Str 1\"}, {\"t\": \"Space\", \"s\": \"Space\"}, {\"t\": \"Str\", \"c\": \"3\", \"s\": \"Str 3\"}], \"s\": \"Strong Str PALS Space Str 1 Space Str 3\"}], \"s\": \"Plain Strong Str PALS Space Str 1 Space Str 3\"}]], [[\"\", [], []], {\"t\": \"AlignDefault\", \"s\": \"AlignDefault\"}, 1, 1, [{\"t\": \"Plain\", \"c\": [{\"t\": \"Str\", \"c\": \"对托盘3，以模式1进行码垛开始\", \"s\": \"Str 对托盘3，以模式1进行码垛开始\"}], \"s\": \"Plain Str 对托盘3，以模式1进行码垛开始\"}]]]], [[\"\", [], []], [[[\"\", [], []], {\"t\": \"AlignDefault\", \"s\": \"AlignDefault\"}, 1, 1, [{\"t\": \"Plain\", \"c\": [{\"t\": \"Str\", \"c\": \"014\", \"s\": \"Str 014\"}], \"s\": \"Plain Str 014\"}]], [[\"\", [], []], {\"t\": \"AlignDefault\", \"s\": \"AlignDefault\"}, 1, 1, [{\"t\": \"Plain\", \"c\": [{\"t\": \"Str\", \"c\": \"PALL\", \"s\": \"Str PALL\"}, {\"t\": \"Space\", \"s\": \"Space\"}, {\"t\": \"Str\", \"c\": \"VL=400\", \"s\": \"Str VL=400\"}], \"s\": \"Plain Str PALL Space Str VL=400\"}]], [[\"\", [], []], {\"t\": \"AlignDefault\", \"s\": \"AlignDefault\"}, 1, 1, [{\"t\": \"Plain\", \"c\": [{\"t\": \"Str\", \"c\": \"对托盘3，第一个工件的码垛点\", \"s\": \"Str 对托盘3，第一个工件的码垛点\"}], \"s\": \"Plain Str 对托盘3，第一个工件的码垛点\"}]]]], [[\"\", [], []], [[[\"\", [], []], {\"t\": \"AlignDefault\", \"s\": \"AlignDefault\"}, 1, 1, [{\"t\": \"Plain\", \"c\": [{\"t\": \"Str\", \"c\": \"015\", \"s\": \"Str 015\"}], \"s\": \"Plain Str 015\"}]], [[\"\", [], []], {\"t\": \"AlignDefault\", \"s\": \"AlignDefault\"}, 1, 1, [{\"t\": \"Plain\", \"c\": [{\"t\": \"Strong\", \"c\": [{\"t\": \"Str\", \"c\": \"PAL\", \"s\": \"Str PAL\"}, {\"t\": \"Space\", \"s\": \"Space\"}, {\"t\": \"Str\", \"c\": \"E\", \"s\": \"Str E\"}, {\"t\": \"Space\", \"s\": \"Space\"}, {\"t\": \"Str\", \"c\": \"#3\", \"s\": \"Str #3\"}], \"s\": \"Strong Str PAL Space Str E Space Str #3\"}], \"s\": \"Plain Strong Str PAL Space Str E Space Str #3\"}]], [[\"\", [], []], {\"t\": \"AlignDefault\", \"s\": \"AlignDefault\"}, 1, 1, [{\"t\": \"Plain\", \"c\": [{\"t\": \"Str\", \"c\": \"码垛结束标志\", \"s\": \"Str 码垛结束标志\"}], \"s\": \"Plain Str 码垛结束标志\"}]]]]]]], [[\"\", [], []], []]], \"s\": \"Table 该字符串描述了一个**自动化码垛流程**，针对**三个托盘**重复执行**取料、定位、码垛和结束标记**等步骤，并使用特定代码进行标识。\\\\n\"}]}'"
      ]
     },
     "execution_count": 30,
     "metadata": {},
     "output_type": "execute_result"
    }
   ],
   "source": [
    "dom.ast_json"
   ]
  },
  {
   "cell_type": "code",
   "execution_count": 31,
   "id": "69674d4f",
   "metadata": {},
   "outputs": [
    {
     "data": {
      "text/plain": [
       "82096"
      ]
     },
     "execution_count": 31,
     "metadata": {},
     "output_type": "execute_result"
    }
   ],
   "source": [
    "js_semantics_file.write_text(dom.ast_json, encoding=\"utf-8\")\n"
   ]
  },
  {
   "cell_type": "code",
   "execution_count": null,
   "id": "9f3b5458",
   "metadata": {},
   "outputs": [],
   "source": [
    "\n",
    "js_file = md_file.with_suffix('.json')\n",
    "js_file.write_text(js, encoding=\"utf-8\")"
   ]
  },
  {
   "cell_type": "code",
   "execution_count": null,
   "id": "6a413bcd",
   "metadata": {},
   "outputs": [],
   "source": [
    "# create test case for Markdown class with identity function\n",
    "import os\n",
    "import shutil\n",
    "from pathlib import Path\n",
    "# change directory to the script's directory\n",
    "# cwd = Path(os.getcwd()).parent / \"res/siasun_md_sample_hrsl\"\n",
    "# os.chdir(cwd)\n",
    "cwd = os.getcwd()\n",
    "os.listdir(cwd)\n",
    "\n",
    "# os.chdir(Path(cwd).parent / \"res/SR02401\")\n"
   ]
  },
  {
   "cell_type": "code",
   "execution_count": null,
   "id": "c16c2fff",
   "metadata": {},
   "outputs": [],
   "source": [
    "dom = DOM(content=\"# Test\\n\\nThis is a test.\\n\\nThis is **bold**.\")\n",
    "# save the markdown content to a file\n",
    "md_file = Path(cwd) / \"test.md\"\n",
    "md_file.write_text(dom.raw_markdown, encoding=\"utf-8\")\n",
    "rst = pypandoc.convert_file('test.md', \"rst\", format=\"md\")\n",
    "rst_file = Path(cwd) / \"test.rst\"\n",
    "rst_file.write_text(rst, encoding=\"utf-8\")\n",
    "\n",
    "js = dom.to_json()\n",
    "js_file = Path(cwd) / \"test.json\"\n",
    "js_file.write_text(js, encoding=\"utf-8\")\n",
    "dom.walk()\n",
    "# dom.ast_json\n",
    "(Path(cwd) / \"test_ast.json\").write_text(dom.ast_json, encoding=\"utf-8\")\n",
    "(Path(cwd) / \"test_raw.json\").write_text(dom.raw_json, encoding=\"utf-8\")"
   ]
  },
  {
   "cell_type": "code",
   "execution_count": null,
   "id": "8b46336c",
   "metadata": {},
   "outputs": [],
   "source": [
    "cwd"
   ]
  },
  {
   "cell_type": "code",
   "execution_count": null,
   "id": "e7315907",
   "metadata": {},
   "outputs": [],
   "source": [
    "# md_file = Path(cwd) / \"SN024002/SN024002《新松SN7B-7-0.90规格参数》A-1.md\"\n",
    "md_file = Path(cwd) / \"SX322002/SX322002《新松机器人码垛应用操作手册》-V1.0.md\"\n",
    "dom = DOM.from_file(md_file)\n",
    "js = dom.to_json()\n",
    "js_file = Path(cwd) / \"SX322002/SX322002《新松机器人码垛应用操作手册》-V1.0.json\"\n",
    "js_file.write_text(js, encoding=\"utf-8\")"
   ]
  },
  {
   "cell_type": "code",
   "execution_count": null,
   "id": "eda0482a",
   "metadata": {},
   "outputs": [],
   "source": [
    "dom.walk()\n",
    "(Path(cwd) / \"SX322002/SX322002《新松机器人码垛应用操作手册》-V1.0_ast.json\").write_text(dom.ast_json, encoding=\"utf-8\")\n",
    "(Path(cwd) / \"SX322002/SX322002《新松机器人码垛应用操作手册》-V1.0_raw.json\").write_text(dom.raw_json, encoding=\"utf-8\")"
   ]
  },
  {
   "cell_type": "markdown",
   "id": "712e4302",
   "metadata": {},
   "source": [
    "## Section Class: Recursive Document Structure"
   ]
  },
  {
   "cell_type": "code",
   "execution_count": null,
   "id": "73069f50",
   "metadata": {},
   "outputs": [],
   "source": [
    "# | export\n",
    "class Section(BaseModel):\n",
    "    summary: Optional[str] = None\n",
    "    paragraphs: List[str] = Field(default_factory=list)\n",
    "    figures: List[Figure] = Field(default_factory=list)\n",
    "    tables: List[Table] = Field(default_factory=list)\n",
    "    subsections: List[\"Section\"] = Field(default_factory=list)\n",
    "\n",
    "    def __init__(\n",
    "        self,\n",
    "        summary: Optional[str] = None,\n",
    "        paragraphs: Optional[List[str]] = None,\n",
    "        figures: Optional[List[Figure]] = None,\n",
    "        tables: Optional[List[Table]] = None,\n",
    "        subsections: Optional[List[dict]] = None,\n",
    "    ):\n",
    "        # Recursively initialize subsections if provided as dicts\n",
    "        if subsections is not None:\n",
    "            subs = [Section(**s) if isinstance(s, dict) else s for s in subsections]\n",
    "        else:\n",
    "            subs = []\n",
    "        super().__init__(\n",
    "            summary=summary,\n",
    "            paragraphs=paragraphs or [],\n",
    "            figures=figures or [],\n",
    "            tables=tables or [],\n",
    "            subsections=subs,\n",
    "        )\n",
    "\n",
    "    @classmethod\n",
    "    def init(cls, md: Markdown):\n",
    "        # Placeholder for initialization from Markdown\n",
    "        return cls()\n",
    "\n",
    "    @classmethod\n",
    "    def update_forward_refs(cls, **localns):\n",
    "        ...\n",
    "        #BaseModel.model_rebuild()\n",
    "\n",
    "\n",
    "# Support for recursive Section references\n",
    "Section.model_rebuild()"
   ]
  }
 ],
 "metadata": {
  "kernelspec": {
   "display_name": "cell",
   "language": "python",
   "name": "python3"
  },
  "language_info": {
   "codemirror_mode": {
    "name": "ipython",
    "version": 3
   },
   "file_extension": ".py",
   "mimetype": "text/x-python",
   "name": "python",
   "nbconvert_exporter": "python",
   "pygments_lexer": "ipython3",
   "version": "3.12.9"
  }
 },
 "nbformat": 4,
 "nbformat_minor": 5
}
