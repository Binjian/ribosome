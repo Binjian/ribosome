{
 "cells": [
  {
   "cell_type": "markdown",
   "id": "d2e487e0",
   "metadata": {},
   "source": [
    "--\n",
    "description: DOM Model with Pydantic and Pandoc Integration\n",
    "output-file: core.dom.html\n",
    "title: core.dom\n",
    "\n",
    "This notebook demonstrates a Document Object Model (DOM) using Pydantic for static typing and validation, and integrates Pandoc (via pypandoc) for Markdown processing.\n",
    "---"
   ]
  },
  {
   "cell_type": "code",
   "execution_count": 1,
   "id": "354e685a",
   "metadata": {},
   "outputs": [],
   "source": [
    "# | default_exp dom"
   ]
  },
  {
   "cell_type": "code",
   "execution_count": 2,
   "id": "8af0c04b",
   "metadata": {},
   "outputs": [],
   "source": [
    "# | hide\n",
    "from nbdev.showdoc import *\n",
    "from IPython.core.interactiveshell import InteractiveShell\n",
    "from IPython.display import Markdown, display\n",
    "\n",
    "InteractiveShell.ast_node_interactivity = \"all\""
   ]
  },
  {
   "cell_type": "code",
   "execution_count": 3,
   "id": "745a9572",
   "metadata": {},
   "outputs": [],
   "source": [
    "# | export\n",
    "from typing import List, Optional\n",
    "from pydantic import BaseModel, Field, field_validator\n",
    "import base64\n",
    "import pypandoc\n",
    "import pathlib\n",
    "import json\n",
    "import re\n",
    "import os\n",
    "from pathlib import Path\n",
    "from pprint import pprint\n",
    "import markdown"
   ]
  },
  {
   "cell_type": "code",
   "execution_count": 4,
   "id": "361567c2",
   "metadata": {},
   "outputs": [],
   "source": [
    "#| export\n",
    "from ollama import chat, ChatResponse, Client"
   ]
  },
  {
   "cell_type": "markdown",
   "id": "d8e78a35",
   "metadata": {},
   "source": [
    "## Base Element Class"
   ]
  },
  {
   "cell_type": "code",
   "execution_count": 5,
   "id": "837951d8",
   "metadata": {},
   "outputs": [],
   "source": [
    "# | export\n",
    "class Element(BaseModel):\n",
    "    summary: Optional[str] = None"
   ]
  },
  {
   "cell_type": "markdown",
   "id": "7c18b3b4",
   "metadata": {},
   "source": [
    "## Figure Class with Base64 Validation"
   ]
  },
  {
   "cell_type": "code",
   "execution_count": 6,
   "id": "0c9cb6bb",
   "metadata": {},
   "outputs": [],
   "source": [
    "# | export\n",
    "class Figure(Element):\n",
    "    rawdata: str = Field(..., description=\"Base64-encoded image data\")\n",
    "\n",
    "    @field_validator(\"rawdata\")\n",
    "    def validate_base64(cls, v):\n",
    "        try:\n",
    "            base64.b64decode(v)\n",
    "        except Exception:\n",
    "            raise ValueError(\"rawdata must be valid base64\")\n",
    "        return v"
   ]
  },
  {
   "cell_type": "markdown",
   "id": "56fc259b",
   "metadata": {},
   "source": [
    "## Table Structure: Cell, Column, Row, Table"
   ]
  },
  {
   "cell_type": "code",
   "execution_count": 7,
   "id": "a921e917",
   "metadata": {},
   "outputs": [],
   "source": [
    "# | export\n",
    "class Cell(BaseModel):\n",
    "    c: str\n",
    "\n",
    "\n",
    "class Column(BaseModel):\n",
    "    cells: List[Cell]\n",
    "\n",
    "\n",
    "class Row(BaseModel):\n",
    "    cols: List[Column]\n",
    "\n",
    "\n",
    "class Table(Element):\n",
    "    rows: List[Row]"
   ]
  },
  {
   "cell_type": "code",
   "execution_count": 8,
   "id": "ac94f2d9",
   "metadata": {},
   "outputs": [],
   "source": [
    "# | export\n",
    "def get_text_summary_response(content: str, model:str=\"gemma3-27b\", role:str=\"user\") -> ChatResponse:\n",
    "    \"\"\"\n",
    "    Returns a ChatResponse from the chat model with a summary prompt for the given content.\n",
    "    \"\"\"\n",
    "    return chat(\n",
    "        model=model,\n",
    "        messages=[\n",
    "            {\n",
    "                \"role\": role,\n",
    "                \"content\": (\n",
    "                    f\"Please provide a summary of the following string. \"\n",
    "                    f\"The summary should be concise and informative: {content}. \"\n",
    "                    \n",
    "                ),\n",
    "            }\n",
    "        ],\n",
    "    )"
   ]
  },
  {
   "cell_type": "code",
   "execution_count": 9,
   "id": "a2cb622f",
   "metadata": {},
   "outputs": [],
   "source": [
    "# | export\n",
    "image_link_pattern = r'[^\\s]+\\.(?:jpg|jpeg|png|gif|bmp|webp)'\n",
    "\n",
    "def get_image_summary_response(image_link: str, model:str=\"gemma3:27b\", role:str=\"user\", lang: str='en') -> ChatResponse:\n",
    "    \"\"\"\n",
    "    Returns a ChatResponse from the chat model with a summary prompt for the given image.\n",
    "    \"\"\"\n",
    "    if not re.match(image_link_pattern, image_link):\n",
    "        # If the image link is not a URL, throw an error\n",
    "        raise ValueError(f\"Invalid image link: {image_link}\")\n",
    "    \n",
    "    match lang:\n",
    "        case 'en':\n",
    "            prompt = \"Please provide a summary of the following image. The summary should be concise and informative about the robot.\"\n",
    "        case 'zh':\n",
    "            prompt = \"请提供以下图像的摘要。关于机器人机械尺寸,运动范围,自由度的说明应简明扼要。\"\n",
    "        case _:\n",
    "            raise ValueError(f\"Unsupported language: {lang}\")\n",
    "\n",
    "    response = chat(\n",
    "        model=model,\n",
    "        messages=[\n",
    "            {\n",
    "                \"role\": role,\n",
    "                \"content\": prompt,\n",
    "                'images': [f\"{image_link}\"],\n",
    "            }\n",
    "        ],\n",
    "    )\n",
    "    return response\n"
   ]
  },
  {
   "cell_type": "code",
   "execution_count": 10,
   "id": "c6f06588",
   "metadata": {},
   "outputs": [
    {
     "data": {
      "text/plain": [
       "'../res/siasun_md_sammple_hrsl/SN024002/img/__2.png'"
      ]
     },
     "execution_count": 10,
     "metadata": {},
     "output_type": "execute_result"
    }
   ],
   "source": [
    "# os.getcwd()\n",
    "image_link = \"../res/siasun_md_sammple_hrsl/SN024002/img/__2.png\"\n",
    "# image_link\n",
    "res = re.match(image_link_pattern, image_link)\n",
    "res.group(0)\n",
    "# get_image_summary_response(\"../res/\")"
   ]
  },
  {
   "cell_type": "code",
   "execution_count": 11,
   "id": "28596903",
   "metadata": {},
   "outputs": [
    {
     "data": {
      "text/plain": [
       "'/d/devel/rag/ribosome/res/siasun_md_sample_hrsl/SX322002/img/img_11.png'"
      ]
     },
     "execution_count": 11,
     "metadata": {},
     "output_type": "execute_result"
    },
    {
     "data": {
      "text/markdown": [
       "![image](/d/devel/rag/ribosome/res/siasun_md_sample_hrsl/SX322002/img/img_11.png)"
      ],
      "text/plain": [
       "<IPython.core.display.Markdown object>"
      ]
     },
     "metadata": {},
     "output_type": "display_data"
    }
   ],
   "source": [
    "# imagepath = Path(os.getcwd()).parent / 'res/siasun_md_sample/SN024002/img/__3.png'\n",
    "# imagepath = Path(os.getcwd()).parent / 'siasun_md_sample_hrsl/SN024002/img/img_11.png'\n",
    "imagepath = Path(os.getcwd()).parent / 'res/siasun_md_sample_hrsl/SX322002/img/img_11.png'\n",
    "image_link = str(imagepath)\n",
    "image_link\n",
    "display(Markdown(f\"![image]({image_link})\"))"
   ]
  },
  {
   "cell_type": "code",
   "execution_count": 12,
   "id": "400bfd40",
   "metadata": {},
   "outputs": [
    {
     "name": "stdout",
     "output_type": "stream",
     "text": [
      "Matched image link: img/small.png\n"
     ]
    }
   ],
   "source": [
    "# res = re.match(image_link_pattern, 'http://baidu.com/?home/img/small.png')\n",
    "res = re.match(image_link_pattern, 'img/small.png')\n",
    "# res = re.match(image_link_pattern, image_link)\n",
    "# in case of match, print the matched string\n",
    "if res:\n",
    "    print(f\"Matched image link: {res.group(0)}\")\n",
    "else:\n",
    "    print(res)"
   ]
  },
  {
   "cell_type": "code",
   "execution_count": 13,
   "id": "5315073c",
   "metadata": {},
   "outputs": [],
   "source": [
    "response = get_image_summary_response(image_link, model=\"gemma3:27b\", role=\"user\", lang='zh')\n",
    "# print(response.content)\n"
   ]
  },
  {
   "cell_type": "code",
   "execution_count": 14,
   "id": "114f2d63",
   "metadata": {},
   "outputs": [
    {
     "data": {
      "text/markdown": [
       "<p>好的，根据提供的图像，以下是对机器人的简要摘要：</p>\n",
       "<p><strong>整体描述：</strong></p>\n",
       "<p>图像展示了一种工业机器人，很明显是一种六轴机器人。它被放置在一个带有坐标网格的地板上，周围有一些用于参考和校准的工件。</p>\n",
       "<p><strong>机器人机械尺寸、运动范围、自由度：</strong></p>\n",
       "<ul>\n",
       "<li><strong>机械尺寸:</strong> 机器人臂由多个连杆组成，长度不一。从图像大致估计，最大伸展长度大约为2-3米。</li>\n",
       "<li><strong>自由度:</strong> 机器人具有六个自由度，这意味着它可以在三维空间中灵活地移动和旋转其末端执行器。这包括三个旋转自由度（在基座、肩部和肘部）和三个平移自由度（通过移动底座）。</li>\n",
       "<li><strong>运动范围：</strong> 机器人能够覆盖一个相当大的工作空间，可以到达工件上方、下方和周围的位置。具体运动范围取决于连杆长度和关节角度限制。</li>\n",
       "</ul>\n",
       "<p><strong>图像细节：</strong></p>\n",
       "<ul>\n",
       "<li>图像1和3展示机器人手臂伸向工件的位置，以及末端执行器（可能是夹具）的示意图。</li>\n",
       "<li>图像2展示机器人处于一个更弯曲的状态，可以更好地理解其运动轨迹。</li>\n",
       "<li>图像中还有“工作”、“定位”等标签，表明了机器人可以用于各种自动化任务，例如装配、焊接、喷涂等。</li>\n",
       "</ul>\n",
       "<p>总而言之，这是一个典型的工业机器人，具有灵活性和精度，可以用于各种自动化生产过程。</p>"
      ],
      "text/plain": [
       "<IPython.core.display.Markdown object>"
      ]
     },
     "execution_count": 14,
     "metadata": {},
     "output_type": "execute_result"
    }
   ],
   "source": [
    "md_text = markdown.markdown(response.message.content)\n",
    "Markdown(md_text)\n",
    "# print(md_text)"
   ]
  },
  {
   "cell_type": "markdown",
   "id": "a7130886",
   "metadata": {},
   "source": [
    "## DOM Class with pypandoc Integration"
   ]
  },
  {
   "cell_type": "code",
   "execution_count": null,
   "id": "775311ac",
   "metadata": {},
   "outputs": [],
   "source": [
    "# | export\n",
    "from platform import node\n",
    "\n",
    "\n",
    "class DOM(BaseModel):\n",
    "    # The content of the Markdown document. This can be a string containing Markdown syntax.\n",
    "    raw_markdown: Optional[str] = Field(None, description=\"Raw Markdown content\")\n",
    "    # raw json\n",
    "    raw_json: Optional[str] = Field(None, description=\"Raw JSON content\")\n",
    "    # The json representation of the Markdown AST.\n",
    "    ast_json: Optional[str] = Field(None, description=\"JSON representation of the Markdown AST\")\n",
    "\n",
    "    TextBlock_Types: set[str] = {\n",
    "        \"Plain\",\n",
    "        \"Para\",\n",
    "        \"Figure\",\n",
    "        \"LineBlock\",\"CodeBlock\",\"RawBlock\",\"OrderedList\",\"BulletList\",\"DefinitionList\",\n",
    "        \"Header\",\"BlockQuote\",\n",
    "        \"Table\",\"TableRow\", \"TableCell\"}\n",
    "\n",
    "    NonTextBlock_Types: set[str] = {\"HorizontalRule\", \"Div\", \"Null\"}\n",
    "\n",
    "    Block_Types: set[str] = TextBlock_Types.union(TextBlock_Types)\n",
    "\n",
    "    Inline_Types: set[str] = {\n",
    "        \"Str\", \"Emph\", \"Strong\", \"Strikeout\", \"Superscript\", \"Subscript\",\n",
    "        \"Decimal\", \"Period\",\n",
    "        \"Link\", \n",
    "        \"Image\", \n",
    "        \"Code\", \"Math\", \"RawInline\", \"SoftBreak\",\n",
    "        \"HardBreak\", \"Span\"   \n",
    "    }\n",
    "    \n",
    "    Element_Types: set[str] = Block_Types | Inline_Types\n",
    "\n",
    "    def __init__(self, content: Optional[str] = None, **data):\n",
    "        \"\"\" Initializes the Markdown object with raw Markdown content.\n",
    "        If content is provided, it will be set as the raw_markdown.\n",
    "        \"\"\"\n",
    "        super().__init__(**data)\n",
    "        if content:\n",
    "            self.raw_markdown = content\n",
    "            self.raw_json = pypandoc.convert_text(self.raw_markdown, \"json\", \"md\")\n",
    "        else:\n",
    "            self.raw_markdown = None\n",
    "            self.raw_json = None\n",
    "\n",
    "    def to_markdown(self) -> str | None:\n",
    "        return self.raw_markdown\n",
    "\n",
    "    def to_html(self) -> str | None:\n",
    "        if not self.raw_markdown:\n",
    "            return None\n",
    "        # Convert raw Markdown to HTML using pypandoc\n",
    "        return pypandoc.convert_text(self.raw_markdown, \"html\", \"md\")\n",
    "\n",
    "    def to_latex(self) -> str | None:\n",
    "        if not self.raw_markdown:\n",
    "            return None\n",
    "        return pypandoc.convert_text(self.raw_markdown, \"latex\", \"md\")\n",
    "\n",
    "    def to_json(self) -> str | None:\n",
    "        \"\"\" Converts the Markdown content to a JSON representation of its AST.\n",
    "        This uses pypandoc to convert the Markdown content into a JSON format.\n",
    "        \"\"\"\n",
    "        return self.raw_json\n",
    "\n",
    "    def walk(self, action: callable = None) -> None:\n",
    "        \"\"\" Walks through the Markdown AST and applies an action to each node.\n",
    "        If no action is provided, it defaults to the identity function.\n",
    "        \"\"\"\n",
    "        if not self.raw_markdown:\n",
    "            raise ValueError(\"Markdown content is empty. Cannot walk the AST.\")\n",
    "        if action is None:\n",
    "            action = self.__class__.identity\n",
    "\n",
    "        ast = json.loads(self.raw_json)\n",
    "\n",
    "        def walk_node(node):\n",
    "            node = action(node)\n",
    "            if isinstance(node, dict):\n",
    "                for key, value in node.items():\n",
    "                    if isinstance(value, list):\n",
    "                        node[key] = [\n",
    "                            walk_node(child)\n",
    "                            if isinstance(child, (dict, list))\n",
    "                            else child\n",
    "                            for child in value\n",
    "                        ]\n",
    "                    elif isinstance(value, dict):\n",
    "                        node[key] = walk_node(value)\n",
    "            elif isinstance(node, list):\n",
    "                node = [\n",
    "                    walk_node(child) if isinstance(child, (dict, list)) else child\n",
    "                    for child in node\n",
    "                ]\n",
    "            return node\n",
    "\n",
    "        ast = walk_node(ast)\n",
    "        self.ast_json = json.dumps(ast, ensure_ascii=False).encode(\"utf-8\").decode(\"utf-8\")\n",
    "\n",
    "    def textualize(self, action: callable = None) -> None:\n",
    "        \"\"\" Walks through the Markdown AST and applies an action to each node.\n",
    "        If no action is provided, it defaults to the identity function.\n",
    "        \"\"\"\n",
    "        if not self.raw_markdown:\n",
    "            raise ValueError(\"Markdown content is empty. Cannot walk the AST.\")\n",
    "        if action is None:\n",
    "            action = self.__class__.identity\n",
    "\n",
    "        ast = json.loads(self.raw_json)\n",
    "\n",
    "        def get_leaf_summary(node:str) -> str:\n",
    "            if re.match(image_link_pattern, node):\n",
    "                # If the node is an image link, return a summary of the image\n",
    "                response = get_image_summary_response(node, model=\"gemma3:27b\", role=\"user\", lang='zh')\n",
    "                return response.message.content \n",
    "            else:\n",
    "                # If the string length is less than 200, return the node as is\n",
    "                if len(node) < 200:\n",
    "                    return node\n",
    "                # If the node is not an image link, return a summary of the text\n",
    "                response = get_text_summary_response(node, model=\"gemma3:27b\", role=\"user\")\n",
    "                if response.message.content:\n",
    "                    return response.message.content\n",
    "                else:\n",
    "                    # If the response is empty, return the original node\n",
    "                    return node\n",
    "\n",
    "        def node_summary(node: dict | list) -> dict | list:\n",
    "            '''\n",
    "            Given a string node, add key,value pair: node['s'] = node_summary, and return the node \n",
    "            '''\n",
    "            node = action(node)\n",
    "            if isinstance(node, dict):\n",
    "                try:\n",
    "                    t = node[\"t\"]\n",
    "                except KeyError:\n",
    "                    raise ValueError(f\"Node does not have a 't' key: {node}\")\n",
    "                if t == \"Image\": # Image summary\n",
    "                    summary = []\n",
    "                    try:\n",
    "                        # summary.append(node['c'][0])  # The first element are defined to be attributes of the image rendering, i.e. content-irrelevant.\n",
    "                        summary.append(get_leaf_summary(node['c'][1]))  # The second element is the image caption\n",
    "                        # If the node is an image, get its link\n",
    "                        image_link = node[\"c\"][2]  # Assuming the image link is in the third element of the list\n",
    "                        if image_link and re.match(image_link_pattern, image_link):\n",
    "                            # If the node is an image link, get its summary\n",
    "                            response = get_image_summary_response(image_link, model=\"gemma3:27b\", role=\"user\", lang='zh')\n",
    "                            summary.append(response.message.content)\n",
    "                        else:\n",
    "                            # If the node is not an image link, summarize its content\n",
    "                            raise ValueError(f\"Invalid image link: {image_link}\")\n",
    "                        node[\"s\"] = get_text_summary_response(\n",
    "                            \" \".join(summary), model=\"gemma3:27b\", role=\"user\"\n",
    "                        ).message.content\n",
    "                    except (IndexError, KeyError):\n",
    "                        # Handle cases where the image link is not in the expected format\n",
    "                        raise ValueError(f\"Invalid image node structure: {node}\")\n",
    "                else: # TextBlock summary\n",
    "                    # summary = []\n",
    "                    l = []\n",
    "                    for key, value in node.items(): # get summary of the values (content)\n",
    "                        if isinstance(value, list):  # get the summary of the string list\n",
    "                            list_summary = []\n",
    "                            for child in value:\n",
    "                                if isinstance(child, (dict, list)):\n",
    "                                    # Recursively summarize child nodes\n",
    "                                    child = node_summary(child)  # insert the child['s']\n",
    "                                    for grandchhild in child:\n",
    "                                        \n",
    "                                    l.append(child) \n",
    "                                    list_summary.append(child['s'])\n",
    "                                else:\n",
    "                                    # If the child is not a dict or list, get its summary\n",
    "                                    list_summary.append(get_leaf_summary(child))\n",
    "                            list_summary = get_text_summary_response(\n",
    "                                \" \".join(list_summary), model=\"gemma3:27b\", role=\"user\"\n",
    "                            ).message.content\n",
    "                            node[key] = l\n",
    "                            node['s'] = list_summary\n",
    "\n",
    "                        elif isinstance(value, dict):\n",
    "                            child = node_summary(value)  # insert the value['s']\n",
    "                            summary.append(child['s'])\n",
    "                        else:\n",
    "                            summary.append(get_leaf_summary(value))\n",
    "                    # get the summary of the node        \n",
    "                    node[\"s\"] = get_text_summary_response(\n",
    "                        \" \".join(summary), model=\"gemma3:27b\", role=\"user\"\n",
    "                    ).message.content\n",
    "\n",
    "            elif isinstance(node, list):\n",
    "                list_summary = []\n",
    "                for child in node:\n",
    "                    if isinstance(child, (dict, list)):\n",
    "                        child = node_summary(child)\n",
    "                        list_summary.append(child[])\n",
    "                    else:\n",
    "                        list_summary.append(get_leaf_summary(child))\n",
    "                node['s'] =  get_text_summary_response(\n",
    "                    \" \".join(list_summary), model=\"gemma3:27b\", role='user'\n",
    "                )\n",
    "\n",
    "            return node\n",
    "        def get_summary(t:str, node:str):\n",
    "            \"\"\"Get a summary of the node.\"\"\"\n",
    "            if t == \"image\":\n",
    "                return get_leaf_summary(node)\n",
    "            elif isinstance(node, dict):\n",
    "                return {k: get_summary(v) for k, v in node.items()}\n",
    "            elif isinstance(node, list):\n",
    "                return [get_summary(item) for item in node]\n",
    "            else:\n",
    "                return node\n",
    "        def summary_node(node):\n",
    "            node = action(node)\n",
    "            if isinstance(node, dict):\n",
    "                t = node.get(\"t\")\n",
    "                for key, value in node.items():\n",
    "                    if isinstance(value, list):\n",
    "                        for child in value:\n",
    "                            if isinstance(child, (dict, list)):\n",
    "                                # Recursively summarize child nodes\n",
    "                                node['s'] = summary_node(child)\n",
    "                            else:\n",
    "                                # If the child is not a dict or list, get its summary\n",
    "                                node['s'] = get_leaf_summary(child)\n",
    "                        # node[key] = [\n",
    "                        #     summary_node(child)\n",
    "                        #     if isinstance(child, (dict, list))\n",
    "                        #     else child\n",
    "                        #     for child in value\n",
    "                        # ]\n",
    "                    elif isinstance(value, dict):\n",
    "                        node[key] = summary_node(value)\n",
    "            elif isinstance(node, list):\n",
    "                node = [\n",
    "                    summary_node(child) if isinstance(child, (dict, list)) \n",
    "                    else get_summary(child)\n",
    "                    for child in node\n",
    "                ]\n",
    "\n",
    "            return node\n",
    "\n",
    "        # Apply the image_summary function to the AST\n",
    "        ast = image_summary(ast)\n",
    "        # Apply the summary_node function to the AST\n",
    "        ast = summary_node(ast)\n",
    "        self.ast_json = json.dumps(ast, ensure_ascii=False).encode(\"utf-8\").decode(\"utf-8\")\n",
    "\n",
    "    def summary(self, action: callable = None) -> None:\n",
    "        \"\"\" Walks through the Markdown AST and applies an action to each node.\n",
    "        If no action is provided, it defaults to the identity function.\n",
    "        \"\"\"\n",
    "        if not self.raw_markdown:\n",
    "            raise ValueError(\"Markdown content is empty. Cannot walk the AST.\")\n",
    "        if action is None:\n",
    "            action = self.__class__.identity\n",
    "\n",
    "        ast = json.loads(self.raw_json)\n",
    "\n",
    "        def get_leaf_summary(node:str) -> str:\n",
    "            if re.match(image_link_pattern, node):\n",
    "                # If the node is an image link, return a summary of the image\n",
    "                response = get_image_summary_response(node, model=\"gemma3:27b\", role=\"user\", lang='zh')\n",
    "                return response.message.content \n",
    "            else:\n",
    "                # If the node is not an image link, return the node as is\n",
    "                return node\n",
    "\n",
    "        def image_summary(node):\n",
    "            node = action(node)\n",
    "            if isinstance(node, dict):\n",
    "                t = node.get(\"t\")\n",
    "                for key, value in node.items():\n",
    "                    if isinstance(value, list):\n",
    "                        node[key] = [\n",
    "                            summary_node(child)\n",
    "                            if isinstance(child, (dict, list))\n",
    "                            else get_leaf_summary(child)\n",
    "                            for child in value\n",
    "                        ]\n",
    "                    elif isinstance(value, dict):\n",
    "                        node[key] = summary_node(value)\n",
    "            elif isinstance(node, list):\n",
    "                node = [\n",
    "                    summary_node(child) if isinstance(child, (dict, list)) \n",
    "                    else get_leaf_summary(child)\n",
    "                    for child in node\n",
    "                ]\n",
    "\n",
    "            return node\n",
    "        def get_summary(t:str, node:str):\n",
    "            \"\"\"Get a summary of the node.\"\"\"\n",
    "            if t == \"image\":\n",
    "\n",
    "                return get_leaf_summary(node)\n",
    "            elif isinstance(node, dict):\n",
    "                return {k: get_summary(v) for k, v in node.items()}\n",
    "            elif isinstance(node, list):\n",
    "                return [get_summary(item) for item in node]\n",
    "            else:\n",
    "                return node\n",
    "        def summary_node(node):\n",
    "            node = action(node)\n",
    "            if isinstance(node, dict):\n",
    "                t = node.get(\"t\")\n",
    "                for key, value in node.items():\n",
    "                    if isinstance(value, list):\n",
    "                        for child in value:\n",
    "                            if isinstance(child, (dict, list)):\n",
    "                                # Recursively summarize child nodes\n",
    "                                node['s'] = summary_node(child)\n",
    "                            else:\n",
    "                                # If the child is not a dict or list, get its summary\n",
    "                                node['s'] = get_leaf_summary(child)\n",
    "                        # node[key] = [\n",
    "                        #     summary_node(child)\n",
    "                        #     if isinstance(child, (dict, list))\n",
    "                        #     else child\n",
    "                        #     for child in value\n",
    "                        # ]\n",
    "                    elif isinstance(value, dict):\n",
    "                        node[key] = summary_node(value)\n",
    "            elif isinstance(node, list):\n",
    "                node = [\n",
    "                    summary_node(child) if isinstance(child, (dict, list)) \n",
    "                    else get_summary(child)\n",
    "                    for child in node\n",
    "                ]\n",
    "\n",
    "            return node\n",
    "\n",
    "        # Apply the image_summary function to the AST\n",
    "        ast = image_summary(ast)\n",
    "        # Apply the summary_node function to the AST\n",
    "        ast = summary_node(ast)\n",
    "        self.ast_json = json.dumps(ast, ensure_ascii=False).encode(\"utf-8\").decode(\"utf-8\")\n",
    "    @staticmethod\n",
    "    def from_file(filepath: pathlib.Path):\n",
    "        content = filepath.read_text(encoding=\"utf-8\")\n",
    "        return Markdown(content=content)\n",
    "\n",
    "    @classmethod\n",
    "    def identity(cls, obj):\n",
    "        \"\"\"Identity function for use in walk.\"\"\"\n",
    "        return obj"
   ]
  },
  {
   "cell_type": "code",
   "execution_count": 40,
   "id": "6a413bcd",
   "metadata": {},
   "outputs": [
    {
     "data": {
      "text/plain": [
       "['test.html',\n",
       " 'SR02400401',\n",
       " 'SR024011',\n",
       " 'SN024002',\n",
       " 'test.md',\n",
       " 'SX322002',\n",
       " 'test.rst',\n",
       " 'test_raw.json',\n",
       " 'test.json',\n",
       " 'test_ast.json']"
      ]
     },
     "execution_count": 40,
     "metadata": {},
     "output_type": "execute_result"
    }
   ],
   "source": [
    "# create test case for Markdown class with identity function\n",
    "import os\n",
    "import shutil\n",
    "from pathlib import Path\n",
    "# change directory to the script's directory\n",
    "cwd = Path(os.getcwd()).parent / \"siasun_md_sample_hrsl\"\n",
    "os.chdir(cwd)\n",
    "cwd = os.getcwd()\n",
    "os.listdir(cwd)\n",
    "\n",
    "# os.chdir(Path(cwd).parent / \"res/SR02401\")\n"
   ]
  },
  {
   "cell_type": "code",
   "execution_count": 41,
   "id": "c16c2fff",
   "metadata": {},
   "outputs": [
    {
     "data": {
      "text/plain": [
       "42"
      ]
     },
     "execution_count": 41,
     "metadata": {},
     "output_type": "execute_result"
    },
    {
     "data": {
      "text/plain": [
       "46"
      ]
     },
     "execution_count": 41,
     "metadata": {},
     "output_type": "execute_result"
    },
    {
     "data": {
      "text/plain": [
       "420"
      ]
     },
     "execution_count": 41,
     "metadata": {},
     "output_type": "execute_result"
    },
    {
     "data": {
      "text/plain": [
       "487"
      ]
     },
     "execution_count": 41,
     "metadata": {},
     "output_type": "execute_result"
    },
    {
     "data": {
      "text/plain": [
       "420"
      ]
     },
     "execution_count": 41,
     "metadata": {},
     "output_type": "execute_result"
    }
   ],
   "source": [
    "dom = DOM(content=\"# Test\\n\\nThis is a test.\\n\\nThis is **bold**.\")\n",
    "# save the markdown content to a file\n",
    "md_file = Path(cwd) / \"test.md\"\n",
    "md_file.write_text(dom.raw_markdown, encoding=\"utf-8\")\n",
    "rst = pypandoc.convert_file('test.md', \"rst\", format=\"md\")\n",
    "rst_file = Path(cwd) / \"test.rst\"\n",
    "rst_file.write_text(rst, encoding=\"utf-8\")\n",
    "\n",
    "js = dom.to_json()\n",
    "js_file = Path(cwd) / \"test.json\"\n",
    "js_file.write_text(js, encoding=\"utf-8\")\n",
    "dom.walk()\n",
    "# dom.ast_json\n",
    "(Path(cwd) / \"test_ast.json\").write_text(dom.ast_json, encoding=\"utf-8\")\n",
    "(Path(cwd) / \"test_raw.json\").write_text(dom.raw_json, encoding=\"utf-8\")"
   ]
  },
  {
   "cell_type": "code",
   "execution_count": 33,
   "id": "8b46336c",
   "metadata": {},
   "outputs": [
    {
     "data": {
      "text/plain": [
       "'/d/devel/rag/ribosome/res/siasun_md_sample_hrsl'"
      ]
     },
     "execution_count": 33,
     "metadata": {},
     "output_type": "execute_result"
    }
   ],
   "source": [
    "cwd"
   ]
  },
  {
   "cell_type": "code",
   "execution_count": 42,
   "id": "e7315907",
   "metadata": {},
   "outputs": [
    {
     "data": {
      "text/plain": [
       "37755"
      ]
     },
     "execution_count": 42,
     "metadata": {},
     "output_type": "execute_result"
    }
   ],
   "source": [
    "# md_file = Path(cwd) / \"SN024002/SN024002《新松SN7B-7-0.90规格参数》A-1.md\"\n",
    "md_file = Path(cwd) / \"SX322002/SX322002《新松机器人码垛应用操作手册》-V1.0.md\"\n",
    "dom = DOM.from_file(md_file)\n",
    "js = dom.to_json()\n",
    "js_file = Path(cwd) / \"SX322002/SX322002《新松机器人码垛应用操作手册》-V1.0.json\"\n",
    "js_file.write_text(js, encoding=\"utf-8\")"
   ]
  },
  {
   "cell_type": "code",
   "execution_count": null,
   "id": "eda0482a",
   "metadata": {},
   "outputs": [
    {
     "data": {
      "text/plain": [
       "43753"
      ]
     },
     "execution_count": 25,
     "metadata": {},
     "output_type": "execute_result"
    },
    {
     "data": {
      "text/plain": [
       "37755"
      ]
     },
     "execution_count": 25,
     "metadata": {},
     "output_type": "execute_result"
    }
   ],
   "source": [
    "dom.walk()\n",
    "(Path(cwd) / \"SX322002/SX322002《新松机器人码垛应用操作手册》-V1.0_ast.json\").write_text(dom.ast_json, encoding=\"utf-8\")\n",
    "(Path(cwd) / \"SX322002/SX322002《新松机器人码垛应用操作手册》-V1.0_raw.json\").write_text(dom.raw_json, encoding=\"utf-8\")"
   ]
  },
  {
   "cell_type": "code",
   "execution_count": null,
   "id": "85888341",
   "metadata": {},
   "outputs": [],
   "source": [
    "\n",
    "def test_markdown_walk_identity():\n",
    "    dom.walk(identity)\n",
    "    print(dom.content)  # Should print the original content\n",
    "    # assert dom.content == \"# Test\\n\\nThis is a test.\"\n",
    "\n",
    "test_markdown_walk_identity()"
   ]
  },
  {
   "cell_type": "markdown",
   "id": "712e4302",
   "metadata": {},
   "source": [
    "## Section Class: Recursive Document Structure"
   ]
  },
  {
   "cell_type": "code",
   "execution_count": 52,
   "id": "73069f50",
   "metadata": {},
   "outputs": [],
   "source": [
    "# | export\n",
    "class Section(BaseModel):\n",
    "    summary: Optional[str] = None\n",
    "    paragraphs: List[str] = Field(default_factory=list)\n",
    "    figures: List[Figure] = Field(default_factory=list)\n",
    "    tables: List[Table] = Field(default_factory=list)\n",
    "    subsections: List[\"Section\"] = Field(default_factory=list)\n",
    "\n",
    "    def __init__(\n",
    "        self,\n",
    "        summary: Optional[str] = None,\n",
    "        paragraphs: Optional[List[str]] = None,\n",
    "        figures: Optional[List[Figure]] = None,\n",
    "        tables: Optional[List[Table]] = None,\n",
    "        subsections: Optional[List[dict]] = None,\n",
    "    ):\n",
    "        # Recursively initialize subsections if provided as dicts\n",
    "        if subsections is not None:\n",
    "            subs = [Section(**s) if isinstance(s, dict) else s for s in subsections]\n",
    "        else:\n",
    "            subs = []\n",
    "        super().__init__(\n",
    "            summary=summary,\n",
    "            paragraphs=paragraphs or [],\n",
    "            figures=figures or [],\n",
    "            tables=tables or [],\n",
    "            subsections=subs,\n",
    "        )\n",
    "\n",
    "    @classmethod\n",
    "    def init(cls, md: Markdown):\n",
    "        # Placeholder for initialization from Markdown\n",
    "        return cls()\n",
    "\n",
    "    @classmethod\n",
    "    def update_forward_refs(cls, **localns):\n",
    "        ...\n",
    "        #BaseModel.model_rebuild()\n",
    "\n",
    "\n",
    "# Support for recursive Section references\n",
    "Section.model_rebuild()"
   ]
  }
 ],
 "metadata": {
  "kernelspec": {
   "display_name": "cell",
   "language": "python",
   "name": "python3"
  },
  "language_info": {
   "codemirror_mode": {
    "name": "ipython",
    "version": 3
   },
   "file_extension": ".py",
   "mimetype": "text/x-python",
   "name": "python",
   "nbconvert_exporter": "python",
   "pygments_lexer": "ipython3",
   "version": "3.12.9"
  }
 },
 "nbformat": 4,
 "nbformat_minor": 5
}
