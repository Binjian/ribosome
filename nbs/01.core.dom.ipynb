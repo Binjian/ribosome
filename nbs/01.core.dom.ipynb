{
 "cells": [
  {
   "cell_type": "markdown",
   "id": "d2e487e0",
   "metadata": {},
   "source": [
    "--\n",
    "description: DOM Model with Pydantic and Pandoc Integration\n",
    "output-file: core.dom.html\n",
    "title: core.dom\n",
    "\n",
    "This notebook demonstrates a Document Object Model (DOM) using Pydantic for static typing and validation, and integrates Pandoc (via pypandoc) for Markdown processing.\n",
    "---"
   ]
  },
  {
   "cell_type": "code",
   "execution_count": 2,
   "id": "354e685a",
   "metadata": {},
   "outputs": [],
   "source": [
    "# | default_exp dom"
   ]
  },
  {
   "cell_type": "code",
   "execution_count": 3,
   "id": "745a9572",
   "metadata": {},
   "outputs": [],
   "source": [
    "# | export\n",
    "from typing import List, Optional\n",
    "from pydantic import BaseModel, Field, field_validator\n",
    "import base64\n",
    "import pypandoc\n",
    "import pathlib"
   ]
  },
  {
   "cell_type": "markdown",
   "id": "d8e78a35",
   "metadata": {},
   "source": [
    "## Base Element Class"
   ]
  },
  {
   "cell_type": "code",
   "execution_count": 4,
   "id": "837951d8",
   "metadata": {},
   "outputs": [],
   "source": [
    "# | export\n",
    "class Element(BaseModel):\n",
    "    summary: Optional[str] = None"
   ]
  },
  {
   "cell_type": "markdown",
   "id": "7c18b3b4",
   "metadata": {},
   "source": [
    "## Figure Class with Base64 Validation"
   ]
  },
  {
   "cell_type": "code",
   "execution_count": 5,
   "id": "0c9cb6bb",
   "metadata": {},
   "outputs": [],
   "source": [
    "# | export\n",
    "class Figure(Element):\n",
    "    rawdata: str = Field(..., description=\"Base64-encoded image data\")\n",
    "\n",
    "    @field_validator(\"rawdata\")\n",
    "    def validate_base64(cls, v):\n",
    "        try:\n",
    "            base64.b64decode(v)\n",
    "        except Exception:\n",
    "            raise ValueError(\"rawdata must be valid base64\")\n",
    "        return v"
   ]
  },
  {
   "cell_type": "markdown",
   "id": "56fc259b",
   "metadata": {},
   "source": [
    "## Table Structure: Cell, Column, Row, Table"
   ]
  },
  {
   "cell_type": "code",
   "execution_count": 6,
   "id": "a921e917",
   "metadata": {},
   "outputs": [],
   "source": [
    "# | export\n",
    "class Cell(BaseModel):\n",
    "    c: str\n",
    "\n",
    "\n",
    "class Column(BaseModel):\n",
    "    cells: List[Cell]\n",
    "\n",
    "\n",
    "class Row(BaseModel):\n",
    "    cols: List[Column]\n",
    "\n",
    "\n",
    "class Table(Element):\n",
    "    rows: List[Row]"
   ]
  },
  {
   "cell_type": "markdown",
   "id": "a7130886",
   "metadata": {},
   "source": [
    "## Markdown Class with pypandoc Integration"
   ]
  },
  {
   "cell_type": "code",
   "execution_count": 7,
   "id": "775311ac",
   "metadata": {},
   "outputs": [],
   "source": [
    "# | export\n",
    "class Markdown(BaseModel):\n",
    "    content: str = \"\"\n",
    "\n",
    "    def to_markdown(self) -> str:\n",
    "        return self.content\n",
    "\n",
    "    def to_html(self) -> str:\n",
    "        return pypandoc.convert_text(self.content, \"md\", \"html\")\n",
    "\n",
    "    def to_latex(self) -> str:\n",
    "        return pypandoc.convert_text(self.content, \"md\", \"latex\")\n",
    "\n",
    "    def walk(self, action):\n",
    "        import json\n",
    "\n",
    "        ast_json = pypandoc.convert_text(self.content, \"md\", \"json\")\n",
    "        ast = json.loads(ast_json)\n",
    "\n",
    "        def walk_node(node):\n",
    "            node = action(node)\n",
    "            if isinstance(node, dict):\n",
    "                for key, value in node.items():\n",
    "                    if isinstance(value, list):\n",
    "                        node[key] = [\n",
    "                            walk_node(child)\n",
    "                            if isinstance(child, (dict, list))\n",
    "                            else child\n",
    "                            for child in value\n",
    "                        ]\n",
    "                    elif isinstance(value, dict):\n",
    "                        node[key] = walk_node(value)\n",
    "            elif isinstance(node, list):\n",
    "                node = [\n",
    "                    walk_node(child) if isinstance(child, (dict, list)) else child\n",
    "                    for child in node\n",
    "                ]\n",
    "            return node\n",
    "\n",
    "        ast = walk_node(ast)\n",
    "        new_json = json.dumps(ast)\n",
    "        self.content = pypandoc.convert_text(new_json, \"json\", \"md\")\n",
    "\n",
    "    @staticmethod\n",
    "    def from_file(filepath: pathlib.Path):\n",
    "        content = filepath.read_text(encoding=\"utf-8\")\n",
    "        return Markdown(content=content)"
   ]
  },
  {
   "cell_type": "markdown",
   "id": "712e4302",
   "metadata": {},
   "source": [
    "## Section Class: Recursive Document Structure"
   ]
  },
  {
   "cell_type": "code",
   "execution_count": 9,
   "id": "73069f50",
   "metadata": {},
   "outputs": [],
   "source": [
    "# | export\n",
    "class Section(BaseModel):\n",
    "    summary: Optional[str] = None\n",
    "    paragraphs: List[str] = Field(default_factory=list)\n",
    "    figures: List[Figure] = Field(default_factory=list)\n",
    "    tables: List[Table] = Field(default_factory=list)\n",
    "    subsections: List[\"Section\"] = Field(default_factory=list)\n",
    "\n",
    "    def __init__(\n",
    "        self,\n",
    "        summary: Optional[str] = None,\n",
    "        paragraphs: Optional[List[str]] = None,\n",
    "        figures: Optional[List[Figure]] = None,\n",
    "        tables: Optional[List[Table]] = None,\n",
    "        subsections: Optional[List[dict]] = None,\n",
    "    ):\n",
    "        # Recursively initialize subsections if provided as dicts\n",
    "        if subsections is not None:\n",
    "            subs = [Section(**s) if isinstance(s, dict) else s for s in subsections]\n",
    "        else:\n",
    "            subs = []\n",
    "        super().__init__(\n",
    "            summary=summary,\n",
    "            paragraphs=paragraphs or [],\n",
    "            figures=figures or [],\n",
    "            tables=tables or [],\n",
    "            subsections=subs,\n",
    "        )\n",
    "\n",
    "    @classmethod\n",
    "    def init(cls, md: Markdown):\n",
    "        # Placeholder for initialization from Markdown\n",
    "        return cls()\n",
    "\n",
    "    @classmethod\n",
    "    def update_forward_refs(cls, **localns):\n",
    "        ...\n",
    "        #BaseModel.model_rebuild()\n",
    "\n",
    "\n",
    "# Support for recursive Section references\n",
    "Section.model_rebuild()"
   ]
  }
 ],
 "metadata": {
  "kernelspec": {
   "display_name": "cell",
   "language": "python",
   "name": "python3"
  },
  "language_info": {
   "codemirror_mode": {
    "name": "ipython",
    "version": 3
   },
   "file_extension": ".py",
   "mimetype": "text/x-python",
   "name": "python",
   "nbconvert_exporter": "python",
   "pygments_lexer": "ipython3",
   "version": "3.12.9"
  }
 },
 "nbformat": 4,
 "nbformat_minor": 5
}
