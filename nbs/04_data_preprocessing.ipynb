{
 "cells": [
  {
   "metadata": {},
   "cell_type": "raw",
   "source": [
    "---\n",
    "output-file: chroma_db.html\n",
    "title: ChromaDB tutorial\n",
    "---"
   ],
   "id": "4bd68effe0fec893"
  },
  {
   "metadata": {},
   "cell_type": "code",
   "outputs": [],
   "execution_count": null,
   "source": "# |default_exp chroma_db",
   "id": "86a7d3fa89528e4f"
  },
  {
   "metadata": {},
   "cell_type": "markdown",
   "source": "## Install dependencies",
   "id": "40bae3045488c83c"
  },
  {
   "metadata": {},
   "cell_type": "markdown",
   "source": "## Make an app with Gradio",
   "id": "8689e7841c3c3942"
  },
  {
   "metadata": {
    "ExecuteTime": {
     "end_time": "2025-03-23T12:35:19.533257Z",
     "start_time": "2025-03-23T12:35:18.255961Z"
    }
   },
   "cell_type": "code",
   "source": [
    "# |export\n",
    "import csv\n",
    "import re\n",
    "import chromadb\n",
    "from chromadb import Settings\n",
    "import pandas as pd\n",
    "from dotenv import load_dotenv\n",
    "import os\n",
    "\n",
    "import gradio as gr\n",
    "from fastcore.net import urljson, HTTPError"
   ],
   "id": "c3ed1a604344bdea",
   "outputs": [],
   "execution_count": 2
  },
  {
   "metadata": {
    "ExecuteTime": {
     "end_time": "2025-03-23T12:35:22.465049Z",
     "start_time": "2025-03-23T12:35:22.462005Z"
    }
   },
   "cell_type": "code",
   "source": [
    "load_dotenv()\n",
    "oai_key = os.getenv('GEMINI_API_KEY')"
   ],
   "id": "7f542994eda15019",
   "outputs": [],
   "execution_count": 3
  },
  {
   "metadata": {
    "ExecuteTime": {
     "end_time": "2025-03-23T12:35:37.367707Z",
     "start_time": "2025-03-23T12:35:37.363981Z"
    }
   },
   "cell_type": "code",
   "source": [
    "def convert_qa_to_csv(input_file, output_file):\n",
    "    \"\"\"\n",
    "    Convert a text file with Q/A format to a CSV file.\n",
    "\n",
    "    Args:\n",
    "        input_file: Path to the input text file\n",
    "        output_file: Path to the output CSV file\n",
    "    \"\"\"\n",
    "    # Read the content of the file\n",
    "    with open(input_file, 'r', encoding='utf-8') as f:\n",
    "        content = f.read()\n",
    "\n",
    "    # Split the content by 'Q' marker\n",
    "    qa_blocks = content.split('Q\\n')\n",
    "\n",
    "    qa_blks = [block.strip() for block in qa_blocks][1:]\n",
    "    # Remove empty blocks (like the first one if file starts with 'Q')\n",
    "    # qa_blocks = [[line for line in block.split('\\n') ] for block in qa_blks if block.strip()]\n",
    "    # Remove empty blocks (like the first one if file starts with 'Q')\n",
    "    # qa_blocks = [blk for block in qa_blocks if block.strip() for blk in block.strip()]\n",
    "\n",
    "    # Process each Q&A block\n",
    "    qa_pairs = []\n",
    "    for block in qa_blks:\n",
    "        # Split the block into lines\n",
    "        lines = block.strip().split('\\n')\n",
    "\n",
    "        if lines:\n",
    "            # First line is the question\n",
    "            question = lines[0]\n",
    "            # The rest are the answer\n",
    "            answer = '\\n'.join(lines[1:])\n",
    "\n",
    "            # Add the pair to our list\n",
    "            qa_pairs.append([question, answer])\n",
    "\n",
    "    # Write to CSV\n",
    "    with open(output_file, 'w', encoding='utf-8', newline='') as f:\n",
    "        writer = csv.writer(f)\n",
    "        # Write header\n",
    "        writer.writerow(['Question', 'Answer'])\n",
    "        # Write Q&A pairs\n",
    "        for pair in qa_pairs:\n",
    "            writer.writerow(pair)\n",
    "    print(f\"Conversion complete. CSV file saved to {output_file}\")"
   ],
   "id": "a0a4709412146528",
   "outputs": [],
   "execution_count": 4
  },
  {
   "metadata": {
    "ExecuteTime": {
     "end_time": "2025-03-23T12:35:42.999648Z",
     "start_time": "2025-03-23T12:35:42.996542Z"
    }
   },
   "cell_type": "code",
   "source": [
    "\n",
    "input_files = [\"../res/qa_service.txt\", \"../res/qa_technology.txt\"]\n",
    "output_files = [\"../res/qa_service.csv\", \"../res/qa_technology.csv\"]\n",
    "for in_f, ot_f in zip(input_files, output_files):\n",
    "    convert_qa_to_csv(in_f, ot_f)\n",
    "    "
   ],
   "id": "b867632cd7164a19",
   "outputs": [
    {
     "name": "stdout",
     "output_type": "stream",
     "text": [
      "Conversion complete. CSV file saved to ../res/qa_service.csv\n",
      "Conversion complete. CSV file saved to ../res/qa_technology.csv\n"
     ]
    }
   ],
   "execution_count": 5
  },
  {
   "metadata": {
    "ExecuteTime": {
     "end_time": "2025-03-23T12:35:46.214845Z",
     "start_time": "2025-03-23T12:35:46.131476Z"
    }
   },
   "cell_type": "code",
   "source": [
    "# |export\n",
    "client = chromadb.PersistentClient(path=\"../db\")\n",
    "# collections = [client.create_collection(name=\"siasun_qa_service\"),\n",
    "#                 client.create_collection(name=\"siasun_qa_technology\")]\n",
    "collections = [client.get_or_create_collection(name=\"siasun_qa_service\"),\n",
    "                client.get_or_create_collection(name=\"siasun_qa_technology\")]"
   ],
   "id": "e87d7540e3a1b0d8",
   "outputs": [],
   "execution_count": 6
  },
  {
   "metadata": {
    "ExecuteTime": {
     "end_time": "2025-03-23T12:35:49.544755Z",
     "start_time": "2025-03-23T12:35:49.542070Z"
    }
   },
   "cell_type": "code",
   "source": [
    "i=2\n",
    "f'q{i}'"
   ],
   "id": "f4c4e9c21acabd5a",
   "outputs": [
    {
     "data": {
      "text/plain": [
       "'q2'"
      ]
     },
     "execution_count": 7,
     "metadata": {},
     "output_type": "execute_result"
    }
   ],
   "execution_count": 7
  },
  {
   "metadata": {
    "ExecuteTime": {
     "end_time": "2025-03-23T12:35:56.708879Z",
     "start_time": "2025-03-23T12:35:52.716132Z"
    }
   },
   "cell_type": "code",
   "source": [
    "# |export\n",
    "\n",
    "for csv_file,collection in zip(output_files,collections):\n",
    "    with open(csv_file, newline='') as f:\n",
    "        reader = csv.reader(f)\n",
    "        for i, row in enumerate(reader):\n",
    "            collection.add(\n",
    "                documents = row,\n",
    "                metadatas = [{\"source\": \"question\"}, {\"source\": \"answer\"}],\n",
    "                ids = [f\"{collection.name}_q{i}\", f\"{collection.name}_a{i}\"]\n",
    "            )"
   ],
   "id": "cd8cffa926183329",
   "outputs": [
    {
     "name": "stderr",
     "output_type": "stream",
     "text": [
      "Add of existing embedding ID: q\n",
      "Add of existing embedding ID: a\n",
      "Add of existing embedding ID: q\n",
      "Add of existing embedding ID: a\n",
      "Add of existing embedding ID: q\n",
      "Add of existing embedding ID: a\n",
      "Add of existing embedding ID: q\n",
      "Add of existing embedding ID: a\n",
      "Add of existing embedding ID: q\n",
      "Add of existing embedding ID: a\n",
      "Add of existing embedding ID: q\n",
      "Add of existing embedding ID: a\n",
      "Add of existing embedding ID: q\n",
      "Add of existing embedding ID: a\n",
      "Add of existing embedding ID: q\n",
      "Add of existing embedding ID: a\n",
      "Add of existing embedding ID: q\n",
      "Add of existing embedding ID: a\n",
      "Add of existing embedding ID: q\n",
      "Add of existing embedding ID: a\n",
      "Add of existing embedding ID: q\n",
      "Add of existing embedding ID: a\n",
      "Add of existing embedding ID: q\n",
      "Add of existing embedding ID: a\n",
      "Add of existing embedding ID: q\n",
      "Add of existing embedding ID: a\n",
      "Add of existing embedding ID: q\n",
      "Add of existing embedding ID: a\n",
      "Add of existing embedding ID: q\n",
      "Add of existing embedding ID: a\n",
      "Add of existing embedding ID: q\n",
      "Add of existing embedding ID: a\n",
      "Add of existing embedding ID: q\n",
      "Add of existing embedding ID: a\n",
      "Add of existing embedding ID: q\n",
      "Add of existing embedding ID: a\n",
      "Add of existing embedding ID: q\n",
      "Add of existing embedding ID: a\n",
      "Add of existing embedding ID: q\n",
      "Add of existing embedding ID: a\n",
      "Add of existing embedding ID: q\n",
      "Add of existing embedding ID: a\n",
      "Add of existing embedding ID: q\n",
      "Add of existing embedding ID: a\n",
      "Add of existing embedding ID: q\n",
      "Add of existing embedding ID: a\n",
      "Add of existing embedding ID: siasun_qa_service_q0\n",
      "Add of existing embedding ID: siasun_qa_service_a0\n",
      "Insert of existing embedding ID: siasun_qa_service_q0\n",
      "Insert of existing embedding ID: siasun_qa_service_a0\n",
      "Add of existing embedding ID: siasun_qa_service_q1\n",
      "Add of existing embedding ID: siasun_qa_service_a1\n",
      "Insert of existing embedding ID: siasun_qa_service_q1\n",
      "Insert of existing embedding ID: siasun_qa_service_a1\n",
      "Add of existing embedding ID: siasun_qa_service_q2\n",
      "Add of existing embedding ID: siasun_qa_service_a2\n",
      "Insert of existing embedding ID: siasun_qa_service_q2\n",
      "Insert of existing embedding ID: siasun_qa_service_a2\n",
      "Add of existing embedding ID: siasun_qa_service_q3\n",
      "Add of existing embedding ID: siasun_qa_service_a3\n",
      "Insert of existing embedding ID: siasun_qa_service_q3\n",
      "Insert of existing embedding ID: siasun_qa_service_a3\n",
      "Add of existing embedding ID: siasun_qa_service_q4\n",
      "Add of existing embedding ID: siasun_qa_service_a4\n",
      "Insert of existing embedding ID: siasun_qa_service_q4\n",
      "Insert of existing embedding ID: siasun_qa_service_a4\n",
      "Add of existing embedding ID: siasun_qa_service_q5\n",
      "Add of existing embedding ID: siasun_qa_service_a5\n",
      "Insert of existing embedding ID: siasun_qa_service_q5\n",
      "Insert of existing embedding ID: siasun_qa_service_a5\n",
      "Add of existing embedding ID: siasun_qa_service_q6\n",
      "Add of existing embedding ID: siasun_qa_service_a6\n",
      "Insert of existing embedding ID: siasun_qa_service_q6\n",
      "Insert of existing embedding ID: siasun_qa_service_a6\n",
      "Add of existing embedding ID: siasun_qa_service_q7\n",
      "Add of existing embedding ID: siasun_qa_service_a7\n",
      "Insert of existing embedding ID: siasun_qa_service_q7\n",
      "Insert of existing embedding ID: siasun_qa_service_a7\n",
      "Add of existing embedding ID: siasun_qa_service_q8\n",
      "Add of existing embedding ID: siasun_qa_service_a8\n",
      "Insert of existing embedding ID: siasun_qa_service_q8\n",
      "Insert of existing embedding ID: siasun_qa_service_a8\n",
      "Add of existing embedding ID: siasun_qa_service_q9\n",
      "Add of existing embedding ID: siasun_qa_service_a9\n",
      "Insert of existing embedding ID: siasun_qa_service_q9\n",
      "Insert of existing embedding ID: siasun_qa_service_a9\n",
      "Add of existing embedding ID: siasun_qa_service_q10\n",
      "Add of existing embedding ID: siasun_qa_service_a10\n",
      "Insert of existing embedding ID: siasun_qa_service_q10\n",
      "Insert of existing embedding ID: siasun_qa_service_a10\n",
      "Add of existing embedding ID: siasun_qa_service_q11\n",
      "Add of existing embedding ID: siasun_qa_service_a11\n",
      "Insert of existing embedding ID: siasun_qa_service_q11\n",
      "Insert of existing embedding ID: siasun_qa_service_a11\n",
      "Add of existing embedding ID: siasun_qa_service_q12\n",
      "Add of existing embedding ID: siasun_qa_service_a12\n",
      "Insert of existing embedding ID: siasun_qa_service_q12\n",
      "Insert of existing embedding ID: siasun_qa_service_a12\n",
      "Add of existing embedding ID: siasun_qa_service_q13\n",
      "Add of existing embedding ID: siasun_qa_service_a13\n",
      "Insert of existing embedding ID: siasun_qa_service_q13\n",
      "Insert of existing embedding ID: siasun_qa_service_a13\n",
      "Add of existing embedding ID: siasun_qa_service_q14\n",
      "Add of existing embedding ID: siasun_qa_service_a14\n",
      "Insert of existing embedding ID: siasun_qa_service_q14\n",
      "Insert of existing embedding ID: siasun_qa_service_a14\n",
      "Add of existing embedding ID: siasun_qa_service_q15\n",
      "Add of existing embedding ID: siasun_qa_service_a15\n",
      "Insert of existing embedding ID: siasun_qa_service_q15\n",
      "Insert of existing embedding ID: siasun_qa_service_a15\n",
      "Add of existing embedding ID: siasun_qa_service_q16\n",
      "Add of existing embedding ID: siasun_qa_service_a16\n",
      "Insert of existing embedding ID: siasun_qa_service_q16\n",
      "Insert of existing embedding ID: siasun_qa_service_a16\n",
      "Add of existing embedding ID: siasun_qa_service_q17\n",
      "Add of existing embedding ID: siasun_qa_service_a17\n",
      "Insert of existing embedding ID: siasun_qa_service_q17\n",
      "Insert of existing embedding ID: siasun_qa_service_a17\n",
      "Add of existing embedding ID: siasun_qa_service_q18\n",
      "Add of existing embedding ID: siasun_qa_service_a18\n",
      "Insert of existing embedding ID: siasun_qa_service_q18\n",
      "Insert of existing embedding ID: siasun_qa_service_a18\n",
      "Add of existing embedding ID: siasun_qa_service_q19\n",
      "Add of existing embedding ID: siasun_qa_service_a19\n",
      "Insert of existing embedding ID: siasun_qa_service_q19\n",
      "Insert of existing embedding ID: siasun_qa_service_a19\n",
      "Add of existing embedding ID: siasun_qa_service_q20\n",
      "Add of existing embedding ID: siasun_qa_service_a20\n",
      "Insert of existing embedding ID: siasun_qa_service_q20\n",
      "Insert of existing embedding ID: siasun_qa_service_a20\n",
      "Add of existing embedding ID: siasun_qa_service_q21\n",
      "Add of existing embedding ID: siasun_qa_service_a21\n",
      "Insert of existing embedding ID: siasun_qa_service_q21\n",
      "Insert of existing embedding ID: siasun_qa_service_a21\n",
      "Add of existing embedding ID: siasun_qa_service_q22\n",
      "Add of existing embedding ID: siasun_qa_service_a22\n",
      "Insert of existing embedding ID: siasun_qa_service_q22\n",
      "Insert of existing embedding ID: siasun_qa_service_a22\n",
      "Add of existing embedding ID: siasun_qa_service_q23\n",
      "Add of existing embedding ID: siasun_qa_service_a23\n",
      "Insert of existing embedding ID: siasun_qa_service_q23\n",
      "Insert of existing embedding ID: siasun_qa_service_a23\n",
      "Add of existing embedding ID: q\n",
      "Add of existing embedding ID: a\n",
      "Add of existing embedding ID: q\n",
      "Add of existing embedding ID: a\n",
      "Add of existing embedding ID: q\n",
      "Add of existing embedding ID: a\n",
      "Add of existing embedding ID: q\n",
      "Add of existing embedding ID: a\n",
      "Add of existing embedding ID: q\n",
      "Add of existing embedding ID: a\n",
      "Add of existing embedding ID: q\n",
      "Add of existing embedding ID: a\n",
      "Add of existing embedding ID: q\n",
      "Add of existing embedding ID: a\n",
      "Add of existing embedding ID: q\n",
      "Add of existing embedding ID: a\n",
      "Add of existing embedding ID: q\n",
      "Add of existing embedding ID: a\n",
      "Add of existing embedding ID: q\n",
      "Add of existing embedding ID: a\n",
      "Add of existing embedding ID: q\n",
      "Add of existing embedding ID: a\n",
      "Add of existing embedding ID: q\n",
      "Add of existing embedding ID: a\n",
      "Add of existing embedding ID: q\n",
      "Add of existing embedding ID: a\n",
      "Insert of existing embedding ID: siasun_qa_technology_q0\n",
      "Insert of existing embedding ID: siasun_qa_technology_a0\n",
      "Add of existing embedding ID: siasun_qa_technology_q0\n",
      "Add of existing embedding ID: siasun_qa_technology_a0\n",
      "Insert of existing embedding ID: siasun_qa_technology_q1\n",
      "Insert of existing embedding ID: siasun_qa_technology_a1\n",
      "Add of existing embedding ID: siasun_qa_technology_q1\n",
      "Add of existing embedding ID: siasun_qa_technology_a1\n",
      "Insert of existing embedding ID: siasun_qa_technology_q2\n",
      "Insert of existing embedding ID: siasun_qa_technology_a2\n",
      "Add of existing embedding ID: siasun_qa_technology_q2\n",
      "Add of existing embedding ID: siasun_qa_technology_a2\n",
      "Insert of existing embedding ID: siasun_qa_technology_q3\n",
      "Insert of existing embedding ID: siasun_qa_technology_a3\n",
      "Add of existing embedding ID: siasun_qa_technology_q3\n",
      "Add of existing embedding ID: siasun_qa_technology_a3\n",
      "Insert of existing embedding ID: siasun_qa_technology_q4\n",
      "Insert of existing embedding ID: siasun_qa_technology_a4\n",
      "Add of existing embedding ID: siasun_qa_technology_q4\n",
      "Add of existing embedding ID: siasun_qa_technology_a4\n",
      "Insert of existing embedding ID: siasun_qa_technology_q5\n",
      "Insert of existing embedding ID: siasun_qa_technology_a5\n",
      "Add of existing embedding ID: siasun_qa_technology_q5\n",
      "Add of existing embedding ID: siasun_qa_technology_a5\n",
      "Insert of existing embedding ID: siasun_qa_technology_q6\n",
      "Insert of existing embedding ID: siasun_qa_technology_a6\n",
      "Add of existing embedding ID: siasun_qa_technology_q6\n",
      "Add of existing embedding ID: siasun_qa_technology_a6\n",
      "Insert of existing embedding ID: siasun_qa_technology_q7\n",
      "Insert of existing embedding ID: siasun_qa_technology_a7\n",
      "Add of existing embedding ID: siasun_qa_technology_q7\n",
      "Add of existing embedding ID: siasun_qa_technology_a7\n",
      "Insert of existing embedding ID: siasun_qa_technology_q8\n",
      "Insert of existing embedding ID: siasun_qa_technology_a8\n",
      "Add of existing embedding ID: siasun_qa_technology_q8\n",
      "Add of existing embedding ID: siasun_qa_technology_a8\n",
      "Insert of existing embedding ID: siasun_qa_technology_q9\n",
      "Insert of existing embedding ID: siasun_qa_technology_a9\n",
      "Add of existing embedding ID: siasun_qa_technology_q9\n",
      "Add of existing embedding ID: siasun_qa_technology_a9\n",
      "Insert of existing embedding ID: siasun_qa_technology_q10\n",
      "Insert of existing embedding ID: siasun_qa_technology_a10\n",
      "Add of existing embedding ID: siasun_qa_technology_q10\n",
      "Add of existing embedding ID: siasun_qa_technology_a10\n",
      "Insert of existing embedding ID: siasun_qa_technology_q11\n",
      "Insert of existing embedding ID: siasun_qa_technology_a11\n",
      "Add of existing embedding ID: siasun_qa_technology_q11\n",
      "Add of existing embedding ID: siasun_qa_technology_a11\n",
      "Insert of existing embedding ID: siasun_qa_technology_q12\n",
      "Insert of existing embedding ID: siasun_qa_technology_a12\n",
      "Add of existing embedding ID: siasun_qa_technology_q12\n",
      "Add of existing embedding ID: siasun_qa_technology_a12\n",
      "Insert of existing embedding ID: siasun_qa_technology_q13\n",
      "Insert of existing embedding ID: siasun_qa_technology_a13\n",
      "Add of existing embedding ID: siasun_qa_technology_q13\n",
      "Add of existing embedding ID: siasun_qa_technology_a13\n"
     ]
    }
   ],
   "execution_count": 8
  },
  {
   "metadata": {
    "ExecuteTime": {
     "end_time": "2025-03-23T12:43:07.797384Z",
     "start_time": "2025-03-23T12:43:07.794515Z"
    }
   },
   "cell_type": "code",
   "source": [
    "#|export\n",
    "queries=[\"你们的产品需要多久维护一次?\",\"我怎么设置机器人的安全工作区域?\"]\n",
    "queries[0]"
   ],
   "id": "f314ee21cd5cd18a",
   "outputs": [
    {
     "data": {
      "text/plain": [
       "'你们的产品需要多久维护一次?'"
      ]
     },
     "execution_count": 17,
     "metadata": {},
     "output_type": "execute_result"
    }
   ],
   "execution_count": 17
  },
  {
   "metadata": {
    "ExecuteTime": {
     "end_time": "2025-03-23T12:43:47.106477Z",
     "start_time": "2025-03-23T12:43:46.933623Z"
    }
   },
   "cell_type": "code",
   "source": [
    "results = collections[0].query(\n",
    "    query_texts=queries,\n",
    "    n_results=4\n",
    ")"
   ],
   "id": "d885aba898533f4b",
   "outputs": [],
   "execution_count": 20
  },
  {
   "metadata": {
    "ExecuteTime": {
     "end_time": "2025-03-23T12:43:12.362952Z",
     "start_time": "2025-03-23T12:43:12.360047Z"
    }
   },
   "cell_type": "code",
   "source": "results",
   "id": "da70193ed6f00208",
   "outputs": [
    {
     "data": {
      "text/plain": [
       "{'ids': [['siasun_qa_service_q2',\n",
       "   'siasun_qa_service_a9',\n",
       "   'siasun_qa_service_q21',\n",
       "   'siasun_qa_service_a10']],\n",
       " 'embeddings': None,\n",
       " 'documents': [['你们的产品，多久需要维护一次？维护保养内容有哪些？',\n",
       "   '作业作为一个重要的单元，所以不能进行批量删除与添加，防止误操作造成损失。',\n",
       "   '宏作业是干什么用的？',\n",
       "   '新松有标准的视觉通讯协议，视觉厂家可以按照此协议进行开发适配。当前适配过的品牌有，沈阳自动化所，欧姆龙、海康、梅卡曼德、视比特、基恩士。']],\n",
       " 'uris': None,\n",
       " 'data': None,\n",
       " 'metadatas': [[{'source': 'question'},\n",
       "   {'source': 'answer'},\n",
       "   {'source': 'question'},\n",
       "   {'source': 'answer'}]],\n",
       " 'distances': [[0.3583492934703827,\n",
       "   0.802642822265625,\n",
       "   0.8398691415786743,\n",
       "   0.8906089067459106]],\n",
       " 'included': [<IncludeEnum.distances: 'distances'>,\n",
       "  <IncludeEnum.documents: 'documents'>,\n",
       "  <IncludeEnum.metadatas: 'metadatas'>]}"
      ]
     },
     "execution_count": 19,
     "metadata": {},
     "output_type": "execute_result"
    }
   ],
   "execution_count": 19
  },
  {
   "metadata": {
    "ExecuteTime": {
     "end_time": "2025-03-23T12:45:05.031754Z",
     "start_time": "2025-03-23T12:45:05.029581Z"
    }
   },
   "cell_type": "code",
   "source": [
    "# results['metadatas'][0] #[0]['source']\n",
    "results['documents'][0][0]"
   ],
   "id": "c6a9c1661db02f02",
   "outputs": [
    {
     "data": {
      "text/plain": [
       "'你们的产品，多久需要维护一次？维护保养内容有哪些？'"
      ]
     },
     "execution_count": 21,
     "metadata": {},
     "output_type": "execute_result"
    }
   ],
   "execution_count": 21
  },
  {
   "metadata": {
    "ExecuteTime": {
     "end_time": "2025-03-23T12:45:15.672696Z",
     "start_time": "2025-03-23T12:45:15.669648Z"
    }
   },
   "cell_type": "code",
   "source": [
    "colls = client.list_collections()\n",
    "colls[0]"
   ],
   "id": "94d6a395a5b7a803",
   "outputs": [
    {
     "data": {
      "text/plain": [
       "'siasun_qa_technology'"
      ]
     },
     "execution_count": 22,
     "metadata": {},
     "output_type": "execute_result"
    }
   ],
   "execution_count": 22
  },
  {
   "metadata": {
    "ExecuteTime": {
     "end_time": "2025-03-23T13:47:04.063526Z",
     "start_time": "2025-03-23T13:47:03.950239Z"
    }
   },
   "cell_type": "code",
   "source": [
    "\n",
    "# question = \"你们的产品需要多久维护一次?\"\n",
    "question = \"你们在售前评估上，如何帮助到我们?\"\n",
    "answers = []\n",
    "for collection in collections:\n",
    "    results = collection.query(\n",
    "        query_texts=[question],\n",
    "        n_results=4\n",
    "    )\n",
    "    docs = []\n",
    "    for i,metadata in enumerate(results['metadatas'][0]):\n",
    "        if metadata['source'] == 'question':\n",
    "            docs.append({'id': results['ids'][0][i],\n",
    "                         'document': results['documents'][0][i],\n",
    "                         'distance':results['distances'][0][i]})\n",
    "    df = pd.DataFrame(docs)\n",
    "    answers.append(df)\n",
    "df_answers = pd.concat(answers, axis=0,ignore_index=True)\n",
    "# df_answers = pd.stack(answers, axis=2)"
   ],
   "id": "22b73eb7792be2ab",
   "outputs": [],
   "execution_count": 71
  },
  {
   "metadata": {
    "ExecuteTime": {
     "end_time": "2025-03-23T13:47:09.795533Z",
     "start_time": "2025-03-23T13:47:09.792580Z"
    }
   },
   "cell_type": "code",
   "source": "df_answers.loc[df_answers['distance'].idxmin()]",
   "id": "f58ee1e3e4554ea0",
   "outputs": [
    {
     "data": {
      "text/plain": [
       "id          siasun_qa_technology_q10\n",
       "document         你们在售前评估上，能提供什么样的帮助？\n",
       "distance                    0.376306\n",
       "Name: 2, dtype: object"
      ]
     },
     "execution_count": 72,
     "metadata": {},
     "output_type": "execute_result"
    }
   ],
   "execution_count": 72
  },
  {
   "metadata": {
    "ExecuteTime": {
     "end_time": "2025-03-23T13:47:46.864414Z",
     "start_time": "2025-03-23T13:47:46.860244Z"
    }
   },
   "cell_type": "code",
   "source": [
    "\n",
    "id_q = df_answers.loc[df_answers['distance'].idxmin()]['id']\n",
    "id_q"
   ],
   "id": "622e9f7c853af379",
   "outputs": [
    {
     "data": {
      "text/plain": [
       "'siasun_qa_technology_q10'"
      ]
     },
     "execution_count": 75,
     "metadata": {},
     "output_type": "execute_result"
    }
   ],
   "execution_count": 75
  },
  {
   "metadata": {
    "ExecuteTime": {
     "end_time": "2025-03-23T13:53:04.428409Z",
     "start_time": "2025-03-23T13:53:04.425969Z"
    }
   },
   "cell_type": "code",
   "source": [
    "\n",
    "id_a_list = id_q.split('_')\n",
    "id_a_list[-1] = id_a_list[-1].replace('q','a')\n",
    "id_a_list"
   ],
   "id": "5929799653473da2",
   "outputs": [
    {
     "data": {
      "text/plain": [
       "['siasun', 'qa', 'technology', 'a10']"
      ]
     },
     "execution_count": 83,
     "metadata": {},
     "output_type": "execute_result"
    }
   ],
   "execution_count": 83
  },
  {
   "metadata": {
    "ExecuteTime": {
     "end_time": "2025-03-23T13:53:08.246146Z",
     "start_time": "2025-03-23T13:53:08.243641Z"
    }
   },
   "cell_type": "code",
   "source": [
    "id_a = '_'.join(id_a_list)\n",
    "id_a"
   ],
   "id": "93a65db8201c85e5",
   "outputs": [
    {
     "data": {
      "text/plain": [
       "'siasun_qa_technology_a10'"
      ]
     },
     "execution_count": 84,
     "metadata": {},
     "output_type": "execute_result"
    }
   ],
   "execution_count": 84
  },
  {
   "metadata": {
    "ExecuteTime": {
     "end_time": "2025-03-23T13:56:45.411778Z",
     "start_time": "2025-03-23T13:56:45.409424Z"
    }
   },
   "cell_type": "code",
   "source": [
    "coll_idx = 0 if id_a_list[-2] == 'service' else 1\n",
    "coll_idx"
   ],
   "id": "5f3b099a6b99bb79",
   "outputs": [
    {
     "data": {
      "text/plain": [
       "1"
      ]
     },
     "execution_count": 87,
     "metadata": {},
     "output_type": "execute_result"
    }
   ],
   "execution_count": 87
  },
  {
   "metadata": {
    "ExecuteTime": {
     "end_time": "2025-03-23T13:56:51.044504Z",
     "start_time": "2025-03-23T13:56:51.040786Z"
    }
   },
   "cell_type": "code",
   "source": [
    "answer = collections[coll_idx].get(id_a)\n",
    "answer['documents']"
   ],
   "id": "54a710916272b975",
   "outputs": [
    {
     "data": {
      "text/plain": [
       "['部分情况可提供现场技术指导，提供成功应用案例经验支持，仿真模拟场景，评估负载等风险，提供机械、电气、软件接口对接。']"
      ]
     },
     "execution_count": 88,
     "metadata": {},
     "output_type": "execute_result"
    }
   ],
   "execution_count": 88
  },
  {
   "metadata": {
    "ExecuteTime": {
     "end_time": "2025-03-23T13:09:42.694741Z",
     "start_time": "2025-03-23T13:09:42.692884Z"
    }
   },
   "cell_type": "code",
   "source": "best_answer = df_answers.loc[df_answers['distance'].idxmin()]",
   "id": "9d82892da75b95cb",
   "outputs": [],
   "execution_count": 27
  },
  {
   "metadata": {
    "ExecuteTime": {
     "end_time": "2025-03-23T13:56:55.553958Z",
     "start_time": "2025-03-23T13:56:55.551036Z"
    }
   },
   "cell_type": "code",
   "source": [
    "def qa(question:str, collections:list[chromadb.Collection]=collections):\n",
    "    matched_questions = []\n",
    "    for collection in collections:\n",
    "        results = collection.query(\n",
    "            query_texts=[question],\n",
    "            n_results=4\n",
    "        )\n",
    "        docs = []\n",
    "        for i,metadata in enumerate(results['metadatas'][0]):\n",
    "            if metadata['source'] == 'question':\n",
    "                docs.append({'id': results['ids'][0][i],\n",
    "                                'document': results['documents'][0][i], \n",
    "                                'distance':results['distances'][0][i]})\n",
    "        df = pd.DataFrame(docs)\n",
    "        matched_questions.append(df)\n",
    "\n",
    "    df_matched_questions = pd.concat(matched_questions,axis=0,ignore_index=True)\n",
    "    best_match_q_id = df_matched_questions.loc[df_matched_questions['distance'].idxmin()]['id']\n",
    "    id_a_list = best_match_q_id.split('_')\n",
    "    id_a_list[-1] = id_a_list[-1].replace('q','a')\n",
    "    id_a = '_'.join(id_a_list)\n",
    "    coll_idx = 0 if id_a_list[-2] == 'service' else 1\n",
    "    best_answer = collections[coll_idx].get(id_a)['documents']\n",
    "    return best_answer\n",
    "    # question =\n",
    "    # return answers"
   ],
   "id": "2ea352cd4183e359",
   "outputs": [],
   "execution_count": 89
  },
  {
   "metadata": {
    "ExecuteTime": {
     "end_time": "2025-03-23T13:57:00.616710Z",
     "start_time": "2025-03-23T13:57:00.497379Z"
    }
   },
   "cell_type": "code",
   "source": [
    "\n",
    "question = \"你们的产品需要多久维护一次?\"\n",
    "qa(question)\n"
   ],
   "id": "f749d9cc9a401a32",
   "outputs": [
    {
     "data": {
      "text/plain": [
       "['根据机器人的型号和实际使用情况，制定机器人的保养计划,一般分为日常、3 个月、6 个月、1 年期的维护保养。\\n需要对机器人进行日常点检和定期维护保养，点检工作主要检查设备是否存在漏油、异响、异常震动、异常报警；定期维护保养主要对油脂、线束护套、风扇、电机接头等易损位置进行检查，并定期更换润滑油。具体检验项目及维护周期详见安装维护手册。']"
      ]
     },
     "execution_count": 90,
     "metadata": {},
     "output_type": "execute_result"
    }
   ],
   "execution_count": 90
  },
  {
   "metadata": {
    "jupyter": {
     "is_executing": true
    },
    "ExecuteTime": {
     "start_time": "2025-03-23T14:01:16.726096Z"
    }
   },
   "cell_type": "code",
   "source": [
    "# |export\n",
    "iface = gr.Interface(fn=qa, inputs=gr.Text(value=\"多久维护一次产品?\"), outputs=\"text\")\n",
    "iface.launch(width=500,share=True)"
   ],
   "id": "ad2f204e6ab55bfc",
   "outputs": [
    {
     "name": "stdout",
     "output_type": "stream",
     "text": [
      "* Running on local URL:  http://127.0.0.1:7861\n"
     ]
    },
    {
     "name": "stderr",
     "output_type": "stream",
     "text": [
      "huggingface/tokenizers: The current process just got forked, after parallelism has already been used. Disabling parallelism to avoid deadlocks...\n",
      "To disable this warning, you can either:\n",
      "\t- Avoid using `tokenizers` before the fork if possible\n",
      "\t- Explicitly set the environment variable TOKENIZERS_PARALLELISM=(true | false)\n"
     ]
    },
    {
     "name": "stdout",
     "output_type": "stream",
     "text": [
      "* Running on public URL: https://1cd211027624cee8c5.gradio.live\n",
      "\n",
      "This share link expires in 72 hours. For free permanent hosting and GPU upgrades, run `gradio deploy` from the terminal in the working directory to deploy to Hugging Face Spaces (https://huggingface.co/spaces)\n"
     ]
    }
   ],
   "execution_count": null
  },
  {
   "metadata": {
    "ExecuteTime": {
     "end_time": "2025-03-23T14:00:52.024009Z",
     "start_time": "2025-03-23T14:00:51.852638Z"
    }
   },
   "cell_type": "code",
   "source": [
    "# this is only necessary in a notebook\n",
    "iface.close()"
   ],
   "id": "888b1b0530808ebe",
   "outputs": [
    {
     "name": "stdout",
     "output_type": "stream",
     "text": [
      "Closing server running on port: 7861\n"
     ]
    }
   ],
   "execution_count": 92
  },
  {
   "metadata": {},
   "cell_type": "markdown",
   "source": "## Create a `requirements.txt` file",
   "id": "7dc11529d1b85a84"
  },
  {
   "metadata": {},
   "cell_type": "code",
   "outputs": [],
   "execution_count": null,
   "source": [
    "%%writefile ../requirements.txt\n",
    "fastcore"
   ],
   "id": "c39a06f76c3da0f5"
  },
  {
   "metadata": {},
   "cell_type": "code",
   "outputs": [],
   "execution_count": null,
   "source": [
    "# | hide\n",
    "import nbdev\n",
    "\n",
    "nbdev.nbdev_export()"
   ],
   "id": "9df14eac7a58493f"
  },
  {
   "metadata": {
    "ExecuteTime": {
     "end_time": "2025-03-19T03:42:51.114300Z",
     "start_time": "2025-03-19T03:42:51.107550Z"
    }
   },
   "cell_type": "code",
   "source": "# |default_exp data_preprocessing",
   "id": "648dc291964559de",
   "outputs": [],
   "execution_count": 1
  },
  {
   "metadata": {},
   "cell_type": "markdown",
   "source": "## Convert this notebook into a Gradio app",
   "id": "4755b2e93c82953c"
  },
  {
   "metadata": {},
   "cell_type": "code",
   "outputs": [],
   "execution_count": 9,
   "source": [
    "# from nbdev.export import nb_export\n",
    "# nb_export('01_gradio.ipynb', lib_path='.', name='gradio')"
   ],
   "id": "9549f5fd490578dd"
  },
  {
   "metadata": {},
   "cell_type": "code",
   "outputs": [],
   "execution_count": null,
   "source": [
    "# | hide\n",
    "import nbdev\n",
    "\n",
    "nbdev.nbdev_export()"
   ],
   "id": "6118d49775df611a"
  }
 ],
 "metadata": {
  "kernelspec": {
   "name": "python3",
   "language": "python",
   "display_name": "Python 3 (ipykernel)"
  }
 },
 "nbformat": 5,
 "nbformat_minor": 9
}
