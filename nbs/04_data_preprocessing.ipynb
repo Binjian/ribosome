{
 "cells": [
  {
   "metadata": {},
   "cell_type": "raw",
   "source": [
    "---\n",
    "output-file: chroma_db.html\n",
    "title: ChromaDB tutorial\n",
    "---"
   ],
   "id": "4bd68effe0fec893"
  },
  {
   "metadata": {},
   "cell_type": "code",
   "outputs": [],
   "execution_count": null,
   "source": "# |default_exp chroma_db",
   "id": "86a7d3fa89528e4f"
  },
  {
   "metadata": {},
   "cell_type": "markdown",
   "source": "## Install dependencies",
   "id": "40bae3045488c83c"
  },
  {
   "metadata": {},
   "cell_type": "markdown",
   "source": "## Make an app with Gradio",
   "id": "8689e7841c3c3942"
  },
  {
   "metadata": {
    "ExecuteTime": {
     "end_time": "2025-03-20T08:59:16.954637Z",
     "start_time": "2025-03-20T08:59:16.949857Z"
    }
   },
   "cell_type": "code",
   "source": [
    "# |export\n",
    "import csv\n",
    "import re\n",
    "import chromadb\n",
    "from chromadb import Settings\n",
    "import pandas as pd\n",
    "from dotenv import load_dotenv\n",
    "import os\n",
    "\n",
    "import gradio as gr\n",
    "from fastcore.net import urljson, HTTPError"
   ],
   "id": "c3ed1a604344bdea",
   "outputs": [],
   "execution_count": 14
  },
  {
   "metadata": {
    "ExecuteTime": {
     "end_time": "2025-03-20T08:21:20.918104Z",
     "start_time": "2025-03-20T08:21:20.912491Z"
    }
   },
   "cell_type": "code",
   "source": [
    "load_dotenv()\n",
    "oai_key = os.getenv('GEMINI_API_KEY')"
   ],
   "id": "7f542994eda15019",
   "outputs": [],
   "execution_count": 2
  },
  {
   "metadata": {
    "ExecuteTime": {
     "end_time": "2025-03-20T08:21:25.707311Z",
     "start_time": "2025-03-20T08:21:25.702734Z"
    }
   },
   "cell_type": "code",
   "source": [
    "def convert_qa_to_csv(input_file, output_file):\n",
    "    \"\"\"\n",
    "    Convert a text file with Q/A format to a CSV file.\n",
    "\n",
    "    Args:\n",
    "        input_file: Path to the input text file\n",
    "        output_file: Path to the output CSV file\n",
    "    \"\"\"\n",
    "    # Read the content of the file\n",
    "    with open(input_file, 'r', encoding='utf-8') as f:\n",
    "        content = f.read()\n",
    "\n",
    "    # Split the content by 'Q' marker\n",
    "    qa_blocks = content.split('Q\\n')\n",
    "\n",
    "    qa_blks = [block.strip() for block in qa_blocks][1:]\n",
    "    # Remove empty blocks (like the first one if file starts with 'Q')\n",
    "    # qa_blocks = [[line for line in block.split('\\n') ] for block in qa_blks if block.strip()]\n",
    "    # Remove empty blocks (like the first one if file starts with 'Q')\n",
    "    # qa_blocks = [blk for block in qa_blocks if block.strip() for blk in block.strip()]\n",
    "\n",
    "    # Process each Q&A block\n",
    "    qa_pairs = []\n",
    "    for block in qa_blks:\n",
    "        # Split the block into lines\n",
    "        lines = block.strip().split('\\n')\n",
    "\n",
    "        if lines:\n",
    "            # First line is the question\n",
    "            question = lines[0]\n",
    "            # The rest are the answer\n",
    "            answer = '\\n'.join(lines[1:])\n",
    "\n",
    "            # Add the pair to our list\n",
    "            qa_pairs.append([question, answer])\n",
    "\n",
    "    # Write to CSV\n",
    "    with open(output_file, 'w', encoding='utf-8', newline='') as f:\n",
    "        writer = csv.writer(f)\n",
    "        # Write header\n",
    "        writer.writerow(['Question', 'Answer'])\n",
    "        # Write Q&A pairs\n",
    "        for pair in qa_pairs:\n",
    "            writer.writerow(pair)\n",
    "    print(f\"Conversion complete. CSV file saved to {output_file}\")"
   ],
   "id": "a0a4709412146528",
   "outputs": [],
   "execution_count": 3
  },
  {
   "metadata": {
    "ExecuteTime": {
     "end_time": "2025-03-20T08:21:28.952424Z",
     "start_time": "2025-03-20T08:21:28.946262Z"
    }
   },
   "cell_type": "code",
   "source": [
    "\n",
    "input_files = [\"../res/qa_service.txt\", \"../res/qa_technology.txt\"]\n",
    "output_files = [\"../res/qa_service.csv\", \"../res/qa_technology.csv\"]\n",
    "for in_f, ot_f in zip(input_files, output_files):\n",
    "    convert_qa_to_csv(in_f, ot_f)\n",
    "    "
   ],
   "id": "b867632cd7164a19",
   "outputs": [
    {
     "name": "stdout",
     "output_type": "stream",
     "text": [
      "Conversion complete. CSV file saved to ../res/qa_service.csv\n",
      "Conversion complete. CSV file saved to ../res/qa_technology.csv\n"
     ]
    }
   ],
   "execution_count": 4
  },
  {
   "metadata": {
    "ExecuteTime": {
     "end_time": "2025-03-20T08:40:15.052572Z",
     "start_time": "2025-03-20T08:40:15.041813Z"
    }
   },
   "cell_type": "code",
   "source": [
    "# |export\n",
    "client = chromadb.PersistentClient(path=\"../db\")\n",
    "# collections = [client.create_collection(name=\"siasun_qa_service\"),\n",
    "#                 client.create_collection(name=\"siasun_qa_technology\")]\n",
    "collections = [client.get_or_create_collection(name=\"siasun_qa_service\"),\n",
    "                client.get_or_create_collection(name=\"siasun_qa_technology\")]"
   ],
   "id": "e87d7540e3a1b0d8",
   "outputs": [],
   "execution_count": 8
  },
  {
   "metadata": {
    "ExecuteTime": {
     "end_time": "2025-03-20T08:07:24.826114Z",
     "start_time": "2025-03-20T08:07:24.820801Z"
    }
   },
   "cell_type": "code",
   "source": [
    "i=2\n",
    "f'q{i}'"
   ],
   "id": "f4c4e9c21acabd5a",
   "outputs": [
    {
     "data": {
      "text/plain": [
       "'q2'"
      ]
     },
     "execution_count": 6,
     "metadata": {},
     "output_type": "execute_result"
    }
   ],
   "execution_count": 6
  },
  {
   "metadata": {},
   "cell_type": "code",
   "source": [
    "# |export\n",
    "\n",
    "for csv_file,collection in zip(output_files,collections):\n",
    "    with open(csv_file, newline='') as f:\n",
    "        reader = csv.reader(f)\n",
    "        for i, row in enumerate(reader):\n",
    "            collection.add(\n",
    "                documents = row,\n",
    "                metadatas = [{\"source\": \"question\"}, {\"source\": \"answer\"}],\n",
    "                ids = [f\"{collection.name}_q{i}\", f\"{collection.name}_a{i}\"]\n",
    "            )"
   ],
   "id": "cd8cffa926183329",
   "outputs": [],
   "execution_count": null
  },
  {
   "metadata": {
    "ExecuteTime": {
     "end_time": "2025-03-20T09:03:38.248220Z",
     "start_time": "2025-03-20T09:03:38.202907Z"
    }
   },
   "cell_type": "code",
   "source": [
    "#|export\n",
    "results = collections[0].query(\n",
    "    query_texts=[\"你们的产品需要多久维护一次?\"],\n",
    "    n_results=4\n",
    ")"
   ],
   "id": "d885aba898533f4b",
   "outputs": [],
   "execution_count": 17
  },
  {
   "metadata": {
    "ExecuteTime": {
     "end_time": "2025-03-20T09:03:45.576875Z",
     "start_time": "2025-03-20T09:03:45.570920Z"
    }
   },
   "cell_type": "code",
   "source": "results",
   "id": "da70193ed6f00208",
   "outputs": [
    {
     "data": {
      "text/plain": [
       "{'ids': [['siasun_qa_service_q2',\n",
       "   'siasun_qa_service_a9',\n",
       "   'siasun_qa_service_q21',\n",
       "   'siasun_qa_service_a10']],\n",
       " 'embeddings': None,\n",
       " 'documents': [['你们的产品，多久需要维护一次？维护保养内容有哪些？',\n",
       "   '作业作为一个重要的单元，所以不能进行批量删除与添加，防止误操作造成损失。',\n",
       "   '宏作业是干什么用的？',\n",
       "   '新松有标准的视觉通讯协议，视觉厂家可以按照此协议进行开发适配。当前适配过的品牌有，沈阳自动化所，欧姆龙、海康、梅卡曼德、视比特、基恩士。']],\n",
       " 'uris': None,\n",
       " 'data': None,\n",
       " 'metadatas': [[{'source': 'question'},\n",
       "   {'source': 'answer'},\n",
       "   {'source': 'question'},\n",
       "   {'source': 'answer'}]],\n",
       " 'distances': [[0.35835238473584624,\n",
       "   0.8026765812953612,\n",
       "   0.8398664268040978,\n",
       "   0.8905950951966901]],\n",
       " 'included': [<IncludeEnum.distances: 'distances'>,\n",
       "  <IncludeEnum.documents: 'documents'>,\n",
       "  <IncludeEnum.metadatas: 'metadatas'>]}"
      ]
     },
     "execution_count": 18,
     "metadata": {},
     "output_type": "execute_result"
    }
   ],
   "execution_count": 18
  },
  {
   "metadata": {
    "ExecuteTime": {
     "end_time": "2025-03-20T08:40:58.902964Z",
     "start_time": "2025-03-20T08:40:58.898108Z"
    }
   },
   "cell_type": "code",
   "source": [
    "# results['metadatas'][0] #[0]['source']\n",
    "results['documents'][0][0]"
   ],
   "id": "c6a9c1661db02f02",
   "outputs": [
    {
     "data": {
      "text/plain": [
       "'你们的产品，多久需要维护一次？维护保养内容有哪些？'"
      ]
     },
     "execution_count": 13,
     "metadata": {},
     "output_type": "execute_result"
    }
   ],
   "execution_count": 13
  },
  {
   "metadata": {
    "ExecuteTime": {
     "end_time": "2025-03-20T09:22:16.812916Z",
     "start_time": "2025-03-20T09:22:16.806158Z"
    }
   },
   "cell_type": "code",
   "source": [
    "colls = client.list_collections()\n",
    "colls[0]"
   ],
   "id": "94d6a395a5b7a803",
   "outputs": [
    {
     "data": {
      "text/plain": [
       "'siasun_qa_service'"
      ]
     },
     "execution_count": 23,
     "metadata": {},
     "output_type": "execute_result"
    }
   ],
   "execution_count": 23
  },
  {
   "metadata": {
    "ExecuteTime": {
     "end_time": "2025-03-20T09:27:51.471182Z",
     "start_time": "2025-03-20T09:27:51.389786Z"
    }
   },
   "cell_type": "code",
   "source": [
    "\n",
    "question = \"你们的产品需要多久维护一次?\"\n",
    "answers = []\n",
    "for collection in collections:\n",
    "    results = collection.query(\n",
    "        query_texts=[question],\n",
    "        n_results=4\n",
    "    )\n",
    "    docs = []\n",
    "    for i,metadata in enumerate(results['metadatas'][0]):\n",
    "        if metadata['source'] == 'question':\n",
    "            docs.append({'id': results['ids'][0][i],\n",
    "                         'document': results['documents'][0][i],\n",
    "                         'distance':results['distances'][0][i]})\n",
    "    df = pd.DataFrame(docs)\n",
    "    answers.append(df)\n",
    "df_answers = pd.concat(answers, axis=)"
   ],
   "id": "22b73eb7792be2ab",
   "outputs": [],
   "execution_count": 25
  },
  {
   "metadata": {},
   "cell_type": "code",
   "outputs": [],
   "execution_count": null,
   "source": [
    "def qa(question:str, collections:list[chromadb.Collection]):\n",
    "    answers = []\n",
    "    for collection in collections:\n",
    "        results = collection.query(\n",
    "            query_texts=[question],\n",
    "            n_results=4\n",
    "        )\n",
    "        docs = []\n",
    "        for i,metadata in enumerate(results['metadatas'][0]):\n",
    "            if metadata['source'] == 'question':\n",
    "                docs.append({'id': results['ids'][0][i],\n",
    "                                'document': results['documents'][0][i], \n",
    "                                'distance':results['distances'][0][i]})\n",
    "\n",
    "        answers.append(docs)\n",
    "    # question =\n",
    "    # return answers"
   ],
   "id": "2ea352cd4183e359"
  },
  {
   "metadata": {},
   "cell_type": "code",
   "outputs": [],
   "execution_count": null,
   "source": [
    "# |export\n",
    "iface = gr.Interface(fn=qa, inputs=gr.Text(value=\"多久维护一次产品?\"), outputs=\"text\")\n",
    "iface.launch(width=500)"
   ],
   "id": "ad2f204e6ab55bfc"
  },
  {
   "metadata": {},
   "cell_type": "code",
   "outputs": [],
   "execution_count": null,
   "source": [
    "# this is only necessary in a notebook\n",
    "iface.close()"
   ],
   "id": "888b1b0530808ebe"
  },
  {
   "metadata": {},
   "cell_type": "markdown",
   "source": "## Create a `requirements.txt` file",
   "id": "7dc11529d1b85a84"
  },
  {
   "metadata": {},
   "cell_type": "code",
   "outputs": [],
   "execution_count": null,
   "source": [
    "%%writefile ../requirements.txt\n",
    "fastcore"
   ],
   "id": "c39a06f76c3da0f5"
  },
  {
   "metadata": {},
   "cell_type": "code",
   "outputs": [],
   "execution_count": null,
   "source": [
    "# | hide\n",
    "import nbdev\n",
    "\n",
    "nbdev.nbdev_export()"
   ],
   "id": "9df14eac7a58493f"
  },
  {
   "metadata": {
    "ExecuteTime": {
     "end_time": "2025-03-19T03:42:51.114300Z",
     "start_time": "2025-03-19T03:42:51.107550Z"
    }
   },
   "cell_type": "code",
   "source": "# |default_exp data_preprocessing",
   "id": "648dc291964559de",
   "outputs": [],
   "execution_count": 1
  },
  {
   "metadata": {},
   "cell_type": "markdown",
   "source": "## Convert this notebook into a Gradio app",
   "id": "4755b2e93c82953c"
  },
  {
   "metadata": {},
   "cell_type": "code",
   "outputs": [],
   "execution_count": 9,
   "source": [
    "# from nbdev.export import nb_export\n",
    "# nb_export('01_gradio.ipynb', lib_path='.', name='gradio')"
   ],
   "id": "9549f5fd490578dd"
  },
  {
   "metadata": {},
   "cell_type": "code",
   "outputs": [],
   "execution_count": null,
   "source": [
    "# | hide\n",
    "import nbdev\n",
    "\n",
    "nbdev.nbdev_export()"
   ],
   "id": "6118d49775df611a"
  }
 ],
 "metadata": {
  "kernelspec": {
   "name": "python3",
   "language": "python",
   "display_name": "Python 3 (ipykernel)"
  }
 },
 "nbformat": 5,
 "nbformat_minor": 9
}
