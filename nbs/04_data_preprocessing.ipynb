{
 "cells": [
  {
   "cell_type": "raw",
   "id": "4bd68effe0fec893",
   "metadata": {},
   "source": [
    "---\n",
    "output-file: chroma_db.html\n",
    "title: ChromaDB tutorial\n",
    "---"
   ]
  },
  {
   "cell_type": "code",
   "execution_count": null,
   "id": "86a7d3fa89528e4f",
   "metadata": {},
   "outputs": [],
   "source": "# |default_exp chroma_db"
  },
  {
   "cell_type": "markdown",
   "id": "40bae3045488c83c",
   "metadata": {},
   "source": "## Install dependencies"
  },
  {
   "cell_type": "markdown",
   "id": "8689e7841c3c3942",
   "metadata": {},
   "source": "## Make an app with Gradio"
  },
  {
   "cell_type": "code",
   "execution_count": null,
   "id": "c3ed1a604344bdea",
   "metadata": {},
   "outputs": [],
   "source": [
    "# |export\n",
    "import csv\n",
    "import re\n",
    "import chromadb\n",
    "from chromadb import Settings\n",
    "import pandas as pd\n",
    "from dotenv import load_dotenv\n",
    "import os\n",
    "\n",
    "import gradio as gr\n",
    "# from fastcore.net import urljson, HTTPError\n",
    "# from openai import api_key\n",
    "# from openai import OpenAI"
   ]
  },
  {
   "cell_type": "code",
   "execution_count": null,
   "id": "c0dbf8f53e3c0074",
   "metadata": {},
   "outputs": [],
   "source": [
    "# |export\n",
    "# import chromadb.utils.embedding_functions as embedding_functions\n",
    "# from chromadb.utils.embedding_functions import OpenAIEmbeddingFunction"
   ]
  },
  {
   "cell_type": "code",
   "execution_count": null,
   "id": "7f542994eda15019",
   "metadata": {},
   "outputs": [],
   "source": [
    "# load_dotenv()\n",
    "# gemini_key = os.getenv('GEMINI_API_KEY')\n",
    "# deepseek_key = os.getenv('DEEPSEEK_R1_API_KEY')"
   ]
  },
  {
   "cell_type": "code",
   "execution_count": null,
   "id": "e830e6ba61d6d953",
   "metadata": {},
   "outputs": [],
   "source": "print(os.environ.get('HTTPS_PROXY'))\n"
  },
  {
   "cell_type": "code",
   "execution_count": null,
   "id": "bc0ede5ddd52e2d0",
   "metadata": {},
   "outputs": [],
   "source": [
    "# client = OpenAI(\n",
    "#   base_url=\"https://openrouter.ai/api/v1\",\n",
    "#   api_key=deepseek_key,\n",
    "# )"
   ]
  },
  {
   "cell_type": "code",
   "execution_count": null,
   "id": "bbaf46cb6fab052c",
   "metadata": {},
   "outputs": [],
   "source": [
    "# deepseek_ef = OpenAIEmbeddingFunction(\n",
    "#     api_key=deepseek_key,\n",
    "#     api_base=\"https://openrouter.ai/api/v1\",\n",
    "#     model_name=\"deepseek_r1：free\",\n",
    "# )"
   ]
  },
  {
   "cell_type": "code",
   "execution_count": null,
   "id": "5aab85556fd1c15f",
   "metadata": {},
   "outputs": [],
   "source": [
    "\n",
    "# completion = client.chat.completions.create(\n",
    "#   extra_headers={\n",
    "#     \"HTTP-Referer\": \"binjian.github.io\", # Optional. Site URL for rankings on openrouter.ai.\n",
    "#     \"X-Title\": \"binjian's digital garden\", # Optional. Site title for rankings on openrouter.ai.\n",
    "#   },\n",
    "#   extra_body={},\n",
    "#   model=\"deepseek/deepseek-r1:free\",\n",
    "#   messages=[\n",
    "#     {\n",
    "#       \"role\": \"user\",\n",
    "#       \"content\": \"What's Anthropic's/meb Model context protocol?\"\n",
    "#     }\n",
    "#   ]\n",
    "# )\n",
    "# print(completion.choices[0].message.content)"
   ]
  },
  {
   "cell_type": "code",
   "execution_count": null,
   "id": "81899cd24437f8e",
   "metadata": {},
   "outputs": [],
   "source": "# google_ef = embedding_functions.GoogleGenerativeAiEmbeddingFunction(api_key=gemini_key)"
  },
  {
   "cell_type": "code",
   "execution_count": null,
   "id": "a0a4709412146528",
   "metadata": {},
   "outputs": [],
   "source": [
    "def convert_qa_to_csv(input_file, output_file):\n",
    "    \"\"\"\n",
    "    Convert a text file with Q/A format to a CSV file.\n",
    "\n",
    "    Args:\n",
    "        input_file: Path to the input text file\n",
    "        output_file: Path to the output CSV file\n",
    "    \"\"\"\n",
    "    # Read the content of the file\n",
    "    with open(input_file, 'r', encoding='utf-8') as f:\n",
    "        content = f.read()\n",
    "\n",
    "    # Split the content by 'Q' marker\n",
    "    qa_blocks = content.split('Q\\n')\n",
    "\n",
    "    qa_blks = [block.strip() for block in qa_blocks][1:]\n",
    "    # Remove empty blocks (like the first one if file starts with 'Q')\n",
    "    # qa_blocks = [[line for line in block.split('\\n') ] for block in qa_blks if block.strip()]\n",
    "    # Remove empty blocks (like the first one if file starts with 'Q')\n",
    "    # qa_blocks = [blk for block in qa_blocks if block.strip() for blk in block.strip()]\n",
    "\n",
    "    # Process each Q&A block\n",
    "    qa_pairs = []\n",
    "    for block in qa_blks:\n",
    "        # Split the block into lines\n",
    "        lines = block.strip().split('\\n')\n",
    "\n",
    "        if lines:\n",
    "            # First line is the question\n",
    "            question = lines[0]\n",
    "            # The rest are the answer\n",
    "            answer = '\\n'.join(lines[1:])\n",
    "\n",
    "            # Add the pair to our list\n",
    "            qa_pairs.append([question, answer])\n",
    "\n",
    "    # Write to CSV\n",
    "    with open(output_file, 'w', encoding='utf-8', newline='') as f:\n",
    "        writer = csv.writer(f)\n",
    "        # Write header\n",
    "        writer.writerow(['Question', 'Answer'])\n",
    "        # Write Q&A pairs\n",
    "        for pair in qa_pairs:\n",
    "            writer.writerow(pair)\n",
    "    print(f\"Conversion complete. CSV file saved to {output_file}\")"
   ]
  },
  {
   "cell_type": "code",
   "execution_count": null,
   "id": "b867632cd7164a19",
   "metadata": {},
   "outputs": [],
   "source": [
    "\n",
    "input_files = [\"../res/qa_service.txt\", \"../res/qa_technology.txt\"]\n",
    "output_files = [\"../res/qa_service.csv\", \"../res/qa_technology.csv\"]\n",
    "for in_f, ot_f in zip(input_files, output_files):\n",
    "    convert_qa_to_csv(in_f, ot_f)\n",
    "    "
   ]
  },
  {
   "cell_type": "code",
   "execution_count": null,
   "id": "e87d7540e3a1b0d8",
   "metadata": {},
   "outputs": [],
   "source": [
    "# |export\n",
    "client = chromadb.PersistentClient(path=\"../db\")\n",
    "collections = [client.get_or_create_collection(name=\"siasun_qa_service\"),\n",
    "               client.get_or_create_collection(name=\"siasun_qa_technology\")]\n",
    "# collections = [client.get_or_create_collection(name=\"siasun_qa_service\",embedding_function=deepseek_ef),\n",
    "#                 client.get_or_create_collection(name=\"siasun_qa_technology\",embedding_function=deepseek_ef)]\n",
    "# collections = [client.get_or_create_collection(name=\"siasun_qa_service\", embedding_function=google_ef),\n",
    "#                client.get_or_create_collection(name=\"siasun_qa_technology\", embedding_function=google_ef)]"
   ]
  },
  {
   "cell_type": "code",
   "execution_count": null,
   "id": "cd8cffa926183329",
   "metadata": {},
   "outputs": [],
   "source": [
    "# |export\n",
    "for csv_file,collection in zip(output_files,collections):\n",
    "    with open(csv_file, newline='') as f:\n",
    "        reader = csv.reader(f)\n",
    "        for i, row in enumerate(reader):\n",
    "            collection.add(\n",
    "                documents = row,\n",
    "                metadatas = [{\"source\": \"question\"}, {\"source\": \"answer\"}],\n",
    "                ids = [f\"{collection.name}_q{i}\", f\"{collection.name}_a{i}\"]\n",
    "            )"
   ]
  },
  {
   "cell_type": "code",
   "execution_count": null,
   "id": "f314ee21cd5cd18a",
   "metadata": {},
   "outputs": [],
   "source": [
    "#|export\n",
    "queries=[\"你们的产品需要多久维护一次?\",\"我怎么设置机器人的安全工作区域?\"]\n",
    "queries[0]"
   ]
  },
  {
   "cell_type": "code",
   "execution_count": null,
   "id": "d885aba898533f4b",
   "metadata": {},
   "outputs": [],
   "source": [
    "results = collections[0].query(\n",
    "    query_texts=queries,\n",
    "    n_results=4\n",
    ")"
   ]
  },
  {
   "cell_type": "code",
   "execution_count": null,
   "id": "da70193ed6f00208",
   "metadata": {},
   "outputs": [],
   "source": "results"
  },
  {
   "cell_type": "code",
   "execution_count": null,
   "id": "c6a9c1661db02f02",
   "metadata": {},
   "outputs": [],
   "source": [
    "# results['metadatas'][0] #[0]['source']\n",
    "results['documents'][0][0]"
   ]
  },
  {
   "cell_type": "code",
   "execution_count": null,
   "id": "94d6a395a5b7a803",
   "metadata": {},
   "outputs": [],
   "source": [
    "colls = client.list_collections()\n",
    "colls"
   ]
  },
  {
   "cell_type": "code",
   "execution_count": null,
   "id": "1332f82fbe473593",
   "metadata": {},
   "outputs": [],
   "source": "queries1 = ['你们的产品需要多久维护一次?','宏作业有什么用?']"
  },
  {
   "cell_type": "code",
   "execution_count": null,
   "id": "2ea352cd4183e359",
   "metadata": {},
   "outputs": [],
   "source": [
    "def qa(questions:list[str], collections:list[chromadb.Collection]=collections):\n",
    "    # Check the encoding of input question to select appropriate embedding model\n",
    "\n",
    "    matched_questions = []\n",
    "    for collection in collections:\n",
    "        results = collection.query(\n",
    "            query_texts=questions,\n",
    "            n_results=4\n",
    "        )\n",
    "        docs = []\n",
    "        for i,metadata in enumerate(results['metadatas'][0]):\n",
    "            if metadata['source'] == 'question':\n",
    "                docs.append({'id': results['ids'][0][i],\n",
    "                                'document': results['documents'][0][i], \n",
    "                                'distance':results['distances'][0][i]})\n",
    "        df = pd.DataFrame(docs)\n",
    "        matched_questions.append(df)\n",
    "\n",
    "    df_matched_questions = pd.concat(matched_questions,axis=0,ignore_index=True)\n",
    "    best_match_q_id = df_matched_questions.loc[df_matched_questions['distance'].idxmin()]['id']\n",
    "    id_a_list = best_match_q_id.split('_')\n",
    "    id_a_list[-1] = id_a_list[-1].replace('q','a')\n",
    "    id_a = '_'.join(id_a_list)\n",
    "    coll_idx = 0 if id_a_list[-2] == 'service' else 1\n",
    "    best_answer = collections[coll_idx].get(id_a)['documents']\n",
    "    res_text = best_answer[0]\n",
    "    return res_text\n",
    "    # question =\n",
    "    # return answers"
   ]
  },
  {
   "cell_type": "code",
   "execution_count": null,
   "id": "f749d9cc9a401a32",
   "metadata": {},
   "outputs": [],
   "source": [
    "\n",
    "question = \"你们的产品需要多久维护一次?\"\n",
    "res = qa(question)\n",
    "res\n"
   ]
  },
  {
   "cell_type": "code",
   "execution_count": null,
   "id": "29b2f84aa0784af1",
   "metadata": {},
   "outputs": [],
   "source": "print(res)"
  },
  {
   "cell_type": "code",
   "execution_count": null,
   "id": "ad2f204e6ab55bfc",
   "metadata": {},
   "outputs": [],
   "source": [
    "# |export\n",
    "iface = gr.Interface(fn=qa, inputs=gr.Text(value=\"多久维护一次产品?\"), outputs=\"text\")\n",
    "iface.launch(width=500,share=True)"
   ]
  },
  {
   "cell_type": "code",
   "execution_count": null,
   "id": "888b1b0530808ebe",
   "metadata": {},
   "outputs": [],
   "source": [
    "# this is only necessary in a notebook\n",
    "iface.close()"
   ]
  },
  {
   "cell_type": "markdown",
   "id": "7dc11529d1b85a84",
   "metadata": {},
   "source": "## Create a `requirements.txt` file"
  },
  {
   "cell_type": "code",
   "execution_count": null,
   "id": "c39a06f76c3da0f5",
   "metadata": {},
   "outputs": [],
   "source": [
    "%%writefile ../requirements.txt\n",
    "fastcore"
   ]
  },
  {
   "cell_type": "code",
   "execution_count": null,
   "id": "9df14eac7a58493f",
   "metadata": {},
   "outputs": [],
   "source": [
    "# | hide\n",
    "import nbdev\n",
    "\n",
    "nbdev.nbdev_export()"
   ]
  },
  {
   "cell_type": "code",
   "execution_count": null,
   "id": "648dc291964559de",
   "metadata": {},
   "outputs": [],
   "source": "# |default_exp data_preprocessing"
  },
  {
   "cell_type": "markdown",
   "id": "4755b2e93c82953c",
   "metadata": {},
   "source": "## Convert this notebook into a Gradio app"
  },
  {
   "cell_type": "code",
   "execution_count": null,
   "id": "9549f5fd490578dd",
   "metadata": {},
   "outputs": [],
   "source": [
    "# from nbdev.export import nb_export\n",
    "# nb_export('01_gradio.ipynb', lib_path='.', name='gradio')"
   ]
  },
  {
   "cell_type": "code",
   "execution_count": null,
   "id": "6118d49775df611a",
   "metadata": {},
   "outputs": [],
   "source": [
    "# | hide\n",
    "import nbdev\n",
    "\n",
    "nbdev.nbdev_export()"
   ]
  }
 ],
 "metadata": {
  "kernelspec": {
   "display_name": "python3",
   "language": "python",
   "name": "python3"
  }
 },
 "nbformat": 5,
 "nbformat_minor": 9
}
