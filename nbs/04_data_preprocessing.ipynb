{
 "cells": [
  {
   "metadata": {},
   "cell_type": "raw",
   "source": [
    "---\n",
    "output-file: chroma_db.html\n",
    "title: ChromaDB tutorial\n",
    "---"
   ],
   "id": "4bd68effe0fec893"
  },
  {
   "metadata": {
    "ExecuteTime": {
     "end_time": "2025-03-26T07:16:50.281303Z",
     "start_time": "2025-03-26T07:16:50.277421Z"
    }
   },
   "cell_type": "code",
   "source": "# |default_exp chroma_db",
   "id": "86a7d3fa89528e4f",
   "outputs": [],
   "execution_count": 1
  },
  {
   "metadata": {},
   "cell_type": "markdown",
   "source": "## Install dependencies",
   "id": "40bae3045488c83c"
  },
  {
   "metadata": {},
   "cell_type": "markdown",
   "source": "## Make an app with Gradio",
   "id": "8689e7841c3c3942"
  },
  {
   "metadata": {
    "ExecuteTime": {
     "end_time": "2025-03-26T07:16:52.278370Z",
     "start_time": "2025-03-26T07:16:50.338318Z"
    }
   },
   "cell_type": "code",
   "source": [
    "# |export\n",
    "import csv\n",
    "import re\n",
    "import chromadb\n",
    "from chromadb import Settings\n",
    "import pandas as pd\n",
    "from dotenv import load_dotenv\n",
    "import os\n",
    "\n",
    "import gradio as gr\n",
    "# from fastcore.net import urljson, HTTPError\n",
    "# from openai import api_key\n",
    "# from openai import OpenAI"
   ],
   "id": "c3ed1a604344bdea",
   "outputs": [],
   "execution_count": 2
  },
  {
   "metadata": {
    "ExecuteTime": {
     "end_time": "2025-03-26T07:16:52.346498Z",
     "start_time": "2025-03-26T07:16:52.344001Z"
    }
   },
   "cell_type": "code",
   "source": [
    "# |export\n",
    "# import chromadb.utils.embedding_functions as embedding_functions\n",
    "# from chromadb.utils.embedding_functions import OpenAIEmbeddingFunction"
   ],
   "id": "c0dbf8f53e3c0074",
   "outputs": [],
   "execution_count": 3
  },
  {
   "metadata": {
    "ExecuteTime": {
     "end_time": "2025-03-26T07:16:52.402469Z",
     "start_time": "2025-03-26T07:16:52.398439Z"
    }
   },
   "cell_type": "code",
   "source": [
    "# load_dotenv()\n",
    "# gemini_key = os.getenv('GEMINI_API_KEY')\n",
    "# deepseek_key = os.getenv('DEEPSEEK_R1_API_KEY')"
   ],
   "id": "7f542994eda15019",
   "outputs": [],
   "execution_count": 4
  },
  {
   "metadata": {
    "ExecuteTime": {
     "end_time": "2025-03-26T07:16:54.076297Z",
     "start_time": "2025-03-26T07:16:54.072399Z"
    }
   },
   "cell_type": "code",
   "source": "print(os.environ.get('HTTPS_PROXY'))\n",
   "id": "e830e6ba61d6d953",
   "outputs": [
    {
     "name": "stdout",
     "output_type": "stream",
     "text": [
      "None\n"
     ]
    }
   ],
   "execution_count": 5
  },
  {
   "metadata": {
    "ExecuteTime": {
     "end_time": "2025-03-26T07:05:16.035481Z",
     "start_time": "2025-03-26T07:05:16.016563Z"
    }
   },
   "cell_type": "code",
   "source": [
    "# client = OpenAI(\n",
    "#   base_url=\"https://openrouter.ai/api/v1\",\n",
    "#   api_key=deepseek_key,\n",
    "# )"
   ],
   "id": "bc0ede5ddd52e2d0",
   "outputs": [],
   "execution_count": 6
  },
  {
   "metadata": {
    "ExecuteTime": {
     "end_time": "2025-03-26T07:05:16.085190Z",
     "start_time": "2025-03-26T07:05:16.064138Z"
    }
   },
   "cell_type": "code",
   "source": [
    "# deepseek_ef = OpenAIEmbeddingFunction(\n",
    "#     api_key=deepseek_key,\n",
    "#     api_base=\"https://openrouter.ai/api/v1\",\n",
    "#     model_name=\"deepseek_r1：free\",\n",
    "# )"
   ],
   "id": "bbaf46cb6fab052c",
   "outputs": [],
   "execution_count": 7
  },
  {
   "metadata": {
    "ExecuteTime": {
     "end_time": "2025-03-26T07:05:21.373790Z",
     "start_time": "2025-03-26T07:05:16.115620Z"
    }
   },
   "cell_type": "code",
   "source": [
    "\n",
    "# completion = client.chat.completions.create(\n",
    "#   extra_headers={\n",
    "#     \"HTTP-Referer\": \"binjian.github.io\", # Optional. Site URL for rankings on openrouter.ai.\n",
    "#     \"X-Title\": \"binjian's digital garden\", # Optional. Site title for rankings on openrouter.ai.\n",
    "#   },\n",
    "#   extra_body={},\n",
    "#   model=\"deepseek/deepseek-r1:free\",\n",
    "#   messages=[\n",
    "#     {\n",
    "#       \"role\": \"user\",\n",
    "#       \"content\": \"What's Anthropic's/meb Model context protocol?\"\n",
    "#     }\n",
    "#   ]\n",
    "# )\n",
    "# print(completion.choices[0].message.content)"
   ],
   "id": "5aab85556fd1c15f",
   "outputs": [
    {
     "name": "stdout",
     "output_type": "stream",
     "text": [
      "Anthropic develops AI systems like Claude, focused on being helpful, honest, and harmless. While specific internal protocols for model context aren't fully public, key principles align with industry standards for ethical AI:\n",
      "\n",
      "1. **Data Handling**: Training on publicly available data, avoiding private or sensitive information unless properly licensed.\n",
      "2. **Privacy**: Safeguarding user inputs, not storing personal data without consent.\n",
      "3. **Safety**: Implementing filters and controls to prevent harmful outputs.\n",
      "4. **Transparency**: Clearly stating capabilities, limitations, and that responses are AI-generated.\n",
      "\n",
      "For details, refer to Anthropic’s official documentation or privacy policy.\n"
     ]
    }
   ],
   "execution_count": 8
  },
  {
   "metadata": {
    "ExecuteTime": {
     "end_time": "2025-03-26T07:05:21.396111Z",
     "start_time": "2025-03-26T07:05:21.391973Z"
    }
   },
   "cell_type": "code",
   "source": "# google_ef = embedding_functions.GoogleGenerativeAiEmbeddingFunction(api_key=gemini_key)",
   "id": "81899cd24437f8e",
   "outputs": [],
   "execution_count": 9
  },
  {
   "metadata": {
    "ExecuteTime": {
     "end_time": "2025-03-26T07:05:21.462781Z",
     "start_time": "2025-03-26T07:05:21.457301Z"
    }
   },
   "cell_type": "code",
   "source": [
    "def convert_qa_to_csv(input_file, output_file):\n",
    "    \"\"\"\n",
    "    Convert a text file with Q/A format to a CSV file.\n",
    "\n",
    "    Args:\n",
    "        input_file: Path to the input text file\n",
    "        output_file: Path to the output CSV file\n",
    "    \"\"\"\n",
    "    # Read the content of the file\n",
    "    with open(input_file, 'r', encoding='utf-8') as f:\n",
    "        content = f.read()\n",
    "\n",
    "    # Split the content by 'Q' marker\n",
    "    qa_blocks = content.split('Q\\n')\n",
    "\n",
    "    qa_blks = [block.strip() for block in qa_blocks][1:]\n",
    "    # Remove empty blocks (like the first one if file starts with 'Q')\n",
    "    # qa_blocks = [[line for line in block.split('\\n') ] for block in qa_blks if block.strip()]\n",
    "    # Remove empty blocks (like the first one if file starts with 'Q')\n",
    "    # qa_blocks = [blk for block in qa_blocks if block.strip() for blk in block.strip()]\n",
    "\n",
    "    # Process each Q&A block\n",
    "    qa_pairs = []\n",
    "    for block in qa_blks:\n",
    "        # Split the block into lines\n",
    "        lines = block.strip().split('\\n')\n",
    "\n",
    "        if lines:\n",
    "            # First line is the question\n",
    "            question = lines[0]\n",
    "            # The rest are the answer\n",
    "            answer = '\\n'.join(lines[1:])\n",
    "\n",
    "            # Add the pair to our list\n",
    "            qa_pairs.append([question, answer])\n",
    "\n",
    "    # Write to CSV\n",
    "    with open(output_file, 'w', encoding='utf-8', newline='') as f:\n",
    "        writer = csv.writer(f)\n",
    "        # Write header\n",
    "        writer.writerow(['Question', 'Answer'])\n",
    "        # Write Q&A pairs\n",
    "        for pair in qa_pairs:\n",
    "            writer.writerow(pair)\n",
    "    print(f\"Conversion complete. CSV file saved to {output_file}\")"
   ],
   "id": "a0a4709412146528",
   "outputs": [],
   "execution_count": 10
  },
  {
   "metadata": {
    "ExecuteTime": {
     "end_time": "2025-03-26T07:05:21.530224Z",
     "start_time": "2025-03-26T07:05:21.522293Z"
    }
   },
   "cell_type": "code",
   "source": [
    "\n",
    "input_files = [\"../res/qa_service.txt\", \"../res/qa_technology.txt\"]\n",
    "output_files = [\"../res/qa_service.csv\", \"../res/qa_technology.csv\"]\n",
    "for in_f, ot_f in zip(input_files, output_files):\n",
    "    convert_qa_to_csv(in_f, ot_f)\n",
    "    "
   ],
   "id": "b867632cd7164a19",
   "outputs": [
    {
     "name": "stdout",
     "output_type": "stream",
     "text": [
      "Conversion complete. CSV file saved to ../res/qa_service.csv\n",
      "Conversion complete. CSV file saved to ../res/qa_technology.csv\n"
     ]
    }
   ],
   "execution_count": 11
  },
  {
   "metadata": {
    "ExecuteTime": {
     "end_time": "2025-03-26T07:17:42.013049Z",
     "start_time": "2025-03-26T07:17:41.747982Z"
    }
   },
   "cell_type": "code",
   "source": [
    "# |export\n",
    "client = chromadb.PersistentClient(path=\"../db\")\n",
    "collections = [client.get_or_create_collection(name=\"siasun_qa_service\"),\n",
    "               client.get_or_create_collection(name=\"siasun_qa_technology\")]\n",
    "# collections = [client.get_or_create_collection(name=\"siasun_qa_service\",embedding_function=deepseek_ef),\n",
    "#                 client.get_or_create_collection(name=\"siasun_qa_technology\",embedding_function=deepseek_ef)]\n",
    "# collections = [client.get_or_create_collection(name=\"siasun_qa_service\", embedding_function=google_ef),\n",
    "#                client.get_or_create_collection(name=\"siasun_qa_technology\", embedding_function=google_ef)]"
   ],
   "id": "e87d7540e3a1b0d8",
   "outputs": [],
   "execution_count": 8
  },
  {
   "metadata": {
    "ExecuteTime": {
     "end_time": "2025-03-26T07:05:25.007691Z",
     "start_time": "2025-03-26T07:05:21.728296Z"
    }
   },
   "cell_type": "code",
   "source": [
    "# |export\n",
    "for csv_file,collection in zip(output_files,collections):\n",
    "    with open(csv_file, newline='') as f:\n",
    "        reader = csv.reader(f)\n",
    "        for i, row in enumerate(reader):\n",
    "            collection.add(\n",
    "                documents = row,\n",
    "                metadatas = [{\"source\": \"question\"}, {\"source\": \"answer\"}],\n",
    "                ids = [f\"{collection.name}_q{i}\", f\"{collection.name}_a{i}\"]\n",
    "            )"
   ],
   "id": "cd8cffa926183329",
   "outputs": [
    {
     "name": "stderr",
     "output_type": "stream",
     "text": [
      "Add of existing embedding ID: siasun_qa_service_q0\n",
      "Add of existing embedding ID: siasun_qa_service_a0\n",
      "Insert of existing embedding ID: siasun_qa_service_q0\n",
      "Insert of existing embedding ID: siasun_qa_service_a0\n",
      "Add of existing embedding ID: siasun_qa_service_q1\n",
      "Add of existing embedding ID: siasun_qa_service_a1\n",
      "Insert of existing embedding ID: siasun_qa_service_q1\n",
      "Insert of existing embedding ID: siasun_qa_service_a1\n",
      "Add of existing embedding ID: siasun_qa_service_q2\n",
      "Add of existing embedding ID: siasun_qa_service_a2\n",
      "Insert of existing embedding ID: siasun_qa_service_q2\n",
      "Insert of existing embedding ID: siasun_qa_service_a2\n",
      "Add of existing embedding ID: siasun_qa_service_q3\n",
      "Add of existing embedding ID: siasun_qa_service_a3\n",
      "Insert of existing embedding ID: siasun_qa_service_q3\n",
      "Insert of existing embedding ID: siasun_qa_service_a3\n",
      "Add of existing embedding ID: siasun_qa_service_q4\n",
      "Add of existing embedding ID: siasun_qa_service_a4\n",
      "Insert of existing embedding ID: siasun_qa_service_q4\n",
      "Insert of existing embedding ID: siasun_qa_service_a4\n",
      "Add of existing embedding ID: siasun_qa_service_q5\n",
      "Add of existing embedding ID: siasun_qa_service_a5\n",
      "Insert of existing embedding ID: siasun_qa_service_q5\n",
      "Insert of existing embedding ID: siasun_qa_service_a5\n",
      "Add of existing embedding ID: siasun_qa_service_q6\n",
      "Add of existing embedding ID: siasun_qa_service_a6\n",
      "Insert of existing embedding ID: siasun_qa_service_q6\n",
      "Insert of existing embedding ID: siasun_qa_service_a6\n",
      "Add of existing embedding ID: siasun_qa_service_q7\n",
      "Add of existing embedding ID: siasun_qa_service_a7\n",
      "Insert of existing embedding ID: siasun_qa_service_q7\n",
      "Insert of existing embedding ID: siasun_qa_service_a7\n",
      "Add of existing embedding ID: siasun_qa_service_q8\n",
      "Add of existing embedding ID: siasun_qa_service_a8\n",
      "Insert of existing embedding ID: siasun_qa_service_q8\n",
      "Insert of existing embedding ID: siasun_qa_service_a8\n",
      "Add of existing embedding ID: siasun_qa_service_q9\n",
      "Add of existing embedding ID: siasun_qa_service_a9\n",
      "Insert of existing embedding ID: siasun_qa_service_q9\n",
      "Insert of existing embedding ID: siasun_qa_service_a9\n",
      "Add of existing embedding ID: siasun_qa_service_q10\n",
      "Add of existing embedding ID: siasun_qa_service_a10\n",
      "Insert of existing embedding ID: siasun_qa_service_q10\n",
      "Insert of existing embedding ID: siasun_qa_service_a10\n",
      "Add of existing embedding ID: siasun_qa_service_q11\n",
      "Add of existing embedding ID: siasun_qa_service_a11\n",
      "Insert of existing embedding ID: siasun_qa_service_q11\n",
      "Insert of existing embedding ID: siasun_qa_service_a11\n",
      "Add of existing embedding ID: siasun_qa_service_q12\n",
      "Add of existing embedding ID: siasun_qa_service_a12\n",
      "Insert of existing embedding ID: siasun_qa_service_q12\n",
      "Insert of existing embedding ID: siasun_qa_service_a12\n",
      "Add of existing embedding ID: siasun_qa_service_q13\n",
      "Add of existing embedding ID: siasun_qa_service_a13\n",
      "Insert of existing embedding ID: siasun_qa_service_q13\n",
      "Insert of existing embedding ID: siasun_qa_service_a13\n",
      "Add of existing embedding ID: siasun_qa_service_q14\n",
      "Add of existing embedding ID: siasun_qa_service_a14\n",
      "Insert of existing embedding ID: siasun_qa_service_q14\n",
      "Insert of existing embedding ID: siasun_qa_service_a14\n",
      "Add of existing embedding ID: siasun_qa_service_q15\n",
      "Add of existing embedding ID: siasun_qa_service_a15\n",
      "Insert of existing embedding ID: siasun_qa_service_q15\n",
      "Insert of existing embedding ID: siasun_qa_service_a15\n",
      "Add of existing embedding ID: siasun_qa_service_q16\n",
      "Add of existing embedding ID: siasun_qa_service_a16\n",
      "Insert of existing embedding ID: siasun_qa_service_q16\n",
      "Insert of existing embedding ID: siasun_qa_service_a16\n",
      "Add of existing embedding ID: siasun_qa_service_q17\n",
      "Add of existing embedding ID: siasun_qa_service_a17\n",
      "Insert of existing embedding ID: siasun_qa_service_q17\n",
      "Insert of existing embedding ID: siasun_qa_service_a17\n",
      "Add of existing embedding ID: siasun_qa_service_q18\n",
      "Add of existing embedding ID: siasun_qa_service_a18\n",
      "Insert of existing embedding ID: siasun_qa_service_q18\n",
      "Insert of existing embedding ID: siasun_qa_service_a18\n",
      "Add of existing embedding ID: siasun_qa_service_q19\n",
      "Add of existing embedding ID: siasun_qa_service_a19\n",
      "Insert of existing embedding ID: siasun_qa_service_q19\n",
      "Insert of existing embedding ID: siasun_qa_service_a19\n",
      "Add of existing embedding ID: siasun_qa_service_q20\n",
      "Add of existing embedding ID: siasun_qa_service_a20\n",
      "Insert of existing embedding ID: siasun_qa_service_q20\n",
      "Insert of existing embedding ID: siasun_qa_service_a20\n",
      "Add of existing embedding ID: siasun_qa_service_q21\n",
      "Add of existing embedding ID: siasun_qa_service_a21\n",
      "Insert of existing embedding ID: siasun_qa_service_q21\n",
      "Insert of existing embedding ID: siasun_qa_service_a21\n",
      "Add of existing embedding ID: siasun_qa_service_q22\n",
      "Add of existing embedding ID: siasun_qa_service_a22\n",
      "Insert of existing embedding ID: siasun_qa_service_q22\n",
      "Insert of existing embedding ID: siasun_qa_service_a22\n",
      "Add of existing embedding ID: siasun_qa_service_q23\n",
      "Add of existing embedding ID: siasun_qa_service_a23\n",
      "Insert of existing embedding ID: siasun_qa_service_q23\n",
      "Insert of existing embedding ID: siasun_qa_service_a23\n",
      "Add of existing embedding ID: siasun_qa_technology_q0\n",
      "Add of existing embedding ID: siasun_qa_technology_a0\n",
      "Insert of existing embedding ID: siasun_qa_technology_q0\n",
      "Insert of existing embedding ID: siasun_qa_technology_a0\n",
      "Add of existing embedding ID: siasun_qa_technology_q1\n",
      "Add of existing embedding ID: siasun_qa_technology_a1\n",
      "Insert of existing embedding ID: siasun_qa_technology_q1\n",
      "Insert of existing embedding ID: siasun_qa_technology_a1\n",
      "Add of existing embedding ID: siasun_qa_technology_q2\n",
      "Add of existing embedding ID: siasun_qa_technology_a2\n",
      "Insert of existing embedding ID: siasun_qa_technology_q2\n",
      "Insert of existing embedding ID: siasun_qa_technology_a2\n",
      "Add of existing embedding ID: siasun_qa_technology_q3\n",
      "Add of existing embedding ID: siasun_qa_technology_a3\n",
      "Insert of existing embedding ID: siasun_qa_technology_q3\n",
      "Insert of existing embedding ID: siasun_qa_technology_a3\n",
      "Add of existing embedding ID: siasun_qa_technology_q4\n",
      "Add of existing embedding ID: siasun_qa_technology_a4\n",
      "Insert of existing embedding ID: siasun_qa_technology_q4\n",
      "Insert of existing embedding ID: siasun_qa_technology_a4\n",
      "Add of existing embedding ID: siasun_qa_technology_q5\n",
      "Add of existing embedding ID: siasun_qa_technology_a5\n",
      "Insert of existing embedding ID: siasun_qa_technology_q5\n",
      "Insert of existing embedding ID: siasun_qa_technology_a5\n",
      "Add of existing embedding ID: siasun_qa_technology_q6\n",
      "Add of existing embedding ID: siasun_qa_technology_a6\n",
      "Insert of existing embedding ID: siasun_qa_technology_q6\n",
      "Insert of existing embedding ID: siasun_qa_technology_a6\n",
      "Add of existing embedding ID: siasun_qa_technology_q7\n",
      "Add of existing embedding ID: siasun_qa_technology_a7\n",
      "Insert of existing embedding ID: siasun_qa_technology_q7\n",
      "Insert of existing embedding ID: siasun_qa_technology_a7\n",
      "Add of existing embedding ID: siasun_qa_technology_q8\n",
      "Add of existing embedding ID: siasun_qa_technology_a8\n",
      "Insert of existing embedding ID: siasun_qa_technology_q8\n",
      "Insert of existing embedding ID: siasun_qa_technology_a8\n",
      "Add of existing embedding ID: siasun_qa_technology_q9\n",
      "Add of existing embedding ID: siasun_qa_technology_a9\n",
      "Insert of existing embedding ID: siasun_qa_technology_q9\n",
      "Insert of existing embedding ID: siasun_qa_technology_a9\n",
      "Add of existing embedding ID: siasun_qa_technology_q10\n",
      "Add of existing embedding ID: siasun_qa_technology_a10\n",
      "Insert of existing embedding ID: siasun_qa_technology_q10\n",
      "Insert of existing embedding ID: siasun_qa_technology_a10\n",
      "Add of existing embedding ID: siasun_qa_technology_q11\n",
      "Add of existing embedding ID: siasun_qa_technology_a11\n",
      "Insert of existing embedding ID: siasun_qa_technology_q11\n",
      "Insert of existing embedding ID: siasun_qa_technology_a11\n",
      "Add of existing embedding ID: siasun_qa_technology_q12\n",
      "Add of existing embedding ID: siasun_qa_technology_a12\n",
      "Insert of existing embedding ID: siasun_qa_technology_q12\n",
      "Insert of existing embedding ID: siasun_qa_technology_a12\n",
      "Add of existing embedding ID: siasun_qa_technology_q13\n",
      "Add of existing embedding ID: siasun_qa_technology_a13\n",
      "Insert of existing embedding ID: siasun_qa_technology_q13\n",
      "Insert of existing embedding ID: siasun_qa_technology_a13\n"
     ]
    }
   ],
   "execution_count": 13
  },
  {
   "metadata": {
    "ExecuteTime": {
     "end_time": "2025-03-26T07:17:35.221767Z",
     "start_time": "2025-03-26T07:17:35.216076Z"
    }
   },
   "cell_type": "code",
   "source": [
    "#|export\n",
    "queries=[\"你们的产品需要多久维护一次?\",\"我怎么设置机器人的安全工作区域?\"]\n",
    "queries[0]"
   ],
   "id": "f314ee21cd5cd18a",
   "outputs": [
    {
     "data": {
      "text/plain": [
       "'你们的产品需要多久维护一次?'"
      ]
     },
     "execution_count": 6,
     "metadata": {},
     "output_type": "execute_result"
    }
   ],
   "execution_count": 6
  },
  {
   "metadata": {
    "ExecuteTime": {
     "end_time": "2025-03-26T07:17:46.776672Z",
     "start_time": "2025-03-26T07:17:46.492903Z"
    }
   },
   "cell_type": "code",
   "source": [
    "results = collections[0].query(\n",
    "    query_texts=queries,\n",
    "    n_results=4\n",
    ")"
   ],
   "id": "d885aba898533f4b",
   "outputs": [
    {
     "name": "stderr",
     "output_type": "stream",
     "text": [
      "Add of existing embedding ID: siasun_qa_service_q0\n",
      "Add of existing embedding ID: siasun_qa_service_a0\n",
      "Add of existing embedding ID: siasun_qa_service_q1\n",
      "Add of existing embedding ID: siasun_qa_service_a1\n",
      "Add of existing embedding ID: siasun_qa_service_q2\n",
      "Add of existing embedding ID: siasun_qa_service_a2\n",
      "Add of existing embedding ID: siasun_qa_service_q3\n",
      "Add of existing embedding ID: siasun_qa_service_a3\n",
      "Add of existing embedding ID: siasun_qa_service_q4\n",
      "Add of existing embedding ID: siasun_qa_service_a4\n",
      "Add of existing embedding ID: siasun_qa_service_q5\n",
      "Add of existing embedding ID: siasun_qa_service_a5\n",
      "Add of existing embedding ID: siasun_qa_service_q6\n",
      "Add of existing embedding ID: siasun_qa_service_a6\n",
      "Add of existing embedding ID: siasun_qa_service_q7\n",
      "Add of existing embedding ID: siasun_qa_service_a7\n",
      "Add of existing embedding ID: siasun_qa_service_q8\n",
      "Add of existing embedding ID: siasun_qa_service_a8\n",
      "Add of existing embedding ID: siasun_qa_service_q9\n",
      "Add of existing embedding ID: siasun_qa_service_a9\n",
      "Add of existing embedding ID: siasun_qa_service_q10\n",
      "Add of existing embedding ID: siasun_qa_service_a10\n",
      "Add of existing embedding ID: siasun_qa_service_q11\n",
      "Add of existing embedding ID: siasun_qa_service_a11\n",
      "Add of existing embedding ID: siasun_qa_service_q12\n",
      "Add of existing embedding ID: siasun_qa_service_a12\n",
      "Add of existing embedding ID: siasun_qa_service_q13\n",
      "Add of existing embedding ID: siasun_qa_service_a13\n",
      "Add of existing embedding ID: siasun_qa_service_q14\n",
      "Add of existing embedding ID: siasun_qa_service_a14\n",
      "Add of existing embedding ID: siasun_qa_service_q15\n",
      "Add of existing embedding ID: siasun_qa_service_a15\n",
      "Add of existing embedding ID: siasun_qa_service_q16\n",
      "Add of existing embedding ID: siasun_qa_service_a16\n",
      "Add of existing embedding ID: siasun_qa_service_q17\n",
      "Add of existing embedding ID: siasun_qa_service_a17\n",
      "Add of existing embedding ID: siasun_qa_service_q18\n",
      "Add of existing embedding ID: siasun_qa_service_a18\n",
      "Add of existing embedding ID: siasun_qa_service_q19\n",
      "Add of existing embedding ID: siasun_qa_service_a19\n",
      "Add of existing embedding ID: siasun_qa_service_q20\n",
      "Add of existing embedding ID: siasun_qa_service_a20\n",
      "Add of existing embedding ID: siasun_qa_service_q21\n",
      "Add of existing embedding ID: siasun_qa_service_a21\n",
      "Add of existing embedding ID: siasun_qa_service_q22\n",
      "Add of existing embedding ID: siasun_qa_service_a22\n",
      "Add of existing embedding ID: siasun_qa_service_q23\n",
      "Add of existing embedding ID: siasun_qa_service_a23\n"
     ]
    }
   ],
   "execution_count": 9
  },
  {
   "metadata": {
    "ExecuteTime": {
     "end_time": "2025-03-26T07:17:55.483001Z",
     "start_time": "2025-03-26T07:17:55.477042Z"
    }
   },
   "cell_type": "code",
   "source": "results",
   "id": "da70193ed6f00208",
   "outputs": [
    {
     "data": {
      "text/plain": [
       "{'ids': [['siasun_qa_service_q2',\n",
       "   'siasun_qa_service_a9',\n",
       "   'siasun_qa_service_q21',\n",
       "   'siasun_qa_service_a10'],\n",
       "  ['siasun_qa_service_q1',\n",
       "   'siasun_qa_service_a19',\n",
       "   'siasun_qa_service_q22',\n",
       "   'siasun_qa_service_a18']],\n",
       " 'embeddings': None,\n",
       " 'documents': [['你们的产品，多久需要维护一次？维护保养内容有哪些？',\n",
       "   '作业作为一个重要的单元，所以不能进行批量删除与添加，防止误操作造成损失。',\n",
       "   '宏作业是干什么用的？',\n",
       "   '新松有标准的视觉通讯协议，视觉厂家可以按照此协议进行开发适配。当前适配过的品牌有，沈阳自动化所，欧姆龙、海康、梅卡曼德、视比特、基恩士。'],\n",
       "  ['我们的人员调试不熟练，进度慢，你们厂家能负责调试吗？',\n",
       "   '机器人打精度用到的开关。',\n",
       "   '机器人可以存储多少个作业？',\n",
       "   '零位设定，是机器人在零位时的码盘值，码盘输入、码盘输出是以零位时为零开始计数的码盘值。']],\n",
       " 'uris': None,\n",
       " 'data': None,\n",
       " 'metadatas': [[{'source': 'question'},\n",
       "   {'source': 'answer'},\n",
       "   {'source': 'question'},\n",
       "   {'source': 'answer'}],\n",
       "  [{'source': 'question'},\n",
       "   {'source': 'answer'},\n",
       "   {'source': 'question'},\n",
       "   {'source': 'answer'}]],\n",
       " 'distances': [[0.35835238473584624,\n",
       "   0.8026765812953612,\n",
       "   0.8398664268040978,\n",
       "   0.8905950951966901],\n",
       "  [0.5583867931983068,\n",
       "   0.5964258746641342,\n",
       "   0.6352793698255077,\n",
       "   0.7328770040724006]],\n",
       " 'included': [<IncludeEnum.distances: 'distances'>,\n",
       "  <IncludeEnum.documents: 'documents'>,\n",
       "  <IncludeEnum.metadatas: 'metadatas'>]}"
      ]
     },
     "execution_count": 10,
     "metadata": {},
     "output_type": "execute_result"
    }
   ],
   "execution_count": 10
  },
  {
   "metadata": {
    "ExecuteTime": {
     "end_time": "2025-03-26T07:05:25.262196Z",
     "start_time": "2025-03-26T07:05:25.257830Z"
    }
   },
   "cell_type": "code",
   "source": [
    "# results['metadatas'][0] #[0]['source']\n",
    "results['documents'][0][0]"
   ],
   "id": "c6a9c1661db02f02",
   "outputs": [
    {
     "data": {
      "text/plain": [
       "'你们的产品，多久需要维护一次？维护保养内容有哪些？'"
      ]
     },
     "execution_count": 17,
     "metadata": {},
     "output_type": "execute_result"
    }
   ],
   "execution_count": 17
  },
  {
   "metadata": {
    "ExecuteTime": {
     "end_time": "2025-03-26T07:18:07.310706Z",
     "start_time": "2025-03-26T07:18:07.303988Z"
    }
   },
   "cell_type": "code",
   "source": [
    "colls = client.list_collections()\n",
    "colls"
   ],
   "id": "94d6a395a5b7a803",
   "outputs": [
    {
     "data": {
      "text/plain": [
       "['siasun_qa_technology', 'deepseek_r1_retrieval', 'siasun_qa_service']"
      ]
     },
     "execution_count": 12,
     "metadata": {},
     "output_type": "execute_result"
    }
   ],
   "execution_count": 12
  },
  {
   "metadata": {
    "ExecuteTime": {
     "end_time": "2025-03-26T07:18:23.124874Z",
     "start_time": "2025-03-26T07:18:23.121180Z"
    }
   },
   "cell_type": "code",
   "source": "queries1 = ['你们的产品需要多久维护一次?','宏作业有什么用?']",
   "id": "1332f82fbe473593",
   "outputs": [],
   "execution_count": 13
  },
  {
   "metadata": {
    "ExecuteTime": {
     "end_time": "2025-03-26T07:18:25.274836Z",
     "start_time": "2025-03-26T07:18:25.269063Z"
    }
   },
   "cell_type": "code",
   "source": [
    "def qa(questions:list[str], collections:list[chromadb.Collection]=collections):\n",
    "    # Check the encoding of input question to select appropriate embedding model\n",
    "\n",
    "    matched_questions = []\n",
    "    for collection in collections:\n",
    "        results = collection.query(\n",
    "            query_texts=questions,\n",
    "            n_results=4\n",
    "        )\n",
    "        docs = []\n",
    "        for i,metadata in enumerate(results['metadatas'][0]):\n",
    "            if metadata['source'] == 'question':\n",
    "                docs.append({'id': results['ids'][0][i],\n",
    "                                'document': results['documents'][0][i], \n",
    "                                'distance':results['distances'][0][i]})\n",
    "        df = pd.DataFrame(docs)\n",
    "        matched_questions.append(df)\n",
    "\n",
    "    df_matched_questions = pd.concat(matched_questions,axis=0,ignore_index=True)\n",
    "    best_match_q_id = df_matched_questions.loc[df_matched_questions['distance'].idxmin()]['id']\n",
    "    id_a_list = best_match_q_id.split('_')\n",
    "    id_a_list[-1] = id_a_list[-1].replace('q','a')\n",
    "    id_a = '_'.join(id_a_list)\n",
    "    coll_idx = 0 if id_a_list[-2] == 'service' else 1\n",
    "    best_answer = collections[coll_idx].get(id_a)['documents']\n",
    "    res_text = best_answer[0]\n",
    "    return res_text\n",
    "    # question =\n",
    "    # return answers"
   ],
   "id": "2ea352cd4183e359",
   "outputs": [],
   "execution_count": 14
  },
  {
   "metadata": {
    "ExecuteTime": {
     "end_time": "2025-03-26T07:18:47.821622Z",
     "start_time": "2025-03-26T07:18:47.693614Z"
    }
   },
   "cell_type": "code",
   "source": [
    "\n",
    "question = \"你们的产品需要多久维护一次?\"\n",
    "res = qa(question)\n",
    "res\n"
   ],
   "id": "f749d9cc9a401a32",
   "outputs": [
    {
     "name": "stderr",
     "output_type": "stream",
     "text": [
      "Add of existing embedding ID: siasun_qa_technology_q0\n",
      "Add of existing embedding ID: siasun_qa_technology_a0\n",
      "Add of existing embedding ID: siasun_qa_technology_q1\n",
      "Add of existing embedding ID: siasun_qa_technology_a1\n",
      "Add of existing embedding ID: siasun_qa_technology_q2\n",
      "Add of existing embedding ID: siasun_qa_technology_a2\n",
      "Add of existing embedding ID: siasun_qa_technology_q3\n",
      "Add of existing embedding ID: siasun_qa_technology_a3\n",
      "Add of existing embedding ID: siasun_qa_technology_q4\n",
      "Add of existing embedding ID: siasun_qa_technology_a4\n",
      "Add of existing embedding ID: siasun_qa_technology_q5\n",
      "Add of existing embedding ID: siasun_qa_technology_a5\n",
      "Add of existing embedding ID: siasun_qa_technology_q6\n",
      "Add of existing embedding ID: siasun_qa_technology_a6\n",
      "Add of existing embedding ID: siasun_qa_technology_q7\n",
      "Add of existing embedding ID: siasun_qa_technology_a7\n",
      "Add of existing embedding ID: siasun_qa_technology_q8\n",
      "Add of existing embedding ID: siasun_qa_technology_a8\n",
      "Add of existing embedding ID: siasun_qa_technology_q9\n",
      "Add of existing embedding ID: siasun_qa_technology_a9\n",
      "Add of existing embedding ID: siasun_qa_technology_q10\n",
      "Add of existing embedding ID: siasun_qa_technology_a10\n",
      "Add of existing embedding ID: siasun_qa_technology_q11\n",
      "Add of existing embedding ID: siasun_qa_technology_a11\n",
      "Add of existing embedding ID: siasun_qa_technology_q12\n",
      "Add of existing embedding ID: siasun_qa_technology_a12\n",
      "Add of existing embedding ID: siasun_qa_technology_q13\n",
      "Add of existing embedding ID: siasun_qa_technology_a13\n"
     ]
    },
    {
     "data": {
      "text/plain": [
       "'根据机器人的型号和实际使用情况，制定机器人的保养计划,一般分为日常、3 个月、6 个月、1 年期的维护保养。\\n需要对机器人进行日常点检和定期维护保养，点检工作主要检查设备是否存在漏油、异响、异常震动、异常报警；定期维护保养主要对油脂、线束护套、风扇、电机接头等易损位置进行检查，并定期更换润滑油。具体检验项目及维护周期详见安装维护手册。'"
      ]
     },
     "execution_count": 15,
     "metadata": {},
     "output_type": "execute_result"
    }
   ],
   "execution_count": 15
  },
  {
   "metadata": {
    "ExecuteTime": {
     "end_time": "2025-03-26T07:19:10.624292Z",
     "start_time": "2025-03-26T07:19:10.620108Z"
    }
   },
   "cell_type": "code",
   "source": "print(res)",
   "id": "29b2f84aa0784af1",
   "outputs": [
    {
     "name": "stdout",
     "output_type": "stream",
     "text": [
      "根据机器人的型号和实际使用情况，制定机器人的保养计划,一般分为日常、3 个月、6 个月、1 年期的维护保养。\n",
      "需要对机器人进行日常点检和定期维护保养，点检工作主要检查设备是否存在漏油、异响、异常震动、异常报警；定期维护保养主要对油脂、线束护套、风扇、电机接头等易损位置进行检查，并定期更换润滑油。具体检验项目及维护周期详见安装维护手册。\n"
     ]
    }
   ],
   "execution_count": 16
  },
  {
   "metadata": {
    "ExecuteTime": {
     "end_time": "2025-03-26T07:19:44.667969Z",
     "start_time": "2025-03-26T07:19:39.661356Z"
    }
   },
   "cell_type": "code",
   "source": [
    "# |export\n",
    "iface = gr.Interface(fn=qa, inputs=gr.Text(value=\"多久维护一次产品?\"), outputs=\"text\")\n",
    "iface.launch(width=500,share=True)"
   ],
   "id": "ad2f204e6ab55bfc",
   "outputs": [
    {
     "name": "stdout",
     "output_type": "stream",
     "text": [
      "* Running on local URL:  http://127.0.0.1:7860\n",
      "* Running on public URL: https://2205b653796d34e6b5.gradio.live\n",
      "\n",
      "This share link expires in 72 hours. For free permanent hosting and GPU upgrades, run `gradio deploy` from the terminal in the working directory to deploy to Hugging Face Spaces (https://huggingface.co/spaces)\n"
     ]
    },
    {
     "data": {
      "text/plain": [
       "<IPython.core.display.HTML object>"
      ],
      "text/html": [
       "<div><iframe src=\"https://2205b653796d34e6b5.gradio.live\" width=\"500\" height=\"500\" allow=\"autoplay; camera; microphone; clipboard-read; clipboard-write;\" frameborder=\"0\" allowfullscreen></iframe></div>"
      ]
     },
     "metadata": {},
     "output_type": "display_data"
    },
    {
     "data": {
      "text/plain": []
     },
     "execution_count": 19,
     "metadata": {},
     "output_type": "execute_result"
    }
   ],
   "execution_count": 19
  },
  {
   "metadata": {
    "ExecuteTime": {
     "end_time": "2025-03-26T07:21:49.648689Z",
     "start_time": "2025-03-26T07:21:49.443200Z"
    }
   },
   "cell_type": "code",
   "source": [
    "# this is only necessary in a notebook\n",
    "iface.close()"
   ],
   "id": "888b1b0530808ebe",
   "outputs": [
    {
     "name": "stdout",
     "output_type": "stream",
     "text": [
      "Closing server running on port: 7860\n"
     ]
    }
   ],
   "execution_count": 20
  },
  {
   "metadata": {},
   "cell_type": "markdown",
   "source": "## Create a `requirements.txt` file",
   "id": "7dc11529d1b85a84"
  },
  {
   "metadata": {
    "ExecuteTime": {
     "end_time": "2025-03-24T05:22:58.708249Z",
     "start_time": "2025-03-24T05:22:58.701118Z"
    }
   },
   "cell_type": "code",
   "source": [
    "%%writefile ../requirements.txt\n",
    "fastcore"
   ],
   "id": "c39a06f76c3da0f5",
   "outputs": [
    {
     "name": "stdout",
     "output_type": "stream",
     "text": [
      "Overwriting ../requirements.txt\n"
     ]
    }
   ],
   "execution_count": 26
  },
  {
   "metadata": {
    "ExecuteTime": {
     "end_time": "2025-03-24T05:22:59.021659Z",
     "start_time": "2025-03-24T05:22:58.757093Z"
    }
   },
   "cell_type": "code",
   "source": [
    "# | hide\n",
    "import nbdev\n",
    "\n",
    "nbdev.nbdev_export()"
   ],
   "id": "9df14eac7a58493f",
   "outputs": [],
   "execution_count": 27
  },
  {
   "metadata": {
    "ExecuteTime": {
     "end_time": "2025-03-24T05:22:59.039834Z",
     "start_time": "2025-03-24T05:22:59.035487Z"
    }
   },
   "cell_type": "code",
   "source": "# |default_exp data_preprocessing",
   "id": "648dc291964559de",
   "outputs": [],
   "execution_count": 28
  },
  {
   "metadata": {},
   "cell_type": "markdown",
   "source": "## Convert this notebook into a Gradio app",
   "id": "4755b2e93c82953c"
  },
  {
   "metadata": {
    "ExecuteTime": {
     "end_time": "2025-03-24T05:22:59.087612Z",
     "start_time": "2025-03-24T05:22:59.082988Z"
    }
   },
   "cell_type": "code",
   "source": [
    "# from nbdev.export import nb_export\n",
    "# nb_export('01_gradio.ipynb', lib_path='.', name='gradio')"
   ],
   "id": "9549f5fd490578dd",
   "outputs": [],
   "execution_count": 29
  },
  {
   "metadata": {
    "ExecuteTime": {
     "end_time": "2025-03-24T05:22:59.160450Z",
     "start_time": "2025-03-24T05:22:59.133427Z"
    }
   },
   "cell_type": "code",
   "source": [
    "# | hide\n",
    "import nbdev\n",
    "\n",
    "nbdev.nbdev_export()"
   ],
   "id": "6118d49775df611a",
   "outputs": [],
   "execution_count": 30
  }
 ],
 "metadata": {
  "kernelspec": {
   "name": "python3",
   "language": "python",
   "display_name": "Python 3 (ipykernel)"
  }
 },
 "nbformat": 5,
 "nbformat_minor": 9
}
