{
 "cells": [
  {
   "metadata": {},
   "cell_type": "raw",
   "source": [
    "---\n",
    "output-file: chroma_db.html\n",
    "title: ChromaDB tutorial\n",
    "---"
   ],
   "id": "4bd68effe0fec893"
  },
  {
   "metadata": {},
   "cell_type": "code",
   "outputs": [],
   "execution_count": null,
   "source": "# |default_exp chroma_db",
   "id": "86a7d3fa89528e4f"
  },
  {
   "metadata": {},
   "cell_type": "markdown",
   "source": "## Install dependencies",
   "id": "40bae3045488c83c"
  },
  {
   "metadata": {},
   "cell_type": "markdown",
   "source": "## Make an app with Gradio",
   "id": "8689e7841c3c3942"
  },
  {
   "metadata": {
    "ExecuteTime": {
     "end_time": "2025-03-19T14:04:02.024378Z",
     "start_time": "2025-03-19T14:04:00.692355Z"
    }
   },
   "cell_type": "code",
   "source": [
    "# |export\n",
    "import csv\n",
    "import re\n",
    "import chromadb\n",
    "from chromadb import Settings\n",
    "from dotenv import load_dotenv\n",
    "import os\n",
    "\n",
    "import gradio as gr\n",
    "from fastcore.net import urljson, HTTPError"
   ],
   "id": "c3ed1a604344bdea",
   "outputs": [],
   "execution_count": 29
  },
  {
   "metadata": {
    "ExecuteTime": {
     "end_time": "2025-03-19T13:36:27.562076Z",
     "start_time": "2025-03-19T13:36:27.559981Z"
    }
   },
   "cell_type": "code",
   "source": [
    "load_dotenv()\n",
    "oai_key = os.getenv('GEMINI_API_KEY')"
   ],
   "id": "7f542994eda15019",
   "outputs": [],
   "execution_count": 16
  },
  {
   "metadata": {
    "ExecuteTime": {
     "end_time": "2025-03-19T13:28:37.999749Z",
     "start_time": "2025-03-19T13:28:37.996610Z"
    }
   },
   "cell_type": "code",
   "source": [
    "def convert_qa_to_csv(input_file, output_file):\n",
    "    \"\"\"\n",
    "    Convert a text file with Q/A format to a CSV file.\n",
    "\n",
    "    Args:\n",
    "        input_file: Path to the input text file\n",
    "        output_file: Path to the output CSV file\n",
    "    \"\"\"\n",
    "    # Read the content of the file\n",
    "    with open(input_file, 'r', encoding='utf-8') as f:\n",
    "        content = f.read()\n",
    "\n",
    "    # Split the content by 'Q' marker\n",
    "    qa_blocks = content.split('Q\\n')\n",
    "\n",
    "    qa_blks = [block.strip() for block in qa_blocks][1:]\n",
    "    # Remove empty blocks (like the first one if file starts with 'Q')\n",
    "    # qa_blocks = [[line for line in block.split('\\n') ] for block in qa_blks if block.strip()]\n",
    "    # Remove empty blocks (like the first one if file starts with 'Q')\n",
    "    # qa_blocks = [blk for block in qa_blocks if block.strip() for blk in block.strip()]\n",
    "\n",
    "    # Process each Q&A block\n",
    "    qa_pairs = []\n",
    "    for block in qa_blks:\n",
    "        # Split the block into lines\n",
    "        lines = block.strip().split('\\n')\n",
    "\n",
    "        if lines:\n",
    "            # First line is the question\n",
    "            question = lines[0]\n",
    "            # The rest are the answer\n",
    "            answer = '\\n'.join(lines[1:])\n",
    "\n",
    "            # Add the pair to our list\n",
    "            qa_pairs.append([question, answer])\n",
    "\n",
    "    # Write to CSV\n",
    "    with open(output_file, 'w', encoding='utf-8', newline='') as f:\n",
    "        writer = csv.writer(f)\n",
    "        # Write header\n",
    "        writer.writerow(['Question', 'Answer'])\n",
    "        # Write Q&A pairs\n",
    "        for pair in qa_pairs:\n",
    "            writer.writerow(pair)\n",
    "    print(f\"Conversion complete. CSV file saved to {output_file}\")"
   ],
   "id": "a0a4709412146528",
   "outputs": [],
   "execution_count": 8
  },
  {
   "metadata": {
    "ExecuteTime": {
     "end_time": "2025-03-19T13:28:45.919849Z",
     "start_time": "2025-03-19T13:28:45.916150Z"
    }
   },
   "cell_type": "code",
   "source": [
    "\n",
    "input_files = [\"../res/qa_service.txt\", \"../res/qa_technology.txt\"]\n",
    "output_files = [\"../res/qa_service.csv\", \"../res/qa_technology.csv\"]\n",
    "for in_f, ot_f in zip(input_files, output_files):\n",
    "    convert_qa_to_csv(in_f, ot_f)\n",
    "    "
   ],
   "id": "b867632cd7164a19",
   "outputs": [
    {
     "name": "stdout",
     "output_type": "stream",
     "text": [
      "Conversion complete. CSV file saved to ../res/qa_service.csv\n",
      "Conversion complete. CSV file saved to ../res/qa_technology.csv\n"
     ]
    }
   ],
   "execution_count": 9
  },
  {
   "metadata": {
    "ExecuteTime": {
     "end_time": "2025-03-19T13:46:17.742292Z",
     "start_time": "2025-03-19T13:46:17.724366Z"
    }
   },
   "cell_type": "code",
   "source": [
    "# |export\n",
    "client = chromadb.PersistentClient(path=\"../db\")\n",
    "collections = [client.create_collection(name=\"siasun_qa_service\"),\n",
    "                client.create_collection(name=\"siasun_qa_technology\")]"
   ],
   "id": "e87d7540e3a1b0d8",
   "outputs": [],
   "execution_count": 18
  },
  {
   "metadata": {
    "ExecuteTime": {
     "end_time": "2025-03-19T13:52:18.076954Z",
     "start_time": "2025-03-19T13:52:18.063958Z"
    }
   },
   "cell_type": "code",
   "source": [
    "i=2\n",
    "f'q{i}'"
   ],
   "id": "f4c4e9c21acabd5a",
   "outputs": [
    {
     "data": {
      "text/plain": [
       "'q2'"
      ]
     },
     "execution_count": 24,
     "metadata": {},
     "output_type": "execute_result"
    }
   ],
   "execution_count": 24
  },
  {
   "metadata": {
    "ExecuteTime": {
     "end_time": "2025-03-19T13:54:26.816688Z",
     "start_time": "2025-03-19T13:54:23.560817Z"
    }
   },
   "cell_type": "code",
   "source": [
    "# |export\n",
    "\n",
    "for csv_file,collection in zip(output_files,collections):\n",
    "    with open(csv_file, newline='') as f:\n",
    "        reader = csv.reader(f)\n",
    "        for i, row in enumerate(reader):\n",
    "            collection.add(\n",
    "                documents = row,\n",
    "                metadatas = [{\"source\": \"question\"}, {\"source\": \"answer\"}],\n",
    "                ids = [f\"{collection.name}_q{i}\", f\"{collection.name}_a{i}\"]\n",
    "            )"
   ],
   "id": "cd8cffa926183329",
   "outputs": [],
   "execution_count": 25
  },
  {
   "metadata": {
    "ExecuteTime": {
     "end_time": "2025-03-19T14:01:46.991987Z",
     "start_time": "2025-03-19T14:01:46.882368Z"
    }
   },
   "cell_type": "code",
   "source": [
    "#|export\n",
    "results = collections[0].query(\n",
    "    query_texts=[\"多久维护一次产品?\"],\n",
    "    n_results=2\n",
    ")"
   ],
   "id": "d885aba898533f4b",
   "outputs": [],
   "execution_count": 27
  },
  {
   "metadata": {
    "ExecuteTime": {
     "end_time": "2025-03-19T14:01:49.869284Z",
     "start_time": "2025-03-19T14:01:49.866013Z"
    }
   },
   "cell_type": "code",
   "source": "results",
   "id": "da70193ed6f00208",
   "outputs": [
    {
     "data": {
      "text/plain": [
       "{'ids': [['siasun_qa_service_q2', 'siasun_qa_service_a9']],\n",
       " 'embeddings': None,\n",
       " 'documents': [['你们的产品，多久需要维护一次？维护保养内容有哪些？',\n",
       "   '作业作为一个重要的单元，所以不能进行批量删除与添加，防止误操作造成损失。']],\n",
       " 'uris': None,\n",
       " 'data': None,\n",
       " 'metadatas': [[{'source': 'question'}, {'source': 'answer'}]],\n",
       " 'distances': [[0.4168012525151972, 0.8514458305258445]],\n",
       " 'included': [<IncludeEnum.distances: 'distances'>,\n",
       "  <IncludeEnum.documents: 'documents'>,\n",
       "  <IncludeEnum.metadatas: 'metadatas'>]}"
      ]
     },
     "execution_count": 28,
     "metadata": {},
     "output_type": "execute_result"
    }
   ],
   "execution_count": 28
  },
  {
   "metadata": {
    "ExecuteTime": {
     "end_time": "2025-03-19T14:22:24.584327Z",
     "start_time": "2025-03-19T14:22:24.582321Z"
    }
   },
   "cell_type": "code",
   "source": [
    "results['metadatas'][0] #[0]['source']\n",
    "results['documents'][0][0]"
   ],
   "id": "c6a9c1661db02f02",
   "outputs": [
    {
     "data": {
      "text/plain": [
       "['你们的产品，多久需要维护一次？维护保养内容有哪些？', '作业作为一个重要的单元，所以不能进行批量删除与添加，防止误操作造成损失。']"
      ]
     },
     "execution_count": 39,
     "metadata": {},
     "output_type": "execute_result"
    }
   ],
   "execution_count": 39
  },
  {
   "metadata": {},
   "cell_type": "code",
   "outputs": [],
   "execution_count": null,
   "source": [
    "def qa(question:str):\n",
    "    results = []\n",
    "    for collection in collections:\n",
    "        results = collections.query(\n",
    "            query_texts=[\"多久维护一次产品?\"],\n",
    "            n_results=4\n",
    "        )\n",
    "        docs = []\n",
    "        for i,metadata in enumerate(results['metadatas'][0]):\n",
    "            if metadata['source'] == 'question':\n",
    "                docs.append({'id': results['ids'][0][i],\n",
    "                                'document': results['documents'][0][i], \n",
    "                                'distance':results['distances'][0][i]})\n",
    "                \n",
    "    # question = \n",
    "    # return answers\n",
    "                \n",
    "        \n"
   ],
   "id": "2ea352cd4183e359"
  },
  {
   "metadata": {},
   "cell_type": "code",
   "outputs": [],
   "execution_count": null,
   "source": [
    "# |export\n",
    "iface = gr.Interface(fn=size, inputs=gr.Text(value=\"tglcourse/CelebA-faces-cropped-128\"), outputs=\"text\")\n",
    "iface.launch(width=500)\n",
    "demo.launch()"
   ],
   "id": "ad2f204e6ab55bfc"
  },
  {
   "metadata": {},
   "cell_type": "code",
   "outputs": [],
   "execution_count": null,
   "source": [
    "# this is only necessary in a notebook\n",
    "demo.close()"
   ],
   "id": "888b1b0530808ebe"
  },
  {
   "metadata": {},
   "cell_type": "markdown",
   "source": "## Create a `requirements.txt` file",
   "id": "7dc11529d1b85a84"
  },
  {
   "metadata": {},
   "cell_type": "code",
   "outputs": [],
   "execution_count": null,
   "source": [
    "%%writefile ../requirements.txt\n",
    "fastcore"
   ],
   "id": "c39a06f76c3da0f5"
  },
  {
   "metadata": {},
   "cell_type": "markdown",
   "source": "## Convert this notebook into a Gradio app",
   "id": "2d1731387ef9d522"
  },
  {
   "metadata": {},
   "cell_type": "code",
   "outputs": [],
   "execution_count": null,
   "source": [
    "# from nbdev.export import nb_export\n",
    "# nb_export('01_gradio.ipynb', lib_path='.', name='gradio')"
   ],
   "id": "f9573454598cf6df"
  },
  {
   "metadata": {},
   "cell_type": "code",
   "outputs": [],
   "execution_count": null,
   "source": [
    "# | hide\n",
    "import nbdev\n",
    "\n",
    "nbdev.nbdev_export()"
   ],
   "id": "9df14eac7a58493f"
  },
  {
   "metadata": {
    "ExecuteTime": {
     "end_time": "2025-03-19T03:42:51.114300Z",
     "start_time": "2025-03-19T03:42:51.107550Z"
    }
   },
   "cell_type": "code",
   "source": "# |default_exp data_preprocessing",
   "id": "648dc291964559de",
   "outputs": [],
   "execution_count": 1
  },
  {
   "metadata": {},
   "cell_type": "markdown",
   "source": "## Install dependencies",
   "id": "1caa9c5880cbbe75"
  },
  {
   "metadata": {
    "ExecuteTime": {
     "end_time": "2025-03-19T08:07:35.662128Z",
     "start_time": "2025-03-19T08:07:35.656643Z"
    }
   },
   "cell_type": "code",
   "source": [
    "# |export\n",
    "import csv\n",
    "import re"
   ],
   "id": "32752c754e3474b",
   "outputs": [],
   "execution_count": 1
  },
  {
   "metadata": {
    "ExecuteTime": {
     "end_time": "2025-03-19T08:08:07.835776Z",
     "start_time": "2025-03-19T08:08:07.831288Z"
    }
   },
   "cell_type": "code",
   "source": " l = [22, 13, 45, 50, 98, 69, 43, 44, 1]",
   "id": "a68fc503f985957d",
   "outputs": [],
   "execution_count": 2
  },
  {
   "metadata": {
    "ExecuteTime": {
     "end_time": "2025-03-19T08:08:10.629528Z",
     "start_time": "2025-03-19T08:08:10.621641Z"
    }
   },
   "cell_type": "code",
   "source": " [x+1 if x >= 45 else x+5 for x in l]",
   "id": "850505bf96d638fb",
   "outputs": [
    {
     "data": {
      "text/plain": [
       "[27, 18, 46, 51, 99, 70, 48, 49, 6]"
      ]
     },
     "execution_count": 3,
     "metadata": {},
     "output_type": "execute_result"
    }
   ],
   "execution_count": 3
  },
  {
   "metadata": {
    "ExecuteTime": {
     "end_time": "2025-03-19T08:09:13.376553Z",
     "start_time": "2025-03-19T08:09:13.370844Z"
    }
   },
   "cell_type": "code",
   "source": " [x+1 for x in l if x >= 45]",
   "id": "5d12da9d2cac9f2f",
   "outputs": [
    {
     "data": {
      "text/plain": [
       "[46, 51, 99, 70]"
      ]
     },
     "execution_count": 5,
     "metadata": {},
     "output_type": "execute_result"
    }
   ],
   "execution_count": 5
  },
  {
   "metadata": {
    "ExecuteTime": {
     "end_time": "2025-03-19T08:22:22.048061Z",
     "start_time": "2025-03-19T08:22:21.977927Z"
    }
   },
   "cell_type": "code",
   "source": [
    "# |export\n",
    "def convert_qa_to_csv(input_file, output_file):\n",
    "    \"\"\"\n",
    "    Convert a text file with Q/A format to a CSV file.\n",
    "\n",
    "    Args:\n",
    "        input_file: Path to the input text file\n",
    "        output_file: Path to the output CSV file\n",
    "    \"\"\"\n",
    "    # Read the content of the file\n",
    "    with open(input_file, 'r', encoding='utf-8') as f:\n",
    "        content = f.read()\n",
    "\n",
    "    # Split the content by 'Q' marker\n",
    "    qa_blocks = content.split('Q\\n')\n",
    "\n",
    "    # Remove empty blocks (like the first one if file starts with 'Q')\n",
    "    qa_blocks = [blk for block in qa_blocks if block.strip() for blk in block.strip()]\n",
    "\n",
    "    # Process each Q&A block\n",
    "    qa_pairs = []\n",
    "    for block in qa_blocks:\n",
    "        # Split the block into lines\n",
    "        lines = block.strip().split('\\n')\n",
    "\n",
    "        if lines:\n",
    "            # First line is the question\n",
    "            question = lines[0]\n",
    "            # The rest are the answer\n",
    "            answer = '\\n'.join(lines[1:])\n",
    "\n",
    "            # Add the pair to our list\n",
    "            qa_pairs.append([question, answer])\n",
    "\n",
    "    # Write to CSV\n",
    "    with open(output_file, 'w', encoding='utf-8', newline='') as f:\n",
    "        writer = csv.writer(f)\n",
    "        # Write header\n",
    "        writer.writerow(['Question', 'Answer'])\n",
    "        # Write Q&A pairs\n",
    "        for pair in qa_pairs:\n",
    "            writer.writerow(pair)\n",
    "    print(f\"Conversion complete. CSV file saved to {output_file}\")\n",
    "\n",
    "\n",
    "# if __name__ == \"__main__\":\n",
    "#     input_file = \"res/qa_service.txt\"\n",
    "#     output_file = \"res/qa_service.csv\"\n",
    "#     convert_qa_to_csv(input_file, output_file)"
   ],
   "id": "f7a4b573346c4597",
   "outputs": [],
   "execution_count": 6
  },
  {
   "metadata": {},
   "cell_type": "code",
   "outputs": [],
   "execution_count": null,
   "source": [
    "input_files=[\"res/qa_service.txt\", \"res/qa_technology.txt\"]\n",
    "outpu"
   ],
   "id": "c2c98b2fff717b2d"
  },
  {
   "metadata": {
    "ExecuteTime": {
     "end_time": "2025-03-19T03:22:22.127668Z",
     "start_time": "2025-03-19T03:22:21.676078Z"
    }
   },
   "cell_type": "code",
   "outputs": [],
   "execution_count": 5,
   "source": [
    "# |export\n",
    "collection = client.create_collection(name=\"Students\")"
   ],
   "id": "1d80472782cd5fe5"
  },
  {
   "metadata": {
    "ExecuteTime": {
     "end_time": "2025-03-19T03:22:23.132042Z",
     "start_time": "2025-03-19T03:22:23.124327Z"
    }
   },
   "cell_type": "code",
   "outputs": [],
   "execution_count": 6,
   "source": [
    "# |export\n",
    "student_info = \"\"\"\n",
    "Alexandra Thompson, a 19-year-old computer science sophomore with a 3.7 GPA,\n",
    "is a member of the programming and chess clubs who enjoys pizza, swimming, and hiking\n",
    "in her free time in hopes of working at a tech company after graduating from the University of Washington.\n",
    "\"\"\"\n",
    "\n",
    "club_info = \"\"\"\n",
    "The university chess club provides an outlet for students to come together and enjoy playing\n",
    "the classic strategy game of chess. Members of all skill levels are welcome, from beginners learning\n",
    "the rules to experienced tournament players. The club typically meets a few times per week to play casual games,\n",
    "participate in tournaments, analyze famous chess matches, and improve members' skills.\n",
    "\"\"\"\n",
    "\n",
    "university_info = \"\"\"\n",
    "The University of Washington, founded in 1861 in Seattle, is a public research university\n",
    "with over 45,000 students across three campuses in Seattle, Tacoma, and Bothell.\n",
    "As the flagship institution of the six public universities in Washington state,\n",
    "UW encompasses over 500 buildings and 20 million square feet of space,\n",
    "including one of the largest library systems in the world.\n",
    "\"\"\""
   ],
   "id": "af2737b48dd20120"
  },
  {
   "metadata": {
    "ExecuteTime": {
     "end_time": "2025-03-19T03:24:23.906990Z",
     "start_time": "2025-03-19T03:22:28.878101Z"
    }
   },
   "cell_type": "code",
   "outputs": [
    {
     "name": "stderr",
     "output_type": "stream",
     "text": [
      "/home/x/.cache/chroma/onnx_models/all-MiniLM-L6-v2/onnx.tar.gz: 100%|██████████| 79.3M/79.3M [01:45<00:00, 792kiB/s]    \n"
     ]
    }
   ],
   "execution_count": 7,
   "source": [
    "# |export\n",
    "collection.add(\n",
    "    documents = [student_info, club_info, university_info],\n",
    "    metadatas = [{\"source\": \"student_info\"}, {\"source\": \"club_info\"}, {\"source\": \"university_info\"}],\n",
    "    ids = [\"id1\", \"id2\", \"id3\"]\n",
    ")"
   ],
   "id": "e4236bfae979b35b"
  },
  {
   "metadata": {
    "ExecuteTime": {
     "end_time": "2025-03-18T14:39:50.467594Z",
     "start_time": "2025-03-18T14:39:50.364985Z"
    }
   },
   "cell_type": "code",
   "outputs": [],
   "execution_count": 9,
   "source": [
    "#|export\n",
    "results = collection.query(\n",
    "    query_texts=[\"What is the student name?\"],\n",
    "    n_results=2\n",
    ")"
   ],
   "id": "50cc2afbf9063fa4"
  },
  {
   "metadata": {
    "ExecuteTime": {
     "end_time": "2025-03-18T14:40:02.482187Z",
     "start_time": "2025-03-18T14:40:02.479663Z"
    }
   },
   "cell_type": "code",
   "outputs": [
    {
     "data": {
      "text/plain": [
       "{'ids': [['id1', 'id2']],\n",
       " 'embeddings': None,\n",
       " 'documents': [['\\nAlexandra Thompson, a 19-year-old computer science sophomore with a 3.7 GPA,\\nis a member of the programming and chess clubs who enjoys pizza, swimming, and hiking\\nin her free time in hopes of working at a tech company after graduating from the University of Washington.\\n',\n",
       "   \"\\nThe university chess club provides an outlet for students to come together and enjoy playing\\nthe classic strategy game of chess. Members of all skill levels are welcome, from beginners learning\\nthe rules to experienced tournament players. The club typically meets a few times per week to play casual games,\\nparticipate in tournaments, analyze famous chess matches, and improve members' skills.\\n\"]],\n",
       " 'uris': None,\n",
       " 'data': None,\n",
       " 'metadatas': [[{'source': 'student_info'}, {'source': 'club_info'}]],\n",
       " 'distances': [[1.294698592479661, 1.3954207576145858]],\n",
       " 'included': [<IncludeEnum.distances: 'distances'>,\n",
       "  <IncludeEnum.documents: 'documents'>,\n",
       "  <IncludeEnum.metadatas: 'metadatas'>]}"
      ]
     },
     "execution_count": 10,
     "metadata": {},
     "output_type": "execute_result"
    }
   ],
   "execution_count": 10,
   "source": "results",
   "id": "c9ab855d62664ea6"
  },
  {
   "metadata": {
    "ExecuteTime": {
     "end_time": "2025-03-19T03:24:56.314071Z",
     "start_time": "2025-03-19T03:24:55.207909Z"
    }
   },
   "cell_type": "code",
   "outputs": [
    {
     "ename": "NameError",
     "evalue": "name 'demo' is not defined",
     "output_type": "error",
     "traceback": [
      "\u001B[31m---------------------------------------------------------------------------\u001B[39m",
      "\u001B[31mNameError\u001B[39m                                 Traceback (most recent call last)",
      "\u001B[36mCell\u001B[39m\u001B[36m \u001B[39m\u001B[32mIn[8]\u001B[39m\u001B[32m, line 2\u001B[39m\n\u001B[32m      1\u001B[39m \u001B[38;5;66;03m# |export\u001B[39;00m\n\u001B[32m----> \u001B[39m\u001B[32m2\u001B[39m \u001B[43mdemo\u001B[49m.launch()\n",
      "\u001B[31mNameError\u001B[39m: name 'demo' is not defined"
     ]
    }
   ],
   "execution_count": 8,
   "source": [
    "# |export\n",
    "demo.launch()"
   ],
   "id": "8bad34d1e00056ac"
  },
  {
   "metadata": {},
   "cell_type": "code",
   "outputs": [
    {
     "name": "stdout",
     "output_type": "stream",
     "text": [
      "Closing server running on port: 7860\n"
     ]
    }
   ],
   "execution_count": 8,
   "source": [
    "# this is only necessary in a notebook\n",
    "demo.close()"
   ],
   "id": "2f2c972c24dd80a4"
  },
  {
   "metadata": {},
   "cell_type": "markdown",
   "source": "## Create a `requirements.txt` file",
   "id": "b2663af8b966b471"
  },
  {
   "metadata": {},
   "cell_type": "code",
   "outputs": [
    {
     "name": "stdout",
     "output_type": "stream",
     "text": [
      "Writing ../requirements.txt\n"
     ]
    }
   ],
   "execution_count": 8,
   "source": [
    "%%writefile ../requirements.txt\n",
    "fastcore"
   ],
   "id": "a278343f7e2cd0e1"
  },
  {
   "metadata": {},
   "cell_type": "markdown",
   "source": "## Convert this notebook into a Gradio app",
   "id": "4755b2e93c82953c"
  },
  {
   "metadata": {},
   "cell_type": "code",
   "outputs": [],
   "execution_count": 9,
   "source": [
    "# from nbdev.export import nb_export\n",
    "# nb_export('01_gradio.ipynb', lib_path='.', name='gradio')"
   ],
   "id": "9549f5fd490578dd"
  },
  {
   "metadata": {},
   "cell_type": "code",
   "outputs": [],
   "execution_count": null,
   "source": [
    "# | hide\n",
    "import nbdev\n",
    "\n",
    "nbdev.nbdev_export()"
   ],
   "id": "6118d49775df611a"
  }
 ],
 "metadata": {
  "kernelspec": {
   "name": "python3",
   "language": "python",
   "display_name": "Python 3 (ipykernel)"
  }
 },
 "nbformat": 5,
 "nbformat_minor": 9
}
