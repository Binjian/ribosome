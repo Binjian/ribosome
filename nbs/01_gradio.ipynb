{
 "cells": [
  {
   "cell_type": "raw",
   "id": "2919343d",
   "metadata": {},
   "source": [
    "---\n",
    "output-file: gradio.html\n",
    "title: Gradio tutorial with Hugging Face Spaces deployment\n",
    "---"
   ]
  },
  {
   "cell_type": "code",
   "execution_count": null,
   "id": "68340256",
   "metadata": {},
   "outputs": [],
   "source": [
    "# |default_exp gradio"
   ]
  },
  {
   "cell_type": "markdown",
   "id": "15fe30a9-cfeb-4ec0-ae40-334072046464",
   "metadata": {},
   "source": [
    "Please reference [this blog post](https://nbdev.fast.ai/blog/posts/2022-11-07-spaces) on how to use this notebook."
   ]
  },
  {
   "cell_type": "markdown",
   "id": "acf7644f-42b3-4d8d-a1d0-f8c3a2358e27",
   "metadata": {},
   "source": [
    "## Install dependencies"
   ]
  },
  {
   "cell_type": "markdown",
   "id": "5ca22d1e-1bd0-49c0-9b89-c480ad1a29c4",
   "metadata": {},
   "source": [
    "## Make an app with Gradio"
   ]
  },
  {
   "cell_type": "code",
   "execution_count": null,
   "id": "00cf4fad-a920-41dc-be42-3992c7fcefac",
   "metadata": {},
   "outputs": [],
   "source": [
    "# |export\n",
    "import gradio as gr\n",
    "from fastcore.net import urljson, HTTPError"
   ]
  },
  {
   "cell_type": "code",
   "execution_count": null,
   "id": "55ca729a4859e9a6",
   "metadata": {},
   "outputs": [],
   "source": [
    "import gradio as gr\n",
    "import time\n",
    "\n",
    "\n",
    "def echo(message, history, system_prompt, tokens):\n",
    "    response = f\"System prompt: {system_prompt}\\n Message: {message}.\"\n",
    "    for i in range(min(len(response), int(tokens))):\n",
    "        time.sleep(0.05)\n",
    "        yield response[: i + 1]\n",
    "\n",
    "\n",
    "with gr.Blocks() as demo:\n",
    "    system_prompt = gr.Textbox(\"You are helpful AI.\", label=\"System Prompt\")\n",
    "    slider = gr.Slider(10, 100, render=False)\n",
    "\n",
    "    gr.ChatInterface(echo, additional_inputs=[system_prompt, slider], type=\"messages\")\n",
    "\n",
    "demo.launch()"
   ]
  },
  {
   "cell_type": "code",
   "execution_count": null,
   "id": "5b2b97012d83c35b",
   "metadata": {},
   "outputs": [],
   "source": [
    "demo.close()"
   ]
  },
  {
   "cell_type": "code",
   "execution_count": null,
   "id": "3a0ff6b533b90bf7",
   "metadata": {},
   "outputs": [],
   "source": [
    "import gradio as gr\n",
    "import time\n",
    "\n",
    "\n",
    "def echo(message, history, system_prompt, tkns):\n",
    "    response = f\"System prompt: {system_prompt}\\n Message: {message}.\"\n",
    "    for i in range(min(len(response), int(tkns))):\n",
    "        time.sleep(0.05)\n",
    "        yield response[: i + 1]\n",
    "\n",
    "\n",
    "demo = gr.ChatInterface(\n",
    "    echo,\n",
    "    type=\"messages\",\n",
    "    additional_inputs=[\n",
    "        gr.Textbox(\"You are helpful AI.\", label=\"System Prompt\"),\n",
    "        gr.Slider(10, 100, label=\"tk\"),\n",
    "    ],\n",
    ")\n",
    "\n",
    "demo.launch()"
   ]
  },
  {
   "cell_type": "code",
   "execution_count": null,
   "id": "dec602458af0e971",
   "metadata": {},
   "outputs": [],
   "source": [
    "demo.close()"
   ]
  },
  {
   "cell_type": "code",
   "execution_count": null,
   "id": "b3fd86fb72f042b9",
   "metadata": {},
   "outputs": [],
   "source": [
    "import gradio as gr\n",
    "\n",
    "\n",
    "def count_images(message, history):\n",
    "    num_images = len(message[\"files\"])\n",
    "    total_images = 0\n",
    "    for message in history:\n",
    "        if isinstance(message[\"content\"], tuple):\n",
    "            total_images += 1\n",
    "    return f\"You just uploaded {num_images} images, total uploaded: {total_images + num_images}\"\n",
    "\n",
    "\n",
    "demo = gr.ChatInterface(\n",
    "    fn=count_images,\n",
    "    type=\"messages\",\n",
    "    examples=[{\"text\": \"No files\", \"files\": []}],\n",
    "    multimodal=True,\n",
    "    textbox=gr.MultimodalTextbox(\n",
    "        file_count=\"multiple\", file_types=[\"image\"], sources=[\"upload\", \"microphone\"]\n",
    "    ),\n",
    ")\n",
    "\n",
    "demo.launch()"
   ]
  },
  {
   "cell_type": "code",
   "execution_count": null,
   "id": "fdc2fb1dcdeaac2c",
   "metadata": {},
   "outputs": [],
   "source": [
    "demo.close()"
   ]
  },
  {
   "cell_type": "code",
   "execution_count": null,
   "id": "fc606fd842cfb454",
   "metadata": {},
   "outputs": [],
   "source": [
    "import gradio as gr\n",
    "\n",
    "\n",
    "def yes_man(message, history):\n",
    "    if message.endswith(\"?\"):\n",
    "        return \"Yes\"\n",
    "    else:\n",
    "        return \"Ask me anything!\"\n",
    "\n",
    "\n",
    "gr.ChatInterface(\n",
    "    yes_man,\n",
    "    type=\"messages\",\n",
    "    chatbot=gr.Chatbot(height=300),\n",
    "    textbox=gr.Textbox(\n",
    "        placeholder=\"Ask me a yes or no question\", container=False, scale=7\n",
    "    ),\n",
    "    title=\"Yes Man\",\n",
    "    description=\"Ask Yes Man any question\",\n",
    "    theme=\"ocean\",\n",
    "    examples=[\"Hello\", \"Am I cool?\", \"Are tomatoes vegetables?\"],\n",
    "    cache_examples=True,\n",
    ").launch()"
   ]
  },
  {
   "cell_type": "code",
   "execution_count": null,
   "id": "224678fb8c246d3a",
   "metadata": {},
   "outputs": [],
   "source": [
    "demo.close()"
   ]
  },
  {
   "cell_type": "code",
   "execution_count": null,
   "id": "38a4389f-ef53-4626-a6f5-a859354f854b",
   "metadata": {},
   "outputs": [],
   "source": [
    "# |export\n",
    "def size(repo: str):\n",
    "    \"Returns the size in GB of a HuggingFace Dataset.\"\n",
    "    url = f\"https://hf-mirror.com/api/datasets/{repo}\"\n",
    "    try:\n",
    "        resp = urljson(f\"{url}/treesize/main\")\n",
    "    except HTTPError:\n",
    "        return f\"Did not find repo: {url}\"\n",
    "    gb = resp[\"size\"] / 1e9\n",
    "    return f\"{gb:.2f} GB\""
   ]
  },
  {
   "cell_type": "code",
   "execution_count": null,
   "id": "65daf0ed",
   "metadata": {},
   "outputs": [],
   "source": [
    "!echo $HF_ENDPOINT"
   ]
  },
  {
   "cell_type": "code",
   "execution_count": null,
   "id": "95bc32b8-d8ff-4761-a2d7-0880c51d0a42",
   "metadata": {},
   "outputs": [],
   "source": [
    "size(\"tglcourse/CelebA-faces-cropped-128\")"
   ]
  },
  {
   "cell_type": "code",
   "execution_count": null,
   "id": "7b20e2a1-b622-4970-9069-0202ce10a2ce",
   "metadata": {},
   "outputs": [],
   "source": [
    "# |export\n",
    "iface = gr.Interface(\n",
    "    fn=size, inputs=gr.Text(value=\"tglcourse/CelebA-faces-cropped-128\"), outputs=\"text\"\n",
    ")\n",
    "iface.launch(width=500)"
   ]
  },
  {
   "cell_type": "code",
   "execution_count": null,
   "id": "39d7be72-9389-42cf-91b1-78e8f4bbd083",
   "metadata": {},
   "outputs": [],
   "source": [
    "# this is only necessary in a notebook\n",
    "iface.close()"
   ]
  },
  {
   "cell_type": "markdown",
   "id": "88424f53-cd78-41fe-9e06-8a6209001064",
   "metadata": {},
   "source": [
    "## Create a `requirements.txt` file"
   ]
  },
  {
   "cell_type": "code",
   "execution_count": null,
   "id": "db4a30aa-9090-460e-acf9-4eb359161125",
   "metadata": {},
   "outputs": [],
   "source": [
    "%%writefile ../requirements.txt\n",
    "fastcore"
   ]
  },
  {
   "cell_type": "markdown",
   "id": "249b2cd7-3123-45bf-945f-882b8a964cf5",
   "metadata": {},
   "source": [
    "## Convert this notebook into a Gradio app"
   ]
  },
  {
   "cell_type": "code",
   "execution_count": null,
   "id": "6706d92c-5785-4f09-9773-b9a944c493a5",
   "metadata": {},
   "outputs": [],
   "source": [
    "# from nbdev.export import nb_export\n",
    "# nb_export('01_gradio.ipynb', lib_path='.', name='gradio')"
   ]
  },
  {
   "cell_type": "code",
   "execution_count": null,
   "id": "e4c0f2a5",
   "metadata": {},
   "outputs": [],
   "source": [
    "# | hide\n",
    "import nbdev\n",
    "\n",
    "nbdev.nbdev_export()"
   ]
  },
  {
   "cell_type": "markdown",
   "id": "0182403f-d1d6-48c0-8e66-46aefb23a9ab",
   "metadata": {},
   "source": [
    "<div>\n",
    "<link rel=\"stylesheet\" href=\"https://gradio.s3-us-west-2.amazonaws.com/2.6.5/static/bundle.css\">\n",
    "<div id=\"target\"></div>\n",
    "<script src=\"https://gradio.s3-us-west-2.amazonaws.com/2.6.5/static/bundle.js\"></script>\n",
    "<script>\n",
    "launchGradioFromSpaces(\"abidlabs/question-answering\", \"#target\")\n",
    "</script>\n",
    "</div>"
   ]
  }
 ],
 "metadata": {
  "kernelspec": {
   "display_name": "python3",
   "language": "python",
   "name": "python3"
  }
 },
 "nbformat": 4,
 "nbformat_minor": 5
}
