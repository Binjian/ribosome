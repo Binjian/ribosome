{
 "cells": [
  {
   "cell_type": "raw",
   "id": "d80d95af8ebfb00",
   "metadata": {},
   "source": [
    "---\n",
    "output-file: chroma_db.html\n",
    "title: ChromaDB tutorial\n",
    "---"
   ]
  },
  {
   "cell_type": "code",
   "execution_count": null,
   "id": "4269383957ffa1a6",
   "metadata": {},
   "outputs": [],
   "source": [
    "# |default_exp chroma_db"
   ]
  },
  {
   "cell_type": "code",
   "execution_count": null,
   "id": "78e6fdb9",
   "metadata": {},
   "outputs": [],
   "source": [
    "# | hide\n",
    "from nbdev.showdoc import *\n",
    "from IPython.core.interactiveshell import InteractiveShell\n",
    "\n",
    "InteractiveShell.ast_node_interactivity = \"all\""
   ]
  },
  {
   "cell_type": "markdown",
   "id": "cabab511e3909292",
   "metadata": {},
   "source": [
    "## Install dependencies"
   ]
  },
  {
   "cell_type": "markdown",
   "id": "f8437076acf450fd",
   "metadata": {},
   "source": [
    "## Make an app with Gradio"
   ]
  },
  {
   "cell_type": "code",
   "execution_count": null,
   "id": "84ce1768b715e436",
   "metadata": {},
   "outputs": [],
   "source": [
    "# |export\n",
    "import chromadb\n",
    "from chromadb.config import Settings\n",
    "from dotenv import load_dotenv\n",
    "import os\n",
    "import ollama\n",
    "import numpy as np\n",
    "import hashlib"
   ]
  },
  {
   "cell_type": "markdown",
   "id": "138fe2dbcc896cbc",
   "metadata": {},
   "source": [
    "This is a simple RAG chatbot built on top of Llama Index and Gradio. It allows you to upload any text or PDF files and ask questions about them!\n",
    "Before running this, make sure you have exported your OpenAI API key as an environment variable:\n",
    "\n",
    "```bash\n",
    "export OPENAI_API_KEY=\"mykey\"\n",
    "```"
   ]
  },
  {
   "cell_type": "code",
   "execution_count": null,
   "id": "6f9454bc59fde043",
   "metadata": {},
   "outputs": [],
   "source": [
    "# |export\n",
    "load_dotenv()"
   ]
  },
  {
   "cell_type": "code",
   "execution_count": null,
   "id": "cfbfe9e2648fc4a4",
   "metadata": {},
   "outputs": [],
   "source": [
    "oai_key = os.getenv(\"GEMINI_API_KEY\")\n",
    "print(oai_key)"
   ]
  },
  {
   "cell_type": "code",
   "execution_count": null,
   "id": "a729cd84",
   "metadata": {},
   "outputs": [],
   "source": [
    "http_proxy = os.getenv(\"HTTP_PROXY\")\n",
    "https_proxy = os.getenv(\"HTTPS_PROXY\")\n",
    "print(http_proxy, https_proxy)\n",
    "\n",
    "# os.environ[\"HTTP_PROXY\"] = ''\n",
    "# os.environ[\"HTTPS_PROXY\"] = ''\n",
    "# http_proxy = os.getenv(\"HTTP_PROXY\")\n",
    "# https_proxy = os.getenv(\"HTTPS_PROXY\")\n",
    "# print(http_proxy, https_proxy)"
   ]
  },
  {
   "cell_type": "code",
   "execution_count": null,
   "id": "f88cd985463e61ce",
   "metadata": {},
   "outputs": [],
   "source": [
    "# |export\n",
    "# client = chromadb.Client(Settings(chroma_db_impl=\"duckdb+parquet\",persist_directory=\"db/\"))\n",
    "documents = [\n",
    "  \"Llamas are members of the camelid family meaning they're pretty closely related to vicuñas and camels\",\n",
    "  \"Llamas were first domesticated and used as pack animals 4,000 to 5,000 years ago in the Peruvian highlands\",\n",
    "  \"Llamas can grow as much as 6 feet tall though the average llama between 5 feet 6 inches and 5 feet 9 inches tall\",\n",
    "  \"Llamas weigh between 280 and 450 pounds and can carry 25 to 30 percent of their body weight\",\n",
    "  \"Llamas are vegetarians and have very efficient digestive systems\",\n",
    "  \"Llamas live to be about 20 years old, though some only live for 15 years and others live to be 30 years old\",\n",
    "]\n",
    "client = chromadb.PersistentClient(path=\"../db\", settings=Settings(allow_reset=True))\n",
    "try:\n",
    "  collection = client.get_collection(name=\"test_collection\")\n",
    "  client.reset()\n",
    "  # client.delete_collection(name=\"test_collection2\")\n",
    "except Exception as e:\n",
    "  print(e)\n",
    "\n",
    "collection = client.create_collection(name=\"test_collection\")\n",
    "client.list_collections()"
   ]
  },
  {
   "cell_type": "code",
   "execution_count": null,
   "id": "9852d6d9",
   "metadata": {},
   "outputs": [],
   "source": [
    "# |export\n",
    "student_info = \"\"\"\n",
    "Alexandra Thompson, a 19-year-old computer science sophomore with a 3.7 GPA,\n",
    "is a member of the programming and chess clubs who enjoys pizza, swimming, and hiking\n",
    "in her free time in hopes of working at a tech company after graduating from the University of Washington.\n",
    "\"\"\"\n",
    "\n",
    "club_info = \"\"\"\n",
    "The university chess club provides an outlet for students to come together and enjoy playing\n",
    "the classic strategy game of chess. Members of all skill levels are welcome, from beginners learning\n",
    "the rules to experienced tournament players. The club typically meets a few times per week to play casual games,\n",
    "participate in tournaments, analyze famous chess matches, and improve members' skills.\n",
    "\"\"\"\n",
    "\n",
    "university_info = \"\"\"\n",
    "The University of Washington, founded in 1861 in Seattle, is a public research university\n",
    "with over 45,000 students across three campuses in Seattle, Tacoma, and Bothell.\n",
    "As the flagship institution of the six public universities in Washington state,\n",
    "UW encompasses over 500 buildings and 20 million square feet of space,\n",
    "including one of the largest library systems in the world.\n",
    "\"\"\"\n",
    "\n",
    "documents.extend([student_info, club_info, university_info])"
   ]
  },
  {
   "cell_type": "code",
   "execution_count": null,
   "id": "f12e3dde",
   "metadata": {},
   "outputs": [],
   "source": [
    "for i, d in enumerate(documents):\n",
    "    response = ollama.embed(model='bge-m3',input=d)\n",
    "    embeddings = response.embeddings\n",
    "    print(np.linalg.norm(response.embeddings),response.embeddings)\n",
    "    collection.add(\n",
    "        ids=[hashlib.sha256(d.encode()).hexdigest()],\n",
    "        metadatas=[{\"text\": d[:15]}],\n",
    "        embeddings=embeddings,  # type: ignore\n",
    "        documents=[d],\n",
    "    )"
   ]
  },
  {
   "cell_type": "code",
   "execution_count": null,
   "id": "d632583adadad5b5",
   "metadata": {},
   "outputs": [],
   "source": [
    "# |export\n",
    "# an example input\n",
    "# request = \"What animals are llamas related to?\"\n",
    "request = \"What is the club name?\"\n",
    "\n",
    "# generate an embedding for the input and retrieve the most relevant doc\n",
    "response = ollama.embed(\n",
    "  model=\"bge-m3\",\n",
    "  input=request\n",
    ")\n",
    "results = collection.query(\n",
    "  query_embeddings=response[\"embeddings\"],\n",
    "  n_results=6\n",
    ")\n",
    "# data = results['documents'][0][0]"
   ]
  },
  {
   "cell_type": "code",
   "execution_count": null,
   "id": "e79b2d15",
   "metadata": {},
   "outputs": [],
   "source": [
    "results['documents'][0][0] if results['documents'] else None\n",
    "results['ids'][0][0] if results['ids'] else None\n",
    "results['metadatas'][0][0] if results['metadatas'] else None"
   ]
  },
  {
   "cell_type": "code",
   "execution_count": null,
   "id": "c28712c7",
   "metadata": {},
   "outputs": [],
   "source": [
    "\n",
    "results['documents'][0][1] if results['documents'] else None\n",
    "results['ids'][0][1] if results['ids'] else None\n",
    "results['metadatas'][0][1] if results['metadatas'] else None"
   ]
  },
  {
   "cell_type": "code",
   "execution_count": null,
   "id": "49c1181fd73a6894",
   "metadata": {},
   "outputs": [],
   "source": [
    "# | hide\n",
    "import nbdev\n",
    "\n",
    "nbdev.nbdev_export()"
   ]
  }
 ],
 "metadata": {
  "kernelspec": {
   "display_name": "python3",
   "language": "python",
   "name": "python3"
  }
 },
 "nbformat": 4,
 "nbformat_minor": 5
}
