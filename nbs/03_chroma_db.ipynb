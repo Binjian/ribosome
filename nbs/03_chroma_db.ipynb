{
 "cells": [
  {
   "cell_type": "raw",
   "id": "d80d95af8ebfb00",
   "metadata": {},
   "source": [
    "---\n",
    "output-file: chroma_db.html\n",
    "title: ChromaDB tutorial\n",
    "---"
   ]
  },
  {
   "cell_type": "code",
   "execution_count": null,
   "id": "4269383957ffa1a6",
   "metadata": {},
   "outputs": [],
   "source": "# |default_exp chroma_db"
  },
  {
   "cell_type": "markdown",
   "id": "cabab511e3909292",
   "metadata": {},
   "source": "## Install dependencies"
  },
  {
   "cell_type": "markdown",
   "id": "f8437076acf450fd",
   "metadata": {},
   "source": "## Make an app with Gradio"
  },
  {
   "cell_type": "code",
   "execution_count": null,
   "id": "84ce1768b715e436",
   "metadata": {},
   "outputs": [],
   "source": [
    "# |export\n",
    "import chromadb\n",
    "from chromadb.config import Settings\n",
    "from dotenv import load_dotenv\n",
    "import os"
   ]
  },
  {
   "cell_type": "markdown",
   "id": "138fe2dbcc896cbc",
   "metadata": {},
   "source": [
    "This is a simple RAG chatbot built on top of Llama Index and Gradio. It allows you to upload any text or PDF files and ask questions about them!\n",
    "Before running this, make sure you have exported your OpenAI API key as an environment variable:\n",
    "\n",
    "```bash\n",
    "export OPENAI_API_KEY=\"mykey\"\n",
    "```"
   ]
  },
  {
   "cell_type": "code",
   "execution_count": null,
   "id": "6f9454bc59fde043",
   "metadata": {},
   "outputs": [],
   "source": [
    "# |export\n",
    "load_dotenv()"
   ]
  },
  {
   "cell_type": "code",
   "execution_count": null,
   "id": "cfbfe9e2648fc4a4",
   "metadata": {},
   "outputs": [],
   "source": [
    "oai_key = os.getenv('GEMINI_API_KEY')\n",
    "print(oai_key)"
   ]
  },
  {
   "cell_type": "code",
   "execution_count": null,
   "id": "f88cd985463e61ce",
   "metadata": {},
   "outputs": [],
   "source": [
    "# |export\n",
    "# client = chromadb.Client(Settings(chroma_db_impl=\"duckdb+parquet\",persist_directory=\"db/\"))\n",
    "client = chromadb.PersistentClient(path=\"../db\")\n"
   ]
  },
  {
   "cell_type": "code",
   "execution_count": null,
   "id": "71215845e5c5bbee",
   "metadata": {},
   "outputs": [],
   "source": [
    "# |export\n",
    "collection = client.create_collection(name=\"Students\")"
   ]
  },
  {
   "cell_type": "code",
   "execution_count": null,
   "id": "8e0d66a549e4cfd3",
   "metadata": {},
   "outputs": [],
   "source": [
    "# |export\n",
    "student_info = \"\"\"\n",
    "Alexandra Thompson, a 19-year-old computer science sophomore with a 3.7 GPA,\n",
    "is a member of the programming and chess clubs who enjoys pizza, swimming, and hiking\n",
    "in her free time in hopes of working at a tech company after graduating from the University of Washington.\n",
    "\"\"\"\n",
    "\n",
    "club_info = \"\"\"\n",
    "The university chess club provides an outlet for students to come together and enjoy playing\n",
    "the classic strategy game of chess. Members of all skill levels are welcome, from beginners learning\n",
    "the rules to experienced tournament players. The club typically meets a few times per week to play casual games,\n",
    "participate in tournaments, analyze famous chess matches, and improve members' skills.\n",
    "\"\"\"\n",
    "\n",
    "university_info = \"\"\"\n",
    "The University of Washington, founded in 1861 in Seattle, is a public research university\n",
    "with over 45,000 students across three campuses in Seattle, Tacoma, and Bothell.\n",
    "As the flagship institution of the six public universities in Washington state,\n",
    "UW encompasses over 500 buildings and 20 million square feet of space,\n",
    "including one of the largest library systems in the world.\n",
    "\"\"\""
   ]
  },
  {
   "cell_type": "code",
   "execution_count": null,
   "id": "ace8c76d8e822ac6",
   "metadata": {},
   "outputs": [],
   "source": [
    "# |export\n",
    "collection.add(\n",
    "    documents = [student_info, club_info, university_info],\n",
    "    metadatas = [{\"source\": \"student_info\"}, {\"source\": \"club_info\"}, {\"source\": \"university_info\"}],\n",
    "    ids = [\"id1\", \"id2\", \"id3\"]\n",
    ")"
   ]
  },
  {
   "cell_type": "code",
   "execution_count": null,
   "id": "d632583adadad5b5",
   "metadata": {},
   "outputs": [],
   "source": [
    "#|export\n",
    "results = collection.query(\n",
    "    query_texts=[\"What is the student name?\"],\n",
    "    n_results=2\n",
    ")"
   ]
  },
  {
   "cell_type": "code",
   "execution_count": null,
   "id": "990634284e1e4ef8",
   "metadata": {},
   "outputs": [],
   "source": "results"
  },
  {
   "cell_type": "code",
   "execution_count": null,
   "id": "1d4e8c7ab1d2761a",
   "metadata": {},
   "outputs": [],
   "source": [
    "# |export\n",
    "demo.launch()"
   ]
  },
  {
   "cell_type": "code",
   "execution_count": null,
   "id": "2488828870c90bcc",
   "metadata": {},
   "outputs": [],
   "source": [
    "# this is only necessary in a notebook\n",
    "demo.close()"
   ]
  },
  {
   "cell_type": "markdown",
   "id": "8bdd97f11306e293",
   "metadata": {},
   "source": "## Create a `requirements.txt` file"
  },
  {
   "cell_type": "code",
   "execution_count": null,
   "id": "9103e294db530720",
   "metadata": {},
   "outputs": [],
   "source": [
    "%%writefile ../requirements.txt\n",
    "fastcore"
   ]
  },
  {
   "cell_type": "markdown",
   "id": "f93e0a73c3f1b229",
   "metadata": {},
   "source": "## Convert this notebook into a Gradio app"
  },
  {
   "cell_type": "code",
   "execution_count": null,
   "id": "7f229feb5e14488d",
   "metadata": {},
   "outputs": [],
   "source": [
    "# from nbdev.export import nb_export\n",
    "# nb_export('01_gradio.ipynb', lib_path='.', name='gradio')"
   ]
  },
  {
   "cell_type": "code",
   "execution_count": null,
   "id": "49c1181fd73a6894",
   "metadata": {},
   "outputs": [],
   "source": [
    "# | hide\n",
    "import nbdev\n",
    "\n",
    "nbdev.nbdev_export()"
   ]
  }
 ],
 "metadata": {
  "kernelspec": {
   "display_name": "python3",
   "language": "python",
   "name": "python3"
  }
 },
 "nbformat": 4,
 "nbformat_minor": 5
}
