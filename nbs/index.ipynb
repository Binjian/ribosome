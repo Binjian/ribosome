{
 "cells": [
  {
   "cell_type": "code",
   "execution_count": null,
   "metadata": {},
   "outputs": [],
   "source": [
    "# | hide\n",
    "from ribosome.core import *"
   ]
  },
  {
   "cell_type": "markdown",
   "metadata": {},
   "source": [
    "# {{ribosome}}\n",
    "\n",
    "> {{Ribosome is a powerful tool for working with Markdown documents. It provides a rich set of features for editing, transforming, and analyzing Markdown content.}}\n"
   ]
  },
  {
   "cell_type": "markdown",
   "metadata": {},
   "source": [
    "This file will become your README and also the index of your documentation."
   ]
  },
  {
   "cell_type": "markdown",
   "metadata": {},
   "source": [
    "## Developer Guide"
   ]
  },
  {
   "cell_type": "markdown",
   "metadata": {},
   "source": [
    "If you are new to using `ribosome` here are some useful pointers to get you started."
   ]
  },
  {
   "cell_type": "markdown",
   "metadata": {},
   "source": [
    "### Install ribosome in Development mode"
   ]
  },
  {
   "cell_type": "markdown",
   "metadata": {},
   "source": [
    "```sh\n",
    "# make sure ribosome package is installed in development mode\n",
    "$ pip install -e .\n",
    "\n",
    "# make changes under nbs/ directory\n",
    "# ...\n",
    "\n",
    "# compile to have changes apply to ribosome\n",
    "$ nbdev_prepare\n",
    "```"
   ]
  },
  {
   "cell_type": "markdown",
   "metadata": {},
   "source": [
    "## Usage"
   ]
  },
  {
   "cell_type": "markdown",
   "metadata": {},
   "source": [
    "### Installation"
   ]
  },
  {
   "cell_type": "markdown",
   "metadata": {},
   "source": [
    "Install latest from the GitHub [repository][repo]:\n",
    "\n",
    "```sh\n",
    "$ pip install git+https://github.com/Binjian/ribosome.git\n",
    "```\n",
    "\n",
    "\n",
    "[repo]: https://github.com/Binjian/ribosome\n",
    "[docs]: https://Binjian.github.io/ribosome/"
   ]
  },
  {
   "cell_type": "markdown",
   "metadata": {},
   "source": [
    "### Documentation"
   ]
  },
  {
   "cell_type": "markdown",
   "metadata": {},
   "source": [
    "Documentation can be found hosted on this GitHub [repository][repo]'s [pages][docs]. Additionally you can find package manager specific guidelines on [conda][conda] and [pypi][pypi] respectively.\n",
    "\n",
    "[repo]: https://github.com/Binjian/ribosome\n",
    "[docs]: https://Binjian.github.io/ribosome/\n",
    "[pypi]: https://pypi.org/project/ribosome/\n",
    "[conda]: https://anaconda.org/Binjian/ribosome"
   ]
  },
  {
   "cell_type": "markdown",
   "metadata": {},
   "source": [
    "## Document Object Model\n",
    "\n",
    "The `ribosome` package provides a Document Object Model (DOM) for working with Markdown documents. The DOM allows you to manipulate the structure and content of Markdown files programmatically."
   ]
  },
  {
   "cell_type": "markdown",
   "metadata": {},
   "source": [
    "Fill me in please! Don't forget code examples:"
   ]
  },
  {
   "cell_type": "code",
   "execution_count": 10,
   "metadata": {},
   "outputs": [
    {
     "data": {
      "text/html": [
       "<svg id=\"mermaid-svg\" width=\"100%\" xmlns=\"http://www.w3.org/2000/svg\" class=\"classDiagram\" style=\"max-width: 701.4453125px;\" viewBox=\"0 0 701.4453125 1060.25\" role=\"graphics-document document\" aria-roledescription=\"class\" xmlns:xlink=\"http://www.w3.org/1999/xlink\"><style xmlns=\"http://www.w3.org/1999/xhtml\">@import url(\"https://cdnjs.cloudflare.com/ajax/libs/font-awesome/6.7.2/css/all.min.css\");</style><style>#mermaid-svg{font-family:\"trebuchet ms\",verdana,arial,sans-serif;font-size:16px;fill:#333;}@keyframes edge-animation-frame{from{stroke-dashoffset:0;}}@keyframes dash{to{stroke-dashoffset:0;}}#mermaid-svg .edge-animation-slow{stroke-dasharray:9,5!important;stroke-dashoffset:900;animation:dash 50s linear infinite;stroke-linecap:round;}#mermaid-svg .edge-animation-fast{stroke-dasharray:9,5!important;stroke-dashoffset:900;animation:dash 20s linear infinite;stroke-linecap:round;}#mermaid-svg .error-icon{fill:hsl(220.5882352941, 100%, 98.3333333333%);}#mermaid-svg .error-text{fill:rgb(8.5000000002, 5.7500000001, 0);stroke:rgb(8.5000000002, 5.7500000001, 0);}#mermaid-svg .edge-thickness-normal{stroke-width:1px;}#mermaid-svg .edge-thickness-thick{stroke-width:3.5px;}#mermaid-svg .edge-pattern-solid{stroke-dasharray:0;}#mermaid-svg .edge-thickness-invisible{stroke-width:0;fill:none;}#mermaid-svg .edge-pattern-dashed{stroke-dasharray:3;}#mermaid-svg .edge-pattern-dotted{stroke-dasharray:2;}#mermaid-svg .marker{fill:red;stroke:red;}#mermaid-svg .marker.cross{stroke:red;}#mermaid-svg svg{font-family:\"trebuchet ms\",verdana,arial,sans-serif;font-size:16px;}#mermaid-svg p{margin:0;}#mermaid-svg g.classGroup text{fill:hsl(40.5882352941, 60%, 83.3333333333%);stroke:none;font-family:\"trebuchet ms\",verdana,arial,sans-serif;font-size:10px;}#mermaid-svg g.classGroup text .title{font-weight:bolder;}#mermaid-svg .nodeLabel,#mermaid-svg .edgeLabel{color:#333;}#mermaid-svg .edgeLabel .label rect{fill:#fff4dd;}#mermaid-svg .label text{fill:#333;}#mermaid-svg .labelBkg{background:#fff4dd;}#mermaid-svg .edgeLabel .label span{background:#fff4dd;}#mermaid-svg .classTitle{font-weight:bolder;}#mermaid-svg .node rect,#mermaid-svg .node circle,#mermaid-svg .node ellipse,#mermaid-svg .node polygon,#mermaid-svg .node path{fill:#fff4dd;stroke:hsl(40.5882352941, 60%, 83.3333333333%);stroke-width:1px;}#mermaid-svg .divider{stroke:hsl(40.5882352941, 60%, 83.3333333333%);stroke-width:1;}#mermaid-svg g.clickable{cursor:pointer;}#mermaid-svg g.classGroup rect{fill:#fff4dd;stroke:hsl(40.5882352941, 60%, 83.3333333333%);}#mermaid-svg g.classGroup line{stroke:hsl(40.5882352941, 60%, 83.3333333333%);stroke-width:1;}#mermaid-svg .classLabel .box{stroke:none;stroke-width:0;fill:#fff4dd;opacity:0.5;}#mermaid-svg .classLabel .label{fill:hsl(40.5882352941, 60%, 83.3333333333%);font-size:10px;}#mermaid-svg .relation{stroke:red;stroke-width:1;fill:none;}#mermaid-svg .dashed-line{stroke-dasharray:3;}#mermaid-svg .dotted-line{stroke-dasharray:1 2;}#mermaid-svg #compositionStart,#mermaid-svg .composition{fill:red!important;stroke:red!important;stroke-width:1;}#mermaid-svg #compositionEnd,#mermaid-svg .composition{fill:red!important;stroke:red!important;stroke-width:1;}#mermaid-svg #dependencyStart,#mermaid-svg .dependency{fill:red!important;stroke:red!important;stroke-width:1;}#mermaid-svg #dependencyStart,#mermaid-svg .dependency{fill:red!important;stroke:red!important;stroke-width:1;}#mermaid-svg #extensionStart,#mermaid-svg .extension{fill:transparent!important;stroke:red!important;stroke-width:1;}#mermaid-svg #extensionEnd,#mermaid-svg .extension{fill:transparent!important;stroke:red!important;stroke-width:1;}#mermaid-svg #aggregationStart,#mermaid-svg .aggregation{fill:transparent!important;stroke:red!important;stroke-width:1;}#mermaid-svg #aggregationEnd,#mermaid-svg .aggregation{fill:transparent!important;stroke:red!important;stroke-width:1;}#mermaid-svg #lollipopStart,#mermaid-svg .lollipop{fill:#fff4dd!important;stroke:red!important;stroke-width:1;}#mermaid-svg #lollipopEnd,#mermaid-svg .lollipop{fill:#fff4dd!important;stroke:red!important;stroke-width:1;}#mermaid-svg .edgeTerminals{font-size:11px;line-height:initial;}#mermaid-svg .classTitleText{text-anchor:middle;font-size:18px;fill:#333;}#mermaid-svg :root{--mermaid-font-family:\"trebuchet ms\",verdana,arial,sans-serif;}#mermaid-svg .Element&gt;*{fill:lime!important;}#mermaid-svg .Element span{fill:lime!important;}#mermaid-svg .Figure&gt;*{fill:lightblue!important;}#mermaid-svg .Figure span{fill:lightblue!important;}#mermaid-svg .Table&gt;*{fill:lightblue!important;}#mermaid-svg .Table span{fill:lightblue!important;}#mermaid-svg .Paragraph&gt;*{fill:lightblue!important;}#mermaid-svg .Paragraph span{fill:lightblue!important;}#mermaid-svg .Markdown&gt;*{fill:yellow!important;}#mermaid-svg .Markdown span{fill:yellow!important;}#mermaid-svg .Section&gt;*{fill:fuchsia!important;}#mermaid-svg .Section span{fill:fuchsia!important;}</style><g><defs><marker id=\"mermaid-svg_class-aggregationStart\" class=\"marker aggregation class\" refX=\"18\" refY=\"7\" markerWidth=\"190\" markerHeight=\"240\" orient=\"auto\"><path d=\"M 18,7 L9,13 L1,7 L9,1 Z\"/></marker></defs><defs><marker id=\"mermaid-svg_class-aggregationEnd\" class=\"marker aggregation class\" refX=\"1\" refY=\"7\" markerWidth=\"20\" markerHeight=\"28\" orient=\"auto\"><path d=\"M 18,7 L9,13 L1,7 L9,1 Z\"/></marker></defs><defs><marker id=\"mermaid-svg_class-extensionStart\" class=\"marker extension class\" refX=\"18\" refY=\"7\" markerWidth=\"190\" markerHeight=\"240\" orient=\"auto\"><path d=\"M 1,7 L18,13 V 1 Z\"/></marker></defs><defs><marker id=\"mermaid-svg_class-extensionEnd\" class=\"marker extension class\" refX=\"1\" refY=\"7\" markerWidth=\"20\" markerHeight=\"28\" orient=\"auto\"><path d=\"M 1,1 V 13 L18,7 Z\"/></marker></defs><defs><marker id=\"mermaid-svg_class-compositionStart\" class=\"marker composition class\" refX=\"18\" refY=\"7\" markerWidth=\"190\" markerHeight=\"240\" orient=\"auto\"><path d=\"M 18,7 L9,13 L1,7 L9,1 Z\"/></marker></defs><defs><marker id=\"mermaid-svg_class-compositionEnd\" class=\"marker composition class\" refX=\"1\" refY=\"7\" markerWidth=\"20\" markerHeight=\"28\" orient=\"auto\"><path d=\"M 18,7 L9,13 L1,7 L9,1 Z\"/></marker></defs><defs><marker id=\"mermaid-svg_class-dependencyStart\" class=\"marker dependency class\" refX=\"6\" refY=\"7\" markerWidth=\"190\" markerHeight=\"240\" orient=\"auto\"><path d=\"M 5,7 L9,13 L1,7 L9,1 Z\"/></marker></defs><defs><marker id=\"mermaid-svg_class-dependencyEnd\" class=\"marker dependency class\" refX=\"13\" refY=\"7\" markerWidth=\"20\" markerHeight=\"28\" orient=\"auto\"><path d=\"M 18,7 L9,13 L14,7 L9,1 Z\"/></marker></defs><defs><marker id=\"mermaid-svg_class-lollipopStart\" class=\"marker lollipop class\" refX=\"13\" refY=\"7\" markerWidth=\"190\" markerHeight=\"240\" orient=\"auto\"><circle stroke=\"black\" fill=\"transparent\" cx=\"7\" cy=\"7\" r=\"6\"/></marker></defs><defs><marker id=\"mermaid-svg_class-lollipopEnd\" class=\"marker lollipop class\" refX=\"1\" refY=\"7\" markerWidth=\"190\" markerHeight=\"240\" orient=\"auto\"><circle stroke=\"black\" fill=\"transparent\" cx=\"7\" cy=\"7\" r=\"6\"/></marker></defs><g class=\"root\"><g class=\"clusters\"/><g class=\"edgePaths\"><path d=\"M357.98,486L357.98,487.167C357.98,488.333,357.98,490.667,357.98,496C357.98,501.333,357.98,509.667,357.98,513.833L357.98,518\" id=\"id_Element_Figure_1\" class=\" edge-thickness-normal edge-pattern-solid relation\" style=\";\" marker-start=\"url(#mermaid-svg_class-extensionStart)\"/><path d=\"M97.297,146L97.297,147.167C97.297,148.333,97.297,150.667,97.297,156C97.297,161.333,97.297,169.667,97.297,173.833L97.297,178\" id=\"id_Cell_Column_2\" class=\" edge-thickness-normal edge-pattern-solid relation\" style=\";\" marker-start=\"url(#mermaid-svg_class-compositionStart)\"/><path d=\"M97.297,316L97.297,317.167C97.297,318.333,97.297,320.667,97.297,326C97.297,331.333,97.297,339.667,97.297,343.833L97.297,348\" id=\"id_Column_Row_3\" class=\" edge-thickness-normal edge-pattern-solid relation\" style=\";\" marker-start=\"url(#mermaid-svg_class-compositionStart)\"/><path d=\"M97.297,486L97.297,487.167C97.297,488.333,97.297,490.667,97.787,496C98.277,501.333,99.258,509.667,99.748,513.833L100.238,518\" id=\"id_Row_Table_4\" class=\" edge-thickness-normal edge-pattern-solid relation\" style=\";\" marker-start=\"url(#mermaid-svg_class-compositionStart)\"/><path d=\"M260.495,469.225L254.186,473.187C247.876,477.15,235.258,485.075,223.294,493.204C211.331,501.333,200.023,509.667,194.369,513.833L188.715,518\" id=\"id_Element_Table_5\" class=\" edge-thickness-normal edge-pattern-solid relation\" style=\";\" marker-start=\"url(#mermaid-svg_class-extensionStart)\"/><path d=\"M457.216,442.651L481.248,451.043C505.28,459.434,553.343,476.217,577.375,488.775C601.406,501.333,601.406,509.667,601.406,513.833L601.406,518\" id=\"id_Element_Paragraph_6\" class=\" edge-thickness-normal edge-pattern-solid relation\" style=\";\" marker-start=\"url(#mermaid-svg_class-extensionStart)\"/><path d=\"M107.297,656L107.297,657.167C107.297,658.333,107.297,660.667,110.623,666C113.95,671.333,120.603,679.667,123.929,683.833L127.256,688\" id=\"id_Table_Section_7\" class=\" edge-thickness-normal edge-pattern-solid relation\" style=\";\" marker-start=\"url(#mermaid-svg_class-compositionStart)\"/><path d=\"M357.98,656L357.98,657.167C357.98,658.333,357.98,660.667,354.654,666C351.328,671.333,344.675,679.667,341.348,683.833L338.022,688\" id=\"id_Figure_Section_8\" class=\" edge-thickness-normal edge-pattern-solid relation\" style=\";\" marker-start=\"url(#mermaid-svg_class-compositionStart)\"/><path d=\"M215.907,969.889L215.775,971.074C215.643,972.259,215.378,974.63,215.246,979.981C215.114,985.333,215.114,993.667,215.114,997.833L215.114,1002\" id=\"Section-cyclic-special-1\" class=\" edge-thickness-normal edge-pattern-solid relation\" style=\";\" marker-start=\"url(#mermaid-svg_class-compositionStart)\"/><path d=\"M215.114,1002.1L215.114,1006.267C215.114,1010.433,215.114,1018.767,218.029,1027.1C220.944,1035.433,226.774,1043.767,229.689,1047.933L232.604,1052.1\" id=\"Section-cyclic-special-mid\" class=\" edge-thickness-normal edge-pattern-solid relation\" style=\";\"/><path d=\"M232.674,1052.1L235.589,1047.933C238.504,1043.767,244.334,1035.433,247.249,1027.092C250.164,1018.75,250.164,1010.4,250.164,1002.05C250.164,993.7,250.164,985.35,249.699,977.008C249.233,968.667,248.303,960.333,247.838,956.167L247.373,952\" id=\"Section-cyclic-special-2\" class=\" edge-thickness-normal edge-pattern-solid relation\" style=\";\"/></g><g class=\"edgeLabels\"><g class=\"edgeLabel\"><g class=\"label\" transform=\"translate(0, -12)\"><foreignObject width=\"0\" height=\"24\"><div style=\"display: table-cell; white-space: nowrap; line-height: 1.5; max-width: 200px; text-align: center;\" xmlns=\"http://www.w3.org/1999/xhtml\" class=\"labelBkg\"><span style=\";display: inline-block\" class=\"edgeLabel \"></span></div></foreignObject></g></g><g class=\"edgeLabel\"><g class=\"label\" transform=\"translate(0, -12)\"><foreignObject width=\"0\" height=\"24\"><div style=\"display: table-cell; white-space: nowrap; line-height: 1.5; max-width: 200px; text-align: center;\" xmlns=\"http://www.w3.org/1999/xhtml\" class=\"labelBkg\"><span style=\";display: inline-block\" class=\"edgeLabel \"></span></div></foreignObject></g></g><g class=\"edgeLabel\"><g class=\"label\" transform=\"translate(0, -12)\"><foreignObject width=\"0\" height=\"24\"><div style=\"display: table-cell; white-space: nowrap; line-height: 1.5; max-width: 200px; text-align: center;\" xmlns=\"http://www.w3.org/1999/xhtml\" class=\"labelBkg\"><span style=\";display: inline-block\" class=\"edgeLabel \"></span></div></foreignObject></g></g><g class=\"edgeLabel\"><g class=\"label\" transform=\"translate(0, -12)\"><foreignObject width=\"0\" height=\"24\"><div style=\"display: table-cell; white-space: nowrap; line-height: 1.5; max-width: 200px; text-align: center;\" xmlns=\"http://www.w3.org/1999/xhtml\" class=\"labelBkg\"><span style=\";display: inline-block\" class=\"edgeLabel \"></span></div></foreignObject></g></g><g class=\"edgeLabel\"><g class=\"label\" transform=\"translate(0, -12)\"><foreignObject width=\"0\" height=\"24\"><div style=\"display: table-cell; white-space: nowrap; line-height: 1.5; max-width: 200px; text-align: center;\" xmlns=\"http://www.w3.org/1999/xhtml\" class=\"labelBkg\"><span style=\";display: inline-block\" class=\"edgeLabel \"></span></div></foreignObject></g></g><g class=\"edgeLabel\"><g class=\"label\" transform=\"translate(0, -12)\"><foreignObject width=\"0\" height=\"24\"><div style=\"display: table-cell; white-space: nowrap; line-height: 1.5; max-width: 200px; text-align: center;\" xmlns=\"http://www.w3.org/1999/xhtml\" class=\"labelBkg\"><span style=\";display: inline-block\" class=\"edgeLabel \"></span></div></foreignObject></g></g><g class=\"edgeLabel\"><g class=\"label\" transform=\"translate(0, -12)\"><foreignObject width=\"0\" height=\"24\"><div style=\"display: table-cell; white-space: nowrap; line-height: 1.5; max-width: 200px; text-align: center;\" xmlns=\"http://www.w3.org/1999/xhtml\" class=\"labelBkg\"><span style=\";display: inline-block\" class=\"edgeLabel \"></span></div></foreignObject></g></g><g class=\"edgeLabel\"><g class=\"label\" transform=\"translate(0, -12)\"><foreignObject width=\"0\" height=\"24\"><div style=\"display: table-cell; white-space: nowrap; line-height: 1.5; max-width: 200px; text-align: center;\" xmlns=\"http://www.w3.org/1999/xhtml\" class=\"labelBkg\"><span style=\";display: inline-block\" class=\"edgeLabel \"></span></div></foreignObject></g></g><g class=\"edgeLabel\"><g class=\"label\" transform=\"translate(0, -12)\"><foreignObject width=\"0\" height=\"24\"><div style=\"display: table-cell; white-space: nowrap; line-height: 1.5; max-width: 200px; text-align: center;\" xmlns=\"http://www.w3.org/1999/xhtml\" class=\"labelBkg\"><span style=\";display: inline-block\" class=\"edgeLabel \"></span></div></foreignObject></g></g><g class=\"edgeLabel\"><g class=\"label\" transform=\"translate(0, -12)\"><foreignObject width=\"0\" height=\"24\"><div style=\"display: table-cell; white-space: nowrap; line-height: 1.5; max-width: 200px; text-align: center;\" xmlns=\"http://www.w3.org/1999/xhtml\" class=\"labelBkg\"><span style=\";display: inline-block\" class=\"edgeLabel \"></span></div></foreignObject></g></g><g class=\"edgeLabel\"><g class=\"label\" transform=\"translate(0, -12)\"><foreignObject width=\"0\" height=\"24\"><div style=\"display: table-cell; white-space: nowrap; line-height: 1.5; max-width: 200px; text-align: center;\" xmlns=\"http://www.w3.org/1999/xhtml\" class=\"labelBkg\"><span style=\";display: inline-block\" class=\"edgeLabel \"></span></div></foreignObject></g></g></g><g class=\"nodes\"><g class=\"node default \" id=\"classId-Element-0\" transform=\"translate(357.98046875, 408)\"><g class=\"basic label-container\"><path d=\"M-82.2421875 -60 L82.2421875 -60 L82.2421875 60 L-82.2421875 60\" stroke=\"none\" stroke-width=\"0\" fill=\"lime\" style=\"fill:lime\"/><path d=\"M-82.2421875 -60 C-38.572323446600116 -60, 5.097540606799768 -60, 82.2421875 -60 M-82.2421875 -60 C-19.241347836215212 -60, 43.759491827569576 -60, 82.2421875 -60 M82.2421875 -60 C82.2421875 -24.75857196990654, 82.2421875 10.482856060186919, 82.2421875 60 M82.2421875 -60 C82.2421875 -28.9964337773132, 82.2421875 2.0071324453735997, 82.2421875 60 M82.2421875 60 C42.80352650693293 60, 3.3648655138658654 60, -82.2421875 60 M82.2421875 60 C20.201650186150452 60, -41.838887127699095 60, -82.2421875 60 M-82.2421875 60 C-82.2421875 35.303202895843555, -82.2421875 10.606405791687116, -82.2421875 -60 M-82.2421875 60 C-82.2421875 32.90108911698223, -82.2421875 5.8021782339644545, -82.2421875 -60\" stroke=\"hsl(40.5882352941, 60%, 83.3333333333%)\" stroke-width=\"1.3\" fill=\"none\" style=\"fill:lime\"/></g><g class=\"annotation-group text\" transform=\"translate(0, -36)\"/><g class=\"label-group text\" transform=\"translate(-31.125, -36)\"><g class=\"label\" style=\"font-weight: bolder\" transform=\"translate(0,-12)\"><foreignObject width=\"62.25\" height=\"24\"><div xmlns=\"http://www.w3.org/1999/xhtml\" style=\"display: table-cell; white-space: nowrap; line-height: 1.5; max-width: 104px; text-align: center;\"><span class=\"nodeLabel markdown-node-label\" style=\"fill:lime\"><p>Element</p></span></div></foreignObject></g></g><g class=\"members-group text\" transform=\"translate(-70.2421875, 12)\"><g class=\"label\" style=\"\" transform=\"translate(0,-12)\"><foreignObject width=\"109.359375\" height=\"24\"><div xmlns=\"http://www.w3.org/1999/xhtml\" style=\"display: table-cell; white-space: nowrap; line-height: 1.5; max-width: 150px; text-align: center;\"><span class=\"nodeLabel markdown-node-label\" style=\"fill:lime\"><p>string summary</p></span></div></foreignObject></g></g><g class=\"methods-group text\" transform=\"translate(-70.2421875, 60)\"/><g class=\"divider\" style=\"fill:lime\"><path d=\"M-82.2421875 -12 C-33.110918494554895 -12, 16.02035051089021 -12, 82.2421875 -12 M-82.2421875 -12 C-28.035646838840115 -12, 26.17089382231977 -12, 82.2421875 -12\" stroke=\"hsl(40.5882352941, 60%, 83.3333333333%)\" stroke-width=\"1.3\" fill=\"none\" style=\"fill:lime\"/></g><g class=\"divider\" style=\"fill:lime\"><path d=\"M-82.2421875 36 C-37.44956906356894 36, 7.343049372862126 36, 82.2421875 36 M-82.2421875 36 C-45.82338066010293 36, -9.404573820205854 36, 82.2421875 36\" stroke=\"hsl(40.5882352941, 60%, 83.3333333333%)\" stroke-width=\"1.3\" fill=\"none\" style=\"fill:lime\"/></g></g><g class=\"node default \" id=\"classId-Figure-1\" transform=\"translate(357.98046875, 578)\"><g class=\"basic label-container\"><path d=\"M-101.38671875 -60 L101.38671875 -60 L101.38671875 60 L-101.38671875 60\" stroke=\"none\" stroke-width=\"0\" fill=\"lightblue\" style=\"fill:lightblue\"/><path d=\"M-101.38671875 -60 C-27.372259679977276 -60, 46.64219939004545 -60, 101.38671875 -60 M-101.38671875 -60 C-22.15709622839624 -60, 57.07252629320752 -60, 101.38671875 -60 M101.38671875 -60 C101.38671875 -23.020446948118618, 101.38671875 13.959106103762764, 101.38671875 60 M101.38671875 -60 C101.38671875 -24.098067735538677, 101.38671875 11.803864528922645, 101.38671875 60 M101.38671875 60 C53.830952249371734 60, 6.275185748743468 60, -101.38671875 60 M101.38671875 60 C47.71481334034919 60, -5.957092069301623 60, -101.38671875 60 M-101.38671875 60 C-101.38671875 15.72944170949539, -101.38671875 -28.54111658100922, -101.38671875 -60 M-101.38671875 60 C-101.38671875 17.402684237515487, -101.38671875 -25.194631524969026, -101.38671875 -60\" stroke=\"hsl(40.5882352941, 60%, 83.3333333333%)\" stroke-width=\"1.3\" fill=\"none\" style=\"fill:lightblue\"/></g><g class=\"annotation-group text\" transform=\"translate(0, -36)\"/><g class=\"label-group text\" transform=\"translate(-64.9140625, -36)\"><g class=\"label\" style=\"font-weight: bolder\" transform=\"translate(0,-12)\"><foreignObject width=\"129.828125\" height=\"24\"><div xmlns=\"http://www.w3.org/1999/xhtml\" style=\"display: table-cell; white-space: nowrap; line-height: 1.5; max-width: 200px; text-align: center;\"><span class=\"nodeLabel markdown-node-label\" style=\"fill:lightblue\"><p>Figure&lt;Element&gt;</p></span></div></foreignObject></g></g><g class=\"members-group text\" transform=\"translate(-89.38671875, 12)\"><g class=\"label\" style=\"\" transform=\"translate(0,-12)\"><foreignObject width=\"113.859375\" height=\"24\"><div xmlns=\"http://www.w3.org/1999/xhtml\" style=\"display: table-cell; white-space: nowrap; line-height: 1.5; max-width: 149px; text-align: center;\"><span class=\"nodeLabel markdown-node-label\" style=\"fill:lightblue\"><p>base64 rawdata</p></span></div></foreignObject></g></g><g class=\"methods-group text\" transform=\"translate(-89.38671875, 60)\"/><g class=\"divider\" style=\"fill:lightblue\"><path d=\"M-101.38671875 -12 C-53.30315562666285 -12, -5.2195925033257 -12, 101.38671875 -12 M-101.38671875 -12 C-53.22630511064976 -12, -5.065891471299523 -12, 101.38671875 -12\" stroke=\"hsl(40.5882352941, 60%, 83.3333333333%)\" stroke-width=\"1.3\" fill=\"none\" style=\"fill:lightblue\"/></g><g class=\"divider\" style=\"fill:lightblue\"><path d=\"M-101.38671875 36 C-22.353014968017106 36, 56.68068881396579 36, 101.38671875 36 M-101.38671875 36 C-44.53490944238538 36, 12.316899865229246 36, 101.38671875 36\" stroke=\"hsl(40.5882352941, 60%, 83.3333333333%)\" stroke-width=\"1.3\" fill=\"none\" style=\"fill:lightblue\"/></g></g><g class=\"node default \" id=\"classId-Cell-2\" transform=\"translate(97.296875, 68)\"><g class=\"basic label-container\"><path d=\"M-45.125 -60 L45.125 -60 L45.125 60 L-45.125 60\" stroke=\"none\" stroke-width=\"0\" fill=\"#fff4dd\" style=\"\"/><path d=\"M-45.125 -60 C-23.171301435444988 -60, -1.2176028708899764 -60, 45.125 -60 M-45.125 -60 C-22.10244036152661 -60, 0.9201192769467781 -60, 45.125 -60 M45.125 -60 C45.125 -17.339573358547966, 45.125 25.320853282904068, 45.125 60 M45.125 -60 C45.125 -20.832531666893118, 45.125 18.334936666213764, 45.125 60 M45.125 60 C19.230662821262122 60, -6.663674357475756 60, -45.125 60 M45.125 60 C10.659084161481893 60, -23.806831677036215 60, -45.125 60 M-45.125 60 C-45.125 14.542413611422859, -45.125 -30.915172777154282, -45.125 -60 M-45.125 60 C-45.125 12.457570052953983, -45.125 -35.084859894092034, -45.125 -60\" stroke=\"hsl(40.5882352941, 60%, 83.3333333333%)\" stroke-width=\"1.3\" fill=\"none\" style=\"\"/></g><g class=\"annotation-group text\" transform=\"translate(0, -36)\"/><g class=\"label-group text\" transform=\"translate(-14.671875, -36)\"><g class=\"label\" style=\"font-weight: bolder\" transform=\"translate(0,-12)\"><foreignObject width=\"29.34375\" height=\"24\"><div xmlns=\"http://www.w3.org/1999/xhtml\" style=\"display: table-cell; white-space: nowrap; line-height: 1.5; max-width: 77px; text-align: center;\"><span class=\"nodeLabel markdown-node-label\" style=\"\"><p>Cell</p></span></div></foreignObject></g></g><g class=\"members-group text\" transform=\"translate(-33.125, 12)\"><g class=\"label\" style=\"\" transform=\"translate(0,-12)\"><foreignObject width=\"51.578125\" height=\"24\"><div xmlns=\"http://www.w3.org/1999/xhtml\" style=\"display: table-cell; white-space: nowrap; line-height: 1.5; max-width: 98px; text-align: center;\"><span class=\"nodeLabel markdown-node-label\" style=\"\"><p>string c</p></span></div></foreignObject></g></g><g class=\"methods-group text\" transform=\"translate(-33.125, 60)\"/><g class=\"divider\" style=\"\"><path d=\"M-45.125 -12 C-12.993566289731284 -12, 19.137867420537432 -12, 45.125 -12 M-45.125 -12 C-26.825080892888693 -12, -8.525161785777385 -12, 45.125 -12\" stroke=\"hsl(40.5882352941, 60%, 83.3333333333%)\" stroke-width=\"1.3\" fill=\"none\" style=\"\"/></g><g class=\"divider\" style=\"\"><path d=\"M-45.125 36 C-21.031902501412773 36, 3.0611949971744536 36, 45.125 36 M-45.125 36 C-12.106024031486015 36, 20.91295193702797 36, 45.125 36\" stroke=\"hsl(40.5882352941, 60%, 83.3333333333%)\" stroke-width=\"1.3\" fill=\"none\" style=\"\"/></g></g><g class=\"node default \" id=\"classId-Column-3\" transform=\"translate(97.296875, 238)\"><g class=\"basic label-container\"><path d=\"M-80.69140625 -60 L80.69140625 -60 L80.69140625 60 L-80.69140625 60\" stroke=\"none\" stroke-width=\"0\" fill=\"#fff4dd\" style=\"\"/><path d=\"M-80.69140625 -60 C-39.197942136017915 -60, 2.295521977964171 -60, 80.69140625 -60 M-80.69140625 -60 C-31.306855740297806 -60, 18.07769476940439 -60, 80.69140625 -60 M80.69140625 -60 C80.69140625 -21.755366176739543, 80.69140625 16.489267646520915, 80.69140625 60 M80.69140625 -60 C80.69140625 -22.824144482499996, 80.69140625 14.351711035000008, 80.69140625 60 M80.69140625 60 C43.29549755934786 60, 5.899588868695716 60, -80.69140625 60 M80.69140625 60 C29.532122273199533 60, -21.627161703600933 60, -80.69140625 60 M-80.69140625 60 C-80.69140625 35.56682810584695, -80.69140625 11.13365621169391, -80.69140625 -60 M-80.69140625 60 C-80.69140625 16.661306643750393, -80.69140625 -26.677386712499214, -80.69140625 -60\" stroke=\"hsl(40.5882352941, 60%, 83.3333333333%)\" stroke-width=\"1.3\" fill=\"none\" style=\"\"/></g><g class=\"annotation-group text\" transform=\"translate(0, -36)\"/><g class=\"label-group text\" transform=\"translate(-29.7734375, -36)\"><g class=\"label\" style=\"font-weight: bolder\" transform=\"translate(0,-12)\"><foreignObject width=\"59.546875\" height=\"24\"><div xmlns=\"http://www.w3.org/1999/xhtml\" style=\"display: table-cell; white-space: nowrap; line-height: 1.5; max-width: 102px; text-align: center;\"><span class=\"nodeLabel markdown-node-label\" style=\"\"><p>Column</p></span></div></foreignObject></g></g><g class=\"members-group text\" transform=\"translate(-68.69140625, 12)\"><g class=\"label\" style=\"\" transform=\"translate(0,-12)\"><foreignObject width=\"107.609375\" height=\"24\"><div xmlns=\"http://www.w3.org/1999/xhtml\" style=\"display: table-cell; white-space: nowrap; line-height: 1.5; max-width: 190px; text-align: center;\"><span class=\"nodeLabel markdown-node-label\" style=\"\"><p>List&lt;Cell&gt; cells</p></span></div></foreignObject></g></g><g class=\"methods-group text\" transform=\"translate(-68.69140625, 60)\"/><g class=\"divider\" style=\"\"><path d=\"M-80.69140625 -12 C-28.0582259085946 -12, 24.5749544328108 -12, 80.69140625 -12 M-80.69140625 -12 C-18.486562619992974 -12, 43.71828101001405 -12, 80.69140625 -12\" stroke=\"hsl(40.5882352941, 60%, 83.3333333333%)\" stroke-width=\"1.3\" fill=\"none\" style=\"\"/></g><g class=\"divider\" style=\"\"><path d=\"M-80.69140625 36 C-18.744135425784535 36, 43.20313539843093 36, 80.69140625 36 M-80.69140625 36 C-16.15933289831905 36, 48.3727404533619 36, 80.69140625 36\" stroke=\"hsl(40.5882352941, 60%, 83.3333333333%)\" stroke-width=\"1.3\" fill=\"none\" style=\"\"/></g></g><g class=\"node default \" id=\"classId-Row-4\" transform=\"translate(97.296875, 408)\"><g class=\"basic label-container\"><path d=\"M-86.2578125 -60 L86.2578125 -60 L86.2578125 60 L-86.2578125 60\" stroke=\"none\" stroke-width=\"0\" fill=\"#fff4dd\" style=\"\"/><path d=\"M-86.2578125 -60 C-39.43600749070788 -60, 7.385797518584241 -60, 86.2578125 -60 M-86.2578125 -60 C-27.143167218151028 -60, 31.971478063697944 -60, 86.2578125 -60 M86.2578125 -60 C86.2578125 -20.009599606725068, 86.2578125 19.980800786549864, 86.2578125 60 M86.2578125 -60 C86.2578125 -15.39908753408131, 86.2578125 29.20182493183738, 86.2578125 60 M86.2578125 60 C49.30936854915961 60, 12.360924598319215 60, -86.2578125 60 M86.2578125 60 C24.210554169564716 60, -37.83670416087057 60, -86.2578125 60 M-86.2578125 60 C-86.2578125 34.95536007095889, -86.2578125 9.910720141917785, -86.2578125 -60 M-86.2578125 60 C-86.2578125 26.31048831320075, -86.2578125 -7.3790233735985, -86.2578125 -60\" stroke=\"hsl(40.5882352941, 60%, 83.3333333333%)\" stroke-width=\"1.3\" fill=\"none\" style=\"\"/></g><g class=\"annotation-group text\" transform=\"translate(0, -36)\"/><g class=\"label-group text\" transform=\"translate(-16.890625, -36)\"><g class=\"label\" style=\"font-weight: bolder\" transform=\"translate(0,-12)\"><foreignObject width=\"33.78125\" height=\"24\"><div xmlns=\"http://www.w3.org/1999/xhtml\" style=\"display: table-cell; white-space: nowrap; line-height: 1.5; max-width: 81px; text-align: center;\"><span class=\"nodeLabel markdown-node-label\" style=\"\"><p>Row</p></span></div></foreignObject></g></g><g class=\"members-group text\" transform=\"translate(-74.2578125, 12)\"><g class=\"label\" style=\"\" transform=\"translate(0,-12)\"><foreignObject width=\"131.625\" height=\"24\"><div xmlns=\"http://www.w3.org/1999/xhtml\" style=\"display: table-cell; white-space: nowrap; line-height: 1.5; max-width: 211px; text-align: center;\"><span class=\"nodeLabel markdown-node-label\" style=\"\"><p>List&lt;Column&gt; cols</p></span></div></foreignObject></g></g><g class=\"methods-group text\" transform=\"translate(-74.2578125, 60)\"/><g class=\"divider\" style=\"\"><path d=\"M-86.2578125 -12 C-26.294388449320486 -12, 33.66903560135903 -12, 86.2578125 -12 M-86.2578125 -12 C-38.20346372982306 -12, 9.850885040353873 -12, 86.2578125 -12\" stroke=\"hsl(40.5882352941, 60%, 83.3333333333%)\" stroke-width=\"1.3\" fill=\"none\" style=\"\"/></g><g class=\"divider\" style=\"\"><path d=\"M-86.2578125 36 C-47.57144303635062 36, -8.885073572701245 36, 86.2578125 36 M-86.2578125 36 C-29.554857278836934 36, 27.14809794232613 36, 86.2578125 36\" stroke=\"hsl(40.5882352941, 60%, 83.3333333333%)\" stroke-width=\"1.3\" fill=\"none\" style=\"\"/></g></g><g class=\"node default \" id=\"classId-Table-5\" transform=\"translate(107.296875, 578)\"><g class=\"basic label-container\"><path d=\"M-99.296875 -60 L99.296875 -60 L99.296875 60 L-99.296875 60\" stroke=\"none\" stroke-width=\"0\" fill=\"lightblue\" style=\"fill:lightblue\"/><path d=\"M-99.296875 -60 C-22.095882796920364 -60, 55.10510940615927 -60, 99.296875 -60 M-99.296875 -60 C-24.834710941896347 -60, 49.627453116207306 -60, 99.296875 -60 M99.296875 -60 C99.296875 -25.61140363985256, 99.296875 8.777192720294877, 99.296875 60 M99.296875 -60 C99.296875 -20.854184001674902, 99.296875 18.291631996650196, 99.296875 60 M99.296875 60 C55.2354811429054 60, 11.1740872858108 60, -99.296875 60 M99.296875 60 C39.18279024926376 60, -20.93129450147248 60, -99.296875 60 M-99.296875 60 C-99.296875 30.96043331389566, -99.296875 1.9208666277913196, -99.296875 -60 M-99.296875 60 C-99.296875 26.845161752506385, -99.296875 -6.3096764949872295, -99.296875 -60\" stroke=\"hsl(40.5882352941, 60%, 83.3333333333%)\" stroke-width=\"1.3\" fill=\"none\" style=\"fill:lightblue\"/></g><g class=\"annotation-group text\" transform=\"translate(0, -36)\"/><g class=\"label-group text\" transform=\"translate(-60.765625, -36)\"><g class=\"label\" style=\"font-weight: bolder\" transform=\"translate(0,-12)\"><foreignObject width=\"121.53125\" height=\"24\"><div xmlns=\"http://www.w3.org/1999/xhtml\" style=\"display: table-cell; white-space: nowrap; line-height: 1.5; max-width: 194px; text-align: center;\"><span class=\"nodeLabel markdown-node-label\" style=\"fill:lightblue\"><p>Table&lt;Element&gt;</p></span></div></foreignObject></g></g><g class=\"members-group text\" transform=\"translate(-87.296875, 12)\"><g class=\"label\" style=\"\" transform=\"translate(0,-12)\"><foreignObject width=\"113.828125\" height=\"24\"><div xmlns=\"http://www.w3.org/1999/xhtml\" style=\"display: table-cell; white-space: nowrap; line-height: 1.5; max-width: 195px; text-align: center;\"><span class=\"nodeLabel markdown-node-label\" style=\"fill:lightblue\"><p>List&lt;Row&gt; rows</p></span></div></foreignObject></g></g><g class=\"methods-group text\" transform=\"translate(-87.296875, 60)\"/><g class=\"divider\" style=\"fill:lightblue\"><path d=\"M-99.296875 -12 C-21.43471810200019 -12, 56.42743879599962 -12, 99.296875 -12 M-99.296875 -12 C-52.40054809318955 -12, -5.504221186379098 -12, 99.296875 -12\" stroke=\"hsl(40.5882352941, 60%, 83.3333333333%)\" stroke-width=\"1.3\" fill=\"none\" style=\"fill:lightblue\"/></g><g class=\"divider\" style=\"fill:lightblue\"><path d=\"M-99.296875 36 C-26.227447481339198 36, 46.841980037321605 36, 99.296875 36 M-99.296875 36 C-42.10550797949764 36, 15.085859041004724 36, 99.296875 36\" stroke=\"hsl(40.5882352941, 60%, 83.3333333333%)\" stroke-width=\"1.3\" fill=\"none\" style=\"fill:lightblue\"/></g></g><g class=\"node default \" id=\"classId-Paragraph-6\" transform=\"translate(601.40625, 578)\"><g class=\"basic label-container\"><path d=\"M-92.0390625 -60 L92.0390625 -60 L92.0390625 60 L-92.0390625 60\" stroke=\"none\" stroke-width=\"0\" fill=\"lightblue\" style=\"fill:lightblue\"/><path d=\"M-92.0390625 -60 C-29.41147523623406 -60, 33.21611202753188 -60, 92.0390625 -60 M-92.0390625 -60 C-21.86306516260676 -60, 48.31293217478648 -60, 92.0390625 -60 M92.0390625 -60 C92.0390625 -25.491761665731673, 92.0390625 9.016476668536654, 92.0390625 60 M92.0390625 -60 C92.0390625 -32.805849749570186, 92.0390625 -5.6116994991403715, 92.0390625 60 M92.0390625 60 C43.632628582967506 60, -4.773805334064988 60, -92.0390625 60 M92.0390625 60 C39.632405721574386 60, -12.774251056851227 60, -92.0390625 60 M-92.0390625 60 C-92.0390625 34.06122248042156, -92.0390625 8.122444960843126, -92.0390625 -60 M-92.0390625 60 C-92.0390625 32.59592727112077, -92.0390625 5.191854542241536, -92.0390625 -60\" stroke=\"hsl(40.5882352941, 60%, 83.3333333333%)\" stroke-width=\"1.3\" fill=\"none\" style=\"fill:lightblue\"/></g><g class=\"annotation-group text\" transform=\"translate(0, -36)\"/><g class=\"label-group text\" transform=\"translate(-80.0390625, -36)\"><g class=\"label\" style=\"font-weight: bolder\" transform=\"translate(0,-12)\"><foreignObject width=\"160.078125\" height=\"24\"><div xmlns=\"http://www.w3.org/1999/xhtml\" style=\"display: table-cell; white-space: nowrap; line-height: 1.5; max-width: 223px; text-align: center;\"><span class=\"nodeLabel markdown-node-label\" style=\"fill:lightblue\"><p>Paragraph&lt;Element&gt;</p></span></div></foreignObject></g></g><g class=\"members-group text\" transform=\"translate(-80.0390625, 12)\"><g class=\"label\" style=\"\" transform=\"translate(0,-12)\"><foreignObject width=\"69.359375\" height=\"24\"><div xmlns=\"http://www.w3.org/1999/xhtml\" style=\"display: table-cell; white-space: nowrap; line-height: 1.5; max-width: 115px; text-align: center;\"><span class=\"nodeLabel markdown-node-label\" style=\"fill:lightblue\"><p>string text</p></span></div></foreignObject></g></g><g class=\"methods-group text\" transform=\"translate(-80.0390625, 60)\"/><g class=\"divider\" style=\"fill:lightblue\"><path d=\"M-92.0390625 -12 C-45.48132870970714 -12, 1.0764050805857153 -12, 92.0390625 -12 M-92.0390625 -12 C-54.154103739300766 -12, -16.26914497860153 -12, 92.0390625 -12\" stroke=\"hsl(40.5882352941, 60%, 83.3333333333%)\" stroke-width=\"1.3\" fill=\"none\" style=\"fill:lightblue\"/></g><g class=\"divider\" style=\"fill:lightblue\"><path d=\"M-92.0390625 36 C-43.78987839764529 36, 4.459305704709422 36, 92.0390625 36 M-92.0390625 36 C-22.50844596953128 36, 47.02217056093744 36, 92.0390625 36\" stroke=\"hsl(40.5882352941, 60%, 83.3333333333%)\" stroke-width=\"1.3\" fill=\"none\" style=\"fill:lightblue\"/></g></g><g class=\"node default \" id=\"classId-Markdown-7\" transform=\"translate(243.984375, 68)\"><g class=\"basic label-container\"><path d=\"M-51.5625 -42 L51.5625 -42 L51.5625 42 L-51.5625 42\" stroke=\"none\" stroke-width=\"0\" fill=\"yellow\" style=\"fill:yellow\"/><path d=\"M-51.5625 -42 C-24.83058266586013 -42, 1.9013346682797376 -42, 51.5625 -42 M-51.5625 -42 C-29.15508838890476 -42, -6.747676777809517 -42, 51.5625 -42 M51.5625 -42 C51.5625 -9.82195558385294, 51.5625 22.35608883229412, 51.5625 42 M51.5625 -42 C51.5625 -24.251206059487917, 51.5625 -6.502412118975833, 51.5625 42 M51.5625 42 C17.82008026457123 42, -15.922339470857537 42, -51.5625 42 M51.5625 42 C25.82992533983344 42, 0.09735067966688149 42, -51.5625 42 M-51.5625 42 C-51.5625 13.971280752681167, -51.5625 -14.057438494637665, -51.5625 -42 M-51.5625 42 C-51.5625 18.968891133048857, -51.5625 -4.062217733902287, -51.5625 -42\" stroke=\"hsl(40.5882352941, 60%, 83.3333333333%)\" stroke-width=\"1.3\" fill=\"none\" style=\"fill:yellow\"/></g><g class=\"annotation-group text\" transform=\"translate(0, -18)\"/><g class=\"label-group text\" transform=\"translate(-39.5625, -18)\"><g class=\"label\" style=\"font-weight: bolder\" transform=\"translate(0,-12)\"><foreignObject width=\"79.125\" height=\"24\"><div xmlns=\"http://www.w3.org/1999/xhtml\" style=\"display: table-cell; white-space: nowrap; line-height: 1.5; max-width: 120px; text-align: center;\"><span class=\"nodeLabel markdown-node-label\" style=\"fill:yellow\"><p>Markdown</p></span></div></foreignObject></g></g><g class=\"members-group text\" transform=\"translate(-39.5625, 30)\"/><g class=\"methods-group text\" transform=\"translate(-39.5625, 60)\"/><g class=\"divider\" style=\"fill:yellow\"><path d=\"M-51.5625 6 C-10.970415696360426 6, 29.621668607279148 6, 51.5625 6 M-51.5625 6 C-19.06677080774608 6, 13.428958384507837 6, 51.5625 6\" stroke=\"hsl(40.5882352941, 60%, 83.3333333333%)\" stroke-width=\"1.3\" fill=\"none\" style=\"fill:yellow\"/></g><g class=\"divider\" style=\"fill:yellow\"><path d=\"M-51.5625 24 C-23.393491419524967 24, 4.775517160950066 24, 51.5625 24 M-51.5625 24 C-15.372429463015266 24, 20.81764107396947 24, 51.5625 24\" stroke=\"hsl(40.5882352941, 60%, 83.3333333333%)\" stroke-width=\"1.3\" fill=\"none\" style=\"fill:yellow\"/></g></g><g class=\"node default \" id=\"classId-Section-8\" transform=\"translate(232.638671875, 820)\"><g class=\"basic label-container\"><path d=\"M-153.203125 -132 L153.203125 -132 L153.203125 132 L-153.203125 132\" stroke=\"none\" stroke-width=\"0\" fill=\"fuchsia\" style=\"fill:fuchsia\"/><path d=\"M-153.203125 -132 C-67.72820503760174 -132, 17.74671492479652 -132, 153.203125 -132 M-153.203125 -132 C-67.09913076293499 -132, 19.00486347413002 -132, 153.203125 -132 M153.203125 -132 C153.203125 -27.329144524718757, 153.203125 77.34171095056249, 153.203125 132 M153.203125 -132 C153.203125 -49.21218841479734, 153.203125 33.57562317040532, 153.203125 132 M153.203125 132 C46.95300597937958 132, -59.297113041240834 132, -153.203125 132 M153.203125 132 C57.043815298507084 132, -39.11549440298583 132, -153.203125 132 M-153.203125 132 C-153.203125 64.33147624989282, -153.203125 -3.337047500214368, -153.203125 -132 M-153.203125 132 C-153.203125 38.76580270030723, -153.203125 -54.46839459938553, -153.203125 -132\" stroke=\"hsl(40.5882352941, 60%, 83.3333333333%)\" stroke-width=\"1.3\" fill=\"none\" style=\"fill:fuchsia\"/></g><g class=\"annotation-group text\" transform=\"translate(0, -108)\"/><g class=\"label-group text\" transform=\"translate(-69.359375, -108)\"><g class=\"label\" style=\"font-weight: bolder\" transform=\"translate(0,-12)\"><foreignObject width=\"138.71875\" height=\"24\"><div xmlns=\"http://www.w3.org/1999/xhtml\" style=\"display: table-cell; white-space: nowrap; line-height: 1.5; max-width: 206px; text-align: center;\"><span class=\"nodeLabel markdown-node-label\" style=\"fill:fuchsia\"><p>Section&lt;Element&gt;</p></span></div></foreignObject></g></g><g class=\"members-group text\" transform=\"translate(-141.203125, -60)\"><g class=\"label\" style=\"\" transform=\"translate(0,-12)\"><foreignObject width=\"118.703125\" height=\"24\"><div xmlns=\"http://www.w3.org/1999/xhtml\" style=\"display: table-cell; white-space: nowrap; line-height: 1.5; max-width: 163px; text-align: center;\"><span class=\"nodeLabel markdown-node-label\" style=\"fill:fuchsia\"><p>+string summary</p></span></div></foreignObject></g><g class=\"label\" style=\"\" transform=\"translate(0,12)\"><foreignObject width=\"77.8125\" height=\"24\"><div xmlns=\"http://www.w3.org/1999/xhtml\" style=\"display: table-cell; white-space: nowrap; line-height: 1.5; max-width: 129px; text-align: center;\"><span class=\"nodeLabel markdown-node-label\" style=\"fill:fuchsia\"><p>+string title</p></span></div></foreignObject></g><g class=\"label\" style=\"\" transform=\"translate(0,36)\"><foreignObject width=\"213.046875\" height=\"24\"><div xmlns=\"http://www.w3.org/1999/xhtml\" style=\"display: table-cell; white-space: nowrap; line-height: 1.5; max-width: 283px; text-align: center;\"><span class=\"nodeLabel markdown-node-label\" style=\"fill:fuchsia\"><p>+List&lt;Paragraph&gt; paragraphs</p></span></div></foreignObject></g><g class=\"label\" style=\"\" transform=\"translate(0,60)\"><foreignObject width=\"150.75\" height=\"24\"><div xmlns=\"http://www.w3.org/1999/xhtml\" style=\"display: table-cell; white-space: nowrap; line-height: 1.5; max-width: 234px; text-align: center;\"><span class=\"nodeLabel markdown-node-label\" style=\"fill:fuchsia\"><p>+List&lt;Figure&gt; figures</p></span></div></foreignObject></g><g class=\"label\" style=\"\" transform=\"translate(0,84)\"><foreignObject width=\"138.328125\" height=\"24\"><div xmlns=\"http://www.w3.org/1999/xhtml\" style=\"display: table-cell; white-space: nowrap; line-height: 1.5; max-width: 220px; text-align: center;\"><span class=\"nodeLabel markdown-node-label\" style=\"fill:fuchsia\"><p>+List&lt;Table&gt; tables</p></span></div></foreignObject></g><g class=\"label\" style=\"\" transform=\"translate(0,108)\"><foreignObject width=\"195.234375\" height=\"24\"><div xmlns=\"http://www.w3.org/1999/xhtml\" style=\"display: table-cell; white-space: nowrap; line-height: 1.5; max-width: 269px; text-align: center;\"><span class=\"nodeLabel markdown-node-label\" style=\"fill:fuchsia\"><p>+List&lt;Section&gt; subsections</p></span></div></foreignObject></g></g><g class=\"methods-group text\" transform=\"translate(-141.203125, 108)\"><g class=\"label\" style=\"\" transform=\"translate(0,-12)\"><foreignObject width=\"140.9375\" height=\"24\"><div xmlns=\"http://www.w3.org/1999/xhtml\" style=\"display: table-cell; white-space: nowrap; line-height: 1.5; max-width: 190px; text-align: center;\"><span class=\"nodeLabel markdown-node-label\" style=\"fill:fuchsia\"><p>+init(Markdown md)</p></span></div></foreignObject></g></g><g class=\"divider\" style=\"fill:fuchsia\"><path d=\"M-153.203125 -84 C-49.15053891535962 -84, 54.90204716928076 -84, 153.203125 -84 M-153.203125 -84 C-74.56004225518315 -84, 4.083040489633703 -84, 153.203125 -84\" stroke=\"hsl(40.5882352941, 60%, 83.3333333333%)\" stroke-width=\"1.3\" fill=\"none\" style=\"fill:fuchsia\"/></g><g class=\"divider\" style=\"fill:fuchsia\"><path d=\"M-153.203125 84 C-53.638010410049276 84, 45.92710417990145 84, 153.203125 84 M-153.203125 84 C-69.6180835446928 84, 13.966957910614411 84, 153.203125 84\" stroke=\"hsl(40.5882352941, 60%, 83.3333333333%)\" stroke-width=\"1.3\" fill=\"none\" style=\"fill:fuchsia\"/></g></g><g class=\"label edgeLabel\" id=\"Section---Section---1\" transform=\"translate(215.11367187462747, 1002.0500000007451)\"><rect width=\"0.1\" height=\"0.1\"/><g class=\"label\" style=\"\" transform=\"translate(0, 0)\"><rect/><foreignObject width=\"0\" height=\"0\"><div xmlns=\"http://www.w3.org/1999/xhtml\" style=\"display: table-cell; white-space: nowrap; line-height: 1.5; max-width: 10px; text-align: center;\"><span class=\"nodeLabel \"></span></div></foreignObject></g></g><g class=\"label edgeLabel\" id=\"Section---Section---2\" transform=\"translate(232.638671875, 1052.1500000022352)\"><rect width=\"0.1\" height=\"0.1\"/><g class=\"label\" style=\"\" transform=\"translate(0, 0)\"><rect/><foreignObject width=\"0\" height=\"0\"><div xmlns=\"http://www.w3.org/1999/xhtml\" style=\"display: table-cell; white-space: nowrap; line-height: 1.5; max-width: 10px; text-align: center;\"><span class=\"nodeLabel \"></span></div></foreignObject></g></g></g></g></g></svg>"
      ],
      "text/plain": [
       "<mermaid.__main__.Mermaid at 0x112708680>"
      ]
     },
     "execution_count": 10,
     "metadata": {},
     "output_type": "execute_result"
    }
   ],
   "source": [
    "import mermaid as md\n",
    "from mermaid.graph import Graph\n",
    "\n",
    "render = md.Mermaid(\"\"\"\n",
    "%%{init: {'theme': 'base', 'themeVariables': {'lineColor': 'red'}}}%%\n",
    "classDiagram\n",
    "class Element{\n",
    "    string summary\n",
    "}\n",
    "class Figure~Element~{\n",
    "    base64 rawdata\n",
    "}\n",
    "style Element fill:lime\n",
    "style Figure fill:lightblue\n",
    "Element <|-- Figure\n",
    "class Cell {\n",
    "    string c\n",
    "}\n",
    "class Column {\n",
    "    List~Cell~ cells\n",
    "}\n",
    "class Row {\n",
    "    List~Column~ cols\n",
    "}\n",
    "class Table~Element~ {\n",
    "    List~Row~ rows\n",
    "}\n",
    "Cell *-- Column\n",
    "Column *-- Row\n",
    "Row *-- Table\n",
    "Element <|-- Table\n",
    "style Table fill:lightblue\n",
    "\n",
    "\n",
    "class Paragraph~Element~{\n",
    "    string text\n",
    "}\n",
    "style Paragraph fill:lightblue\n",
    "Element <|-- Paragraph\n",
    "\n",
    "class Markdown\n",
    "style Markdown fill:yellow\n",
    "\n",
    "class Section~Element~{\n",
    "    +string summary\n",
    "    +string title\n",
    "    +List~Paragraph~ paragraphs\n",
    "    +List~Figure~ figures\n",
    "    +List~Table~ tables\n",
    "    +List~Section~ subsections\n",
    "    +init(Markdown md)\n",
    "}\n",
    "style Section fill:fuchsia\n",
    "\n",
    "Table *-- Section \n",
    "Figure *-- Section \n",
    "Section *-- Section \n",
    "\"\"\")\n",
    "render"
   ]
  },
  {
   "cell_type": "markdown",
   "metadata": {},
   "source": [
    "```{mermaid}\n",
    "---\n",
    "config:\n",
    "  theme: 'base'\n",
    "  themeVariables:\n",
    "    primaryColor: '#BB2528'\n",
    "    primaryTextColor: '#fff'\n",
    "    primaryBorderColor: '#7C0000'\n",
    "    lineColor: '#F8B229'\n",
    "    secondaryColor: '#006100'\n",
    "    tertiaryColor: '#fff'\n",
    "---\n",
    "\n",
    "classDiagram\n",
    "class Element{\n",
    "    string summary\n",
    "}\n",
    "class Figure~Element~{\n",
    "    base64 rawdata\n",
    "}\n",
    "Element <|-- Figure\n",
    "class Cell {\n",
    "    string c\n",
    "}\n",
    "class Column {\n",
    "    List~Cell~ cells\n",
    "}\n",
    "class Row {\n",
    "    List~Column~ cols\n",
    "}\n",
    "class Table~Element~ {\n",
    "    List~Row~ rows\n",
    "}\n",
    "Cell *-- Column\n",
    "Column *-- Row\n",
    "Row *-- Table\n",
    "Element <|-- Table\n",
    "\n",
    "\n",
    "class Paragraph~Element~{\n",
    "    string text\n",
    "}\n",
    "Element <|-- Paragraph\n",
    "\n",
    "class Markdown\n",
    "\n",
    "class Section~Element~{\n",
    "    +string summary\n",
    "    +string title\n",
    "    +List~Paragraph~ paragraphs\n",
    "    +List~Figure~ figures\n",
    "    +List~Table~ tables\n",
    "    +List~Section~ subsections\n",
    "    +init(Markdown md)\n",
    "}\n",
    "\n",
    "Table *-- Section \n",
    "Figure *-- Section \n",
    "Section *-- Section \n",
    "```"
   ]
  },
  {
   "cell_type": "markdown",
   "metadata": {},
   "source": [
    "# huggingface space configurations"
   ]
  },
  {
   "cell_type": "markdown",
   "metadata": {},
   "source": [
    "```markdown\n",
    "---\n",
    "title: Hfspace Demo\n",
    "emoji: 🔥\n",
    "colorFrom: purple\n",
    "colorTo: green\n",
    "sdk: gradio\n",
    "sdk_version: 5.21.0\n",
    "app_file: ribosome/gradio.py\n",
    "pinned: false\n",
    "license: mit\n",
    "short_description: ribosome's huggingface demo\n",
    "---\n",
    "```"
   ]
  },
  {
   "cell_type": "markdown",
   "metadata": {},
   "source": [
    "Check out the configuration reference at https://huggingface.co/docs/hub/spaces-config-reference\n"
   ]
  }
 ],
 "metadata": {
  "kernelspec": {
   "display_name": "cell",
   "language": "python",
   "name": "python3"
  },
  "language_info": {
   "codemirror_mode": {
    "name": "ipython",
    "version": 3
   },
   "file_extension": ".py",
   "mimetype": "text/x-python",
   "name": "python",
   "nbconvert_exporter": "python",
   "pygments_lexer": "ipython3",
   "version": "3.12.9"
  }
 },
 "nbformat": 4,
 "nbformat_minor": 4
}
