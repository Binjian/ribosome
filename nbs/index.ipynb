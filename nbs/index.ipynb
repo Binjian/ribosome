{
 "cells": [
  {
   "cell_type": "code",
   "execution_count": null,
   "metadata": {},
   "outputs": [],
   "source": [
    "# | hide\n",
    "from ribosome.core import *"
   ]
  },
  {
   "cell_type": "markdown",
   "metadata": {},
   "source": [
    "# {{ribosome}}\n",
    "\n",
    "> {{Ribosome is a powerful tool for working with Markdown documents. It provides a rich set of features for editing, transforming, and analyzing Markdown content.}}\n"
   ]
  },
  {
   "cell_type": "markdown",
   "metadata": {},
   "source": [
    "This file will become your README and also the index of your documentation."
   ]
  },
  {
   "cell_type": "markdown",
   "metadata": {},
   "source": [
    "## Developer Guide"
   ]
  },
  {
   "cell_type": "markdown",
   "metadata": {},
   "source": [
    "If you are new to using `ribosome` here are some useful pointers to get you started."
   ]
  },
  {
   "cell_type": "markdown",
   "metadata": {},
   "source": [
    "### Install ribosome in Development mode"
   ]
  },
  {
   "cell_type": "markdown",
   "metadata": {},
   "source": [
    "```sh\n",
    "# make sure ribosome package is installed in development mode\n",
    "$ pip install -e .\n",
    "\n",
    "# make changes under nbs/ directory\n",
    "# ...\n",
    "\n",
    "# compile to have changes apply to ribosome\n",
    "$ nbdev_prepare\n",
    "```"
   ]
  },
  {
   "cell_type": "markdown",
   "metadata": {},
   "source": [
    "## Usage"
   ]
  },
  {
   "cell_type": "markdown",
   "metadata": {},
   "source": [
    "### Installation"
   ]
  },
  {
   "cell_type": "markdown",
   "metadata": {},
   "source": [
    "Install latest from the GitHub [repository][repo]:\n",
    "\n",
    "```sh\n",
    "$ pip install git+https://github.com/Binjian/ribosome.git\n",
    "```\n",
    "\n",
    "\n",
    "[repo]: https://github.com/Binjian/ribosome\n",
    "[docs]: https://Binjian.github.io/ribosome/"
   ]
  },
  {
   "cell_type": "markdown",
   "metadata": {},
   "source": [
    "### Documentation"
   ]
  },
  {
   "cell_type": "markdown",
   "metadata": {},
   "source": [
    "Documentation can be found hosted on this GitHub [repository][repo]'s [pages][docs]. Additionally you can find package manager specific guidelines on [conda][conda] and [pypi][pypi] respectively.\n",
    "\n",
    "[repo]: https://github.com/Binjian/ribosome\n",
    "[docs]: https://Binjian.github.io/ribosome/\n",
    "[pypi]: https://pypi.org/project/ribosome/\n",
    "[conda]: https://anaconda.org/Binjian/ribosome"
   ]
  },
  {
   "cell_type": "markdown",
   "metadata": {},
   "source": [
    "## Document Object Model\n",
    "\n",
    "The `ribosome` package provides a Document Object Model (DOM) for working with Markdown documents. The DOM allows you to manipulate the structure and content of Markdown files programmatically."
   ]
  },
  {
   "cell_type": "markdown",
   "metadata": {},
   "source": [
    "```{mermaid}\n",
    "---\n",
    "config:\n",
    "  theme: 'forest'\n",
    "  themeVariables:\n",
    "    primaryColor: '#BB2528'\n",
    "    primaryTextColor: '#fff'\n",
    "    primaryBorderColor: '#7C0000'\n",
    "    lineColor: '#F8B229'\n",
    "    secondaryColor: '#006100'\n",
    "    tertiaryColor: '#fff'\n",
    "---\n",
    "\n",
    "classDiagram\n",
    "class Element{\n",
    "    string summary\n",
    "}\n",
    "class Figure~Element~{\n",
    "    base64 rawdata\n",
    "}\n",
    "style Element fill:lime\n",
    "style Figure fill:lightblue\n",
    "Element <|-- Figure\n",
    "class Cell {\n",
    "    string c\n",
    "}\n",
    "class Column {\n",
    "    List~Cell~ cells\n",
    "}\n",
    "class Row {\n",
    "    List~Column~ cols\n",
    "}\n",
    "class Table~Element~ {\n",
    "    List~Row~ rows\n",
    "}\n",
    "Cell *-- Column\n",
    "Column *-- Row\n",
    "Row *-- Table\n",
    "Element <|-- Table\n",
    "style Table fill:lightblue\n",
    "\n",
    "\n",
    "class Paragraph~Element~{\n",
    "    string text\n",
    "}\n",
    "style Paragraph fill:lightblue\n",
    "Element <|-- Paragraph\n",
    "\n",
    "class Markdown\n",
    "style Markdown fill:yellow\n",
    "\n",
    "class Section~Element~{\n",
    "    +string summary\n",
    "    +string title\n",
    "    +List~Paragraph~ paragraphs\n",
    "    +List~Figure~ figures\n",
    "    +List~Table~ tables\n",
    "    +List~Section~ subsections\n",
    "    +init(Markdown md)\n",
    "}\n",
    "style Section fill:fuchsia\n",
    "\n",
    "Table *-- Section \n",
    "Figure *-- Section \n",
    "Section *-- Section \n",
    "```"
   ]
  },
  {
   "cell_type": "markdown",
   "metadata": {},
   "source": [
    "## File system embedding\n",
    "\n",
    "The `ribosome` package provides a file system embedding feature that allows you to work with Markdown files directly from the file system. This feature is useful for managing and organizing your Markdown documents."
   ]
  },
  {
   "cell_type": "markdown",
   "metadata": {},
   "source": [
    "```{mermaid}\n",
    "---\n",
    "config:\n",
    "  theme: 'forest'\n",
    "  themeVariables:\n",
    "    primaryColor: '#BB2528'\n",
    "    primaryTextColor: '#fff'\n",
    "    primaryBorderColor: '#7C0000'\n",
    "    lineColor: '#F8B229'\n",
    "    secondaryColor: '#006100'\n",
    "    tertiaryColor: '#fff'\n",
    "---\n",
    "\n",
    "classDiagram\n",
    "class Element{\n",
    "    string summary\n",
    "}\n",
    "style Element fill:lime\n",
    "class File{\n",
    "    +string title\n",
    "    +Path path\n",
    "    +List~Section~ sections\n",
    "}\n",
    "Element <|-- File\n",
    "Element <|-- Section\n",
    "Section *-- File\n",
    "\n",
    "\n",
    "class Folder{\n",
    "    +string title\n",
    "    +Path path\n",
    "    +List~File~ files\n",
    "    +List~Folder~ subfolders\n",
    "    +init(Markdown md)\n",
    "}\n",
    "Element <|-- Folder\n",
    "File *-- Folder\n",
    "Folder *-- Folder\n",
    "style Folder fill:fuchsia\n",
    "```"
   ]
  },
  {
   "cell_type": "markdown",
   "metadata": {},
   "source": [
    "## Semantical tree with embedding vector space"
   ]
  },
  {
   "cell_type": "markdown",
   "metadata": {},
   "source": [
    "```{mermaid}\n",
    "---\n",
    "config:\n",
    "  theme: 'forest'\n",
    "  themeVariables:\n",
    "    primaryColor: '#BB2528'\n",
    "    primaryTextColor: '#fff'\n",
    "    primaryBorderColor: '#7C0000'\n",
    "    lineColor: '#F8B229'\n",
    "    secondaryColor: '#006100'\n",
    "    tertiaryColor: '#fff'\n",
    "---\n",
    "\n",
    "graph LR;\n",
    "\tsubgraph 计算语义\n",
    "                text(文本) --> 内嵌\n",
    "\tend\n",
    "        内嵌 --> 语义树\n",
    "\tsubgraph 检索\n",
    "\t\t语义树 --> 摘要 --> 对象树\n",
    "        end\n",
    "\n",
    "        text --> raw[(原始文件)]\n",
    "        语义树 --> embedding[(向量数据库)]\n",
    "        对象树 --> markdown[(内容对象数据库)]\n",
    "```"
   ]
  }
 ],
 "metadata": {
  "kernelspec": {
   "display_name": "python3",
   "language": "python",
   "name": "python3"
  }
 },
 "nbformat": 4,
 "nbformat_minor": 4
}
