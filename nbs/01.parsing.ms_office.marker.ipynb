{
 "cells": [
  {
   "cell_type": "raw",
   "id": "2919343d",
   "metadata": {
    "vscode": {
     "languageId": "raw"
    }
   },
   "source": [
    "---\n",
    "output-file: parsing.ms_office.marker.html\n",
    "title: Microsoft Office document parsing\n",
    "---"
   ]
  },
  {
   "cell_type": "code",
   "execution_count": null,
   "id": "68340256",
   "metadata": {},
   "outputs": [],
   "source": [
    "# |default_exp parsing.ms_office.marker"
   ]
  },
  {
   "cell_type": "code",
   "execution_count": 5,
   "id": "75658d74bc5e9e08",
   "metadata": {},
   "outputs": [],
   "source": [
    "# | hide\n",
    "from nbdev.showdoc import *\n",
    "from IPython.core.interactiveshell import InteractiveShell\n",
    "\n",
    "InteractiveShell.ast_node_interactivity = \"all\""
   ]
  },
  {
   "cell_type": "markdown",
   "id": "acf7644f-42b3-4d8d-a1d0-f8c3a2358e27",
   "metadata": {},
   "source": [
    "## Install dependencies"
   ]
  },
  {
   "cell_type": "code",
   "execution_count": 1,
   "id": "00cf4fad-a920-41dc-be42-3992c7fcefac",
   "metadata": {},
   "outputs": [],
   "source": [
    "# | export\n",
    "import sys\n",
    "import os\n",
    "import time\n",
    "from hashlib import sha256\n",
    "from pathlib import Path\n",
    "from pprint import pprint, pformat\n",
    "\n",
    "from odfdo import Document\n",
    "from PIL import Image\n",
    "import pandas as pd\n",
    "# import ezodf"
   ]
  },
  {
   "cell_type": "code",
   "execution_count": 2,
   "id": "164a3949",
   "metadata": {},
   "outputs": [],
   "source": [
    "#| export\n",
    "from dotenv import load_dotenv\n",
    "load_dotenv()\n",
    "OPENROUTER_API_KEY= os.getenv('OPENROUTER_API_KEY')\n",
    "# print(OPENROUTER_API_KEY)\n",
    "OPENROUTER_API_URL = os.getenv('OPENROUTER_API_URL')\n",
    "# print(OPENROUTER_API_URL)\n",
    "# OPENROUTER_MODEL = os.getenv('OPENROUTER_MODEL')\n",
    "OPENROUTER_MODEL = 'Google:gemini-2.5-pro-exp-03-25'\n",
    "# print(OPENROUTER_MODEL)"
   ]
  },
  {
   "cell_type": "code",
   "execution_count": 3,
   "id": "257f411a",
   "metadata": {},
   "outputs": [],
   "source": [
    "def convert_office_to_pdf(root_folder):\n",
    "    \"\"\"\n",
    "    Recursively convert all .pptx, .ppt, .docx, and .doc files under\n",
    "    root_folder (and subfolders) to PDF files in the same folder as the\n",
    "    original. For .xls and .xlsx files, convert to markdown (.md) files\n",
    "    in the same folder. Requires LibreOffice (soffice) installed for Office\n",
    "    document conversion. Requires pandas for Excel to markdown.\n",
    "    \"\"\"\n",
    "    import subprocess\n",
    "    from pathlib import Path\n",
    "    import pandas as pd\n",
    "\n",
    "    office_exts = {'.pptx', '.ppt', '.docx', '.doc'}\n",
    "    excel_exts = {'.xls', '.xlsx'}\n",
    "    root = Path(root_folder)\n",
    "    for file in root.rglob('*'):\n",
    "        if file.suffix.lower() in office_exts:\n",
    "            pdf_path = file.with_suffix('.pdf')\n",
    "            if pdf_path.exists():\n",
    "                continue  # Skip if PDF already exists\n",
    "            try:\n",
    "                # Use soffice for conversion\n",
    "                subprocess.run([\n",
    "                    'soffice', '--headless', '--convert-to', 'pdf',\n",
    "                    '--outdir', str(file.parent), str(file)\n",
    "                ], check=True)\n",
    "                print(f\"Converted: {file} -> {pdf_path}\")\n",
    "            except subprocess.CalledProcessError as e:\n",
    "                print(f\"Failed to convert {file}: {e}\")\n",
    "        elif file.suffix.lower() in excel_exts:\n",
    "            md_path = file.with_suffix('.md')\n",
    "            if md_path.exists():\n",
    "                continue\n",
    "            try:\n",
    "                excel = pd.read_excel(file, sheet_name=None)\n",
    "                with open(md_path, 'w', encoding='utf-8') as f:\n",
    "                    for sheet, df in excel.items():\n",
    "                        f.write(f'# Sheet: {sheet}\\n\\n')\n",
    "                        f.write(df.to_markdown(index=False))\n",
    "                        f.write('\\n\\n')\n",
    "                print(f\"Converted: {file} -> {md_path}\")\n",
    "            except Exception as e:\n",
    "                print(f\"Failed to convert {file} to markdown: {e}\")\n",
    "        else:\n",
    "                print(f\"Failed to convert {file}\")\n"
   ]
  },
  {
   "cell_type": "code",
   "execution_count": 20,
   "id": "abf5937e",
   "metadata": {},
   "outputs": [
    {
     "name": "stdout",
     "output_type": "stream",
     "text": [
      "Failed to convert /v/data/新型机器人智能问答系统数据源/08 检测报告与认证证书\n",
      "Failed to convert /v/data/新型机器人智能问答系统数据源/03 产品样册\n",
      "Failed to convert /v/data/新型机器人智能问答系统数据源/05 技术规格\n",
      "Failed to convert /v/data/新型机器人智能问答系统数据源/01 设计标准\n",
      "Failed to convert /v/data/新型机器人智能问答系统数据源/02 产品推介资料\n",
      "Failed to convert /v/data/新型机器人智能问答系统数据源/09 工业机器人营销、售后支持话术指导书\n",
      "Failed to convert /v/data/新型机器人智能问答系统数据源/04 公司各BG样本汇总\n",
      "Failed to convert /v/data/新型机器人智能问答系统数据源/07 机器人产品配置清单\n",
      "Failed to convert /v/data/新型机器人智能问答系统数据源/06 产品手册\n",
      "Failed to convert /v/data/新型机器人智能问答系统数据源/08 检测报告与认证证书/检测报告\n",
      "Failed to convert /v/data/新型机器人智能问答系统数据源/08 检测报告与认证证书/CE认证证书\n",
      "Failed to convert /v/data/新型机器人智能问答系统数据源/08 检测报告与认证证书/认证证书\n",
      "Failed to convert /v/data/新型机器人智能问答系统数据源/08 检测报告与认证证书/电池认证资料\n",
      "Failed to convert /v/data/新型机器人智能问答系统数据源/03 产品样册/05 产品码垛应用样本\n",
      "Failed to convert /v/data/新型机器人智能问答系统数据源/03 产品样册/06 产品单页样本\n",
      "Failed to convert /v/data/新型机器人智能问答系统数据源/03 产品样册/01 产品综合样本\n",
      "Failed to convert /v/data/新型机器人智能问答系统数据源/03 产品样册/02 产品焊接套机样本\n",
      "Failed to convert /v/data/新型机器人智能问答系统数据源/03 产品样册/07 产品铝液捞渣套机样本\n",
      "Failed to convert /v/data/新型机器人智能问答系统数据源/03 产品样册/03 产品点焊应用样本\n",
      "Failed to convert /v/data/新型机器人智能问答系统数据源/03 产品样册/08 产品激光清洗套机样本\n",
      "Failed to convert /v/data/新型机器人智能问答系统数据源/03 产品样册/04 产品磨抛套机样本\n",
      "Failed to convert /v/data/新型机器人智能问答系统数据源/03 产品样册/09 产品激光焊应用样本\n",
      "Failed to convert /v/data/新型机器人智能问答系统数据源/05 技术规格/本体工作范围\n",
      "Failed to convert /v/data/新型机器人智能问答系统数据源/05 技术规格/规格参数\n",
      "Failed to convert /v/data/新型机器人智能问答系统数据源/01 设计标准/SX047001新松机器人产品识别设计标准A-1.pdf\n",
      "convert /v/data/新型机器人智能问答系统数据源/02 产品推介资料/20241112新松工业机器人宣传（案例版）.pptx as a Impress document -> /v/data/新型机器人智能问答系统数据源/02 产品推介资料/20241112新松工业机器人宣传（案例版）.pdf using filter : impress_pdf_Export\n",
      "convert /v/data/新型机器人智能问答系统数据源/02 产品推介资料/20241112新松工业机器人宣传（案例版）.pptx as a Impress document -> /v/data/新型机器人智能问答系统数据源/02 产品推介资料/20241112新松工业机器人宣传（案例版）.pdf using filter : impress_pdf_Export\n",
      "Converted: /v/data/新型机器人智能问答系统数据源/02 产品推介资料/20241112新松工业机器人宣传（案例版）.pptx -> /v/data/新型机器人智能问答系统数据源/02 产品推介资料/20241112新松工业机器人宣传（案例版）.pdf\n",
      "Converted: /v/data/新型机器人智能问答系统数据源/02 产品推介资料/20241112新松工业机器人宣传（案例版）.pptx -> /v/data/新型机器人智能问答系统数据源/02 产品推介资料/20241112新松工业机器人宣传（案例版）.pdf\n",
      "convert /v/data/新型机器人智能问答系统数据源/02 产品推介资料/SX023011新松工业机器人宣传（产品篇）-A_0.pptx as a Impress document -> /v/data/新型机器人智能问答系统数据源/02 产品推介资料/SX023011新松工业机器人宣传（产品篇）-A_0.pdf using filter : impress_pdf_Export\n",
      "convert /v/data/新型机器人智能问答系统数据源/02 产品推介资料/SX023011新松工业机器人宣传（产品篇）-A_0.pptx as a Impress document -> /v/data/新型机器人智能问答系统数据源/02 产品推介资料/SX023011新松工业机器人宣传（产品篇）-A_0.pdf using filter : impress_pdf_Export\n"
     ]
    },
    {
     "name": "stderr",
     "output_type": "stream",
     "text": [
      "libpng warning: eXIf: duplicate\n",
      "libpng warning: eXIf: duplicate\n",
      "libpng warning: eXIf: duplicate\n",
      "libpng warning: eXIf: duplicate\n",
      "libpng warning: eXIf: duplicate\n"
     ]
    },
    {
     "name": "stdout",
     "output_type": "stream",
     "text": [
      "Converted: /v/data/新型机器人智能问答系统数据源/02 产品推介资料/SX023011新松工业机器人宣传（产品篇）-A_0.pptx -> /v/data/新型机器人智能问答系统数据源/02 产品推介资料/SX023011新松工业机器人宣传（产品篇）-A_0.pdf\n",
      "convert /v/data/新型机器人智能问答系统数据源/02 产品推介资料/SX023010新松打磨解决方案介绍V1.0.pptx as a Impress document -> /v/data/新型机器人智能问答系统数据源/02 产品推介资料/SX023010新松打磨解决方案介绍V1.0.pdf using filter : impress_pdf_Export\n",
      "convert /v/data/新型机器人智能问答系统数据源/02 产品推介资料/SX023010新松打磨解决方案介绍V1.0.pptx as a Impress document -> /v/data/新型机器人智能问答系统数据源/02 产品推介资料/SX023010新松打磨解决方案介绍V1.0.pdf using filter : impress_pdf_Export\n",
      "Converted: /v/data/新型机器人智能问答系统数据源/02 产品推介资料/SX023010新松打磨解决方案介绍V1.0.pptx -> /v/data/新型机器人智能问答系统数据源/02 产品推介资料/SX023010新松打磨解决方案介绍V1.0.pdf\n",
      "Converted: /v/data/新型机器人智能问答系统数据源/02 产品推介资料/SX023010新松打磨解决方案介绍V1.0.pptx -> /v/data/新型机器人智能问答系统数据源/02 产品推介资料/SX023010新松打磨解决方案介绍V1.0.pdf\n",
      "convert /v/data/新型机器人智能问答系统数据源/02 产品推介资料/SIASUN industrial robot BG Introduction(0241018压缩版）.pptx as a Impress document -> /v/data/新型机器人智能问答系统数据源/02 产品推介资料/SIASUN industrial robot BG Introduction(0241018压缩版）.pdf using filter : impress_pdf_Export\n",
      "convert /v/data/新型机器人智能问答系统数据源/02 产品推介资料/SIASUN industrial robot BG Introduction(0241018压缩版）.pptx as a Impress document -> /v/data/新型机器人智能问答系统数据源/02 产品推介资料/SIASUN industrial robot BG Introduction(0241018压缩版）.pdf using filter : impress_pdf_Export\n",
      "Converted: /v/data/新型机器人智能问答系统数据源/02 产品推介资料/SIASUN industrial robot BG Introduction(0241018压缩版）.pptx -> /v/data/新型机器人智能问答系统数据源/02 产品推介资料/SIASUN industrial robot BG Introduction(0241018压缩版）.pdf\n",
      "Converted: /v/data/新型机器人智能问答系统数据源/02 产品推介资料/SIASUN industrial robot BG Introduction(0241018压缩版）.pptx -> /v/data/新型机器人智能问答系统数据源/02 产品推介资料/SIASUN industrial robot BG Introduction(0241018压缩版）.pdf\n",
      "convert /v/data/新型机器人智能问答系统数据源/02 产品推介资料/SR023001新松电动车车架焊接解决方案介绍V1.0.pptx as a Impress document -> /v/data/新型机器人智能问答系统数据源/02 产品推介资料/SR023001新松电动车车架焊接解决方案介绍V1.0.pdf using filter : impress_pdf_Export\n",
      "convert /v/data/新型机器人智能问答系统数据源/02 产品推介资料/SR023001新松电动车车架焊接解决方案介绍V1.0.pptx as a Impress document -> /v/data/新型机器人智能问答系统数据源/02 产品推介资料/SR023001新松电动车车架焊接解决方案介绍V1.0.pdf using filter : impress_pdf_Export\n",
      "Converted: /v/data/新型机器人智能问答系统数据源/02 产品推介资料/SR023001新松电动车车架焊接解决方案介绍V1.0.pptx -> /v/data/新型机器人智能问答系统数据源/02 产品推介资料/SR023001新松电动车车架焊接解决方案介绍V1.0.pdf\n",
      "Converted: /v/data/新型机器人智能问答系统数据源/02 产品推介资料/SR023001新松电动车车架焊接解决方案介绍V1.0.pptx -> /v/data/新型机器人智能问答系统数据源/02 产品推介资料/SR023001新松电动车车架焊接解决方案介绍V1.0.pdf\n",
      "convert /v/data/新型机器人智能问答系统数据源/02 产品推介资料/SX023012汽车行业解决方案介绍-A_1.pptx as a Impress document -> /v/data/新型机器人智能问答系统数据源/02 产品推介资料/SX023012汽车行业解决方案介绍-A_1.pdf using filter : impress_pdf_Export\n",
      "convert /v/data/新型机器人智能问答系统数据源/02 产品推介资料/SX023012汽车行业解决方案介绍-A_1.pptx as a Impress document -> /v/data/新型机器人智能问答系统数据源/02 产品推介资料/SX023012汽车行业解决方案介绍-A_1.pdf using filter : impress_pdf_Export\n",
      "Converted: /v/data/新型机器人智能问答系统数据源/02 产品推介资料/SX023012汽车行业解决方案介绍-A_1.pptx -> /v/data/新型机器人智能问答系统数据源/02 产品推介资料/SX023012汽车行业解决方案介绍-A_1.pdf\n",
      "Failed to convert /v/data/新型机器人智能问答系统数据源/09 工业机器人营销、售后支持话术指导书/SIASUN新松工业机器人营销、售后支持话术指导书_V3.0.pdf\n",
      "Failed to convert /v/data/新型机器人智能问答系统数据源/04 公司各BG样本汇总/半导体装备-email.pdf\n",
      "Failed to convert /v/data/新型机器人智能问答系统数据源/04 公司各BG样本汇总/DELTA机器人1102-email.pdf\n",
      "Failed to convert /v/data/新型机器人智能问答系统数据源/04 公司各BG样本汇总/移动机器人样本0111【21】.pdf\n",
      "Failed to convert /v/data/新型机器人智能问答系统数据源/04 公司各BG样本汇总/特种机器人1106-email.pdf\n",
      "Failed to convert /v/data/新型机器人智能问答系统数据源/04 公司各BG样本汇总/总体样本.pdf\n",
      "Failed to convert /v/data/新型机器人智能问答系统数据源/04 公司各BG样本汇总/智慧工厂样本1127-email.pdf\n",
      "Failed to convert /v/data/新型机器人智能问答系统数据源/04 公司各BG样本汇总/医疗机器人0722【20】.pdf\n",
      "Failed to convert /v/data/新型机器人智能问答系统数据源/04 公司各BG样本汇总/物流样本0611【21】-email.pdf\n",
      "Converted: /v/data/新型机器人智能问答系统数据源/07 机器人产品配置清单/SIASUN机器人产品配置清单_v25.2.28.xlsx -> /v/data/新型机器人智能问答系统数据源/07 机器人产品配置清单/SIASUN机器人产品配置清单_v25.2.28.md\n",
      "Failed to convert /v/data/新型机器人智能问答系统数据源/06 产品手册/软件类\n",
      "Failed to convert /v/data/新型机器人智能问答系统数据源/06 产品手册/快速安装类\n",
      "Failed to convert /v/data/新型机器人智能问答系统数据源/06 产品手册/安全类\n",
      "Failed to convert /v/data/新型机器人智能问答系统数据源/06 产品手册/机械类\n",
      "Failed to convert /v/data/新型机器人智能问答系统数据源/06 产品手册/电气类\n",
      "Failed to convert /v/data/新型机器人智能问答系统数据源/08 检测报告与认证证书/检测报告/JSWJ-CSBG21044-V1.0  工业机器人控制系统（SRC E5）环境试验报告.pdf\n",
      "Failed to convert /v/data/新型机器人智能问答系统数据源/08 检测报告与认证证书/检测报告/T35A-25检测报告(1).pdf\n",
      "Failed to convert /v/data/新型机器人智能问答系统数据源/08 检测报告与认证证书/检测报告/T12A-14检测报告EMC（MCB类别3评估）.pdf\n",
      "Failed to convert /v/data/新型机器人智能问答系统数据源/08 检测报告与认证证书/检测报告/检测报告T12A-14（电源适应能力+功率+泄漏电流）.pdf\n",
      "Failed to convert /v/data/新型机器人智能问答系统数据源/08 检测报告与认证证书/检测报告/新松SR210A.pdf\n",
      "Failed to convert /v/data/新型机器人智能问答系统数据源/08 检测报告与认证证书/检测报告/SR20A-E检测报告(1).pdf\n",
      "Failed to convert /v/data/新型机器人智能问答系统数据源/08 检测报告与认证证书/检测报告/火弧机器人小臂IP等级检测报告.pdf\n",
      "Failed to convert /v/data/新型机器人智能问答系统数据源/08 检测报告与认证证书/检测报告/新松SR25A.pdf\n",
      "Failed to convert /v/data/新型机器人智能问答系统数据源/08 检测报告与认证证书/检测报告/江苏华途数控科技有限公司 测试报告.pdf\n",
      "Failed to convert /v/data/新型机器人智能问答系统数据源/08 检测报告与认证证书/检测报告/火弧机器人控制装置IP等级检测报告.pdf\n",
      "Failed to convert /v/data/新型机器人智能问答系统数据源/08 检测报告与认证证书/检测报告/T20、T35、T50、T80工业机器人检测报告-沈阳新松2022年8月.pdf\n",
      "Failed to convert /v/data/新型机器人智能问答系统数据源/08 检测报告与认证证书/检测报告/T12A-14检测报告(1).pdf\n",
      "Failed to convert /v/data/新型机器人智能问答系统数据源/08 检测报告与认证证书/检测报告/SR210B-BG-1809004 EMC检测报告 扫描件.pdf\n",
      "Failed to convert /v/data/新型机器人智能问答系统数据源/08 检测报告与认证证书/CE认证证书/DSS_SHES240501030402-02(1).pdf\n",
      "Failed to convert /v/data/新型机器人智能问答系统数据源/08 检测报告与认证证书/CE认证证书/DSS_SHES241202398101-02.pdf\n",
      "Failed to convert /v/data/新型机器人智能问答系统数据源/08 检测报告与认证证书/CE认证证书/DSS_SHES240501030402-01(1).pdf\n",
      "Failed to convert /v/data/新型机器人智能问答系统数据源/08 检测报告与认证证书/CE认证证书/DSS_SHES240501030402-03(1).pdf\n",
      "Failed to convert /v/data/新型机器人智能问答系统数据源/08 检测报告与认证证书/CE认证证书/DSS_SHES241202398101-01.pdf\n",
      "Failed to convert /v/data/新型机器人智能问答系统数据源/08 检测报告与认证证书/CE认证证书/DSS_MD_CoC_25_HEL_014 Issue 1.pdf\n",
      "Failed to convert /v/data/新型机器人智能问答系统数据源/08 检测报告与认证证书/CE认证证书/DSS_SHES241202398201-01.pdf\n",
      "Failed to convert /v/data/新型机器人智能问答系统数据源/08 检测报告与认证证书/CE认证证书/DSS_SHES241202398101-03.pdf\n",
      "Failed to convert /v/data/新型机器人智能问答系统数据源/08 检测报告与认证证书/CE认证证书/DSS_SHES241202398201-02.pdf\n",
      "Failed to convert /v/data/新型机器人智能问答系统数据源/08 检测报告与认证证书/CE认证证书/DSS_MD_CoC_25_HEL_009 Issue 1.pdf\n",
      "Failed to convert /v/data/新型机器人智能问答系统数据源/08 检测报告与认证证书/CE认证证书/DSS_SHES241202398201-03.pdf\n",
      "Failed to convert /v/data/新型机器人智能问答系统数据源/08 检测报告与认证证书/认证证书/工业机器人SR210A-新松CR证书.pdf\n",
      "Failed to convert /v/data/新型机器人智能问答系统数据源/08 检测报告与认证证书/认证证书/DSS_SHEM2412007772Ver_CE_SH.pdf\n",
      "Failed to convert /v/data/新型机器人智能问答系统数据源/08 检测报告与认证证书/认证证书/EMC报告扫描.pdf\n",
      "Failed to convert /v/data/新型机器人智能问答系统数据源/08 检测报告与认证证书/认证证书/T12A、T20A、T35A、T50A、T80A等CR认证证书.pdf\n",
      "Failed to convert /v/data/新型机器人智能问答系统数据源/08 检测报告与认证证书/认证证书/DSS_SHEM2412007773Ver_CE_SH.pdf\n",
      "Failed to convert /v/data/新型机器人智能问答系统数据源/08 检测报告与认证证书/认证证书/SGS中国发证MD指令CE证书.pdf\n",
      "Failed to convert /v/data/新型机器人智能问答系统数据源/08 检测报告与认证证书/认证证书/DSS_MD SHES2412023981MD.pdf\n",
      "Failed to convert /v/data/新型机器人智能问答系统数据源/08 检测报告与认证证书/认证证书/SR210A-210等机型EMC指令CE证书.pdf\n",
      "Failed to convert /v/data/新型机器人智能问答系统数据源/08 检测报告与认证证书/认证证书/SGS芬兰发证MD指令CE证书.pdf\n",
      "Failed to convert /v/data/新型机器人智能问答系统数据源/08 检测报告与认证证书/认证证书/天津CCIDCCZS-20200138R.pdf\n",
      "Failed to convert /v/data/新型机器人智能问答系统数据源/08 检测报告与认证证书/认证证书/天津CCIDCCZS-20200132R.pdf\n",
      "Failed to convert /v/data/新型机器人智能问答系统数据源/08 检测报告与认证证书/认证证书/工业机器人SR25A-新松CR证书.pdf\n",
      "Failed to convert /v/data/新型机器人智能问答系统数据源/08 检测报告与认证证书/认证证书/DSS_MD SHES2412023982MD.pdf\n",
      "Failed to convert /v/data/新型机器人智能问答系统数据源/08 检测报告与认证证书/认证证书/沈阳CCIDCCZS-20180063R.pdf\n",
      "Failed to convert /v/data/新型机器人智能问答系统数据源/08 检测报告与认证证书/电池认证资料/经销商授权书.pdf\n",
      "Failed to convert /v/data/新型机器人智能问答系统数据源/08 检测报告与认证证书/电池认证资料/MSDS【2024年度】已失效.pdf\n",
      "Failed to convert /v/data/新型机器人智能问答系统数据源/08 检测报告与认证证书/电池认证资料/ER34615H  UN38.3试验概要 【2022.1.4】.pdf\n",
      "Failed to convert /v/data/新型机器人智能问答系统数据源/08 检测报告与认证证书/电池认证资料/ER34615H  UN38.3检测报告【2022.1.4】.pdf\n",
      "Failed to convert /v/data/新型机器人智能问答系统数据源/08 检测报告与认证证书/电池认证资料/电池认证信息说明.txt\n",
      "Failed to convert /v/data/新型机器人智能问答系统数据源/08 检测报告与认证证书/电池认证资料/MSDS【2025年度】.pdf\n",
      "Failed to convert /v/data/新型机器人智能问答系统数据源/03 产品样册/05 产品码垛应用样本/SX023015新松箱类拆、码垛单元V1.1.pdf\n",
      "Failed to convert /v/data/新型机器人智能问答系统数据源/03 产品样册/05 产品码垛应用样本/SX023016新松袋类拆、码垛单元V1.0.pdf\n",
      "Failed to convert /v/data/新型机器人智能问答系统数据源/03 产品样册/06 产品单页样本/SX02300701《SN4A-4-0.58 Industrial Robot Model》-A_0.jpg\n",
      "Failed to convert /v/data/新型机器人智能问答系统数据源/03 产品样册/06 产品单页样本/SX02300712《SR210A-210-3.05-DW Industrial Robot Model》-A_0.jpg\n",
      "Failed to convert /v/data/新型机器人智能问答系统数据源/03 产品样册/06 产品单页样本/SX02300715《SR500A-500-2.52 Industrial Robot Model》-A_0.jpg\n",
      "Failed to convert /v/data/新型机器人智能问答系统数据源/03 产品样册/06 产品单页样本/SX02300710《SR210-120-3.05》-A_0.jpg\n",
      "Failed to convert /v/data/新型机器人智能问答系统数据源/03 产品样册/06 产品单页样本/SX023007《SP160-160-3.05》-V1.0.jpg\n",
      "Failed to convert /v/data/新型机器人智能问答系统数据源/03 产品样册/06 产品单页样本/SX02300716《SP120A-120-2.50》-A_0.jpg\n",
      "Failed to convert /v/data/新型机器人智能问答系统数据源/03 产品样册/06 产品单页样本/SX02300716《SP120A-120-2.50 Industrial Robot Model》-A_0.jpg\n",
      "Failed to convert /v/data/新型机器人智能问答系统数据源/03 产品样册/06 产品单页样本/SX02300706《SR25A-25-1.80 Industrial Robot Model》-A_0.jpg\n",
      "Failed to convert /v/data/新型机器人智能问答系统数据源/03 产品样册/06 产品单页样本/SX023007《SR25-20-1.76 Industrial Robot Model》-V1.0.jpg\n",
      "Failed to convert /v/data/新型机器人智能问答系统数据源/03 产品样册/06 产品单页样本/SX02300712《SR210A-210-3.05-DW》-A_0.jpg\n",
      "Failed to convert /v/data/新型机器人智能问答系统数据源/03 产品样册/06 产品单页样本/SX02300709《SR50A-70-2.15 Industrial Robot Model》-A_0.jpg\n",
      "Failed to convert /v/data/新型机器人智能问答系统数据源/03 产品样册/06 产品单页样本/SX023007《SR50-80-2.15 Industrial Robot Model》-V1.0.jpg\n",
      "Failed to convert /v/data/新型机器人智能问答系统数据源/03 产品样册/06 产品单页样本/SX023007《SR50-50-2.15 Industrial Robot Model》-V1.0.jpg\n",
      "Failed to convert /v/data/新型机器人智能问答系统数据源/03 产品样册/06 产品单页样本/SX02300708《SR50A-50-2.15》-A_0.jpg\n",
      "Failed to convert /v/data/新型机器人智能问答系统数据源/03 产品样册/06 产品单页样本/SX023007《SR25-20-1.76》-V1.0.jpg\n",
      "Failed to convert /v/data/新型机器人智能问答系统数据源/03 产品样册/06 产品单页样本/SX02300704《SR25A-12-2.01》-A_0.jpg\n",
      "Failed to convert /v/data/新型机器人智能问答系统数据源/03 产品样册/06 产品单页样本/SX023007《STBT5A Teach Pendant》-V1.0.jpg\n",
      "Failed to convert /v/data/新型机器人智能问答系统数据源/03 产品样册/06 产品单页样本/SX02300703《SR12A-12-1.46》-A_0.jpg\n",
      "Failed to convert /v/data/新型机器人智能问答系统数据源/03 产品样册/06 产品单页样本/SX02300701《SN4A-4-0.58》-A_0.jpg\n",
      "Failed to convert /v/data/新型机器人智能问答系统数据源/03 产品样册/06 产品单页样本/SX02300706《SR25A-25-1.80》-A_0.jpg\n",
      "Failed to convert /v/data/新型机器人智能问答系统数据源/03 产品样册/06 产品单页样本/SX02300714《SR500A-360-2.83 Industrial Robot Model》-A_0.jpg\n",
      "Failed to convert /v/data/新型机器人智能问答系统数据源/03 产品样册/06 产品单页样本/SX02300711《SR210A-210-2.65》-A_0.jpg\n",
      "Failed to convert /v/data/新型机器人智能问答系统数据源/03 产品样册/06 产品单页样本/SX02300709《SR50A-70-2.15》-A_0.jpg\n",
      "Failed to convert /v/data/新型机器人智能问答系统数据源/03 产品样册/06 产品单页样本/SX02300707《SR25A-35-1.80 Industrial Robot Model》-A_0.jpg\n",
      "Failed to convert /v/data/新型机器人智能问答系统数据源/03 产品样册/06 产品单页样本/SX02300710《SR210-120-3.05 Industrial Robot Model》-A_0.jpg\n",
      "Failed to convert /v/data/新型机器人智能问答系统数据源/03 产品样册/06 产品单页样本/SX02300707《SR25A-35-1.80》-A_0.jpg\n",
      "Failed to convert /v/data/新型机器人智能问答系统数据源/03 产品样册/06 产品单页样本/SX02300708《SR50A-50-2.15 Industrial Robot Model》-A_0.jpg\n",
      "Failed to convert /v/data/新型机器人智能问答系统数据源/03 产品样册/06 产品单页样本/SX023007《SR50-50-2.15》-V1.0.jpg\n",
      "Failed to convert /v/data/新型机器人智能问答系统数据源/03 产品样册/06 产品单页样本/SX02300714《SR500A-360-2.83》-A_0.jpg\n",
      "Failed to convert /v/data/新型机器人智能问答系统数据源/03 产品样册/06 产品单页样本/SX023007《SR50-80-2.15》-V1.10.jpg\n",
      "Failed to convert /v/data/新型机器人智能问答系统数据源/03 产品样册/06 产品单页样本/SX02300713《SR270A-270-2.70 Industrial Robot Model》-A_1.jpg\n",
      "Failed to convert /v/data/新型机器人智能问答系统数据源/03 产品样册/06 产品单页样本/SX02300705《SR25A-20-1.80 Industrial Robot Model》-A_0.jpg\n",
      "Failed to convert /v/data/新型机器人智能问答系统数据源/03 产品样册/06 产品单页样本/SX02300705《SR25A-20-1.80》-A_0.jpg\n",
      "Failed to convert /v/data/新型机器人智能问答系统数据源/03 产品样册/06 产品单页样本/SX02300702《SN7B-7-0.90》-A_0.jpg\n",
      "Failed to convert /v/data/新型机器人智能问答系统数据源/03 产品样册/06 产品单页样本/SX02300711《SR210A-210-2.65 Industrial Robot Model》-A_0.jpg\n",
      "Failed to convert /v/data/新型机器人智能问答系统数据源/03 产品样册/06 产品单页样本/SX02300715《SR500A-500-2.52》-A_0.jpg\n",
      "Failed to convert /v/data/新型机器人智能问答系统数据源/03 产品样册/06 产品单页样本/SX02300702《SN7B-7-0.90 Industrial Robot Model》-A_0.jpg\n",
      "Failed to convert /v/data/新型机器人智能问答系统数据源/03 产品样册/06 产品单页样本/SX02300704《SR25A-12-2.01 Industrial Robot Model》-A_0.jpg\n",
      "Failed to convert /v/data/新型机器人智能问答系统数据源/03 产品样册/06 产品单页样本/SX02300703《SR12A-12-1.46 Industrial Robot Model》-A_0.jpg\n",
      "Failed to convert /v/data/新型机器人智能问答系统数据源/03 产品样册/06 产品单页样本/SX023007《STBT5A示教器》-V1.0.jpg\n",
      "Failed to convert /v/data/新型机器人智能问答系统数据源/03 产品样册/06 产品单页样本/SX02300713《SR270A-270-2.70》-A_1.jpg\n",
      "Failed to convert /v/data/新型机器人智能问答系统数据源/03 产品样册/01 产品综合样本/SX023001《新松工业机器人产品综合样本》-A.1.pdf\n",
      "Failed to convert /v/data/新型机器人智能问答系统数据源/03 产品样册/01 产品综合样本/SX023001《SIASUN Industrial Robotics》-A.1.pdf\n",
      "Failed to convert /v/data/新型机器人智能问答系统数据源/03 产品样册/02 产品焊接套机样本/SX023002《新松薄板焊接套机系统》-A.0.pdf\n",
      "Failed to convert /v/data/新型机器人智能问答系统数据源/03 产品样册/02 产品焊接套机样本/SX023004《新松中厚板焊接套机系统》-A.0.pdf\n",
      "Failed to convert /v/data/新型机器人智能问答系统数据源/03 产品样册/02 产品焊接套机样本/SX023004《M500 Welding Engineer System》-A.0.pdf\n",
      "Failed to convert /v/data/新型机器人智能问答系统数据源/03 产品样册/02 产品焊接套机样本/SX023002《A350&M350Welding Engineer System》-A.0.pdf\n",
      "Failed to convert /v/data/新型机器人智能问答系统数据源/03 产品样册/07 产品铝液捞渣套机样本/SX023014新松铝液捞渣套机系统-V1.0.pdf\n",
      "Failed to convert /v/data/新型机器人智能问答系统数据源/03 产品样册/03 产品点焊应用样本/SX023008《新松点焊机器人》-V1.1.pdf\n",
      "Failed to convert /v/data/新型机器人智能问答系统数据源/03 产品样册/08 产品激光清洗套机样本/SX023009新松激光清洗套机系统-V1.0.pdf\n",
      "Failed to convert /v/data/新型机器人智能问答系统数据源/03 产品样册/04 产品磨抛套机样本/SX023006《新松黑色金属打磨套机系统》-A.0.pdf\n",
      "Failed to convert /v/data/新型机器人智能问答系统数据源/03 产品样册/04 产品磨抛套机样本/SX023006《SIASUN Ferrous Metal Grinding & Polishing System》-A.0.pdf\n",
      "Failed to convert /v/data/新型机器人智能问答系统数据源/05 技术规格/本体工作范围/SR500A-360-2.83 运动范围 V1.0.dwg\n",
      "Failed to convert /v/data/新型机器人智能问答系统数据源/05 技术规格/本体工作范围/SP120A-120-2.50运动范围 V1.0.DWG\n",
      "Failed to convert /v/data/新型机器人智能问答系统数据源/05 技术规格/本体工作范围/SR25A-25-1.80 运动范围-V1.0.DWG\n",
      "Failed to convert /v/data/新型机器人智能问答系统数据源/05 技术规格/本体工作范围/SR500A-500-2.52 运动范围 V1.0.DWG\n",
      "Failed to convert /v/data/新型机器人智能问答系统数据源/05 技术规格/本体工作范围/SP160-160-3.05运动范围 V1.0.DWG\n",
      "Failed to convert /v/data/新型机器人智能问答系统数据源/05 技术规格/本体工作范围/SN7B-7-0.90运动范围 V1.0.DWG\n",
      "Failed to convert /v/data/新型机器人智能问答系统数据源/05 技术规格/本体工作范围/SR210A-210-3.05-DW 运动范围 V1.0.DWG\n",
      "Failed to convert /v/data/新型机器人智能问答系统数据源/05 技术规格/本体工作范围/SR210-120-3.05运动范围 V1.0.DWG\n",
      "Failed to convert /v/data/新型机器人智能问答系统数据源/05 技术规格/本体工作范围/SN4A-4-0.58 运动范围 V1.0.DWG\n",
      "Failed to convert /v/data/新型机器人智能问答系统数据源/05 技术规格/本体工作范围/SR25A-20-1.80 运动范围 V1.0.DWG\n",
      "Failed to convert /v/data/新型机器人智能问答系统数据源/05 技术规格/本体工作范围/SR12A-12-1.46 运动范围 V1.0.dwg\n",
      "Failed to convert /v/data/新型机器人智能问答系统数据源/05 技术规格/本体工作范围/SR25A-12-2.01 运动范围 V1.0.dwg\n",
      "Failed to convert /v/data/新型机器人智能问答系统数据源/05 技术规格/本体工作范围/SR50A-70-2.15运动范围 V1.0.DWG\n",
      "Failed to convert /v/data/新型机器人智能问答系统数据源/05 技术规格/本体工作范围/SR270A-270-2.70运动范围图V1.1.DWG\n",
      "Failed to convert /v/data/新型机器人智能问答系统数据源/05 技术规格/本体工作范围/SR25A-35-1.80 运动范围V1.0.DWG\n",
      "Failed to convert /v/data/新型机器人智能问答系统数据源/05 技术规格/本体工作范围/SR210A-210-2.65 运动范围 V1.0.dwg\n",
      "Failed to convert /v/data/新型机器人智能问答系统数据源/05 技术规格/本体工作范围/SR50A-50-2.15运动范围 V1.0.DWG\n",
      "Failed to convert /v/data/新型机器人智能问答系统数据源/05 技术规格/规格参数/SR024011《新松SR50A-70-2.15规格参数》A-1.pdf\n",
      "Failed to convert /v/data/新型机器人智能问答系统数据源/05 技术规格/规格参数/SR024013《新松SR270A-270-2.70规格参数》A-3.pdf\n",
      "Failed to convert /v/data/新型机器人智能问答系统数据源/05 技术规格/规格参数/SR02400401《 SIASUN SR210A-210-2.65 Specifications-CE》A-0.pdf\n",
      "Failed to convert /v/data/新型机器人智能问答系统数据源/05 技术规格/规格参数/SR02400301《Siasun SR25A-12-2.01 Specifications-CE》A-0.pdf\n",
      "Failed to convert /v/data/新型机器人智能问答系统数据源/05 技术规格/规格参数/SN024003《新松SN4A-4-0.58规格参数》A-1.pdf\n",
      "Failed to convert /v/data/新型机器人智能问答系统数据源/05 技术规格/规格参数/SR024005《新松SR210A-210-3.05-DW规格参数》A-2.pdf\n",
      "Failed to convert /v/data/新型机器人智能问答系统数据源/05 技术规格/规格参数/SR024009《新松SR25A-35-1.80规格参数》A-2.pdf\n",
      "Failed to convert /v/data/新型机器人智能问答系统数据源/05 技术规格/规格参数/SR024003《新松SR25A-12-2.01规格参数》A-1.pdf\n",
      "Failed to convert /v/data/新型机器人智能问答系统数据源/05 技术规格/规格参数/SR024012《新松SR210-120-3.05规格参数》A-2.pdf\n",
      "Failed to convert /v/data/新型机器人智能问答系统数据源/05 技术规格/规格参数/SR024004《新松SR210A-210-2.65规格参数》A-2.pdf\n",
      "Failed to convert /v/data/新型机器人智能问答系统数据源/05 技术规格/规格参数/SN024002《新松SN7B-7-0.90规格参数》A-1.pdf\n",
      "Failed to convert /v/data/新型机器人智能问答系统数据源/05 技术规格/规格参数/SX024001《新松通用外部轴 规格参数》A-1.pdf\n",
      "Failed to convert /v/data/新型机器人智能问答系统数据源/05 技术规格/规格参数/SP024001《新松SP120A-120-2.50规格参数》A-1.pdf\n",
      "Failed to convert /v/data/新型机器人智能问答系统数据源/05 技术规格/规格参数/SR024006《新松SR500A-360-2.83规格参数》A-2.pdf\n",
      "Failed to convert /v/data/新型机器人智能问答系统数据源/05 技术规格/规格参数/SR024001《新松SR12A-12-1.46规格参数》A-1.pdf\n",
      "Failed to convert /v/data/新型机器人智能问答系统数据源/05 技术规格/规格参数/SR024002《新松SR25A-20-1.80规格参数》A-1.pdf\n",
      "Failed to convert /v/data/新型机器人智能问答系统数据源/05 技术规格/规格参数/SR02400101《Siasun SR12A-12-1.46 Specifications-CE》A-0.pdf\n",
      "Failed to convert /v/data/新型机器人智能问答系统数据源/05 技术规格/规格参数/SR024007《新松SR50A-50-2.15规格参数》A-1.pdf\n",
      "Failed to convert /v/data/新型机器人智能问答系统数据源/05 技术规格/规格参数/SR024008《新松SR25A-25-1.80规格参数》A-1.pdf\n",
      "Failed to convert /v/data/新型机器人智能问答系统数据源/05 技术规格/规格参数/SR024010《新松SR500A-500-2.52规格参数》A-2.pdf\n",
      "Failed to convert /v/data/新型机器人智能问答系统数据源/06 产品手册/软件类/技术规格\n",
      "Failed to convert /v/data/新型机器人智能问答系统数据源/06 产品手册/软件类/手册\n",
      "Failed to convert /v/data/新型机器人智能问答系统数据源/06 产品手册/快速安装类/SR022001《新松 SR系列工业机器人快速安装手册》- V1.1.pdf\n",
      "Failed to convert /v/data/新型机器人智能问答系统数据源/06 产品手册/快速安装类/SN022001《新松 SN系列工业机器人快速安装手册》- V1.1.pdf\n",
      "Failed to convert /v/data/新型机器人智能问答系统数据源/06 产品手册/安全类/SX022001《新松机器人安全手册》-V1.9.pdf\n",
      "Failed to convert /v/data/新型机器人智能问答系统数据源/06 产品手册/安全类/SX022001_-Siasun Robot Safety Manual_-V1.3.pdf\n",
      "Failed to convert /v/data/新型机器人智能问答系统数据源/06 产品手册/机械类/SR122006新松SR50系列工业机器人安装及维护手册（A-3).pdf\n",
      "Failed to convert /v/data/新型机器人智能问答系统数据源/06 产品手册/机械类/SN122002新松SN4系列工业机器人安装及维护手册（A-2).pdf\n",
      "Failed to convert /v/data/新型机器人智能问答系统数据源/06 产品手册/机械类/SN122001新松SN7系列工业机器人安装及维护手册（A-5).pdf\n",
      "Failed to convert /v/data/新型机器人智能问答系统数据源/06 产品手册/机械类/SR122004新松SR500系列工业机器人安装及维护手册（A-2).pdf\n",
      "Failed to convert /v/data/新型机器人智能问答系统数据源/06 产品手册/机械类/SP122001新松SP120系列工业机器人安装及维护手册（A-0).pdf\n",
      "Failed to convert /v/data/新型机器人智能问答系统数据源/06 产品手册/机械类/SR122002新松SR25系列工业机器人安装及维护手册（A-5).pdf\n",
      "Failed to convert /v/data/新型机器人智能问答系统数据源/06 产品手册/机械类/SR122003Installation and Maintenance Manual of Siasun SR210 Series Industrial Robot-A.0_20250304110016.pdf\n",
      "Failed to convert /v/data/新型机器人智能问答系统数据源/06 产品手册/机械类/SR122001新松SR12系列工业机器人安装及维护手册（A-4).pdf\n",
      "Failed to convert /v/data/新型机器人智能问答系统数据源/06 产品手册/机械类/SR122002Installation and Maintenance Manual of Siasun SR25 Series Industrial Robot-A.0_20250304105939.pdf\n",
      "Failed to convert /v/data/新型机器人智能问答系统数据源/06 产品手册/机械类/SR122003新松SR210系列工业机器人安装及维护手册（A-4).pdf\n",
      "Failed to convert /v/data/新型机器人智能问答系统数据源/06 产品手册/机械类/SR122005新松SR270系列工业机器人安装及维护手册（A-2).pdf\n",
      "Failed to convert /v/data/新型机器人智能问答系统数据源/06 产品手册/机械类/SR122001Installation and Maintenance Manual of Siasun SR12 Series Industrial Robot-A.0_20250304110301.pdf\n",
      "Failed to convert /v/data/新型机器人智能问答系统数据源/06 产品手册/电气类/SX222002《新松机器人外部轴使用手册》-V1.4.pdf\n",
      "Failed to convert /v/data/新型机器人智能问答系统数据源/06 产品手册/电气类/SX222001Siasun Robot Electrical Operation and Maintenance Manual-V1.3.pdf\n",
      "Failed to convert /v/data/新型机器人智能问答系统数据源/06 产品手册/电气类/SX222001《新松机器人电气使用及维护手册》-B-0.pdf\n",
      "Failed to convert /v/data/新型机器人智能问答系统数据源/06 产品手册/软件类/技术规格/SX324001《新松机器人免示教焊接系统应用范围说明》-V1.0.pdf\n",
      "Failed to convert /v/data/新型机器人智能问答系统数据源/06 产品手册/软件类/手册/V3.0版本\n",
      "Failed to convert /v/data/新型机器人智能问答系统数据源/06 产品手册/软件类/手册/V4.0版本\n",
      "Failed to convert /v/data/新型机器人智能问答系统数据源/06 产品手册/软件类/手册/V3.0版本/SX322003《新松机器人弧焊应用操作手册》-V1.0.pdf\n",
      "Failed to convert /v/data/新型机器人智能问答系统数据源/06 产品手册/软件类/手册/V3.0版本/SX322001《新松机器人通用操作手册》-V1.4.pdf\n",
      "Failed to convert /v/data/新型机器人智能问答系统数据源/06 产品手册/软件类/手册/V3.0版本/SX322002《新松机器人码垛应用操作手册》-V1.0.pdf\n",
      "Failed to convert /v/data/新型机器人智能问答系统数据源/06 产品手册/软件类/手册/V3.0版本/SX322005《新松机器人视觉应用操作手册》-V1.0 .pdf\n",
      "Failed to convert /v/data/新型机器人智能问答系统数据源/06 产品手册/软件类/手册/V3.0版本/SX322009《新松机器人离线接口库使用手册》-V1.0.pdf\n",
      "Failed to convert /v/data/新型机器人智能问答系统数据源/06 产品手册/软件类/手册/V3.0版本/SX322008《新松机器人免示教焊接软件操作手册》-V1.0.pdf\n",
      "Failed to convert /v/data/新型机器人智能问答系统数据源/06 产品手册/软件类/手册/V4.0版本/SX322017《新松机器人跟随应用操作手册》-（A-0）.pdf\n",
      "Failed to convert /v/data/新型机器人智能问答系统数据源/06 产品手册/软件类/手册/V4.0版本/SX322015《新松机器人快换应用操作手册》-A-0.pdf\n",
      "Failed to convert /v/data/新型机器人智能问答系统数据源/06 产品手册/软件类/手册/V4.0版本/SX322011《新松机器人搬运应用操作手册》-A-0.pdf\n",
      "Failed to convert /v/data/新型机器人智能问答系统数据源/06 产品手册/软件类/手册/V4.0版本/SX322001《新松机器人通用操作手册》（B-2).pdf\n",
      "Failed to convert /v/data/新型机器人智能问答系统数据源/06 产品手册/软件类/手册/V4.0版本/SX322005《新松机器人视觉应用操作手册》（A-1).pdf\n",
      "Failed to convert /v/data/新型机器人智能问答系统数据源/06 产品手册/软件类/手册/V4.0版本/SX322006《新松机器人打磨应用操作手册》（A-1).pdf\n",
      "Failed to convert /v/data/新型机器人智能问答系统数据源/06 产品手册/软件类/手册/V4.0版本/SX322013《新松机器人螺柱焊功能使用手册》-A-0.pdf\n",
      "Failed to convert /v/data/新型机器人智能问答系统数据源/06 产品手册/软件类/手册/V4.0版本/SX322007《新松机器人点焊应用操作手册》-A-0.pdf\n",
      "Failed to convert /v/data/新型机器人智能问答系统数据源/06 产品手册/软件类/手册/V4.0版本/SX322001_Siasun Robot General Operation Manual_-V1.3.pdf\n",
      "Failed to convert /v/data/新型机器人智能问答系统数据源/06 产品手册/软件类/手册/V4.0版本/SX322004《新松机器人激光焊应用操作手册》-V1.2.pdf\n",
      "Failed to convert /v/data/新型机器人智能问答系统数据源/06 产品手册/软件类/手册/V4.0版本/SX322009《新松机器人离线接口库使用手册》(B-4).pdf\n",
      "Failed to convert /v/data/新型机器人智能问答系统数据源/06 产品手册/软件类/手册/V4.0版本/SX322016《新松机器人FDS应用使用手册》-A-0.pdf\n",
      "Failed to convert /v/data/新型机器人智能问答系统数据源/06 产品手册/软件类/手册/V4.0版本/SX322012《新松机器人涂胶功能使用手册》-A-0.pdf\n",
      "Failed to convert /v/data/新型机器人智能问答系统数据源/06 产品手册/软件类/手册/V4.0版本/SX322014《新松机器人SPR铆接功能使用手册》-A-0.pdf\n",
      "Failed to convert /v/data/新型机器人智能问答系统数据源/06 产品手册/软件类/手册/V4.0版本/SX322003《新松机器人弧焊应用操作手册》(B-2).pdf\n",
      "Converted: /v/data/新型机器人智能问答系统数据源/02 产品推介资料/SX023012汽车行业解决方案介绍-A_1.pptx -> /v/data/新型机器人智能问答系统数据源/02 产品推介资料/SX023012汽车行业解决方案介绍-A_1.pdf\n",
      "Failed to convert /v/data/新型机器人智能问答系统数据源/09 工业机器人营销、售后支持话术指导书/SIASUN新松工业机器人营销、售后支持话术指导书_V3.0.pdf\n",
      "Failed to convert /v/data/新型机器人智能问答系统数据源/04 公司各BG样本汇总/半导体装备-email.pdf\n",
      "Failed to convert /v/data/新型机器人智能问答系统数据源/04 公司各BG样本汇总/DELTA机器人1102-email.pdf\n",
      "Failed to convert /v/data/新型机器人智能问答系统数据源/04 公司各BG样本汇总/移动机器人样本0111【21】.pdf\n",
      "Failed to convert /v/data/新型机器人智能问答系统数据源/04 公司各BG样本汇总/特种机器人1106-email.pdf\n",
      "Failed to convert /v/data/新型机器人智能问答系统数据源/04 公司各BG样本汇总/总体样本.pdf\n",
      "Failed to convert /v/data/新型机器人智能问答系统数据源/04 公司各BG样本汇总/智慧工厂样本1127-email.pdf\n",
      "Failed to convert /v/data/新型机器人智能问答系统数据源/04 公司各BG样本汇总/医疗机器人0722【20】.pdf\n",
      "Failed to convert /v/data/新型机器人智能问答系统数据源/04 公司各BG样本汇总/物流样本0611【21】-email.pdf\n",
      "Converted: /v/data/新型机器人智能问答系统数据源/07 机器人产品配置清单/SIASUN机器人产品配置清单_v25.2.28.xlsx -> /v/data/新型机器人智能问答系统数据源/07 机器人产品配置清单/SIASUN机器人产品配置清单_v25.2.28.md\n",
      "Failed to convert /v/data/新型机器人智能问答系统数据源/06 产品手册/软件类\n",
      "Failed to convert /v/data/新型机器人智能问答系统数据源/06 产品手册/快速安装类\n",
      "Failed to convert /v/data/新型机器人智能问答系统数据源/06 产品手册/安全类\n",
      "Failed to convert /v/data/新型机器人智能问答系统数据源/06 产品手册/机械类\n",
      "Failed to convert /v/data/新型机器人智能问答系统数据源/06 产品手册/电气类\n",
      "Failed to convert /v/data/新型机器人智能问答系统数据源/08 检测报告与认证证书/检测报告/JSWJ-CSBG21044-V1.0  工业机器人控制系统（SRC E5）环境试验报告.pdf\n",
      "Failed to convert /v/data/新型机器人智能问答系统数据源/08 检测报告与认证证书/检测报告/T35A-25检测报告(1).pdf\n",
      "Failed to convert /v/data/新型机器人智能问答系统数据源/08 检测报告与认证证书/检测报告/T12A-14检测报告EMC（MCB类别3评估）.pdf\n",
      "Failed to convert /v/data/新型机器人智能问答系统数据源/08 检测报告与认证证书/检测报告/检测报告T12A-14（电源适应能力+功率+泄漏电流）.pdf\n",
      "Failed to convert /v/data/新型机器人智能问答系统数据源/08 检测报告与认证证书/检测报告/新松SR210A.pdf\n",
      "Failed to convert /v/data/新型机器人智能问答系统数据源/08 检测报告与认证证书/检测报告/SR20A-E检测报告(1).pdf\n",
      "Failed to convert /v/data/新型机器人智能问答系统数据源/08 检测报告与认证证书/检测报告/火弧机器人小臂IP等级检测报告.pdf\n",
      "Failed to convert /v/data/新型机器人智能问答系统数据源/08 检测报告与认证证书/检测报告/新松SR25A.pdf\n",
      "Failed to convert /v/data/新型机器人智能问答系统数据源/08 检测报告与认证证书/检测报告/江苏华途数控科技有限公司 测试报告.pdf\n",
      "Failed to convert /v/data/新型机器人智能问答系统数据源/08 检测报告与认证证书/检测报告/火弧机器人控制装置IP等级检测报告.pdf\n",
      "Failed to convert /v/data/新型机器人智能问答系统数据源/08 检测报告与认证证书/检测报告/T20、T35、T50、T80工业机器人检测报告-沈阳新松2022年8月.pdf\n",
      "Failed to convert /v/data/新型机器人智能问答系统数据源/08 检测报告与认证证书/检测报告/T12A-14检测报告(1).pdf\n",
      "Failed to convert /v/data/新型机器人智能问答系统数据源/08 检测报告与认证证书/检测报告/SR210B-BG-1809004 EMC检测报告 扫描件.pdf\n",
      "Failed to convert /v/data/新型机器人智能问答系统数据源/08 检测报告与认证证书/CE认证证书/DSS_SHES240501030402-02(1).pdf\n",
      "Failed to convert /v/data/新型机器人智能问答系统数据源/08 检测报告与认证证书/CE认证证书/DSS_SHES241202398101-02.pdf\n",
      "Failed to convert /v/data/新型机器人智能问答系统数据源/08 检测报告与认证证书/CE认证证书/DSS_SHES240501030402-01(1).pdf\n",
      "Failed to convert /v/data/新型机器人智能问答系统数据源/08 检测报告与认证证书/CE认证证书/DSS_SHES240501030402-03(1).pdf\n",
      "Failed to convert /v/data/新型机器人智能问答系统数据源/08 检测报告与认证证书/CE认证证书/DSS_SHES241202398101-01.pdf\n",
      "Failed to convert /v/data/新型机器人智能问答系统数据源/08 检测报告与认证证书/CE认证证书/DSS_MD_CoC_25_HEL_014 Issue 1.pdf\n",
      "Failed to convert /v/data/新型机器人智能问答系统数据源/08 检测报告与认证证书/CE认证证书/DSS_SHES241202398201-01.pdf\n",
      "Failed to convert /v/data/新型机器人智能问答系统数据源/08 检测报告与认证证书/CE认证证书/DSS_SHES241202398101-03.pdf\n",
      "Failed to convert /v/data/新型机器人智能问答系统数据源/08 检测报告与认证证书/CE认证证书/DSS_SHES241202398201-02.pdf\n",
      "Failed to convert /v/data/新型机器人智能问答系统数据源/08 检测报告与认证证书/CE认证证书/DSS_MD_CoC_25_HEL_009 Issue 1.pdf\n",
      "Failed to convert /v/data/新型机器人智能问答系统数据源/08 检测报告与认证证书/CE认证证书/DSS_SHES241202398201-03.pdf\n",
      "Failed to convert /v/data/新型机器人智能问答系统数据源/08 检测报告与认证证书/认证证书/工业机器人SR210A-新松CR证书.pdf\n",
      "Failed to convert /v/data/新型机器人智能问答系统数据源/08 检测报告与认证证书/认证证书/DSS_SHEM2412007772Ver_CE_SH.pdf\n",
      "Failed to convert /v/data/新型机器人智能问答系统数据源/08 检测报告与认证证书/认证证书/EMC报告扫描.pdf\n",
      "Failed to convert /v/data/新型机器人智能问答系统数据源/08 检测报告与认证证书/认证证书/T12A、T20A、T35A、T50A、T80A等CR认证证书.pdf\n",
      "Failed to convert /v/data/新型机器人智能问答系统数据源/08 检测报告与认证证书/认证证书/DSS_SHEM2412007773Ver_CE_SH.pdf\n",
      "Failed to convert /v/data/新型机器人智能问答系统数据源/08 检测报告与认证证书/认证证书/SGS中国发证MD指令CE证书.pdf\n",
      "Failed to convert /v/data/新型机器人智能问答系统数据源/08 检测报告与认证证书/认证证书/DSS_MD SHES2412023981MD.pdf\n",
      "Failed to convert /v/data/新型机器人智能问答系统数据源/08 检测报告与认证证书/认证证书/SR210A-210等机型EMC指令CE证书.pdf\n",
      "Failed to convert /v/data/新型机器人智能问答系统数据源/08 检测报告与认证证书/认证证书/SGS芬兰发证MD指令CE证书.pdf\n",
      "Failed to convert /v/data/新型机器人智能问答系统数据源/08 检测报告与认证证书/认证证书/天津CCIDCCZS-20200138R.pdf\n",
      "Failed to convert /v/data/新型机器人智能问答系统数据源/08 检测报告与认证证书/认证证书/天津CCIDCCZS-20200132R.pdf\n",
      "Failed to convert /v/data/新型机器人智能问答系统数据源/08 检测报告与认证证书/认证证书/工业机器人SR25A-新松CR证书.pdf\n",
      "Failed to convert /v/data/新型机器人智能问答系统数据源/08 检测报告与认证证书/认证证书/DSS_MD SHES2412023982MD.pdf\n",
      "Failed to convert /v/data/新型机器人智能问答系统数据源/08 检测报告与认证证书/认证证书/沈阳CCIDCCZS-20180063R.pdf\n",
      "Failed to convert /v/data/新型机器人智能问答系统数据源/08 检测报告与认证证书/电池认证资料/经销商授权书.pdf\n",
      "Failed to convert /v/data/新型机器人智能问答系统数据源/08 检测报告与认证证书/电池认证资料/MSDS【2024年度】已失效.pdf\n",
      "Failed to convert /v/data/新型机器人智能问答系统数据源/08 检测报告与认证证书/电池认证资料/ER34615H  UN38.3试验概要 【2022.1.4】.pdf\n",
      "Failed to convert /v/data/新型机器人智能问答系统数据源/08 检测报告与认证证书/电池认证资料/ER34615H  UN38.3检测报告【2022.1.4】.pdf\n",
      "Failed to convert /v/data/新型机器人智能问答系统数据源/08 检测报告与认证证书/电池认证资料/电池认证信息说明.txt\n",
      "Failed to convert /v/data/新型机器人智能问答系统数据源/08 检测报告与认证证书/电池认证资料/MSDS【2025年度】.pdf\n",
      "Failed to convert /v/data/新型机器人智能问答系统数据源/03 产品样册/05 产品码垛应用样本/SX023015新松箱类拆、码垛单元V1.1.pdf\n",
      "Failed to convert /v/data/新型机器人智能问答系统数据源/03 产品样册/05 产品码垛应用样本/SX023016新松袋类拆、码垛单元V1.0.pdf\n",
      "Failed to convert /v/data/新型机器人智能问答系统数据源/03 产品样册/06 产品单页样本/SX02300701《SN4A-4-0.58 Industrial Robot Model》-A_0.jpg\n",
      "Failed to convert /v/data/新型机器人智能问答系统数据源/03 产品样册/06 产品单页样本/SX02300712《SR210A-210-3.05-DW Industrial Robot Model》-A_0.jpg\n",
      "Failed to convert /v/data/新型机器人智能问答系统数据源/03 产品样册/06 产品单页样本/SX02300715《SR500A-500-2.52 Industrial Robot Model》-A_0.jpg\n",
      "Failed to convert /v/data/新型机器人智能问答系统数据源/03 产品样册/06 产品单页样本/SX02300710《SR210-120-3.05》-A_0.jpg\n",
      "Failed to convert /v/data/新型机器人智能问答系统数据源/03 产品样册/06 产品单页样本/SX023007《SP160-160-3.05》-V1.0.jpg\n",
      "Failed to convert /v/data/新型机器人智能问答系统数据源/03 产品样册/06 产品单页样本/SX02300716《SP120A-120-2.50》-A_0.jpg\n",
      "Failed to convert /v/data/新型机器人智能问答系统数据源/03 产品样册/06 产品单页样本/SX02300716《SP120A-120-2.50 Industrial Robot Model》-A_0.jpg\n",
      "Failed to convert /v/data/新型机器人智能问答系统数据源/03 产品样册/06 产品单页样本/SX02300706《SR25A-25-1.80 Industrial Robot Model》-A_0.jpg\n",
      "Failed to convert /v/data/新型机器人智能问答系统数据源/03 产品样册/06 产品单页样本/SX023007《SR25-20-1.76 Industrial Robot Model》-V1.0.jpg\n",
      "Failed to convert /v/data/新型机器人智能问答系统数据源/03 产品样册/06 产品单页样本/SX02300712《SR210A-210-3.05-DW》-A_0.jpg\n",
      "Failed to convert /v/data/新型机器人智能问答系统数据源/03 产品样册/06 产品单页样本/SX02300709《SR50A-70-2.15 Industrial Robot Model》-A_0.jpg\n",
      "Failed to convert /v/data/新型机器人智能问答系统数据源/03 产品样册/06 产品单页样本/SX023007《SR50-80-2.15 Industrial Robot Model》-V1.0.jpg\n",
      "Failed to convert /v/data/新型机器人智能问答系统数据源/03 产品样册/06 产品单页样本/SX023007《SR50-50-2.15 Industrial Robot Model》-V1.0.jpg\n",
      "Failed to convert /v/data/新型机器人智能问答系统数据源/03 产品样册/06 产品单页样本/SX02300708《SR50A-50-2.15》-A_0.jpg\n",
      "Failed to convert /v/data/新型机器人智能问答系统数据源/03 产品样册/06 产品单页样本/SX023007《SR25-20-1.76》-V1.0.jpg\n",
      "Failed to convert /v/data/新型机器人智能问答系统数据源/03 产品样册/06 产品单页样本/SX02300704《SR25A-12-2.01》-A_0.jpg\n",
      "Failed to convert /v/data/新型机器人智能问答系统数据源/03 产品样册/06 产品单页样本/SX023007《STBT5A Teach Pendant》-V1.0.jpg\n",
      "Failed to convert /v/data/新型机器人智能问答系统数据源/03 产品样册/06 产品单页样本/SX02300703《SR12A-12-1.46》-A_0.jpg\n",
      "Failed to convert /v/data/新型机器人智能问答系统数据源/03 产品样册/06 产品单页样本/SX02300701《SN4A-4-0.58》-A_0.jpg\n",
      "Failed to convert /v/data/新型机器人智能问答系统数据源/03 产品样册/06 产品单页样本/SX02300706《SR25A-25-1.80》-A_0.jpg\n",
      "Failed to convert /v/data/新型机器人智能问答系统数据源/03 产品样册/06 产品单页样本/SX02300714《SR500A-360-2.83 Industrial Robot Model》-A_0.jpg\n",
      "Failed to convert /v/data/新型机器人智能问答系统数据源/03 产品样册/06 产品单页样本/SX02300711《SR210A-210-2.65》-A_0.jpg\n",
      "Failed to convert /v/data/新型机器人智能问答系统数据源/03 产品样册/06 产品单页样本/SX02300709《SR50A-70-2.15》-A_0.jpg\n",
      "Failed to convert /v/data/新型机器人智能问答系统数据源/03 产品样册/06 产品单页样本/SX02300707《SR25A-35-1.80 Industrial Robot Model》-A_0.jpg\n",
      "Failed to convert /v/data/新型机器人智能问答系统数据源/03 产品样册/06 产品单页样本/SX02300710《SR210-120-3.05 Industrial Robot Model》-A_0.jpg\n",
      "Failed to convert /v/data/新型机器人智能问答系统数据源/03 产品样册/06 产品单页样本/SX02300707《SR25A-35-1.80》-A_0.jpg\n",
      "Failed to convert /v/data/新型机器人智能问答系统数据源/03 产品样册/06 产品单页样本/SX02300708《SR50A-50-2.15 Industrial Robot Model》-A_0.jpg\n",
      "Failed to convert /v/data/新型机器人智能问答系统数据源/03 产品样册/06 产品单页样本/SX023007《SR50-50-2.15》-V1.0.jpg\n",
      "Failed to convert /v/data/新型机器人智能问答系统数据源/03 产品样册/06 产品单页样本/SX02300714《SR500A-360-2.83》-A_0.jpg\n",
      "Failed to convert /v/data/新型机器人智能问答系统数据源/03 产品样册/06 产品单页样本/SX023007《SR50-80-2.15》-V1.10.jpg\n",
      "Failed to convert /v/data/新型机器人智能问答系统数据源/03 产品样册/06 产品单页样本/SX02300713《SR270A-270-2.70 Industrial Robot Model》-A_1.jpg\n",
      "Failed to convert /v/data/新型机器人智能问答系统数据源/03 产品样册/06 产品单页样本/SX02300705《SR25A-20-1.80 Industrial Robot Model》-A_0.jpg\n",
      "Failed to convert /v/data/新型机器人智能问答系统数据源/03 产品样册/06 产品单页样本/SX02300705《SR25A-20-1.80》-A_0.jpg\n",
      "Failed to convert /v/data/新型机器人智能问答系统数据源/03 产品样册/06 产品单页样本/SX02300702《SN7B-7-0.90》-A_0.jpg\n",
      "Failed to convert /v/data/新型机器人智能问答系统数据源/03 产品样册/06 产品单页样本/SX02300711《SR210A-210-2.65 Industrial Robot Model》-A_0.jpg\n",
      "Failed to convert /v/data/新型机器人智能问答系统数据源/03 产品样册/06 产品单页样本/SX02300715《SR500A-500-2.52》-A_0.jpg\n",
      "Failed to convert /v/data/新型机器人智能问答系统数据源/03 产品样册/06 产品单页样本/SX02300702《SN7B-7-0.90 Industrial Robot Model》-A_0.jpg\n",
      "Failed to convert /v/data/新型机器人智能问答系统数据源/03 产品样册/06 产品单页样本/SX02300704《SR25A-12-2.01 Industrial Robot Model》-A_0.jpg\n",
      "Failed to convert /v/data/新型机器人智能问答系统数据源/03 产品样册/06 产品单页样本/SX02300703《SR12A-12-1.46 Industrial Robot Model》-A_0.jpg\n",
      "Failed to convert /v/data/新型机器人智能问答系统数据源/03 产品样册/06 产品单页样本/SX023007《STBT5A示教器》-V1.0.jpg\n",
      "Failed to convert /v/data/新型机器人智能问答系统数据源/03 产品样册/06 产品单页样本/SX02300713《SR270A-270-2.70》-A_1.jpg\n",
      "Failed to convert /v/data/新型机器人智能问答系统数据源/03 产品样册/01 产品综合样本/SX023001《新松工业机器人产品综合样本》-A.1.pdf\n",
      "Failed to convert /v/data/新型机器人智能问答系统数据源/03 产品样册/01 产品综合样本/SX023001《SIASUN Industrial Robotics》-A.1.pdf\n",
      "Failed to convert /v/data/新型机器人智能问答系统数据源/03 产品样册/02 产品焊接套机样本/SX023002《新松薄板焊接套机系统》-A.0.pdf\n",
      "Failed to convert /v/data/新型机器人智能问答系统数据源/03 产品样册/02 产品焊接套机样本/SX023004《新松中厚板焊接套机系统》-A.0.pdf\n",
      "Failed to convert /v/data/新型机器人智能问答系统数据源/03 产品样册/02 产品焊接套机样本/SX023004《M500 Welding Engineer System》-A.0.pdf\n",
      "Failed to convert /v/data/新型机器人智能问答系统数据源/03 产品样册/02 产品焊接套机样本/SX023002《A350&M350Welding Engineer System》-A.0.pdf\n",
      "Failed to convert /v/data/新型机器人智能问答系统数据源/03 产品样册/07 产品铝液捞渣套机样本/SX023014新松铝液捞渣套机系统-V1.0.pdf\n",
      "Failed to convert /v/data/新型机器人智能问答系统数据源/03 产品样册/03 产品点焊应用样本/SX023008《新松点焊机器人》-V1.1.pdf\n",
      "Failed to convert /v/data/新型机器人智能问答系统数据源/03 产品样册/08 产品激光清洗套机样本/SX023009新松激光清洗套机系统-V1.0.pdf\n",
      "Failed to convert /v/data/新型机器人智能问答系统数据源/03 产品样册/04 产品磨抛套机样本/SX023006《新松黑色金属打磨套机系统》-A.0.pdf\n",
      "Failed to convert /v/data/新型机器人智能问答系统数据源/03 产品样册/04 产品磨抛套机样本/SX023006《SIASUN Ferrous Metal Grinding & Polishing System》-A.0.pdf\n",
      "Failed to convert /v/data/新型机器人智能问答系统数据源/05 技术规格/本体工作范围/SR500A-360-2.83 运动范围 V1.0.dwg\n",
      "Failed to convert /v/data/新型机器人智能问答系统数据源/05 技术规格/本体工作范围/SP120A-120-2.50运动范围 V1.0.DWG\n",
      "Failed to convert /v/data/新型机器人智能问答系统数据源/05 技术规格/本体工作范围/SR25A-25-1.80 运动范围-V1.0.DWG\n",
      "Failed to convert /v/data/新型机器人智能问答系统数据源/05 技术规格/本体工作范围/SR500A-500-2.52 运动范围 V1.0.DWG\n",
      "Failed to convert /v/data/新型机器人智能问答系统数据源/05 技术规格/本体工作范围/SP160-160-3.05运动范围 V1.0.DWG\n",
      "Failed to convert /v/data/新型机器人智能问答系统数据源/05 技术规格/本体工作范围/SN7B-7-0.90运动范围 V1.0.DWG\n",
      "Failed to convert /v/data/新型机器人智能问答系统数据源/05 技术规格/本体工作范围/SR210A-210-3.05-DW 运动范围 V1.0.DWG\n",
      "Failed to convert /v/data/新型机器人智能问答系统数据源/05 技术规格/本体工作范围/SR210-120-3.05运动范围 V1.0.DWG\n",
      "Failed to convert /v/data/新型机器人智能问答系统数据源/05 技术规格/本体工作范围/SN4A-4-0.58 运动范围 V1.0.DWG\n",
      "Failed to convert /v/data/新型机器人智能问答系统数据源/05 技术规格/本体工作范围/SR25A-20-1.80 运动范围 V1.0.DWG\n",
      "Failed to convert /v/data/新型机器人智能问答系统数据源/05 技术规格/本体工作范围/SR12A-12-1.46 运动范围 V1.0.dwg\n",
      "Failed to convert /v/data/新型机器人智能问答系统数据源/05 技术规格/本体工作范围/SR25A-12-2.01 运动范围 V1.0.dwg\n",
      "Failed to convert /v/data/新型机器人智能问答系统数据源/05 技术规格/本体工作范围/SR50A-70-2.15运动范围 V1.0.DWG\n",
      "Failed to convert /v/data/新型机器人智能问答系统数据源/05 技术规格/本体工作范围/SR270A-270-2.70运动范围图V1.1.DWG\n",
      "Failed to convert /v/data/新型机器人智能问答系统数据源/05 技术规格/本体工作范围/SR25A-35-1.80 运动范围V1.0.DWG\n",
      "Failed to convert /v/data/新型机器人智能问答系统数据源/05 技术规格/本体工作范围/SR210A-210-2.65 运动范围 V1.0.dwg\n",
      "Failed to convert /v/data/新型机器人智能问答系统数据源/05 技术规格/本体工作范围/SR50A-50-2.15运动范围 V1.0.DWG\n",
      "Failed to convert /v/data/新型机器人智能问答系统数据源/05 技术规格/规格参数/SR024011《新松SR50A-70-2.15规格参数》A-1.pdf\n",
      "Failed to convert /v/data/新型机器人智能问答系统数据源/05 技术规格/规格参数/SR024013《新松SR270A-270-2.70规格参数》A-3.pdf\n",
      "Failed to convert /v/data/新型机器人智能问答系统数据源/05 技术规格/规格参数/SR02400401《 SIASUN SR210A-210-2.65 Specifications-CE》A-0.pdf\n",
      "Failed to convert /v/data/新型机器人智能问答系统数据源/05 技术规格/规格参数/SR02400301《Siasun SR25A-12-2.01 Specifications-CE》A-0.pdf\n",
      "Failed to convert /v/data/新型机器人智能问答系统数据源/05 技术规格/规格参数/SN024003《新松SN4A-4-0.58规格参数》A-1.pdf\n",
      "Failed to convert /v/data/新型机器人智能问答系统数据源/05 技术规格/规格参数/SR024005《新松SR210A-210-3.05-DW规格参数》A-2.pdf\n",
      "Failed to convert /v/data/新型机器人智能问答系统数据源/05 技术规格/规格参数/SR024009《新松SR25A-35-1.80规格参数》A-2.pdf\n",
      "Failed to convert /v/data/新型机器人智能问答系统数据源/05 技术规格/规格参数/SR024003《新松SR25A-12-2.01规格参数》A-1.pdf\n",
      "Failed to convert /v/data/新型机器人智能问答系统数据源/05 技术规格/规格参数/SR024012《新松SR210-120-3.05规格参数》A-2.pdf\n",
      "Failed to convert /v/data/新型机器人智能问答系统数据源/05 技术规格/规格参数/SR024004《新松SR210A-210-2.65规格参数》A-2.pdf\n",
      "Failed to convert /v/data/新型机器人智能问答系统数据源/05 技术规格/规格参数/SN024002《新松SN7B-7-0.90规格参数》A-1.pdf\n",
      "Failed to convert /v/data/新型机器人智能问答系统数据源/05 技术规格/规格参数/SX024001《新松通用外部轴 规格参数》A-1.pdf\n",
      "Failed to convert /v/data/新型机器人智能问答系统数据源/05 技术规格/规格参数/SP024001《新松SP120A-120-2.50规格参数》A-1.pdf\n",
      "Failed to convert /v/data/新型机器人智能问答系统数据源/05 技术规格/规格参数/SR024006《新松SR500A-360-2.83规格参数》A-2.pdf\n",
      "Failed to convert /v/data/新型机器人智能问答系统数据源/05 技术规格/规格参数/SR024001《新松SR12A-12-1.46规格参数》A-1.pdf\n",
      "Failed to convert /v/data/新型机器人智能问答系统数据源/05 技术规格/规格参数/SR024002《新松SR25A-20-1.80规格参数》A-1.pdf\n",
      "Failed to convert /v/data/新型机器人智能问答系统数据源/05 技术规格/规格参数/SR02400101《Siasun SR12A-12-1.46 Specifications-CE》A-0.pdf\n",
      "Failed to convert /v/data/新型机器人智能问答系统数据源/05 技术规格/规格参数/SR024007《新松SR50A-50-2.15规格参数》A-1.pdf\n",
      "Failed to convert /v/data/新型机器人智能问答系统数据源/05 技术规格/规格参数/SR024008《新松SR25A-25-1.80规格参数》A-1.pdf\n",
      "Failed to convert /v/data/新型机器人智能问答系统数据源/05 技术规格/规格参数/SR024010《新松SR500A-500-2.52规格参数》A-2.pdf\n",
      "Failed to convert /v/data/新型机器人智能问答系统数据源/06 产品手册/软件类/技术规格\n",
      "Failed to convert /v/data/新型机器人智能问答系统数据源/06 产品手册/软件类/手册\n",
      "Failed to convert /v/data/新型机器人智能问答系统数据源/06 产品手册/快速安装类/SR022001《新松 SR系列工业机器人快速安装手册》- V1.1.pdf\n",
      "Failed to convert /v/data/新型机器人智能问答系统数据源/06 产品手册/快速安装类/SN022001《新松 SN系列工业机器人快速安装手册》- V1.1.pdf\n",
      "Failed to convert /v/data/新型机器人智能问答系统数据源/06 产品手册/安全类/SX022001《新松机器人安全手册》-V1.9.pdf\n",
      "Failed to convert /v/data/新型机器人智能问答系统数据源/06 产品手册/安全类/SX022001_-Siasun Robot Safety Manual_-V1.3.pdf\n",
      "Failed to convert /v/data/新型机器人智能问答系统数据源/06 产品手册/机械类/SR122006新松SR50系列工业机器人安装及维护手册（A-3).pdf\n",
      "Failed to convert /v/data/新型机器人智能问答系统数据源/06 产品手册/机械类/SN122002新松SN4系列工业机器人安装及维护手册（A-2).pdf\n",
      "Failed to convert /v/data/新型机器人智能问答系统数据源/06 产品手册/机械类/SN122001新松SN7系列工业机器人安装及维护手册（A-5).pdf\n",
      "Failed to convert /v/data/新型机器人智能问答系统数据源/06 产品手册/机械类/SR122004新松SR500系列工业机器人安装及维护手册（A-2).pdf\n",
      "Failed to convert /v/data/新型机器人智能问答系统数据源/06 产品手册/机械类/SP122001新松SP120系列工业机器人安装及维护手册（A-0).pdf\n",
      "Failed to convert /v/data/新型机器人智能问答系统数据源/06 产品手册/机械类/SR122002新松SR25系列工业机器人安装及维护手册（A-5).pdf\n",
      "Failed to convert /v/data/新型机器人智能问答系统数据源/06 产品手册/机械类/SR122003Installation and Maintenance Manual of Siasun SR210 Series Industrial Robot-A.0_20250304110016.pdf\n",
      "Failed to convert /v/data/新型机器人智能问答系统数据源/06 产品手册/机械类/SR122001新松SR12系列工业机器人安装及维护手册（A-4).pdf\n",
      "Failed to convert /v/data/新型机器人智能问答系统数据源/06 产品手册/机械类/SR122002Installation and Maintenance Manual of Siasun SR25 Series Industrial Robot-A.0_20250304105939.pdf\n",
      "Failed to convert /v/data/新型机器人智能问答系统数据源/06 产品手册/机械类/SR122003新松SR210系列工业机器人安装及维护手册（A-4).pdf\n",
      "Failed to convert /v/data/新型机器人智能问答系统数据源/06 产品手册/机械类/SR122005新松SR270系列工业机器人安装及维护手册（A-2).pdf\n",
      "Failed to convert /v/data/新型机器人智能问答系统数据源/06 产品手册/机械类/SR122001Installation and Maintenance Manual of Siasun SR12 Series Industrial Robot-A.0_20250304110301.pdf\n",
      "Failed to convert /v/data/新型机器人智能问答系统数据源/06 产品手册/电气类/SX222002《新松机器人外部轴使用手册》-V1.4.pdf\n",
      "Failed to convert /v/data/新型机器人智能问答系统数据源/06 产品手册/电气类/SX222001Siasun Robot Electrical Operation and Maintenance Manual-V1.3.pdf\n",
      "Failed to convert /v/data/新型机器人智能问答系统数据源/06 产品手册/电气类/SX222001《新松机器人电气使用及维护手册》-B-0.pdf\n",
      "Failed to convert /v/data/新型机器人智能问答系统数据源/06 产品手册/软件类/技术规格/SX324001《新松机器人免示教焊接系统应用范围说明》-V1.0.pdf\n",
      "Failed to convert /v/data/新型机器人智能问答系统数据源/06 产品手册/软件类/手册/V3.0版本\n",
      "Failed to convert /v/data/新型机器人智能问答系统数据源/06 产品手册/软件类/手册/V4.0版本\n",
      "Failed to convert /v/data/新型机器人智能问答系统数据源/06 产品手册/软件类/手册/V3.0版本/SX322003《新松机器人弧焊应用操作手册》-V1.0.pdf\n",
      "Failed to convert /v/data/新型机器人智能问答系统数据源/06 产品手册/软件类/手册/V3.0版本/SX322001《新松机器人通用操作手册》-V1.4.pdf\n",
      "Failed to convert /v/data/新型机器人智能问答系统数据源/06 产品手册/软件类/手册/V3.0版本/SX322002《新松机器人码垛应用操作手册》-V1.0.pdf\n",
      "Failed to convert /v/data/新型机器人智能问答系统数据源/06 产品手册/软件类/手册/V3.0版本/SX322005《新松机器人视觉应用操作手册》-V1.0 .pdf\n",
      "Failed to convert /v/data/新型机器人智能问答系统数据源/06 产品手册/软件类/手册/V3.0版本/SX322009《新松机器人离线接口库使用手册》-V1.0.pdf\n",
      "Failed to convert /v/data/新型机器人智能问答系统数据源/06 产品手册/软件类/手册/V3.0版本/SX322008《新松机器人免示教焊接软件操作手册》-V1.0.pdf\n",
      "Failed to convert /v/data/新型机器人智能问答系统数据源/06 产品手册/软件类/手册/V4.0版本/SX322017《新松机器人跟随应用操作手册》-（A-0）.pdf\n",
      "Failed to convert /v/data/新型机器人智能问答系统数据源/06 产品手册/软件类/手册/V4.0版本/SX322015《新松机器人快换应用操作手册》-A-0.pdf\n",
      "Failed to convert /v/data/新型机器人智能问答系统数据源/06 产品手册/软件类/手册/V4.0版本/SX322011《新松机器人搬运应用操作手册》-A-0.pdf\n",
      "Failed to convert /v/data/新型机器人智能问答系统数据源/06 产品手册/软件类/手册/V4.0版本/SX322001《新松机器人通用操作手册》（B-2).pdf\n",
      "Failed to convert /v/data/新型机器人智能问答系统数据源/06 产品手册/软件类/手册/V4.0版本/SX322005《新松机器人视觉应用操作手册》（A-1).pdf\n",
      "Failed to convert /v/data/新型机器人智能问答系统数据源/06 产品手册/软件类/手册/V4.0版本/SX322006《新松机器人打磨应用操作手册》（A-1).pdf\n",
      "Failed to convert /v/data/新型机器人智能问答系统数据源/06 产品手册/软件类/手册/V4.0版本/SX322013《新松机器人螺柱焊功能使用手册》-A-0.pdf\n",
      "Failed to convert /v/data/新型机器人智能问答系统数据源/06 产品手册/软件类/手册/V4.0版本/SX322007《新松机器人点焊应用操作手册》-A-0.pdf\n",
      "Failed to convert /v/data/新型机器人智能问答系统数据源/06 产品手册/软件类/手册/V4.0版本/SX322001_Siasun Robot General Operation Manual_-V1.3.pdf\n",
      "Failed to convert /v/data/新型机器人智能问答系统数据源/06 产品手册/软件类/手册/V4.0版本/SX322004《新松机器人激光焊应用操作手册》-V1.2.pdf\n",
      "Failed to convert /v/data/新型机器人智能问答系统数据源/06 产品手册/软件类/手册/V4.0版本/SX322009《新松机器人离线接口库使用手册》(B-4).pdf\n",
      "Failed to convert /v/data/新型机器人智能问答系统数据源/06 产品手册/软件类/手册/V4.0版本/SX322016《新松机器人FDS应用使用手册》-A-0.pdf\n",
      "Failed to convert /v/data/新型机器人智能问答系统数据源/06 产品手册/软件类/手册/V4.0版本/SX322012《新松机器人涂胶功能使用手册》-A-0.pdf\n",
      "Failed to convert /v/data/新型机器人智能问答系统数据源/06 产品手册/软件类/手册/V4.0版本/SX322014《新松机器人SPR铆接功能使用手册》-A-0.pdf\n",
      "Failed to convert /v/data/新型机器人智能问答系统数据源/06 产品手册/软件类/手册/V4.0版本/SX322003《新松机器人弧焊应用操作手册》(B-2).pdf\n"
     ]
    }
   ],
   "source": [
    "\n",
    "# Example usage:\n",
    "convert_office_to_pdf('/v/data/新型机器人智能问答系统数据源')\n",
    "# convert_office_to_pdf('../res/conversion_test')\n"
   ]
  },
  {
   "cell_type": "code",
   "execution_count": 4,
   "id": "af2f7f31",
   "metadata": {},
   "outputs": [],
   "source": [
    "import pandas as pd\n",
    "from pathlib import Path\n",
    "\n",
    "def convert_excel_to_markdown(file_path):\n",
    "    \"\"\"\n",
    "    Convert an Excel file to a markdown file.\n",
    "    \"\"\"\n",
    "    try:\n",
    "        excel = pd.read_excel(file_path, sheet_name=None)\n",
    "        md_path = file_path.with_suffix('.md')\n",
    "        with open(md_path, 'w', encoding='utf-8') as f:\n",
    "            for sheet, df in excel.items():\n",
    "                f.write(f'# Sheet: {sheet}\\n\\n')\n",
    "                f.write(df.to_markdown(index=True))\n",
    "                f.write('\\n\\n')\n",
    "        print(f\"Converted: {file_path} -> {md_path}\")\n",
    "    except Exception as e:\n",
    "        print(f\"Failed to convert {file_path} to markdown: {e}\")\n",
    "\n",
    "# convert_excel_to_markdown(Path('../res/conversion_test/test.xlsx'))  # Example usage"
   ]
  },
  {
   "cell_type": "code",
   "execution_count": 7,
   "id": "8971115f",
   "metadata": {},
   "outputs": [],
   "source": [
    "# print(f'--gemini_api_key={GEMINI_KEY}')\n",
    "\n",
    "# print(f'--openai_api_key={OPENROUTER_API_KEY}')\n",
    "# print(f'--openai_model={OPENROUTER_MODEL}')\n",
    "# print(f'--openai_base_url={OPENROUTER_API_URL}')"
   ]
  },
  {
   "cell_type": "code",
   "execution_count": 10,
   "id": "b1afdfb7",
   "metadata": {},
   "outputs": [],
   "source": [
    "def convert_pdf_to_markdown_with_marker(root_folder):\n",
    "    \"\"\"\n",
    "    Recursively convert all .pdf files under root_folder (and subfolders)\n",
    "    to markdown (.md) files in the same folder using marker-pdf's 'marker' command\n",
    "    with 4 workers.\n",
    "    \"\"\"\n",
    "    import subprocess\n",
    "    from pathlib import Path\n",
    "    # import os\n",
    "\n",
    "    root = Path(root_folder)\n",
    "    md_root = root / '.md'\n",
    "    for file in root.rglob('*.pdf'):\n",
    "        md_path = file.with_suffix('.md')\n",
    "        md_path = md_root / md_path.relative_to(root) # store the result md files into a separate path of 'root/.md'\n",
    "        if md_path.exists():\n",
    "            continue  # Skip if markdown already exists\n",
    "        try:\n",
    "            # subprocess.run([\n",
    "            #     'marker_single', str(file), '--output_dir', file.parent, \n",
    "            #     '--use_llm',\n",
    "            #     f'--gemini_api_key={GEMINI_KEY}',\n",
    "            # ], check=True)\n",
    "            #subprocess.run([\n",
    "            #    'marker_single', str(file), '--output_dir', file.parent, \n",
    "            #    '--llm_service=marker.services.ollama.OllamaService',\n",
    "            #    '--ollama_base_url=http://172.27.74.15:11434',\n",
    "            #    '--ollama_model=gemma3:27b',\n",
    "            #], check=True)\n",
    "            subprocess.run([\n",
    "                'marker_single', str(file), '--output_dir', md_path.parent, \n",
    "                '--llm_service=marker.services.openai.OpenAIService',\n",
    "                f'--openai_api_key={OPENROUTER_API_KEY}',\n",
    "                f'--openai_model={OPENROUTER_MODEL}',\n",
    "                f'--openai_base_url={OPENROUTER_API_URL}',\n",
    "            ], check=True)\n",
    "            print(f\"Converted: {file} -> {md_path}\")\n",
    "        except subprocess.CalledProcessError as e:\n",
    "            print(f\"Failed to convert {file}: {e}\")"
   ]
  },
  {
   "cell_type": "code",
   "execution_count": 11,
   "id": "61c89cbd",
   "metadata": {},
   "outputs": [
    {
     "name": "stderr",
     "output_type": "stream",
     "text": [
      "Recognizing layout: 100%|██████████| 13/13 [00:01<00:00,  7.26it/s]\n",
      "Running OCR Error Detection: 100%|██████████| 6/6 [00:00<00:00, 158.33it/s]\n",
      "Detecting bboxes: 0it [00:00, ?it/s]\n",
      "Detecting bboxes: 100%|██████████| 1/1 [00:00<00:00, 10.38it/s]\n",
      "Recognizing Text: 100%|██████████| 11/11 [00:00<00:00, 32.92it/s]\n",
      "Recognizing tables: 100%|██████████| 1/1 [00:00<00:00, 10.40it/s]\n",
      "2025-06-06 09:01:51,324 [INFO] marker: Saved markdown to /v/data/新型机器人智能问答系统数据源-gemini/.md/01 设计标准/SX047001新松机器人产品识别设计标准A-1\n",
      "2025-06-06 09:01:51,324 [INFO] marker: Total time: 6.324045896530151\n"
     ]
    },
    {
     "name": "stdout",
     "output_type": "stream",
     "text": [
      "Converted: /v/data/新型机器人智能问答系统数据源-gemini/01 设计标准/SX047001新松机器人产品识别设计标准A-1.pdf -> /v/data/新型机器人智能问答系统数据源-gemini/.md/01 设计标准/SX047001新松机器人产品识别设计标准A-1.md\n"
     ]
    },
    {
     "name": "stderr",
     "output_type": "stream",
     "text": [
      "Recognizing layout: 100%|██████████| 3/3 [00:00<00:00,  3.25it/s]\n",
      "Running OCR Error Detection: 100%|██████████| 3/3 [00:00<00:00, 101.35it/s]\n",
      "Detecting bboxes: 0it [00:00, ?it/s]\n",
      "Detecting bboxes: 0it [00:00, ?it/s]\n",
      "Recognizing tables: 100%|██████████| 1/1 [00:00<00:00,  3.62it/s]\n",
      "2025-06-06 09:01:58,329 [INFO] marker: Saved markdown to /v/data/新型机器人智能问答系统数据源-gemini/.md/09 工业机器人营销、售后支持话术指导书/SIASUN新松工业机器人营销、售后支持话术指导书_V3.0\n",
      "2025-06-06 09:01:58,329 [INFO] marker: Total time: 3.080604076385498\n"
     ]
    },
    {
     "name": "stdout",
     "output_type": "stream",
     "text": [
      "Converted: /v/data/新型机器人智能问答系统数据源-gemini/09 工业机器人营销、售后支持话术指导书/SIASUN新松工业机器人营销、售后支持话术指导书_V3.0.pdf -> /v/data/新型机器人智能问答系统数据源-gemini/.md/09 工业机器人营销、售后支持话术指导书/SIASUN新松工业机器人营销、售后支持话术指导书_V3.0.md\n"
     ]
    },
    {
     "name": "stderr",
     "output_type": "stream",
     "text": [
      "Recognizing layout: 100%|██████████| 1/1 [00:00<00:00,  2.32it/s]\n",
      "Running OCR Error Detection: 100%|██████████| 1/1 [00:00<00:00, 225.04it/s]\n",
      "Detecting bboxes: 100%|██████████| 1/1 [00:00<00:00,  3.46it/s]\n",
      "Recognizing Text: 100%|██████████| 137/137 [00:02<00:00, 62.18it/s] \n",
      "Detecting bboxes: 100%|██████████| 1/1 [00:00<00:00, 15.45it/s]\n",
      "Recognizing Text: 100%|██████████| 7/7 [00:00<00:00, 18.72it/s]\n",
      "Recognizing tables: 100%|██████████| 1/1 [00:00<00:00, 23.27it/s]\n",
      "2025-06-06 09:02:06,746 [INFO] marker: Saved markdown to /v/data/新型机器人智能问答系统数据源-gemini/.md/04 公司各BG样本汇总/半导体装备-email\n",
      "2025-06-06 09:02:06,746 [INFO] marker: Total time: 4.494412899017334\n"
     ]
    },
    {
     "name": "stdout",
     "output_type": "stream",
     "text": [
      "Converted: /v/data/新型机器人智能问答系统数据源-gemini/04 公司各BG样本汇总/半导体装备-email.pdf -> /v/data/新型机器人智能问答系统数据源-gemini/.md/04 公司各BG样本汇总/半导体装备-email.md\n"
     ]
    },
    {
     "name": "stderr",
     "output_type": "stream",
     "text": [
      "Recognizing layout: 100%|██████████| 3/3 [00:00<00:00,  3.72it/s]\n",
      "Running OCR Error Detection: 100%|██████████| 2/2 [00:00<00:00, 338.26it/s]\n",
      "Detecting bboxes: 100%|██████████| 2/2 [00:00<00:00,  2.34it/s]\n",
      "Recognizing Text: 100%|██████████| 246/246 [00:02<00:00, 84.50it/s] \n",
      "Detecting bboxes: 100%|██████████| 1/1 [00:00<00:00,  3.47it/s]\n",
      "Recognizing Text: 100%|██████████| 298/298 [00:02<00:00, 108.49it/s]\n",
      "Recognizing tables: 100%|██████████| 1/1 [00:00<00:00,  4.99it/s]\n",
      "2025-06-06 09:02:21,318 [INFO] marker: Saved markdown to /v/data/新型机器人智能问答系统数据源-gemini/.md/04 公司各BG样本汇总/DELTA机器人1102-email\n",
      "2025-06-06 09:02:21,318 [INFO] marker: Total time: 10.719549894332886\n"
     ]
    },
    {
     "name": "stdout",
     "output_type": "stream",
     "text": [
      "Converted: /v/data/新型机器人智能问答系统数据源-gemini/04 公司各BG样本汇总/DELTA机器人1102-email.pdf -> /v/data/新型机器人智能问答系统数据源-gemini/.md/04 公司各BG样本汇总/DELTA机器人1102-email.md\n"
     ]
    },
    {
     "name": "stderr",
     "output_type": "stream",
     "text": [
      "Recognizing layout: 100%|██████████| 2/2 [00:00<00:00,  2.77it/s]\n",
      "Running OCR Error Detection: 100%|██████████| 1/1 [00:00<00:00, 191.45it/s]\n",
      "Detecting bboxes: 100%|██████████| 2/2 [00:00<00:00,  3.17it/s]\n",
      "Recognizing Text: 100%|██████████| 512/512 [00:05<00:00, 95.91it/s] \n",
      "Detecting bboxes: 100%|██████████| 1/1 [00:00<00:00,  8.57it/s]\n",
      "Recognizing Text: 100%|██████████| 62/62 [00:00<00:00, 155.28it/s]\n",
      "Recognizing tables: 100%|██████████| 1/1 [00:00<00:00, 12.28it/s]\n",
      "2025-06-06 09:02:35,336 [INFO] marker: Saved markdown to /v/data/新型机器人智能问答系统数据源-gemini/.md/04 公司各BG样本汇总/移动机器人样本0111【21】\n",
      "2025-06-06 09:02:35,336 [INFO] marker: Total time: 10.221766710281372\n"
     ]
    },
    {
     "name": "stdout",
     "output_type": "stream",
     "text": [
      "Converted: /v/data/新型机器人智能问答系统数据源-gemini/04 公司各BG样本汇总/移动机器人样本0111【21】.pdf -> /v/data/新型机器人智能问答系统数据源-gemini/.md/04 公司各BG样本汇总/移动机器人样本0111【21】.md\n"
     ]
    },
    {
     "name": "stderr",
     "output_type": "stream",
     "text": [
      "Recognizing layout: 100%|██████████| 3/3 [00:00<00:00,  3.46it/s]\n",
      "Running OCR Error Detection: 100%|██████████| 1/1 [00:00<00:00, 199.17it/s]\n",
      "Detecting bboxes: 100%|██████████| 2/2 [00:00<00:00,  2.66it/s]\n",
      "Recognizing Text: 100%|██████████| 431/431 [00:04<00:00, 89.98it/s] \n",
      "Detecting bboxes: 100%|██████████| 1/1 [00:00<00:00,  2.26it/s]\n",
      "Recognizing Text: 100%|██████████| 768/768 [00:04<00:00, 189.22it/s]\n",
      "Recognizing tables: 100%|██████████| 1/1 [00:00<00:00,  2.25it/s]\n",
      "2025-06-06 09:02:54,382 [INFO] marker: Saved markdown to /v/data/新型机器人智能问答系统数据源-gemini/.md/04 公司各BG样本汇总/特种机器人1106-email\n",
      "2025-06-06 09:02:54,382 [INFO] marker: Total time: 15.190598011016846\n"
     ]
    },
    {
     "name": "stdout",
     "output_type": "stream",
     "text": [
      "Converted: /v/data/新型机器人智能问答系统数据源-gemini/04 公司各BG样本汇总/特种机器人1106-email.pdf -> /v/data/新型机器人智能问答系统数据源-gemini/.md/04 公司各BG样本汇总/特种机器人1106-email.md\n"
     ]
    },
    {
     "name": "stderr",
     "output_type": "stream",
     "text": [
      "Recognizing layout: 100%|██████████| 4/4 [00:00<00:00,  4.29it/s]\n",
      "Running OCR Error Detection: 100%|██████████| 2/2 [00:00<00:00, 325.78it/s]\n",
      "Detecting bboxes: 100%|██████████| 2/2 [00:01<00:00,  1.84it/s]\n",
      "Recognizing Text: 100%|██████████| 358/358 [00:03<00:00, 93.30it/s] \n",
      "Detecting bboxes: 100%|██████████| 1/1 [00:00<00:00,  8.05it/s]\n",
      "Recognizing Text: 100%|██████████| 15/15 [00:00<00:00, 110.40it/s]\n",
      "Recognizing tables: 100%|██████████| 1/1 [00:00<00:00, 13.32it/s]\n",
      "2025-06-06 09:03:08,296 [INFO] marker: Saved markdown to /v/data/新型机器人智能问答系统数据源-gemini/.md/04 公司各BG样本汇总/总体样本\n",
      "2025-06-06 09:03:08,296 [INFO] marker: Total time: 10.02908205986023\n"
     ]
    },
    {
     "name": "stdout",
     "output_type": "stream",
     "text": [
      "Converted: /v/data/新型机器人智能问答系统数据源-gemini/04 公司各BG样本汇总/总体样本.pdf -> /v/data/新型机器人智能问答系统数据源-gemini/.md/04 公司各BG样本汇总/总体样本.md\n"
     ]
    },
    {
     "name": "stderr",
     "output_type": "stream",
     "text": [
      "Recognizing layout: 100%|██████████| 3/3 [00:00<00:00,  3.79it/s]\n",
      "Running OCR Error Detection: 100%|██████████| 1/1 [00:00<00:00, 204.35it/s]\n",
      "Detecting bboxes: 100%|██████████| 2/2 [00:00<00:00,  2.61it/s]\n",
      "Recognizing Text: 100%|██████████| 228/228 [00:02<00:00, 105.53it/s]\n",
      "Detecting bboxes: 100%|██████████| 2/2 [00:00<00:00,  4.05it/s]\n",
      "Recognizing Text: 100%|██████████| 623/623 [00:04<00:00, 138.68it/s]\n",
      "Recognizing tables: 100%|██████████| 1/1 [00:00<00:00,  3.17it/s]\n",
      "2025-06-06 09:03:24,305 [INFO] marker: Saved markdown to /v/data/新型机器人智能问答系统数据源-gemini/.md/04 公司各BG样本汇总/智慧工厂样本1127-email\n",
      "2025-06-06 09:03:24,305 [INFO] marker: Total time: 11.994169473648071\n"
     ]
    },
    {
     "name": "stdout",
     "output_type": "stream",
     "text": [
      "Converted: /v/data/新型机器人智能问答系统数据源-gemini/04 公司各BG样本汇总/智慧工厂样本1127-email.pdf -> /v/data/新型机器人智能问答系统数据源-gemini/.md/04 公司各BG样本汇总/智慧工厂样本1127-email.md\n"
     ]
    },
    {
     "name": "stderr",
     "output_type": "stream",
     "text": [
      "Recognizing layout: 100%|██████████| 4/4 [00:01<00:00,  3.12it/s]\n",
      "Running OCR Error Detection: 100%|██████████| 2/2 [00:00<00:00, 323.40it/s]\n",
      "Detecting bboxes: 100%|██████████| 2/2 [00:01<00:00,  1.81it/s]\n",
      "Recognizing Text: 100%|██████████| 621/621 [00:07<00:00, 83.61it/s] \n",
      "Detecting bboxes: 100%|██████████| 3/3 [00:00<00:00,  3.12it/s]\n",
      "Recognizing Text: 100%|██████████| 226/226 [00:01<00:00, 169.29it/s]\n",
      "Recognizing tables: 100%|██████████| 2/2 [00:00<00:00,  5.49it/s]\n",
      "2025-06-06 09:03:45,936 [INFO] marker: Saved markdown to /v/data/新型机器人智能问答系统数据源-gemini/.md/04 公司各BG样本汇总/医疗机器人0722【20】\n",
      "2025-06-06 09:03:45,936 [INFO] marker: Total time: 17.672054052352905\n"
     ]
    },
    {
     "name": "stdout",
     "output_type": "stream",
     "text": [
      "Converted: /v/data/新型机器人智能问答系统数据源-gemini/04 公司各BG样本汇总/医疗机器人0722【20】.pdf -> /v/data/新型机器人智能问答系统数据源-gemini/.md/04 公司各BG样本汇总/医疗机器人0722【20】.md\n"
     ]
    },
    {
     "name": "stderr",
     "output_type": "stream",
     "text": [
      "Recognizing layout: 100%|██████████| 4/4 [00:01<00:00,  3.34it/s]\n",
      "Running OCR Error Detection: 100%|██████████| 2/2 [00:00<00:00, 334.58it/s]\n",
      "Detecting bboxes: 100%|██████████| 2/2 [00:01<00:00,  1.84it/s]\n",
      "Recognizing Text: 100%|██████████| 602/602 [00:03<00:00, 160.39it/s]\n",
      "Detecting bboxes: 100%|██████████| 1/1 [00:00<00:00, 15.89it/s]\n",
      "2025-06-06 09:03:59,641 [WARNING] marker: No text lines found for table /page/14/Table/28\n",
      "Recognizing tables: 100%|██████████| 1/1 [00:00<00:00, 24.00it/s]\n",
      "2025-06-06 09:03:59,959 [INFO] marker: Saved markdown to /v/data/新型机器人智能问答系统数据源-gemini/.md/04 公司各BG样本汇总/物流样本0611【21】-email\n",
      "2025-06-06 09:03:59,959 [INFO] marker: Total time: 10.073973655700684\n"
     ]
    },
    {
     "name": "stdout",
     "output_type": "stream",
     "text": [
      "Converted: /v/data/新型机器人智能问答系统数据源-gemini/04 公司各BG样本汇总/物流样本0611【21】-email.pdf -> /v/data/新型机器人智能问答系统数据源-gemini/.md/04 公司各BG样本汇总/物流样本0611【21】-email.md\n"
     ]
    },
    {
     "name": "stderr",
     "output_type": "stream",
     "text": [
      "Recognizing layout: 100%|██████████| 1/1 [00:00<00:00,  2.35it/s]\n",
      "Running OCR Error Detection: 100%|██████████| 1/1 [00:00<00:00, 103.62it/s]\n",
      "Detecting bboxes: 0it [00:00, ?it/s]\n",
      "Detecting bboxes: 0it [00:00, ?it/s]\n",
      "Recognizing tables: 100%|██████████| 2/2 [00:00<00:00,  6.34it/s]\n",
      "2025-06-06 09:04:05,914 [INFO] marker: Saved markdown to /v/data/新型机器人智能问答系统数据源-gemini/.md/08 检测报告与认证证书/检测报告/JSWJ-CSBG21044-V1.0  工业机器人控制系统（SRC E5）环境试验报告\n",
      "2025-06-06 09:04:05,914 [INFO] marker: Total time: 2.0162415504455566\n"
     ]
    },
    {
     "name": "stdout",
     "output_type": "stream",
     "text": [
      "Converted: /v/data/新型机器人智能问答系统数据源-gemini/08 检测报告与认证证书/检测报告/JSWJ-CSBG21044-V1.0  工业机器人控制系统（SRC E5）环境试验报告.pdf -> /v/data/新型机器人智能问答系统数据源-gemini/.md/08 检测报告与认证证书/检测报告/JSWJ-CSBG21044-V1.0  工业机器人控制系统（SRC E5）环境试验报告.md\n"
     ]
    },
    {
     "name": "stderr",
     "output_type": "stream",
     "text": [
      "Recognizing layout: 100%|██████████| 2/2 [00:00<00:00,  4.04it/s]\n",
      "Running OCR Error Detection: 100%|██████████| 1/1 [00:00<00:00, 210.41it/s]\n",
      "Detecting bboxes: 100%|██████████| 2/2 [00:00<00:00,  3.35it/s]\n",
      "Recognizing Text: 100%|██████████| 104/104 [00:00<00:00, 130.86it/s]\n",
      "Detecting bboxes: 100%|██████████| 2/2 [00:00<00:00,  3.36it/s]\n",
      "Recognizing Text: 100%|██████████| 369/369 [00:01<00:00, 191.59it/s]\n",
      "Recognizing tables: 100%|██████████| 1/1 [00:00<00:00,  3.85it/s]\n",
      "2025-06-06 09:04:16,124 [INFO] marker: Saved markdown to /v/data/新型机器人智能问答系统数据源-gemini/.md/08 检测报告与认证证书/检测报告/T35A-25检测报告(1)\n",
      "2025-06-06 09:04:16,124 [INFO] marker: Total time: 6.31459379196167\n"
     ]
    },
    {
     "name": "stdout",
     "output_type": "stream",
     "text": [
      "Converted: /v/data/新型机器人智能问答系统数据源-gemini/08 检测报告与认证证书/检测报告/T35A-25检测报告(1).pdf -> /v/data/新型机器人智能问答系统数据源-gemini/.md/08 检测报告与认证证书/检测报告/T35A-25检测报告(1).md\n"
     ]
    },
    {
     "name": "stderr",
     "output_type": "stream",
     "text": [
      "Recognizing layout: 100%|██████████| 2/2 [00:00<00:00,  3.01it/s]\n",
      "Running OCR Error Detection: 100%|██████████| 2/2 [00:00<00:00, 280.85it/s]\n",
      "Detecting bboxes: 100%|██████████| 3/3 [00:01<00:00,  3.00it/s]\n",
      "Recognizing Text: 100%|██████████| 277/277 [00:02<00:00, 127.60it/s]\n",
      "Detecting bboxes: 100%|██████████| 3/3 [00:01<00:00,  2.40it/s]\n",
      "Recognizing Text: 100%|██████████| 752/752 [00:03<00:00, 193.43it/s]\n",
      "Recognizing tables: 100%|██████████| 2/2 [00:00<00:00,  3.68it/s]\n",
      "2025-06-06 09:04:31,963 [INFO] marker: Saved markdown to /v/data/新型机器人智能问答系统数据源-gemini/.md/08 检测报告与认证证书/检测报告/T12A-14检测报告EMC（MCB类别3评估）\n",
      "2025-06-06 09:04:31,964 [INFO] marker: Total time: 11.831642866134644\n"
     ]
    },
    {
     "name": "stdout",
     "output_type": "stream",
     "text": [
      "Converted: /v/data/新型机器人智能问答系统数据源-gemini/08 检测报告与认证证书/检测报告/T12A-14检测报告EMC（MCB类别3评估）.pdf -> /v/data/新型机器人智能问答系统数据源-gemini/.md/08 检测报告与认证证书/检测报告/T12A-14检测报告EMC（MCB类别3评估）.md\n"
     ]
    },
    {
     "name": "stderr",
     "output_type": "stream",
     "text": [
      "Recognizing layout: 100%|██████████| 1/1 [00:00<00:00,  2.40it/s]\n",
      "Running OCR Error Detection: 100%|██████████| 1/1 [00:00<00:00, 230.24it/s]\n",
      "Detecting bboxes: 100%|██████████| 1/1 [00:00<00:00,  2.19it/s]\n",
      "Recognizing Text: 100%|██████████| 129/129 [00:01<00:00, 108.92it/s]\n",
      "Detecting bboxes: 100%|██████████| 2/2 [00:00<00:00,  3.81it/s]\n",
      "Recognizing Text: 100%|██████████| 178/178 [00:00<00:00, 187.71it/s]\n",
      "Recognizing tables: 100%|██████████| 1/1 [00:00<00:00,  4.95it/s]\n",
      "2025-06-06 09:04:40,539 [INFO] marker: Saved markdown to /v/data/新型机器人智能问答系统数据源-gemini/.md/08 检测报告与认证证书/检测报告/检测报告T12A-14（电源适应能力+功率+泄漏电流）\n",
      "2025-06-06 09:04:40,539 [INFO] marker: Total time: 4.67458701133728\n"
     ]
    },
    {
     "name": "stdout",
     "output_type": "stream",
     "text": [
      "Converted: /v/data/新型机器人智能问答系统数据源-gemini/08 检测报告与认证证书/检测报告/检测报告T12A-14（电源适应能力+功率+泄漏电流）.pdf -> /v/data/新型机器人智能问答系统数据源-gemini/.md/08 检测报告与认证证书/检测报告/检测报告T12A-14（电源适应能力+功率+泄漏电流）.md\n"
     ]
    },
    {
     "name": "stderr",
     "output_type": "stream",
     "text": [
      "Recognizing layout: 100%|██████████| 1/1 [00:00<00:00,  2.29it/s]\n",
      "Running OCR Error Detection: 100%|██████████| 1/1 [00:00<00:00, 190.62it/s]\n",
      "Detecting bboxes: 100%|██████████| 1/1 [00:00<00:00,  2.43it/s]\n",
      "Recognizing Text: 100%|██████████| 115/115 [00:01<00:00, 112.35it/s]\n",
      "Detecting bboxes: 100%|██████████| 1/1 [00:00<00:00,  2.56it/s]\n",
      "Recognizing Text: 100%|██████████| 123/123 [00:00<00:00, 152.09it/s]\n",
      "Recognizing tables: 100%|██████████| 1/1 [00:00<00:00,  5.19it/s]\n",
      "2025-06-06 09:04:48,605 [INFO] marker: Saved markdown to /v/data/新型机器人智能问答系统数据源-gemini/.md/08 检测报告与认证证书/检测报告/新松SR210A\n",
      "2025-06-06 09:04:48,605 [INFO] marker: Total time: 4.1880152225494385\n"
     ]
    },
    {
     "name": "stdout",
     "output_type": "stream",
     "text": [
      "Converted: /v/data/新型机器人智能问答系统数据源-gemini/08 检测报告与认证证书/检测报告/新松SR210A.pdf -> /v/data/新型机器人智能问答系统数据源-gemini/.md/08 检测报告与认证证书/检测报告/新松SR210A.md\n"
     ]
    },
    {
     "name": "stderr",
     "output_type": "stream",
     "text": [
      "Recognizing layout: 100%|██████████| 2/2 [00:00<00:00,  4.18it/s]\n",
      "Running OCR Error Detection: 100%|██████████| 1/1 [00:00<00:00, 224.40it/s]\n",
      "Detecting bboxes: 100%|██████████| 2/2 [00:00<00:00,  3.35it/s]\n",
      "Recognizing Text: 100%|██████████| 116/116 [00:00<00:00, 129.36it/s]\n",
      "Detecting bboxes: 100%|██████████| 1/1 [00:00<00:00,  2.00it/s]\n",
      "Recognizing Text: 100%|██████████| 351/351 [00:01<00:00, 180.97it/s]\n",
      "Recognizing tables: 100%|██████████| 1/1 [00:00<00:00,  3.57it/s]\n",
      "2025-06-06 09:04:58,870 [INFO] marker: Saved markdown to /v/data/新型机器人智能问答系统数据源-gemini/.md/08 检测报告与认证证书/检测报告/SR20A-E检测报告(1)\n",
      "2025-06-06 09:04:58,870 [INFO] marker: Total time: 6.413970708847046\n"
     ]
    },
    {
     "name": "stdout",
     "output_type": "stream",
     "text": [
      "Converted: /v/data/新型机器人智能问答系统数据源-gemini/08 检测报告与认证证书/检测报告/SR20A-E检测报告(1).pdf -> /v/data/新型机器人智能问答系统数据源-gemini/.md/08 检测报告与认证证书/检测报告/SR20A-E检测报告(1).md\n"
     ]
    },
    {
     "name": "stderr",
     "output_type": "stream",
     "text": [
      "Recognizing layout: 100%|██████████| 1/1 [00:00<00:00,  2.32it/s]\n",
      "Running OCR Error Detection: 100%|██████████| 1/1 [00:00<00:00, 146.64it/s]\n",
      "Detecting bboxes: 0it [00:00, ?it/s]\n",
      "Detecting bboxes: 0it [00:00, ?it/s]\n",
      "Recognizing tables: 100%|██████████| 1/1 [00:00<00:00,  5.03it/s]\n",
      "2025-06-06 09:05:04,949 [INFO] marker: Saved markdown to /v/data/新型机器人智能问答系统数据源-gemini/.md/08 检测报告与认证证书/检测报告/火弧机器人小臂IP等级检测报告\n",
      "2025-06-06 09:05:04,949 [INFO] marker: Total time: 2.121162176132202\n"
     ]
    },
    {
     "name": "stdout",
     "output_type": "stream",
     "text": [
      "Converted: /v/data/新型机器人智能问答系统数据源-gemini/08 检测报告与认证证书/检测报告/火弧机器人小臂IP等级检测报告.pdf -> /v/data/新型机器人智能问答系统数据源-gemini/.md/08 检测报告与认证证书/检测报告/火弧机器人小臂IP等级检测报告.md\n"
     ]
    },
    {
     "name": "stderr",
     "output_type": "stream",
     "text": [
      "Recognizing layout: 100%|██████████| 1/1 [00:00<00:00,  2.26it/s]\n",
      "Running OCR Error Detection: 100%|██████████| 1/1 [00:00<00:00, 180.56it/s]\n",
      "Detecting bboxes: 100%|██████████| 2/2 [00:00<00:00,  3.47it/s]\n",
      "Recognizing Text: 100%|██████████| 205/205 [00:01<00:00, 130.93it/s]\n",
      "Detecting bboxes: 100%|██████████| 1/1 [00:00<00:00,  2.78it/s]\n",
      "Recognizing Text: 100%|██████████| 160/160 [00:00<00:00, 164.50it/s]\n",
      "Recognizing tables: 100%|██████████| 1/1 [00:00<00:00,  4.51it/s]\n",
      "2025-06-06 09:05:14,502 [INFO] marker: Saved markdown to /v/data/新型机器人智能问答系统数据源-gemini/.md/08 检测报告与认证证书/检测报告/新松SR25A\n",
      "2025-06-06 09:05:14,502 [INFO] marker: Total time: 5.527183532714844\n"
     ]
    },
    {
     "name": "stdout",
     "output_type": "stream",
     "text": [
      "Converted: /v/data/新型机器人智能问答系统数据源-gemini/08 检测报告与认证证书/检测报告/新松SR25A.pdf -> /v/data/新型机器人智能问答系统数据源-gemini/.md/08 检测报告与认证证书/检测报告/新松SR25A.md\n"
     ]
    },
    {
     "name": "stderr",
     "output_type": "stream",
     "text": [
      "Recognizing layout: 100%|██████████| 1/1 [00:00<00:00,  2.16it/s]\n",
      "Running OCR Error Detection: 100%|██████████| 1/1 [00:00<00:00, 135.86it/s]\n",
      "Detecting bboxes: 0it [00:00, ?it/s]\n",
      "Detecting bboxes: 0it [00:00, ?it/s]\n",
      "Recognizing tables: 100%|██████████| 2/2 [00:00<00:00,  5.02it/s]\n",
      "2025-06-06 09:05:20,103 [INFO] marker: Saved markdown to /v/data/新型机器人智能问答系统数据源-gemini/.md/08 检测报告与认证证书/检测报告/江苏华途数控科技有限公司 测试报告\n",
      "2025-06-06 09:05:20,103 [INFO] marker: Total time: 1.6345717906951904\n"
     ]
    },
    {
     "name": "stdout",
     "output_type": "stream",
     "text": [
      "Converted: /v/data/新型机器人智能问答系统数据源-gemini/08 检测报告与认证证书/检测报告/江苏华途数控科技有限公司 测试报告.pdf -> /v/data/新型机器人智能问答系统数据源-gemini/.md/08 检测报告与认证证书/检测报告/江苏华途数控科技有限公司 测试报告.md\n"
     ]
    },
    {
     "name": "stderr",
     "output_type": "stream",
     "text": [
      "Recognizing layout: 100%|██████████| 1/1 [00:00<00:00,  2.38it/s]\n",
      "Running OCR Error Detection: 100%|██████████| 1/1 [00:00<00:00, 121.46it/s]\n",
      "Detecting bboxes: 0it [00:00, ?it/s]\n",
      "Detecting bboxes: 0it [00:00, ?it/s]\n",
      "Recognizing tables: 100%|██████████| 1/1 [00:00<00:00,  5.18it/s]\n",
      "2025-06-06 09:05:26,054 [INFO] marker: Saved markdown to /v/data/新型机器人智能问答系统数据源-gemini/.md/08 检测报告与认证证书/检测报告/火弧机器人控制装置IP等级检测报告\n",
      "2025-06-06 09:05:26,054 [INFO] marker: Total time: 2.103405475616455\n"
     ]
    },
    {
     "name": "stdout",
     "output_type": "stream",
     "text": [
      "Converted: /v/data/新型机器人智能问答系统数据源-gemini/08 检测报告与认证证书/检测报告/火弧机器人控制装置IP等级检测报告.pdf -> /v/data/新型机器人智能问答系统数据源-gemini/.md/08 检测报告与认证证书/检测报告/火弧机器人控制装置IP等级检测报告.md\n"
     ]
    },
    {
     "name": "stderr",
     "output_type": "stream",
     "text": [
      "Recognizing layout: 100%|██████████| 8/8 [00:01<00:00,  5.40it/s]\n",
      "Running OCR Error Detection: 100%|██████████| 7/7 [00:00<00:00, 600.29it/s]\n",
      "Detecting bboxes: 100%|██████████| 9/9 [00:04<00:00,  2.20it/s]\n",
      "Recognizing Text: 100%|██████████| 594/594 [00:03<00:00, 153.63it/s]\n",
      "Detecting bboxes: 100%|██████████| 13/13 [00:06<00:00,  2.01it/s]\n",
      "Recognizing Text: 100%|██████████| 4581/4581 [00:24<00:00, 183.98it/s]\n",
      "Recognizing tables: 100%|██████████| 5/5 [00:02<00:00,  2.27it/s]\n",
      "2025-06-06 09:06:22,237 [INFO] marker: Saved markdown to /v/data/新型机器人智能问答系统数据源-gemini/.md/08 检测报告与认证证书/检测报告/T20、T35、T50、T80工业机器人检测报告-沈阳新松2022年8月\n",
      "2025-06-06 09:06:22,237 [INFO] marker: Total time: 52.269447565078735\n"
     ]
    },
    {
     "name": "stdout",
     "output_type": "stream",
     "text": [
      "Converted: /v/data/新型机器人智能问答系统数据源-gemini/08 检测报告与认证证书/检测报告/T20、T35、T50、T80工业机器人检测报告-沈阳新松2022年8月.pdf -> /v/data/新型机器人智能问答系统数据源-gemini/.md/08 检测报告与认证证书/检测报告/T20、T35、T50、T80工业机器人检测报告-沈阳新松2022年8月.md\n"
     ]
    },
    {
     "name": "stderr",
     "output_type": "stream",
     "text": [
      "Recognizing layout: 100%|██████████| 1/1 [00:00<00:00,  2.75it/s]\n",
      "Running OCR Error Detection: 100%|██████████| 1/1 [00:00<00:00, 204.27it/s]\n",
      "Detecting bboxes: 100%|██████████| 1/1 [00:00<00:00,  2.37it/s]\n",
      "Recognizing Text: 100%|██████████| 58/58 [00:00<00:00, 104.93it/s]\n",
      "Detecting bboxes: 100%|██████████| 1/1 [00:00<00:00,  2.22it/s]\n",
      "Recognizing Text: 100%|██████████| 300/300 [00:01<00:00, 173.77it/s]\n",
      "Recognizing tables: 100%|██████████| 1/1 [00:00<00:00,  4.78it/s]\n",
      "2025-06-06 09:06:31,173 [INFO] marker: Saved markdown to /v/data/新型机器人智能问答系统数据源-gemini/.md/08 检测报告与认证证书/检测报告/T12A-14检测报告(1)\n",
      "2025-06-06 09:06:31,173 [INFO] marker: Total time: 4.861248254776001\n"
     ]
    },
    {
     "name": "stdout",
     "output_type": "stream",
     "text": [
      "Converted: /v/data/新型机器人智能问答系统数据源-gemini/08 检测报告与认证证书/检测报告/T12A-14检测报告(1).pdf -> /v/data/新型机器人智能问答系统数据源-gemini/.md/08 检测报告与认证证书/检测报告/T12A-14检测报告(1).md\n"
     ]
    },
    {
     "name": "stderr",
     "output_type": "stream",
     "text": [
      "Recognizing layout: 100%|██████████| 3/3 [00:00<00:00,  3.99it/s]\n",
      "Running OCR Error Detection: 100%|██████████| 2/2 [00:00<00:00, 323.00it/s]\n",
      "Detecting bboxes: 100%|██████████| 3/3 [00:01<00:00,  2.60it/s]\n",
      "Recognizing Text: 100%|██████████| 492/492 [00:03<00:00, 156.94it/s]\n",
      "Detecting bboxes: 100%|██████████| 3/3 [00:01<00:00,  2.19it/s]\n",
      "Recognizing Text: 100%|██████████| 1063/1063 [00:05<00:00, 192.15it/s]\n",
      "Recognizing tables: 100%|██████████| 2/2 [00:00<00:00,  2.84it/s]\n",
      "2025-06-06 09:06:50,589 [INFO] marker: Saved markdown to /v/data/新型机器人智能问答系统数据源-gemini/.md/08 检测报告与认证证书/检测报告/SR210B-BG-1809004 EMC检测报告 扫描件\n",
      "2025-06-06 09:06:50,589 [INFO] marker: Total time: 15.434352159500122\n"
     ]
    },
    {
     "name": "stdout",
     "output_type": "stream",
     "text": [
      "Converted: /v/data/新型机器人智能问答系统数据源-gemini/08 检测报告与认证证书/检测报告/SR210B-BG-1809004 EMC检测报告 扫描件.pdf -> /v/data/新型机器人智能问答系统数据源-gemini/.md/08 检测报告与认证证书/检测报告/SR210B-BG-1809004 EMC检测报告 扫描件.md\n"
     ]
    },
    {
     "name": "stderr",
     "output_type": "stream",
     "text": [
      "Recognizing layout: 100%|██████████| 9/9 [00:01<00:00,  5.51it/s]\n",
      "Running OCR Error Detection: 100%|██████████| 8/8 [00:00<00:00, 86.77it/s]\n",
      "Detecting bboxes: 0it [00:00, ?it/s]\n",
      "Detecting bboxes: 0it [00:00, ?it/s]\n",
      "Recognizing tables: 100%|██████████| 8/8 [00:02<00:00,  2.76it/s]\n",
      "2025-06-06 09:07:09,129 [INFO] marker: Saved markdown to /v/data/新型机器人智能问答系统数据源-gemini/.md/08 检测报告与认证证书/CE认证证书/DSS_SHES240501030402-02(1)\n",
      "2025-06-06 09:07:09,129 [INFO] marker: Total time: 14.673677444458008\n"
     ]
    },
    {
     "name": "stdout",
     "output_type": "stream",
     "text": [
      "Converted: /v/data/新型机器人智能问答系统数据源-gemini/08 检测报告与认证证书/CE认证证书/DSS_SHES240501030402-02(1).pdf -> /v/data/新型机器人智能问答系统数据源-gemini/.md/08 检测报告与认证证书/CE认证证书/DSS_SHES240501030402-02(1).md\n"
     ]
    },
    {
     "name": "stderr",
     "output_type": "stream",
     "text": [
      "Recognizing layout: 100%|██████████| 9/9 [00:01<00:00,  5.44it/s]\n",
      "Running OCR Error Detection: 100%|██████████| 8/8 [00:00<00:00, 88.75it/s]\n",
      "Detecting bboxes: 0it [00:00, ?it/s]\n",
      "Detecting bboxes: 0it [00:00, ?it/s]\n",
      "Recognizing tables: 100%|██████████| 8/8 [00:02<00:00,  2.87it/s]\n",
      "2025-06-06 09:07:27,631 [INFO] marker: Saved markdown to /v/data/新型机器人智能问答系统数据源-gemini/.md/08 检测报告与认证证书/CE认证证书/DSS_SHES241202398101-02\n",
      "2025-06-06 09:07:27,631 [INFO] marker: Total time: 14.518433094024658\n"
     ]
    },
    {
     "name": "stdout",
     "output_type": "stream",
     "text": [
      "Converted: /v/data/新型机器人智能问答系统数据源-gemini/08 检测报告与认证证书/CE认证证书/DSS_SHES241202398101-02.pdf -> /v/data/新型机器人智能问答系统数据源-gemini/.md/08 检测报告与认证证书/CE认证证书/DSS_SHES241202398101-02.md\n"
     ]
    },
    {
     "name": "stderr",
     "output_type": "stream",
     "text": [
      "Recognizing layout: 100%|██████████| 3/3 [00:00<00:00,  4.20it/s]\n",
      "Running OCR Error Detection: 100%|██████████| 2/2 [00:00<00:00, 80.04it/s]\n",
      "Detecting bboxes: 0it [00:00, ?it/s]\n",
      "Detecting bboxes: 0it [00:00, ?it/s]\n",
      "Recognizing tables: 100%|██████████| 2/2 [00:00<00:00,  2.76it/s]\n",
      "2025-06-06 09:07:35,969 [INFO] marker: Saved markdown to /v/data/新型机器人智能问答系统数据源-gemini/.md/08 检测报告与认证证书/CE认证证书/DSS_SHES240501030402-01(1)\n",
      "2025-06-06 09:07:35,969 [INFO] marker: Total time: 4.40559720993042\n"
     ]
    },
    {
     "name": "stdout",
     "output_type": "stream",
     "text": [
      "Converted: /v/data/新型机器人智能问答系统数据源-gemini/08 检测报告与认证证书/CE认证证书/DSS_SHES240501030402-01(1).pdf -> /v/data/新型机器人智能问答系统数据源-gemini/.md/08 检测报告与认证证书/CE认证证书/DSS_SHES240501030402-01(1).md\n"
     ]
    },
    {
     "name": "stderr",
     "output_type": "stream",
     "text": [
      "Recognizing layout: 100%|██████████| 3/3 [00:00<00:00,  4.06it/s]\n",
      "Running OCR Error Detection: 100%|██████████| 2/2 [00:00<00:00, 76.80it/s]\n",
      "Detecting bboxes: 0it [00:00, ?it/s]\n",
      "Detecting bboxes: 100%|██████████| 1/1 [00:00<00:00, 10.74it/s]\n",
      "Recognizing Text: 100%|██████████| 1/1 [00:00<00:00,  7.33it/s]\n",
      "Recognizing tables: 100%|██████████| 3/3 [00:01<00:00,  2.58it/s]\n",
      "2025-06-06 09:07:44,972 [INFO] marker: Saved markdown to /v/data/新型机器人智能问答系统数据源-gemini/.md/08 检测报告与认证证书/CE认证证书/DSS_SHES240501030402-03(1)\n",
      "2025-06-06 09:07:44,972 [INFO] marker: Total time: 5.069720506668091\n"
     ]
    },
    {
     "name": "stdout",
     "output_type": "stream",
     "text": [
      "Converted: /v/data/新型机器人智能问答系统数据源-gemini/08 检测报告与认证证书/CE认证证书/DSS_SHES240501030402-03(1).pdf -> /v/data/新型机器人智能问答系统数据源-gemini/.md/08 检测报告与认证证书/CE认证证书/DSS_SHES240501030402-03(1).md\n"
     ]
    },
    {
     "name": "stderr",
     "output_type": "stream",
     "text": [
      "Recognizing layout: 100%|██████████| 3/3 [00:00<00:00,  4.39it/s]\n",
      "Running OCR Error Detection: 100%|██████████| 2/2 [00:00<00:00, 82.68it/s]\n",
      "Detecting bboxes: 0it [00:00, ?it/s]\n",
      "Detecting bboxes: 0it [00:00, ?it/s]\n",
      "Recognizing tables: 100%|██████████| 2/2 [00:00<00:00,  3.27it/s]\n",
      "2025-06-06 09:07:52,837 [INFO] marker: Saved markdown to /v/data/新型机器人智能问答系统数据源-gemini/.md/08 检测报告与认证证书/CE认证证书/DSS_SHES241202398101-01\n",
      "2025-06-06 09:07:52,837 [INFO] marker: Total time: 3.9029879570007324\n"
     ]
    },
    {
     "name": "stdout",
     "output_type": "stream",
     "text": [
      "Converted: /v/data/新型机器人智能问答系统数据源-gemini/08 检测报告与认证证书/CE认证证书/DSS_SHES241202398101-01.pdf -> /v/data/新型机器人智能问答系统数据源-gemini/.md/08 检测报告与认证证书/CE认证证书/DSS_SHES241202398101-01.md\n"
     ]
    },
    {
     "name": "stderr",
     "output_type": "stream",
     "text": [
      "Recognizing layout: 100%|██████████| 1/1 [00:00<00:00,  2.23it/s]\n",
      "Running OCR Error Detection: 100%|██████████| 1/1 [00:00<00:00, 134.11it/s]\n",
      "Detecting bboxes: 0it [00:00, ?it/s]\n",
      "Detecting bboxes: 0it [00:00, ?it/s]\n",
      "Recognizing tables: 100%|██████████| 1/1 [00:00<00:00, 12.32it/s]\n",
      "2025-06-06 09:07:57,582 [INFO] marker: Saved markdown to /v/data/新型机器人智能问答系统数据源-gemini/.md/08 检测报告与认证证书/CE认证证书/DSS_MD_CoC_25_HEL_014 Issue 1\n",
      "2025-06-06 09:07:57,582 [INFO] marker: Total time: 0.8433542251586914\n"
     ]
    },
    {
     "name": "stdout",
     "output_type": "stream",
     "text": [
      "Converted: /v/data/新型机器人智能问答系统数据源-gemini/08 检测报告与认证证书/CE认证证书/DSS_MD_CoC_25_HEL_014 Issue 1.pdf -> /v/data/新型机器人智能问答系统数据源-gemini/.md/08 检测报告与认证证书/CE认证证书/DSS_MD_CoC_25_HEL_014 Issue 1.md\n"
     ]
    },
    {
     "name": "stderr",
     "output_type": "stream",
     "text": [
      "Recognizing layout: 100%|██████████| 3/3 [00:00<00:00,  4.24it/s]\n",
      "Running OCR Error Detection: 100%|██████████| 2/2 [00:00<00:00, 82.99it/s]\n",
      "Detecting bboxes: 0it [00:00, ?it/s]\n",
      "Detecting bboxes: 0it [00:00, ?it/s]\n",
      "Recognizing tables: 100%|██████████| 2/2 [00:00<00:00,  3.10it/s]\n",
      "2025-06-06 09:08:05,400 [INFO] marker: Saved markdown to /v/data/新型机器人智能问答系统数据源-gemini/.md/08 检测报告与认证证书/CE认证证书/DSS_SHES241202398201-01\n",
      "2025-06-06 09:08:05,400 [INFO] marker: Total time: 3.932098150253296\n"
     ]
    },
    {
     "name": "stdout",
     "output_type": "stream",
     "text": [
      "Converted: /v/data/新型机器人智能问答系统数据源-gemini/08 检测报告与认证证书/CE认证证书/DSS_SHES241202398201-01.pdf -> /v/data/新型机器人智能问答系统数据源-gemini/.md/08 检测报告与认证证书/CE认证证书/DSS_SHES241202398201-01.md\n"
     ]
    },
    {
     "name": "stderr",
     "output_type": "stream",
     "text": [
      "Recognizing layout: 100%|██████████| 3/3 [00:00<00:00,  4.28it/s]\n",
      "Running OCR Error Detection: 100%|██████████| 2/2 [00:00<00:00, 81.29it/s]\n",
      "Detecting bboxes: 0it [00:00, ?it/s]\n",
      "Detecting bboxes: 0it [00:00, ?it/s]\n",
      "Recognizing tables: 100%|██████████| 2/2 [00:01<00:00,  1.99it/s]\n",
      "2025-06-06 09:08:13,844 [INFO] marker: Saved markdown to /v/data/新型机器人智能问答系统数据源-gemini/.md/08 检测报告与认证证书/CE认证证书/DSS_SHES241202398101-03\n",
      "2025-06-06 09:08:13,844 [INFO] marker: Total time: 4.540617227554321\n"
     ]
    },
    {
     "name": "stdout",
     "output_type": "stream",
     "text": [
      "Converted: /v/data/新型机器人智能问答系统数据源-gemini/08 检测报告与认证证书/CE认证证书/DSS_SHES241202398101-03.pdf -> /v/data/新型机器人智能问答系统数据源-gemini/.md/08 检测报告与认证证书/CE认证证书/DSS_SHES241202398101-03.md\n"
     ]
    },
    {
     "name": "stderr",
     "output_type": "stream",
     "text": [
      "Recognizing layout: 100%|██████████| 9/9 [00:01<00:00,  5.37it/s]\n",
      "Running OCR Error Detection: 100%|██████████| 8/8 [00:00<00:00, 86.61it/s]\n",
      "Detecting bboxes: 0it [00:00, ?it/s]\n",
      "Detecting bboxes: 0it [00:00, ?it/s]\n",
      "Recognizing tables: 100%|██████████| 8/8 [00:02<00:00,  2.91it/s]\n",
      "2025-06-06 09:08:32,325 [INFO] marker: Saved markdown to /v/data/新型机器人智能问答系统数据源-gemini/.md/08 检测报告与认证证书/CE认证证书/DSS_SHES241202398201-02\n",
      "2025-06-06 09:08:32,325 [INFO] marker: Total time: 14.548913717269897\n"
     ]
    },
    {
     "name": "stdout",
     "output_type": "stream",
     "text": [
      "Converted: /v/data/新型机器人智能问答系统数据源-gemini/08 检测报告与认证证书/CE认证证书/DSS_SHES241202398201-02.pdf -> /v/data/新型机器人智能问答系统数据源-gemini/.md/08 检测报告与认证证书/CE认证证书/DSS_SHES241202398201-02.md\n"
     ]
    },
    {
     "name": "stderr",
     "output_type": "stream",
     "text": [
      "Recognizing layout: 100%|██████████| 1/1 [00:00<00:00,  2.27it/s]\n",
      "Running OCR Error Detection: 100%|██████████| 1/1 [00:00<00:00, 201.68it/s]\n",
      "Detecting bboxes: 0it [00:00, ?it/s]\n",
      "Detecting bboxes: 0it [00:00, ?it/s]\n",
      "Recognizing tables: 100%|██████████| 1/1 [00:00<00:00, 17.87it/s]\n",
      "2025-06-06 09:08:37,070 [INFO] marker: Saved markdown to /v/data/新型机器人智能问答系统数据源-gemini/.md/08 检测报告与认证证书/CE认证证书/DSS_MD_CoC_25_HEL_009 Issue 1\n",
      "2025-06-06 09:08:37,071 [INFO] marker: Total time: 0.7881419658660889\n"
     ]
    },
    {
     "name": "stdout",
     "output_type": "stream",
     "text": [
      "Converted: /v/data/新型机器人智能问答系统数据源-gemini/08 检测报告与认证证书/CE认证证书/DSS_MD_CoC_25_HEL_009 Issue 1.pdf -> /v/data/新型机器人智能问答系统数据源-gemini/.md/08 检测报告与认证证书/CE认证证书/DSS_MD_CoC_25_HEL_009 Issue 1.md\n"
     ]
    },
    {
     "name": "stderr",
     "output_type": "stream",
     "text": [
      "Recognizing layout: 100%|██████████| 3/3 [00:00<00:00,  4.13it/s]\n",
      "Running OCR Error Detection: 100%|██████████| 2/2 [00:00<00:00, 75.81it/s]\n",
      "Detecting bboxes: 0it [00:00, ?it/s]\n",
      "Detecting bboxes: 0it [00:00, ?it/s]\n",
      "Recognizing tables: 100%|██████████| 3/3 [00:01<00:00,  2.77it/s]\n",
      "2025-06-06 09:08:45,691 [INFO] marker: Saved markdown to /v/data/新型机器人智能问答系统数据源-gemini/.md/08 检测报告与认证证书/CE认证证书/DSS_SHES241202398201-03\n",
      "2025-06-06 09:08:45,691 [INFO] marker: Total time: 4.67156457901001\n"
     ]
    },
    {
     "name": "stdout",
     "output_type": "stream",
     "text": [
      "Converted: /v/data/新型机器人智能问答系统数据源-gemini/08 检测报告与认证证书/CE认证证书/DSS_SHES241202398201-03.pdf -> /v/data/新型机器人智能问答系统数据源-gemini/.md/08 检测报告与认证证书/CE认证证书/DSS_SHES241202398201-03.md\n"
     ]
    },
    {
     "name": "stderr",
     "output_type": "stream",
     "text": [
      "Recognizing layout: 100%|██████████| 1/1 [00:00<00:00,  3.29it/s]\n",
      "Running OCR Error Detection: 100%|██████████| 1/1 [00:00<00:00, 111.78it/s]\n",
      "Detecting bboxes: 100%|██████████| 1/1 [00:00<00:00, 11.09it/s]\n",
      "Recognizing Text: 100%|██████████| 17/17 [00:00<00:00, 48.99it/s]\n",
      "Detecting bboxes: 100%|██████████| 1/1 [00:00<00:00, 17.03it/s]\n",
      "Recognizing Text: 100%|██████████| 25/25 [00:00<00:00, 81.08it/s] \n",
      "Recognizing tables: 100%|██████████| 1/1 [00:00<00:00, 14.99it/s]\n",
      "2025-06-06 09:08:50,950 [INFO] marker: Saved markdown to /v/data/新型机器人智能问答系统数据源-gemini/.md/08 检测报告与认证证书/认证证书/工业机器人SR210A-新松CR证书\n",
      "2025-06-06 09:08:50,950 [INFO] marker: Total time: 1.3639566898345947\n"
     ]
    },
    {
     "name": "stdout",
     "output_type": "stream",
     "text": [
      "Converted: /v/data/新型机器人智能问答系统数据源-gemini/08 检测报告与认证证书/认证证书/工业机器人SR210A-新松CR证书.pdf -> /v/data/新型机器人智能问答系统数据源-gemini/.md/08 检测报告与认证证书/认证证书/工业机器人SR210A-新松CR证书.md\n"
     ]
    },
    {
     "name": "stderr",
     "output_type": "stream",
     "text": [
      "Recognizing layout: 100%|██████████| 1/1 [00:00<00:00,  3.12it/s]\n",
      "Running OCR Error Detection: 100%|██████████| 1/1 [00:00<00:00, 178.25it/s]\n",
      "Detecting bboxes: 0it [00:00, ?it/s]\n",
      "Detecting bboxes: 0it [00:00, ?it/s]\n",
      "Recognizing tables: 100%|██████████| 1/1 [00:00<00:00, 15.70it/s]\n",
      "2025-06-06 09:08:55,379 [INFO] marker: Saved markdown to /v/data/新型机器人智能问答系统数据源-gemini/.md/08 检测报告与认证证书/认证证书/DSS_SHEM2412007772Ver_CE_SH\n",
      "2025-06-06 09:08:55,380 [INFO] marker: Total time: 0.5291531085968018\n"
     ]
    },
    {
     "name": "stdout",
     "output_type": "stream",
     "text": [
      "Converted: /v/data/新型机器人智能问答系统数据源-gemini/08 检测报告与认证证书/认证证书/DSS_SHEM2412007772Ver_CE_SH.pdf -> /v/data/新型机器人智能问答系统数据源-gemini/.md/08 检测报告与认证证书/认证证书/DSS_SHEM2412007772Ver_CE_SH.md\n"
     ]
    },
    {
     "name": "stderr",
     "output_type": "stream",
     "text": [
      "Recognizing layout: 100%|██████████| 3/3 [00:00<00:00,  3.52it/s]\n",
      "Running OCR Error Detection: 100%|██████████| 3/3 [00:00<00:00, 435.73it/s]\n",
      "Detecting bboxes: 100%|██████████| 4/4 [00:01<00:00,  2.68it/s]\n",
      "Recognizing Text: 100%|██████████| 463/463 [00:03<00:00, 140.15it/s]\n",
      "Detecting bboxes: 100%|██████████| 5/5 [00:01<00:00,  2.56it/s]\n",
      "Recognizing Text: 100%|██████████| 1175/1175 [00:05<00:00, 196.51it/s]\n",
      "Recognizing tables: 100%|██████████| 3/3 [00:01<00:00,  2.73it/s]\n",
      "2025-06-06 09:09:16,548 [INFO] marker: Overflow in columns: 12 >= 12 or rows: 12 >= 29\n",
      "2025-06-06 09:09:16,583 [INFO] marker: Saved markdown to /v/data/新型机器人智能问答系统数据源-gemini/.md/08 检测报告与认证证书/认证证书/EMC报告扫描\n",
      "2025-06-06 09:09:16,583 [INFO] marker: Total time: 17.35818386077881\n"
     ]
    },
    {
     "name": "stdout",
     "output_type": "stream",
     "text": [
      "Converted: /v/data/新型机器人智能问答系统数据源-gemini/08 检测报告与认证证书/认证证书/EMC报告扫描.pdf -> /v/data/新型机器人智能问答系统数据源-gemini/.md/08 检测报告与认证证书/认证证书/EMC报告扫描.md\n"
     ]
    },
    {
     "name": "stderr",
     "output_type": "stream",
     "text": [
      "Recognizing layout: 100%|██████████| 1/1 [00:00<00:00,  2.76it/s]\n",
      "Running OCR Error Detection: 100%|██████████| 1/1 [00:00<00:00, 112.54it/s]\n",
      "Detecting bboxes: 100%|██████████| 1/1 [00:00<00:00, 10.95it/s]\n",
      "Recognizing Text: 100%|██████████| 27/27 [00:00<00:00, 49.90it/s]\n",
      "Detecting bboxes: 0it [00:00, ?it/s]\n",
      "2025-06-06 09:09:21,606 [INFO] marker: Saved markdown to /v/data/新型机器人智能问答系统数据源-gemini/.md/08 检测报告与认证证书/认证证书/T12A、T20A、T35A、T50A、T80A等CR认证证书\n",
      "2025-06-06 09:09:21,606 [INFO] marker: Total time: 1.1346173286437988\n"
     ]
    },
    {
     "name": "stdout",
     "output_type": "stream",
     "text": [
      "Converted: /v/data/新型机器人智能问答系统数据源-gemini/08 检测报告与认证证书/认证证书/T12A、T20A、T35A、T50A、T80A等CR认证证书.pdf -> /v/data/新型机器人智能问答系统数据源-gemini/.md/08 检测报告与认证证书/认证证书/T12A、T20A、T35A、T50A、T80A等CR认证证书.md\n"
     ]
    },
    {
     "name": "stderr",
     "output_type": "stream",
     "text": [
      "Recognizing layout: 100%|██████████| 1/1 [00:00<00:00,  3.12it/s]\n",
      "Running OCR Error Detection: 100%|██████████| 1/1 [00:00<00:00, 176.24it/s]\n",
      "Detecting bboxes: 0it [00:00, ?it/s]\n",
      "Detecting bboxes: 0it [00:00, ?it/s]\n",
      "Recognizing tables: 100%|██████████| 1/1 [00:00<00:00, 15.65it/s]\n",
      "2025-06-06 09:09:25,981 [INFO] marker: Saved markdown to /v/data/新型机器人智能问答系统数据源-gemini/.md/08 检测报告与认证证书/认证证书/DSS_SHEM2412007773Ver_CE_SH\n",
      "2025-06-06 09:09:25,981 [INFO] marker: Total time: 0.5304164886474609\n"
     ]
    },
    {
     "name": "stdout",
     "output_type": "stream",
     "text": [
      "Converted: /v/data/新型机器人智能问答系统数据源-gemini/08 检测报告与认证证书/认证证书/DSS_SHEM2412007773Ver_CE_SH.pdf -> /v/data/新型机器人智能问答系统数据源-gemini/.md/08 检测报告与认证证书/认证证书/DSS_SHEM2412007773Ver_CE_SH.md\n"
     ]
    },
    {
     "name": "stderr",
     "output_type": "stream",
     "text": [
      "Recognizing layout: 100%|██████████| 1/1 [00:00<00:00,  2.53it/s]\n",
      "Running OCR Error Detection: 100%|██████████| 1/1 [00:00<00:00, 176.03it/s]\n",
      "Detecting bboxes: 0it [00:00, ?it/s]\n",
      "Detecting bboxes: 0it [00:00, ?it/s]\n",
      "2025-06-06 09:09:30,336 [INFO] marker: Saved markdown to /v/data/新型机器人智能问答系统数据源-gemini/.md/08 检测报告与认证证书/认证证书/SGS中国发证MD指令CE证书\n",
      "2025-06-06 09:09:30,336 [INFO] marker: Total time: 0.5466954708099365\n"
     ]
    },
    {
     "name": "stdout",
     "output_type": "stream",
     "text": [
      "Converted: /v/data/新型机器人智能问答系统数据源-gemini/08 检测报告与认证证书/认证证书/SGS中国发证MD指令CE证书.pdf -> /v/data/新型机器人智能问答系统数据源-gemini/.md/08 检测报告与认证证书/认证证书/SGS中国发证MD指令CE证书.md\n"
     ]
    },
    {
     "name": "stderr",
     "output_type": "stream",
     "text": [
      "Recognizing layout: 100%|██████████| 1/1 [00:00<00:00,  2.55it/s]\n",
      "Running OCR Error Detection: 100%|██████████| 1/1 [00:00<00:00, 173.18it/s]\n",
      "Detecting bboxes: 0it [00:00, ?it/s]\n",
      "Detecting bboxes: 0it [00:00, ?it/s]\n",
      "2025-06-06 09:09:34,766 [INFO] marker: Saved markdown to /v/data/新型机器人智能问答系统数据源-gemini/.md/08 检测报告与认证证书/认证证书/DSS_MD SHES2412023981MD\n",
      "2025-06-06 09:09:34,766 [INFO] marker: Total time: 0.5446243286132812\n"
     ]
    },
    {
     "name": "stdout",
     "output_type": "stream",
     "text": [
      "Converted: /v/data/新型机器人智能问答系统数据源-gemini/08 检测报告与认证证书/认证证书/DSS_MD SHES2412023981MD.pdf -> /v/data/新型机器人智能问答系统数据源-gemini/.md/08 检测报告与认证证书/认证证书/DSS_MD SHES2412023981MD.md\n"
     ]
    },
    {
     "name": "stderr",
     "output_type": "stream",
     "text": [
      "Recognizing layout: 100%|██████████| 1/1 [00:00<00:00,  3.13it/s]\n",
      "Running OCR Error Detection: 100%|██████████| 1/1 [00:00<00:00, 178.79it/s]\n",
      "Detecting bboxes: 0it [00:00, ?it/s]\n",
      "Detecting bboxes: 0it [00:00, ?it/s]\n",
      "Recognizing tables: 100%|██████████| 1/1 [00:00<00:00, 14.90it/s]\n",
      "2025-06-06 09:09:39,327 [INFO] marker: Saved markdown to /v/data/新型机器人智能问答系统数据源-gemini/.md/08 检测报告与认证证书/认证证书/SR210A-210等机型EMC指令CE证书\n",
      "2025-06-06 09:09:39,327 [INFO] marker: Total time: 0.5355052947998047\n"
     ]
    },
    {
     "name": "stdout",
     "output_type": "stream",
     "text": [
      "Converted: /v/data/新型机器人智能问答系统数据源-gemini/08 检测报告与认证证书/认证证书/SR210A-210等机型EMC指令CE证书.pdf -> /v/data/新型机器人智能问答系统数据源-gemini/.md/08 检测报告与认证证书/认证证书/SR210A-210等机型EMC指令CE证书.md\n"
     ]
    },
    {
     "name": "stderr",
     "output_type": "stream",
     "text": [
      "Recognizing layout: 100%|██████████| 1/1 [00:00<00:00,  2.30it/s]\n",
      "Running OCR Error Detection: 100%|██████████| 1/1 [00:00<00:00, 196.27it/s]\n",
      "Detecting bboxes: 0it [00:00, ?it/s]\n",
      "Detecting bboxes: 0it [00:00, ?it/s]\n",
      "Recognizing tables: 100%|██████████| 1/1 [00:00<00:00, 14.13it/s]\n",
      "2025-06-06 09:09:44,054 [INFO] marker: Saved markdown to /v/data/新型机器人智能问答系统数据源-gemini/.md/08 检测报告与认证证书/认证证书/SGS芬兰发证MD指令CE证书\n",
      "2025-06-06 09:09:44,054 [INFO] marker: Total time: 0.8055775165557861\n"
     ]
    },
    {
     "name": "stdout",
     "output_type": "stream",
     "text": [
      "Converted: /v/data/新型机器人智能问答系统数据源-gemini/08 检测报告与认证证书/认证证书/SGS芬兰发证MD指令CE证书.pdf -> /v/data/新型机器人智能问答系统数据源-gemini/.md/08 检测报告与认证证书/认证证书/SGS芬兰发证MD指令CE证书.md\n"
     ]
    },
    {
     "name": "stderr",
     "output_type": "stream",
     "text": [
      "Recognizing layout: 100%|██████████| 1/1 [00:00<00:00,  2.81it/s]\n",
      "Running OCR Error Detection: 100%|██████████| 1/1 [00:00<00:00, 199.07it/s]\n",
      "Detecting bboxes: 0it [00:00, ?it/s]\n",
      "Detecting bboxes: 0it [00:00, ?it/s]\n",
      "2025-06-06 09:09:48,354 [INFO] marker: Saved markdown to /v/data/新型机器人智能问答系统数据源-gemini/.md/08 检测报告与认证证书/认证证书/天津CCIDCCZS-20200138R\n",
      "2025-06-06 09:09:48,354 [INFO] marker: Total time: 0.42932772636413574\n"
     ]
    },
    {
     "name": "stdout",
     "output_type": "stream",
     "text": [
      "Converted: /v/data/新型机器人智能问答系统数据源-gemini/08 检测报告与认证证书/认证证书/天津CCIDCCZS-20200138R.pdf -> /v/data/新型机器人智能问答系统数据源-gemini/.md/08 检测报告与认证证书/认证证书/天津CCIDCCZS-20200138R.md\n"
     ]
    },
    {
     "name": "stderr",
     "output_type": "stream",
     "text": [
      "Recognizing layout: 100%|██████████| 1/1 [00:00<00:00,  2.86it/s]\n",
      "Running OCR Error Detection: 100%|██████████| 1/1 [00:00<00:00, 204.94it/s]\n",
      "Detecting bboxes: 0it [00:00, ?it/s]\n",
      "Detecting bboxes: 0it [00:00, ?it/s]\n",
      "2025-06-06 09:09:52,799 [INFO] marker: Saved markdown to /v/data/新型机器人智能问答系统数据源-gemini/.md/08 检测报告与认证证书/认证证书/天津CCIDCCZS-20200132R\n",
      "2025-06-06 09:09:52,799 [INFO] marker: Total time: 0.42765188217163086\n"
     ]
    },
    {
     "name": "stdout",
     "output_type": "stream",
     "text": [
      "Converted: /v/data/新型机器人智能问答系统数据源-gemini/08 检测报告与认证证书/认证证书/天津CCIDCCZS-20200132R.pdf -> /v/data/新型机器人智能问答系统数据源-gemini/.md/08 检测报告与认证证书/认证证书/天津CCIDCCZS-20200132R.md\n"
     ]
    },
    {
     "name": "stderr",
     "output_type": "stream",
     "text": [
      "Recognizing layout: 100%|██████████| 1/1 [00:00<00:00,  2.87it/s]\n",
      "Running OCR Error Detection: 100%|██████████| 1/1 [00:00<00:00, 115.59it/s]\n",
      "Detecting bboxes: 100%|██████████| 1/1 [00:00<00:00, 11.67it/s]\n",
      "Recognizing Text: 100%|██████████| 18/18 [00:00<00:00, 49.41it/s]\n",
      "Detecting bboxes: 100%|██████████| 1/1 [00:00<00:00, 16.97it/s]\n",
      "Recognizing Text: 100%|██████████| 26/26 [00:00<00:00, 75.91it/s] \n",
      "Recognizing tables: 100%|██████████| 1/1 [00:00<00:00, 13.93it/s]\n",
      "2025-06-06 09:09:58,343 [INFO] marker: Saved markdown to /v/data/新型机器人智能问答系统数据源-gemini/.md/08 检测报告与认证证书/认证证书/工业机器人SR25A-新松CR证书\n",
      "2025-06-06 09:09:58,343 [INFO] marker: Total time: 1.517256498336792\n"
     ]
    },
    {
     "name": "stdout",
     "output_type": "stream",
     "text": [
      "Converted: /v/data/新型机器人智能问答系统数据源-gemini/08 检测报告与认证证书/认证证书/工业机器人SR25A-新松CR证书.pdf -> /v/data/新型机器人智能问答系统数据源-gemini/.md/08 检测报告与认证证书/认证证书/工业机器人SR25A-新松CR证书.md\n"
     ]
    },
    {
     "name": "stderr",
     "output_type": "stream",
     "text": [
      "Recognizing layout: 100%|██████████| 1/1 [00:00<00:00,  2.51it/s]\n",
      "Running OCR Error Detection: 100%|██████████| 1/1 [00:00<00:00, 172.42it/s]\n",
      "Detecting bboxes: 0it [00:00, ?it/s]\n",
      "Detecting bboxes: 0it [00:00, ?it/s]\n",
      "2025-06-06 09:10:02,973 [INFO] marker: Saved markdown to /v/data/新型机器人智能问答系统数据源-gemini/.md/08 检测报告与认证证书/认证证书/DSS_MD SHES2412023982MD\n",
      "2025-06-06 09:10:02,973 [INFO] marker: Total time: 0.551581621170044\n"
     ]
    },
    {
     "name": "stdout",
     "output_type": "stream",
     "text": [
      "Converted: /v/data/新型机器人智能问答系统数据源-gemini/08 检测报告与认证证书/认证证书/DSS_MD SHES2412023982MD.pdf -> /v/data/新型机器人智能问答系统数据源-gemini/.md/08 检测报告与认证证书/认证证书/DSS_MD SHES2412023982MD.md\n"
     ]
    },
    {
     "name": "stderr",
     "output_type": "stream",
     "text": [
      "Recognizing layout: 100%|██████████| 1/1 [00:00<00:00,  2.75it/s]\n",
      "Running OCR Error Detection: 100%|██████████| 1/1 [00:00<00:00, 190.61it/s]\n",
      "Detecting bboxes: 0it [00:00, ?it/s]\n",
      "Detecting bboxes: 0it [00:00, ?it/s]\n",
      "2025-06-06 09:10:07,322 [INFO] marker: Saved markdown to /v/data/新型机器人智能问答系统数据源-gemini/.md/08 检测报告与认证证书/认证证书/沈阳CCIDCCZS-20180063R\n",
      "2025-06-06 09:10:07,322 [INFO] marker: Total time: 0.4387052059173584\n"
     ]
    },
    {
     "name": "stdout",
     "output_type": "stream",
     "text": [
      "Converted: /v/data/新型机器人智能问答系统数据源-gemini/08 检测报告与认证证书/认证证书/沈阳CCIDCCZS-20180063R.pdf -> /v/data/新型机器人智能问答系统数据源-gemini/.md/08 检测报告与认证证书/认证证书/沈阳CCIDCCZS-20180063R.md\n"
     ]
    },
    {
     "name": "stderr",
     "output_type": "stream",
     "text": [
      "Recognizing layout: 100%|██████████| 1/1 [00:00<00:00,  2.67it/s]\n",
      "Running OCR Error Detection: 100%|██████████| 1/1 [00:00<00:00, 107.77it/s]\n",
      "Detecting bboxes: 100%|██████████| 1/1 [00:00<00:00, 11.13it/s]\n",
      "Recognizing Text: 100%|██████████| 33/33 [00:00<00:00, 71.94it/s]\n",
      "Detecting bboxes: 0it [00:00, ?it/s]\n",
      "2025-06-06 09:10:12,358 [INFO] marker: Saved markdown to /v/data/新型机器人智能问答系统数据源-gemini/.md/08 检测报告与认证证书/电池认证资料/经销商授权书\n",
      "2025-06-06 09:10:12,359 [INFO] marker: Total time: 1.1106765270233154\n"
     ]
    },
    {
     "name": "stdout",
     "output_type": "stream",
     "text": [
      "Converted: /v/data/新型机器人智能问答系统数据源-gemini/08 检测报告与认证证书/电池认证资料/经销商授权书.pdf -> /v/data/新型机器人智能问答系统数据源-gemini/.md/08 检测报告与认证证书/电池认证资料/经销商授权书.md\n"
     ]
    },
    {
     "name": "stderr",
     "output_type": "stream",
     "text": [
      "Recognizing layout: 100%|██████████| 5/5 [00:01<00:00,  3.92it/s]\n",
      "Running OCR Error Detection: 100%|██████████| 2/2 [00:00<00:00, 212.18it/s]\n",
      "Detecting bboxes: 100%|██████████| 8/8 [00:03<00:00,  2.22it/s]\n",
      "Recognizing Text: 100%|██████████| 271/271 [00:06<00:00, 44.73it/s] \n",
      "Detecting bboxes: 100%|██████████| 7/7 [00:03<00:00,  1.78it/s]\n",
      "Recognizing Text: 100%|██████████| 564/564 [00:09<00:00, 61.60it/s] \n",
      "Recognizing tables: 100%|██████████| 3/3 [00:01<00:00,  2.88it/s]\n",
      "2025-06-06 09:10:48,638 [INFO] marker: Saved markdown to /v/data/新型机器人智能问答系统数据源-gemini/.md/08 检测报告与认证证书/电池认证资料/MSDS【2024年度】已失效\n",
      "2025-06-06 09:10:48,638 [INFO] marker: Total time: 32.29084515571594\n"
     ]
    },
    {
     "name": "stdout",
     "output_type": "stream",
     "text": [
      "Converted: /v/data/新型机器人智能问答系统数据源-gemini/08 检测报告与认证证书/电池认证资料/MSDS【2024年度】已失效.pdf -> /v/data/新型机器人智能问答系统数据源-gemini/.md/08 检测报告与认证证书/电池认证资料/MSDS【2024年度】已失效.md\n"
     ]
    },
    {
     "name": "stderr",
     "output_type": "stream",
     "text": [
      "Recognizing layout: 100%|██████████| 1/1 [00:00<00:00,  3.67it/s]\n",
      "Running OCR Error Detection: 100%|██████████| 1/1 [00:00<00:00, 174.46it/s]\n",
      "Detecting bboxes: 0it [00:00, ?it/s]\n",
      "Detecting bboxes: 0it [00:00, ?it/s]\n",
      "Recognizing tables: 100%|██████████| 1/1 [00:00<00:00,  6.45it/s]\n",
      "2025-06-06 09:10:53,210 [INFO] marker: Saved markdown to /v/data/新型机器人智能问答系统数据源-gemini/.md/08 检测报告与认证证书/电池认证资料/ER34615H  UN38.3试验概要 【2022.1.4】\n",
      "2025-06-06 09:10:53,210 [INFO] marker: Total time: 0.6426725387573242\n"
     ]
    },
    {
     "name": "stdout",
     "output_type": "stream",
     "text": [
      "Converted: /v/data/新型机器人智能问答系统数据源-gemini/08 检测报告与认证证书/电池认证资料/ER34615H  UN38.3试验概要 【2022.1.4】.pdf -> /v/data/新型机器人智能问答系统数据源-gemini/.md/08 检测报告与认证证书/电池认证资料/ER34615H  UN38.3试验概要 【2022.1.4】.md\n"
     ]
    },
    {
     "name": "stderr",
     "output_type": "stream",
     "text": [
      "Recognizing layout: 100%|██████████| 2/2 [00:00<00:00,  2.98it/s]\n",
      "Running OCR Error Detection: 100%|██████████| 2/2 [00:00<00:00, 111.68it/s]\n",
      "Detecting bboxes: 100%|██████████| 2/2 [00:00<00:00,  3.31it/s]\n",
      "Recognizing Text: 100%|██████████| 65/65 [00:00<00:00, 70.12it/s]\n",
      "Detecting bboxes: 100%|██████████| 3/3 [00:01<00:00,  2.39it/s]\n",
      "Recognizing Text: 100%|██████████| 1209/1209 [00:08<00:00, 144.75it/s]\n",
      "Recognizing tables: 100%|██████████| 2/2 [00:00<00:00,  3.19it/s]\n",
      "2025-06-06 09:11:12,135 [INFO] marker: Saved markdown to /v/data/新型机器人智能问答系统数据源-gemini/.md/08 检测报告与认证证书/电池认证资料/ER34615H  UN38.3检测报告【2022.1.4】\n",
      "2025-06-06 09:11:12,135 [INFO] marker: Total time: 15.045830011367798\n"
     ]
    },
    {
     "name": "stdout",
     "output_type": "stream",
     "text": [
      "Converted: /v/data/新型机器人智能问答系统数据源-gemini/08 检测报告与认证证书/电池认证资料/ER34615H  UN38.3检测报告【2022.1.4】.pdf -> /v/data/新型机器人智能问答系统数据源-gemini/.md/08 检测报告与认证证书/电池认证资料/ER34615H  UN38.3检测报告【2022.1.4】.md\n"
     ]
    },
    {
     "name": "stderr",
     "output_type": "stream",
     "text": [
      "Recognizing layout: 100%|██████████| 1/1 [00:00<00:00,  1.81it/s]\n",
      "Running OCR Error Detection: 100%|██████████| 1/1 [00:00<00:00, 83.69it/s]\n",
      "Detecting bboxes: 0it [00:00, ?it/s]\n",
      "Detecting bboxes: 0it [00:00, ?it/s]\n",
      "Recognizing tables: 100%|██████████| 1/1 [00:00<00:00,  2.59it/s]\n",
      "2025-06-06 09:11:19,481 [INFO] marker: Saved markdown to /v/data/新型机器人智能问答系统数据源-gemini/.md/08 检测报告与认证证书/电池认证资料/MSDS【2025年度】\n",
      "2025-06-06 09:11:19,481 [INFO] marker: Total time: 3.4219632148742676\n"
     ]
    },
    {
     "name": "stdout",
     "output_type": "stream",
     "text": [
      "Converted: /v/data/新型机器人智能问答系统数据源-gemini/08 检测报告与认证证书/电池认证资料/MSDS【2025年度】.pdf -> /v/data/新型机器人智能问答系统数据源-gemini/.md/08 检测报告与认证证书/电池认证资料/MSDS【2025年度】.md\n"
     ]
    },
    {
     "name": "stderr",
     "output_type": "stream",
     "text": [
      "Recognizing layout: 100%|██████████| 3/3 [00:00<00:00,  3.85it/s]\n",
      "Running OCR Error Detection: 100%|██████████| 1/1 [00:00<00:00, 239.84it/s]\n",
      "Detecting bboxes: 100%|██████████| 4/4 [00:02<00:00,  1.91it/s]\n",
      "Recognizing Text: 100%|██████████| 73/73 [00:01<00:00, 38.21it/s]\n",
      "Detecting bboxes: 100%|██████████| 1/1 [00:00<00:00,  2.47it/s]\n",
      "Recognizing Text: 100%|██████████| 156/156 [00:00<00:00, 163.68it/s]\n",
      "Recognizing tables: 100%|██████████| 1/1 [00:00<00:00,  4.42it/s]\n",
      "2025-06-06 09:11:35,367 [INFO] marker: Saved markdown to /v/data/新型机器人智能问答系统数据源-gemini/.md/03 产品样册/05 产品码垛应用样本/SX023015新松箱类拆、码垛单元V1.1\n",
      "2025-06-06 09:11:35,367 [INFO] marker: Total time: 11.996448278427124\n"
     ]
    },
    {
     "name": "stdout",
     "output_type": "stream",
     "text": [
      "Converted: /v/data/新型机器人智能问答系统数据源-gemini/03 产品样册/05 产品码垛应用样本/SX023015新松箱类拆、码垛单元V1.1.pdf -> /v/data/新型机器人智能问答系统数据源-gemini/.md/03 产品样册/05 产品码垛应用样本/SX023015新松箱类拆、码垛单元V1.1.md\n"
     ]
    },
    {
     "name": "stderr",
     "output_type": "stream",
     "text": [
      "Recognizing layout: 100%|██████████| 3/3 [00:00<00:00,  3.69it/s]\n",
      "Running OCR Error Detection: 100%|██████████| 1/1 [00:00<00:00, 230.61it/s]\n",
      "Detecting bboxes: 100%|██████████| 4/4 [00:02<00:00,  1.90it/s]\n",
      "Recognizing Text: 100%|██████████| 45/45 [00:01<00:00, 31.06it/s]\n",
      "Detecting bboxes: 100%|██████████| 2/2 [00:00<00:00,  3.20it/s]\n",
      "Recognizing Text: 100%|██████████| 176/176 [00:01<00:00, 136.85it/s]\n",
      "Recognizing tables: 100%|██████████| 1/1 [00:00<00:00,  3.66it/s]\n",
      "2025-06-06 09:11:51,124 [INFO] marker: Saved markdown to /v/data/新型机器人智能问答系统数据源-gemini/.md/03 产品样册/05 产品码垛应用样本/SX023016新松袋类拆、码垛单元V1.0\n",
      "2025-06-06 09:11:51,124 [INFO] marker: Total time: 11.836928129196167\n"
     ]
    },
    {
     "name": "stdout",
     "output_type": "stream",
     "text": [
      "Converted: /v/data/新型机器人智能问答系统数据源-gemini/03 产品样册/05 产品码垛应用样本/SX023016新松袋类拆、码垛单元V1.0.pdf -> /v/data/新型机器人智能问答系统数据源-gemini/.md/03 产品样册/05 产品码垛应用样本/SX023016新松袋类拆、码垛单元V1.0.md\n"
     ]
    },
    {
     "name": "stderr",
     "output_type": "stream",
     "text": [
      "Recognizing layout: 100%|██████████| 3/3 [00:00<00:00,  3.86it/s]\n",
      "Running OCR Error Detection: 100%|██████████| 1/1 [00:00<00:00, 235.79it/s]\n",
      "Detecting bboxes: 100%|██████████| 4/4 [00:02<00:00,  1.88it/s]\n",
      "Recognizing Text: 100%|██████████| 60/60 [00:01<00:00, 32.91it/s]\n",
      "Detecting bboxes: 100%|██████████| 3/3 [00:01<00:00,  2.45it/s]\n",
      "Recognizing Text: 100%|██████████| 498/498 [00:03<00:00, 147.37it/s]\n",
      "Recognizing tables: 100%|██████████| 1/1 [00:00<00:00,  1.55it/s]\n",
      "2025-06-06 09:12:10,796 [INFO] marker: Saved markdown to /v/data/新型机器人智能问答系统数据源-gemini/.md/03 产品样册/01 产品综合样本/SX023001《新松工业机器人产品综合样本》-A.1\n",
      "2025-06-06 09:12:10,796 [INFO] marker: Total time: 15.753093481063843\n"
     ]
    },
    {
     "name": "stdout",
     "output_type": "stream",
     "text": [
      "Converted: /v/data/新型机器人智能问答系统数据源-gemini/03 产品样册/01 产品综合样本/SX023001《新松工业机器人产品综合样本》-A.1.pdf -> /v/data/新型机器人智能问答系统数据源-gemini/.md/03 产品样册/01 产品综合样本/SX023001《新松工业机器人产品综合样本》-A.1.md\n"
     ]
    },
    {
     "name": "stderr",
     "output_type": "stream",
     "text": [
      "Recognizing layout: 100%|██████████| 3/3 [00:00<00:00,  3.74it/s]\n",
      "Running OCR Error Detection: 100%|██████████| 1/1 [00:00<00:00, 230.30it/s]\n",
      "Detecting bboxes: 100%|██████████| 4/4 [00:02<00:00,  1.90it/s]\n",
      "Recognizing Text: 100%|██████████| 108/108 [00:03<00:00, 27.63it/s]\n",
      "Detecting bboxes: 100%|██████████| 3/3 [00:01<00:00,  2.45it/s]\n",
      "Recognizing Text: 100%|██████████| 500/500 [00:03<00:00, 129.21it/s]\n",
      "Recognizing tables: 100%|██████████| 1/1 [00:00<00:00,  2.07it/s]\n",
      "2025-06-06 09:12:33,302 [INFO] marker: Saved markdown to /v/data/新型机器人智能问答系统数据源-gemini/.md/03 产品样册/01 产品综合样本/SX023001《SIASUN Industrial Robotics》-A.1\n",
      "2025-06-06 09:12:33,302 [INFO] marker: Total time: 18.572985887527466\n"
     ]
    },
    {
     "name": "stdout",
     "output_type": "stream",
     "text": [
      "Converted: /v/data/新型机器人智能问答系统数据源-gemini/03 产品样册/01 产品综合样本/SX023001《SIASUN Industrial Robotics》-A.1.pdf -> /v/data/新型机器人智能问答系统数据源-gemini/.md/03 产品样册/01 产品综合样本/SX023001《SIASUN Industrial Robotics》-A.1.md\n"
     ]
    },
    {
     "name": "stderr",
     "output_type": "stream",
     "text": [
      "Recognizing layout: 100%|██████████| 2/2 [00:00<00:00,  3.10it/s]\n",
      "Running OCR Error Detection: 100%|██████████| 1/1 [00:00<00:00, 230.58it/s]\n",
      "Detecting bboxes: 100%|██████████| 3/3 [00:01<00:00,  1.86it/s]\n",
      "Recognizing Text: 100%|██████████| 71/71 [00:02<00:00, 34.19it/s]\n",
      "Detecting bboxes: 100%|██████████| 1/1 [00:00<00:00,  2.07it/s]\n",
      "Recognizing Text: 100%|██████████| 125/125 [00:01<00:00, 116.36it/s]\n",
      "Recognizing tables: 100%|██████████| 1/1 [00:00<00:00,  4.45it/s]\n",
      "2025-06-06 09:12:47,510 [INFO] marker: Saved markdown to /v/data/新型机器人智能问答系统数据源-gemini/.md/03 产品样册/02 产品焊接套机样本/SX023002《新松薄板焊接套机系统》-A.0\n",
      "2025-06-06 09:12:47,511 [INFO] marker: Total time: 10.282740592956543\n"
     ]
    },
    {
     "name": "stdout",
     "output_type": "stream",
     "text": [
      "Converted: /v/data/新型机器人智能问答系统数据源-gemini/03 产品样册/02 产品焊接套机样本/SX023002《新松薄板焊接套机系统》-A.0.pdf -> /v/data/新型机器人智能问答系统数据源-gemini/.md/03 产品样册/02 产品焊接套机样本/SX023002《新松薄板焊接套机系统》-A.0.md\n"
     ]
    },
    {
     "name": "stderr",
     "output_type": "stream",
     "text": [
      "Recognizing layout: 100%|██████████| 3/3 [00:00<00:00,  3.74it/s]\n",
      "Running OCR Error Detection: 100%|██████████| 1/1 [00:00<00:00, 232.47it/s]\n",
      "Detecting bboxes: 100%|██████████| 4/4 [00:02<00:00,  1.90it/s]\n",
      "Recognizing Text: 100%|██████████| 82/82 [00:02<00:00, 33.96it/s]\n",
      "Detecting bboxes: 100%|██████████| 1/1 [00:00<00:00,  2.16it/s]\n",
      "Recognizing Text: 100%|██████████| 120/120 [00:01<00:00, 112.39it/s]\n",
      "Recognizing tables: 100%|██████████| 1/1 [00:00<00:00,  4.72it/s]\n",
      "2025-06-06 09:13:04,211 [INFO] marker: Saved markdown to /v/data/新型机器人智能问答系统数据源-gemini/.md/03 产品样册/02 产品焊接套机样本/SX023004《新松中厚板焊接套机系统》-A.0\n",
      "2025-06-06 09:13:04,211 [INFO] marker: Total time: 12.801430702209473\n"
     ]
    },
    {
     "name": "stdout",
     "output_type": "stream",
     "text": [
      "Converted: /v/data/新型机器人智能问答系统数据源-gemini/03 产品样册/02 产品焊接套机样本/SX023004《新松中厚板焊接套机系统》-A.0.pdf -> /v/data/新型机器人智能问答系统数据源-gemini/.md/03 产品样册/02 产品焊接套机样本/SX023004《新松中厚板焊接套机系统》-A.0.md\n"
     ]
    },
    {
     "name": "stderr",
     "output_type": "stream",
     "text": [
      "Recognizing layout: 100%|██████████| 3/3 [00:00<00:00,  3.71it/s]\n",
      "Running OCR Error Detection: 100%|██████████| 1/1 [00:00<00:00, 225.15it/s]\n",
      "Detecting bboxes: 100%|██████████| 4/4 [00:02<00:00,  1.89it/s]\n",
      "Recognizing Text: 100%|██████████| 112/112 [00:05<00:00, 21.18it/s]\n",
      "Detecting bboxes: 100%|██████████| 1/1 [00:00<00:00,  1.99it/s]\n",
      "Recognizing Text: 100%|██████████| 124/124 [00:01<00:00, 95.41it/s] \n",
      "Recognizing tables: 100%|██████████| 1/1 [00:00<00:00,  4.37it/s]\n",
      "2025-06-06 09:13:24,628 [INFO] marker: Saved markdown to /v/data/新型机器人智能问答系统数据源-gemini/.md/03 产品样册/02 产品焊接套机样本/SX023004《M500 Welding Engineer System》-A.0\n",
      "2025-06-06 09:13:24,628 [INFO] marker: Total time: 16.497026681900024\n"
     ]
    },
    {
     "name": "stdout",
     "output_type": "stream",
     "text": [
      "Converted: /v/data/新型机器人智能问答系统数据源-gemini/03 产品样册/02 产品焊接套机样本/SX023004《M500 Welding Engineer System》-A.0.pdf -> /v/data/新型机器人智能问答系统数据源-gemini/.md/03 产品样册/02 产品焊接套机样本/SX023004《M500 Welding Engineer System》-A.0.md\n"
     ]
    },
    {
     "name": "stderr",
     "output_type": "stream",
     "text": [
      "Recognizing layout: 100%|██████████| 2/2 [00:00<00:00,  3.04it/s]\n",
      "Running OCR Error Detection: 100%|██████████| 1/1 [00:00<00:00, 238.18it/s]\n",
      "Detecting bboxes: 100%|██████████| 3/3 [00:01<00:00,  1.89it/s]\n",
      "Recognizing Text: 100%|██████████| 82/82 [00:03<00:00, 26.65it/s]\n",
      "Detecting bboxes: 100%|██████████| 1/1 [00:00<00:00,  2.13it/s]\n",
      "Recognizing Text: 100%|██████████| 126/126 [00:01<00:00, 104.13it/s]\n",
      "Recognizing tables: 100%|██████████| 1/1 [00:00<00:00,  4.86it/s]\n",
      "2025-06-06 09:13:40,467 [INFO] marker: Saved markdown to /v/data/新型机器人智能问答系统数据源-gemini/.md/03 产品样册/02 产品焊接套机样本/SX023002《A350&M350Welding Engineer System》-A.0\n",
      "2025-06-06 09:13:40,467 [INFO] marker: Total time: 11.891541719436646\n"
     ]
    },
    {
     "name": "stdout",
     "output_type": "stream",
     "text": [
      "Converted: /v/data/新型机器人智能问答系统数据源-gemini/03 产品样册/02 产品焊接套机样本/SX023002《A350&M350Welding Engineer System》-A.0.pdf -> /v/data/新型机器人智能问答系统数据源-gemini/.md/03 产品样册/02 产品焊接套机样本/SX023002《A350&M350Welding Engineer System》-A.0.md\n"
     ]
    },
    {
     "name": "stderr",
     "output_type": "stream",
     "text": [
      "Recognizing layout: 100%|██████████| 2/2 [00:00<00:00,  3.00it/s]\n",
      "Running OCR Error Detection: 100%|██████████| 1/1 [00:00<00:00, 205.91it/s]\n",
      "Detecting bboxes: 100%|██████████| 3/3 [00:01<00:00,  1.88it/s]\n",
      "Recognizing Text: 100%|██████████| 70/70 [00:02<00:00, 34.47it/s]\n",
      "Detecting bboxes: 100%|██████████| 1/1 [00:00<00:00,  3.24it/s]\n",
      "Recognizing Text: 100%|██████████| 151/151 [00:01<00:00, 145.35it/s]\n",
      "Recognizing tables: 100%|██████████| 1/1 [00:00<00:00,  5.16it/s]\n",
      "2025-06-06 09:13:54,352 [INFO] marker: Saved markdown to /v/data/新型机器人智能问答系统数据源-gemini/.md/03 产品样册/07 产品铝液捞渣套机样本/SX023014新松铝液捞渣套机系统-V1.0\n",
      "2025-06-06 09:13:54,352 [INFO] marker: Total time: 9.976769208908081\n"
     ]
    },
    {
     "name": "stdout",
     "output_type": "stream",
     "text": [
      "Converted: /v/data/新型机器人智能问答系统数据源-gemini/03 产品样册/07 产品铝液捞渣套机样本/SX023014新松铝液捞渣套机系统-V1.0.pdf -> /v/data/新型机器人智能问答系统数据源-gemini/.md/03 产品样册/07 产品铝液捞渣套机样本/SX023014新松铝液捞渣套机系统-V1.0.md\n"
     ]
    },
    {
     "name": "stderr",
     "output_type": "stream",
     "text": [
      "Recognizing layout: 100%|██████████| 1/1 [00:00<00:00,  2.57it/s]\n",
      "Running OCR Error Detection: 100%|██████████| 1/1 [00:00<00:00, 193.69it/s]\n",
      "Detecting bboxes: 100%|██████████| 2/2 [00:01<00:00,  1.97it/s]\n",
      "Recognizing Text: 100%|██████████| 29/29 [00:01<00:00, 28.01it/s]\n",
      "Detecting bboxes: 100%|██████████| 1/1 [00:00<00:00,  2.56it/s]\n",
      "Recognizing Text: 100%|██████████| 54/54 [00:00<00:00, 90.98it/s] \n",
      "Recognizing tables: 100%|██████████| 1/1 [00:00<00:00,  6.23it/s]\n",
      "2025-06-06 09:14:07,562 [INFO] marker: Saved markdown to /v/data/新型机器人智能问答系统数据源-gemini/.md/03 产品样册/03 产品点焊应用样本/SX023008《新松点焊机器人》-V1.1\n",
      "2025-06-06 09:14:07,562 [INFO] marker: Total time: 9.32132601737976\n"
     ]
    },
    {
     "name": "stdout",
     "output_type": "stream",
     "text": [
      "Converted: /v/data/新型机器人智能问答系统数据源-gemini/03 产品样册/03 产品点焊应用样本/SX023008《新松点焊机器人》-V1.1.pdf -> /v/data/新型机器人智能问答系统数据源-gemini/.md/03 产品样册/03 产品点焊应用样本/SX023008《新松点焊机器人》-V1.1.md\n"
     ]
    },
    {
     "name": "stderr",
     "output_type": "stream",
     "text": [
      "Recognizing layout: 100%|██████████| 2/2 [00:00<00:00,  2.98it/s]\n",
      "Running OCR Error Detection: 100%|██████████| 1/1 [00:00<00:00, 221.08it/s]\n",
      "Detecting bboxes: 100%|██████████| 3/3 [00:01<00:00,  1.89it/s]\n",
      "Recognizing Text: 100%|██████████| 58/58 [00:01<00:00, 32.57it/s]\n",
      "Detecting bboxes: 100%|██████████| 1/1 [00:00<00:00,  2.34it/s]\n",
      "Recognizing Text: 100%|██████████| 115/115 [00:01<00:00, 113.70it/s]\n",
      "Recognizing tables: 100%|██████████| 1/1 [00:00<00:00,  4.75it/s]\n",
      "2025-06-06 09:14:21,242 [INFO] marker: Saved markdown to /v/data/新型机器人智能问答系统数据源-gemini/.md/03 产品样册/08 产品激光清洗套机样本/SX023009新松激光清洗套机系统-V1.0\n",
      "2025-06-06 09:14:21,242 [INFO] marker: Total time: 9.773897171020508\n"
     ]
    },
    {
     "name": "stdout",
     "output_type": "stream",
     "text": [
      "Converted: /v/data/新型机器人智能问答系统数据源-gemini/03 产品样册/08 产品激光清洗套机样本/SX023009新松激光清洗套机系统-V1.0.pdf -> /v/data/新型机器人智能问答系统数据源-gemini/.md/03 产品样册/08 产品激光清洗套机样本/SX023009新松激光清洗套机系统-V1.0.md\n"
     ]
    },
    {
     "name": "stderr",
     "output_type": "stream",
     "text": [
      "Recognizing layout: 100%|██████████| 2/2 [00:00<00:00,  3.01it/s]\n",
      "Running OCR Error Detection: 100%|██████████| 1/1 [00:00<00:00, 233.61it/s]\n",
      "Detecting bboxes: 100%|██████████| 3/3 [00:01<00:00,  1.87it/s]\n",
      "Recognizing Text: 100%|██████████| 128/128 [00:02<00:00, 54.93it/s] \n",
      "Detecting bboxes: 100%|██████████| 1/1 [00:00<00:00,  2.54it/s]\n",
      "Recognizing Text: 100%|██████████| 169/169 [00:00<00:00, 175.17it/s]\n",
      "Recognizing tables: 100%|██████████| 1/1 [00:00<00:00,  4.34it/s]\n",
      "2025-06-06 09:14:35,472 [INFO] marker: Saved markdown to /v/data/新型机器人智能问答系统数据源-gemini/.md/03 产品样册/04 产品磨抛套机样本/SX023006《新松黑色金属打磨套机系统》-A.0\n",
      "2025-06-06 09:14:35,472 [INFO] marker: Total time: 10.310523986816406\n"
     ]
    },
    {
     "name": "stdout",
     "output_type": "stream",
     "text": [
      "Converted: /v/data/新型机器人智能问答系统数据源-gemini/03 产品样册/04 产品磨抛套机样本/SX023006《新松黑色金属打磨套机系统》-A.0.pdf -> /v/data/新型机器人智能问答系统数据源-gemini/.md/03 产品样册/04 产品磨抛套机样本/SX023006《新松黑色金属打磨套机系统》-A.0.md\n"
     ]
    },
    {
     "name": "stderr",
     "output_type": "stream",
     "text": [
      "Recognizing layout: 100%|██████████| 2/2 [00:00<00:00,  2.90it/s]\n",
      "Running OCR Error Detection: 100%|██████████| 1/1 [00:00<00:00, 222.54it/s]\n",
      "Detecting bboxes: 100%|██████████| 3/3 [00:01<00:00,  1.88it/s]\n",
      "Recognizing Text: 100%|██████████| 158/158 [00:03<00:00, 52.05it/s] \n",
      "Detecting bboxes: 100%|██████████| 1/1 [00:00<00:00,  2.61it/s]\n",
      "Recognizing Text: 100%|██████████| 172/172 [00:01<00:00, 170.56it/s]\n",
      "Recognizing tables: 100%|██████████| 1/1 [00:00<00:00,  2.44it/s]\n",
      "2025-06-06 09:14:50,769 [INFO] marker: Saved markdown to /v/data/新型机器人智能问答系统数据源-gemini/.md/03 产品样册/04 产品磨抛套机样本/SX023006《SIASUN Ferrous Metal Grinding & Polishing System》-A.0\n",
      "2025-06-06 09:14:50,769 [INFO] marker: Total time: 11.41941237449646\n"
     ]
    },
    {
     "name": "stdout",
     "output_type": "stream",
     "text": [
      "Converted: /v/data/新型机器人智能问答系统数据源-gemini/03 产品样册/04 产品磨抛套机样本/SX023006《SIASUN Ferrous Metal Grinding & Polishing System》-A.0.pdf -> /v/data/新型机器人智能问答系统数据源-gemini/.md/03 产品样册/04 产品磨抛套机样本/SX023006《SIASUN Ferrous Metal Grinding & Polishing System》-A.0.md\n"
     ]
    },
    {
     "name": "stderr",
     "output_type": "stream",
     "text": [
      "Recognizing layout: 100%|██████████| 2/2 [00:00<00:00,  4.41it/s]\n",
      "Running OCR Error Detection: 100%|██████████| 1/1 [00:00<00:00, 128.05it/s]\n",
      "Detecting bboxes: 0it [00:00, ?it/s]\n",
      "Detecting bboxes: 0it [00:00, ?it/s]\n",
      "Recognizing tables: 100%|██████████| 1/1 [00:00<00:00,  5.39it/s]\n",
      "2025-06-06 09:14:55,951 [INFO] marker: Saved markdown to /v/data/新型机器人智能问答系统数据源-gemini/.md/05 技术规格/规格参数/SR024011《新松SR50A-70-2.15规格参数》A-1\n",
      "2025-06-06 09:14:55,951 [INFO] marker: Total time: 1.2715377807617188\n"
     ]
    },
    {
     "name": "stdout",
     "output_type": "stream",
     "text": [
      "Converted: /v/data/新型机器人智能问答系统数据源-gemini/05 技术规格/规格参数/SR024011《新松SR50A-70-2.15规格参数》A-1.pdf -> /v/data/新型机器人智能问答系统数据源-gemini/.md/05 技术规格/规格参数/SR024011《新松SR50A-70-2.15规格参数》A-1.md\n"
     ]
    },
    {
     "name": "stderr",
     "output_type": "stream",
     "text": [
      "Recognizing layout: 100%|██████████| 2/2 [00:00<00:00,  4.49it/s]\n",
      "Running OCR Error Detection: 100%|██████████| 1/1 [00:00<00:00, 124.77it/s]\n",
      "Detecting bboxes: 0it [00:00, ?it/s]\n",
      "Detecting bboxes: 0it [00:00, ?it/s]\n",
      "Recognizing tables: 100%|██████████| 1/1 [00:00<00:00,  5.48it/s]\n",
      "2025-06-06 09:15:01,092 [INFO] marker: Saved markdown to /v/data/新型机器人智能问答系统数据源-gemini/.md/05 技术规格/规格参数/SR024013《新松SR270A-270-2.70规格参数》A-3\n",
      "2025-06-06 09:15:01,092 [INFO] marker: Total time: 1.2676045894622803\n"
     ]
    },
    {
     "name": "stdout",
     "output_type": "stream",
     "text": [
      "Converted: /v/data/新型机器人智能问答系统数据源-gemini/05 技术规格/规格参数/SR024013《新松SR270A-270-2.70规格参数》A-3.pdf -> /v/data/新型机器人智能问答系统数据源-gemini/.md/05 技术规格/规格参数/SR024013《新松SR270A-270-2.70规格参数》A-3.md\n"
     ]
    },
    {
     "name": "stderr",
     "output_type": "stream",
     "text": [
      "Recognizing layout: 100%|██████████| 1/1 [00:00<00:00,  2.48it/s]\n",
      "Running OCR Error Detection: 100%|██████████| 1/1 [00:00<00:00, 134.64it/s]\n",
      "Detecting bboxes: 0it [00:00, ?it/s]\n",
      "Detecting bboxes: 0it [00:00, ?it/s]\n",
      "Recognizing tables: 100%|██████████| 1/1 [00:00<00:00,  6.36it/s]\n",
      "2025-06-06 09:15:06,024 [INFO] marker: Saved markdown to /v/data/新型机器人智能问答系统数据源-gemini/.md/05 技术规格/规格参数/SR02400401《 SIASUN SR210A-210-2.65 Specifications-CE》A-0\n",
      "2025-06-06 09:15:06,024 [INFO] marker: Total time: 1.0708701610565186\n"
     ]
    },
    {
     "name": "stdout",
     "output_type": "stream",
     "text": [
      "Converted: /v/data/新型机器人智能问答系统数据源-gemini/05 技术规格/规格参数/SR02400401《 SIASUN SR210A-210-2.65 Specifications-CE》A-0.pdf -> /v/data/新型机器人智能问答系统数据源-gemini/.md/05 技术规格/规格参数/SR02400401《 SIASUN SR210A-210-2.65 Specifications-CE》A-0.md\n"
     ]
    },
    {
     "name": "stderr",
     "output_type": "stream",
     "text": [
      "Recognizing layout: 100%|██████████| 1/1 [00:00<00:00,  2.53it/s]\n",
      "Running OCR Error Detection: 100%|██████████| 1/1 [00:00<00:00, 139.17it/s]\n",
      "Detecting bboxes: 0it [00:00, ?it/s]\n",
      "Detecting bboxes: 0it [00:00, ?it/s]\n",
      "Recognizing tables: 100%|██████████| 1/1 [00:00<00:00,  5.50it/s]\n",
      "2025-06-06 09:15:11,095 [INFO] marker: Saved markdown to /v/data/新型机器人智能问答系统数据源-gemini/.md/05 技术规格/规格参数/SR02400301《Siasun SR25A-12-2.01 Specifications-CE》A-0\n",
      "2025-06-06 09:15:11,095 [INFO] marker: Total time: 1.184065341949463\n"
     ]
    },
    {
     "name": "stdout",
     "output_type": "stream",
     "text": [
      "Converted: /v/data/新型机器人智能问答系统数据源-gemini/05 技术规格/规格参数/SR02400301《Siasun SR25A-12-2.01 Specifications-CE》A-0.pdf -> /v/data/新型机器人智能问答系统数据源-gemini/.md/05 技术规格/规格参数/SR02400301《Siasun SR25A-12-2.01 Specifications-CE》A-0.md\n"
     ]
    },
    {
     "name": "stderr",
     "output_type": "stream",
     "text": [
      "Recognizing layout: 100%|██████████| 1/1 [00:00<00:00,  2.57it/s]\n",
      "Running OCR Error Detection: 100%|██████████| 1/1 [00:00<00:00, 138.14it/s]\n",
      "Detecting bboxes: 0it [00:00, ?it/s]\n",
      "Detecting bboxes: 0it [00:00, ?it/s]\n",
      "Recognizing tables: 100%|██████████| 1/1 [00:00<00:00,  7.12it/s]\n",
      "2025-06-06 09:15:15,990 [INFO] marker: Saved markdown to /v/data/新型机器人智能问答系统数据源-gemini/.md/05 技术规格/规格参数/SN024003《新松SN4A-4-0.58规格参数》A-1\n",
      "2025-06-06 09:15:15,990 [INFO] marker: Total time: 1.0251808166503906\n"
     ]
    },
    {
     "name": "stdout",
     "output_type": "stream",
     "text": [
      "Converted: /v/data/新型机器人智能问答系统数据源-gemini/05 技术规格/规格参数/SN024003《新松SN4A-4-0.58规格参数》A-1.pdf -> /v/data/新型机器人智能问答系统数据源-gemini/.md/05 技术规格/规格参数/SN024003《新松SN4A-4-0.58规格参数》A-1.md\n"
     ]
    },
    {
     "name": "stderr",
     "output_type": "stream",
     "text": [
      "Recognizing layout: 100%|██████████| 2/2 [00:00<00:00,  4.60it/s]\n",
      "Running OCR Error Detection: 100%|██████████| 1/1 [00:00<00:00, 136.72it/s]\n",
      "Detecting bboxes: 0it [00:00, ?it/s]\n",
      "Detecting bboxes: 0it [00:00, ?it/s]\n",
      "Recognizing tables: 100%|██████████| 1/1 [00:00<00:00,  5.38it/s]\n",
      "2025-06-06 09:15:21,130 [INFO] marker: Saved markdown to /v/data/新型机器人智能问答系统数据源-gemini/.md/05 技术规格/规格参数/SR024005《新松SR210A-210-3.05-DW规格参数》A-2\n",
      "2025-06-06 09:15:21,130 [INFO] marker: Total time: 1.222391128540039\n"
     ]
    },
    {
     "name": "stdout",
     "output_type": "stream",
     "text": [
      "Converted: /v/data/新型机器人智能问答系统数据源-gemini/05 技术规格/规格参数/SR024005《新松SR210A-210-3.05-DW规格参数》A-2.pdf -> /v/data/新型机器人智能问答系统数据源-gemini/.md/05 技术规格/规格参数/SR024005《新松SR210A-210-3.05-DW规格参数》A-2.md\n"
     ]
    },
    {
     "name": "stderr",
     "output_type": "stream",
     "text": [
      "Recognizing layout: 100%|██████████| 2/2 [00:00<00:00,  4.51it/s]\n",
      "Running OCR Error Detection: 100%|██████████| 1/1 [00:00<00:00, 84.02it/s]\n",
      "Detecting bboxes: 0it [00:00, ?it/s]\n",
      "Detecting bboxes: 100%|██████████| 1/1 [00:00<00:00, 12.22it/s]\n",
      "Recognizing Text: 100%|██████████| 5/5 [00:00<00:00, 25.33it/s]\n",
      "Recognizing tables: 100%|██████████| 1/1 [00:00<00:00,  5.33it/s]\n",
      "2025-06-06 09:15:26,585 [INFO] marker: Saved markdown to /v/data/新型机器人智能问答系统数据源-gemini/.md/05 技术规格/规格参数/SR024009《新松SR25A-35-1.80规格参数》A-2\n",
      "2025-06-06 09:15:26,585 [INFO] marker: Total time: 1.5829296112060547\n"
     ]
    },
    {
     "name": "stdout",
     "output_type": "stream",
     "text": [
      "Converted: /v/data/新型机器人智能问答系统数据源-gemini/05 技术规格/规格参数/SR024009《新松SR25A-35-1.80规格参数》A-2.pdf -> /v/data/新型机器人智能问答系统数据源-gemini/.md/05 技术规格/规格参数/SR024009《新松SR25A-35-1.80规格参数》A-2.md\n"
     ]
    },
    {
     "name": "stderr",
     "output_type": "stream",
     "text": [
      "Recognizing layout: 100%|██████████| 2/2 [00:00<00:00,  4.69it/s]\n",
      "Running OCR Error Detection: 100%|██████████| 1/1 [00:00<00:00, 68.61it/s]\n",
      "Detecting bboxes: 0it [00:00, ?it/s]\n",
      "Detecting bboxes: 100%|██████████| 1/1 [00:00<00:00, 12.25it/s]\n",
      "Recognizing Text: 100%|██████████| 5/5 [00:00<00:00, 26.45it/s]\n",
      "Recognizing tables: 100%|██████████| 1/1 [00:00<00:00,  5.23it/s]\n",
      "2025-06-06 09:15:32,017 [INFO] marker: Saved markdown to /v/data/新型机器人智能问答系统数据源-gemini/.md/05 技术规格/规格参数/SR024003《新松SR25A-12-2.01规格参数》A-1\n",
      "2025-06-06 09:15:32,017 [INFO] marker: Total time: 1.5899460315704346\n"
     ]
    },
    {
     "name": "stdout",
     "output_type": "stream",
     "text": [
      "Converted: /v/data/新型机器人智能问答系统数据源-gemini/05 技术规格/规格参数/SR024003《新松SR25A-12-2.01规格参数》A-1.pdf -> /v/data/新型机器人智能问答系统数据源-gemini/.md/05 技术规格/规格参数/SR024003《新松SR25A-12-2.01规格参数》A-1.md\n"
     ]
    },
    {
     "name": "stderr",
     "output_type": "stream",
     "text": [
      "Recognizing layout: 100%|██████████| 2/2 [00:00<00:00,  4.57it/s]\n",
      "Running OCR Error Detection: 100%|██████████| 1/1 [00:00<00:00, 142.46it/s]\n",
      "Detecting bboxes: 0it [00:00, ?it/s]\n",
      "Detecting bboxes: 0it [00:00, ?it/s]\n",
      "Recognizing tables: 100%|██████████| 1/1 [00:00<00:00,  5.14it/s]\n",
      "2025-06-06 09:15:37,043 [INFO] marker: Saved markdown to /v/data/新型机器人智能问答系统数据源-gemini/.md/05 技术规格/规格参数/SR024012《新松SR210-120-3.05规格参数》A-2\n",
      "2025-06-06 09:15:37,043 [INFO] marker: Total time: 1.180572509765625\n"
     ]
    },
    {
     "name": "stdout",
     "output_type": "stream",
     "text": [
      "Converted: /v/data/新型机器人智能问答系统数据源-gemini/05 技术规格/规格参数/SR024012《新松SR210-120-3.05规格参数》A-2.pdf -> /v/data/新型机器人智能问答系统数据源-gemini/.md/05 技术规格/规格参数/SR024012《新松SR210-120-3.05规格参数》A-2.md\n"
     ]
    },
    {
     "name": "stderr",
     "output_type": "stream",
     "text": [
      "Recognizing layout: 100%|██████████| 2/2 [00:00<00:00,  4.50it/s]\n",
      "Running OCR Error Detection: 100%|██████████| 1/1 [00:00<00:00, 82.64it/s]\n",
      "Detecting bboxes: 0it [00:00, ?it/s]\n",
      "Detecting bboxes: 0it [00:00, ?it/s]\n",
      "Recognizing tables: 100%|██████████| 1/1 [00:00<00:00,  6.29it/s]\n",
      "2025-06-06 09:15:42,144 [INFO] marker: Saved markdown to /v/data/新型机器人智能问答系统数据源-gemini/.md/05 技术规格/规格参数/SR024004《新松SR210A-210-2.65规格参数》A-2\n",
      "2025-06-06 09:15:42,144 [INFO] marker: Total time: 1.2025706768035889\n"
     ]
    },
    {
     "name": "stdout",
     "output_type": "stream",
     "text": [
      "Converted: /v/data/新型机器人智能问答系统数据源-gemini/05 技术规格/规格参数/SR024004《新松SR210A-210-2.65规格参数》A-2.pdf -> /v/data/新型机器人智能问答系统数据源-gemini/.md/05 技术规格/规格参数/SR024004《新松SR210A-210-2.65规格参数》A-2.md\n"
     ]
    },
    {
     "name": "stderr",
     "output_type": "stream",
     "text": [
      "Recognizing layout: 100%|██████████| 1/1 [00:00<00:00,  2.56it/s]\n",
      "Running OCR Error Detection: 100%|██████████| 1/1 [00:00<00:00, 143.28it/s]\n",
      "Detecting bboxes: 0it [00:00, ?it/s]\n",
      "Detecting bboxes: 0it [00:00, ?it/s]\n",
      "Recognizing tables: 100%|██████████| 1/1 [00:00<00:00,  5.80it/s]\n",
      "2025-06-06 09:15:47,205 [INFO] marker: Saved markdown to /v/data/新型机器人智能问答系统数据源-gemini/.md/05 技术规格/规格参数/SN024002《新松SN7B-7-0.90规格参数》A-1\n",
      "2025-06-06 09:15:47,205 [INFO] marker: Total time: 1.1843900680541992\n"
     ]
    },
    {
     "name": "stdout",
     "output_type": "stream",
     "text": [
      "Converted: /v/data/新型机器人智能问答系统数据源-gemini/05 技术规格/规格参数/SN024002《新松SN7B-7-0.90规格参数》A-1.pdf -> /v/data/新型机器人智能问答系统数据源-gemini/.md/05 技术规格/规格参数/SN024002《新松SN7B-7-0.90规格参数》A-1.md\n"
     ]
    },
    {
     "name": "stderr",
     "output_type": "stream",
     "text": [
      "Recognizing layout: 100%|██████████| 1/1 [00:00<00:00,  2.30it/s]\n",
      "Running OCR Error Detection: 100%|██████████| 1/1 [00:00<00:00, 147.14it/s]\n",
      "Detecting bboxes: 0it [00:00, ?it/s]\n",
      "Detecting bboxes: 100%|██████████| 1/1 [00:00<00:00,  3.12it/s]\n",
      "Recognizing Text: 100%|██████████| 246/246 [00:01<00:00, 191.08it/s]\n",
      "Recognizing tables: 100%|██████████| 1/1 [00:00<00:00,  2.62it/s]\n",
      "2025-06-06 09:15:54,271 [INFO] marker: Saved markdown to /v/data/新型机器人智能问答系统数据源-gemini/.md/05 技术规格/规格参数/SX024001《新松通用外部轴 规格参数》A-1\n",
      "2025-06-06 09:15:54,271 [INFO] marker: Total time: 3.2160701751708984\n"
     ]
    },
    {
     "name": "stdout",
     "output_type": "stream",
     "text": [
      "Converted: /v/data/新型机器人智能问答系统数据源-gemini/05 技术规格/规格参数/SX024001《新松通用外部轴 规格参数》A-1.pdf -> /v/data/新型机器人智能问答系统数据源-gemini/.md/05 技术规格/规格参数/SX024001《新松通用外部轴 规格参数》A-1.md\n"
     ]
    },
    {
     "name": "stderr",
     "output_type": "stream",
     "text": [
      "Recognizing layout: 100%|██████████| 2/2 [00:00<00:00,  4.41it/s]\n",
      "Running OCR Error Detection: 100%|██████████| 1/1 [00:00<00:00, 123.32it/s]\n",
      "Detecting bboxes: 0it [00:00, ?it/s]\n",
      "Detecting bboxes: 0it [00:00, ?it/s]\n",
      "Recognizing tables: 100%|██████████| 1/1 [00:00<00:00,  6.85it/s]\n",
      "2025-06-06 09:15:59,405 [INFO] marker: Saved markdown to /v/data/新型机器人智能问答系统数据源-gemini/.md/05 技术规格/规格参数/SP024001《新松SP120A-120-2.50规格参数》A-1\n",
      "2025-06-06 09:15:59,405 [INFO] marker: Total time: 1.1730270385742188\n"
     ]
    },
    {
     "name": "stdout",
     "output_type": "stream",
     "text": [
      "Converted: /v/data/新型机器人智能问答系统数据源-gemini/05 技术规格/规格参数/SP024001《新松SP120A-120-2.50规格参数》A-1.pdf -> /v/data/新型机器人智能问答系统数据源-gemini/.md/05 技术规格/规格参数/SP024001《新松SP120A-120-2.50规格参数》A-1.md\n"
     ]
    },
    {
     "name": "stderr",
     "output_type": "stream",
     "text": [
      "Recognizing layout: 100%|██████████| 2/2 [00:00<00:00,  4.51it/s]\n",
      "Running OCR Error Detection: 100%|██████████| 1/1 [00:00<00:00, 148.93it/s]\n",
      "Detecting bboxes: 0it [00:00, ?it/s]\n",
      "Detecting bboxes: 0it [00:00, ?it/s]\n",
      "Recognizing tables: 100%|██████████| 1/1 [00:00<00:00,  5.24it/s]\n",
      "2025-06-06 09:16:04,448 [INFO] marker: Saved markdown to /v/data/新型机器人智能问答系统数据源-gemini/.md/05 技术规格/规格参数/SR024006《新松SR500A-360-2.83规格参数》A-2\n",
      "2025-06-06 09:16:04,448 [INFO] marker: Total time: 1.1604483127593994\n"
     ]
    },
    {
     "name": "stdout",
     "output_type": "stream",
     "text": [
      "Converted: /v/data/新型机器人智能问答系统数据源-gemini/05 技术规格/规格参数/SR024006《新松SR500A-360-2.83规格参数》A-2.pdf -> /v/data/新型机器人智能问答系统数据源-gemini/.md/05 技术规格/规格参数/SR024006《新松SR500A-360-2.83规格参数》A-2.md\n"
     ]
    },
    {
     "name": "stderr",
     "output_type": "stream",
     "text": [
      "Recognizing layout: 100%|██████████| 2/2 [00:00<00:00,  4.42it/s]\n",
      "Running OCR Error Detection: 100%|██████████| 1/1 [00:00<00:00, 69.59it/s]\n",
      "Detecting bboxes: 0it [00:00, ?it/s]\n",
      "Detecting bboxes: 0it [00:00, ?it/s]\n",
      "Recognizing tables: 100%|██████████| 1/1 [00:00<00:00,  6.36it/s]\n",
      "2025-06-06 09:16:09,763 [INFO] marker: Saved markdown to /v/data/新型机器人智能问答系统数据源-gemini/.md/05 技术规格/规格参数/SR024001《新松SR12A-12-1.46规格参数》A-1\n",
      "2025-06-06 09:16:09,763 [INFO] marker: Total time: 1.310936689376831\n"
     ]
    },
    {
     "name": "stdout",
     "output_type": "stream",
     "text": [
      "Converted: /v/data/新型机器人智能问答系统数据源-gemini/05 技术规格/规格参数/SR024001《新松SR12A-12-1.46规格参数》A-1.pdf -> /v/data/新型机器人智能问答系统数据源-gemini/.md/05 技术规格/规格参数/SR024001《新松SR12A-12-1.46规格参数》A-1.md\n"
     ]
    },
    {
     "name": "stderr",
     "output_type": "stream",
     "text": [
      "Recognizing layout: 100%|██████████| 2/2 [00:00<00:00,  4.63it/s]\n",
      "Running OCR Error Detection: 100%|██████████| 1/1 [00:00<00:00, 143.13it/s]\n",
      "Detecting bboxes: 0it [00:00, ?it/s]\n",
      "Detecting bboxes: 100%|██████████| 1/1 [00:00<00:00, 11.92it/s]\n",
      "Recognizing Text: 100%|██████████| 5/5 [00:00<00:00, 25.14it/s]\n",
      "Recognizing tables: 100%|██████████| 1/1 [00:00<00:00,  4.72it/s]\n",
      "2025-06-06 09:16:15,183 [INFO] marker: Saved markdown to /v/data/新型机器人智能问答系统数据源-gemini/.md/05 技术规格/规格参数/SR024002《新松SR25A-20-1.80规格参数》A-1\n",
      "2025-06-06 09:16:15,183 [INFO] marker: Total time: 1.5582513809204102\n"
     ]
    },
    {
     "name": "stdout",
     "output_type": "stream",
     "text": [
      "Converted: /v/data/新型机器人智能问答系统数据源-gemini/05 技术规格/规格参数/SR024002《新松SR25A-20-1.80规格参数》A-1.pdf -> /v/data/新型机器人智能问答系统数据源-gemini/.md/05 技术规格/规格参数/SR024002《新松SR25A-20-1.80规格参数》A-1.md\n"
     ]
    },
    {
     "name": "stderr",
     "output_type": "stream",
     "text": [
      "Recognizing layout: 100%|██████████| 1/1 [00:00<00:00,  2.49it/s]\n",
      "Running OCR Error Detection: 100%|██████████| 1/1 [00:00<00:00, 141.80it/s]\n",
      "Detecting bboxes: 0it [00:00, ?it/s]\n",
      "Detecting bboxes: 0it [00:00, ?it/s]\n",
      "Recognizing tables: 100%|██████████| 1/1 [00:00<00:00,  7.03it/s]\n",
      "2025-06-06 09:16:20,240 [INFO] marker: Saved markdown to /v/data/新型机器人智能问答系统数据源-gemini/.md/05 技术规格/规格参数/SR02400101《Siasun SR12A-12-1.46 Specifications-CE》A-0\n",
      "2025-06-06 09:16:20,240 [INFO] marker: Total time: 1.148085117340088\n"
     ]
    },
    {
     "name": "stdout",
     "output_type": "stream",
     "text": [
      "Converted: /v/data/新型机器人智能问答系统数据源-gemini/05 技术规格/规格参数/SR02400101《Siasun SR12A-12-1.46 Specifications-CE》A-0.pdf -> /v/data/新型机器人智能问答系统数据源-gemini/.md/05 技术规格/规格参数/SR02400101《Siasun SR12A-12-1.46 Specifications-CE》A-0.md\n"
     ]
    },
    {
     "name": "stderr",
     "output_type": "stream",
     "text": [
      "Recognizing layout: 100%|██████████| 2/2 [00:00<00:00,  4.41it/s]\n",
      "Running OCR Error Detection: 100%|██████████| 1/1 [00:00<00:00, 133.51it/s]\n",
      "Detecting bboxes: 0it [00:00, ?it/s]\n",
      "Detecting bboxes: 0it [00:00, ?it/s]\n",
      "Recognizing tables: 100%|██████████| 1/1 [00:00<00:00,  5.83it/s]\n",
      "2025-06-06 09:16:25,358 [INFO] marker: Saved markdown to /v/data/新型机器人智能问答系统数据源-gemini/.md/05 技术规格/规格参数/SR024007《新松SR50A-50-2.15规格参数》A-1\n",
      "2025-06-06 09:16:25,358 [INFO] marker: Total time: 1.2531836032867432\n"
     ]
    },
    {
     "name": "stdout",
     "output_type": "stream",
     "text": [
      "Converted: /v/data/新型机器人智能问答系统数据源-gemini/05 技术规格/规格参数/SR024007《新松SR50A-50-2.15规格参数》A-1.pdf -> /v/data/新型机器人智能问答系统数据源-gemini/.md/05 技术规格/规格参数/SR024007《新松SR50A-50-2.15规格参数》A-1.md\n"
     ]
    },
    {
     "name": "stderr",
     "output_type": "stream",
     "text": [
      "Recognizing layout: 100%|██████████| 2/2 [00:00<00:00,  4.52it/s]\n",
      "Running OCR Error Detection: 100%|██████████| 1/1 [00:00<00:00, 88.61it/s]\n",
      "Detecting bboxes: 0it [00:00, ?it/s]\n",
      "Detecting bboxes: 100%|██████████| 1/1 [00:00<00:00, 12.09it/s]\n",
      "Recognizing Text: 100%|██████████| 5/5 [00:00<00:00, 25.49it/s]\n",
      "Recognizing tables: 100%|██████████| 1/1 [00:00<00:00,  5.29it/s]\n",
      "2025-06-06 09:16:31,052 [INFO] marker: Saved markdown to /v/data/新型机器人智能问答系统数据源-gemini/.md/05 技术规格/规格参数/SR024008《新松SR25A-25-1.80规格参数》A-1\n",
      "2025-06-06 09:16:31,052 [INFO] marker: Total time: 1.5916187763214111\n"
     ]
    },
    {
     "name": "stdout",
     "output_type": "stream",
     "text": [
      "Converted: /v/data/新型机器人智能问答系统数据源-gemini/05 技术规格/规格参数/SR024008《新松SR25A-25-1.80规格参数》A-1.pdf -> /v/data/新型机器人智能问答系统数据源-gemini/.md/05 技术规格/规格参数/SR024008《新松SR25A-25-1.80规格参数》A-1.md\n"
     ]
    },
    {
     "name": "stderr",
     "output_type": "stream",
     "text": [
      "Recognizing layout: 100%|██████████| 2/2 [00:00<00:00,  4.59it/s]\n",
      "Running OCR Error Detection: 100%|██████████| 1/1 [00:00<00:00, 147.41it/s]\n",
      "Detecting bboxes: 0it [00:00, ?it/s]\n",
      "Detecting bboxes: 0it [00:00, ?it/s]\n",
      "Recognizing tables: 100%|██████████| 1/1 [00:00<00:00,  5.47it/s]\n",
      "2025-06-06 09:16:36,104 [INFO] marker: Saved markdown to /v/data/新型机器人智能问答系统数据源-gemini/.md/05 技术规格/规格参数/SR024010《新松SR500A-500-2.52规格参数》A-2\n",
      "2025-06-06 09:16:36,104 [INFO] marker: Total time: 1.147550106048584\n"
     ]
    },
    {
     "name": "stdout",
     "output_type": "stream",
     "text": [
      "Converted: /v/data/新型机器人智能问答系统数据源-gemini/05 技术规格/规格参数/SR024010《新松SR500A-500-2.52规格参数》A-2.pdf -> /v/data/新型机器人智能问答系统数据源-gemini/.md/05 技术规格/规格参数/SR024010《新松SR500A-500-2.52规格参数》A-2.md\n"
     ]
    },
    {
     "name": "stderr",
     "output_type": "stream",
     "text": [
      "Recognizing layout: 100%|██████████| 2/2 [00:00<00:00,  3.75it/s]\n",
      "Running OCR Error Detection: 100%|██████████| 2/2 [00:00<00:00, 149.20it/s]\n",
      "Detecting bboxes: 0it [00:00, ?it/s]\n",
      "Detecting bboxes: 100%|██████████| 1/1 [00:00<00:00,  7.00it/s]\n",
      "Recognizing Text: 100%|██████████| 176/176 [00:00<00:00, 197.22it/s]\n",
      "Recognizing tables: 100%|██████████| 1/1 [00:00<00:00,  5.23it/s]\n",
      "2025-06-06 09:16:44,008 [INFO] marker: Saved markdown to /v/data/新型机器人智能问答系统数据源-gemini/.md/06 产品手册/快速安装类/SR022001《新松 SR系列工业机器人快速安装手册》- V1.1\n",
      "2025-06-06 09:16:44,008 [INFO] marker: Total time: 4.027053356170654\n"
     ]
    },
    {
     "name": "stdout",
     "output_type": "stream",
     "text": [
      "Converted: /v/data/新型机器人智能问答系统数据源-gemini/06 产品手册/快速安装类/SR022001《新松 SR系列工业机器人快速安装手册》- V1.1.pdf -> /v/data/新型机器人智能问答系统数据源-gemini/.md/06 产品手册/快速安装类/SR022001《新松 SR系列工业机器人快速安装手册》- V1.1.md\n"
     ]
    },
    {
     "name": "stderr",
     "output_type": "stream",
     "text": [
      "Recognizing layout: 100%|██████████| 2/2 [00:00<00:00,  3.60it/s]\n",
      "Running OCR Error Detection: 100%|██████████| 2/2 [00:00<00:00, 155.22it/s]\n",
      "Detecting bboxes: 0it [00:00, ?it/s]\n",
      "Detecting bboxes: 100%|██████████| 1/1 [00:00<00:00,  5.75it/s]\n",
      "Recognizing Text: 100%|██████████| 183/183 [00:00<00:00, 188.61it/s]\n",
      "Recognizing tables: 100%|██████████| 1/1 [00:00<00:00,  4.75it/s]\n",
      "2025-06-06 09:16:51,247 [INFO] marker: Saved markdown to /v/data/新型机器人智能问答系统数据源-gemini/.md/06 产品手册/快速安装类/SN022001《新松 SN系列工业机器人快速安装手册》- V1.1\n",
      "2025-06-06 09:16:51,247 [INFO] marker: Total time: 3.352388620376587\n"
     ]
    },
    {
     "name": "stdout",
     "output_type": "stream",
     "text": [
      "Converted: /v/data/新型机器人智能问答系统数据源-gemini/06 产品手册/快速安装类/SN022001《新松 SN系列工业机器人快速安装手册》- V1.1.pdf -> /v/data/新型机器人智能问答系统数据源-gemini/.md/06 产品手册/快速安装类/SN022001《新松 SN系列工业机器人快速安装手册》- V1.1.md\n"
     ]
    },
    {
     "name": "stderr",
     "output_type": "stream",
     "text": [
      "Recognizing layout: 100%|██████████| 3/3 [00:00<00:00,  3.05it/s]\n",
      "Running OCR Error Detection: 100%|██████████| 3/3 [00:00<00:00, 96.87it/s]\n",
      "Detecting bboxes: 0it [00:00, ?it/s]\n",
      "Detecting bboxes: 0it [00:00, ?it/s]\n",
      "Recognizing tables: 100%|██████████| 1/1 [00:00<00:00,  4.29it/s]\n",
      "2025-06-06 09:17:00,347 [INFO] marker: Saved markdown to /v/data/新型机器人智能问答系统数据源-gemini/.md/06 产品手册/安全类/SX022001《新松机器人安全手册》-V1.9\n",
      "2025-06-06 09:17:00,347 [INFO] marker: Total time: 5.175894021987915\n"
     ]
    },
    {
     "name": "stdout",
     "output_type": "stream",
     "text": [
      "Converted: /v/data/新型机器人智能问答系统数据源-gemini/06 产品手册/安全类/SX022001《新松机器人安全手册》-V1.9.pdf -> /v/data/新型机器人智能问答系统数据源-gemini/.md/06 产品手册/安全类/SX022001《新松机器人安全手册》-V1.9.md\n"
     ]
    },
    {
     "name": "stderr",
     "output_type": "stream",
     "text": [
      "Recognizing layout: 100%|██████████| 3/3 [00:00<00:00,  3.02it/s]\n",
      "Running OCR Error Detection: 100%|██████████| 3/3 [00:00<00:00, 103.24it/s]\n",
      "Detecting bboxes: 0it [00:00, ?it/s]\n",
      "Detecting bboxes: 0it [00:00, ?it/s]\n",
      "Recognizing tables: 100%|██████████| 1/1 [00:00<00:00,  4.75it/s]\n",
      "2025-06-06 09:17:10,708 [INFO] marker: Saved markdown to /v/data/新型机器人智能问答系统数据源-gemini/.md/06 产品手册/安全类/SX022001_-Siasun Robot Safety Manual_-V1.3\n",
      "2025-06-06 09:17:10,708 [INFO] marker: Total time: 6.4524922370910645\n"
     ]
    },
    {
     "name": "stdout",
     "output_type": "stream",
     "text": [
      "Converted: /v/data/新型机器人智能问答系统数据源-gemini/06 产品手册/安全类/SX022001_-Siasun Robot Safety Manual_-V1.3.pdf -> /v/data/新型机器人智能问答系统数据源-gemini/.md/06 产品手册/安全类/SX022001_-Siasun Robot Safety Manual_-V1.3.md\n"
     ]
    },
    {
     "name": "stderr",
     "output_type": "stream",
     "text": [
      "Recognizing layout: 100%|██████████| 6/6 [00:01<00:00,  4.11it/s]\n",
      "Running OCR Error Detection: 100%|██████████| 5/5 [00:00<00:00, 94.81it/s]\n",
      "Detecting bboxes: 0it [00:00, ?it/s]\n",
      "Detecting bboxes: 100%|██████████| 1/1 [00:00<00:00,  5.91it/s]\n",
      "Recognizing Text: 100%|██████████| 265/265 [00:01<00:00, 208.41it/s]\n",
      "Recognizing tables: 100%|██████████| 3/3 [00:00<00:00,  3.40it/s]\n",
      "2025-06-06 09:17:22,049 [INFO] marker: Saved markdown to /v/data/新型机器人智能问答系统数据源-gemini/.md/06 产品手册/机械类/SR122006新松SR50系列工业机器人安装及维护手册（A-3)\n",
      "2025-06-06 09:17:22,049 [INFO] marker: Total time: 7.362897634506226\n"
     ]
    },
    {
     "name": "stdout",
     "output_type": "stream",
     "text": [
      "Converted: /v/data/新型机器人智能问答系统数据源-gemini/06 产品手册/机械类/SR122006新松SR50系列工业机器人安装及维护手册（A-3).pdf -> /v/data/新型机器人智能问答系统数据源-gemini/.md/06 产品手册/机械类/SR122006新松SR50系列工业机器人安装及维护手册（A-3).md\n"
     ]
    },
    {
     "name": "stderr",
     "output_type": "stream",
     "text": [
      "Recognizing layout: 100%|██████████| 4/4 [00:01<00:00,  3.38it/s]\n",
      "Running OCR Error Detection: 100%|██████████| 4/4 [00:00<00:00, 94.43it/s]\n",
      "Detecting bboxes: 0it [00:00, ?it/s]\n",
      "Detecting bboxes: 100%|██████████| 1/1 [00:00<00:00,  4.54it/s]\n",
      "Recognizing Text: 100%|██████████| 273/273 [00:01<00:00, 208.35it/s]\n",
      "Recognizing tables: 100%|██████████| 3/3 [00:00<00:00,  3.50it/s]\n",
      "2025-06-06 09:17:32,484 [INFO] marker: Saved markdown to /v/data/新型机器人智能问答系统数据源-gemini/.md/06 产品手册/机械类/SN122002新松SN4系列工业机器人安装及维护手册（A-2)\n",
      "2025-06-06 09:17:32,484 [INFO] marker: Total time: 6.500729084014893\n"
     ]
    },
    {
     "name": "stdout",
     "output_type": "stream",
     "text": [
      "Converted: /v/data/新型机器人智能问答系统数据源-gemini/06 产品手册/机械类/SN122002新松SN4系列工业机器人安装及维护手册（A-2).pdf -> /v/data/新型机器人智能问答系统数据源-gemini/.md/06 产品手册/机械类/SN122002新松SN4系列工业机器人安装及维护手册（A-2).md\n"
     ]
    },
    {
     "name": "stderr",
     "output_type": "stream",
     "text": [
      "Recognizing layout: 100%|██████████| 4/4 [00:01<00:00,  3.42it/s]\n",
      "Running OCR Error Detection: 100%|██████████| 4/4 [00:00<00:00, 97.40it/s]\n",
      "Detecting bboxes: 0it [00:00, ?it/s]\n",
      "Detecting bboxes: 100%|██████████| 1/1 [00:00<00:00,  5.53it/s]\n",
      "Recognizing Text: 100%|██████████| 267/267 [00:01<00:00, 210.73it/s]\n",
      "Recognizing tables: 100%|██████████| 3/3 [00:00<00:00,  3.47it/s]\n",
      "2025-06-06 09:17:42,725 [INFO] marker: Saved markdown to /v/data/新型机器人智能问答系统数据源-gemini/.md/06 产品手册/机械类/SN122001新松SN7系列工业机器人安装及维护手册（A-5)\n",
      "2025-06-06 09:17:42,725 [INFO] marker: Total time: 6.28805685043335\n"
     ]
    },
    {
     "name": "stdout",
     "output_type": "stream",
     "text": [
      "Converted: /v/data/新型机器人智能问答系统数据源-gemini/06 产品手册/机械类/SN122001新松SN7系列工业机器人安装及维护手册（A-5).pdf -> /v/data/新型机器人智能问答系统数据源-gemini/.md/06 产品手册/机械类/SN122001新松SN7系列工业机器人安装及维护手册（A-5).md\n"
     ]
    },
    {
     "name": "stderr",
     "output_type": "stream",
     "text": [
      "Recognizing layout: 100%|██████████| 6/6 [00:01<00:00,  3.95it/s]\n",
      "Running OCR Error Detection: 100%|██████████| 5/5 [00:00<00:00, 92.80it/s]\n",
      "Detecting bboxes: 0it [00:00, ?it/s]\n",
      "Detecting bboxes: 100%|██████████| 1/1 [00:00<00:00,  5.71it/s]\n",
      "Recognizing Text: 100%|██████████| 268/268 [00:01<00:00, 205.38it/s]\n",
      "Recognizing tables: 100%|██████████| 3/3 [00:00<00:00,  3.23it/s]\n",
      "2025-06-06 09:17:54,700 [INFO] marker: Saved markdown to /v/data/新型机器人智能问答系统数据源-gemini/.md/06 产品手册/机械类/SR122004新松SR500系列工业机器人安装及维护手册（A-2)\n",
      "2025-06-06 09:17:54,700 [INFO] marker: Total time: 8.015608787536621\n"
     ]
    },
    {
     "name": "stdout",
     "output_type": "stream",
     "text": [
      "Converted: /v/data/新型机器人智能问答系统数据源-gemini/06 产品手册/机械类/SR122004新松SR500系列工业机器人安装及维护手册（A-2).pdf -> /v/data/新型机器人智能问答系统数据源-gemini/.md/06 产品手册/机械类/SR122004新松SR500系列工业机器人安装及维护手册（A-2).md\n"
     ]
    },
    {
     "name": "stderr",
     "output_type": "stream",
     "text": [
      "Recognizing layout: 100%|██████████| 5/5 [00:01<00:00,  3.46it/s]\n",
      "Running OCR Error Detection: 100%|██████████| 4/4 [00:00<00:00, 79.29it/s]\n",
      "Detecting bboxes: 0it [00:00, ?it/s]\n",
      "Detecting bboxes: 100%|██████████| 1/1 [00:00<00:00,  4.63it/s]\n",
      "Recognizing Text: 100%|██████████| 319/319 [00:01<00:00, 206.45it/s]\n",
      "Recognizing tables: 100%|██████████| 3/3 [00:01<00:00,  3.00it/s]\n",
      "2025-06-06 09:18:06,509 [INFO] marker: Saved markdown to /v/data/新型机器人智能问答系统数据源-gemini/.md/06 产品手册/机械类/SP122001新松SP120系列工业机器人安装及维护手册（A-0)\n",
      "2025-06-06 09:18:06,509 [INFO] marker: Total time: 7.856881618499756\n"
     ]
    },
    {
     "name": "stdout",
     "output_type": "stream",
     "text": [
      "Converted: /v/data/新型机器人智能问答系统数据源-gemini/06 产品手册/机械类/SP122001新松SP120系列工业机器人安装及维护手册（A-0).pdf -> /v/data/新型机器人智能问答系统数据源-gemini/.md/06 产品手册/机械类/SP122001新松SP120系列工业机器人安装及维护手册（A-0).md\n"
     ]
    },
    {
     "name": "stderr",
     "output_type": "stream",
     "text": [
      "Recognizing layout: 100%|██████████| 7/7 [00:01<00:00,  4.20it/s]\n",
      "Running OCR Error Detection: 100%|██████████| 6/6 [00:00<00:00, 94.19it/s]\n",
      "Detecting bboxes: 0it [00:00, ?it/s]\n",
      "Detecting bboxes: 100%|██████████| 1/1 [00:00<00:00,  5.47it/s]\n",
      "Recognizing Text: 100%|██████████| 266/266 [00:01<00:00, 205.73it/s]\n",
      "Recognizing tables: 100%|██████████| 3/3 [00:00<00:00,  3.16it/s]\n",
      "2025-06-06 09:18:18,712 [INFO] marker: Saved markdown to /v/data/新型机器人智能问答系统数据源-gemini/.md/06 产品手册/机械类/SR122002新松SR25系列工业机器人安装及维护手册（A-5)\n",
      "2025-06-06 09:18:18,712 [INFO] marker: Total time: 8.256828546524048\n"
     ]
    },
    {
     "name": "stdout",
     "output_type": "stream",
     "text": [
      "Converted: /v/data/新型机器人智能问答系统数据源-gemini/06 产品手册/机械类/SR122002新松SR25系列工业机器人安装及维护手册（A-5).pdf -> /v/data/新型机器人智能问答系统数据源-gemini/.md/06 产品手册/机械类/SR122002新松SR25系列工业机器人安装及维护手册（A-5).md\n"
     ]
    },
    {
     "name": "stderr",
     "output_type": "stream",
     "text": [
      "Recognizing layout: 100%|██████████| 6/6 [00:01<00:00,  3.58it/s]\n",
      "Running OCR Error Detection: 100%|██████████| 6/6 [00:00<00:00, 90.56it/s]\n",
      "Detecting bboxes: 0it [00:00, ?it/s]\n",
      "Detecting bboxes: 100%|██████████| 1/1 [00:00<00:00,  4.64it/s]\n",
      "Recognizing Text: 100%|██████████| 326/326 [00:02<00:00, 125.15it/s]\n",
      "Recognizing tables: 100%|██████████| 4/4 [00:01<00:00,  3.46it/s]\n",
      "2025-06-06 09:18:36,889 [INFO] marker: Saved markdown to /v/data/新型机器人智能问答系统数据源-gemini/.md/06 产品手册/机械类/SR122003Installation and Maintenance Manual of Siasun SR210 Series Industrial Robot-A.0_20250304110016\n",
      "2025-06-06 09:18:36,889 [INFO] marker: Total time: 14.26042103767395\n"
     ]
    },
    {
     "name": "stdout",
     "output_type": "stream",
     "text": [
      "Converted: /v/data/新型机器人智能问答系统数据源-gemini/06 产品手册/机械类/SR122003Installation and Maintenance Manual of Siasun SR210 Series Industrial Robot-A.0_20250304110016.pdf -> /v/data/新型机器人智能问答系统数据源-gemini/.md/06 产品手册/机械类/SR122003Installation and Maintenance Manual of Siasun SR210 Series Industrial Robot-A.0_20250304110016.md\n"
     ]
    },
    {
     "name": "stderr",
     "output_type": "stream",
     "text": [
      "Recognizing layout: 100%|██████████| 6/6 [00:01<00:00,  3.96it/s]\n",
      "Running OCR Error Detection: 100%|██████████| 5/5 [00:00<00:00, 90.64it/s]\n",
      "Detecting bboxes: 0it [00:00, ?it/s]\n",
      "Detecting bboxes: 100%|██████████| 1/1 [00:00<00:00,  5.67it/s]\n",
      "Recognizing Text: 100%|██████████| 268/268 [00:01<00:00, 209.78it/s]\n",
      "Recognizing tables: 100%|██████████| 3/3 [00:00<00:00,  3.03it/s]\n",
      "2025-06-06 09:18:48,759 [INFO] marker: Saved markdown to /v/data/新型机器人智能问答系统数据源-gemini/.md/06 产品手册/机械类/SR122001新松SR12系列工业机器人安装及维护手册（A-4)\n",
      "2025-06-06 09:18:48,759 [INFO] marker: Total time: 7.899271249771118\n"
     ]
    },
    {
     "name": "stdout",
     "output_type": "stream",
     "text": [
      "Converted: /v/data/新型机器人智能问答系统数据源-gemini/06 产品手册/机械类/SR122001新松SR12系列工业机器人安装及维护手册（A-4).pdf -> /v/data/新型机器人智能问答系统数据源-gemini/.md/06 产品手册/机械类/SR122001新松SR12系列工业机器人安装及维护手册（A-4).md\n"
     ]
    },
    {
     "name": "stderr",
     "output_type": "stream",
     "text": [
      "Recognizing layout: 100%|██████████| 7/7 [00:01<00:00,  4.01it/s]\n",
      "Running OCR Error Detection: 100%|██████████| 6/6 [00:00<00:00, 92.75it/s]\n",
      "Detecting bboxes: 0it [00:00, ?it/s]\n",
      "Detecting bboxes: 100%|██████████| 1/1 [00:00<00:00,  4.62it/s]\n",
      "Recognizing Text: 100%|██████████| 371/371 [00:01<00:00, 199.70it/s]\n",
      "Recognizing tables: 100%|██████████| 4/4 [00:01<00:00,  3.48it/s]\n",
      "2025-06-06 09:19:06,442 [INFO] marker: Saved markdown to /v/data/新型机器人智能问答系统数据源-gemini/.md/06 产品手册/机械类/SR122002Installation and Maintenance Manual of Siasun SR25 Series Industrial Robot-A.0_20250304105939\n",
      "2025-06-06 09:19:06,442 [INFO] marker: Total time: 13.758600950241089\n"
     ]
    },
    {
     "name": "stdout",
     "output_type": "stream",
     "text": [
      "Converted: /v/data/新型机器人智能问答系统数据源-gemini/06 产品手册/机械类/SR122002Installation and Maintenance Manual of Siasun SR25 Series Industrial Robot-A.0_20250304105939.pdf -> /v/data/新型机器人智能问答系统数据源-gemini/.md/06 产品手册/机械类/SR122002Installation and Maintenance Manual of Siasun SR25 Series Industrial Robot-A.0_20250304105939.md\n"
     ]
    },
    {
     "name": "stderr",
     "output_type": "stream",
     "text": [
      "Recognizing layout: 100%|██████████| 7/7 [00:01<00:00,  3.83it/s]\n",
      "Running OCR Error Detection: 100%|██████████| 6/6 [00:00<00:00, 83.63it/s]\n",
      "Detecting bboxes: 0it [00:00, ?it/s]\n",
      "Detecting bboxes: 100%|██████████| 1/1 [00:00<00:00,  4.42it/s]\n",
      "Recognizing Text: 100%|██████████| 277/277 [00:01<00:00, 203.80it/s]\n",
      "Recognizing tables: 100%|██████████| 3/3 [00:01<00:00,  2.27it/s]\n",
      "2025-06-06 09:19:19,458 [INFO] marker: Saved markdown to /v/data/新型机器人智能问答系统数据源-gemini/.md/06 产品手册/机械类/SR122003新松SR210系列工业机器人安装及维护手册（A-4)\n",
      "2025-06-06 09:19:19,458 [INFO] marker: Total time: 9.010780334472656\n"
     ]
    },
    {
     "name": "stdout",
     "output_type": "stream",
     "text": [
      "Converted: /v/data/新型机器人智能问答系统数据源-gemini/06 产品手册/机械类/SR122003新松SR210系列工业机器人安装及维护手册（A-4).pdf -> /v/data/新型机器人智能问答系统数据源-gemini/.md/06 产品手册/机械类/SR122003新松SR210系列工业机器人安装及维护手册（A-4).md\n"
     ]
    },
    {
     "name": "stderr",
     "output_type": "stream",
     "text": [
      "Recognizing layout: 100%|██████████| 6/6 [00:01<00:00,  4.04it/s]\n",
      "Running OCR Error Detection: 100%|██████████| 5/5 [00:00<00:00, 89.53it/s]\n",
      "Detecting bboxes: 0it [00:00, ?it/s]\n",
      "Detecting bboxes: 100%|██████████| 1/1 [00:00<00:00,  5.31it/s]\n",
      "Recognizing Text: 100%|██████████| 265/265 [00:01<00:00, 204.87it/s]\n",
      "Recognizing tables: 100%|██████████| 3/3 [00:00<00:00,  3.20it/s]\n",
      "2025-06-06 09:19:31,134 [INFO] marker: Saved markdown to /v/data/新型机器人智能问答系统数据源-gemini/.md/06 产品手册/机械类/SR122005新松SR270系列工业机器人安装及维护手册（A-2)\n",
      "2025-06-06 09:19:31,135 [INFO] marker: Total time: 7.759279251098633\n"
     ]
    },
    {
     "name": "stdout",
     "output_type": "stream",
     "text": [
      "Converted: /v/data/新型机器人智能问答系统数据源-gemini/06 产品手册/机械类/SR122005新松SR270系列工业机器人安装及维护手册（A-2).pdf -> /v/data/新型机器人智能问答系统数据源-gemini/.md/06 产品手册/机械类/SR122005新松SR270系列工业机器人安装及维护手册（A-2).md\n"
     ]
    },
    {
     "name": "stderr",
     "output_type": "stream",
     "text": [
      "Recognizing layout: 100%|██████████| 6/6 [00:01<00:00,  3.83it/s]\n",
      "Running OCR Error Detection: 100%|██████████| 5/5 [00:00<00:00, 85.99it/s]\n",
      "Detecting bboxes: 0it [00:00, ?it/s]\n",
      "Detecting bboxes: 100%|██████████| 1/1 [00:00<00:00,  3.97it/s]\n",
      "Recognizing Text: 100%|██████████| 365/365 [00:01<00:00, 200.31it/s]\n",
      "Recognizing tables: 100%|██████████| 3/3 [00:00<00:00,  3.24it/s]\n",
      "2025-06-06 09:19:47,502 [INFO] marker: Saved markdown to /v/data/新型机器人智能问答系统数据源-gemini/.md/06 产品手册/机械类/SR122001Installation and Maintenance Manual of Siasun SR12 Series Industrial Robot-A.0_20250304110301\n",
      "2025-06-06 09:19:47,502 [INFO] marker: Total time: 12.298458337783813\n"
     ]
    },
    {
     "name": "stdout",
     "output_type": "stream",
     "text": [
      "Converted: /v/data/新型机器人智能问答系统数据源-gemini/06 产品手册/机械类/SR122001Installation and Maintenance Manual of Siasun SR12 Series Industrial Robot-A.0_20250304110301.pdf -> /v/data/新型机器人智能问答系统数据源-gemini/.md/06 产品手册/机械类/SR122001Installation and Maintenance Manual of Siasun SR12 Series Industrial Robot-A.0_20250304110301.md\n"
     ]
    },
    {
     "name": "stderr",
     "output_type": "stream",
     "text": [
      "Recognizing layout: 100%|██████████| 4/4 [00:01<00:00,  3.40it/s]\n",
      "Running OCR Error Detection: 100%|██████████| 4/4 [00:00<00:00, 101.06it/s]\n",
      "Detecting bboxes: 0it [00:00, ?it/s]\n",
      "Recognizing Text: 100%|██████████| 1/1 [00:02<00:00,  2.79s/it]\n",
      "Detecting bboxes: 100%|██████████| 3/3 [00:01<00:00,  2.81it/s]\n",
      "Recognizing Text: 100%|██████████| 1284/1284 [00:06<00:00, 213.47it/s]\n",
      "Recognizing tables: 100%|██████████| 3/3 [00:00<00:00,  3.39it/s]\n",
      "2025-06-06 09:20:06,715 [INFO] marker: Saved markdown to /v/data/新型机器人智能问答系统数据源-gemini/.md/06 产品手册/电气类/SX222002《新松机器人外部轴使用手册》-V1.4\n",
      "2025-06-06 09:20:06,715 [INFO] marker: Total time: 15.230729341506958\n"
     ]
    },
    {
     "name": "stdout",
     "output_type": "stream",
     "text": [
      "Converted: /v/data/新型机器人智能问答系统数据源-gemini/06 产品手册/电气类/SX222002《新松机器人外部轴使用手册》-V1.4.pdf -> /v/data/新型机器人智能问答系统数据源-gemini/.md/06 产品手册/电气类/SX222002《新松机器人外部轴使用手册》-V1.4.md\n"
     ]
    },
    {
     "name": "stderr",
     "output_type": "stream",
     "text": [
      "Recognizing layout: 100%|██████████| 21/21 [00:04<00:00,  4.36it/s]\n",
      "Running OCR Error Detection: 100%|██████████| 18/18 [00:00<00:00, 86.08it/s]\n",
      "Detecting bboxes: 0it [00:00, ?it/s]\n",
      "Detecting bboxes: 100%|██████████| 5/5 [00:02<00:00,  2.38it/s]\n",
      "Recognizing Text: 100%|██████████| 3067/3067 [00:17<00:00, 175.80it/s]\n",
      "Recognizing tables: 100%|██████████| 16/16 [00:05<00:00,  2.82it/s]\n",
      "2025-06-06 09:21:17,139 [INFO] marker: Overflow in columns: 4 >= 4 or rows: 8 >= 17\n",
      "2025-06-06 09:21:17,813 [INFO] marker: Saved markdown to /v/data/新型机器人智能问答系统数据源-gemini/.md/06 产品手册/电气类/SX222001Siasun Robot Electrical Operation and Maintenance Manual-V1.3\n",
      "2025-06-06 09:21:17,813 [INFO] marker: Total time: 67.11356735229492\n"
     ]
    },
    {
     "name": "stdout",
     "output_type": "stream",
     "text": [
      "Converted: /v/data/新型机器人智能问答系统数据源-gemini/06 产品手册/电气类/SX222001Siasun Robot Electrical Operation and Maintenance Manual-V1.3.pdf -> /v/data/新型机器人智能问答系统数据源-gemini/.md/06 产品手册/电气类/SX222001Siasun Robot Electrical Operation and Maintenance Manual-V1.3.md\n"
     ]
    },
    {
     "name": "stderr",
     "output_type": "stream",
     "text": [
      "Recognizing layout: 100%|██████████| 25/25 [00:05<00:00,  4.42it/s]\n",
      "Running OCR Error Detection: 100%|██████████| 22/22 [00:00<00:00, 87.24it/s]\n",
      "Detecting bboxes: 0it [00:00, ?it/s]\n",
      "Detecting bboxes: 100%|██████████| 7/7 [00:02<00:00,  2.43it/s]\n",
      "Recognizing Text: 100%|██████████| 3964/3964 [00:19<00:00, 206.26it/s]\n",
      "Recognizing tables: 100%|██████████| 19/19 [00:06<00:00,  2.90it/s]\n",
      "2025-06-06 09:22:26,799 [INFO] marker: Overflow in columns: 8 >= 8 or rows: 12 >= 14\n",
      "2025-06-06 09:22:27,182 [INFO] marker: Saved markdown to /v/data/新型机器人智能问答系统数据源-gemini/.md/06 产品手册/电气类/SX222001《新松机器人电气使用及维护手册》-B-0\n",
      "2025-06-06 09:22:27,182 [INFO] marker: Total time: 65.1550030708313\n"
     ]
    },
    {
     "name": "stdout",
     "output_type": "stream",
     "text": [
      "Converted: /v/data/新型机器人智能问答系统数据源-gemini/06 产品手册/电气类/SX222001《新松机器人电气使用及维护手册》-B-0.pdf -> /v/data/新型机器人智能问答系统数据源-gemini/.md/06 产品手册/电气类/SX222001《新松机器人电气使用及维护手册》-B-0.md\n"
     ]
    },
    {
     "name": "stderr",
     "output_type": "stream",
     "text": [
      "Recognizing layout: 100%|██████████| 3/3 [00:00<00:00,  3.97it/s]\n",
      "Running OCR Error Detection: 100%|██████████| 2/2 [00:00<00:00, 83.38it/s]\n",
      "Detecting bboxes: 0it [00:00, ?it/s]\n",
      "Detecting bboxes: 100%|██████████| 1/1 [00:00<00:00,  3.56it/s]\n",
      "Recognizing Text: 100%|██████████| 581/581 [00:02<00:00, 195.37it/s]\n",
      "Recognizing tables: 100%|██████████| 2/2 [00:00<00:00,  2.88it/s]\n",
      "2025-06-06 09:22:37,911 [INFO] marker: Saved markdown to /v/data/新型机器人智能问答系统数据源-gemini/.md/06 产品手册/软件类/技术规格/SX324001《新松机器人免示教焊接系统应用范围说明》-V1.0\n",
      "2025-06-06 09:22:37,911 [INFO] marker: Total time: 6.670910358428955\n"
     ]
    },
    {
     "name": "stdout",
     "output_type": "stream",
     "text": [
      "Converted: /v/data/新型机器人智能问答系统数据源-gemini/06 产品手册/软件类/技术规格/SX324001《新松机器人免示教焊接系统应用范围说明》-V1.0.pdf -> /v/data/新型机器人智能问答系统数据源-gemini/.md/06 产品手册/软件类/技术规格/SX324001《新松机器人免示教焊接系统应用范围说明》-V1.0.md\n"
     ]
    },
    {
     "name": "stderr",
     "output_type": "stream",
     "text": [
      "Recognizing layout: 100%|██████████| 21/21 [00:04<00:00,  4.34it/s]\n",
      "Running OCR Error Detection: 100%|██████████| 18/18 [00:00<00:00, 85.44it/s]\n",
      "Detecting bboxes: 0it [00:00, ?it/s]\n",
      "Recognizing Text: 100%|██████████| 2/2 [00:00<00:00,  4.94it/s]\n",
      "Detecting bboxes: 100%|██████████| 13/13 [00:05<00:00,  2.36it/s]\n",
      "Recognizing Text: 100%|██████████| 7675/7675 [00:35<00:00, 217.08it/s]\n",
      "Recognizing tables: 100%|██████████| 21/21 [00:07<00:00,  2.75it/s]\n",
      "2025-06-06 09:23:55,997 [INFO] marker: Overflow in columns: 8 >= 8 or rows: 1 >= 4\n",
      "2025-06-06 09:23:56,464 [INFO] marker: Saved markdown to /v/data/新型机器人智能问答系统数据源-gemini/.md/06 产品手册/软件类/手册/V3.0版本/SX322003《新松机器人弧焊应用操作手册》-V1.0\n",
      "2025-06-06 09:23:56,464 [INFO] marker: Total time: 74.62436866760254\n"
     ]
    },
    {
     "name": "stdout",
     "output_type": "stream",
     "text": [
      "Converted: /v/data/新型机器人智能问答系统数据源-gemini/06 产品手册/软件类/手册/V3.0版本/SX322003《新松机器人弧焊应用操作手册》-V1.0.pdf -> /v/data/新型机器人智能问答系统数据源-gemini/.md/06 产品手册/软件类/手册/V3.0版本/SX322003《新松机器人弧焊应用操作手册》-V1.0.md\n"
     ]
    },
    {
     "name": "stderr",
     "output_type": "stream",
     "text": [
      "Recognizing layout: 100%|██████████| 36/36 [00:08<00:00,  4.14it/s]\n",
      "Running OCR Error Detection: 100%|██████████| 31/31 [00:00<00:00, 85.48it/s]\n",
      "Detecting bboxes: 0it [00:00, ?it/s]\n",
      "Recognizing Text: 100%|██████████| 2/2 [00:03<00:00,  1.50s/it]\n",
      "Detecting bboxes: 100%|██████████| 17/17 [00:07<00:00,  2.40it/s]\n",
      "Recognizing Text: 100%|██████████| 9990/9990 [00:47<00:00, 211.49it/s]\n",
      "Recognizing tables: 100%|██████████| 31/31 [00:12<00:00,  2.44it/s]\n",
      "2025-06-06 09:26:01,827 [INFO] marker: Overflow in columns: 4 >= 4 or rows: 15 >= 31\n",
      "2025-06-06 09:26:02,388 [INFO] marker: Saved markdown to /v/data/新型机器人智能问答系统数据源-gemini/.md/06 产品手册/软件类/手册/V3.0版本/SX322001《新松机器人通用操作手册》-V1.4\n",
      "2025-06-06 09:26:02,388 [INFO] marker: Total time: 121.79526567459106\n"
     ]
    },
    {
     "name": "stdout",
     "output_type": "stream",
     "text": [
      "Converted: /v/data/新型机器人智能问答系统数据源-gemini/06 产品手册/软件类/手册/V3.0版本/SX322001《新松机器人通用操作手册》-V1.4.pdf -> /v/data/新型机器人智能问答系统数据源-gemini/.md/06 产品手册/软件类/手册/V3.0版本/SX322001《新松机器人通用操作手册》-V1.4.md\n"
     ]
    },
    {
     "name": "stderr",
     "output_type": "stream",
     "text": [
      "Recognizing layout: 100%|██████████| 2/2 [00:00<00:00,  3.56it/s]\n",
      "Running OCR Error Detection: 100%|██████████| 2/2 [00:00<00:00, 110.12it/s]\n",
      "Detecting bboxes: 0it [00:00, ?it/s]\n",
      "Detecting bboxes: 100%|██████████| 1/1 [00:00<00:00,  3.21it/s]\n",
      "Recognizing Text: 100%|██████████| 343/343 [00:01<00:00, 197.43it/s]\n",
      "Recognizing tables: 100%|██████████| 1/1 [00:00<00:00,  2.57it/s]\n",
      "2025-06-06 09:26:10,872 [INFO] marker: Saved markdown to /v/data/新型机器人智能问答系统数据源-gemini/.md/06 产品手册/软件类/手册/V3.0版本/SX322002《新松机器人码垛应用操作手册》-V1.0\n",
      "2025-06-06 09:26:10,872 [INFO] marker: Total time: 4.054375648498535\n"
     ]
    },
    {
     "name": "stdout",
     "output_type": "stream",
     "text": [
      "Converted: /v/data/新型机器人智能问答系统数据源-gemini/06 产品手册/软件类/手册/V3.0版本/SX322002《新松机器人码垛应用操作手册》-V1.0.pdf -> /v/data/新型机器人智能问答系统数据源-gemini/.md/06 产品手册/软件类/手册/V3.0版本/SX322002《新松机器人码垛应用操作手册》-V1.0.md\n"
     ]
    },
    {
     "name": "stderr",
     "output_type": "stream",
     "text": [
      "Recognizing layout: 100%|██████████| 2/2 [00:00<00:00,  2.91it/s]\n",
      "Running OCR Error Detection: 100%|██████████| 2/2 [00:00<00:00, 102.89it/s]\n",
      "Detecting bboxes: 0it [00:00, ?it/s]\n",
      "Detecting bboxes: 100%|██████████| 3/3 [00:00<00:00,  3.19it/s]\n",
      "Recognizing Text: 100%|██████████| 659/659 [00:03<00:00, 189.87it/s]\n",
      "Recognizing tables: 100%|██████████| 3/3 [00:00<00:00,  3.04it/s]\n",
      "2025-06-06 09:26:22,726 [INFO] marker: Saved markdown to /v/data/新型机器人智能问答系统数据源-gemini/.md/06 产品手册/软件类/手册/V3.0版本/SX322005《新松机器人视觉应用操作手册》-V1.0 \n",
      "2025-06-06 09:26:22,726 [INFO] marker: Total time: 7.915921926498413\n"
     ]
    },
    {
     "name": "stdout",
     "output_type": "stream",
     "text": [
      "Converted: /v/data/新型机器人智能问答系统数据源-gemini/06 产品手册/软件类/手册/V3.0版本/SX322005《新松机器人视觉应用操作手册》-V1.0 .pdf -> /v/data/新型机器人智能问答系统数据源-gemini/.md/06 产品手册/软件类/手册/V3.0版本/SX322005《新松机器人视觉应用操作手册》-V1.0 .md\n"
     ]
    },
    {
     "name": "stderr",
     "output_type": "stream",
     "text": [
      "Recognizing layout: 100%|██████████| 18/18 [00:04<00:00,  3.68it/s]\n",
      "Running OCR Error Detection: 100%|██████████| 15/15 [00:00<00:00, 83.73it/s]\n",
      "Detecting bboxes: 0it [00:00, ?it/s]\n",
      "Detecting bboxes: 100%|██████████| 1/1 [00:00<00:00,  4.24it/s]\n",
      "Recognizing Text: 100%|██████████| 227/227 [00:01<00:00, 153.25it/s]\n",
      "Recognizing tables: 100%|██████████| 3/3 [00:01<00:00,  2.28it/s]\n",
      "2025-06-06 09:26:44,916 [INFO] marker: Saved markdown to /v/data/新型机器人智能问答系统数据源-gemini/.md/06 产品手册/软件类/手册/V3.0版本/SX322009《新松机器人离线接口库使用手册》-V1.0\n",
      "2025-06-06 09:26:44,916 [INFO] marker: Total time: 18.13785457611084\n"
     ]
    },
    {
     "name": "stdout",
     "output_type": "stream",
     "text": [
      "Converted: /v/data/新型机器人智能问答系统数据源-gemini/06 产品手册/软件类/手册/V3.0版本/SX322009《新松机器人离线接口库使用手册》-V1.0.pdf -> /v/data/新型机器人智能问答系统数据源-gemini/.md/06 产品手册/软件类/手册/V3.0版本/SX322009《新松机器人离线接口库使用手册》-V1.0.md\n"
     ]
    },
    {
     "name": "stderr",
     "output_type": "stream",
     "text": [
      "Recognizing layout: 100%|██████████| 8/8 [00:01<00:00,  4.04it/s]\n",
      "Running OCR Error Detection: 100%|██████████| 7/7 [00:00<00:00, 90.95it/s]\n",
      "Detecting bboxes: 0it [00:00, ?it/s]\n",
      "Detecting bboxes: 100%|██████████| 14/14 [00:05<00:00,  2.36it/s]\n",
      "Recognizing Text: 100%|██████████| 6453/6453 [00:35<00:00, 181.46it/s]\n",
      "Recognizing tables: 100%|██████████| 10/10 [00:04<00:00,  2.42it/s]\n",
      "2025-06-06 09:27:42,955 [INFO] marker: Saved markdown to /v/data/新型机器人智能问答系统数据源-gemini/.md/06 产品手册/软件类/手册/V3.0版本/SX322008《新松机器人免示教焊接软件操作手册》-V1.0\n",
      "2025-06-06 09:27:42,956 [INFO] marker: Total time: 53.92143535614014\n"
     ]
    },
    {
     "name": "stdout",
     "output_type": "stream",
     "text": [
      "Converted: /v/data/新型机器人智能问答系统数据源-gemini/06 产品手册/软件类/手册/V3.0版本/SX322008《新松机器人免示教焊接软件操作手册》-V1.0.pdf -> /v/data/新型机器人智能问答系统数据源-gemini/.md/06 产品手册/软件类/手册/V3.0版本/SX322008《新松机器人免示教焊接软件操作手册》-V1.0.md\n"
     ]
    },
    {
     "name": "stderr",
     "output_type": "stream",
     "text": [
      "Recognizing layout: 100%|██████████| 2/2 [00:00<00:00,  3.55it/s]\n",
      "Running OCR Error Detection: 100%|██████████| 2/2 [00:00<00:00, 106.70it/s]\n",
      "Detecting bboxes: 0it [00:00, ?it/s]\n",
      "Detecting bboxes: 100%|██████████| 1/1 [00:00<00:00,  2.39it/s]\n",
      "Recognizing Text: 100%|██████████| 522/522 [00:02<00:00, 206.38it/s]\n",
      "Recognizing tables: 100%|██████████| 3/3 [00:00<00:00,  3.12it/s]\n",
      "2025-06-06 09:27:52,984 [INFO] marker: Saved markdown to /v/data/新型机器人智能问答系统数据源-gemini/.md/06 产品手册/软件类/手册/V4.0版本/SX322017《新松机器人跟随应用操作手册》-（A-0）\n",
      "2025-06-06 09:27:52,984 [INFO] marker: Total time: 5.773698091506958\n"
     ]
    },
    {
     "name": "stdout",
     "output_type": "stream",
     "text": [
      "Converted: /v/data/新型机器人智能问答系统数据源-gemini/06 产品手册/软件类/手册/V4.0版本/SX322017《新松机器人跟随应用操作手册》-（A-0）.pdf -> /v/data/新型机器人智能问答系统数据源-gemini/.md/06 产品手册/软件类/手册/V4.0版本/SX322017《新松机器人跟随应用操作手册》-（A-0）.md\n"
     ]
    },
    {
     "name": "stderr",
     "output_type": "stream",
     "text": [
      "Recognizing layout: 100%|██████████| 2/2 [00:00<00:00,  2.65it/s]\n",
      "Running OCR Error Detection: 100%|██████████| 2/2 [00:00<00:00, 105.09it/s]\n",
      "Detecting bboxes: 0it [00:00, ?it/s]\n",
      "Detecting bboxes: 100%|██████████| 2/2 [00:00<00:00,  3.31it/s]\n",
      "Recognizing Text: 100%|██████████| 804/804 [00:03<00:00, 211.15it/s]\n",
      "Recognizing tables: 100%|██████████| 2/2 [00:00<00:00,  3.57it/s]\n",
      "2025-06-06 09:28:03,799 [INFO] marker: Saved markdown to /v/data/新型机器人智能问答系统数据源-gemini/.md/06 产品手册/软件类/手册/V4.0版本/SX322015《新松机器人快换应用操作手册》-A-0\n",
      "2025-06-06 09:28:03,799 [INFO] marker: Total time: 6.88898777961731\n"
     ]
    },
    {
     "name": "stdout",
     "output_type": "stream",
     "text": [
      "Converted: /v/data/新型机器人智能问答系统数据源-gemini/06 产品手册/软件类/手册/V4.0版本/SX322015《新松机器人快换应用操作手册》-A-0.pdf -> /v/data/新型机器人智能问答系统数据源-gemini/.md/06 产品手册/软件类/手册/V4.0版本/SX322015《新松机器人快换应用操作手册》-A-0.md\n"
     ]
    },
    {
     "name": "stderr",
     "output_type": "stream",
     "text": [
      "Recognizing layout: 100%|██████████| 2/2 [00:00<00:00,  2.93it/s]\n",
      "Running OCR Error Detection: 100%|██████████| 2/2 [00:00<00:00, 89.44it/s]\n",
      "Detecting bboxes: 0it [00:00, ?it/s]\n",
      "Detecting bboxes: 100%|██████████| 2/2 [00:00<00:00,  2.56it/s]\n",
      "Recognizing Text: 100%|██████████| 1117/1117 [00:05<00:00, 211.49it/s]\n",
      "Recognizing tables: 100%|██████████| 3/3 [00:00<00:00,  3.14it/s]\n",
      "2025-06-06 09:28:17,764 [INFO] marker: Saved markdown to /v/data/新型机器人智能问答系统数据源-gemini/.md/06 产品手册/软件类/手册/V4.0版本/SX322011《新松机器人搬运应用操作手册》-A-0\n",
      "2025-06-06 09:28:17,764 [INFO] marker: Total time: 10.050555229187012\n"
     ]
    },
    {
     "name": "stdout",
     "output_type": "stream",
     "text": [
      "Converted: /v/data/新型机器人智能问答系统数据源-gemini/06 产品手册/软件类/手册/V4.0版本/SX322011《新松机器人搬运应用操作手册》-A-0.pdf -> /v/data/新型机器人智能问答系统数据源-gemini/.md/06 产品手册/软件类/手册/V4.0版本/SX322011《新松机器人搬运应用操作手册》-A-0.md\n"
     ]
    },
    {
     "name": "stderr",
     "output_type": "stream",
     "text": [
      "Recognizing layout: 100%|██████████| 58/58 [00:11<00:00,  4.86it/s]\n",
      "Running OCR Error Detection: 100%|██████████| 50/50 [00:00<00:00, 85.86it/s]\n",
      "Detecting bboxes: 0it [00:00, ?it/s]\n",
      "Recognizing Text: 100%|██████████| 4/4 [00:00<00:00, 13.78it/s]\n",
      "Detecting bboxes: 100%|██████████| 21/21 [00:08<00:00,  2.34it/s]\n",
      "Recognizing Text: 100%|██████████| 14184/14184 [01:05<00:00, 216.00it/s]\n",
      "Recognizing tables: 100%|██████████| 50/50 [00:25<00:00,  1.99it/s]\n",
      "2025-06-06 09:31:27,772 [INFO] marker: Overflow in columns: 7 >= 7 or rows: 3 >= 6\n",
      "2025-06-06 09:31:27,837 [INFO] marker: Overflow in columns: 5 >= 5 or rows: 2 >= 5\n",
      "2025-06-06 09:31:29,326 [INFO] marker: Saved markdown to /v/data/新型机器人智能问答系统数据源-gemini/.md/06 产品手册/软件类/手册/V4.0版本/SX322001《新松机器人通用操作手册》（B-2)\n",
      "2025-06-06 09:31:29,326 [INFO] marker: Total time: 187.62313675880432\n"
     ]
    },
    {
     "name": "stdout",
     "output_type": "stream",
     "text": [
      "Converted: /v/data/新型机器人智能问答系统数据源-gemini/06 产品手册/软件类/手册/V4.0版本/SX322001《新松机器人通用操作手册》（B-2).pdf -> /v/data/新型机器人智能问答系统数据源-gemini/.md/06 产品手册/软件类/手册/V4.0版本/SX322001《新松机器人通用操作手册》（B-2).md\n"
     ]
    },
    {
     "name": "stderr",
     "output_type": "stream",
     "text": [
      "Recognizing layout: 100%|██████████| 3/3 [00:00<00:00,  4.01it/s]\n",
      "Running OCR Error Detection: 100%|██████████| 2/2 [00:00<00:00, 80.24it/s]\n",
      "Detecting bboxes: 0it [00:00, ?it/s]\n",
      "Detecting bboxes: 100%|██████████| 1/1 [00:00<00:00,  2.59it/s]\n",
      "Recognizing Text: 100%|██████████| 429/429 [00:02<00:00, 189.37it/s]\n",
      "Recognizing tables: 100%|██████████| 2/2 [00:00<00:00,  2.53it/s]\n",
      "2025-06-06 09:31:40,261 [INFO] marker: Saved markdown to /v/data/新型机器人智能问答系统数据源-gemini/.md/06 产品手册/软件类/手册/V4.0版本/SX322005《新松机器人视觉应用操作手册》（A-1)\n",
      "2025-06-06 09:31:40,261 [INFO] marker: Total time: 6.218432903289795\n"
     ]
    },
    {
     "name": "stdout",
     "output_type": "stream",
     "text": [
      "Converted: /v/data/新型机器人智能问答系统数据源-gemini/06 产品手册/软件类/手册/V4.0版本/SX322005《新松机器人视觉应用操作手册》（A-1).pdf -> /v/data/新型机器人智能问答系统数据源-gemini/.md/06 产品手册/软件类/手册/V4.0版本/SX322005《新松机器人视觉应用操作手册》（A-1).md\n"
     ]
    },
    {
     "name": "stderr",
     "output_type": "stream",
     "text": [
      "Recognizing layout: 100%|██████████| 5/5 [00:01<00:00,  3.42it/s]\n",
      "Running OCR Error Detection: 100%|██████████| 5/5 [00:00<00:00, 96.52it/s]\n",
      "Detecting bboxes: 0it [00:00, ?it/s]\n",
      "Detecting bboxes: 100%|██████████| 3/3 [00:01<00:00,  2.75it/s]\n",
      "Recognizing Text: 100%|██████████| 1743/1743 [00:08<00:00, 206.20it/s]\n",
      "Recognizing tables: 100%|██████████| 4/4 [00:01<00:00,  2.82it/s]\n",
      "2025-06-06 09:32:00,881 [INFO] marker: Saved markdown to /v/data/新型机器人智能问答系统数据源-gemini/.md/06 产品手册/软件类/手册/V4.0版本/SX322006《新松机器人打磨应用操作手册》（A-1)\n",
      "2025-06-06 09:32:00,881 [INFO] marker: Total time: 16.672733545303345\n"
     ]
    },
    {
     "name": "stdout",
     "output_type": "stream",
     "text": [
      "Converted: /v/data/新型机器人智能问答系统数据源-gemini/06 产品手册/软件类/手册/V4.0版本/SX322006《新松机器人打磨应用操作手册》（A-1).pdf -> /v/data/新型机器人智能问答系统数据源-gemini/.md/06 产品手册/软件类/手册/V4.0版本/SX322006《新松机器人打磨应用操作手册》（A-1).md\n"
     ]
    },
    {
     "name": "stderr",
     "output_type": "stream",
     "text": [
      "Recognizing layout: 100%|██████████| 2/2 [00:00<00:00,  2.98it/s]\n",
      "Running OCR Error Detection: 100%|██████████| 2/2 [00:00<00:00, 91.77it/s]\n",
      "Detecting bboxes: 0it [00:00, ?it/s]\n",
      "Detecting bboxes: 100%|██████████| 2/2 [00:00<00:00,  2.63it/s]\n",
      "Recognizing Text: 100%|██████████| 1305/1305 [00:06<00:00, 203.80it/s]\n",
      "Recognizing tables: 100%|██████████| 3/3 [00:01<00:00,  2.20it/s]\n",
      "2025-06-06 09:32:16,215 [INFO] marker: Saved markdown to /v/data/新型机器人智能问答系统数据源-gemini/.md/06 产品手册/软件类/手册/V4.0版本/SX322013《新松机器人螺柱焊功能使用手册》-A-0\n",
      "2025-06-06 09:32:16,215 [INFO] marker: Total time: 11.384425640106201\n"
     ]
    },
    {
     "name": "stdout",
     "output_type": "stream",
     "text": [
      "Converted: /v/data/新型机器人智能问答系统数据源-gemini/06 产品手册/软件类/手册/V4.0版本/SX322013《新松机器人螺柱焊功能使用手册》-A-0.pdf -> /v/data/新型机器人智能问答系统数据源-gemini/.md/06 产品手册/软件类/手册/V4.0版本/SX322013《新松机器人螺柱焊功能使用手册》-A-0.md\n"
     ]
    },
    {
     "name": "stderr",
     "output_type": "stream",
     "text": [
      "Recognizing layout: 100%|██████████| 5/5 [00:01<00:00,  3.17it/s]\n",
      "Running OCR Error Detection: 100%|██████████| 5/5 [00:00<00:00, 86.97it/s]\n",
      "Detecting bboxes: 0it [00:00, ?it/s]\n",
      "Detecting bboxes: 100%|██████████| 4/4 [00:01<00:00,  2.19it/s]\n",
      "Recognizing Text: 100%|██████████| 2595/2595 [00:13<00:00, 199.28it/s]\n",
      "Recognizing tables: 100%|██████████| 5/5 [00:01<00:00,  2.83it/s]\n",
      "2025-06-06 09:32:44,138 [INFO] marker: Saved markdown to /v/data/新型机器人智能问答系统数据源-gemini/.md/06 产品手册/软件类/手册/V4.0版本/SX322007《新松机器人点焊应用操作手册》-A-0\n",
      "2025-06-06 09:32:44,139 [INFO] marker: Total time: 23.000369787216187\n"
     ]
    },
    {
     "name": "stdout",
     "output_type": "stream",
     "text": [
      "Converted: /v/data/新型机器人智能问答系统数据源-gemini/06 产品手册/软件类/手册/V4.0版本/SX322007《新松机器人点焊应用操作手册》-A-0.pdf -> /v/data/新型机器人智能问答系统数据源-gemini/.md/06 产品手册/软件类/手册/V4.0版本/SX322007《新松机器人点焊应用操作手册》-A-0.md\n"
     ]
    },
    {
     "name": "stderr",
     "output_type": "stream",
     "text": [
      "Recognizing layout: 100%|██████████| 30/30 [00:07<00:00,  3.92it/s]\n",
      "Running OCR Error Detection: 100%|██████████| 26/26 [00:00<00:00, 83.66it/s]\n",
      "Detecting bboxes: 0it [00:00, ?it/s]\n",
      "Recognizing Text: 100%|██████████| 2/2 [00:00<00:00,  7.22it/s]\n",
      "Detecting bboxes: 100%|██████████| 15/15 [00:06<00:00,  2.19it/s]\n",
      "Recognizing Text: 100%|██████████| 9283/9283 [00:48<00:00, 190.19it/s]\n",
      "Recognizing tables: 100%|██████████| 26/26 [00:11<00:00,  2.18it/s]\n",
      "2025-06-06 09:35:17,544 [INFO] marker: Overflow in columns: 9 >= 9 or rows: 1 >= 6\n",
      "2025-06-06 09:35:17,590 [INFO] marker: Overflow in columns: 7 >= 7 or rows: 5 >= 6\n",
      "2025-06-06 09:35:17,951 [INFO] marker: Overflow in columns: 4 >= 4 or rows: 24 >= 34\n",
      "2025-06-06 09:35:19,010 [INFO] marker: Saved markdown to /v/data/新型机器人智能问答系统数据源-gemini/.md/06 产品手册/软件类/手册/V4.0版本/SX322001_Siasun Robot General Operation Manual_-V1.3\n",
      "2025-06-06 09:35:19,010 [INFO] marker: Total time: 150.83740878105164\n"
     ]
    },
    {
     "name": "stdout",
     "output_type": "stream",
     "text": [
      "Converted: /v/data/新型机器人智能问答系统数据源-gemini/06 产品手册/软件类/手册/V4.0版本/SX322001_Siasun Robot General Operation Manual_-V1.3.pdf -> /v/data/新型机器人智能问答系统数据源-gemini/.md/06 产品手册/软件类/手册/V4.0版本/SX322001_Siasun Robot General Operation Manual_-V1.3.md\n"
     ]
    },
    {
     "name": "stderr",
     "output_type": "stream",
     "text": [
      "Recognizing layout: 100%|██████████| 1/1 [00:00<00:00,  2.07it/s]\n",
      "Running OCR Error Detection: 100%|██████████| 1/1 [00:00<00:00, 70.82it/s]\n",
      "Detecting bboxes: 0it [00:00, ?it/s]\n",
      "Detecting bboxes: 100%|██████████| 1/1 [00:00<00:00,  3.04it/s]\n",
      "Recognizing Text: 100%|██████████| 703/703 [00:03<00:00, 213.28it/s]\n",
      "Recognizing tables: 100%|██████████| 1/1 [00:00<00:00,  2.91it/s]\n",
      "2025-06-06 09:35:29,398 [INFO] marker: Saved markdown to /v/data/新型机器人智能问答系统数据源-gemini/.md/06 产品手册/软件类/手册/V4.0版本/SX322004《新松机器人激光焊应用操作手册》-V1.2\n",
      "2025-06-06 09:35:29,398 [INFO] marker: Total time: 5.73783278465271\n"
     ]
    },
    {
     "name": "stdout",
     "output_type": "stream",
     "text": [
      "Converted: /v/data/新型机器人智能问答系统数据源-gemini/06 产品手册/软件类/手册/V4.0版本/SX322004《新松机器人激光焊应用操作手册》-V1.2.pdf -> /v/data/新型机器人智能问答系统数据源-gemini/.md/06 产品手册/软件类/手册/V4.0版本/SX322004《新松机器人激光焊应用操作手册》-V1.2.md\n"
     ]
    },
    {
     "name": "stderr",
     "output_type": "stream",
     "text": [
      "Recognizing layout: 100%|██████████| 26/26 [00:07<00:00,  3.41it/s]\n",
      "Running OCR Error Detection: 100%|██████████| 23/23 [00:00<00:00, 85.89it/s]\n",
      "Detecting bboxes: 0it [00:00, ?it/s]\n",
      "Detecting bboxes: 100%|██████████| 2/2 [00:00<00:00,  3.28it/s]\n",
      "Recognizing Text: 100%|██████████| 502/502 [00:03<00:00, 142.45it/s]\n",
      "Recognizing tables: 100%|██████████| 4/4 [00:01<00:00,  2.78it/s]\n",
      "2025-06-06 09:36:08,962 [INFO] marker: Saved markdown to /v/data/新型机器人智能问答系统数据源-gemini/.md/06 产品手册/软件类/手册/V4.0版本/SX322009《新松机器人离线接口库使用手册》(B-4)\n",
      "2025-06-06 09:36:08,962 [INFO] marker: Total time: 35.6339693069458\n"
     ]
    },
    {
     "name": "stdout",
     "output_type": "stream",
     "text": [
      "Converted: /v/data/新型机器人智能问答系统数据源-gemini/06 产品手册/软件类/手册/V4.0版本/SX322009《新松机器人离线接口库使用手册》(B-4).pdf -> /v/data/新型机器人智能问答系统数据源-gemini/.md/06 产品手册/软件类/手册/V4.0版本/SX322009《新松机器人离线接口库使用手册》(B-4).md\n"
     ]
    },
    {
     "name": "stderr",
     "output_type": "stream",
     "text": [
      "Recognizing layout: 100%|██████████| 2/2 [00:00<00:00,  2.93it/s]\n",
      "Running OCR Error Detection: 100%|██████████| 2/2 [00:00<00:00, 96.25it/s]\n",
      "Detecting bboxes: 0it [00:00, ?it/s]\n",
      "Detecting bboxes: 100%|██████████| 3/3 [00:00<00:00,  3.09it/s]\n",
      "Recognizing Text: 100%|██████████| 1482/1482 [00:06<00:00, 215.88it/s]\n",
      "Recognizing tables: 100%|██████████| 3/3 [00:01<00:00,  2.68it/s]\n",
      "2025-06-06 09:36:25,007 [INFO] marker: Saved markdown to /v/data/新型机器人智能问答系统数据源-gemini/.md/06 产品手册/软件类/手册/V4.0版本/SX322016《新松机器人FDS应用使用手册》-A-0\n",
      "2025-06-06 09:36:25,007 [INFO] marker: Total time: 11.872314453125\n"
     ]
    },
    {
     "name": "stdout",
     "output_type": "stream",
     "text": [
      "Converted: /v/data/新型机器人智能问答系统数据源-gemini/06 产品手册/软件类/手册/V4.0版本/SX322016《新松机器人FDS应用使用手册》-A-0.pdf -> /v/data/新型机器人智能问答系统数据源-gemini/.md/06 产品手册/软件类/手册/V4.0版本/SX322016《新松机器人FDS应用使用手册》-A-0.md\n"
     ]
    },
    {
     "name": "stderr",
     "output_type": "stream",
     "text": [
      "Recognizing layout: 100%|██████████| 3/3 [00:00<00:00,  3.70it/s]\n",
      "Running OCR Error Detection: 100%|██████████| 3/3 [00:00<00:00, 104.48it/s]\n",
      "Detecting bboxes: 0it [00:00, ?it/s]\n",
      "Detecting bboxes: 100%|██████████| 3/3 [00:01<00:00,  2.47it/s]\n",
      "Recognizing Text: 100%|██████████| 1472/1472 [00:07<00:00, 209.00it/s]\n",
      "Recognizing tables: 100%|██████████| 4/4 [00:01<00:00,  2.49it/s]\n",
      "2025-06-06 09:36:42,351 [INFO] marker: Saved markdown to /v/data/新型机器人智能问答系统数据源-gemini/.md/06 产品手册/软件类/手册/V4.0版本/SX322012《新松机器人涂胶功能使用手册》-A-0\n",
      "2025-06-06 09:36:42,351 [INFO] marker: Total time: 13.228719711303711\n"
     ]
    },
    {
     "name": "stdout",
     "output_type": "stream",
     "text": [
      "Converted: /v/data/新型机器人智能问答系统数据源-gemini/06 产品手册/软件类/手册/V4.0版本/SX322012《新松机器人涂胶功能使用手册》-A-0.pdf -> /v/data/新型机器人智能问答系统数据源-gemini/.md/06 产品手册/软件类/手册/V4.0版本/SX322012《新松机器人涂胶功能使用手册》-A-0.md\n"
     ]
    },
    {
     "name": "stderr",
     "output_type": "stream",
     "text": [
      "Recognizing layout: 100%|██████████| 4/4 [00:00<00:00,  4.07it/s]\n",
      "Running OCR Error Detection: 100%|██████████| 3/3 [00:00<00:00, 80.96it/s]\n",
      "Detecting bboxes: 0it [00:00, ?it/s]\n",
      "Detecting bboxes: 100%|██████████| 3/3 [00:01<00:00,  2.79it/s]\n",
      "Recognizing Text: 100%|██████████| 1442/1442 [00:06<00:00, 209.35it/s]\n",
      "Recognizing tables: 100%|██████████| 6/6 [00:02<00:00,  2.90it/s]\n",
      "2025-06-06 09:37:01,110 [INFO] marker: Saved markdown to /v/data/新型机器人智能问答系统数据源-gemini/.md/06 产品手册/软件类/手册/V4.0版本/SX322014《新松机器人SPR铆接功能使用手册》-A-0\n",
      "2025-06-06 09:37:01,111 [INFO] marker: Total time: 14.769247770309448\n"
     ]
    },
    {
     "name": "stdout",
     "output_type": "stream",
     "text": [
      "Converted: /v/data/新型机器人智能问答系统数据源-gemini/06 产品手册/软件类/手册/V4.0版本/SX322014《新松机器人SPR铆接功能使用手册》-A-0.pdf -> /v/data/新型机器人智能问答系统数据源-gemini/.md/06 产品手册/软件类/手册/V4.0版本/SX322014《新松机器人SPR铆接功能使用手册》-A-0.md\n"
     ]
    },
    {
     "name": "stderr",
     "output_type": "stream",
     "text": [
      "Recognizing layout: 100%|██████████| 29/29 [00:07<00:00,  4.03it/s]\n",
      "Running OCR Error Detection: 100%|██████████| 25/25 [00:00<00:00, 86.43it/s]\n",
      "Detecting bboxes: 0it [00:00, ?it/s]\n",
      "Detecting bboxes: 100%|██████████| 17/17 [00:07<00:00,  2.41it/s]\n",
      "Recognizing Text: 100%|██████████| 10506/10506 [00:49<00:00, 214.39it/s]\n",
      "Recognizing tables: 100%|██████████| 30/30 [00:12<00:00,  2.40it/s]\n",
      "2025-06-06 09:38:55,903 [INFO] marker: Saved markdown to /v/data/新型机器人智能问答系统数据源-gemini/.md/06 产品手册/软件类/手册/V4.0版本/SX322003《新松机器人弧焊应用操作手册》(B-2)\n",
      "2025-06-06 09:38:55,903 [INFO] marker: Total time: 109.83131623268127\n"
     ]
    },
    {
     "name": "stdout",
     "output_type": "stream",
     "text": [
      "Converted: /v/data/新型机器人智能问答系统数据源-gemini/06 产品手册/软件类/手册/V4.0版本/SX322003《新松机器人弧焊应用操作手册》(B-2).pdf -> /v/data/新型机器人智能问答系统数据源-gemini/.md/06 产品手册/软件类/手册/V4.0版本/SX322003《新松机器人弧焊应用操作手册》(B-2).md\n"
     ]
    }
   ],
   "source": [
    "convert_pdf_to_markdown_with_marker('/v/data/新型机器人智能问答系统数据源-gemini')\n",
    "# convert_pdf_to_markdown_with_marker('../res/conversion_test')"
   ]
  },
  {
   "cell_type": "code",
   "execution_count": null,
   "id": "e4c0f2a5",
   "metadata": {},
   "outputs": [],
   "source": [
    "# | hide\n",
    "import nbdev\n",
    "\n",
    "nbdev.nbdev_export()"
   ]
  },
  {
   "cell_type": "markdown",
   "id": "0182403f-d1d6-48c0-8e66-46aefb23a9ab",
   "metadata": {},
   "source": [
    "<div>\n",
    "<link rel=\"stylesheet\" href=\"https://gradio.s3-us-west-2.amazonaws.com/2.6.5/static/bundle.css\">\n",
    "<div id=\"target\"></div>\n",
    "<script src=\"https://gradio.s3-us-west-2.amazonaws.com/2.6.5/static/bundle.js\"></script>\n",
    "<script>\n",
    "launchGradioFromSpaces(\"abidlabs/question-answering\", \"#target\")\n",
    "</script>\n",
    "</div>"
   ]
  }
 ],
 "metadata": {
  "kernelspec": {
   "display_name": "cell",
   "language": "python",
   "name": "python3"
  },
  "language_info": {
   "codemirror_mode": {
    "name": "ipython",
    "version": 3
   },
   "file_extension": ".py",
   "mimetype": "text/x-python",
   "name": "python",
   "nbconvert_exporter": "python",
   "pygments_lexer": "ipython3",
   "version": "3.12.9"
  }
 },
 "nbformat": 4,
 "nbformat_minor": 5
}
