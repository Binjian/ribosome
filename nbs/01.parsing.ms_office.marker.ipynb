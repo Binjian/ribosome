{
 "cells": [
  {
   "cell_type": "markdown",
   "id": "2919343d",
   "metadata": {
    "vscode": {
     "languageId": "raw"
    }
   },
   "source": [
    "# parsing.ms_office.marker\n",
    "> Microsoft Office document parsing with Marker"
   ]
  },
  {
   "cell_type": "code",
   "execution_count": null,
   "id": "68340256",
   "metadata": {},
   "outputs": [],
   "source": [
    "# |default_exp parsing.ms_office.marker"
   ]
  },
  {
   "cell_type": "code",
   "execution_count": null,
   "id": "75658d74bc5e9e08",
   "metadata": {},
   "outputs": [],
   "source": [
    "# | hide\n",
    "from nbdev.showdoc import *\n",
    "from IPython.core.interactiveshell import InteractiveShell\n",
    "\n",
    "InteractiveShell.ast_node_interactivity = \"all\""
   ]
  },
  {
   "cell_type": "markdown",
   "id": "acf7644f-42b3-4d8d-a1d0-f8c3a2358e27",
   "metadata": {},
   "source": [
    "## Install dependencies"
   ]
  },
  {
   "cell_type": "code",
   "execution_count": null,
   "id": "00cf4fad-a920-41dc-be42-3992c7fcefac",
   "metadata": {},
   "outputs": [],
   "source": [
    "# | export\n",
    "import sys\n",
    "import os\n",
    "import time\n",
    "from hashlib import sha256\n",
    "from pathlib import Path\n",
    "from pprint import pprint, pformat\n",
    "\n",
    "from odfdo import Document\n",
    "from PIL import Image\n",
    "import pandas as pd\n",
    "# import ezodf"
   ]
  },
  {
   "cell_type": "code",
   "execution_count": null,
   "id": "164a3949",
   "metadata": {},
   "outputs": [],
   "source": [
    "#| export\n",
    "from dotenv import load_dotenv\n",
    "load_dotenv()\n",
    "OPENROUTER_API_KEY= os.getenv('OPENROUTER_API_KEY')\n",
    "# print(OPENROUTER_API_KEY)\n",
    "OPENROUTER_API_URL = os.getenv('OPENROUTER_API_URL')\n",
    "# print(OPENROUTER_API_URL)\n",
    "# OPENROUTER_MODEL = os.getenv('OPENROUTER_MODEL')\n",
    "OPENROUTER_MODEL = 'Google:gemini-2.5-pro-exp-03-25'\n",
    "# print(OPENROUTER_MODEL)"
   ]
  },
  {
   "cell_type": "code",
   "execution_count": null,
   "id": "257f411a",
   "metadata": {},
   "outputs": [],
   "source": [
    "#| export\n",
    "def convert_office_to_pdf(root_folder):\n",
    "    \"\"\"\n",
    "    Recursively convert all .pptx, .ppt, .docx, and .doc files under\n",
    "    root_folder (and subfolders) to PDF files in the same folder as the\n",
    "    original. For .xls and .xlsx files, convert to markdown (.md) files\n",
    "    in the same folder. Requires LibreOffice (soffice) installed for Office\n",
    "    document conversion. Requires pandas for Excel to markdown.\n",
    "    \"\"\"\n",
    "    import subprocess\n",
    "    from pathlib import Path\n",
    "    import pandas as pd\n",
    "\n",
    "    office_exts = {'.pptx', '.ppt', '.docx', '.doc'}\n",
    "    excel_exts = {'.xls', '.xlsx'}\n",
    "    root = Path(root_folder)\n",
    "    for file in root.rglob('*'):\n",
    "        if file.suffix.lower() in office_exts:\n",
    "            pdf_path = file.with_suffix('.pdf')\n",
    "            if pdf_path.exists():\n",
    "                continue  # Skip if PDF already exists\n",
    "            try:\n",
    "                # Use soffice for conversion\n",
    "                subprocess.run([\n",
    "                    'soffice', '--headless', '--convert-to', 'pdf',\n",
    "                    '--outdir', str(file.parent), str(file)\n",
    "                ], check=True)\n",
    "                print(f\"Converted: {file} -> {pdf_path}\")\n",
    "            except subprocess.CalledProcessError as e:\n",
    "                print(f\"Failed to convert {file}: {e}\")\n",
    "        elif file.suffix.lower() in excel_exts:\n",
    "            md_path = file.with_suffix('.md')\n",
    "            if md_path.exists():\n",
    "                continue\n",
    "            try:\n",
    "                excel = pd.read_excel(file, sheet_name=None)\n",
    "                with open(md_path, 'w', encoding='utf-8') as f:\n",
    "                    for sheet, df in excel.items():\n",
    "                        f.write(f'# Sheet: {sheet}\\n\\n')\n",
    "                        f.write(df.to_markdown(index=False))\n",
    "                        f.write('\\n\\n')\n",
    "                print(f\"Converted: {file} -> {md_path}\")\n",
    "            except Exception as e:\n",
    "                print(f\"Failed to convert {file} to markdown: {e}\")\n",
    "        else:\n",
    "                print(f\"Failed to convert {file}\")\n"
   ]
  },
  {
   "cell_type": "code",
   "execution_count": null,
   "id": "abf5937e",
   "metadata": {},
   "outputs": [],
   "source": [
    "#| hide\n",
    "# Example usage:\n",
    "convert_office_to_pdf('/v/data/新型机器人智能问答系统数据源')\n",
    "# convert_office_to_pdf('../res/conversion_test')\n"
   ]
  },
  {
   "cell_type": "code",
   "execution_count": null,
   "id": "af2f7f31",
   "metadata": {},
   "outputs": [],
   "source": [
    "#| export\n",
    "def convert_excel_to_markdown(file_path):\n",
    "    \"\"\"\n",
    "    Convert an Excel file to a markdown file.\n",
    "    \"\"\"\n",
    "    try:\n",
    "        excel = pd.read_excel(file_path, sheet_name=None)\n",
    "        md_path = file_path.with_suffix('.md')\n",
    "        with open(md_path, 'w', encoding='utf-8') as f:\n",
    "            for sheet, df in excel.items():\n",
    "                f.write(f'# Sheet: {sheet}\\n\\n')\n",
    "                f.write(df.to_markdown(index=True))\n",
    "                f.write('\\n\\n')\n",
    "        print(f\"Converted: {file_path} -> {md_path}\")\n",
    "    except Exception as e:\n",
    "        print(f\"Failed to convert {file_path} to markdown: {e}\")\n",
    "\n",
    "# convert_excel_to_markdown(Path('../res/conversion_test/test.xlsx'))  # Example usage"
   ]
  },
  {
   "cell_type": "code",
   "execution_count": null,
   "id": "8971115f",
   "metadata": {},
   "outputs": [],
   "source": [
    "# print(f'--gemini_api_key={GEMINI_KEY}')\n",
    "\n",
    "# print(f'--openai_api_key={OPENROUTER_API_KEY}')\n",
    "# print(f'--openai_model={OPENROUTER_MODEL}')\n",
    "# print(f'--openai_base_url={OPENROUTER_API_URL}')"
   ]
  },
  {
   "cell_type": "code",
   "execution_count": null,
   "id": "b1afdfb7",
   "metadata": {},
   "outputs": [],
   "source": [
    "#| export\n",
    "def convert_pdf_to_markdown_with_marker(root_folder):\n",
    "    \"\"\"\n",
    "    Recursively convert all .pdf files under root_folder (and subfolders)\n",
    "    to markdown (.md) files in the same folder using marker-pdf's 'marker' command\n",
    "    with 4 workers.\n",
    "    \"\"\"\n",
    "    import subprocess\n",
    "    from pathlib import Path\n",
    "    # import os\n",
    "\n",
    "    root = Path(root_folder)\n",
    "    md_root = root / '.md'\n",
    "    for file in root.rglob('*.pdf'):\n",
    "        md_path = file.with_suffix('.md')\n",
    "        md_path = md_root / md_path.relative_to(root) # store the result md files into a separate path of 'root/.md'\n",
    "        if md_path.exists():\n",
    "            continue  # Skip if markdown already exists\n",
    "        try:\n",
    "            # subprocess.run([\n",
    "            #     'marker_single', str(file), '--output_dir', file.parent, \n",
    "            #     '--use_llm',\n",
    "            #     f'--gemini_api_key={GEMINI_KEY}',\n",
    "            # ], check=True)\n",
    "            #subprocess.run([\n",
    "            #    'marker_single', str(file), '--output_dir', file.parent, \n",
    "            #    '--llm_service=marker.services.ollama.OllamaService',\n",
    "            #    '--ollama_base_url=http://172.27.74.15:11434',\n",
    "            #    '--ollama_model=gemma3:27b',\n",
    "            #], check=True)\n",
    "            subprocess.run([\n",
    "                'marker_single', str(file), '--output_dir', md_path.parent, \n",
    "                '--llm_service=marker.services.openai.OpenAIService',\n",
    "                f'--openai_api_key={OPENROUTER_API_KEY}',\n",
    "                f'--openai_model={OPENROUTER_MODEL}',\n",
    "                f'--openai_base_url={OPENROUTER_API_URL}',\n",
    "            ], check=True)\n",
    "            print(f\"Converted: {file} -> {md_path}\")\n",
    "        except subprocess.CalledProcessError as e:\n",
    "            print(f\"Failed to convert {file}: {e}\")"
   ]
  },
  {
   "cell_type": "code",
   "execution_count": null,
   "id": "61c89cbd",
   "metadata": {},
   "outputs": [],
   "source": [
    "#| hide\n",
    "# convert_pdf_to_markdown_with_marker('/v/data/新型机器人智能问答系统数据源-gemini')\n",
    "convert_pdf_to_markdown_with_marker('../res/warning')\n",
    "# convert_pdf_to_markdown_with_marker('../res/conversion_test')"
   ]
  },
  {
   "cell_type": "code",
   "execution_count": null,
   "id": "94126596",
   "metadata": {},
   "outputs": [],
   "source": [
    "#| export\n",
    "def convert_excel_to_markdown_with_marker(root_folder):\n",
    "    \"\"\"\n",
    "    Recursively convert all .excel files under root_folder (and subfolders)\n",
    "    to markdown (.md) files in the same folder using marker-pdf's 'marker' command\n",
    "    with 4 workers.\n",
    "    \"\"\"\n",
    "    import subprocess\n",
    "    from pathlib import Path\n",
    "    # import os\n",
    "\n",
    "    root = Path(root_folder)\n",
    "    md_root = root / '.md'\n",
    "    for file in root.rglob('*.xlsx'):\n",
    "        md_path = file.with_suffix('.md')\n",
    "        md_path = md_root / md_path.relative_to(root) # store the result md files into a separate path of 'root/.md'\n",
    "        if md_path.exists():\n",
    "            continue  # Skip if markdown already exists\n",
    "        try:\n",
    "            # subprocess.run([\n",
    "            #     'marker_single', str(file), '--output_dir', file.parent, \n",
    "            #     '--use_llm',\n",
    "            #     f'--gemini_api_key={GEMINI_KEY}',\n",
    "            # ], check=True)\n",
    "            #subprocess.run([\n",
    "            #    'marker_single', str(file), '--output_dir', file.parent, \n",
    "            #    '--llm_service=marker.services.ollama.OllamaService',\n",
    "            #    '--ollama_base_url=http://172.27.74.15:11434',\n",
    "            #    '--ollama_model=gemma3:27b',\n",
    "            #], check=True)\n",
    "            subprocess.run([\n",
    "                'marker_single', str(file), '--output_dir', md_path.parent, \n",
    "                '--llm_service=marker.services.openai.OpenAIService',\n",
    "                f'--openai_api_key={OPENROUTER_API_KEY}',\n",
    "                f'--openai_model={OPENROUTER_MODEL}',\n",
    "                f'--openai_base_url={OPENROUTER_API_URL}',\n",
    "            ], check=True)\n",
    "            print(f\"Converted: {file} -> {md_path}\")\n",
    "        except subprocess.CalledProcessError as e:\n",
    "            print(f\"Failed to convert {file}: {e}\")"
   ]
  },
  {
   "cell_type": "code",
   "execution_count": null,
   "id": "4729a639",
   "metadata": {},
   "outputs": [],
   "source": [
    "#| hide\n",
    "convert_excel_to_markdown_with_marker('../res/test_cases')"
   ]
  },
  {
   "cell_type": "code",
   "execution_count": null,
   "id": "e4c0f2a5",
   "metadata": {},
   "outputs": [],
   "source": [
    "# | hide\n",
    "import nbdev\n",
    "\n",
    "nbdev.nbdev_export()"
   ]
  },
  {
   "cell_type": "markdown",
   "id": "0182403f-d1d6-48c0-8e66-46aefb23a9ab",
   "metadata": {},
   "source": [
    "<div>\n",
    "<link rel=\"stylesheet\" href=\"https://gradio.s3-us-west-2.amazonaws.com/2.6.5/static/bundle.css\">\n",
    "<div id=\"target\"></div>\n",
    "<script src=\"https://gradio.s3-us-west-2.amazonaws.com/2.6.5/static/bundle.js\"></script>\n",
    "<script>\n",
    "launchGradioFromSpaces(\"abidlabs/question-answering\", \"#target\")\n",
    "</script>\n",
    "</div>"
   ]
  }
 ],
 "metadata": {
  "kernelspec": {
   "display_name": "cell",
   "language": "python",
   "name": "python3"
  },
  "language_info": {
   "name": "python",
   "version": "3.12.9"
  }
 },
 "nbformat": 4,
 "nbformat_minor": 5
}
