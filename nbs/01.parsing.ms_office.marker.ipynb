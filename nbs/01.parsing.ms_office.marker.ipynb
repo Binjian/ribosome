{
 "cells": [
  {
   "cell_type": "raw",
   "id": "2919343d",
   "metadata": {
    "vscode": {
     "languageId": "raw"
    }
   },
   "source": [
    "---\n",
    "output-file: parsing.ms_office.marker.html\n",
    "title: Microsoft Office document parsing\n",
    "---"
   ]
  },
  {
   "cell_type": "code",
   "execution_count": 1,
   "id": "68340256",
   "metadata": {},
   "outputs": [],
   "source": [
    "# |default_exp parsing.ms_office.marker"
   ]
  },
  {
   "cell_type": "code",
   "execution_count": 2,
   "id": "75658d74bc5e9e08",
   "metadata": {},
   "outputs": [],
   "source": [
    "# | hide\n",
    "from nbdev.showdoc import *\n",
    "from IPython.core.interactiveshell import InteractiveShell\n",
    "\n",
    "InteractiveShell.ast_node_interactivity = \"all\""
   ]
  },
  {
   "cell_type": "markdown",
   "id": "acf7644f-42b3-4d8d-a1d0-f8c3a2358e27",
   "metadata": {},
   "source": [
    "## Install dependencies"
   ]
  },
  {
   "cell_type": "code",
   "execution_count": 3,
   "id": "00cf4fad-a920-41dc-be42-3992c7fcefac",
   "metadata": {},
   "outputs": [],
   "source": [
    "# | export\n",
    "import sys\n",
    "import os\n",
    "import time\n",
    "from hashlib import sha256\n",
    "from pathlib import Path\n",
    "from pprint import pprint, pformat\n",
    "\n",
    "from odfdo import Document\n",
    "from PIL import Image\n",
    "import pandas as pd\n",
    "# import ezodf"
   ]
  },
  {
   "cell_type": "code",
   "execution_count": 4,
   "id": "164a3949",
   "metadata": {},
   "outputs": [
    {
     "data": {
      "text/plain": [
       "True"
      ]
     },
     "execution_count": 4,
     "metadata": {},
     "output_type": "execute_result"
    }
   ],
   "source": [
    "#| export\n",
    "from dotenv import load_dotenv\n",
    "load_dotenv()\n",
    "OPENROUTER_API_KEY= os.getenv('OPENROUTER_API_KEY')\n",
    "# print(OPENROUTER_API_KEY)\n",
    "OPENROUTER_API_URL = os.getenv('OPENROUTER_API_URL')\n",
    "# print(OPENROUTER_API_URL)\n",
    "# OPENROUTER_MODEL = os.getenv('OPENROUTER_MODEL')\n",
    "OPENROUTER_MODEL = 'Google:gemini-2.5-pro-exp-03-25'\n",
    "# print(OPENROUTER_MODEL)"
   ]
  },
  {
   "cell_type": "code",
   "execution_count": 5,
   "id": "257f411a",
   "metadata": {},
   "outputs": [],
   "source": [
    "def convert_office_to_pdf(root_folder):\n",
    "    \"\"\"\n",
    "    Recursively convert all .pptx, .ppt, .docx, and .doc files under\n",
    "    root_folder (and subfolders) to PDF files in the same folder as the\n",
    "    original. For .xls and .xlsx files, convert to markdown (.md) files\n",
    "    in the same folder. Requires LibreOffice (soffice) installed for Office\n",
    "    document conversion. Requires pandas for Excel to markdown.\n",
    "    \"\"\"\n",
    "    import subprocess\n",
    "    from pathlib import Path\n",
    "    import pandas as pd\n",
    "\n",
    "    office_exts = {'.pptx', '.ppt', '.docx', '.doc'}\n",
    "    excel_exts = {'.xls', '.xlsx'}\n",
    "    root = Path(root_folder)\n",
    "    for file in root.rglob('*'):\n",
    "        if file.suffix.lower() in office_exts:\n",
    "            pdf_path = file.with_suffix('.pdf')\n",
    "            if pdf_path.exists():\n",
    "                continue  # Skip if PDF already exists\n",
    "            try:\n",
    "                # Use soffice for conversion\n",
    "                subprocess.run([\n",
    "                    'soffice', '--headless', '--convert-to', 'pdf',\n",
    "                    '--outdir', str(file.parent), str(file)\n",
    "                ], check=True)\n",
    "                print(f\"Converted: {file} -> {pdf_path}\")\n",
    "            except subprocess.CalledProcessError as e:\n",
    "                print(f\"Failed to convert {file}: {e}\")\n",
    "        elif file.suffix.lower() in excel_exts:\n",
    "            md_path = file.with_suffix('.md')\n",
    "            if md_path.exists():\n",
    "                continue\n",
    "            try:\n",
    "                excel = pd.read_excel(file, sheet_name=None)\n",
    "                with open(md_path, 'w', encoding='utf-8') as f:\n",
    "                    for sheet, df in excel.items():\n",
    "                        f.write(f'# Sheet: {sheet}\\n\\n')\n",
    "                        f.write(df.to_markdown(index=False))\n",
    "                        f.write('\\n\\n')\n",
    "                print(f\"Converted: {file} -> {md_path}\")\n",
    "            except Exception as e:\n",
    "                print(f\"Failed to convert {file} to markdown: {e}\")\n",
    "        else:\n",
    "                print(f\"Failed to convert {file}\")\n"
   ]
  },
  {
   "cell_type": "code",
   "execution_count": 6,
   "id": "abf5937e",
   "metadata": {},
   "outputs": [],
   "source": [
    "\n",
    "# Example usage:\n",
    "convert_office_to_pdf('/v/data/新型机器人智能问答系统数据源')\n",
    "# convert_office_to_pdf('../res/conversion_test')\n"
   ]
  },
  {
   "cell_type": "code",
   "execution_count": 6,
   "id": "af2f7f31",
   "metadata": {},
   "outputs": [],
   "source": [
    "import pandas as pd\n",
    "from pathlib import Path\n",
    "\n",
    "def convert_excel_to_markdown(file_path):\n",
    "    \"\"\"\n",
    "    Convert an Excel file to a markdown file.\n",
    "    \"\"\"\n",
    "    try:\n",
    "        excel = pd.read_excel(file_path, sheet_name=None)\n",
    "        md_path = file_path.with_suffix('.md')\n",
    "        with open(md_path, 'w', encoding='utf-8') as f:\n",
    "            for sheet, df in excel.items():\n",
    "                f.write(f'# Sheet: {sheet}\\n\\n')\n",
    "                f.write(df.to_markdown(index=True))\n",
    "                f.write('\\n\\n')\n",
    "        print(f\"Converted: {file_path} -> {md_path}\")\n",
    "    except Exception as e:\n",
    "        print(f\"Failed to convert {file_path} to markdown: {e}\")\n",
    "\n",
    "# convert_excel_to_markdown(Path('../res/conversion_test/test.xlsx'))  # Example usage"
   ]
  },
  {
   "cell_type": "code",
   "execution_count": 8,
   "id": "8971115f",
   "metadata": {},
   "outputs": [],
   "source": [
    "# print(f'--gemini_api_key={GEMINI_KEY}')\n",
    "\n",
    "# print(f'--openai_api_key={OPENROUTER_API_KEY}')\n",
    "# print(f'--openai_model={OPENROUTER_MODEL}')\n",
    "# print(f'--openai_base_url={OPENROUTER_API_URL}')"
   ]
  },
  {
   "cell_type": "code",
   "execution_count": 7,
   "id": "b1afdfb7",
   "metadata": {},
   "outputs": [],
   "source": [
    "def convert_pdf_to_markdown_with_marker(root_folder):\n",
    "    \"\"\"\n",
    "    Recursively convert all .pdf files under root_folder (and subfolders)\n",
    "    to markdown (.md) files in the same folder using marker-pdf's 'marker' command\n",
    "    with 4 workers.\n",
    "    \"\"\"\n",
    "    import subprocess\n",
    "    from pathlib import Path\n",
    "    # import os\n",
    "\n",
    "    root = Path(root_folder)\n",
    "    md_root = root / '.md'\n",
    "    for file in root.rglob('*.pdf'):\n",
    "        md_path = file.with_suffix('.md')\n",
    "        md_path = md_root / md_path.relative_to(root) # store the result md files into a separate path of 'root/.md'\n",
    "        if md_path.exists():\n",
    "            continue  # Skip if markdown already exists\n",
    "        try:\n",
    "            # subprocess.run([\n",
    "            #     'marker_single', str(file), '--output_dir', file.parent, \n",
    "            #     '--use_llm',\n",
    "            #     f'--gemini_api_key={GEMINI_KEY}',\n",
    "            # ], check=True)\n",
    "            #subprocess.run([\n",
    "            #    'marker_single', str(file), '--output_dir', file.parent, \n",
    "            #    '--llm_service=marker.services.ollama.OllamaService',\n",
    "            #    '--ollama_base_url=http://172.27.74.15:11434',\n",
    "            #    '--ollama_model=gemma3:27b',\n",
    "            #], check=True)\n",
    "            subprocess.run([\n",
    "                'marker_single', str(file), '--output_dir', md_path.parent, \n",
    "                '--llm_service=marker.services.openai.OpenAIService',\n",
    "                f'--openai_api_key={OPENROUTER_API_KEY}',\n",
    "                f'--openai_model={OPENROUTER_MODEL}',\n",
    "                f'--openai_base_url={OPENROUTER_API_URL}',\n",
    "            ], check=True)\n",
    "            print(f\"Converted: {file} -> {md_path}\")\n",
    "        except subprocess.CalledProcessError as e:\n",
    "            print(f\"Failed to convert {file}: {e}\")"
   ]
  },
  {
   "cell_type": "code",
   "execution_count": 11,
   "id": "61c89cbd",
   "metadata": {},
   "outputs": [
    {
     "name": "stderr",
     "output_type": "stream",
     "text": [
      "Recognizing layout: 100%|██████████| 26/26 [00:03<00:00,  6.60it/s]\n",
      "Running OCR Error Detection: 100%|██████████| 22/22 [00:00<00:00, 877.49it/s]\n",
      "Detecting bboxes: 100%|██████████| 31/31 [00:13<00:00,  2.29it/s]\n",
      "Recognizing Text: 100%|██████████| 1525/1525 [00:06<00:00, 245.36it/s]\n",
      "Detecting bboxes: 100%|██████████| 61/61 [00:24<00:00,  2.53it/s]\n",
      "Recognizing Text: 100%|██████████| 18986/18986 [01:34<00:00, 200.22it/s]\n",
      "Recognizing tables: 100%|██████████| 22/22 [00:10<00:00,  2.07it/s]\n",
      "2025-06-11 17:24:25,281 [INFO] marker: Saved markdown to ../res/warning/.md/报警码\n",
      "2025-06-11 17:24:25,281 [INFO] marker: Total time: 182.80693531036377\n"
     ]
    },
    {
     "name": "stdout",
     "output_type": "stream",
     "text": [
      "Converted: ../res/warning/报警码.pdf -> ../res/warning/.md/报警码.md\n"
     ]
    }
   ],
   "source": [
    "# convert_pdf_to_markdown_with_marker('/v/data/新型机器人智能问答系统数据源-gemini')\n",
    "convert_pdf_to_markdown_with_marker('../res/warning')\n",
    "# convert_pdf_to_markdown_with_marker('../res/conversion_test')"
   ]
  },
  {
   "cell_type": "code",
   "execution_count": 8,
   "id": "94126596",
   "metadata": {},
   "outputs": [],
   "source": [
    "def convert_excel_to_markdown_with_marker(root_folder):\n",
    "    \"\"\"\n",
    "    Recursively convert all .excel files under root_folder (and subfolders)\n",
    "    to markdown (.md) files in the same folder using marker-pdf's 'marker' command\n",
    "    with 4 workers.\n",
    "    \"\"\"\n",
    "    import subprocess\n",
    "    from pathlib import Path\n",
    "    # import os\n",
    "\n",
    "    root = Path(root_folder)\n",
    "    md_root = root / '.md'\n",
    "    for file in root.rglob('*.xlsx'):\n",
    "        md_path = file.with_suffix('.md')\n",
    "        md_path = md_root / md_path.relative_to(root) # store the result md files into a separate path of 'root/.md'\n",
    "        if md_path.exists():\n",
    "            continue  # Skip if markdown already exists\n",
    "        try:\n",
    "            # subprocess.run([\n",
    "            #     'marker_single', str(file), '--output_dir', file.parent, \n",
    "            #     '--use_llm',\n",
    "            #     f'--gemini_api_key={GEMINI_KEY}',\n",
    "            # ], check=True)\n",
    "            #subprocess.run([\n",
    "            #    'marker_single', str(file), '--output_dir', file.parent, \n",
    "            #    '--llm_service=marker.services.ollama.OllamaService',\n",
    "            #    '--ollama_base_url=http://172.27.74.15:11434',\n",
    "            #    '--ollama_model=gemma3:27b',\n",
    "            #], check=True)\n",
    "            subprocess.run([\n",
    "                'marker_single', str(file), '--output_dir', md_path.parent, \n",
    "                '--llm_service=marker.services.openai.OpenAIService',\n",
    "                f'--openai_api_key={OPENROUTER_API_KEY}',\n",
    "                f'--openai_model={OPENROUTER_MODEL}',\n",
    "                f'--openai_base_url={OPENROUTER_API_URL}',\n",
    "            ], check=True)\n",
    "            print(f\"Converted: {file} -> {md_path}\")\n",
    "        except subprocess.CalledProcessError as e:\n",
    "            print(f\"Failed to convert {file}: {e}\")"
   ]
  },
  {
   "cell_type": "code",
   "execution_count": 9,
   "id": "4729a639",
   "metadata": {},
   "outputs": [
    {
     "name": "stderr",
     "output_type": "stream",
     "text": [
      "Recognizing layout: 100%|██████████| 3/3 [00:00<00:00,  5.18it/s]\n",
      "Running OCR Error Detection: 100%|██████████| 2/2 [00:00<00:00, 80.74it/s]\n",
      "Detecting bboxes: 0it [00:00, ?it/s]\n",
      "Detecting bboxes: 0it [00:00, ?it/s]\n",
      "Recognizing tables: 100%|██████████| 2/2 [00:00<00:00,  2.71it/s]\n",
      "2025-06-12 10:08:46,387 [INFO] marker: Saved markdown to ../res/test_cases/.md/AI+项目测试用例_raw\n",
      "2025-06-12 10:08:46,387 [INFO] marker: Total time: 6.024226188659668\n"
     ]
    },
    {
     "name": "stdout",
     "output_type": "stream",
     "text": [
      "Converted: ../res/test_cases/AI+项目测试用例_raw.xlsx -> ../res/test_cases/.md/AI+项目测试用例_raw.md\n"
     ]
    }
   ],
   "source": [
    "convert_excel_to_markdown_with_marker('../res/test_cases')"
   ]
  },
  {
   "cell_type": "code",
   "execution_count": null,
   "id": "e4c0f2a5",
   "metadata": {},
   "outputs": [],
   "source": [
    "# | hide\n",
    "import nbdev\n",
    "\n",
    "nbdev.nbdev_export()"
   ]
  },
  {
   "cell_type": "markdown",
   "id": "0182403f-d1d6-48c0-8e66-46aefb23a9ab",
   "metadata": {},
   "source": [
    "<div>\n",
    "<link rel=\"stylesheet\" href=\"https://gradio.s3-us-west-2.amazonaws.com/2.6.5/static/bundle.css\">\n",
    "<div id=\"target\"></div>\n",
    "<script src=\"https://gradio.s3-us-west-2.amazonaws.com/2.6.5/static/bundle.js\"></script>\n",
    "<script>\n",
    "launchGradioFromSpaces(\"abidlabs/question-answering\", \"#target\")\n",
    "</script>\n",
    "</div>"
   ]
  }
 ],
 "metadata": {
  "kernelspec": {
   "display_name": "cell",
   "language": "python",
   "name": "python3"
  },
  "language_info": {
   "codemirror_mode": {
    "name": "ipython",
    "version": 3
   },
   "file_extension": ".py",
   "mimetype": "text/x-python",
   "name": "python",
   "nbconvert_exporter": "python",
   "pygments_lexer": "ipython3",
   "version": "3.12.9"
  }
 },
 "nbformat": 4,
 "nbformat_minor": 5
}
