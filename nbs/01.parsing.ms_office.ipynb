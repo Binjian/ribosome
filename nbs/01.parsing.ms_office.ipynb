{
 "cells": [
  {
   "cell_type": "raw",
   "id": "2919343d",
   "metadata": {},
   "source": [
    "---\n",
    "output-file: parsing.ms_office.html\n",
    "title: Microsoft Office document parsing\n",
    "---"
   ]
  },
  {
   "cell_type": "code",
   "execution_count": null,
   "id": "68340256",
   "metadata": {},
   "outputs": [],
   "source": [
    "#|default_exp parsing.ms_office"
   ]
  },
  {
   "cell_type": "code",
   "execution_count": null,
   "id": "75658d74bc5e9e08",
   "metadata": {},
   "outputs": [],
   "source": [
    "#| hide\n",
    "from nbdev.showdoc import *\n",
    "from IPython.core.interactiveshell import InteractiveShell\n",
    "InteractiveShell.ast_node_interactivity = \"all\""
   ]
  },
  {
   "cell_type": "markdown",
   "id": "acf7644f-42b3-4d8d-a1d0-f8c3a2358e27",
   "metadata": {},
   "source": [
    "## Install dependencies"
   ]
  },
  {
   "cell_type": "code",
   "execution_count": null,
   "id": "00cf4fad-a920-41dc-be42-3992c7fcefac",
   "metadata": {},
   "outputs": [],
   "source": [
    "#| export\n",
    "import sys\n",
    "import os\n",
    "import time\n",
    "from hashlib import sha256\n",
    "from pathlib import Path\n",
    "from pprint import pprint, pformat\n",
    "\n",
    "from odfdo import Document\n",
    "from PIL import Image\n",
    "# import ezodf"
   ]
  },
  {
   "cell_type": "code",
   "execution_count": null,
   "id": "60682863a6cd4694",
   "metadata": {},
   "outputs": [],
   "source": [
    "doc = Document(\"res/sample.odt\")\n",
    "parts = doc.parts\n",
    "print(pformat(parts))"
   ]
  },
  {
   "cell_type": "code",
   "execution_count": null,
   "id": "bf4cb6d78e408639",
   "metadata": {},
   "outputs": [],
   "source": [
    "body = doc.body\n",
    "found_pics = body.images\n",
    "# print(pformat(found_pics))\n",
    "url = found_pics[0].url\n",
    "image_content = doc.get_part(found_pics[0].url)\n",
    "origin_path = Path(url)\n",
    "output_dir = Path(os.getcwd()) / 'output'\n",
    "destination_path = output_dir / origin_path.name\n",
    "destination_path.write_bytes(image_content)\n"
   ]
  },
  {
   "cell_type": "code",
   "execution_count": null,
   "id": "7118ae17102d69f4",
   "metadata": {},
   "outputs": [],
   "source": [
    "# img = Image.open(destination_path)\n",
    "# save_path = destination_path.with_suffix('.png')\n",
    "# img.save(save_path)"
   ]
  },
  {
   "cell_type": "code",
   "execution_count": null,
   "id": "f48680cbcb46ad59",
   "metadata": {},
   "outputs": [],
   "source": []
  },
  {
   "cell_type": "code",
   "execution_count": null,
   "id": "937d29a51d9808fb",
   "metadata": {},
   "outputs": [],
   "source": [
    "for pic in found_pics:\n",
    "    url = pic.url\n",
    "    image_content = doc.get_part(url)\n",
    "    original_path = Path(url)\n",
    "    destination_path = output_dir / original_path.name\n",
    "    destination_path.write_bytes(image_content)\n"
   ]
  },
  {
   "cell_type": "code",
   "execution_count": null,
   "id": "c527d33e6aeb406",
   "metadata": {},
   "outputs": [],
   "source": [
    "#| export\n",
    "# doc = Document(\"res/SN022001《新松 SN系列工业机器人快速安装手册》- V1.1.odt\")\n",
    "doc = Document(\"res/collection2.odt\")\n",
    "body = doc.body\n",
    "print(body.get_paragraph(content=\"Fish\"))\n",
    "# doc= ezodf.opendoc(\"res/sample.odt\")\n",
    "# for p in doc.body:\n",
    "#     print(p)"
   ]
  },
  {
   "cell_type": "code",
   "execution_count": null,
   "id": "be9e046c3aea41a6",
   "metadata": {},
   "outputs": [],
   "source": [
    "doc = Document(\"res/sample.odt\")\n",
    "body = doc.body\n",
    "tables = body.get_tables()\n",
    "print(body.get_table(position=0))\n",
    "images = body.get_images()\n"
   ]
  },
  {
   "cell_type": "code",
   "execution_count": null,
   "id": "d607930c47cf4ee5",
   "metadata": {},
   "outputs": [],
   "source": [
    "images[0].attributes"
   ]
  },
  {
   "cell_type": "code",
   "execution_count": null,
   "id": "07cab376",
   "metadata": {},
   "outputs": [],
   "source": [
    "from odfdo import Document\n",
    "\n",
    "def get_odt_shapes_with_attributes(odt_path):\n",
    "    doc = Document(odt_path)\n",
    "    body = doc.body\n",
    "    # List of shape tags to look for\n",
    "    shape_tags = ['draw:line', 'draw:polyline', 'draw:polygon', 'draw:connector', 'draw:rect', 'draw:ellipse', 'draw:custom-shape']\n",
    "    shapes = []\n",
    "    # Search for shapes anywhere in the body\n",
    "    for tag in shape_tags:\n",
    "        for elem in body.get_elements(f'//{tag}'):\n",
    "            shape_info = {\n",
    "                'tag': elem.tag,\n",
    "                'attributes': dict(elem.attributes)\n",
    "            }\n",
    "            shapes.append(shape_info)\n",
    "    return shapes\n",
    "\n",
    "# Example usage:\n",
    "shapes = get_odt_shapes_with_attributes('res/sample.odt')\n",
    "print(shapes)"
   ]
  },
  {
   "cell_type": "code",
   "execution_count": null,
   "id": "e4c0f2a5",
   "metadata": {},
   "outputs": [],
   "source": [
    "#| hide\n",
    "import nbdev; nbdev.nbdev_export()"
   ]
  },
  {
   "cell_type": "markdown",
   "id": "0182403f-d1d6-48c0-8e66-46aefb23a9ab",
   "metadata": {},
   "source": [
    "<div>\n",
    "<link rel=\"stylesheet\" href=\"https://gradio.s3-us-west-2.amazonaws.com/2.6.5/static/bundle.css\">\n",
    "<div id=\"target\"></div>\n",
    "<script src=\"https://gradio.s3-us-west-2.amazonaws.com/2.6.5/static/bundle.js\"></script>\n",
    "<script>\n",
    "launchGradioFromSpaces(\"abidlabs/question-answering\", \"#target\")\n",
    "</script>\n",
    "</div>"
   ]
  }
 ],
 "metadata": {
  "kernelspec": {
   "display_name": "python3",
   "language": "python",
   "name": "python3"
  }
 },
 "nbformat": 4,
 "nbformat_minor": 5
}
