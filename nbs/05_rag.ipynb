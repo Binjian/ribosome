{
 "cells": [
  {
   "metadata": {},
   "cell_type": "raw",
   "source": [
    "---\n",
    "output-file: rag.html\n",
    "title: rag tutorial\n",
    "---"
   ],
   "id": "4bd68effe0fec893"
  },
  {
   "metadata": {
    "ExecuteTime": {
     "end_time": "2025-03-24T07:13:18.099196Z",
     "start_time": "2025-03-24T07:13:18.093453Z"
    }
   },
   "cell_type": "code",
   "source": "# |default_exp rag",
   "id": "86a7d3fa89528e4f",
   "outputs": [],
   "execution_count": 1
  },
  {
   "metadata": {},
   "cell_type": "markdown",
   "source": "## Install dependencies",
   "id": "40bae3045488c83c"
  },
  {
   "metadata": {},
   "cell_type": "markdown",
   "source": "## Make an app with Gradio",
   "id": "8689e7841c3c3942"
  },
  {
   "metadata": {
    "ExecuteTime": {
     "end_time": "2025-03-24T09:39:38.202801Z",
     "start_time": "2025-03-24T09:39:38.198551Z"
    }
   },
   "cell_type": "code",
   "source": [
    "# |export\n",
    "import ollama\n",
    "import re\n",
    "import gradio as gr\n",
    "from concurrent.futures import ThreadPoolExecutor\n",
    "from langchain.text_splitter import RecursiveCharacterTextSplitter\n",
    "from langchain_community.document_loaders import PyMuPDFLoader\n",
    "from langchain_ollama import OllamaEmbeddings\n",
    "from chromadb.config import Settings\n",
    "from chromadb import Client\n",
    "import chromadb\n",
    "from langchain.vectorstores import Chroma\n",
    "from dotenv import load_dotenv\n",
    "import os\n",
    "import csv\n",
    "\n",
    "from fastcore.net import urljson, HTTPError\n",
    "from openai import api_key\n",
    "from openai import OpenAI\n",
    "import openai"
   ],
   "id": "c3ed1a604344bdea",
   "outputs": [],
   "execution_count": 43
  },
  {
   "metadata": {
    "ExecuteTime": {
     "end_time": "2025-03-24T07:34:17.199250Z",
     "start_time": "2025-03-24T07:34:17.195296Z"
    }
   },
   "cell_type": "code",
   "source": [
    "# |export\n",
    "import chromadb.utils.embedding_functions as embedding_functions\n",
    "# from chromadb.utils.embedding_functions import OpenAIEmbeddingFunction"
   ],
   "id": "c0dbf8f53e3c0074",
   "outputs": [],
   "execution_count": 5
  },
  {
   "metadata": {
    "ExecuteTime": {
     "end_time": "2025-03-24T09:31:21.773320Z",
     "start_time": "2025-03-24T09:31:21.766833Z"
    }
   },
   "cell_type": "code",
   "source": [
    "load_dotenv()\n",
    "# deepseek_key = os.getenv('DEEPSEEK_R1_API_KEY')\n",
    "gemini_key = os.getenv('GEMINI_API_KEY')"
   ],
   "id": "7f542994eda15019",
   "outputs": [],
   "execution_count": 38
  },
  {
   "metadata": {
    "ExecuteTime": {
     "end_time": "2025-03-24T07:38:01.504910Z",
     "start_time": "2025-03-24T07:38:01.401537Z"
    }
   },
   "cell_type": "code",
   "source": [
    "loader = PyMuPDFLoader(\"../res/employee_manual.pdf\")\n",
    "documents = loader.load()"
   ],
   "id": "ee088ba496424b69",
   "outputs": [],
   "execution_count": 11
  },
  {
   "metadata": {
    "ExecuteTime": {
     "end_time": "2025-03-24T07:42:43.653599Z",
     "start_time": "2025-03-24T07:42:43.647948Z"
    }
   },
   "cell_type": "code",
   "source": [
    "# Split the document into smaller chunks\n",
    "text_splitter = RecursiveCharacterTextSplitter(chunk_size=1000,chunk_overlap=200)\n",
    "chunks = text_splitter.split_documents(documents)"
   ],
   "id": "ee657b91ee63efc6",
   "outputs": [],
   "execution_count": 16
  },
  {
   "metadata": {
    "ExecuteTime": {
     "end_time": "2025-03-24T07:40:31.131478Z",
     "start_time": "2025-03-24T07:40:31.117435Z"
    }
   },
   "cell_type": "code",
   "source": [
    "# client = OpenAI(\n",
    "#   base_url=\"https://openrouter.ai/api/v1\",\n",
    "#   api_key=deepseek_key,\n",
    "# )"
   ],
   "id": "bc0ede5ddd52e2d0",
   "outputs": [],
   "execution_count": 13
  },
  {
   "metadata": {},
   "cell_type": "code",
   "source": [
    "# embedding = client.embeddings.create(\n",
    "#         model=\"deepseek/deepseek-r1:free\",\n",
    "#         input='Your text string goes here'\n",
    "#     )\n",
    "# embedding"
   ],
   "id": "696557bdaac4d522",
   "outputs": [],
   "execution_count": null
  },
  {
   "metadata": {
    "ExecuteTime": {
     "end_time": "2025-03-24T09:34:27.234442Z",
     "start_time": "2025-03-24T09:34:24.318422Z"
    }
   },
   "cell_type": "code",
   "source": "google_ef = embedding_functions.GoogleGenerativeAiEmbeddingFunction(api_key=gemini_key)",
   "id": "2974e9297cc6cda5",
   "outputs": [],
   "execution_count": 39
  },
  {
   "metadata": {
    "ExecuteTime": {
     "end_time": "2025-03-24T08:42:25.478378Z",
     "start_time": "2025-03-24T08:42:25.420778Z"
    }
   },
   "cell_type": "code",
   "source": [
    "# Parallelize embedding generation\n",
    "def generate_embedding(chunk):\n",
    "    # return ollama_embedding_function.embed_query(chunk.page_content)\n",
    "    return google_ef.embed_query(chunk.page_content)\n",
    "\n",
    "\n",
    "with ThreadPoolExecutor() as executor:\n",
    "    embeddings = list(executor.map(generate_embedding, chunks))"
   ],
   "id": "e691b9105f92f799",
   "outputs": [
    {
     "ename": "AttributeError",
     "evalue": "'OpenAIEmbeddingFunction' object has no attribute 'embed_query'",
     "output_type": "error",
     "traceback": [
      "\u001B[31m---------------------------------------------------------------------------\u001B[39m",
      "\u001B[31mAttributeError\u001B[39m                            Traceback (most recent call last)",
      "\u001B[36mCell\u001B[39m\u001B[36m \u001B[39m\u001B[32mIn[26]\u001B[39m\u001B[32m, line 7\u001B[39m\n\u001B[32m      4\u001B[39m     \u001B[38;5;28;01mreturn\u001B[39;00m deepseek_ef.embed_query(chunk.page_content)\n\u001B[32m      6\u001B[39m \u001B[38;5;28;01mwith\u001B[39;00m ThreadPoolExecutor() \u001B[38;5;28;01mas\u001B[39;00m executor:\n\u001B[32m----> \u001B[39m\u001B[32m7\u001B[39m     embeddings = \u001B[38;5;28;43mlist\u001B[39;49m\u001B[43m(\u001B[49m\u001B[43mexecutor\u001B[49m\u001B[43m.\u001B[49m\u001B[43mmap\u001B[49m\u001B[43m(\u001B[49m\u001B[43mgenerate_embedding\u001B[49m\u001B[43m,\u001B[49m\u001B[43m \u001B[49m\u001B[43mchunks\u001B[49m\u001B[43m)\u001B[49m\u001B[43m)\u001B[49m\n",
      "\u001B[36mFile \u001B[39m\u001B[32m~/.pyenv/versions/miniconda3-3.12-25.1.1-2/envs/cell/lib/python3.13/concurrent/futures/_base.py:619\u001B[39m, in \u001B[36mExecutor.map.<locals>.result_iterator\u001B[39m\u001B[34m()\u001B[39m\n\u001B[32m    616\u001B[39m \u001B[38;5;28;01mwhile\u001B[39;00m fs:\n\u001B[32m    617\u001B[39m     \u001B[38;5;66;03m# Careful not to keep a reference to the popped future\u001B[39;00m\n\u001B[32m    618\u001B[39m     \u001B[38;5;28;01mif\u001B[39;00m timeout \u001B[38;5;129;01mis\u001B[39;00m \u001B[38;5;28;01mNone\u001B[39;00m:\n\u001B[32m--> \u001B[39m\u001B[32m619\u001B[39m         \u001B[38;5;28;01myield\u001B[39;00m \u001B[43m_result_or_cancel\u001B[49m\u001B[43m(\u001B[49m\u001B[43mfs\u001B[49m\u001B[43m.\u001B[49m\u001B[43mpop\u001B[49m\u001B[43m(\u001B[49m\u001B[43m)\u001B[49m\u001B[43m)\u001B[49m\n\u001B[32m    620\u001B[39m     \u001B[38;5;28;01melse\u001B[39;00m:\n\u001B[32m    621\u001B[39m         \u001B[38;5;28;01myield\u001B[39;00m _result_or_cancel(fs.pop(), end_time - time.monotonic())\n",
      "\u001B[36mFile \u001B[39m\u001B[32m~/.pyenv/versions/miniconda3-3.12-25.1.1-2/envs/cell/lib/python3.13/concurrent/futures/_base.py:317\u001B[39m, in \u001B[36m_result_or_cancel\u001B[39m\u001B[34m(***failed resolving arguments***)\u001B[39m\n\u001B[32m    315\u001B[39m \u001B[38;5;28;01mtry\u001B[39;00m:\n\u001B[32m    316\u001B[39m     \u001B[38;5;28;01mtry\u001B[39;00m:\n\u001B[32m--> \u001B[39m\u001B[32m317\u001B[39m         \u001B[38;5;28;01mreturn\u001B[39;00m \u001B[43mfut\u001B[49m\u001B[43m.\u001B[49m\u001B[43mresult\u001B[49m\u001B[43m(\u001B[49m\u001B[43mtimeout\u001B[49m\u001B[43m)\u001B[49m\n\u001B[32m    318\u001B[39m     \u001B[38;5;28;01mfinally\u001B[39;00m:\n\u001B[32m    319\u001B[39m         fut.cancel()\n",
      "\u001B[36mFile \u001B[39m\u001B[32m~/.pyenv/versions/miniconda3-3.12-25.1.1-2/envs/cell/lib/python3.13/concurrent/futures/_base.py:449\u001B[39m, in \u001B[36mFuture.result\u001B[39m\u001B[34m(self, timeout)\u001B[39m\n\u001B[32m    447\u001B[39m     \u001B[38;5;28;01mraise\u001B[39;00m CancelledError()\n\u001B[32m    448\u001B[39m \u001B[38;5;28;01melif\u001B[39;00m \u001B[38;5;28mself\u001B[39m._state == FINISHED:\n\u001B[32m--> \u001B[39m\u001B[32m449\u001B[39m     \u001B[38;5;28;01mreturn\u001B[39;00m \u001B[38;5;28;43mself\u001B[39;49m\u001B[43m.\u001B[49m\u001B[43m__get_result\u001B[49m\u001B[43m(\u001B[49m\u001B[43m)\u001B[49m\n\u001B[32m    451\u001B[39m \u001B[38;5;28mself\u001B[39m._condition.wait(timeout)\n\u001B[32m    453\u001B[39m \u001B[38;5;28;01mif\u001B[39;00m \u001B[38;5;28mself\u001B[39m._state \u001B[38;5;129;01min\u001B[39;00m [CANCELLED, CANCELLED_AND_NOTIFIED]:\n",
      "\u001B[36mFile \u001B[39m\u001B[32m~/.pyenv/versions/miniconda3-3.12-25.1.1-2/envs/cell/lib/python3.13/concurrent/futures/_base.py:401\u001B[39m, in \u001B[36mFuture.__get_result\u001B[39m\u001B[34m(self)\u001B[39m\n\u001B[32m    399\u001B[39m \u001B[38;5;28;01mif\u001B[39;00m \u001B[38;5;28mself\u001B[39m._exception:\n\u001B[32m    400\u001B[39m     \u001B[38;5;28;01mtry\u001B[39;00m:\n\u001B[32m--> \u001B[39m\u001B[32m401\u001B[39m         \u001B[38;5;28;01mraise\u001B[39;00m \u001B[38;5;28mself\u001B[39m._exception\n\u001B[32m    402\u001B[39m     \u001B[38;5;28;01mfinally\u001B[39;00m:\n\u001B[32m    403\u001B[39m         \u001B[38;5;66;03m# Break a reference cycle with the exception in self._exception\u001B[39;00m\n\u001B[32m    404\u001B[39m         \u001B[38;5;28mself\u001B[39m = \u001B[38;5;28;01mNone\u001B[39;00m\n",
      "\u001B[36mFile \u001B[39m\u001B[32m~/.pyenv/versions/miniconda3-3.12-25.1.1-2/envs/cell/lib/python3.13/concurrent/futures/thread.py:59\u001B[39m, in \u001B[36m_WorkItem.run\u001B[39m\u001B[34m(self)\u001B[39m\n\u001B[32m     56\u001B[39m     \u001B[38;5;28;01mreturn\u001B[39;00m\n\u001B[32m     58\u001B[39m \u001B[38;5;28;01mtry\u001B[39;00m:\n\u001B[32m---> \u001B[39m\u001B[32m59\u001B[39m     result = \u001B[38;5;28;43mself\u001B[39;49m\u001B[43m.\u001B[49m\u001B[43mfn\u001B[49m\u001B[43m(\u001B[49m\u001B[43m*\u001B[49m\u001B[38;5;28;43mself\u001B[39;49m\u001B[43m.\u001B[49m\u001B[43margs\u001B[49m\u001B[43m,\u001B[49m\u001B[43m \u001B[49m\u001B[43m*\u001B[49m\u001B[43m*\u001B[49m\u001B[38;5;28;43mself\u001B[39;49m\u001B[43m.\u001B[49m\u001B[43mkwargs\u001B[49m\u001B[43m)\u001B[49m\n\u001B[32m     60\u001B[39m \u001B[38;5;28;01mexcept\u001B[39;00m \u001B[38;5;167;01mBaseException\u001B[39;00m \u001B[38;5;28;01mas\u001B[39;00m exc:\n\u001B[32m     61\u001B[39m     \u001B[38;5;28mself\u001B[39m.future.set_exception(exc)\n",
      "\u001B[36mCell\u001B[39m\u001B[36m \u001B[39m\u001B[32mIn[26]\u001B[39m\u001B[32m, line 4\u001B[39m, in \u001B[36mgenerate_embedding\u001B[39m\u001B[34m(chunk)\u001B[39m\n\u001B[32m      2\u001B[39m \u001B[38;5;28;01mdef\u001B[39;00m\u001B[38;5;250m \u001B[39m\u001B[34mgenerate_embedding\u001B[39m(chunk):\n\u001B[32m      3\u001B[39m     \u001B[38;5;66;03m# return ollama_embedding_function.embed_query(chunk.page_content)\u001B[39;00m\n\u001B[32m----> \u001B[39m\u001B[32m4\u001B[39m     \u001B[38;5;28;01mreturn\u001B[39;00m \u001B[43mdeepseek_ef\u001B[49m\u001B[43m.\u001B[49m\u001B[43membed_query\u001B[49m(chunk.page_content)\n",
      "\u001B[31mAttributeError\u001B[39m: 'OpenAIEmbeddingFunction' object has no attribute 'embed_query'"
     ]
    }
   ],
   "execution_count": 26
  },
  {
   "metadata": {
    "ExecuteTime": {
     "end_time": "2025-03-24T09:16:38.230236Z",
     "start_time": "2025-03-24T09:16:24.352985Z"
    }
   },
   "cell_type": "code",
   "source": [
    "\n",
    "completion = client.chat.completions.create(\n",
    "  extra_headers={\n",
    "    \"HTTP-Referer\": \"binjian.github.io\", # Optional. Site URL for rankings on openrouter.ai.\n",
    "    \"X-Title\": \"binjian's digital garden\", # Optional. Site title for rankings on openrouter.ai.\n",
    "  },\n",
    "  extra_body={},\n",
    "  model=\"deepseek/deepseek-r1:free\",\n",
    "  messages=[\n",
    "    {\n",
    "      \"role\": \"system\", \"content\": \"You are a helpful assistant.\",\n",
    "      \"role\": \"user\", \"content\": \"What's Anthropic's Model context protocol?\"\n",
    "    }\n",
    "  ]\n",
    ")\n",
    "print(completion.choices[0].message.content)"
   ],
   "id": "5aab85556fd1c15f",
   "outputs": [
    {
     "name": "stdout",
     "output_type": "stream",
     "text": [
      "Anthropic's Model Context Protocol refers to the structured approach used in their AI models, particularly Claude, to manage conversational context effectively while prioritizing safety and coherence. Here's a breakdown of its key components:\n",
      "\n",
      "1. **Context Window Management**: \n",
      "   - Claude's large context window (up to 200k tokens) allows processing lengthy inputs, but the protocol ensures efficient retention of relevant information. Techniques like attention mechanisms prioritize recent or critical dialogue segments while avoiding overload.\n",
      "\n",
      "2. **Safety and Alignment**:\n",
      "   - Rooted in **Constitutional AI**, the protocol incorporates ethical guidelines to filter harmful requests, reduce biases, and ensure outputs align with human values. It may refuse unsafe tasks or seek clarification for ambiguous queries.\n",
      "\n",
      "3. **Multi-Turn Coherence**:\n",
      "   - Maintains consistency across long conversations by tracking dialogue history, user intent, and key entities. This avoids repetitive or contradictory responses common in less advanced models.\n",
      "\n",
      "4. **Structured Input/Output Handling**:\n",
      "   - Uses tokenization and context chunking to parse complex inputs (e.g., documents, code) and generate focused, context-aware replies. Tools like XML tagging might structure prompts for clarity.\n",
      "\n",
      "5. **Transparency and Control**:\n",
      "   - Features like system prompts allow users to set boundaries or guide model behavior explicitly (e.g., \"You are a helpful assistant focused on safety\"). This balances flexibility with constraint.\n",
      "\n",
      "While specifics are proprietary, Anthropic emphasizes these principles in publications like their **System Card** and **Constitutional AI framework**, highlighting their commitment to building reliable, ethical AI systems. The protocol aims to optimize both utility and safety in human-AI interactions.\n"
     ]
    }
   ],
   "execution_count": 35
  },
  {
   "metadata": {
    "ExecuteTime": {
     "end_time": "2025-03-24T09:37:02.715201Z",
     "start_time": "2025-03-24T09:37:02.710587Z"
    }
   },
   "cell_type": "code",
   "source": "google_ef = embedding_functions.GoogleGenerativeAiEmbeddingFunction(api_key=gemini_key)",
   "id": "81899cd24437f8e",
   "outputs": [],
   "execution_count": 40
  },
  {
   "metadata": {
    "ExecuteTime": {
     "end_time": "2025-03-24T09:40:25.942615Z",
     "start_time": "2025-03-24T09:40:25.936152Z"
    }
   },
   "cell_type": "code",
   "source": [
    "def convert_qa_to_csv(input_file, output_file):\n",
    "    \"\"\"\n",
    "    Convert a text file with Q/A format to a CSV file.\n",
    "\n",
    "    Args:\n",
    "        input_file: Path to the input text file\n",
    "        output_file: Path to the output CSV file\n",
    "    \"\"\"\n",
    "    # Read the content of the file\n",
    "    with open(input_file, 'r', encoding='utf-8') as f:\n",
    "        content = f.read()\n",
    "\n",
    "    # Split the content by 'Q' marker\n",
    "    qa_blocks = content.split('Q\\n')\n",
    "\n",
    "    qa_blks = [block.strip() for block in qa_blocks][1:]\n",
    "    # Remove empty blocks (like the first one if file starts with 'Q')\n",
    "    # qa_blocks = [[line for line in block.split('\\n') ] for block in qa_blks if block.strip()]\n",
    "    # Remove empty blocks (like the first one if file starts with 'Q')\n",
    "    # qa_blocks = [blk for block in qa_blocks if block.strip() for blk in block.strip()]\n",
    "\n",
    "    # Process each Q&A block\n",
    "    qa_pairs = []\n",
    "    for block in qa_blks:\n",
    "        # Split the block into lines\n",
    "        lines = block.strip().split('\\n')\n",
    "\n",
    "        if lines:\n",
    "            # First line is the question\n",
    "            question = lines[0]\n",
    "            # The rest are the answer\n",
    "            answer = '\\n'.join(lines[1:])\n",
    "\n",
    "            # Add the pair to our list\n",
    "            qa_pairs.append([question, answer])\n",
    "\n",
    "    # Write to CSV\n",
    "    with open(output_file, 'w', encoding='utf-8', newline='') as f:\n",
    "        writer = csv.writer(f)\n",
    "        # Write header\n",
    "        writer.writerow(['Question', 'Answer'])\n",
    "        # Write Q&A pairs\n",
    "        for pair in qa_pairs:\n",
    "            writer.writerow(pair)\n",
    "    print(f\"Conversion complete. CSV file saved to {output_file}\")"
   ],
   "id": "a0a4709412146528",
   "outputs": [],
   "execution_count": 46
  },
  {
   "metadata": {
    "ExecuteTime": {
     "end_time": "2025-03-24T09:40:30.014887Z",
     "start_time": "2025-03-24T09:40:29.993942Z"
    }
   },
   "cell_type": "code",
   "source": [
    "\n",
    "input_files = [\"../res/qa_service.txt\", \"../res/qa_technology.txt\"]\n",
    "output_files = [\"../res/qa_service.csv\", \"../res/qa_technology.csv\"]\n",
    "for in_f, ot_f in zip(input_files, output_files):\n",
    "    convert_qa_to_csv(in_f, ot_f)\n",
    "    "
   ],
   "id": "b867632cd7164a19",
   "outputs": [
    {
     "name": "stdout",
     "output_type": "stream",
     "text": [
      "Conversion complete. CSV file saved to ../res/qa_service.csv\n",
      "Conversion complete. CSV file saved to ../res/qa_technology.csv\n"
     ]
    }
   ],
   "execution_count": 47
  },
  {
   "metadata": {
    "ExecuteTime": {
     "end_time": "2025-03-24T09:40:33.394734Z",
     "start_time": "2025-03-24T09:40:33.382256Z"
    }
   },
   "cell_type": "code",
   "source": [
    "# |export\n",
    "client = chromadb.PersistentClient(path=\"../vdb\")\n",
    "# collections = [client.get_or_create_collection(name=\"siasun_qa_service\",embedding_function=deepseek_ef),\n",
    "#                 client.get_or_create_collection(name=\"siasun_qa_technology\",embedding_function=deepseek_ef)]\n",
    "collections = [client.get_or_create_collection(name=\"siasun_qa_service\", embedding_function=google_ef),\n",
    "                client.get_or_create_collection(name=\"siasun_qa_technology\", embedding_function=google_ef)]"
   ],
   "id": "e87d7540e3a1b0d8",
   "outputs": [],
   "execution_count": 48
  },
  {
   "metadata": {
    "ExecuteTime": {
     "end_time": "2025-03-24T05:56:55.986880Z",
     "start_time": "2025-03-24T05:56:55.980700Z"
    }
   },
   "cell_type": "code",
   "source": [
    "i=2\n",
    "f'q{i}'"
   ],
   "id": "f4c4e9c21acabd5a",
   "outputs": [
    {
     "data": {
      "text/plain": [
       "'q2'"
      ]
     },
     "execution_count": 11,
     "metadata": {},
     "output_type": "execute_result"
    }
   ],
   "execution_count": 11
  },
  {
   "metadata": {
    "ExecuteTime": {
     "end_time": "2025-03-24T09:41:29.538151Z",
     "start_time": "2025-03-24T09:40:35.929740Z"
    }
   },
   "cell_type": "code",
   "source": [
    "# |export\n",
    "for csv_file,collection in zip(output_files,collections):\n",
    "    with open(csv_file, newline='') as f:\n",
    "        reader = csv.reader(f)\n",
    "        for i, row in enumerate(reader):\n",
    "            collection.add(\n",
    "                documents = row,\n",
    "                metadatas = [{\"source\": \"question\"}, {\"source\": \"answer\"}],\n",
    "                ids = [f\"{collection.name}_q{i}\", f\"{collection.name}_a{i}\"]\n",
    "            )"
   ],
   "id": "cd8cffa926183329",
   "outputs": [
    {
     "ename": "TypeError",
     "evalue": "RetryError.__init__() missing 1 required positional argument: 'cause'",
     "output_type": "error",
     "traceback": [
      "\u001B[31m---------------------------------------------------------------------------\u001B[39m",
      "\u001B[31m_InactiveRpcError\u001B[39m                         Traceback (most recent call last)",
      "\u001B[36mFile \u001B[39m\u001B[32m~/.pyenv/versions/miniconda3-3.12-25.1.1-2/envs/cell/lib/python3.13/site-packages/google/api_core/grpc_helpers.py:76\u001B[39m, in \u001B[36m_wrap_unary_errors.<locals>.error_remapped_callable\u001B[39m\u001B[34m(*args, **kwargs)\u001B[39m\n\u001B[32m     75\u001B[39m \u001B[38;5;28;01mtry\u001B[39;00m:\n\u001B[32m---> \u001B[39m\u001B[32m76\u001B[39m     \u001B[38;5;28;01mreturn\u001B[39;00m \u001B[43mcallable_\u001B[49m\u001B[43m(\u001B[49m\u001B[43m*\u001B[49m\u001B[43margs\u001B[49m\u001B[43m,\u001B[49m\u001B[43m \u001B[49m\u001B[43m*\u001B[49m\u001B[43m*\u001B[49m\u001B[43mkwargs\u001B[49m\u001B[43m)\u001B[49m\n\u001B[32m     77\u001B[39m \u001B[38;5;28;01mexcept\u001B[39;00m grpc.RpcError \u001B[38;5;28;01mas\u001B[39;00m exc:\n",
      "\u001B[36mFile \u001B[39m\u001B[32m~/.pyenv/versions/miniconda3-3.12-25.1.1-2/envs/cell/lib/python3.13/site-packages/grpc/_interceptor.py:277\u001B[39m, in \u001B[36m_UnaryUnaryMultiCallable.__call__\u001B[39m\u001B[34m(self, request, timeout, metadata, credentials, wait_for_ready, compression)\u001B[39m\n\u001B[32m    268\u001B[39m \u001B[38;5;28;01mdef\u001B[39;00m\u001B[38;5;250m \u001B[39m\u001B[34m__call__\u001B[39m(\n\u001B[32m    269\u001B[39m     \u001B[38;5;28mself\u001B[39m,\n\u001B[32m    270\u001B[39m     request: Any,\n\u001B[32m   (...)\u001B[39m\u001B[32m    275\u001B[39m     compression: Optional[grpc.Compression] = \u001B[38;5;28;01mNone\u001B[39;00m,\n\u001B[32m    276\u001B[39m ) -> Any:\n\u001B[32m--> \u001B[39m\u001B[32m277\u001B[39m     response, ignored_call = \u001B[38;5;28;43mself\u001B[39;49m\u001B[43m.\u001B[49m\u001B[43m_with_call\u001B[49m\u001B[43m(\u001B[49m\n\u001B[32m    278\u001B[39m \u001B[43m        \u001B[49m\u001B[43mrequest\u001B[49m\u001B[43m,\u001B[49m\n\u001B[32m    279\u001B[39m \u001B[43m        \u001B[49m\u001B[43mtimeout\u001B[49m\u001B[43m=\u001B[49m\u001B[43mtimeout\u001B[49m\u001B[43m,\u001B[49m\n\u001B[32m    280\u001B[39m \u001B[43m        \u001B[49m\u001B[43mmetadata\u001B[49m\u001B[43m=\u001B[49m\u001B[43mmetadata\u001B[49m\u001B[43m,\u001B[49m\n\u001B[32m    281\u001B[39m \u001B[43m        \u001B[49m\u001B[43mcredentials\u001B[49m\u001B[43m=\u001B[49m\u001B[43mcredentials\u001B[49m\u001B[43m,\u001B[49m\n\u001B[32m    282\u001B[39m \u001B[43m        \u001B[49m\u001B[43mwait_for_ready\u001B[49m\u001B[43m=\u001B[49m\u001B[43mwait_for_ready\u001B[49m\u001B[43m,\u001B[49m\n\u001B[32m    283\u001B[39m \u001B[43m        \u001B[49m\u001B[43mcompression\u001B[49m\u001B[43m=\u001B[49m\u001B[43mcompression\u001B[49m\u001B[43m,\u001B[49m\n\u001B[32m    284\u001B[39m \u001B[43m    \u001B[49m\u001B[43m)\u001B[49m\n\u001B[32m    285\u001B[39m     \u001B[38;5;28;01mreturn\u001B[39;00m response\n",
      "\u001B[36mFile \u001B[39m\u001B[32m~/.pyenv/versions/miniconda3-3.12-25.1.1-2/envs/cell/lib/python3.13/site-packages/grpc/_interceptor.py:332\u001B[39m, in \u001B[36m_UnaryUnaryMultiCallable._with_call\u001B[39m\u001B[34m(self, request, timeout, metadata, credentials, wait_for_ready, compression)\u001B[39m\n\u001B[32m    329\u001B[39m call = \u001B[38;5;28mself\u001B[39m._interceptor.intercept_unary_unary(\n\u001B[32m    330\u001B[39m     continuation, client_call_details, request\n\u001B[32m    331\u001B[39m )\n\u001B[32m--> \u001B[39m\u001B[32m332\u001B[39m \u001B[38;5;28;01mreturn\u001B[39;00m \u001B[43mcall\u001B[49m\u001B[43m.\u001B[49m\u001B[43mresult\u001B[49m\u001B[43m(\u001B[49m\u001B[43m)\u001B[49m, call\n",
      "\u001B[36mFile \u001B[39m\u001B[32m~/.pyenv/versions/miniconda3-3.12-25.1.1-2/envs/cell/lib/python3.13/site-packages/grpc/_channel.py:440\u001B[39m, in \u001B[36m_InactiveRpcError.result\u001B[39m\u001B[34m(self, timeout)\u001B[39m\n\u001B[32m    439\u001B[39m \u001B[38;5;250m\u001B[39m\u001B[33;03m\"\"\"See grpc.Future.result.\"\"\"\u001B[39;00m\n\u001B[32m--> \u001B[39m\u001B[32m440\u001B[39m \u001B[38;5;28;01mraise\u001B[39;00m \u001B[38;5;28mself\u001B[39m\n",
      "\u001B[36mFile \u001B[39m\u001B[32m~/.pyenv/versions/miniconda3-3.12-25.1.1-2/envs/cell/lib/python3.13/site-packages/grpc/_interceptor.py:315\u001B[39m, in \u001B[36m_UnaryUnaryMultiCallable._with_call.<locals>.continuation\u001B[39m\u001B[34m(new_details, request)\u001B[39m\n\u001B[32m    314\u001B[39m \u001B[38;5;28;01mtry\u001B[39;00m:\n\u001B[32m--> \u001B[39m\u001B[32m315\u001B[39m     response, call = \u001B[38;5;28;43mself\u001B[39;49m\u001B[43m.\u001B[49m\u001B[43m_thunk\u001B[49m\u001B[43m(\u001B[49m\u001B[43mnew_method\u001B[49m\u001B[43m)\u001B[49m\u001B[43m.\u001B[49m\u001B[43mwith_call\u001B[49m\u001B[43m(\u001B[49m\n\u001B[32m    316\u001B[39m \u001B[43m        \u001B[49m\u001B[43mrequest\u001B[49m\u001B[43m,\u001B[49m\n\u001B[32m    317\u001B[39m \u001B[43m        \u001B[49m\u001B[43mtimeout\u001B[49m\u001B[43m=\u001B[49m\u001B[43mnew_timeout\u001B[49m\u001B[43m,\u001B[49m\n\u001B[32m    318\u001B[39m \u001B[43m        \u001B[49m\u001B[43mmetadata\u001B[49m\u001B[43m=\u001B[49m\u001B[43mnew_metadata\u001B[49m\u001B[43m,\u001B[49m\n\u001B[32m    319\u001B[39m \u001B[43m        \u001B[49m\u001B[43mcredentials\u001B[49m\u001B[43m=\u001B[49m\u001B[43mnew_credentials\u001B[49m\u001B[43m,\u001B[49m\n\u001B[32m    320\u001B[39m \u001B[43m        \u001B[49m\u001B[43mwait_for_ready\u001B[49m\u001B[43m=\u001B[49m\u001B[43mnew_wait_for_ready\u001B[49m\u001B[43m,\u001B[49m\n\u001B[32m    321\u001B[39m \u001B[43m        \u001B[49m\u001B[43mcompression\u001B[49m\u001B[43m=\u001B[49m\u001B[43mnew_compression\u001B[49m\u001B[43m,\u001B[49m\n\u001B[32m    322\u001B[39m \u001B[43m    \u001B[49m\u001B[43m)\u001B[49m\n\u001B[32m    323\u001B[39m     \u001B[38;5;28;01mreturn\u001B[39;00m _UnaryOutcome(response, call)\n",
      "\u001B[36mFile \u001B[39m\u001B[32m~/.pyenv/versions/miniconda3-3.12-25.1.1-2/envs/cell/lib/python3.13/site-packages/grpc/_channel.py:1198\u001B[39m, in \u001B[36m_UnaryUnaryMultiCallable.with_call\u001B[39m\u001B[34m(self, request, timeout, metadata, credentials, wait_for_ready, compression)\u001B[39m\n\u001B[32m   1192\u001B[39m (\n\u001B[32m   1193\u001B[39m     state,\n\u001B[32m   1194\u001B[39m     call,\n\u001B[32m   1195\u001B[39m ) = \u001B[38;5;28mself\u001B[39m._blocking(\n\u001B[32m   1196\u001B[39m     request, timeout, metadata, credentials, wait_for_ready, compression\n\u001B[32m   1197\u001B[39m )\n\u001B[32m-> \u001B[39m\u001B[32m1198\u001B[39m \u001B[38;5;28;01mreturn\u001B[39;00m \u001B[43m_end_unary_response_blocking\u001B[49m\u001B[43m(\u001B[49m\u001B[43mstate\u001B[49m\u001B[43m,\u001B[49m\u001B[43m \u001B[49m\u001B[43mcall\u001B[49m\u001B[43m,\u001B[49m\u001B[43m \u001B[49m\u001B[38;5;28;43;01mTrue\u001B[39;49;00m\u001B[43m,\u001B[49m\u001B[43m \u001B[49m\u001B[38;5;28;43;01mNone\u001B[39;49;00m\u001B[43m)\u001B[49m\n",
      "\u001B[36mFile \u001B[39m\u001B[32m~/.pyenv/versions/miniconda3-3.12-25.1.1-2/envs/cell/lib/python3.13/site-packages/grpc/_channel.py:1006\u001B[39m, in \u001B[36m_end_unary_response_blocking\u001B[39m\u001B[34m(state, call, with_call, deadline)\u001B[39m\n\u001B[32m   1005\u001B[39m \u001B[38;5;28;01melse\u001B[39;00m:\n\u001B[32m-> \u001B[39m\u001B[32m1006\u001B[39m     \u001B[38;5;28;01mraise\u001B[39;00m _InactiveRpcError(state)\n",
      "\u001B[31m_InactiveRpcError\u001B[39m: <_InactiveRpcError of RPC that terminated with:\n\tstatus = StatusCode.UNAVAILABLE\n\tdetails = \"failed to connect to all addresses; last error: UNKNOWN: ipv4:142.250.69.202:443: Failed to connect to remote host: Timeout occurred: FD Shutdown\"\n\tdebug_error_string = \"UNKNOWN:Error received from peer  {grpc_message:\"failed to connect to all addresses; last error: UNKNOWN: ipv4:142.250.69.202:443: Failed to connect to remote host: Timeout occurred: FD Shutdown\", grpc_status:14, created_time:\"2025-03-24T17:41:29.255160718+08:00\"}\"\n>",
      "\nThe above exception was the direct cause of the following exception:\n",
      "\u001B[31mServiceUnavailable\u001B[39m                        Traceback (most recent call last)",
      "\u001B[36mFile \u001B[39m\u001B[32m~/.pyenv/versions/miniconda3-3.12-25.1.1-2/envs/cell/lib/python3.13/site-packages/google/api_core/retry/retry_unary.py:144\u001B[39m, in \u001B[36mretry_target\u001B[39m\u001B[34m(target, predicate, sleep_generator, timeout, on_error, exception_factory, **kwargs)\u001B[39m\n\u001B[32m    143\u001B[39m \u001B[38;5;28;01mtry\u001B[39;00m:\n\u001B[32m--> \u001B[39m\u001B[32m144\u001B[39m     result = \u001B[43mtarget\u001B[49m\u001B[43m(\u001B[49m\u001B[43m)\u001B[49m\n\u001B[32m    145\u001B[39m     \u001B[38;5;28;01mif\u001B[39;00m inspect.isawaitable(result):\n",
      "\u001B[36mFile \u001B[39m\u001B[32m~/.pyenv/versions/miniconda3-3.12-25.1.1-2/envs/cell/lib/python3.13/site-packages/google/api_core/timeout.py:130\u001B[39m, in \u001B[36mTimeToDeadlineTimeout.__call__.<locals>.func_with_timeout\u001B[39m\u001B[34m(*args, **kwargs)\u001B[39m\n\u001B[32m    128\u001B[39m     kwargs[\u001B[33m\"\u001B[39m\u001B[33mtimeout\u001B[39m\u001B[33m\"\u001B[39m] = remaining_timeout\n\u001B[32m--> \u001B[39m\u001B[32m130\u001B[39m \u001B[38;5;28;01mreturn\u001B[39;00m \u001B[43mfunc\u001B[49m\u001B[43m(\u001B[49m\u001B[43m*\u001B[49m\u001B[43margs\u001B[49m\u001B[43m,\u001B[49m\u001B[43m \u001B[49m\u001B[43m*\u001B[49m\u001B[43m*\u001B[49m\u001B[43mkwargs\u001B[49m\u001B[43m)\u001B[49m\n",
      "\u001B[36mFile \u001B[39m\u001B[32m~/.pyenv/versions/miniconda3-3.12-25.1.1-2/envs/cell/lib/python3.13/site-packages/google/api_core/grpc_helpers.py:78\u001B[39m, in \u001B[36m_wrap_unary_errors.<locals>.error_remapped_callable\u001B[39m\u001B[34m(*args, **kwargs)\u001B[39m\n\u001B[32m     77\u001B[39m \u001B[38;5;28;01mexcept\u001B[39;00m grpc.RpcError \u001B[38;5;28;01mas\u001B[39;00m exc:\n\u001B[32m---> \u001B[39m\u001B[32m78\u001B[39m     \u001B[38;5;28;01mraise\u001B[39;00m exceptions.from_grpc_error(exc) \u001B[38;5;28;01mfrom\u001B[39;00m\u001B[38;5;250m \u001B[39m\u001B[34;01mexc\u001B[39;00m\n",
      "\u001B[31mServiceUnavailable\u001B[39m: 503 failed to connect to all addresses; last error: UNKNOWN: ipv4:142.250.69.202:443: Failed to connect to remote host: Timeout occurred: FD Shutdown",
      "\nThe above exception was the direct cause of the following exception:\n",
      "\u001B[31mRetryError\u001B[39m                                Traceback (most recent call last)",
      "\u001B[36mFile \u001B[39m\u001B[32m~/.pyenv/versions/miniconda3-3.12-25.1.1-2/envs/cell/lib/python3.13/site-packages/chromadb/api/models/CollectionCommon.py:90\u001B[39m, in \u001B[36mvalidation_context.<locals>.decorator.<locals>.wrapper\u001B[39m\u001B[34m(self, *args, **kwargs)\u001B[39m\n\u001B[32m     89\u001B[39m \u001B[38;5;28;01mtry\u001B[39;00m:\n\u001B[32m---> \u001B[39m\u001B[32m90\u001B[39m     \u001B[38;5;28;01mreturn\u001B[39;00m \u001B[43mfunc\u001B[49m\u001B[43m(\u001B[49m\u001B[38;5;28;43mself\u001B[39;49m\u001B[43m,\u001B[49m\u001B[43m \u001B[49m\u001B[43m*\u001B[49m\u001B[43margs\u001B[49m\u001B[43m,\u001B[49m\u001B[43m \u001B[49m\u001B[43m*\u001B[49m\u001B[43m*\u001B[49m\u001B[43mkwargs\u001B[49m\u001B[43m)\u001B[49m\n\u001B[32m     91\u001B[39m \u001B[38;5;28;01mexcept\u001B[39;00m \u001B[38;5;167;01mException\u001B[39;00m \u001B[38;5;28;01mas\u001B[39;00m e:\n",
      "\u001B[36mFile \u001B[39m\u001B[32m~/.pyenv/versions/miniconda3-3.12-25.1.1-2/envs/cell/lib/python3.13/site-packages/chromadb/api/models/CollectionCommon.py:213\u001B[39m, in \u001B[36mCollectionCommon._validate_and_prepare_add_request\u001B[39m\u001B[34m(self, ids, embeddings, metadatas, documents, images, uris)\u001B[39m\n\u001B[32m    212\u001B[39m     validate_record_set_for_embedding(record_set=add_records)\n\u001B[32m--> \u001B[39m\u001B[32m213\u001B[39m     add_embeddings = \u001B[38;5;28;43mself\u001B[39;49m\u001B[43m.\u001B[49m\u001B[43m_embed_record_set\u001B[49m\u001B[43m(\u001B[49m\u001B[43mrecord_set\u001B[49m\u001B[43m=\u001B[49m\u001B[43madd_records\u001B[49m\u001B[43m)\u001B[49m\n\u001B[32m    214\u001B[39m \u001B[38;5;28;01melse\u001B[39;00m:\n",
      "\u001B[36mFile \u001B[39m\u001B[32m~/.pyenv/versions/miniconda3-3.12-25.1.1-2/envs/cell/lib/python3.13/site-packages/chromadb/api/models/CollectionCommon.py:526\u001B[39m, in \u001B[36mCollectionCommon._embed_record_set\u001B[39m\u001B[34m(self, record_set, embeddable_fields)\u001B[39m\n\u001B[32m    525\u001B[39m         \u001B[38;5;28;01melse\u001B[39;00m:\n\u001B[32m--> \u001B[39m\u001B[32m526\u001B[39m             \u001B[38;5;28;01mreturn\u001B[39;00m \u001B[38;5;28;43mself\u001B[39;49m\u001B[43m.\u001B[49m\u001B[43m_embed\u001B[49m\u001B[43m(\u001B[49m\u001B[38;5;28;43minput\u001B[39;49m\u001B[43m=\u001B[49m\u001B[43mrecord_set\u001B[49m\u001B[43m[\u001B[49m\u001B[43mfield\u001B[49m\u001B[43m]\u001B[49m\u001B[43m)\u001B[49m  \u001B[38;5;66;03m# type: ignore[literal-required]\u001B[39;00m\n\u001B[32m    527\u001B[39m \u001B[38;5;28;01mraise\u001B[39;00m \u001B[38;5;167;01mValueError\u001B[39;00m(\n\u001B[32m    528\u001B[39m     \u001B[33m\"\u001B[39m\u001B[33mRecord does not contain any non-None fields that can be embedded.\u001B[39m\u001B[33m\"\u001B[39m\n\u001B[32m    529\u001B[39m     \u001B[33mf\u001B[39m\u001B[33m\"\u001B[39m\u001B[33mEmbeddable Fields: \u001B[39m\u001B[38;5;132;01m{\u001B[39;00membeddable_fields\u001B[38;5;132;01m}\u001B[39;00m\u001B[33m\"\u001B[39m\n\u001B[32m    530\u001B[39m     \u001B[33mf\u001B[39m\u001B[33m\"\u001B[39m\u001B[33mRecord Fields: \u001B[39m\u001B[38;5;132;01m{\u001B[39;00mrecord_set\u001B[38;5;132;01m}\u001B[39;00m\u001B[33m\"\u001B[39m\n\u001B[32m    531\u001B[39m )\n",
      "\u001B[36mFile \u001B[39m\u001B[32m~/.pyenv/versions/miniconda3-3.12-25.1.1-2/envs/cell/lib/python3.13/site-packages/chromadb/api/models/CollectionCommon.py:539\u001B[39m, in \u001B[36mCollectionCommon._embed\u001B[39m\u001B[34m(self, input)\u001B[39m\n\u001B[32m    535\u001B[39m     \u001B[38;5;28;01mraise\u001B[39;00m \u001B[38;5;167;01mValueError\u001B[39;00m(\n\u001B[32m    536\u001B[39m         \u001B[33m\"\u001B[39m\u001B[33mYou must provide an embedding function to compute embeddings.\u001B[39m\u001B[33m\"\u001B[39m\n\u001B[32m    537\u001B[39m         \u001B[33m\"\u001B[39m\u001B[33mhttps://docs.trychroma.com/guides/embeddings\u001B[39m\u001B[33m\"\u001B[39m\n\u001B[32m    538\u001B[39m     )\n\u001B[32m--> \u001B[39m\u001B[32m539\u001B[39m \u001B[38;5;28;01mreturn\u001B[39;00m \u001B[38;5;28;43mself\u001B[39;49m\u001B[43m.\u001B[49m\u001B[43m_embedding_function\u001B[49m\u001B[43m(\u001B[49m\u001B[38;5;28;43minput\u001B[39;49m\u001B[43m=\u001B[49m\u001B[38;5;28;43minput\u001B[39;49m\u001B[43m)\u001B[49m\n",
      "\u001B[36mFile \u001B[39m\u001B[32m~/.pyenv/versions/miniconda3-3.12-25.1.1-2/envs/cell/lib/python3.13/site-packages/chromadb/api/types.py:466\u001B[39m, in \u001B[36mEmbeddingFunction.__init_subclass__.<locals>.__call__\u001B[39m\u001B[34m(self, input)\u001B[39m\n\u001B[32m    465\u001B[39m \u001B[38;5;28;01mdef\u001B[39;00m\u001B[38;5;250m \u001B[39m\u001B[34m__call__\u001B[39m(\u001B[38;5;28mself\u001B[39m: EmbeddingFunction[D], \u001B[38;5;28minput\u001B[39m: D) -> Embeddings:\n\u001B[32m--> \u001B[39m\u001B[32m466\u001B[39m     result = \u001B[43mcall\u001B[49m\u001B[43m(\u001B[49m\u001B[38;5;28;43mself\u001B[39;49m\u001B[43m,\u001B[49m\u001B[43m \u001B[49m\u001B[38;5;28;43minput\u001B[39;49m\u001B[43m)\u001B[49m\n\u001B[32m    467\u001B[39m     \u001B[38;5;28;01massert\u001B[39;00m result \u001B[38;5;129;01mis\u001B[39;00m \u001B[38;5;129;01mnot\u001B[39;00m \u001B[38;5;28;01mNone\u001B[39;00m\n",
      "\u001B[36mFile \u001B[39m\u001B[32m~/.pyenv/versions/miniconda3-3.12-25.1.1-2/envs/cell/lib/python3.13/site-packages/chromadb/utils/embedding_functions/google_embedding_function.py:74\u001B[39m, in \u001B[36mGoogleGenerativeAiEmbeddingFunction.__call__\u001B[39m\u001B[34m(self, input)\u001B[39m\n\u001B[32m     72\u001B[39m \u001B[38;5;28;01mdef\u001B[39;00m\u001B[38;5;250m \u001B[39m\u001B[34m__call__\u001B[39m(\u001B[38;5;28mself\u001B[39m, \u001B[38;5;28minput\u001B[39m: Documents) -> Embeddings:\n\u001B[32m     73\u001B[39m     \u001B[38;5;28;01mreturn\u001B[39;00m [\n\u001B[32m---> \u001B[39m\u001B[32m74\u001B[39m         \u001B[38;5;28;43mself\u001B[39;49m\u001B[43m.\u001B[49m\u001B[43m_genai\u001B[49m\u001B[43m.\u001B[49m\u001B[43membed_content\u001B[49m\u001B[43m(\u001B[49m\n\u001B[32m     75\u001B[39m \u001B[43m            \u001B[49m\u001B[43mmodel\u001B[49m\u001B[43m=\u001B[49m\u001B[38;5;28;43mself\u001B[39;49m\u001B[43m.\u001B[49m\u001B[43m_model_name\u001B[49m\u001B[43m,\u001B[49m\n\u001B[32m     76\u001B[39m \u001B[43m            \u001B[49m\u001B[43mcontent\u001B[49m\u001B[43m=\u001B[49m\u001B[43mtext\u001B[49m\u001B[43m,\u001B[49m\n\u001B[32m     77\u001B[39m \u001B[43m            \u001B[49m\u001B[43mtask_type\u001B[49m\u001B[43m=\u001B[49m\u001B[38;5;28;43mself\u001B[39;49m\u001B[43m.\u001B[49m\u001B[43m_task_type\u001B[49m\u001B[43m,\u001B[49m\n\u001B[32m     78\u001B[39m \u001B[43m            \u001B[49m\u001B[43mtitle\u001B[49m\u001B[43m=\u001B[49m\u001B[38;5;28;43mself\u001B[39;49m\u001B[43m.\u001B[49m\u001B[43m_task_title\u001B[49m\u001B[43m,\u001B[49m\n\u001B[32m     79\u001B[39m \u001B[43m        \u001B[49m\u001B[43m)\u001B[49m[\u001B[33m\"\u001B[39m\u001B[33membedding\u001B[39m\u001B[33m\"\u001B[39m]\n\u001B[32m     80\u001B[39m         \u001B[38;5;28;01mfor\u001B[39;00m text \u001B[38;5;129;01min\u001B[39;00m \u001B[38;5;28minput\u001B[39m\n\u001B[32m     81\u001B[39m     ]\n",
      "\u001B[36mFile \u001B[39m\u001B[32m~/.pyenv/versions/miniconda3-3.12-25.1.1-2/envs/cell/lib/python3.13/site-packages/google/generativeai/embedding.py:213\u001B[39m, in \u001B[36membed_content\u001B[39m\u001B[34m(model, content, task_type, title, output_dimensionality, client, request_options)\u001B[39m\n\u001B[32m    206\u001B[39m embedding_request = protos.EmbedContentRequest(\n\u001B[32m    207\u001B[39m     model=model,\n\u001B[32m    208\u001B[39m     content=content_types.to_content(content),\n\u001B[32m   (...)\u001B[39m\u001B[32m    211\u001B[39m     output_dimensionality=output_dimensionality,\n\u001B[32m    212\u001B[39m )\n\u001B[32m--> \u001B[39m\u001B[32m213\u001B[39m embedding_response = \u001B[43mclient\u001B[49m\u001B[43m.\u001B[49m\u001B[43membed_content\u001B[49m\u001B[43m(\u001B[49m\n\u001B[32m    214\u001B[39m \u001B[43m    \u001B[49m\u001B[43membedding_request\u001B[49m\u001B[43m,\u001B[49m\n\u001B[32m    215\u001B[39m \u001B[43m    \u001B[49m\u001B[43m*\u001B[49m\u001B[43m*\u001B[49m\u001B[43mrequest_options\u001B[49m\u001B[43m,\u001B[49m\n\u001B[32m    216\u001B[39m \u001B[43m\u001B[49m\u001B[43m)\u001B[49m\n\u001B[32m    217\u001B[39m embedding_dict = \u001B[38;5;28mtype\u001B[39m(embedding_response).to_dict(embedding_response)\n",
      "\u001B[36mFile \u001B[39m\u001B[32m~/.pyenv/versions/miniconda3-3.12-25.1.1-2/envs/cell/lib/python3.13/site-packages/google/ai/generativelanguage_v1beta/services/generative_service/client.py:1263\u001B[39m, in \u001B[36mGenerativeServiceClient.embed_content\u001B[39m\u001B[34m(self, request, model, content, retry, timeout, metadata)\u001B[39m\n\u001B[32m   1262\u001B[39m \u001B[38;5;66;03m# Send the request.\u001B[39;00m\n\u001B[32m-> \u001B[39m\u001B[32m1263\u001B[39m response = \u001B[43mrpc\u001B[49m\u001B[43m(\u001B[49m\n\u001B[32m   1264\u001B[39m \u001B[43m    \u001B[49m\u001B[43mrequest\u001B[49m\u001B[43m,\u001B[49m\n\u001B[32m   1265\u001B[39m \u001B[43m    \u001B[49m\u001B[43mretry\u001B[49m\u001B[43m=\u001B[49m\u001B[43mretry\u001B[49m\u001B[43m,\u001B[49m\n\u001B[32m   1266\u001B[39m \u001B[43m    \u001B[49m\u001B[43mtimeout\u001B[49m\u001B[43m=\u001B[49m\u001B[43mtimeout\u001B[49m\u001B[43m,\u001B[49m\n\u001B[32m   1267\u001B[39m \u001B[43m    \u001B[49m\u001B[43mmetadata\u001B[49m\u001B[43m=\u001B[49m\u001B[43mmetadata\u001B[49m\u001B[43m,\u001B[49m\n\u001B[32m   1268\u001B[39m \u001B[43m\u001B[49m\u001B[43m)\u001B[49m\n\u001B[32m   1270\u001B[39m \u001B[38;5;66;03m# Done; return the response.\u001B[39;00m\n",
      "\u001B[36mFile \u001B[39m\u001B[32m~/.pyenv/versions/miniconda3-3.12-25.1.1-2/envs/cell/lib/python3.13/site-packages/google/api_core/gapic_v1/method.py:131\u001B[39m, in \u001B[36m_GapicCallable.__call__\u001B[39m\u001B[34m(self, timeout, retry, compression, *args, **kwargs)\u001B[39m\n\u001B[32m    129\u001B[39m     kwargs[\u001B[33m\"\u001B[39m\u001B[33mcompression\u001B[39m\u001B[33m\"\u001B[39m] = compression\n\u001B[32m--> \u001B[39m\u001B[32m131\u001B[39m \u001B[38;5;28;01mreturn\u001B[39;00m \u001B[43mwrapped_func\u001B[49m\u001B[43m(\u001B[49m\u001B[43m*\u001B[49m\u001B[43margs\u001B[49m\u001B[43m,\u001B[49m\u001B[43m \u001B[49m\u001B[43m*\u001B[49m\u001B[43m*\u001B[49m\u001B[43mkwargs\u001B[49m\u001B[43m)\u001B[49m\n",
      "\u001B[36mFile \u001B[39m\u001B[32m~/.pyenv/versions/miniconda3-3.12-25.1.1-2/envs/cell/lib/python3.13/site-packages/google/api_core/retry/retry_unary.py:293\u001B[39m, in \u001B[36mRetry.__call__.<locals>.retry_wrapped_func\u001B[39m\u001B[34m(*args, **kwargs)\u001B[39m\n\u001B[32m    290\u001B[39m sleep_generator = exponential_sleep_generator(\n\u001B[32m    291\u001B[39m     \u001B[38;5;28mself\u001B[39m._initial, \u001B[38;5;28mself\u001B[39m._maximum, multiplier=\u001B[38;5;28mself\u001B[39m._multiplier\n\u001B[32m    292\u001B[39m )\n\u001B[32m--> \u001B[39m\u001B[32m293\u001B[39m \u001B[38;5;28;01mreturn\u001B[39;00m \u001B[43mretry_target\u001B[49m\u001B[43m(\u001B[49m\n\u001B[32m    294\u001B[39m \u001B[43m    \u001B[49m\u001B[43mtarget\u001B[49m\u001B[43m,\u001B[49m\n\u001B[32m    295\u001B[39m \u001B[43m    \u001B[49m\u001B[38;5;28;43mself\u001B[39;49m\u001B[43m.\u001B[49m\u001B[43m_predicate\u001B[49m\u001B[43m,\u001B[49m\n\u001B[32m    296\u001B[39m \u001B[43m    \u001B[49m\u001B[43msleep_generator\u001B[49m\u001B[43m,\u001B[49m\n\u001B[32m    297\u001B[39m \u001B[43m    \u001B[49m\u001B[43mtimeout\u001B[49m\u001B[43m=\u001B[49m\u001B[38;5;28;43mself\u001B[39;49m\u001B[43m.\u001B[49m\u001B[43m_timeout\u001B[49m\u001B[43m,\u001B[49m\n\u001B[32m    298\u001B[39m \u001B[43m    \u001B[49m\u001B[43mon_error\u001B[49m\u001B[43m=\u001B[49m\u001B[43mon_error\u001B[49m\u001B[43m,\u001B[49m\n\u001B[32m    299\u001B[39m \u001B[43m\u001B[49m\u001B[43m)\u001B[49m\n",
      "\u001B[36mFile \u001B[39m\u001B[32m~/.pyenv/versions/miniconda3-3.12-25.1.1-2/envs/cell/lib/python3.13/site-packages/google/api_core/retry/retry_unary.py:153\u001B[39m, in \u001B[36mretry_target\u001B[39m\u001B[34m(target, predicate, sleep_generator, timeout, on_error, exception_factory, **kwargs)\u001B[39m\n\u001B[32m    151\u001B[39m \u001B[38;5;28;01mexcept\u001B[39;00m \u001B[38;5;167;01mException\u001B[39;00m \u001B[38;5;28;01mas\u001B[39;00m exc:\n\u001B[32m    152\u001B[39m     \u001B[38;5;66;03m# defer to shared logic for handling errors\u001B[39;00m\n\u001B[32m--> \u001B[39m\u001B[32m153\u001B[39m     \u001B[43m_retry_error_helper\u001B[49m\u001B[43m(\u001B[49m\n\u001B[32m    154\u001B[39m \u001B[43m        \u001B[49m\u001B[43mexc\u001B[49m\u001B[43m,\u001B[49m\n\u001B[32m    155\u001B[39m \u001B[43m        \u001B[49m\u001B[43mdeadline\u001B[49m\u001B[43m,\u001B[49m\n\u001B[32m    156\u001B[39m \u001B[43m        \u001B[49m\u001B[43msleep\u001B[49m\u001B[43m,\u001B[49m\n\u001B[32m    157\u001B[39m \u001B[43m        \u001B[49m\u001B[43merror_list\u001B[49m\u001B[43m,\u001B[49m\n\u001B[32m    158\u001B[39m \u001B[43m        \u001B[49m\u001B[43mpredicate\u001B[49m\u001B[43m,\u001B[49m\n\u001B[32m    159\u001B[39m \u001B[43m        \u001B[49m\u001B[43mon_error\u001B[49m\u001B[43m,\u001B[49m\n\u001B[32m    160\u001B[39m \u001B[43m        \u001B[49m\u001B[43mexception_factory\u001B[49m\u001B[43m,\u001B[49m\n\u001B[32m    161\u001B[39m \u001B[43m        \u001B[49m\u001B[43mtimeout\u001B[49m\u001B[43m,\u001B[49m\n\u001B[32m    162\u001B[39m \u001B[43m    \u001B[49m\u001B[43m)\u001B[49m\n\u001B[32m    163\u001B[39m     \u001B[38;5;66;03m# if exception not raised, sleep before next attempt\u001B[39;00m\n",
      "\u001B[36mFile \u001B[39m\u001B[32m~/.pyenv/versions/miniconda3-3.12-25.1.1-2/envs/cell/lib/python3.13/site-packages/google/api_core/retry/retry_base.py:221\u001B[39m, in \u001B[36m_retry_error_helper\u001B[39m\u001B[34m(exc, deadline, next_sleep, error_list, predicate_fn, on_error_fn, exc_factory_fn, original_timeout)\u001B[39m\n\u001B[32m    216\u001B[39m     final_exc, source_exc = exc_factory_fn(\n\u001B[32m    217\u001B[39m         error_list,\n\u001B[32m    218\u001B[39m         RetryFailureReason.TIMEOUT,\n\u001B[32m    219\u001B[39m         original_timeout,\n\u001B[32m    220\u001B[39m     )\n\u001B[32m--> \u001B[39m\u001B[32m221\u001B[39m     \u001B[38;5;28;01mraise\u001B[39;00m final_exc \u001B[38;5;28;01mfrom\u001B[39;00m\u001B[38;5;250m \u001B[39m\u001B[34;01msource_exc\u001B[39;00m\n\u001B[32m    222\u001B[39m _LOGGER.debug(\n\u001B[32m    223\u001B[39m     \u001B[33m\"\u001B[39m\u001B[33mRetrying due to \u001B[39m\u001B[38;5;132;01m{}\u001B[39;00m\u001B[33m, sleeping \u001B[39m\u001B[38;5;132;01m{:.1f}\u001B[39;00m\u001B[33ms ...\u001B[39m\u001B[33m\"\u001B[39m.format(error_list[-\u001B[32m1\u001B[39m], next_sleep)\n\u001B[32m    224\u001B[39m )\n",
      "\u001B[31mRetryError\u001B[39m: Timeout of 60.0s exceeded, last exception: 503 failed to connect to all addresses; last error: UNKNOWN: ipv4:142.250.69.202:443: Failed to connect to remote host: Timeout occurred: FD Shutdown",
      "\nDuring handling of the above exception, another exception occurred:\n",
      "\u001B[31mTypeError\u001B[39m                                 Traceback (most recent call last)",
      "\u001B[36mCell\u001B[39m\u001B[36m \u001B[39m\u001B[32mIn[49]\u001B[39m\u001B[32m, line 6\u001B[39m\n\u001B[32m      4\u001B[39m reader = csv.reader(f)\n\u001B[32m      5\u001B[39m \u001B[38;5;28;01mfor\u001B[39;00m i, row \u001B[38;5;129;01min\u001B[39;00m \u001B[38;5;28menumerate\u001B[39m(reader):\n\u001B[32m----> \u001B[39m\u001B[32m6\u001B[39m     \u001B[43mcollection\u001B[49m\u001B[43m.\u001B[49m\u001B[43madd\u001B[49m\u001B[43m(\u001B[49m\n\u001B[32m      7\u001B[39m \u001B[43m        \u001B[49m\u001B[43mdocuments\u001B[49m\u001B[43m \u001B[49m\u001B[43m=\u001B[49m\u001B[43m \u001B[49m\u001B[43mrow\u001B[49m\u001B[43m,\u001B[49m\n\u001B[32m      8\u001B[39m \u001B[43m        \u001B[49m\u001B[43mmetadatas\u001B[49m\u001B[43m \u001B[49m\u001B[43m=\u001B[49m\u001B[43m \u001B[49m\u001B[43m[\u001B[49m\u001B[43m{\u001B[49m\u001B[33;43m\"\u001B[39;49m\u001B[33;43msource\u001B[39;49m\u001B[33;43m\"\u001B[39;49m\u001B[43m:\u001B[49m\u001B[43m \u001B[49m\u001B[33;43m\"\u001B[39;49m\u001B[33;43mquestion\u001B[39;49m\u001B[33;43m\"\u001B[39;49m\u001B[43m}\u001B[49m\u001B[43m,\u001B[49m\u001B[43m \u001B[49m\u001B[43m{\u001B[49m\u001B[33;43m\"\u001B[39;49m\u001B[33;43msource\u001B[39;49m\u001B[33;43m\"\u001B[39;49m\u001B[43m:\u001B[49m\u001B[43m \u001B[49m\u001B[33;43m\"\u001B[39;49m\u001B[33;43manswer\u001B[39;49m\u001B[33;43m\"\u001B[39;49m\u001B[43m}\u001B[49m\u001B[43m]\u001B[49m\u001B[43m,\u001B[49m\n\u001B[32m      9\u001B[39m \u001B[43m        \u001B[49m\u001B[43mids\u001B[49m\u001B[43m \u001B[49m\u001B[43m=\u001B[49m\u001B[43m \u001B[49m\u001B[43m[\u001B[49m\u001B[33;43mf\u001B[39;49m\u001B[33;43m\"\u001B[39;49m\u001B[38;5;132;43;01m{\u001B[39;49;00m\u001B[43mcollection\u001B[49m\u001B[43m.\u001B[49m\u001B[43mname\u001B[49m\u001B[38;5;132;43;01m}\u001B[39;49;00m\u001B[33;43m_q\u001B[39;49m\u001B[38;5;132;43;01m{\u001B[39;49;00m\u001B[43mi\u001B[49m\u001B[38;5;132;43;01m}\u001B[39;49;00m\u001B[33;43m\"\u001B[39;49m\u001B[43m,\u001B[49m\u001B[43m \u001B[49m\u001B[33;43mf\u001B[39;49m\u001B[33;43m\"\u001B[39;49m\u001B[38;5;132;43;01m{\u001B[39;49;00m\u001B[43mcollection\u001B[49m\u001B[43m.\u001B[49m\u001B[43mname\u001B[49m\u001B[38;5;132;43;01m}\u001B[39;49;00m\u001B[33;43m_a\u001B[39;49m\u001B[38;5;132;43;01m{\u001B[39;49;00m\u001B[43mi\u001B[49m\u001B[38;5;132;43;01m}\u001B[39;49;00m\u001B[33;43m\"\u001B[39;49m\u001B[43m]\u001B[49m\n\u001B[32m     10\u001B[39m \u001B[43m    \u001B[49m\u001B[43m)\u001B[49m\n",
      "\u001B[36mFile \u001B[39m\u001B[32m~/.pyenv/versions/miniconda3-3.12-25.1.1-2/envs/cell/lib/python3.13/site-packages/chromadb/api/models/Collection.py:82\u001B[39m, in \u001B[36mCollection.add\u001B[39m\u001B[34m(self, ids, embeddings, metadatas, documents, images, uris)\u001B[39m\n\u001B[32m     47\u001B[39m \u001B[38;5;28;01mdef\u001B[39;00m\u001B[38;5;250m \u001B[39m\u001B[34madd\u001B[39m(\n\u001B[32m     48\u001B[39m     \u001B[38;5;28mself\u001B[39m,\n\u001B[32m     49\u001B[39m     ids: OneOrMany[ID],\n\u001B[32m   (...)\u001B[39m\u001B[32m     59\u001B[39m     uris: Optional[OneOrMany[URI]] = \u001B[38;5;28;01mNone\u001B[39;00m,\n\u001B[32m     60\u001B[39m ) -> \u001B[38;5;28;01mNone\u001B[39;00m:\n\u001B[32m     61\u001B[39m \u001B[38;5;250m    \u001B[39m\u001B[33;03m\"\"\"Add embeddings to the data store.\u001B[39;00m\n\u001B[32m     62\u001B[39m \u001B[33;03m    Args:\u001B[39;00m\n\u001B[32m     63\u001B[39m \u001B[33;03m        ids: The ids of the embeddings you wish to add\u001B[39;00m\n\u001B[32m   (...)\u001B[39m\u001B[32m     79\u001B[39m \n\u001B[32m     80\u001B[39m \u001B[33;03m    \"\"\"\u001B[39;00m\n\u001B[32m---> \u001B[39m\u001B[32m82\u001B[39m     add_request = \u001B[38;5;28;43mself\u001B[39;49m\u001B[43m.\u001B[49m\u001B[43m_validate_and_prepare_add_request\u001B[49m\u001B[43m(\u001B[49m\n\u001B[32m     83\u001B[39m \u001B[43m        \u001B[49m\u001B[43mids\u001B[49m\u001B[43m=\u001B[49m\u001B[43mids\u001B[49m\u001B[43m,\u001B[49m\n\u001B[32m     84\u001B[39m \u001B[43m        \u001B[49m\u001B[43membeddings\u001B[49m\u001B[43m=\u001B[49m\u001B[43membeddings\u001B[49m\u001B[43m,\u001B[49m\n\u001B[32m     85\u001B[39m \u001B[43m        \u001B[49m\u001B[43mmetadatas\u001B[49m\u001B[43m=\u001B[49m\u001B[43mmetadatas\u001B[49m\u001B[43m,\u001B[49m\n\u001B[32m     86\u001B[39m \u001B[43m        \u001B[49m\u001B[43mdocuments\u001B[49m\u001B[43m=\u001B[49m\u001B[43mdocuments\u001B[49m\u001B[43m,\u001B[49m\n\u001B[32m     87\u001B[39m \u001B[43m        \u001B[49m\u001B[43mimages\u001B[49m\u001B[43m=\u001B[49m\u001B[43mimages\u001B[49m\u001B[43m,\u001B[49m\n\u001B[32m     88\u001B[39m \u001B[43m        \u001B[49m\u001B[43muris\u001B[49m\u001B[43m=\u001B[49m\u001B[43muris\u001B[49m\u001B[43m,\u001B[49m\n\u001B[32m     89\u001B[39m \u001B[43m    \u001B[49m\u001B[43m)\u001B[49m\n\u001B[32m     91\u001B[39m     \u001B[38;5;28mself\u001B[39m._client._add(\n\u001B[32m     92\u001B[39m         collection_id=\u001B[38;5;28mself\u001B[39m.id,\n\u001B[32m     93\u001B[39m         ids=add_request[\u001B[33m\"\u001B[39m\u001B[33mids\u001B[39m\u001B[33m\"\u001B[39m],\n\u001B[32m   (...)\u001B[39m\u001B[32m     99\u001B[39m         database=\u001B[38;5;28mself\u001B[39m.database,\n\u001B[32m    100\u001B[39m     )\n",
      "\u001B[36mFile \u001B[39m\u001B[32m~/.pyenv/versions/miniconda3-3.12-25.1.1-2/envs/cell/lib/python3.13/site-packages/chromadb/api/models/CollectionCommon.py:93\u001B[39m, in \u001B[36mvalidation_context.<locals>.decorator.<locals>.wrapper\u001B[39m\u001B[34m(self, *args, **kwargs)\u001B[39m\n\u001B[32m     91\u001B[39m \u001B[38;5;28;01mexcept\u001B[39;00m \u001B[38;5;167;01mException\u001B[39;00m \u001B[38;5;28;01mas\u001B[39;00m e:\n\u001B[32m     92\u001B[39m     msg = \u001B[33mf\u001B[39m\u001B[33m\"\u001B[39m\u001B[38;5;132;01m{\u001B[39;00m\u001B[38;5;28mstr\u001B[39m(e)\u001B[38;5;132;01m}\u001B[39;00m\u001B[33m in \u001B[39m\u001B[38;5;132;01m{\u001B[39;00mname\u001B[38;5;132;01m}\u001B[39;00m\u001B[33m.\u001B[39m\u001B[33m\"\u001B[39m\n\u001B[32m---> \u001B[39m\u001B[32m93\u001B[39m     \u001B[38;5;28;01mraise\u001B[39;00m \u001B[38;5;28;43mtype\u001B[39;49m\u001B[43m(\u001B[49m\u001B[43me\u001B[49m\u001B[43m)\u001B[49m\u001B[43m(\u001B[49m\u001B[43mmsg\u001B[49m\u001B[43m)\u001B[49m.with_traceback(e.__traceback__)\n",
      "\u001B[31mTypeError\u001B[39m: RetryError.__init__() missing 1 required positional argument: 'cause'"
     ]
    }
   ],
   "execution_count": 49
  },
  {
   "metadata": {
    "ExecuteTime": {
     "end_time": "2025-03-24T06:20:28.270908Z",
     "start_time": "2025-03-24T06:20:28.265171Z"
    }
   },
   "cell_type": "code",
   "source": [
    "#|export\n",
    "queries=[\"你们的产品需要多久维护一次?\",\"我怎么设置机器人的安全工作区域?\"]\n",
    "queries[0]"
   ],
   "id": "f314ee21cd5cd18a",
   "outputs": [
    {
     "data": {
      "text/plain": [
       "'你们的产品需要多久维护一次?'"
      ]
     },
     "execution_count": 19,
     "metadata": {},
     "output_type": "execute_result"
    }
   ],
   "execution_count": 19
  },
  {
   "metadata": {
    "ExecuteTime": {
     "end_time": "2025-03-24T05:22:23.811698Z",
     "start_time": "2025-03-24T05:22:23.703357Z"
    }
   },
   "cell_type": "code",
   "source": [
    "results = collections[0].query(\n",
    "    query_texts=queries,\n",
    "    n_results=4\n",
    ")"
   ],
   "id": "d885aba898533f4b",
   "outputs": [],
   "execution_count": 10
  },
  {
   "metadata": {
    "ExecuteTime": {
     "end_time": "2025-03-24T05:22:23.882501Z",
     "start_time": "2025-03-24T05:22:23.874303Z"
    }
   },
   "cell_type": "code",
   "source": "results",
   "id": "da70193ed6f00208",
   "outputs": [
    {
     "data": {
      "text/plain": [
       "{'ids': [['siasun_qa_service_q2',\n",
       "   'siasun_qa_service_a9',\n",
       "   'siasun_qa_service_q21',\n",
       "   'siasun_qa_service_a10'],\n",
       "  ['siasun_qa_service_q1',\n",
       "   'siasun_qa_service_a19',\n",
       "   'siasun_qa_service_q22',\n",
       "   'siasun_qa_service_a18']],\n",
       " 'embeddings': None,\n",
       " 'documents': [['你们的产品，多久需要维护一次？维护保养内容有哪些？',\n",
       "   '作业作为一个重要的单元，所以不能进行批量删除与添加，防止误操作造成损失。',\n",
       "   '宏作业是干什么用的？',\n",
       "   '新松有标准的视觉通讯协议，视觉厂家可以按照此协议进行开发适配。当前适配过的品牌有，沈阳自动化所，欧姆龙、海康、梅卡曼德、视比特、基恩士。'],\n",
       "  ['我们的人员调试不熟练，进度慢，你们厂家能负责调试吗？',\n",
       "   '机器人打精度用到的开关。',\n",
       "   '机器人可以存储多少个作业？',\n",
       "   '零位设定，是机器人在零位时的码盘值，码盘输入、码盘输出是以零位时为零开始计数的码盘值。']],\n",
       " 'uris': None,\n",
       " 'data': None,\n",
       " 'metadatas': [[{'source': 'question'},\n",
       "   {'source': 'answer'},\n",
       "   {'source': 'question'},\n",
       "   {'source': 'answer'}],\n",
       "  [{'source': 'question'},\n",
       "   {'source': 'answer'},\n",
       "   {'source': 'question'},\n",
       "   {'source': 'answer'}]],\n",
       " 'distances': [[0.35835238473584624,\n",
       "   0.8026765812953612,\n",
       "   0.8398664268040978,\n",
       "   0.8905950951966901],\n",
       "  [0.5583867931983068,\n",
       "   0.5964258746641342,\n",
       "   0.6352793698255077,\n",
       "   0.7328770040724006]],\n",
       " 'included': [<IncludeEnum.distances: 'distances'>,\n",
       "  <IncludeEnum.documents: 'documents'>,\n",
       "  <IncludeEnum.metadatas: 'metadatas'>]}"
      ]
     },
     "execution_count": 11,
     "metadata": {},
     "output_type": "execute_result"
    }
   ],
   "execution_count": 11
  },
  {
   "metadata": {
    "ExecuteTime": {
     "end_time": "2025-03-24T05:22:24.166851Z",
     "start_time": "2025-03-24T05:22:24.158167Z"
    }
   },
   "cell_type": "code",
   "source": [
    "# results['metadatas'][0] #[0]['source']\n",
    "results['documents'][0][0]"
   ],
   "id": "c6a9c1661db02f02",
   "outputs": [
    {
     "data": {
      "text/plain": [
       "'你们的产品，多久需要维护一次？维护保养内容有哪些？'"
      ]
     },
     "execution_count": 12,
     "metadata": {},
     "output_type": "execute_result"
    }
   ],
   "execution_count": 12
  },
  {
   "metadata": {
    "ExecuteTime": {
     "end_time": "2025-03-24T05:22:24.429963Z",
     "start_time": "2025-03-24T05:22:24.415969Z"
    }
   },
   "cell_type": "code",
   "source": [
    "colls = client.list_collections()\n",
    "colls[0]"
   ],
   "id": "94d6a395a5b7a803",
   "outputs": [
    {
     "data": {
      "text/plain": [
       "'siasun_qa_service'"
      ]
     },
     "execution_count": 13,
     "metadata": {},
     "output_type": "execute_result"
    }
   ],
   "execution_count": 13
  },
  {
   "metadata": {
    "ExecuteTime": {
     "end_time": "2025-03-24T05:42:11.637269Z",
     "start_time": "2025-03-24T05:42:11.633426Z"
    }
   },
   "cell_type": "code",
   "source": "queries1 = ['你们的产品需要多久维护一次?','宏作业有什么用?']",
   "id": "1332f82fbe473593",
   "outputs": [],
   "execution_count": 47
  },
  {
   "metadata": {
    "ExecuteTime": {
     "end_time": "2025-03-24T05:42:17.138558Z",
     "start_time": "2025-03-24T05:42:17.049232Z"
    }
   },
   "cell_type": "code",
   "source": [
    "\n",
    "results = collections[0].query(\n",
    "    query_texts=queries1,\n",
    "    n_results=4\n",
    ")\n",
    "results\n"
   ],
   "id": "e80b1495078948f0",
   "outputs": [
    {
     "data": {
      "text/plain": [
       "{'ids': [['siasun_qa_service_q2',\n",
       "   'siasun_qa_service_a9',\n",
       "   'siasun_qa_service_q21',\n",
       "   'siasun_qa_service_a10'],\n",
       "  ['siasun_qa_service_q16',\n",
       "   'siasun_qa_service_a20',\n",
       "   'siasun_qa_service_q13',\n",
       "   'siasun_qa_service_a7']],\n",
       " 'embeddings': None,\n",
       " 'documents': [['你们的产品，多久需要维护一次？维护保养内容有哪些？',\n",
       "   '作业作为一个重要的单元，所以不能进行批量删除与添加，防止误操作造成损失。',\n",
       "   '宏作业是干什么用的？',\n",
       "   '新松有标准的视觉通讯协议，视觉厂家可以按照此协议进行开发适配。当前适配过的品牌有，沈阳自动化所，欧姆龙、海康、梅卡曼德、视比特、基恩士。'],\n",
       "  ['离线建模使用是样册的标准杆长，但实际机器人内有杆长补偿，这样建模对离线下发的点位准确性是否有影响？',\n",
       "   '有，离线接口库。',\n",
       "   '欧拉角是什么？有什么用处？新松机器人的欧拉角顺序是什么？',\n",
       "   '还有其它报警跟随，还需要查看其它报警来确认原因。弧焊与离线都会产生离线运动失败的报警。']],\n",
       " 'uris': None,\n",
       " 'data': None,\n",
       " 'metadatas': [[{'source': 'question'},\n",
       "   {'source': 'answer'},\n",
       "   {'source': 'question'},\n",
       "   {'source': 'answer'}],\n",
       "  [{'source': 'question'},\n",
       "   {'source': 'answer'},\n",
       "   {'source': 'question'},\n",
       "   {'source': 'answer'}]],\n",
       " 'distances': [[0.35835238473584624,\n",
       "   0.8026765812953612,\n",
       "   0.8398664268040978,\n",
       "   0.8905950951966901],\n",
       "  [0.5112318120344393,\n",
       "   0.5778327751539375,\n",
       "   0.676073343384295,\n",
       "   0.7153126507950901]],\n",
       " 'included': [<IncludeEnum.distances: 'distances'>,\n",
       "  <IncludeEnum.documents: 'documents'>,\n",
       "  <IncludeEnum.metadatas: 'metadatas'>]}"
      ]
     },
     "execution_count": 48,
     "metadata": {},
     "output_type": "execute_result"
    }
   ],
   "execution_count": 48
  },
  {
   "metadata": {
    "ExecuteTime": {
     "end_time": "2025-03-24T05:22:24.674245Z",
     "start_time": "2025-03-24T05:22:24.502162Z"
    }
   },
   "cell_type": "code",
   "source": [
    "\n",
    "# question = \"你们的产品需要多久维护一次?\"\n",
    "# question = \"你们在售前评估上，如何帮助到我们?\"\n",
    "answers = []\n",
    "for collection in collections:\n",
    "    results = collection.query(\n",
    "        query_texts=queries,\n",
    "        n_results=4\n",
    "    )\n",
    "    docs = []\n",
    "    for i,metadata in enumerate(results['metadatas'][0]):\n",
    "        if metadata['source'] == 'question':\n",
    "            docs.append({'id': results['ids'][0][i],\n",
    "                         'document': results['documents'][0][i],\n",
    "                         'distance':results['distances'][0][i]})\n",
    "    df = pd.DataFrame(docs)\n",
    "    answers.append(df)\n",
    "df_answers = pd.concat(answers, axis=0,ignore_index=True)\n",
    "# df_answers = pd.stack(answers, axis=2)"
   ],
   "id": "22b73eb7792be2ab",
   "outputs": [],
   "execution_count": 14
  },
  {
   "metadata": {
    "ExecuteTime": {
     "end_time": "2025-03-24T05:22:24.726922Z",
     "start_time": "2025-03-24T05:22:24.713995Z"
    }
   },
   "cell_type": "code",
   "source": "df_answers.loc[df_answers['distance'].idxmin()]",
   "id": "f58ee1e3e4554ea0",
   "outputs": [
    {
     "data": {
      "text/plain": [
       "id          siasun_qa_technology_q10\n",
       "document         你们在售前评估上，能提供什么样的帮助？\n",
       "distance                    0.376322\n",
       "Name: 2, dtype: object"
      ]
     },
     "execution_count": 15,
     "metadata": {},
     "output_type": "execute_result"
    }
   ],
   "execution_count": 15
  },
  {
   "metadata": {
    "ExecuteTime": {
     "end_time": "2025-03-24T05:22:24.802435Z",
     "start_time": "2025-03-24T05:22:24.794404Z"
    }
   },
   "cell_type": "code",
   "source": [
    "\n",
    "id_q = df_answers.loc[df_answers['distance'].idxmin()]['id']\n",
    "id_q"
   ],
   "id": "622e9f7c853af379",
   "outputs": [
    {
     "data": {
      "text/plain": [
       "'siasun_qa_technology_q10'"
      ]
     },
     "execution_count": 16,
     "metadata": {},
     "output_type": "execute_result"
    }
   ],
   "execution_count": 16
  },
  {
   "metadata": {
    "ExecuteTime": {
     "end_time": "2025-03-24T05:22:24.874972Z",
     "start_time": "2025-03-24T05:22:24.865740Z"
    }
   },
   "cell_type": "code",
   "source": [
    "\n",
    "id_a_list = id_q.split('_')\n",
    "id_a_list[-1] = id_a_list[-1].replace('q','a')\n",
    "id_a_list"
   ],
   "id": "5929799653473da2",
   "outputs": [
    {
     "data": {
      "text/plain": [
       "['siasun', 'qa', 'technology', 'a10']"
      ]
     },
     "execution_count": 17,
     "metadata": {},
     "output_type": "execute_result"
    }
   ],
   "execution_count": 17
  },
  {
   "metadata": {
    "ExecuteTime": {
     "end_time": "2025-03-24T05:22:24.922547Z",
     "start_time": "2025-03-24T05:22:24.911864Z"
    }
   },
   "cell_type": "code",
   "source": [
    "id_a = '_'.join(id_a_list)\n",
    "id_a"
   ],
   "id": "93a65db8201c85e5",
   "outputs": [
    {
     "data": {
      "text/plain": [
       "'siasun_qa_technology_a10'"
      ]
     },
     "execution_count": 18,
     "metadata": {},
     "output_type": "execute_result"
    }
   ],
   "execution_count": 18
  },
  {
   "metadata": {
    "ExecuteTime": {
     "end_time": "2025-03-24T05:22:25.471411Z",
     "start_time": "2025-03-24T05:22:25.464635Z"
    }
   },
   "cell_type": "code",
   "source": [
    "coll_idx = 0 if id_a_list[-2] == 'service' else 1\n",
    "coll_idx"
   ],
   "id": "5f3b099a6b99bb79",
   "outputs": [
    {
     "data": {
      "text/plain": [
       "1"
      ]
     },
     "execution_count": 19,
     "metadata": {},
     "output_type": "execute_result"
    }
   ],
   "execution_count": 19
  },
  {
   "metadata": {
    "ExecuteTime": {
     "end_time": "2025-03-24T05:22:25.857509Z",
     "start_time": "2025-03-24T05:22:25.845431Z"
    }
   },
   "cell_type": "code",
   "source": [
    "answer = collections[coll_idx].get(id_a)\n",
    "answer['documents']"
   ],
   "id": "54a710916272b975",
   "outputs": [
    {
     "data": {
      "text/plain": [
       "['部分情况可提供现场技术指导，提供成功应用案例经验支持，仿真模拟场景，评估负载等风险，提供机械、电气、软件接口对接。']"
      ]
     },
     "execution_count": 20,
     "metadata": {},
     "output_type": "execute_result"
    }
   ],
   "execution_count": 20
  },
  {
   "metadata": {
    "ExecuteTime": {
     "end_time": "2025-03-24T05:22:26.052756Z",
     "start_time": "2025-03-24T05:22:26.048191Z"
    }
   },
   "cell_type": "code",
   "source": "best_answer = df_answers.loc[df_answers['distance'].idxmin()]",
   "id": "9d82892da75b95cb",
   "outputs": [],
   "execution_count": 21
  },
  {
   "metadata": {
    "ExecuteTime": {
     "end_time": "2025-03-24T05:34:46.307113Z",
     "start_time": "2025-03-24T05:34:46.300108Z"
    }
   },
   "cell_type": "code",
   "source": [
    "def qa(questions:list[str], collections:list[chromadb.Collection]=collections):\n",
    "    matched_questions = []\n",
    "    for collection in collections:\n",
    "        results = collection.query(\n",
    "            query_texts=questions,\n",
    "            n_results=4\n",
    "        )\n",
    "        docs = []\n",
    "        for i,metadata in enumerate(results['metadatas'][0]):\n",
    "            if metadata['source'] == 'question':\n",
    "                docs.append({'id': results['ids'][0][i],\n",
    "                                'document': results['documents'][0][i], \n",
    "                                'distance':results['distances'][0][i]})\n",
    "        df = pd.DataFrame(docs)\n",
    "        matched_questions.append(df)\n",
    "\n",
    "    df_matched_questions = pd.concat(matched_questions,axis=0,ignore_index=True)\n",
    "    best_match_q_id = df_matched_questions.loc[df_matched_questions['distance'].idxmin()]['id']\n",
    "    id_a_list = best_match_q_id.split('_')\n",
    "    id_a_list[-1] = id_a_list[-1].replace('q','a')\n",
    "    id_a = '_'.join(id_a_list)\n",
    "    coll_idx = 0 if id_a_list[-2] == 'service' else 1\n",
    "    best_answer = collections[coll_idx].get(id_a)['documents']\n",
    "    res_text = best_answer[0]\n",
    "    return res_text\n",
    "    # question =\n",
    "    # return answers"
   ],
   "id": "2ea352cd4183e359",
   "outputs": [],
   "execution_count": 42
  },
  {
   "metadata": {
    "ExecuteTime": {
     "end_time": "2025-03-24T05:31:03.115335Z",
     "start_time": "2025-03-24T05:31:03.022097Z"
    }
   },
   "cell_type": "code",
   "source": [
    "\n",
    "question = \"你们的产品需要多久维护一次?\"\n",
    "res = qa(question)\n",
    "res\n"
   ],
   "id": "f749d9cc9a401a32",
   "outputs": [
    {
     "data": {
      "text/plain": [
       "['根据机器人的型号和实际使用情况，制定机器人的保养计划,一般分为日常、3 个月、6 个月、1 年期的维护保养。\\n需要对机器人进行日常点检和定期维护保养，点检工作主要检查设备是否存在漏油、异响、异常震动、异常报警；定期维护保养主要对油脂、线束护套、风扇、电机接头等易损位置进行检查，并定期更换润滑油。具体检验项目及维护周期详见安装维护手册。']"
      ]
     },
     "execution_count": 34,
     "metadata": {},
     "output_type": "execute_result"
    }
   ],
   "execution_count": 34
  },
  {
   "metadata": {
    "ExecuteTime": {
     "end_time": "2025-03-24T05:31:32.525330Z",
     "start_time": "2025-03-24T05:31:32.521033Z"
    }
   },
   "cell_type": "code",
   "source": "print(res[0])",
   "id": "29b2f84aa0784af1",
   "outputs": [
    {
     "name": "stdout",
     "output_type": "stream",
     "text": [
      "根据机器人的型号和实际使用情况，制定机器人的保养计划,一般分为日常、3 个月、6 个月、1 年期的维护保养。\n",
      "需要对机器人进行日常点检和定期维护保养，点检工作主要检查设备是否存在漏油、异响、异常震动、异常报警；定期维护保养主要对油脂、线束护套、风扇、电机接头等易损位置进行检查，并定期更换润滑油。具体检验项目及维护周期详见安装维护手册。\n"
     ]
    }
   ],
   "execution_count": 36
  },
  {
   "metadata": {
    "ExecuteTime": {
     "end_time": "2025-03-24T05:34:52.105629Z",
     "start_time": "2025-03-24T05:34:51.917064Z"
    }
   },
   "cell_type": "code",
   "source": [
    "# |export\n",
    "iface = gr.Interface(fn=qa, inputs=gr.Text(value=\"多久维护一次产品?\"), outputs=\"text\")\n",
    "iface.launch(width=500,share=False)"
   ],
   "id": "ad2f204e6ab55bfc",
   "outputs": [
    {
     "name": "stdout",
     "output_type": "stream",
     "text": [
      "* Running on local URL:  http://127.0.0.1:7860\n",
      "\n",
      "To create a public link, set `share=True` in `launch()`.\n"
     ]
    },
    {
     "data": {
      "text/plain": [
       "<IPython.core.display.HTML object>"
      ],
      "text/html": [
       "<div><iframe src=\"http://127.0.0.1:7860/\" width=\"500\" height=\"500\" allow=\"autoplay; camera; microphone; clipboard-read; clipboard-write;\" frameborder=\"0\" allowfullscreen></iframe></div>"
      ]
     },
     "metadata": {},
     "output_type": "display_data"
    },
    {
     "data": {
      "text/plain": []
     },
     "execution_count": 43,
     "metadata": {},
     "output_type": "execute_result"
    }
   ],
   "execution_count": 43
  },
  {
   "metadata": {
    "ExecuteTime": {
     "end_time": "2025-03-24T05:34:33.629905Z",
     "start_time": "2025-03-24T05:34:33.445274Z"
    }
   },
   "cell_type": "code",
   "source": [
    "# this is only necessary in a notebook\n",
    "iface.close()"
   ],
   "id": "888b1b0530808ebe",
   "outputs": [
    {
     "name": "stdout",
     "output_type": "stream",
     "text": [
      "Closing server running on port: 7860\n"
     ]
    }
   ],
   "execution_count": 41
  },
  {
   "metadata": {},
   "cell_type": "markdown",
   "source": "## Create a `requirements.txt` file",
   "id": "7dc11529d1b85a84"
  },
  {
   "metadata": {
    "ExecuteTime": {
     "end_time": "2025-03-24T05:22:58.708249Z",
     "start_time": "2025-03-24T05:22:58.701118Z"
    }
   },
   "cell_type": "code",
   "source": [
    "%%writefile ../requirements.txt\n",
    "fastcore"
   ],
   "id": "c39a06f76c3da0f5",
   "outputs": [
    {
     "name": "stdout",
     "output_type": "stream",
     "text": [
      "Overwriting ../requirements.txt\n"
     ]
    }
   ],
   "execution_count": 26
  },
  {
   "metadata": {
    "ExecuteTime": {
     "end_time": "2025-03-24T05:22:59.021659Z",
     "start_time": "2025-03-24T05:22:58.757093Z"
    }
   },
   "cell_type": "code",
   "source": [
    "# | hide\n",
    "import nbdev\n",
    "\n",
    "nbdev.nbdev_export()"
   ],
   "id": "9df14eac7a58493f",
   "outputs": [],
   "execution_count": 27
  },
  {
   "metadata": {
    "ExecuteTime": {
     "end_time": "2025-03-24T05:22:59.039834Z",
     "start_time": "2025-03-24T05:22:59.035487Z"
    }
   },
   "cell_type": "code",
   "source": "# |default_exp data_preprocessing",
   "id": "648dc291964559de",
   "outputs": [],
   "execution_count": 28
  },
  {
   "metadata": {},
   "cell_type": "markdown",
   "source": "## Convert this notebook into a Gradio app",
   "id": "4755b2e93c82953c"
  },
  {
   "metadata": {
    "ExecuteTime": {
     "end_time": "2025-03-24T05:22:59.087612Z",
     "start_time": "2025-03-24T05:22:59.082988Z"
    }
   },
   "cell_type": "code",
   "source": [
    "# from nbdev.export import nb_export\n",
    "# nb_export('01_gradio.ipynb', lib_path='.', name='gradio')"
   ],
   "id": "9549f5fd490578dd",
   "outputs": [],
   "execution_count": 29
  },
  {
   "metadata": {
    "ExecuteTime": {
     "end_time": "2025-03-24T05:22:59.160450Z",
     "start_time": "2025-03-24T05:22:59.133427Z"
    }
   },
   "cell_type": "code",
   "source": [
    "# | hide\n",
    "import nbdev\n",
    "\n",
    "nbdev.nbdev_export()"
   ],
   "id": "6118d49775df611a",
   "outputs": [],
   "execution_count": 30
  }
 ],
 "metadata": {
  "kernelspec": {
   "name": "python3",
   "language": "python",
   "display_name": "Python 3 (ipykernel)"
  }
 },
 "nbformat": 5,
 "nbformat_minor": 9
}
