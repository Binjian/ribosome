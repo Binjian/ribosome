{
 "cells": [
  {
   "metadata": {},
   "cell_type": "raw",
   "source": [
    "---\n",
    "output-file: rag.html\n",
    "title: rag tutorial\n",
    "---"
   ],
   "id": "4bd68effe0fec893"
  },
  {
   "metadata": {
    "ExecuteTime": {
     "end_time": "2025-03-26T05:26:29.898741Z",
     "start_time": "2025-03-26T05:26:29.894899Z"
    }
   },
   "cell_type": "code",
   "source": "# |default_exp rag",
   "id": "86a7d3fa89528e4f",
   "outputs": [],
   "execution_count": 1
  },
  {
   "metadata": {},
   "cell_type": "markdown",
   "source": "## Install dependencies",
   "id": "40bae3045488c83c"
  },
  {
   "metadata": {},
   "cell_type": "markdown",
   "source": "## Make an app with Gradio",
   "id": "8689e7841c3c3942"
  },
  {
   "metadata": {
    "ExecuteTime": {
     "end_time": "2025-03-26T05:26:33.644982Z",
     "start_time": "2025-03-26T05:26:29.955405Z"
    }
   },
   "cell_type": "code",
   "source": [
    "from datetime import datetime\n",
    "\n",
    "# |export\n",
    "import ollama\n",
    "import re\n",
    "import gradio as gr\n",
    "from concurrent.futures import ThreadPoolExecutor\n",
    "from langchain.text_splitter import RecursiveCharacterTextSplitter\n",
    "from langchain_community.document_loaders import PyMuPDFLoader\n",
    "from langchain_ollama import OllamaEmbeddings\n",
    "from chromadb.config import Settings\n",
    "from chromadb import Client\n",
    "import chromadb\n",
    "from langchain.vectorstores import Chroma\n",
    "from dotenv import load_dotenv\n",
    "import os\n",
    "import csv\n",
    "from google import genai\n",
    "from google.genai import types\n",
    "from fastcore.net import urljson, HTTPError\n",
    "from openai import api_key\n",
    "from openai import OpenAI\n",
    "import openai"
   ],
   "id": "c3ed1a604344bdea",
   "outputs": [],
   "execution_count": 2
  },
  {
   "metadata": {
    "ExecuteTime": {
     "end_time": "2025-03-26T05:26:33.791985Z",
     "start_time": "2025-03-26T05:26:33.787496Z"
    }
   },
   "cell_type": "code",
   "source": [
    "# |export\n",
    "import textwrap\n",
    "import numpy as np\n",
    "from datetime import datetime\n",
    "import pandas as pd\n",
    "from chromadb import Documents, EmbeddingFunction, Embeddings\n",
    "from IPython.display import Markdown\n",
    "# import chromadb.utils.embedding_functions as embedding_functions\n",
    "# from chromadb.utils.embedding_functions import OpenAIEmbeddingFunction"
   ],
   "id": "c0dbf8f53e3c0074",
   "outputs": [],
   "execution_count": 3
  },
  {
   "metadata": {
    "ExecuteTime": {
     "end_time": "2025-03-26T05:26:33.806914Z",
     "start_time": "2025-03-26T05:26:33.800272Z"
    }
   },
   "cell_type": "code",
   "source": [
    "load_dotenv()\n",
    "# deepseek_key = os.getenv('DEEPSEEK_R1_bAPI_KEY')\n",
    "gemini_key = os.getenv('GEMINI_API_KEY')"
   ],
   "id": "74b9711b97c3badd",
   "outputs": [],
   "execution_count": 4
  },
  {
   "metadata": {
    "ExecuteTime": {
     "end_time": "2025-03-26T05:29:45.365502Z",
     "start_time": "2025-03-26T05:29:45.362534Z"
    }
   },
   "cell_type": "code",
   "source": "print(os.environ.get('HTTPS_PROXY'))",
   "id": "93216319d0c451ff",
   "outputs": [
    {
     "name": "stdout",
     "output_type": "stream",
     "text": [
      "http://127.0.0.1:20171\n"
     ]
    }
   ],
   "execution_count": 7
  },
  {
   "metadata": {
    "ExecuteTime": {
     "end_time": "2025-03-26T05:29:48.823934Z",
     "start_time": "2025-03-26T05:29:47.559219Z"
    }
   },
   "cell_type": "code",
   "source": [
    "import requests\n",
    "requests.get(\"https://google.com\")"
   ],
   "id": "3aac6dbc5a649418",
   "outputs": [
    {
     "data": {
      "text/plain": [
       "<Response [200]>"
      ]
     },
     "execution_count": 8,
     "metadata": {},
     "output_type": "execute_result"
    }
   ],
   "execution_count": 8
  },
  {
   "metadata": {
    "ExecuteTime": {
     "end_time": "2025-03-26T05:29:51.530111Z",
     "start_time": "2025-03-26T05:29:51.498399Z"
    }
   },
   "cell_type": "code",
   "source": "client = genai.Client(api_key=gemini_key)",
   "id": "7f542994eda15019",
   "outputs": [],
   "execution_count": 9
  },
  {
   "metadata": {
    "ExecuteTime": {
     "end_time": "2025-03-26T05:30:08.548906Z",
     "start_time": "2025-03-26T05:30:06.443971Z"
    }
   },
   "cell_type": "code",
   "source": [
    "all_models = client.models.list()\n",
    "for m in all_models.page:\n",
    "    if 'embedContent' in m.supported_actions:\n",
    "        print(m.name)"
   ],
   "id": "c738b10d86326ccc",
   "outputs": [
    {
     "name": "stdout",
     "output_type": "stream",
     "text": [
      "models/embedding-001\n",
      "models/text-embedding-004\n",
      "models/gemini-embedding-exp-03-07\n",
      "models/gemini-embedding-exp\n"
     ]
    }
   ],
   "execution_count": 10
  },
  {
   "metadata": {
    "ExecuteTime": {
     "end_time": "2025-03-26T05:30:10.746558Z",
     "start_time": "2025-03-26T05:30:10.742575Z"
    }
   },
   "cell_type": "code",
   "source": [
    "#| export\n",
    "class GeminiEmbeddingFunction(EmbeddingFunction):\n",
    "    def __call__(self, input: Documents) -> Embeddings:\n",
    "        model = \"models/text-embedding-004\"\n",
    "        # model = \"models/gemini-embedding-exp-03-07\"\n",
    "        # model = \"models/text-embedding-001\"\n",
    "        title = \"Custom query\"\n",
    "        result = client.models.embed_content(model=model,\n",
    "                                   contents=input,\n",
    "                                   config=types.EmbedContentConfig(task_type='SEMANTIC_SIMILARITY'),\n",
    "                                   # config=types.EmbedContentConfig(task_type='RETRIEVAL_DOCUMENT'),\n",
    "                                   )\n",
    "        return result.embeddings[0].values"
   ],
   "id": "46b2bc63bd67f6e8",
   "outputs": [],
   "execution_count": 11
  },
  {
   "metadata": {
    "ExecuteTime": {
     "end_time": "2025-03-26T05:30:14.927920Z",
     "start_time": "2025-03-26T05:30:14.923128Z"
    }
   },
   "cell_type": "code",
   "source": "'p'+str(1)",
   "id": "7f24df6ec25ad94f",
   "outputs": [
    {
     "data": {
      "text/plain": [
       "'p1'"
      ]
     },
     "execution_count": 12,
     "metadata": {},
     "output_type": "execute_result"
    }
   ],
   "execution_count": 12
  },
  {
   "metadata": {
    "ExecuteTime": {
     "end_time": "2025-03-26T05:30:17.704633Z",
     "start_time": "2025-03-26T05:30:17.699560Z"
    }
   },
   "cell_type": "code",
   "source": [
    "#| export\n",
    "def create_chroma_db(documents, name):\n",
    "    chroma_client = chromadb.PersistentClient(path=\"../db\")\n",
    "    # chroma_client = chromadb.Client()\n",
    "    coll = chroma_client.get_or_create_collection(name=name,\n",
    "                                                embedding_function=GeminiEmbeddingFunction(),\n",
    "                                                  metadata={\n",
    "                                                      \"description\": \"Employee manual\",\n",
    "                                                      \"created_by\": \"binjian\",\n",
    "                                                      \"created\": str(datetime.now())\n",
    "                                                  })\n",
    "    # coll.add(\n",
    "    #     documents=[d.page_content for d in documents],\n",
    "    #     metadatas=[d.metadata for d in documents],\n",
    "    #     ids=['p'+str(i+1) for i in range(len(documents))]\n",
    "    # )\n",
    "    # return coll\n",
    "    for i,d  in enumerate(documents):\n",
    "         try:\n",
    "             coll.add(\n",
    "                 documents=d.page_content,\n",
    "                 metadatas=d.metadata,\n",
    "                 ids=str(i+1)\n",
    "             )\n",
    "             print(f\"Added document {i+1}\")\n",
    "         except Exception as e:\n",
    "             print(f\"{i+1},{e}\")\n",
    "\n",
    "    return coll"
   ],
   "id": "d189a8231ac5389b",
   "outputs": [],
   "execution_count": 13
  },
  {
   "metadata": {
    "ExecuteTime": {
     "end_time": "2025-03-26T05:30:24.551978Z",
     "start_time": "2025-03-26T05:30:23.740835Z"
    }
   },
   "cell_type": "code",
   "source": [
    "#| e# xport\n",
    "loader = PyMuPDFLoader(\"../res/DeepSeek_R1.pdf\")\n",
    "documents = loader.load()\n",
    "docs = [d.page_content for d in documents]"
   ],
   "id": "ee088ba496424b69",
   "outputs": [],
   "execution_count": 14
  },
  {
   "metadata": {
    "ExecuteTime": {
     "end_time": "2025-03-26T05:30:30.446724Z",
     "start_time": "2025-03-26T05:30:29.651521Z"
    }
   },
   "cell_type": "code",
   "source": [
    "result = client.models.embed_content(#model=\"models/gemini-embedding-exp-03-07\",\n",
    "                                     model=\"models/text-embedding-004\",\n",
    "                                     contents=documents[0].page_content,\n",
    "                                     config=types.EmbedContentConfig(task_type='SEMANTIC_SIMILARITY')\n",
    "                                     )"
   ],
   "id": "ab0672146eefca",
   "outputs": [],
   "execution_count": 15
  },
  {
   "metadata": {
    "ExecuteTime": {
     "end_time": "2025-03-26T05:30:35.851560Z",
     "start_time": "2025-03-26T05:30:35.839724Z"
    }
   },
   "cell_type": "code",
   "source": "result.embeddings[0].values",
   "id": "58eb63a6efaddc16",
   "outputs": [
    {
     "data": {
      "text/plain": [
       "[-0.005321432,\n",
       " 0.0023961603,\n",
       " -0.054761603,\n",
       " 0.014361784,\n",
       " 0.022462582,\n",
       " 0.04692675,\n",
       " 0.021321893,\n",
       " 0.013300336,\n",
       " -0.017185612,\n",
       " -0.06399107,\n",
       " 0.0034897667,\n",
       " 0.07250505,\n",
       " 0.032994296,\n",
       " 0.029214822,\n",
       " 0.056890476,\n",
       " -0.0035143262,\n",
       " 0.087437496,\n",
       " 0.068535805,\n",
       " -0.045277454,\n",
       " 0.01164426,\n",
       " -0.0400441,\n",
       " -0.015364517,\n",
       " -0.009231976,\n",
       " -0.042674735,\n",
       " -0.047258932,\n",
       " -0.060211927,\n",
       " 0.0677147,\n",
       " -0.015525728,\n",
       " 0.020592438,\n",
       " -0.048398323,\n",
       " 0.02014073,\n",
       " 0.029914249,\n",
       " 0.0340472,\n",
       " -0.07474625,\n",
       " 0.03429146,\n",
       " 0.020654717,\n",
       " 0.0020258583,\n",
       " -0.012901867,\n",
       " -0.019215176,\n",
       " -0.025971308,\n",
       " -0.02988938,\n",
       " 0.03155073,\n",
       " -0.004431291,\n",
       " 0.0058627157,\n",
       " -0.06494266,\n",
       " -0.056483135,\n",
       " -0.016261045,\n",
       " -0.01741983,\n",
       " -0.025090039,\n",
       " 0.019287035,\n",
       " 0.020605098,\n",
       " -0.05946599,\n",
       " -0.034993414,\n",
       " -0.009929958,\n",
       " -0.027896129,\n",
       " -0.054743182,\n",
       " -0.059155043,\n",
       " -0.015893215,\n",
       " 0.06430048,\n",
       " 0.0014203138,\n",
       " -0.03364598,\n",
       " -0.045411274,\n",
       " -0.026156532,\n",
       " -0.01872012,\n",
       " 0.0024419674,\n",
       " -0.02921977,\n",
       " -0.062408578,\n",
       " 0.019189037,\n",
       " -0.019649548,\n",
       " -0.03873824,\n",
       " 0.022911834,\n",
       " 0.019864144,\n",
       " -0.06208486,\n",
       " 0.054835573,\n",
       " 0.022637388,\n",
       " -0.059410185,\n",
       " 0.040797316,\n",
       " -0.044153728,\n",
       " -0.0021285708,\n",
       " 0.08695107,\n",
       " -0.01418735,\n",
       " -0.009530268,\n",
       " 0.0660819,\n",
       " 0.032140855,\n",
       " 0.059003603,\n",
       " -0.035092447,\n",
       " -0.014211249,\n",
       " -0.07255181,\n",
       " -0.11236977,\n",
       " -0.026741508,\n",
       " 0.062575534,\n",
       " 0.010853099,\n",
       " -0.009150456,\n",
       " 0.061042476,\n",
       " 0.06360194,\n",
       " -0.013418469,\n",
       " -0.037316505,\n",
       " -0.0009070587,\n",
       " 0.03490659,\n",
       " 0.01376827,\n",
       " -0.026874326,\n",
       " -0.023682347,\n",
       " 0.004002613,\n",
       " 0.0008921814,\n",
       " 0.013720724,\n",
       " 0.0974538,\n",
       " -0.014765833,\n",
       " -0.03088811,\n",
       " -0.0942131,\n",
       " 0.02392681,\n",
       " -0.039781146,\n",
       " 0.018855982,\n",
       " 0.0067062033,\n",
       " 0.017873418,\n",
       " -0.014524088,\n",
       " -0.00809024,\n",
       " 0.028351666,\n",
       " 0.060901593,\n",
       " -0.027243853,\n",
       " 0.00051922747,\n",
       " 0.001197602,\n",
       " 0.04141558,\n",
       " -0.04597192,\n",
       " 0.07810163,\n",
       " 0.046139985,\n",
       " 0.04191637,\n",
       " 0.0024503744,\n",
       " 0.013596956,\n",
       " 0.0047754976,\n",
       " -0.035205066,\n",
       " 0.08467698,\n",
       " -0.05864192,\n",
       " -0.051207498,\n",
       " -0.007422633,\n",
       " -0.0030723375,\n",
       " 0.008041748,\n",
       " 0.04646068,\n",
       " -0.0005766199,\n",
       " -0.037112694,\n",
       " 0.09285865,\n",
       " -0.03520331,\n",
       " -0.016428627,\n",
       " -0.043157976,\n",
       " 0.03051432,\n",
       " 0.019781534,\n",
       " -0.058240276,\n",
       " -0.020200012,\n",
       " 0.04808312,\n",
       " -0.0050068977,\n",
       " 0.009992507,\n",
       " -0.019869566,\n",
       " -0.068268225,\n",
       " -0.004887843,\n",
       " -0.015554405,\n",
       " -0.06137776,\n",
       " 0.023115264,\n",
       " 0.03551531,\n",
       " -0.011840228,\n",
       " 0.06550118,\n",
       " -0.037949782,\n",
       " 0.028444363,\n",
       " -0.04494697,\n",
       " -0.006061298,\n",
       " -0.014324108,\n",
       " -0.0115115605,\n",
       " -0.06590569,\n",
       " -0.009738325,\n",
       " -0.07384213,\n",
       " 0.016777737,\n",
       " 0.010668574,\n",
       " 0.0101992125,\n",
       " 0.027486918,\n",
       " -0.059067637,\n",
       " -0.008990219,\n",
       " 0.020807084,\n",
       " 0.023163546,\n",
       " 0.02399773,\n",
       " -0.018812781,\n",
       " -0.1148959,\n",
       " -0.0614961,\n",
       " 0.022719605,\n",
       " 0.021555247,\n",
       " 0.008365611,\n",
       " -0.018082948,\n",
       " 0.015211298,\n",
       " -0.02555146,\n",
       " -0.005756656,\n",
       " 0.026777215,\n",
       " 0.003670919,\n",
       " 0.053664133,\n",
       " -0.014338897,\n",
       " -0.048903424,\n",
       " 0.022851942,\n",
       " -0.009816098,\n",
       " 0.0054124533,\n",
       " 0.047502324,\n",
       " 0.07745594,\n",
       " -0.05969509,\n",
       " -0.00838859,\n",
       " -0.0387248,\n",
       " 0.010636876,\n",
       " -0.0013603807,\n",
       " 0.00025785848,\n",
       " -0.023555916,\n",
       " 0.010235368,\n",
       " -0.0029517275,\n",
       " 0.017744794,\n",
       " -0.042159893,\n",
       " 0.012923854,\n",
       " -0.021559427,\n",
       " -0.031365175,\n",
       " -0.0034376432,\n",
       " 0.017202672,\n",
       " -0.034229588,\n",
       " -0.014127603,\n",
       " 0.036612034,\n",
       " 0.052291434,\n",
       " -0.014869609,\n",
       " 0.08083312,\n",
       " -0.041706033,\n",
       " -0.024443742,\n",
       " -0.03892794,\n",
       " -0.038905017,\n",
       " 0.031882193,\n",
       " 0.07567876,\n",
       " 0.044284537,\n",
       " 0.0040023047,\n",
       " -0.022579286,\n",
       " -0.037684057,\n",
       " -0.087064475,\n",
       " -0.0066415593,\n",
       " 0.026869658,\n",
       " 0.010489905,\n",
       " 0.02903804,\n",
       " 0.009892036,\n",
       " 0.031572547,\n",
       " 0.031474523,\n",
       " -0.0018981511,\n",
       " -0.050667472,\n",
       " -0.021641985,\n",
       " -0.050030682,\n",
       " 0.05499314,\n",
       " 0.023261549,\n",
       " -0.050774414,\n",
       " 0.031250205,\n",
       " 0.052179996,\n",
       " 0.041965324,\n",
       " -0.01211393,\n",
       " -0.05746591,\n",
       " -0.039583515,\n",
       " -0.03549137,\n",
       " -0.021483164,\n",
       " -0.042991504,\n",
       " 0.03049659,\n",
       " -0.03314226,\n",
       " 0.014569733,\n",
       " 0.073971964,\n",
       " -0.0033622903,\n",
       " -0.06692956,\n",
       " 0.01733764,\n",
       " 0.032824032,\n",
       " -0.056555722,\n",
       " 0.01546294,\n",
       " -0.026071936,\n",
       " -0.02686928,\n",
       " -0.083753586,\n",
       " -0.014360876,\n",
       " -0.021247176,\n",
       " -0.022381641,\n",
       " -0.0131684225,\n",
       " 0.020492107,\n",
       " 0.001245937,\n",
       " -0.037853476,\n",
       " -0.056755178,\n",
       " -0.030391717,\n",
       " 0.011037326,\n",
       " -0.03946488,\n",
       " 0.016453976,\n",
       " -0.061353825,\n",
       " -0.015711805,\n",
       " 0.025359677,\n",
       " 0.018860184,\n",
       " -0.016234074,\n",
       " -0.022717066,\n",
       " 0.018917775,\n",
       " -0.04222098,\n",
       " -0.06514407,\n",
       " 0.023059584,\n",
       " -0.024972992,\n",
       " -0.01412898,\n",
       " 0.013017843,\n",
       " 0.062585704,\n",
       " 0.0011456192,\n",
       " -0.09153212,\n",
       " 0.019138714,\n",
       " 0.029152874,\n",
       " 0.03405493,\n",
       " 0.032539282,\n",
       " -0.014773085,\n",
       " -0.0065839156,\n",
       " -0.008285223,\n",
       " -0.021229701,\n",
       " 0.038821436,\n",
       " 0.037289735,\n",
       " 0.05864351,\n",
       " 0.025182327,\n",
       " -0.032144986,\n",
       " -0.015155843,\n",
       " -0.030657493,\n",
       " 0.020822493,\n",
       " 0.045091394,\n",
       " 0.007068032,\n",
       " -0.07879784,\n",
       " -0.052078243,\n",
       " -0.06380454,\n",
       " -0.02954817,\n",
       " -0.073174685,\n",
       " -0.008106598,\n",
       " -0.010088825,\n",
       " 0.03640498,\n",
       " 0.013354535,\n",
       " -0.033022046,\n",
       " -0.060954005,\n",
       " -0.047525935,\n",
       " 0.042248175,\n",
       " -0.0074230456,\n",
       " -0.031792767,\n",
       " 0.014532849,\n",
       " -0.018540867,\n",
       " -0.042820048,\n",
       " 0.02509971,\n",
       " 0.025753425,\n",
       " 0.009647767,\n",
       " -0.041021243,\n",
       " -0.012635564,\n",
       " -0.031860888,\n",
       " -0.008777999,\n",
       " 0.022218034,\n",
       " 0.030333053,\n",
       " 0.0046914197,\n",
       " 0.044931863,\n",
       " -0.0042611784,\n",
       " 0.05495089,\n",
       " -0.00038677067,\n",
       " 0.012860382,\n",
       " 0.007040782,\n",
       " -0.05232158,\n",
       " -0.0039794394,\n",
       " -0.0040531554,\n",
       " 0.0028153735,\n",
       " -0.004638581,\n",
       " 0.02219553,\n",
       " 0.047643103,\n",
       " -0.016253889,\n",
       " -0.0053950204,\n",
       " 0.020998728,\n",
       " 0.03897153,\n",
       " -0.01101026,\n",
       " 0.005134857,\n",
       " -0.02437797,\n",
       " -0.0011509381,\n",
       " 0.017454939,\n",
       " -0.021301098,\n",
       " 0.040872727,\n",
       " 0.028418064,\n",
       " -0.0029907073,\n",
       " -0.0053260587,\n",
       " -0.0034297432,\n",
       " -0.024014398,\n",
       " 0.011002853,\n",
       " 0.011108732,\n",
       " 0.047111835,\n",
       " 0.03205495,\n",
       " -0.007567381,\n",
       " -0.015256366,\n",
       " -0.061375473,\n",
       " -0.01668384,\n",
       " 0.051769674,\n",
       " 0.023910487,\n",
       " -0.03973422,\n",
       " -0.0036668607,\n",
       " -0.055310436,\n",
       " -0.034611523,\n",
       " -0.009270093,\n",
       " -0.02183379,\n",
       " 0.059426185,\n",
       " -0.043035544,\n",
       " -0.03045064,\n",
       " -0.007978692,\n",
       " -0.00013418862,\n",
       " -0.0044994294,\n",
       " -0.0001875875,\n",
       " 0.031460322,\n",
       " 0.044576056,\n",
       " -0.0011515503,\n",
       " 0.009572807,\n",
       " -0.039892618,\n",
       " 0.07865896,\n",
       " 0.0016928118,\n",
       " 0.023901256,\n",
       " 0.011995641,\n",
       " -0.00037715564,\n",
       " 0.033066384,\n",
       " -0.056751262,\n",
       " -0.017495964,\n",
       " -0.0077498476,\n",
       " 0.073953636,\n",
       " -0.00035309215,\n",
       " 0.000995679,\n",
       " -0.03401169,\n",
       " -0.03176795,\n",
       " 0.0009147456,\n",
       " -0.033016577,\n",
       " 0.069158755,\n",
       " -0.027995717,\n",
       " -0.029090906,\n",
       " 0.0035980663,\n",
       " -0.002755097,\n",
       " -0.024834815,\n",
       " 0.013153209,\n",
       " 0.030039895,\n",
       " 0.01167521,\n",
       " 0.047482662,\n",
       " 0.026223471,\n",
       " 0.01129599,\n",
       " 0.0071192733,\n",
       " -0.0024927647,\n",
       " -0.019672403,\n",
       " 0.017008945,\n",
       " 0.024428606,\n",
       " -0.017288001,\n",
       " 0.0030875197,\n",
       " 0.0023783827,\n",
       " 0.011648846,\n",
       " 0.004137528,\n",
       " 0.051607255,\n",
       " 0.024204748,\n",
       " -0.05332787,\n",
       " -0.026040606,\n",
       " 0.0045517446,\n",
       " 0.002371719,\n",
       " 0.026846614,\n",
       " -0.030499239,\n",
       " -0.019116929,\n",
       " 0.03648661,\n",
       " 0.010216049,\n",
       " -0.002577942,\n",
       " 0.04931548,\n",
       " -0.03085579,\n",
       " -0.03863726,\n",
       " 0.00020718077,\n",
       " 0.013409558,\n",
       " -0.0066770213,\n",
       " -0.030159151,\n",
       " -0.070237584,\n",
       " 0.02091328,\n",
       " 0.047626056,\n",
       " 0.032169595,\n",
       " 0.04615901,\n",
       " -0.0061860504,\n",
       " -0.026951458,\n",
       " -0.00018445772,\n",
       " 0.058348164,\n",
       " 0.0342543,\n",
       " -0.018350746,\n",
       " -0.0041148076,\n",
       " -0.005516734,\n",
       " 0.051053897,\n",
       " 0.0072539453,\n",
       " 0.04444525,\n",
       " 0.08148687,\n",
       " -0.010172337,\n",
       " 0.037889253,\n",
       " 0.021156276,\n",
       " -0.00036699767,\n",
       " 0.022098212,\n",
       " 0.03892712,\n",
       " 0.02231218,\n",
       " 0.028226115,\n",
       " -0.013830052,\n",
       " -0.019610837,\n",
       " -0.014978374,\n",
       " -0.059591822,\n",
       " -0.024346398,\n",
       " 0.007253218,\n",
       " 0.010919554,\n",
       " -0.06655783,\n",
       " 0.0057859216,\n",
       " -0.0437982,\n",
       " 0.014507847,\n",
       " -0.009643631,\n",
       " -0.012946605,\n",
       " -0.042037454,\n",
       " -0.020385051,\n",
       " 0.040051352,\n",
       " -0.0217288,\n",
       " 0.05480638,\n",
       " 0.0033978783,\n",
       " -0.027632345,\n",
       " 0.0060932115,\n",
       " 0.015107868,\n",
       " 0.013419149,\n",
       " -0.0077317855,\n",
       " -0.010227074,\n",
       " 0.015688125,\n",
       " 0.03965719,\n",
       " -0.06448656,\n",
       " 0.021568503,\n",
       " 0.06123044,\n",
       " 0.0038915377,\n",
       " 0.023717966,\n",
       " -0.04765424,\n",
       " 0.03592522,\n",
       " -0.014182355,\n",
       " -0.017635567,\n",
       " 0.030334571,\n",
       " -0.028324418,\n",
       " 0.017160006,\n",
       " -0.06815406,\n",
       " 0.03575083,\n",
       " -0.003156529,\n",
       " 0.007586283,\n",
       " 0.019734642,\n",
       " -0.012513847,\n",
       " -0.012882186,\n",
       " -0.011311815,\n",
       " 0.051463224,\n",
       " -0.0045683454,\n",
       " 0.0116705615,\n",
       " -0.07571215,\n",
       " -0.037348438,\n",
       " 0.07487603,\n",
       " 0.009280967,\n",
       " 0.023070209,\n",
       " -0.014742438,\n",
       " 0.0583035,\n",
       " 0.023539841,\n",
       " 0.01292256,\n",
       " 0.032411672,\n",
       " 0.025221827,\n",
       " 0.022409499,\n",
       " 0.006854409,\n",
       " 0.011807115,\n",
       " 0.032136865,\n",
       " 0.037868354,\n",
       " -0.03878042,\n",
       " 0.05225947,\n",
       " 0.03233716,\n",
       " -0.021019744,\n",
       " 0.030664526,\n",
       " 0.03793212,\n",
       " -0.024368225,\n",
       " 0.013599476,\n",
       " 0.070812784,\n",
       " 0.031420227,\n",
       " 0.02398745,\n",
       " 0.052545436,\n",
       " 0.0043357993,\n",
       " -0.052165493,\n",
       " 0.008260297,\n",
       " -0.015696356,\n",
       " -0.05715277,\n",
       " -0.0017671428,\n",
       " -0.043318056,\n",
       " -0.069946125,\n",
       " -0.06418287,\n",
       " -0.056510437,\n",
       " 0.018741785,\n",
       " -0.011690243,\n",
       " -0.046698008,\n",
       " 0.0101757515,\n",
       " 0.005108301,\n",
       " -0.02435444,\n",
       " -0.040280145,\n",
       " -0.004350672,\n",
       " -0.03563622,\n",
       " -0.048933685,\n",
       " 0.043428253,\n",
       " 0.043047745,\n",
       " -0.037209652,\n",
       " 0.037135225,\n",
       " 0.011708629,\n",
       " 0.04701497,\n",
       " -0.02031371,\n",
       " 0.032953482,\n",
       " 0.019496523,\n",
       " 0.017095873,\n",
       " -0.009569381,\n",
       " 0.03217319,\n",
       " -0.03724509,\n",
       " 0.0037540768,\n",
       " 0.0024289025,\n",
       " 0.042940777,\n",
       " -0.019824225,\n",
       " -0.010671688,\n",
       " -0.02538278,\n",
       " -0.081207454,\n",
       " 0.035761494,\n",
       " -0.0040373993,\n",
       " -0.009313154,\n",
       " 0.020884851,\n",
       " -0.071857624,\n",
       " 0.01635511,\n",
       " 0.06327608,\n",
       " -0.023672111,\n",
       " -0.08794414,\n",
       " -0.019094937,\n",
       " -0.01306863,\n",
       " 0.0029935625,\n",
       " 0.007988868,\n",
       " -0.045768697,\n",
       " 0.078028366,\n",
       " -0.0019240548,\n",
       " 0.017721454,\n",
       " -0.107239515,\n",
       " 0.037067894,\n",
       " -0.017602855,\n",
       " -0.042558916,\n",
       " 0.0281605,\n",
       " -0.0015239412,\n",
       " 0.030486569,\n",
       " 0.01102651,\n",
       " 0.027144287,\n",
       " 0.016849104,\n",
       " 0.0096599655,\n",
       " -0.026134236,\n",
       " 0.03291558,\n",
       " 0.012838912,\n",
       " 0.10260346,\n",
       " 0.017970946,\n",
       " -0.033005256,\n",
       " -0.008665557,\n",
       " 0.060224388,\n",
       " -0.037400074,\n",
       " 0.010284466,\n",
       " 0.0074765445,\n",
       " 0.00021221444,\n",
       " 0.03770371,\n",
       " 0.016747214,\n",
       " -0.053371817,\n",
       " 0.0036581336,\n",
       " 0.026209336,\n",
       " 0.04747508,\n",
       " -0.043696947,\n",
       " -0.0021015669,\n",
       " 0.0021743877,\n",
       " 0.0010087171,\n",
       " 0.0018891304,\n",
       " -0.037128005,\n",
       " -0.009978265,\n",
       " -0.0033197724,\n",
       " 0.020562528,\n",
       " -0.013742665,\n",
       " 0.028878268,\n",
       " -0.07238121,\n",
       " 0.021777233,\n",
       " -0.027311184,\n",
       " -0.0002597505,\n",
       " 0.009274432,\n",
       " 0.005628639,\n",
       " 0.007085582,\n",
       " -0.06331472,\n",
       " 0.03999679,\n",
       " 0.0019840896,\n",
       " -0.0134249935,\n",
       " -0.022847962,\n",
       " -0.026906215,\n",
       " 0.022938656,\n",
       " 0.029985595,\n",
       " -0.028072668,\n",
       " 0.011706486,\n",
       " -0.02531614,\n",
       " 0.028006237,\n",
       " 0.06511253,\n",
       " -0.041497134,\n",
       " 0.0039469604,\n",
       " 0.0084677255,\n",
       " 0.017360432,\n",
       " -0.041003812,\n",
       " 0.026051287,\n",
       " 0.028991055,\n",
       " -0.040764946,\n",
       " -0.009281655,\n",
       " -0.029456243,\n",
       " 0.0044718157,\n",
       " 0.024075264,\n",
       " 0.036094163,\n",
       " -0.03533909,\n",
       " -0.01286515,\n",
       " -0.020901779,\n",
       " -0.0100856945,\n",
       " -0.044512037,\n",
       " -0.017033365,\n",
       " 0.024485823,\n",
       " 0.014419872,\n",
       " 0.0778627,\n",
       " -0.017863592,\n",
       " 0.018104855,\n",
       " -0.039763067,\n",
       " 0.012662351,\n",
       " -0.037257373,\n",
       " -0.03025148,\n",
       " -0.06276967,\n",
       " -0.017605457,\n",
       " -0.0080661625,\n",
       " -0.0018269381,\n",
       " 0.07642507,\n",
       " 0.025003152,\n",
       " -0.060945828,\n",
       " 0.05753121,\n",
       " -0.03300241,\n",
       " 0.039132915,\n",
       " 0.06493069,\n",
       " -0.03102102,\n",
       " 0.00089834235,\n",
       " 0.05097047,\n",
       " 0.0023638557,\n",
       " 0.033528306,\n",
       " 0.037596736,\n",
       " 0.0018538443,\n",
       " 0.019194804,\n",
       " -0.02322064,\n",
       " 0.03508676,\n",
       " 0.08311792,\n",
       " 0.0035612863,\n",
       " -0.01817392,\n",
       " -0.08977242,\n",
       " 0.0071973163,\n",
       " -0.0018388112,\n",
       " 0.0026103882,\n",
       " 0.049133267,\n",
       " -0.066645995,\n",
       " -0.062286712,\n",
       " 0.03664722,\n",
       " -0.041660085,\n",
       " -0.012206305,\n",
       " -0.013974993,\n",
       " -0.02000335,\n",
       " 0.02961556,\n",
       " -0.033721972,\n",
       " -0.0070612566,\n",
       " -0.011898649,\n",
       " -0.0022147305,\n",
       " 0.020020025,\n",
       " 0.01167714,\n",
       " 0.00810255,\n",
       " 0.025066886,\n",
       " -0.0037741805,\n",
       " 0.028024573,\n",
       " -0.029103458,\n",
       " -0.07586246,\n",
       " 0.025004776,\n",
       " -0.004655454,\n",
       " 0.022583105,\n",
       " -0.004450797,\n",
       " -0.005655271,\n",
       " 0.0051307557,\n",
       " -0.0063835317,\n",
       " 0.018480325,\n",
       " 0.04851691,\n",
       " 0.038523182,\n",
       " 0.0462701,\n",
       " -0.008457089,\n",
       " 0.018931722,\n",
       " -0.031098813,\n",
       " -0.046724044,\n",
       " 0.05512892,\n",
       " -0.065313675]"
      ]
     },
     "execution_count": 17,
     "metadata": {},
     "output_type": "execute_result"
    }
   ],
   "execution_count": 17
  },
  {
   "metadata": {
    "ExecuteTime": {
     "end_time": "2025-03-26T05:31:09.195973Z",
     "start_time": "2025-03-26T05:30:57.997135Z"
    }
   },
   "cell_type": "code",
   "source": [
    "#|export\n",
    "db = create_chroma_db(documents, \"deepseek_r1_retrieval\")\n",
    "# chroma_client = chromadb.PersistentClient(path=\"../db\")\n",
    "# db = chroma_client.get_or_create_collection('deepseek_r1')\n"
   ],
   "id": "9b7d4bea6d6d8d11",
   "outputs": [
    {
     "name": "stdout",
     "output_type": "stream",
     "text": [
      "Added document 1\n",
      "Added document 2\n",
      "Added document 3\n",
      "Added document 4\n",
      "Added document 5\n",
      "Added document 6\n",
      "Added document 7\n",
      "Added document 8\n",
      "Added document 9\n",
      "Added document 10\n",
      "Added document 11\n",
      "Added document 12\n",
      "Added document 13\n",
      "Added document 14\n",
      "Added document 15\n",
      "Added document 16\n",
      "Added document 17\n",
      "Added document 18\n",
      "Added document 19\n",
      "Added document 20\n",
      "Added document 21\n",
      "Added document 22\n"
     ]
    }
   ],
   "execution_count": 18
  },
  {
   "metadata": {
    "ExecuteTime": {
     "end_time": "2025-03-26T05:31:21.654948Z",
     "start_time": "2025-03-26T05:31:21.646597Z"
    }
   },
   "cell_type": "code",
   "source": [
    "# chroma_client = chromadb.Client()\n",
    "recs = db.peek(5)\n",
    "# df = pd.DataFrame(recs)"
   ],
   "id": "14ab8a24de9976a0",
   "outputs": [],
   "execution_count": 19
  },
  {
   "metadata": {
    "ExecuteTime": {
     "end_time": "2025-03-26T05:31:25.522098Z",
     "start_time": "2025-03-26T05:31:25.517352Z"
    }
   },
   "cell_type": "code",
   "source": [
    "def get_relevant_passage(query, db):\n",
    "    passage = db.query(query_texts=[query], n_results=1)['documents'][0][0]\n",
    "    return passage"
   ],
   "id": "d647e4f8f58304f2",
   "outputs": [],
   "execution_count": 20
  },
  {
   "metadata": {
    "ExecuteTime": {
     "end_time": "2025-03-26T05:40:15.706517Z",
     "start_time": "2025-03-26T05:40:14.873486Z"
    }
   },
   "cell_type": "code",
   "source": [
    "# Perform embedding search\n",
    "passage = get_relevant_passage(\"How does the distilled models perform in evaluation comparing to other models?\", db)\n",
    "Markdown(passage)"
   ],
   "id": "57c2a68493cb7ab",
   "outputs": [
    {
     "data": {
      "text/plain": [
       "<IPython.core.display.Markdown object>"
      ],
      "text/markdown": "DeepSeek-R1 avoids introducing length bias during GPT-based evaluations, further solidifying\nits robustness across multiple tasks.\nOn math tasks, DeepSeek-R1 demonstrates performance on par with OpenAI-o1-1217,\nsurpassing other models by a large margin. A similar trend is observed on coding algorithm\ntasks, such as LiveCodeBench and Codeforces, where reasoning-focused models dominate these\nbenchmarks. On engineering-oriented coding tasks, OpenAI-o1-1217 outperforms DeepSeek-R1\non Aider but achieves comparable performance on SWE Verified. We believe the engineering\nperformance of DeepSeek-R1 will improve in the next version, as the amount of related RL\ntraining data currently remains very limited.\n3.2. Distilled Model Evaluation\nModel\nAIME 2024\nMATH-500\nGPQA\nLiveCode\nCodeForces\nDiamond\nBench\npass@1\ncons@64\npass@1\npass@1\npass@1\nrating\nGPT-4o-0513\n9.3\n13.4\n74.6\n49.9\n32.9\n759\nClaude-3.5-Sonnet-1022\n16.0\n26.7\n78.3\n65.0\n38.9\n717\nOpenAI-o1-mini\n63.6\n80.0\n90.0\n60.0\n53.8\n1820\nQwQ-32B-Preview\n50.0\n60.0\n90.6\n54.5\n41.9\n1316\nDeepSeek-R1-Distill-Qwen-1.5B\n28.9\n52.7\n83.9\n33.8\n16.9\n954\nDeepSeek-R1-Distill-Qwen-7B\n55.5\n83.3\n92.8\n49.1\n37.6\n1189\nDeepSeek-R1-Distill-Qwen-14B\n69.7\n80.0\n93.9\n59.1\n53.1\n1481\nDeepSeek-R1-Distill-Qwen-32B\n72.6\n83.3\n94.3\n62.1\n57.2\n1691\nDeepSeek-R1-Distill-Llama-8B\n50.4\n80.0\n89.1\n49.0\n39.6\n1205\nDeepSeek-R1-Distill-Llama-70B\n70.0\n86.7\n94.5\n65.2\n57.5\n1633\nTable 5 | Comparison of DeepSeek-R1 distilled models and other comparable models on\nreasoning-related benchmarks.\nAs shown in Table 5, simply distilling DeepSeek-R1’s outputs enables the efficient DeepSeek-\nR1-7B (i.e., DeepSeek-R1-Distill-Qwen-7B, abbreviated similarly below) to outperform non-\nreasoning models like GPT-4o-0513 across the board. DeepSeek-R1-14B surpasses QwQ-32B-\nPreview on all evaluation metrics, while DeepSeek-R1-32B and DeepSeek-R1-70B significantly\nexceed o1-mini on most benchmarks. These results demonstrate the strong potential of distilla-\ntion. Additionally, we found that applying RL to these distilled models yields significant further\ngains. We believe this warrants further exploration and therefore present only the results of the\nsimple SFT-distilled models here.\n4. Discussion\n4.1. Distillation v.s. Reinforcement Learning\nIn Section 3.2, we can see that by distilling DeepSeek-R1, the small model can achieve impressive\nresults. However, there is still one question left: can the model achieve comparable performance\nthrough the large-scale RL training discussed in the paper without distillation?\nTo answer this question, we conduct large-scale RL training on Qwen-32B-Base using math,\ncode, and STEM data, training for over 10K steps, resulting in DeepSeek-R1-Zero-Qwen-32B. The\nexperimental results, shown in Table 6, demonstrate that the 32B base model, after large-scale\n14"
     },
     "execution_count": 24,
     "metadata": {},
     "output_type": "execute_result"
    }
   ],
   "execution_count": 24
  },
  {
   "metadata": {
    "ExecuteTime": {
     "end_time": "2025-03-26T05:40:23.013518Z",
     "start_time": "2025-03-26T05:40:23.009434Z"
    }
   },
   "cell_type": "code",
   "source": [
    "def make_prompt(query, relevant_passage):\n",
    "    escaped = relevant_passage.replace(\"'\", \"\").replace('\"', \"\").replace(\"\\n\", \" \")\n",
    "    prompt = (\"\"\"You are a helpful and informative bot that answers questions using text from the reference passage included below. \\\n",
    "    Be sure to respond in a complete sentence, being comprehensive, including all relevant background information. \\\n",
    "    However, you are talking to a non-technical audience, so be sure to break down complicated concepts and \\\n",
    "    strike a friendly and converstional tone. \\\n",
    "    If the passage is irrelevant to the answer, you may ignore it.\n",
    "    QUESTION: '{query}'\n",
    "    PASSAGE: '{relevant_passage}'\n",
    "\n",
    "        ANSWER:\n",
    "    \"\"\").format(query=query, relevant_passage=escaped)\n",
    "    return prompt"
   ],
   "id": "df5246fdba83888f",
   "outputs": [],
   "execution_count": 25
  },
  {
   "metadata": {
    "ExecuteTime": {
     "end_time": "2025-03-26T05:40:25.661223Z",
     "start_time": "2025-03-26T05:40:25.649597Z"
    }
   },
   "cell_type": "code",
   "source": [
    "query =\"How does the distilled models perform in evaluation comparing to other models?\"\n",
    "prompt = make_prompt(query, passage)\n",
    "Markdown(prompt)"
   ],
   "id": "1fe4eeb252bf1d5",
   "outputs": [
    {
     "data": {
      "text/plain": [
       "<IPython.core.display.Markdown object>"
      ],
      "text/markdown": "You are a helpful and informative bot that answers questions using text from the reference passage included below.     Be sure to respond in a complete sentence, being comprehensive, including all relevant background information.     However, you are talking to a non-technical audience, so be sure to break down complicated concepts and     strike a friendly and converstional tone.     If the passage is irrelevant to the answer, you may ignore it.\n    QUESTION: 'How does the distilled models perform in evaluation comparing to other models?'\n    PASSAGE: 'DeepSeek-R1 avoids introducing length bias during GPT-based evaluations, further solidifying its robustness across multiple tasks. On math tasks, DeepSeek-R1 demonstrates performance on par with OpenAI-o1-1217, surpassing other models by a large margin. A similar trend is observed on coding algorithm tasks, such as LiveCodeBench and Codeforces, where reasoning-focused models dominate these benchmarks. On engineering-oriented coding tasks, OpenAI-o1-1217 outperforms DeepSeek-R1 on Aider but achieves comparable performance on SWE Verified. We believe the engineering performance of DeepSeek-R1 will improve in the next version, as the amount of related RL training data currently remains very limited. 3.2. Distilled Model Evaluation Model AIME 2024 MATH-500 GPQA LiveCode CodeForces Diamond Bench pass@1 cons@64 pass@1 pass@1 pass@1 rating GPT-4o-0513 9.3 13.4 74.6 49.9 32.9 759 Claude-3.5-Sonnet-1022 16.0 26.7 78.3 65.0 38.9 717 OpenAI-o1-mini 63.6 80.0 90.0 60.0 53.8 1820 QwQ-32B-Preview 50.0 60.0 90.6 54.5 41.9 1316 DeepSeek-R1-Distill-Qwen-1.5B 28.9 52.7 83.9 33.8 16.9 954 DeepSeek-R1-Distill-Qwen-7B 55.5 83.3 92.8 49.1 37.6 1189 DeepSeek-R1-Distill-Qwen-14B 69.7 80.0 93.9 59.1 53.1 1481 DeepSeek-R1-Distill-Qwen-32B 72.6 83.3 94.3 62.1 57.2 1691 DeepSeek-R1-Distill-Llama-8B 50.4 80.0 89.1 49.0 39.6 1205 DeepSeek-R1-Distill-Llama-70B 70.0 86.7 94.5 65.2 57.5 1633 Table 5 | Comparison of DeepSeek-R1 distilled models and other comparable models on reasoning-related benchmarks. As shown in Table 5, simply distilling DeepSeek-R1’s outputs enables the efficient DeepSeek- R1-7B (i.e., DeepSeek-R1-Distill-Qwen-7B, abbreviated similarly below) to outperform non- reasoning models like GPT-4o-0513 across the board. DeepSeek-R1-14B surpasses QwQ-32B- Preview on all evaluation metrics, while DeepSeek-R1-32B and DeepSeek-R1-70B significantly exceed o1-mini on most benchmarks. These results demonstrate the strong potential of distilla- tion. Additionally, we found that applying RL to these distilled models yields significant further gains. We believe this warrants further exploration and therefore present only the results of the simple SFT-distilled models here. 4. Discussion 4.1. Distillation v.s. Reinforcement Learning In Section 3.2, we can see that by distilling DeepSeek-R1, the small model can achieve impressive results. However, there is still one question left: can the model achieve comparable performance through the large-scale RL training discussed in the paper without distillation? To answer this question, we conduct large-scale RL training on Qwen-32B-Base using math, code, and STEM data, training for over 10K steps, resulting in DeepSeek-R1-Zero-Qwen-32B. The experimental results, shown in Table 6, demonstrate that the 32B base model, after large-scale 14'\n\n        ANSWER:\n    "
     },
     "execution_count": 26,
     "metadata": {},
     "output_type": "execute_result"
    }
   ],
   "execution_count": 26
  },
  {
   "metadata": {
    "ExecuteTime": {
     "end_time": "2025-03-26T05:54:50.852674Z",
     "start_time": "2025-03-26T05:54:38.858890Z"
    }
   },
   "cell_type": "code",
   "source": [
    "# client = genai.Client(api_key=gemini_key)\n",
    "# response = client.models.generate_content(model=\"gemini-2.0-flash\", contents=prompt)\n",
    "response = client.models.generate_content(model=\"gemini-2.5-pro-exp-03-25\", contents=prompt)\n",
    "Markdown(response.text)"
   ],
   "id": "ae93ff6b9a61d7d6",
   "outputs": [
    {
     "data": {
      "text/plain": [
       "<IPython.core.display.Markdown object>"
      ],
      "text/markdown": "Okay, let's break down how those \"distilled models\" stack up against others, based on the information provided!\n\nThink of \"distillation\" here like taking the knowledge from a very big, powerful model (DeepSeek-R1) and transferring it into smaller, more efficient models. The passage shows that this process works quite well!\n\nHere's how the distilled versions of DeepSeek-R1 compare:\n\n1.  **Even Smaller Distilled Models Shine:** The relatively small 7-billion parameter version (called DeepSeek-R1-Distill-Qwen-7B) actually manages to outperform a well-known model like GPT-4o-0513 across all the reasoning-related tests listed in their table (Table 5).\n2.  **Mid-Sized Distilled Models Surpass Competitors:** The 14-billion parameter distilled model (DeepSeek-R1-Distill-Qwen-14B) performs better than another model called QwQ-32B-Preview on all the evaluation scores shown.\n3.  **Larger Distilled Models Lead Significantly:** The bigger distilled versions, specifically the 32-billion and 70-billion parameter ones (DeepSeek-R1-Distill-Qwen-32B and DeepSeek-R1-Distill-Llama-70B), significantly beat OpenAI's o1-mini model on most of the benchmark tests.\n\nSo, in a nutshell, the evaluation shows that these distilled models perform very impressively, often outperforming other well-known models, even when the distilled models are smaller in size. This highlights that distillation is a really effective technique for creating powerful but efficient models!"
     },
     "execution_count": 32,
     "metadata": {},
     "output_type": "execute_result"
    }
   ],
   "execution_count": 32
  },
  {
   "metadata": {
    "ExecuteTime": {
     "end_time": "2025-03-26T05:53:18.876305Z",
     "start_time": "2025-03-26T05:53:18.870937Z"
    }
   },
   "cell_type": "code",
   "source": "Markdown(response.text)",
   "id": "2c7b98c3785bb533",
   "outputs": [
    {
     "data": {
      "text/plain": [
       "<IPython.core.display.Markdown object>"
      ],
      "text/markdown": "Alright, let's break down how the distilled DeepSeek-R1 models perform compared to others! Basically, by using a technique called \"distillation\" on DeepSeek-R1, they've created smaller, more efficient versions. These smaller models, like the DeepSeek-R1-Distill-Qwen-7B, actually outperform other models that aren't focused on reasoning, such as GPT-4o-0513, across the board. Furthermore, the DeepSeek-R1-14B model does better than the QwQ-32B-Preview on all the tests, and the DeepSeek-R1-32B and DeepSeek-R1-70B models are much better than o1-mini on most of the benchmarks. So, distillation seems to be a pretty powerful tool!\n"
     },
     "execution_count": 31,
     "metadata": {},
     "output_type": "execute_result"
    }
   ],
   "execution_count": 31
  },
  {
   "metadata": {
    "ExecuteTime": {
     "end_time": "2025-03-25T08:25:04.675722Z",
     "start_time": "2025-03-25T08:25:04.669917Z"
    }
   },
   "cell_type": "code",
   "source": [
    "# Split the document into smaller chunks\n",
    "text_splitter = RecursiveCharacterTextSplitter(chunk_size=1000,chunk_overlap=200)\n",
    "chunks = text_splitter.split_documents(documents)"
   ],
   "id": "ee657b91ee63efc6",
   "outputs": [],
   "execution_count": 25
  },
  {
   "metadata": {},
   "cell_type": "code",
   "source": [
    "# embedding = client.embeddings.create(\n",
    "#         model=\"deepseek/deepseek-r1:free\",\n",
    "#         input='Your text string goes here'\n",
    "#     )\n",
    "# embedding"
   ],
   "id": "696557bdaac4d522",
   "outputs": [],
   "execution_count": null
  },
  {
   "metadata": {
    "ExecuteTime": {
     "end_time": "2025-03-24T08:42:25.478378Z",
     "start_time": "2025-03-24T08:42:25.420778Z"
    }
   },
   "cell_type": "code",
   "source": [
    "# Parallelize embedding generation\n",
    "def generate_embedding(chunk):\n",
    "    # return ollama_embedding_function.embed_query(chunk.page_content)\n",
    "    return google_ef.embed_query(chunk.page_content)\n",
    "\n",
    "\n",
    "with ThreadPoolExecutor() as executor:\n",
    "    embeddings = list(executor.map(generate_embedding, chunks))"
   ],
   "id": "e691b9105f92f799",
   "outputs": [
    {
     "ename": "AttributeError",
     "evalue": "'OpenAIEmbeddingFunction' object has no attribute 'embed_query'",
     "output_type": "error",
     "traceback": [
      "\u001B[31m---------------------------------------------------------------------------\u001B[39m",
      "\u001B[31mAttributeError\u001B[39m                            Traceback (most recent call last)",
      "\u001B[36mCell\u001B[39m\u001B[36m \u001B[39m\u001B[32mIn[26]\u001B[39m\u001B[32m, line 7\u001B[39m\n\u001B[32m      4\u001B[39m     \u001B[38;5;28;01mreturn\u001B[39;00m deepseek_ef.embed_query(chunk.page_content)\n\u001B[32m      6\u001B[39m \u001B[38;5;28;01mwith\u001B[39;00m ThreadPoolExecutor() \u001B[38;5;28;01mas\u001B[39;00m executor:\n\u001B[32m----> \u001B[39m\u001B[32m7\u001B[39m     embeddings = \u001B[38;5;28;43mlist\u001B[39;49m\u001B[43m(\u001B[49m\u001B[43mexecutor\u001B[49m\u001B[43m.\u001B[49m\u001B[43mmap\u001B[49m\u001B[43m(\u001B[49m\u001B[43mgenerate_embedding\u001B[49m\u001B[43m,\u001B[49m\u001B[43m \u001B[49m\u001B[43mchunks\u001B[49m\u001B[43m)\u001B[49m\u001B[43m)\u001B[49m\n",
      "\u001B[36mFile \u001B[39m\u001B[32m~/.pyenv/versions/miniconda3-3.12-25.1.1-2/envs/cell/lib/python3.13/concurrent/futures/_base.py:619\u001B[39m, in \u001B[36mExecutor.map.<locals>.result_iterator\u001B[39m\u001B[34m()\u001B[39m\n\u001B[32m    616\u001B[39m \u001B[38;5;28;01mwhile\u001B[39;00m fs:\n\u001B[32m    617\u001B[39m     \u001B[38;5;66;03m# Careful not to keep a reference to the popped future\u001B[39;00m\n\u001B[32m    618\u001B[39m     \u001B[38;5;28;01mif\u001B[39;00m timeout \u001B[38;5;129;01mis\u001B[39;00m \u001B[38;5;28;01mNone\u001B[39;00m:\n\u001B[32m--> \u001B[39m\u001B[32m619\u001B[39m         \u001B[38;5;28;01myield\u001B[39;00m \u001B[43m_result_or_cancel\u001B[49m\u001B[43m(\u001B[49m\u001B[43mfs\u001B[49m\u001B[43m.\u001B[49m\u001B[43mpop\u001B[49m\u001B[43m(\u001B[49m\u001B[43m)\u001B[49m\u001B[43m)\u001B[49m\n\u001B[32m    620\u001B[39m     \u001B[38;5;28;01melse\u001B[39;00m:\n\u001B[32m    621\u001B[39m         \u001B[38;5;28;01myield\u001B[39;00m _result_or_cancel(fs.pop(), end_time - time.monotonic())\n",
      "\u001B[36mFile \u001B[39m\u001B[32m~/.pyenv/versions/miniconda3-3.12-25.1.1-2/envs/cell/lib/python3.13/concurrent/futures/_base.py:317\u001B[39m, in \u001B[36m_result_or_cancel\u001B[39m\u001B[34m(***failed resolving arguments***)\u001B[39m\n\u001B[32m    315\u001B[39m \u001B[38;5;28;01mtry\u001B[39;00m:\n\u001B[32m    316\u001B[39m     \u001B[38;5;28;01mtry\u001B[39;00m:\n\u001B[32m--> \u001B[39m\u001B[32m317\u001B[39m         \u001B[38;5;28;01mreturn\u001B[39;00m \u001B[43mfut\u001B[49m\u001B[43m.\u001B[49m\u001B[43mresult\u001B[49m\u001B[43m(\u001B[49m\u001B[43mtimeout\u001B[49m\u001B[43m)\u001B[49m\n\u001B[32m    318\u001B[39m     \u001B[38;5;28;01mfinally\u001B[39;00m:\n\u001B[32m    319\u001B[39m         fut.cancel()\n",
      "\u001B[36mFile \u001B[39m\u001B[32m~/.pyenv/versions/miniconda3-3.12-25.1.1-2/envs/cell/lib/python3.13/concurrent/futures/_base.py:449\u001B[39m, in \u001B[36mFuture.result\u001B[39m\u001B[34m(self, timeout)\u001B[39m\n\u001B[32m    447\u001B[39m     \u001B[38;5;28;01mraise\u001B[39;00m CancelledError()\n\u001B[32m    448\u001B[39m \u001B[38;5;28;01melif\u001B[39;00m \u001B[38;5;28mself\u001B[39m._state == FINISHED:\n\u001B[32m--> \u001B[39m\u001B[32m449\u001B[39m     \u001B[38;5;28;01mreturn\u001B[39;00m \u001B[38;5;28;43mself\u001B[39;49m\u001B[43m.\u001B[49m\u001B[43m__get_result\u001B[49m\u001B[43m(\u001B[49m\u001B[43m)\u001B[49m\n\u001B[32m    451\u001B[39m \u001B[38;5;28mself\u001B[39m._condition.wait(timeout)\n\u001B[32m    453\u001B[39m \u001B[38;5;28;01mif\u001B[39;00m \u001B[38;5;28mself\u001B[39m._state \u001B[38;5;129;01min\u001B[39;00m [CANCELLED, CANCELLED_AND_NOTIFIED]:\n",
      "\u001B[36mFile \u001B[39m\u001B[32m~/.pyenv/versions/miniconda3-3.12-25.1.1-2/envs/cell/lib/python3.13/concurrent/futures/_base.py:401\u001B[39m, in \u001B[36mFuture.__get_result\u001B[39m\u001B[34m(self)\u001B[39m\n\u001B[32m    399\u001B[39m \u001B[38;5;28;01mif\u001B[39;00m \u001B[38;5;28mself\u001B[39m._exception:\n\u001B[32m    400\u001B[39m     \u001B[38;5;28;01mtry\u001B[39;00m:\n\u001B[32m--> \u001B[39m\u001B[32m401\u001B[39m         \u001B[38;5;28;01mraise\u001B[39;00m \u001B[38;5;28mself\u001B[39m._exception\n\u001B[32m    402\u001B[39m     \u001B[38;5;28;01mfinally\u001B[39;00m:\n\u001B[32m    403\u001B[39m         \u001B[38;5;66;03m# Break a reference cycle with the exception in self._exception\u001B[39;00m\n\u001B[32m    404\u001B[39m         \u001B[38;5;28mself\u001B[39m = \u001B[38;5;28;01mNone\u001B[39;00m\n",
      "\u001B[36mFile \u001B[39m\u001B[32m~/.pyenv/versions/miniconda3-3.12-25.1.1-2/envs/cell/lib/python3.13/concurrent/futures/thread.py:59\u001B[39m, in \u001B[36m_WorkItem.run\u001B[39m\u001B[34m(self)\u001B[39m\n\u001B[32m     56\u001B[39m     \u001B[38;5;28;01mreturn\u001B[39;00m\n\u001B[32m     58\u001B[39m \u001B[38;5;28;01mtry\u001B[39;00m:\n\u001B[32m---> \u001B[39m\u001B[32m59\u001B[39m     result = \u001B[38;5;28;43mself\u001B[39;49m\u001B[43m.\u001B[49m\u001B[43mfn\u001B[49m\u001B[43m(\u001B[49m\u001B[43m*\u001B[49m\u001B[38;5;28;43mself\u001B[39;49m\u001B[43m.\u001B[49m\u001B[43margs\u001B[49m\u001B[43m,\u001B[49m\u001B[43m \u001B[49m\u001B[43m*\u001B[49m\u001B[43m*\u001B[49m\u001B[38;5;28;43mself\u001B[39;49m\u001B[43m.\u001B[49m\u001B[43mkwargs\u001B[49m\u001B[43m)\u001B[49m\n\u001B[32m     60\u001B[39m \u001B[38;5;28;01mexcept\u001B[39;00m \u001B[38;5;167;01mBaseException\u001B[39;00m \u001B[38;5;28;01mas\u001B[39;00m exc:\n\u001B[32m     61\u001B[39m     \u001B[38;5;28mself\u001B[39m.future.set_exception(exc)\n",
      "\u001B[36mCell\u001B[39m\u001B[36m \u001B[39m\u001B[32mIn[26]\u001B[39m\u001B[32m, line 4\u001B[39m, in \u001B[36mgenerate_embedding\u001B[39m\u001B[34m(chunk)\u001B[39m\n\u001B[32m      2\u001B[39m \u001B[38;5;28;01mdef\u001B[39;00m\u001B[38;5;250m \u001B[39m\u001B[34mgenerate_embedding\u001B[39m(chunk):\n\u001B[32m      3\u001B[39m     \u001B[38;5;66;03m# return ollama_embedding_function.embed_query(chunk.page_content)\u001B[39;00m\n\u001B[32m----> \u001B[39m\u001B[32m4\u001B[39m     \u001B[38;5;28;01mreturn\u001B[39;00m \u001B[43mdeepseek_ef\u001B[49m\u001B[43m.\u001B[49m\u001B[43membed_query\u001B[49m(chunk.page_content)\n",
      "\u001B[31mAttributeError\u001B[39m: 'OpenAIEmbeddingFunction' object has no attribute 'embed_query'"
     ]
    }
   ],
   "execution_count": 26
  },
  {
   "metadata": {
    "ExecuteTime": {
     "end_time": "2025-03-24T09:16:38.230236Z",
     "start_time": "2025-03-24T09:16:24.352985Z"
    }
   },
   "cell_type": "code",
   "source": [
    "\n",
    "completion = client.chat.completions.create(\n",
    "  extra_headers={\n",
    "    \"HTTP-Referer\": \"binjian.github.io\", # Optional. Site URL for rankings on openrouter.ai.\n",
    "    \"X-Title\": \"binjian's digital garden\", # Optional. Site title for rankings on openrouter.ai.\n",
    "  },\n",
    "  extra_body={},\n",
    "  model=\"deepseek/deepseek-r1:free\",\n",
    "  messages=[\n",
    "    {\n",
    "      \"role\": \"system\", \"content\": \"You are a helpful assistant.\",\n",
    "      \"role\": \"user\", \"content\": \"What's Anthropic's Model context protocol?\"\n",
    "    }\n",
    "  ]\n",
    ")\n",
    "print(completion.choices[0].message.content)"
   ],
   "id": "5aab85556fd1c15f",
   "outputs": [
    {
     "name": "stdout",
     "output_type": "stream",
     "text": [
      "Anthropic's Model Context Protocol refers to the structured approach used in their AI models, particularly Claude, to manage conversational context effectively while prioritizing safety and coherence. Here's a breakdown of its key components:\n",
      "\n",
      "1. **Context Window Management**: \n",
      "   - Claude's large context window (up to 200k tokens) allows processing lengthy inputs, but the protocol ensures efficient retention of relevant information. Techniques like attention mechanisms prioritize recent or critical dialogue segments while avoiding overload.\n",
      "\n",
      "2. **Safety and Alignment**:\n",
      "   - Rooted in **Constitutional AI**, the protocol incorporates ethical guidelines to filter harmful requests, reduce biases, and ensure outputs align with human values. It may refuse unsafe tasks or seek clarification for ambiguous queries.\n",
      "\n",
      "3. **Multi-Turn Coherence**:\n",
      "   - Maintains consistency across long conversations by tracking dialogue history, user intent, and key entities. This avoids repetitive or contradictory responses common in less advanced models.\n",
      "\n",
      "4. **Structured Input/Output Handling**:\n",
      "   - Uses tokenization and context chunking to parse complex inputs (e.g., documents, code) and generate focused, context-aware replies. Tools like XML tagging might structure prompts for clarity.\n",
      "\n",
      "5. **Transparency and Control**:\n",
      "   - Features like system prompts allow users to set boundaries or guide model behavior explicitly (e.g., \"You are a helpful assistant focused on safety\"). This balances flexibility with constraint.\n",
      "\n",
      "While specifics are proprietary, Anthropic emphasizes these principles in publications like their **System Card** and **Constitutional AI framework**, highlighting their commitment to building reliable, ethical AI systems. The protocol aims to optimize both utility and safety in human-AI interactions.\n"
     ]
    }
   ],
   "execution_count": 35
  },
  {
   "metadata": {
    "ExecuteTime": {
     "end_time": "2025-03-24T09:37:02.715201Z",
     "start_time": "2025-03-24T09:37:02.710587Z"
    }
   },
   "cell_type": "code",
   "source": "google_ef = embedding_functions.GoogleGenerativeAiEmbeddingFunction(api_key=gemini_key)",
   "id": "81899cd24437f8e",
   "outputs": [],
   "execution_count": 40
  },
  {
   "metadata": {
    "ExecuteTime": {
     "end_time": "2025-03-24T09:40:25.942615Z",
     "start_time": "2025-03-24T09:40:25.936152Z"
    }
   },
   "cell_type": "code",
   "source": [
    "def convert_qa_to_csv(input_file, output_file):\n",
    "    \"\"\"\n",
    "    Convert a text file with Q/A format to a CSV file.\n",
    "\n",
    "    Args:\n",
    "        input_file: Path to the input text file\n",
    "        output_file: Path to the output CSV file\n",
    "    \"\"\"\n",
    "    # Read the content of the file\n",
    "    with open(input_file, 'r', encoding='utf-8') as f:\n",
    "        content = f.read()\n",
    "\n",
    "    # Split the content by 'Q' marker\n",
    "    qa_blocks = content.split('Q\\n')\n",
    "\n",
    "    qa_blks = [block.strip() for block in qa_blocks][1:]\n",
    "    # Remove empty blocks (like the first one if file starts with 'Q')\n",
    "    # qa_blocks = [[line for line in block.split('\\n') ] for block in qa_blks if block.strip()]\n",
    "    # Remove empty blocks (like the first one if file starts with 'Q')\n",
    "    # qa_blocks = [blk for block in qa_blocks if block.strip() for blk in block.strip()]\n",
    "\n",
    "    # Process each Q&A block\n",
    "    qa_pairs = []\n",
    "    for block in qa_blks:\n",
    "        # Split the block into lines\n",
    "        lines = block.strip().split('\\n')\n",
    "\n",
    "        if lines:\n",
    "            # First line is the question\n",
    "            question = lines[0]\n",
    "            # The rest are the answer\n",
    "            answer = '\\n'.join(lines[1:])\n",
    "\n",
    "            # Add the pair to our list\n",
    "            qa_pairs.append([question, answer])\n",
    "\n",
    "    # Write to CSV\n",
    "    with open(output_file, 'w', encoding='utf-8', newline='') as f:\n",
    "        writer = csv.writer(f)\n",
    "        # Write header\n",
    "        writer.writerow(['Question', 'Answer'])\n",
    "        # Write Q&A pairs\n",
    "        for pair in qa_pairs:\n",
    "            writer.writerow(pair)\n",
    "    print(f\"Conversion complete. CSV file saved to {output_file}\")"
   ],
   "id": "a0a4709412146528",
   "outputs": [],
   "execution_count": 46
  },
  {
   "metadata": {
    "ExecuteTime": {
     "end_time": "2025-03-24T09:40:30.014887Z",
     "start_time": "2025-03-24T09:40:29.993942Z"
    }
   },
   "cell_type": "code",
   "source": [
    "\n",
    "input_files = [\"../res/qa_service.txt\", \"../res/qa_technology.txt\"]\n",
    "output_files = [\"../res/qa_service.csv\", \"../res/qa_technology.csv\"]\n",
    "for in_f, ot_f in zip(input_files, output_files):\n",
    "    convert_qa_to_csv(in_f, ot_f)\n",
    "    "
   ],
   "id": "b867632cd7164a19",
   "outputs": [
    {
     "name": "stdout",
     "output_type": "stream",
     "text": [
      "Conversion complete. CSV file saved to ../res/qa_service.csv\n",
      "Conversion complete. CSV file saved to ../res/qa_technology.csv\n"
     ]
    }
   ],
   "execution_count": 47
  },
  {
   "metadata": {
    "ExecuteTime": {
     "end_time": "2025-03-24T09:40:33.394734Z",
     "start_time": "2025-03-24T09:40:33.382256Z"
    }
   },
   "cell_type": "code",
   "source": [
    "# |export\n",
    "client = chromadb.PersistentClient(path=\"../vdb\")\n",
    "# collections = [client.get_or_create_collection(name=\"siasun_qa_service\",embedding_function=deepseek_ef),\n",
    "#                 client.get_or_create_collection(name=\"siasun_qa_technology\",embedding_function=deepseek_ef)]\n",
    "collections = [client.get_or_create_collection(name=\"siasun_qa_service\", embedding_function=google_ef),\n",
    "                client.get_or_create_collection(name=\"siasun_qa_technology\", embedding_function=google_ef)]"
   ],
   "id": "e87d7540e3a1b0d8",
   "outputs": [],
   "execution_count": 48
  },
  {
   "metadata": {
    "ExecuteTime": {
     "end_time": "2025-03-24T05:56:55.986880Z",
     "start_time": "2025-03-24T05:56:55.980700Z"
    }
   },
   "cell_type": "code",
   "source": [
    "i=2\n",
    "f'q{i}'"
   ],
   "id": "f4c4e9c21acabd5a",
   "outputs": [
    {
     "data": {
      "text/plain": [
       "'q2'"
      ]
     },
     "execution_count": 11,
     "metadata": {},
     "output_type": "execute_result"
    }
   ],
   "execution_count": 11
  },
  {
   "metadata": {
    "ExecuteTime": {
     "end_time": "2025-03-24T09:41:29.538151Z",
     "start_time": "2025-03-24T09:40:35.929740Z"
    }
   },
   "cell_type": "code",
   "source": [
    "# |export\n",
    "for csv_file,collection in zip(output_files,collections):\n",
    "    with open(csv_file, newline='') as f:\n",
    "        reader = csv.reader(f)\n",
    "        for i, row in enumerate(reader):\n",
    "            collection.add(\n",
    "                documents = row,\n",
    "                metadatas = [{\"source\": \"question\"}, {\"source\": \"answer\"}],\n",
    "                ids = [f\"{collection.name}_q{i}\", f\"{collection.name}_a{i}\"]\n",
    "            )"
   ],
   "id": "cd8cffa926183329",
   "outputs": [
    {
     "ename": "TypeError",
     "evalue": "RetryError.__init__() missing 1 required positional argument: 'cause'",
     "output_type": "error",
     "traceback": [
      "\u001B[31m---------------------------------------------------------------------------\u001B[39m",
      "\u001B[31m_InactiveRpcError\u001B[39m                         Traceback (most recent call last)",
      "\u001B[36mFile \u001B[39m\u001B[32m~/.pyenv/versions/miniconda3-3.12-25.1.1-2/envs/cell/lib/python3.13/site-packages/google/api_core/grpc_helpers.py:76\u001B[39m, in \u001B[36m_wrap_unary_errors.<locals>.error_remapped_callable\u001B[39m\u001B[34m(*args, **kwargs)\u001B[39m\n\u001B[32m     75\u001B[39m \u001B[38;5;28;01mtry\u001B[39;00m:\n\u001B[32m---> \u001B[39m\u001B[32m76\u001B[39m     \u001B[38;5;28;01mreturn\u001B[39;00m \u001B[43mcallable_\u001B[49m\u001B[43m(\u001B[49m\u001B[43m*\u001B[49m\u001B[43margs\u001B[49m\u001B[43m,\u001B[49m\u001B[43m \u001B[49m\u001B[43m*\u001B[49m\u001B[43m*\u001B[49m\u001B[43mkwargs\u001B[49m\u001B[43m)\u001B[49m\n\u001B[32m     77\u001B[39m \u001B[38;5;28;01mexcept\u001B[39;00m grpc.RpcError \u001B[38;5;28;01mas\u001B[39;00m exc:\n",
      "\u001B[36mFile \u001B[39m\u001B[32m~/.pyenv/versions/miniconda3-3.12-25.1.1-2/envs/cell/lib/python3.13/site-packages/grpc/_interceptor.py:277\u001B[39m, in \u001B[36m_UnaryUnaryMultiCallable.__call__\u001B[39m\u001B[34m(self, request, timeout, metadata, credentials, wait_for_ready, compression)\u001B[39m\n\u001B[32m    268\u001B[39m \u001B[38;5;28;01mdef\u001B[39;00m\u001B[38;5;250m \u001B[39m\u001B[34m__call__\u001B[39m(\n\u001B[32m    269\u001B[39m     \u001B[38;5;28mself\u001B[39m,\n\u001B[32m    270\u001B[39m     request: Any,\n\u001B[32m   (...)\u001B[39m\u001B[32m    275\u001B[39m     compression: Optional[grpc.Compression] = \u001B[38;5;28;01mNone\u001B[39;00m,\n\u001B[32m    276\u001B[39m ) -> Any:\n\u001B[32m--> \u001B[39m\u001B[32m277\u001B[39m     response, ignored_call = \u001B[38;5;28;43mself\u001B[39;49m\u001B[43m.\u001B[49m\u001B[43m_with_call\u001B[49m\u001B[43m(\u001B[49m\n\u001B[32m    278\u001B[39m \u001B[43m        \u001B[49m\u001B[43mrequest\u001B[49m\u001B[43m,\u001B[49m\n\u001B[32m    279\u001B[39m \u001B[43m        \u001B[49m\u001B[43mtimeout\u001B[49m\u001B[43m=\u001B[49m\u001B[43mtimeout\u001B[49m\u001B[43m,\u001B[49m\n\u001B[32m    280\u001B[39m \u001B[43m        \u001B[49m\u001B[43mmetadata\u001B[49m\u001B[43m=\u001B[49m\u001B[43mmetadata\u001B[49m\u001B[43m,\u001B[49m\n\u001B[32m    281\u001B[39m \u001B[43m        \u001B[49m\u001B[43mcredentials\u001B[49m\u001B[43m=\u001B[49m\u001B[43mcredentials\u001B[49m\u001B[43m,\u001B[49m\n\u001B[32m    282\u001B[39m \u001B[43m        \u001B[49m\u001B[43mwait_for_ready\u001B[49m\u001B[43m=\u001B[49m\u001B[43mwait_for_ready\u001B[49m\u001B[43m,\u001B[49m\n\u001B[32m    283\u001B[39m \u001B[43m        \u001B[49m\u001B[43mcompression\u001B[49m\u001B[43m=\u001B[49m\u001B[43mcompression\u001B[49m\u001B[43m,\u001B[49m\n\u001B[32m    284\u001B[39m \u001B[43m    \u001B[49m\u001B[43m)\u001B[49m\n\u001B[32m    285\u001B[39m     \u001B[38;5;28;01mreturn\u001B[39;00m response\n",
      "\u001B[36mFile \u001B[39m\u001B[32m~/.pyenv/versions/miniconda3-3.12-25.1.1-2/envs/cell/lib/python3.13/site-packages/grpc/_interceptor.py:332\u001B[39m, in \u001B[36m_UnaryUnaryMultiCallable._with_call\u001B[39m\u001B[34m(self, request, timeout, metadata, credentials, wait_for_ready, compression)\u001B[39m\n\u001B[32m    329\u001B[39m call = \u001B[38;5;28mself\u001B[39m._interceptor.intercept_unary_unary(\n\u001B[32m    330\u001B[39m     continuation, client_call_details, request\n\u001B[32m    331\u001B[39m )\n\u001B[32m--> \u001B[39m\u001B[32m332\u001B[39m \u001B[38;5;28;01mreturn\u001B[39;00m \u001B[43mcall\u001B[49m\u001B[43m.\u001B[49m\u001B[43mresult\u001B[49m\u001B[43m(\u001B[49m\u001B[43m)\u001B[49m, call\n",
      "\u001B[36mFile \u001B[39m\u001B[32m~/.pyenv/versions/miniconda3-3.12-25.1.1-2/envs/cell/lib/python3.13/site-packages/grpc/_channel.py:440\u001B[39m, in \u001B[36m_InactiveRpcError.result\u001B[39m\u001B[34m(self, timeout)\u001B[39m\n\u001B[32m    439\u001B[39m \u001B[38;5;250m\u001B[39m\u001B[33;03m\"\"\"See grpc.Future.result.\"\"\"\u001B[39;00m\n\u001B[32m--> \u001B[39m\u001B[32m440\u001B[39m \u001B[38;5;28;01mraise\u001B[39;00m \u001B[38;5;28mself\u001B[39m\n",
      "\u001B[36mFile \u001B[39m\u001B[32m~/.pyenv/versions/miniconda3-3.12-25.1.1-2/envs/cell/lib/python3.13/site-packages/grpc/_interceptor.py:315\u001B[39m, in \u001B[36m_UnaryUnaryMultiCallable._with_call.<locals>.continuation\u001B[39m\u001B[34m(new_details, request)\u001B[39m\n\u001B[32m    314\u001B[39m \u001B[38;5;28;01mtry\u001B[39;00m:\n\u001B[32m--> \u001B[39m\u001B[32m315\u001B[39m     response, call = \u001B[38;5;28;43mself\u001B[39;49m\u001B[43m.\u001B[49m\u001B[43m_thunk\u001B[49m\u001B[43m(\u001B[49m\u001B[43mnew_method\u001B[49m\u001B[43m)\u001B[49m\u001B[43m.\u001B[49m\u001B[43mwith_call\u001B[49m\u001B[43m(\u001B[49m\n\u001B[32m    316\u001B[39m \u001B[43m        \u001B[49m\u001B[43mrequest\u001B[49m\u001B[43m,\u001B[49m\n\u001B[32m    317\u001B[39m \u001B[43m        \u001B[49m\u001B[43mtimeout\u001B[49m\u001B[43m=\u001B[49m\u001B[43mnew_timeout\u001B[49m\u001B[43m,\u001B[49m\n\u001B[32m    318\u001B[39m \u001B[43m        \u001B[49m\u001B[43mmetadata\u001B[49m\u001B[43m=\u001B[49m\u001B[43mnew_metadata\u001B[49m\u001B[43m,\u001B[49m\n\u001B[32m    319\u001B[39m \u001B[43m        \u001B[49m\u001B[43mcredentials\u001B[49m\u001B[43m=\u001B[49m\u001B[43mnew_credentials\u001B[49m\u001B[43m,\u001B[49m\n\u001B[32m    320\u001B[39m \u001B[43m        \u001B[49m\u001B[43mwait_for_ready\u001B[49m\u001B[43m=\u001B[49m\u001B[43mnew_wait_for_ready\u001B[49m\u001B[43m,\u001B[49m\n\u001B[32m    321\u001B[39m \u001B[43m        \u001B[49m\u001B[43mcompression\u001B[49m\u001B[43m=\u001B[49m\u001B[43mnew_compression\u001B[49m\u001B[43m,\u001B[49m\n\u001B[32m    322\u001B[39m \u001B[43m    \u001B[49m\u001B[43m)\u001B[49m\n\u001B[32m    323\u001B[39m     \u001B[38;5;28;01mreturn\u001B[39;00m _UnaryOutcome(response, call)\n",
      "\u001B[36mFile \u001B[39m\u001B[32m~/.pyenv/versions/miniconda3-3.12-25.1.1-2/envs/cell/lib/python3.13/site-packages/grpc/_channel.py:1198\u001B[39m, in \u001B[36m_UnaryUnaryMultiCallable.with_call\u001B[39m\u001B[34m(self, request, timeout, metadata, credentials, wait_for_ready, compression)\u001B[39m\n\u001B[32m   1192\u001B[39m (\n\u001B[32m   1193\u001B[39m     state,\n\u001B[32m   1194\u001B[39m     call,\n\u001B[32m   1195\u001B[39m ) = \u001B[38;5;28mself\u001B[39m._blocking(\n\u001B[32m   1196\u001B[39m     request, timeout, metadata, credentials, wait_for_ready, compression\n\u001B[32m   1197\u001B[39m )\n\u001B[32m-> \u001B[39m\u001B[32m1198\u001B[39m \u001B[38;5;28;01mreturn\u001B[39;00m \u001B[43m_end_unary_response_blocking\u001B[49m\u001B[43m(\u001B[49m\u001B[43mstate\u001B[49m\u001B[43m,\u001B[49m\u001B[43m \u001B[49m\u001B[43mcall\u001B[49m\u001B[43m,\u001B[49m\u001B[43m \u001B[49m\u001B[38;5;28;43;01mTrue\u001B[39;49;00m\u001B[43m,\u001B[49m\u001B[43m \u001B[49m\u001B[38;5;28;43;01mNone\u001B[39;49;00m\u001B[43m)\u001B[49m\n",
      "\u001B[36mFile \u001B[39m\u001B[32m~/.pyenv/versions/miniconda3-3.12-25.1.1-2/envs/cell/lib/python3.13/site-packages/grpc/_channel.py:1006\u001B[39m, in \u001B[36m_end_unary_response_blocking\u001B[39m\u001B[34m(state, call, with_call, deadline)\u001B[39m\n\u001B[32m   1005\u001B[39m \u001B[38;5;28;01melse\u001B[39;00m:\n\u001B[32m-> \u001B[39m\u001B[32m1006\u001B[39m     \u001B[38;5;28;01mraise\u001B[39;00m _InactiveRpcError(state)\n",
      "\u001B[31m_InactiveRpcError\u001B[39m: <_InactiveRpcError of RPC that terminated with:\n\tstatus = StatusCode.UNAVAILABLE\n\tdetails = \"failed to connect to all addresses; last error: UNKNOWN: ipv4:142.250.69.202:443: Failed to connect to remote host: Timeout occurred: FD Shutdown\"\n\tdebug_error_string = \"UNKNOWN:Error received from peer  {grpc_message:\"failed to connect to all addresses; last error: UNKNOWN: ipv4:142.250.69.202:443: Failed to connect to remote host: Timeout occurred: FD Shutdown\", grpc_status:14, created_time:\"2025-03-24T17:41:29.255160718+08:00\"}\"\n>",
      "\nThe above exception was the direct cause of the following exception:\n",
      "\u001B[31mServiceUnavailable\u001B[39m                        Traceback (most recent call last)",
      "\u001B[36mFile \u001B[39m\u001B[32m~/.pyenv/versions/miniconda3-3.12-25.1.1-2/envs/cell/lib/python3.13/site-packages/google/api_core/retry/retry_unary.py:144\u001B[39m, in \u001B[36mretry_target\u001B[39m\u001B[34m(target, predicate, sleep_generator, timeout, on_error, exception_factory, **kwargs)\u001B[39m\n\u001B[32m    143\u001B[39m \u001B[38;5;28;01mtry\u001B[39;00m:\n\u001B[32m--> \u001B[39m\u001B[32m144\u001B[39m     result = \u001B[43mtarget\u001B[49m\u001B[43m(\u001B[49m\u001B[43m)\u001B[49m\n\u001B[32m    145\u001B[39m     \u001B[38;5;28;01mif\u001B[39;00m inspect.isawaitable(result):\n",
      "\u001B[36mFile \u001B[39m\u001B[32m~/.pyenv/versions/miniconda3-3.12-25.1.1-2/envs/cell/lib/python3.13/site-packages/google/api_core/timeout.py:130\u001B[39m, in \u001B[36mTimeToDeadlineTimeout.__call__.<locals>.func_with_timeout\u001B[39m\u001B[34m(*args, **kwargs)\u001B[39m\n\u001B[32m    128\u001B[39m     kwargs[\u001B[33m\"\u001B[39m\u001B[33mtimeout\u001B[39m\u001B[33m\"\u001B[39m] = remaining_timeout\n\u001B[32m--> \u001B[39m\u001B[32m130\u001B[39m \u001B[38;5;28;01mreturn\u001B[39;00m \u001B[43mfunc\u001B[49m\u001B[43m(\u001B[49m\u001B[43m*\u001B[49m\u001B[43margs\u001B[49m\u001B[43m,\u001B[49m\u001B[43m \u001B[49m\u001B[43m*\u001B[49m\u001B[43m*\u001B[49m\u001B[43mkwargs\u001B[49m\u001B[43m)\u001B[49m\n",
      "\u001B[36mFile \u001B[39m\u001B[32m~/.pyenv/versions/miniconda3-3.12-25.1.1-2/envs/cell/lib/python3.13/site-packages/google/api_core/grpc_helpers.py:78\u001B[39m, in \u001B[36m_wrap_unary_errors.<locals>.error_remapped_callable\u001B[39m\u001B[34m(*args, **kwargs)\u001B[39m\n\u001B[32m     77\u001B[39m \u001B[38;5;28;01mexcept\u001B[39;00m grpc.RpcError \u001B[38;5;28;01mas\u001B[39;00m exc:\n\u001B[32m---> \u001B[39m\u001B[32m78\u001B[39m     \u001B[38;5;28;01mraise\u001B[39;00m exceptions.from_grpc_error(exc) \u001B[38;5;28;01mfrom\u001B[39;00m\u001B[38;5;250m \u001B[39m\u001B[34;01mexc\u001B[39;00m\n",
      "\u001B[31mServiceUnavailable\u001B[39m: 503 failed to connect to all addresses; last error: UNKNOWN: ipv4:142.250.69.202:443: Failed to connect to remote host: Timeout occurred: FD Shutdown",
      "\nThe above exception was the direct cause of the following exception:\n",
      "\u001B[31mRetryError\u001B[39m                                Traceback (most recent call last)",
      "\u001B[36mFile \u001B[39m\u001B[32m~/.pyenv/versions/miniconda3-3.12-25.1.1-2/envs/cell/lib/python3.13/site-packages/chromadb/api/models/CollectionCommon.py:90\u001B[39m, in \u001B[36mvalidation_context.<locals>.decorator.<locals>.wrapper\u001B[39m\u001B[34m(self, *args, **kwargs)\u001B[39m\n\u001B[32m     89\u001B[39m \u001B[38;5;28;01mtry\u001B[39;00m:\n\u001B[32m---> \u001B[39m\u001B[32m90\u001B[39m     \u001B[38;5;28;01mreturn\u001B[39;00m \u001B[43mfunc\u001B[49m\u001B[43m(\u001B[49m\u001B[38;5;28;43mself\u001B[39;49m\u001B[43m,\u001B[49m\u001B[43m \u001B[49m\u001B[43m*\u001B[49m\u001B[43margs\u001B[49m\u001B[43m,\u001B[49m\u001B[43m \u001B[49m\u001B[43m*\u001B[49m\u001B[43m*\u001B[49m\u001B[43mkwargs\u001B[49m\u001B[43m)\u001B[49m\n\u001B[32m     91\u001B[39m \u001B[38;5;28;01mexcept\u001B[39;00m \u001B[38;5;167;01mException\u001B[39;00m \u001B[38;5;28;01mas\u001B[39;00m e:\n",
      "\u001B[36mFile \u001B[39m\u001B[32m~/.pyenv/versions/miniconda3-3.12-25.1.1-2/envs/cell/lib/python3.13/site-packages/chromadb/api/models/CollectionCommon.py:213\u001B[39m, in \u001B[36mCollectionCommon._validate_and_prepare_add_request\u001B[39m\u001B[34m(self, ids, embeddings, metadatas, documents, images, uris)\u001B[39m\n\u001B[32m    212\u001B[39m     validate_record_set_for_embedding(record_set=add_records)\n\u001B[32m--> \u001B[39m\u001B[32m213\u001B[39m     add_embeddings = \u001B[38;5;28;43mself\u001B[39;49m\u001B[43m.\u001B[49m\u001B[43m_embed_record_set\u001B[49m\u001B[43m(\u001B[49m\u001B[43mrecord_set\u001B[49m\u001B[43m=\u001B[49m\u001B[43madd_records\u001B[49m\u001B[43m)\u001B[49m\n\u001B[32m    214\u001B[39m \u001B[38;5;28;01melse\u001B[39;00m:\n",
      "\u001B[36mFile \u001B[39m\u001B[32m~/.pyenv/versions/miniconda3-3.12-25.1.1-2/envs/cell/lib/python3.13/site-packages/chromadb/api/models/CollectionCommon.py:526\u001B[39m, in \u001B[36mCollectionCommon._embed_record_set\u001B[39m\u001B[34m(self, record_set, embeddable_fields)\u001B[39m\n\u001B[32m    525\u001B[39m         \u001B[38;5;28;01melse\u001B[39;00m:\n\u001B[32m--> \u001B[39m\u001B[32m526\u001B[39m             \u001B[38;5;28;01mreturn\u001B[39;00m \u001B[38;5;28;43mself\u001B[39;49m\u001B[43m.\u001B[49m\u001B[43m_embed\u001B[49m\u001B[43m(\u001B[49m\u001B[38;5;28;43minput\u001B[39;49m\u001B[43m=\u001B[49m\u001B[43mrecord_set\u001B[49m\u001B[43m[\u001B[49m\u001B[43mfield\u001B[49m\u001B[43m]\u001B[49m\u001B[43m)\u001B[49m  \u001B[38;5;66;03m# type: ignore[literal-required]\u001B[39;00m\n\u001B[32m    527\u001B[39m \u001B[38;5;28;01mraise\u001B[39;00m \u001B[38;5;167;01mValueError\u001B[39;00m(\n\u001B[32m    528\u001B[39m     \u001B[33m\"\u001B[39m\u001B[33mRecord does not contain any non-None fields that can be embedded.\u001B[39m\u001B[33m\"\u001B[39m\n\u001B[32m    529\u001B[39m     \u001B[33mf\u001B[39m\u001B[33m\"\u001B[39m\u001B[33mEmbeddable Fields: \u001B[39m\u001B[38;5;132;01m{\u001B[39;00membeddable_fields\u001B[38;5;132;01m}\u001B[39;00m\u001B[33m\"\u001B[39m\n\u001B[32m    530\u001B[39m     \u001B[33mf\u001B[39m\u001B[33m\"\u001B[39m\u001B[33mRecord Fields: \u001B[39m\u001B[38;5;132;01m{\u001B[39;00mrecord_set\u001B[38;5;132;01m}\u001B[39;00m\u001B[33m\"\u001B[39m\n\u001B[32m    531\u001B[39m )\n",
      "\u001B[36mFile \u001B[39m\u001B[32m~/.pyenv/versions/miniconda3-3.12-25.1.1-2/envs/cell/lib/python3.13/site-packages/chromadb/api/models/CollectionCommon.py:539\u001B[39m, in \u001B[36mCollectionCommon._embed\u001B[39m\u001B[34m(self, input)\u001B[39m\n\u001B[32m    535\u001B[39m     \u001B[38;5;28;01mraise\u001B[39;00m \u001B[38;5;167;01mValueError\u001B[39;00m(\n\u001B[32m    536\u001B[39m         \u001B[33m\"\u001B[39m\u001B[33mYou must provide an embedding function to compute embeddings.\u001B[39m\u001B[33m\"\u001B[39m\n\u001B[32m    537\u001B[39m         \u001B[33m\"\u001B[39m\u001B[33mhttps://docs.trychroma.com/guides/embeddings\u001B[39m\u001B[33m\"\u001B[39m\n\u001B[32m    538\u001B[39m     )\n\u001B[32m--> \u001B[39m\u001B[32m539\u001B[39m \u001B[38;5;28;01mreturn\u001B[39;00m \u001B[38;5;28;43mself\u001B[39;49m\u001B[43m.\u001B[49m\u001B[43m_embedding_function\u001B[49m\u001B[43m(\u001B[49m\u001B[38;5;28;43minput\u001B[39;49m\u001B[43m=\u001B[49m\u001B[38;5;28;43minput\u001B[39;49m\u001B[43m)\u001B[49m\n",
      "\u001B[36mFile \u001B[39m\u001B[32m~/.pyenv/versions/miniconda3-3.12-25.1.1-2/envs/cell/lib/python3.13/site-packages/chromadb/api/types.py:466\u001B[39m, in \u001B[36mEmbeddingFunction.__init_subclass__.<locals>.__call__\u001B[39m\u001B[34m(self, input)\u001B[39m\n\u001B[32m    465\u001B[39m \u001B[38;5;28;01mdef\u001B[39;00m\u001B[38;5;250m \u001B[39m\u001B[34m__call__\u001B[39m(\u001B[38;5;28mself\u001B[39m: EmbeddingFunction[D], \u001B[38;5;28minput\u001B[39m: D) -> Embeddings:\n\u001B[32m--> \u001B[39m\u001B[32m466\u001B[39m     result = \u001B[43mcall\u001B[49m\u001B[43m(\u001B[49m\u001B[38;5;28;43mself\u001B[39;49m\u001B[43m,\u001B[49m\u001B[43m \u001B[49m\u001B[38;5;28;43minput\u001B[39;49m\u001B[43m)\u001B[49m\n\u001B[32m    467\u001B[39m     \u001B[38;5;28;01massert\u001B[39;00m result \u001B[38;5;129;01mis\u001B[39;00m \u001B[38;5;129;01mnot\u001B[39;00m \u001B[38;5;28;01mNone\u001B[39;00m\n",
      "\u001B[36mFile \u001B[39m\u001B[32m~/.pyenv/versions/miniconda3-3.12-25.1.1-2/envs/cell/lib/python3.13/site-packages/chromadb/utils/embedding_functions/google_embedding_function.py:74\u001B[39m, in \u001B[36mGoogleGenerativeAiEmbeddingFunction.__call__\u001B[39m\u001B[34m(self, input)\u001B[39m\n\u001B[32m     72\u001B[39m \u001B[38;5;28;01mdef\u001B[39;00m\u001B[38;5;250m \u001B[39m\u001B[34m__call__\u001B[39m(\u001B[38;5;28mself\u001B[39m, \u001B[38;5;28minput\u001B[39m: Documents) -> Embeddings:\n\u001B[32m     73\u001B[39m     \u001B[38;5;28;01mreturn\u001B[39;00m [\n\u001B[32m---> \u001B[39m\u001B[32m74\u001B[39m         \u001B[38;5;28;43mself\u001B[39;49m\u001B[43m.\u001B[49m\u001B[43m_genai\u001B[49m\u001B[43m.\u001B[49m\u001B[43membed_content\u001B[49m\u001B[43m(\u001B[49m\n\u001B[32m     75\u001B[39m \u001B[43m            \u001B[49m\u001B[43mmodel\u001B[49m\u001B[43m=\u001B[49m\u001B[38;5;28;43mself\u001B[39;49m\u001B[43m.\u001B[49m\u001B[43m_model_name\u001B[49m\u001B[43m,\u001B[49m\n\u001B[32m     76\u001B[39m \u001B[43m            \u001B[49m\u001B[43mcontent\u001B[49m\u001B[43m=\u001B[49m\u001B[43mtext\u001B[49m\u001B[43m,\u001B[49m\n\u001B[32m     77\u001B[39m \u001B[43m            \u001B[49m\u001B[43mtask_type\u001B[49m\u001B[43m=\u001B[49m\u001B[38;5;28;43mself\u001B[39;49m\u001B[43m.\u001B[49m\u001B[43m_task_type\u001B[49m\u001B[43m,\u001B[49m\n\u001B[32m     78\u001B[39m \u001B[43m            \u001B[49m\u001B[43mtitle\u001B[49m\u001B[43m=\u001B[49m\u001B[38;5;28;43mself\u001B[39;49m\u001B[43m.\u001B[49m\u001B[43m_task_title\u001B[49m\u001B[43m,\u001B[49m\n\u001B[32m     79\u001B[39m \u001B[43m        \u001B[49m\u001B[43m)\u001B[49m[\u001B[33m\"\u001B[39m\u001B[33membedding\u001B[39m\u001B[33m\"\u001B[39m]\n\u001B[32m     80\u001B[39m         \u001B[38;5;28;01mfor\u001B[39;00m text \u001B[38;5;129;01min\u001B[39;00m \u001B[38;5;28minput\u001B[39m\n\u001B[32m     81\u001B[39m     ]\n",
      "\u001B[36mFile \u001B[39m\u001B[32m~/.pyenv/versions/miniconda3-3.12-25.1.1-2/envs/cell/lib/python3.13/site-packages/google/generativeai/embedding.py:213\u001B[39m, in \u001B[36membed_content\u001B[39m\u001B[34m(model, content, task_type, title, output_dimensionality, client, request_options)\u001B[39m\n\u001B[32m    206\u001B[39m embedding_request = protos.EmbedContentRequest(\n\u001B[32m    207\u001B[39m     model=model,\n\u001B[32m    208\u001B[39m     content=content_types.to_content(content),\n\u001B[32m   (...)\u001B[39m\u001B[32m    211\u001B[39m     output_dimensionality=output_dimensionality,\n\u001B[32m    212\u001B[39m )\n\u001B[32m--> \u001B[39m\u001B[32m213\u001B[39m embedding_response = \u001B[43mclient\u001B[49m\u001B[43m.\u001B[49m\u001B[43membed_content\u001B[49m\u001B[43m(\u001B[49m\n\u001B[32m    214\u001B[39m \u001B[43m    \u001B[49m\u001B[43membedding_request\u001B[49m\u001B[43m,\u001B[49m\n\u001B[32m    215\u001B[39m \u001B[43m    \u001B[49m\u001B[43m*\u001B[49m\u001B[43m*\u001B[49m\u001B[43mrequest_options\u001B[49m\u001B[43m,\u001B[49m\n\u001B[32m    216\u001B[39m \u001B[43m\u001B[49m\u001B[43m)\u001B[49m\n\u001B[32m    217\u001B[39m embedding_dict = \u001B[38;5;28mtype\u001B[39m(embedding_response).to_dict(embedding_response)\n",
      "\u001B[36mFile \u001B[39m\u001B[32m~/.pyenv/versions/miniconda3-3.12-25.1.1-2/envs/cell/lib/python3.13/site-packages/google/ai/generativelanguage_v1beta/services/generative_service/client.py:1263\u001B[39m, in \u001B[36mGenerativeServiceClient.embed_content\u001B[39m\u001B[34m(self, request, model, content, retry, timeout, metadata)\u001B[39m\n\u001B[32m   1262\u001B[39m \u001B[38;5;66;03m# Send the request.\u001B[39;00m\n\u001B[32m-> \u001B[39m\u001B[32m1263\u001B[39m response = \u001B[43mrpc\u001B[49m\u001B[43m(\u001B[49m\n\u001B[32m   1264\u001B[39m \u001B[43m    \u001B[49m\u001B[43mrequest\u001B[49m\u001B[43m,\u001B[49m\n\u001B[32m   1265\u001B[39m \u001B[43m    \u001B[49m\u001B[43mretry\u001B[49m\u001B[43m=\u001B[49m\u001B[43mretry\u001B[49m\u001B[43m,\u001B[49m\n\u001B[32m   1266\u001B[39m \u001B[43m    \u001B[49m\u001B[43mtimeout\u001B[49m\u001B[43m=\u001B[49m\u001B[43mtimeout\u001B[49m\u001B[43m,\u001B[49m\n\u001B[32m   1267\u001B[39m \u001B[43m    \u001B[49m\u001B[43mmetadata\u001B[49m\u001B[43m=\u001B[49m\u001B[43mmetadata\u001B[49m\u001B[43m,\u001B[49m\n\u001B[32m   1268\u001B[39m \u001B[43m\u001B[49m\u001B[43m)\u001B[49m\n\u001B[32m   1270\u001B[39m \u001B[38;5;66;03m# Done; return the response.\u001B[39;00m\n",
      "\u001B[36mFile \u001B[39m\u001B[32m~/.pyenv/versions/miniconda3-3.12-25.1.1-2/envs/cell/lib/python3.13/site-packages/google/api_core/gapic_v1/method.py:131\u001B[39m, in \u001B[36m_GapicCallable.__call__\u001B[39m\u001B[34m(self, timeout, retry, compression, *args, **kwargs)\u001B[39m\n\u001B[32m    129\u001B[39m     kwargs[\u001B[33m\"\u001B[39m\u001B[33mcompression\u001B[39m\u001B[33m\"\u001B[39m] = compression\n\u001B[32m--> \u001B[39m\u001B[32m131\u001B[39m \u001B[38;5;28;01mreturn\u001B[39;00m \u001B[43mwrapped_func\u001B[49m\u001B[43m(\u001B[49m\u001B[43m*\u001B[49m\u001B[43margs\u001B[49m\u001B[43m,\u001B[49m\u001B[43m \u001B[49m\u001B[43m*\u001B[49m\u001B[43m*\u001B[49m\u001B[43mkwargs\u001B[49m\u001B[43m)\u001B[49m\n",
      "\u001B[36mFile \u001B[39m\u001B[32m~/.pyenv/versions/miniconda3-3.12-25.1.1-2/envs/cell/lib/python3.13/site-packages/google/api_core/retry/retry_unary.py:293\u001B[39m, in \u001B[36mRetry.__call__.<locals>.retry_wrapped_func\u001B[39m\u001B[34m(*args, **kwargs)\u001B[39m\n\u001B[32m    290\u001B[39m sleep_generator = exponential_sleep_generator(\n\u001B[32m    291\u001B[39m     \u001B[38;5;28mself\u001B[39m._initial, \u001B[38;5;28mself\u001B[39m._maximum, multiplier=\u001B[38;5;28mself\u001B[39m._multiplier\n\u001B[32m    292\u001B[39m )\n\u001B[32m--> \u001B[39m\u001B[32m293\u001B[39m \u001B[38;5;28;01mreturn\u001B[39;00m \u001B[43mretry_target\u001B[49m\u001B[43m(\u001B[49m\n\u001B[32m    294\u001B[39m \u001B[43m    \u001B[49m\u001B[43mtarget\u001B[49m\u001B[43m,\u001B[49m\n\u001B[32m    295\u001B[39m \u001B[43m    \u001B[49m\u001B[38;5;28;43mself\u001B[39;49m\u001B[43m.\u001B[49m\u001B[43m_predicate\u001B[49m\u001B[43m,\u001B[49m\n\u001B[32m    296\u001B[39m \u001B[43m    \u001B[49m\u001B[43msleep_generator\u001B[49m\u001B[43m,\u001B[49m\n\u001B[32m    297\u001B[39m \u001B[43m    \u001B[49m\u001B[43mtimeout\u001B[49m\u001B[43m=\u001B[49m\u001B[38;5;28;43mself\u001B[39;49m\u001B[43m.\u001B[49m\u001B[43m_timeout\u001B[49m\u001B[43m,\u001B[49m\n\u001B[32m    298\u001B[39m \u001B[43m    \u001B[49m\u001B[43mon_error\u001B[49m\u001B[43m=\u001B[49m\u001B[43mon_error\u001B[49m\u001B[43m,\u001B[49m\n\u001B[32m    299\u001B[39m \u001B[43m\u001B[49m\u001B[43m)\u001B[49m\n",
      "\u001B[36mFile \u001B[39m\u001B[32m~/.pyenv/versions/miniconda3-3.12-25.1.1-2/envs/cell/lib/python3.13/site-packages/google/api_core/retry/retry_unary.py:153\u001B[39m, in \u001B[36mretry_target\u001B[39m\u001B[34m(target, predicate, sleep_generator, timeout, on_error, exception_factory, **kwargs)\u001B[39m\n\u001B[32m    151\u001B[39m \u001B[38;5;28;01mexcept\u001B[39;00m \u001B[38;5;167;01mException\u001B[39;00m \u001B[38;5;28;01mas\u001B[39;00m exc:\n\u001B[32m    152\u001B[39m     \u001B[38;5;66;03m# defer to shared logic for handling errors\u001B[39;00m\n\u001B[32m--> \u001B[39m\u001B[32m153\u001B[39m     \u001B[43m_retry_error_helper\u001B[49m\u001B[43m(\u001B[49m\n\u001B[32m    154\u001B[39m \u001B[43m        \u001B[49m\u001B[43mexc\u001B[49m\u001B[43m,\u001B[49m\n\u001B[32m    155\u001B[39m \u001B[43m        \u001B[49m\u001B[43mdeadline\u001B[49m\u001B[43m,\u001B[49m\n\u001B[32m    156\u001B[39m \u001B[43m        \u001B[49m\u001B[43msleep\u001B[49m\u001B[43m,\u001B[49m\n\u001B[32m    157\u001B[39m \u001B[43m        \u001B[49m\u001B[43merror_list\u001B[49m\u001B[43m,\u001B[49m\n\u001B[32m    158\u001B[39m \u001B[43m        \u001B[49m\u001B[43mpredicate\u001B[49m\u001B[43m,\u001B[49m\n\u001B[32m    159\u001B[39m \u001B[43m        \u001B[49m\u001B[43mon_error\u001B[49m\u001B[43m,\u001B[49m\n\u001B[32m    160\u001B[39m \u001B[43m        \u001B[49m\u001B[43mexception_factory\u001B[49m\u001B[43m,\u001B[49m\n\u001B[32m    161\u001B[39m \u001B[43m        \u001B[49m\u001B[43mtimeout\u001B[49m\u001B[43m,\u001B[49m\n\u001B[32m    162\u001B[39m \u001B[43m    \u001B[49m\u001B[43m)\u001B[49m\n\u001B[32m    163\u001B[39m     \u001B[38;5;66;03m# if exception not raised, sleep before next attempt\u001B[39;00m\n",
      "\u001B[36mFile \u001B[39m\u001B[32m~/.pyenv/versions/miniconda3-3.12-25.1.1-2/envs/cell/lib/python3.13/site-packages/google/api_core/retry/retry_base.py:221\u001B[39m, in \u001B[36m_retry_error_helper\u001B[39m\u001B[34m(exc, deadline, next_sleep, error_list, predicate_fn, on_error_fn, exc_factory_fn, original_timeout)\u001B[39m\n\u001B[32m    216\u001B[39m     final_exc, source_exc = exc_factory_fn(\n\u001B[32m    217\u001B[39m         error_list,\n\u001B[32m    218\u001B[39m         RetryFailureReason.TIMEOUT,\n\u001B[32m    219\u001B[39m         original_timeout,\n\u001B[32m    220\u001B[39m     )\n\u001B[32m--> \u001B[39m\u001B[32m221\u001B[39m     \u001B[38;5;28;01mraise\u001B[39;00m final_exc \u001B[38;5;28;01mfrom\u001B[39;00m\u001B[38;5;250m \u001B[39m\u001B[34;01msource_exc\u001B[39;00m\n\u001B[32m    222\u001B[39m _LOGGER.debug(\n\u001B[32m    223\u001B[39m     \u001B[33m\"\u001B[39m\u001B[33mRetrying due to \u001B[39m\u001B[38;5;132;01m{}\u001B[39;00m\u001B[33m, sleeping \u001B[39m\u001B[38;5;132;01m{:.1f}\u001B[39;00m\u001B[33ms ...\u001B[39m\u001B[33m\"\u001B[39m.format(error_list[-\u001B[32m1\u001B[39m], next_sleep)\n\u001B[32m    224\u001B[39m )\n",
      "\u001B[31mRetryError\u001B[39m: Timeout of 60.0s exceeded, last exception: 503 failed to connect to all addresses; last error: UNKNOWN: ipv4:142.250.69.202:443: Failed to connect to remote host: Timeout occurred: FD Shutdown",
      "\nDuring handling of the above exception, another exception occurred:\n",
      "\u001B[31mTypeError\u001B[39m                                 Traceback (most recent call last)",
      "\u001B[36mCell\u001B[39m\u001B[36m \u001B[39m\u001B[32mIn[49]\u001B[39m\u001B[32m, line 6\u001B[39m\n\u001B[32m      4\u001B[39m reader = csv.reader(f)\n\u001B[32m      5\u001B[39m \u001B[38;5;28;01mfor\u001B[39;00m i, row \u001B[38;5;129;01min\u001B[39;00m \u001B[38;5;28menumerate\u001B[39m(reader):\n\u001B[32m----> \u001B[39m\u001B[32m6\u001B[39m     \u001B[43mcollection\u001B[49m\u001B[43m.\u001B[49m\u001B[43madd\u001B[49m\u001B[43m(\u001B[49m\n\u001B[32m      7\u001B[39m \u001B[43m        \u001B[49m\u001B[43mdocuments\u001B[49m\u001B[43m \u001B[49m\u001B[43m=\u001B[49m\u001B[43m \u001B[49m\u001B[43mrow\u001B[49m\u001B[43m,\u001B[49m\n\u001B[32m      8\u001B[39m \u001B[43m        \u001B[49m\u001B[43mmetadatas\u001B[49m\u001B[43m \u001B[49m\u001B[43m=\u001B[49m\u001B[43m \u001B[49m\u001B[43m[\u001B[49m\u001B[43m{\u001B[49m\u001B[33;43m\"\u001B[39;49m\u001B[33;43msource\u001B[39;49m\u001B[33;43m\"\u001B[39;49m\u001B[43m:\u001B[49m\u001B[43m \u001B[49m\u001B[33;43m\"\u001B[39;49m\u001B[33;43mquestion\u001B[39;49m\u001B[33;43m\"\u001B[39;49m\u001B[43m}\u001B[49m\u001B[43m,\u001B[49m\u001B[43m \u001B[49m\u001B[43m{\u001B[49m\u001B[33;43m\"\u001B[39;49m\u001B[33;43msource\u001B[39;49m\u001B[33;43m\"\u001B[39;49m\u001B[43m:\u001B[49m\u001B[43m \u001B[49m\u001B[33;43m\"\u001B[39;49m\u001B[33;43manswer\u001B[39;49m\u001B[33;43m\"\u001B[39;49m\u001B[43m}\u001B[49m\u001B[43m]\u001B[49m\u001B[43m,\u001B[49m\n\u001B[32m      9\u001B[39m \u001B[43m        \u001B[49m\u001B[43mids\u001B[49m\u001B[43m \u001B[49m\u001B[43m=\u001B[49m\u001B[43m \u001B[49m\u001B[43m[\u001B[49m\u001B[33;43mf\u001B[39;49m\u001B[33;43m\"\u001B[39;49m\u001B[38;5;132;43;01m{\u001B[39;49;00m\u001B[43mcollection\u001B[49m\u001B[43m.\u001B[49m\u001B[43mname\u001B[49m\u001B[38;5;132;43;01m}\u001B[39;49;00m\u001B[33;43m_q\u001B[39;49m\u001B[38;5;132;43;01m{\u001B[39;49;00m\u001B[43mi\u001B[49m\u001B[38;5;132;43;01m}\u001B[39;49;00m\u001B[33;43m\"\u001B[39;49m\u001B[43m,\u001B[49m\u001B[43m \u001B[49m\u001B[33;43mf\u001B[39;49m\u001B[33;43m\"\u001B[39;49m\u001B[38;5;132;43;01m{\u001B[39;49;00m\u001B[43mcollection\u001B[49m\u001B[43m.\u001B[49m\u001B[43mname\u001B[49m\u001B[38;5;132;43;01m}\u001B[39;49;00m\u001B[33;43m_a\u001B[39;49m\u001B[38;5;132;43;01m{\u001B[39;49;00m\u001B[43mi\u001B[49m\u001B[38;5;132;43;01m}\u001B[39;49;00m\u001B[33;43m\"\u001B[39;49m\u001B[43m]\u001B[49m\n\u001B[32m     10\u001B[39m \u001B[43m    \u001B[49m\u001B[43m)\u001B[49m\n",
      "\u001B[36mFile \u001B[39m\u001B[32m~/.pyenv/versions/miniconda3-3.12-25.1.1-2/envs/cell/lib/python3.13/site-packages/chromadb/api/models/Collection.py:82\u001B[39m, in \u001B[36mCollection.add\u001B[39m\u001B[34m(self, ids, embeddings, metadatas, documents, images, uris)\u001B[39m\n\u001B[32m     47\u001B[39m \u001B[38;5;28;01mdef\u001B[39;00m\u001B[38;5;250m \u001B[39m\u001B[34madd\u001B[39m(\n\u001B[32m     48\u001B[39m     \u001B[38;5;28mself\u001B[39m,\n\u001B[32m     49\u001B[39m     ids: OneOrMany[ID],\n\u001B[32m   (...)\u001B[39m\u001B[32m     59\u001B[39m     uris: Optional[OneOrMany[URI]] = \u001B[38;5;28;01mNone\u001B[39;00m,\n\u001B[32m     60\u001B[39m ) -> \u001B[38;5;28;01mNone\u001B[39;00m:\n\u001B[32m     61\u001B[39m \u001B[38;5;250m    \u001B[39m\u001B[33;03m\"\"\"Add embeddings to the data store.\u001B[39;00m\n\u001B[32m     62\u001B[39m \u001B[33;03m    Args:\u001B[39;00m\n\u001B[32m     63\u001B[39m \u001B[33;03m        ids: The ids of the embeddings you wish to add\u001B[39;00m\n\u001B[32m   (...)\u001B[39m\u001B[32m     79\u001B[39m \n\u001B[32m     80\u001B[39m \u001B[33;03m    \"\"\"\u001B[39;00m\n\u001B[32m---> \u001B[39m\u001B[32m82\u001B[39m     add_request = \u001B[38;5;28;43mself\u001B[39;49m\u001B[43m.\u001B[49m\u001B[43m_validate_and_prepare_add_request\u001B[49m\u001B[43m(\u001B[49m\n\u001B[32m     83\u001B[39m \u001B[43m        \u001B[49m\u001B[43mids\u001B[49m\u001B[43m=\u001B[49m\u001B[43mids\u001B[49m\u001B[43m,\u001B[49m\n\u001B[32m     84\u001B[39m \u001B[43m        \u001B[49m\u001B[43membeddings\u001B[49m\u001B[43m=\u001B[49m\u001B[43membeddings\u001B[49m\u001B[43m,\u001B[49m\n\u001B[32m     85\u001B[39m \u001B[43m        \u001B[49m\u001B[43mmetadatas\u001B[49m\u001B[43m=\u001B[49m\u001B[43mmetadatas\u001B[49m\u001B[43m,\u001B[49m\n\u001B[32m     86\u001B[39m \u001B[43m        \u001B[49m\u001B[43mdocuments\u001B[49m\u001B[43m=\u001B[49m\u001B[43mdocuments\u001B[49m\u001B[43m,\u001B[49m\n\u001B[32m     87\u001B[39m \u001B[43m        \u001B[49m\u001B[43mimages\u001B[49m\u001B[43m=\u001B[49m\u001B[43mimages\u001B[49m\u001B[43m,\u001B[49m\n\u001B[32m     88\u001B[39m \u001B[43m        \u001B[49m\u001B[43muris\u001B[49m\u001B[43m=\u001B[49m\u001B[43muris\u001B[49m\u001B[43m,\u001B[49m\n\u001B[32m     89\u001B[39m \u001B[43m    \u001B[49m\u001B[43m)\u001B[49m\n\u001B[32m     91\u001B[39m     \u001B[38;5;28mself\u001B[39m._client._add(\n\u001B[32m     92\u001B[39m         collection_id=\u001B[38;5;28mself\u001B[39m.id,\n\u001B[32m     93\u001B[39m         ids=add_request[\u001B[33m\"\u001B[39m\u001B[33mids\u001B[39m\u001B[33m\"\u001B[39m],\n\u001B[32m   (...)\u001B[39m\u001B[32m     99\u001B[39m         database=\u001B[38;5;28mself\u001B[39m.database,\n\u001B[32m    100\u001B[39m     )\n",
      "\u001B[36mFile \u001B[39m\u001B[32m~/.pyenv/versions/miniconda3-3.12-25.1.1-2/envs/cell/lib/python3.13/site-packages/chromadb/api/models/CollectionCommon.py:93\u001B[39m, in \u001B[36mvalidation_context.<locals>.decorator.<locals>.wrapper\u001B[39m\u001B[34m(self, *args, **kwargs)\u001B[39m\n\u001B[32m     91\u001B[39m \u001B[38;5;28;01mexcept\u001B[39;00m \u001B[38;5;167;01mException\u001B[39;00m \u001B[38;5;28;01mas\u001B[39;00m e:\n\u001B[32m     92\u001B[39m     msg = \u001B[33mf\u001B[39m\u001B[33m\"\u001B[39m\u001B[38;5;132;01m{\u001B[39;00m\u001B[38;5;28mstr\u001B[39m(e)\u001B[38;5;132;01m}\u001B[39;00m\u001B[33m in \u001B[39m\u001B[38;5;132;01m{\u001B[39;00mname\u001B[38;5;132;01m}\u001B[39;00m\u001B[33m.\u001B[39m\u001B[33m\"\u001B[39m\n\u001B[32m---> \u001B[39m\u001B[32m93\u001B[39m     \u001B[38;5;28;01mraise\u001B[39;00m \u001B[38;5;28;43mtype\u001B[39;49m\u001B[43m(\u001B[49m\u001B[43me\u001B[49m\u001B[43m)\u001B[49m\u001B[43m(\u001B[49m\u001B[43mmsg\u001B[49m\u001B[43m)\u001B[49m.with_traceback(e.__traceback__)\n",
      "\u001B[31mTypeError\u001B[39m: RetryError.__init__() missing 1 required positional argument: 'cause'"
     ]
    }
   ],
   "execution_count": 49
  },
  {
   "metadata": {
    "ExecuteTime": {
     "end_time": "2025-03-24T06:20:28.270908Z",
     "start_time": "2025-03-24T06:20:28.265171Z"
    }
   },
   "cell_type": "code",
   "source": [
    "#|export\n",
    "queries=[\"你们的产品需要多久维护一次?\",\"我怎么设置机器人的安全工作区域?\"]\n",
    "queries[0]"
   ],
   "id": "f314ee21cd5cd18a",
   "outputs": [
    {
     "data": {
      "text/plain": [
       "'你们的产品需要多久维护一次?'"
      ]
     },
     "execution_count": 19,
     "metadata": {},
     "output_type": "execute_result"
    }
   ],
   "execution_count": 19
  },
  {
   "metadata": {
    "ExecuteTime": {
     "end_time": "2025-03-24T05:22:23.811698Z",
     "start_time": "2025-03-24T05:22:23.703357Z"
    }
   },
   "cell_type": "code",
   "source": [
    "results = collections[0].query(\n",
    "    query_texts=queries,\n",
    "    n_results=4\n",
    ")"
   ],
   "id": "d885aba898533f4b",
   "outputs": [],
   "execution_count": 10
  },
  {
   "metadata": {
    "ExecuteTime": {
     "end_time": "2025-03-24T05:22:23.882501Z",
     "start_time": "2025-03-24T05:22:23.874303Z"
    }
   },
   "cell_type": "code",
   "source": "results",
   "id": "da70193ed6f00208",
   "outputs": [
    {
     "data": {
      "text/plain": [
       "{'ids': [['siasun_qa_service_q2',\n",
       "   'siasun_qa_service_a9',\n",
       "   'siasun_qa_service_q21',\n",
       "   'siasun_qa_service_a10'],\n",
       "  ['siasun_qa_service_q1',\n",
       "   'siasun_qa_service_a19',\n",
       "   'siasun_qa_service_q22',\n",
       "   'siasun_qa_service_a18']],\n",
       " 'embeddings': None,\n",
       " 'documents': [['你们的产品，多久需要维护一次？维护保养内容有哪些？',\n",
       "   '作业作为一个重要的单元，所以不能进行批量删除与添加，防止误操作造成损失。',\n",
       "   '宏作业是干什么用的？',\n",
       "   '新松有标准的视觉通讯协议，视觉厂家可以按照此协议进行开发适配。当前适配过的品牌有，沈阳自动化所，欧姆龙、海康、梅卡曼德、视比特、基恩士。'],\n",
       "  ['我们的人员调试不熟练，进度慢，你们厂家能负责调试吗？',\n",
       "   '机器人打精度用到的开关。',\n",
       "   '机器人可以存储多少个作业？',\n",
       "   '零位设定，是机器人在零位时的码盘值，码盘输入、码盘输出是以零位时为零开始计数的码盘值。']],\n",
       " 'uris': None,\n",
       " 'data': None,\n",
       " 'metadatas': [[{'source': 'question'},\n",
       "   {'source': 'answer'},\n",
       "   {'source': 'question'},\n",
       "   {'source': 'answer'}],\n",
       "  [{'source': 'question'},\n",
       "   {'source': 'answer'},\n",
       "   {'source': 'question'},\n",
       "   {'source': 'answer'}]],\n",
       " 'distances': [[0.35835238473584624,\n",
       "   0.8026765812953612,\n",
       "   0.8398664268040978,\n",
       "   0.8905950951966901],\n",
       "  [0.5583867931983068,\n",
       "   0.5964258746641342,\n",
       "   0.6352793698255077,\n",
       "   0.7328770040724006]],\n",
       " 'included': [<IncludeEnum.distances: 'distances'>,\n",
       "  <IncludeEnum.documents: 'documents'>,\n",
       "  <IncludeEnum.metadatas: 'metadatas'>]}"
      ]
     },
     "execution_count": 11,
     "metadata": {},
     "output_type": "execute_result"
    }
   ],
   "execution_count": 11
  },
  {
   "metadata": {
    "ExecuteTime": {
     "end_time": "2025-03-24T05:22:24.166851Z",
     "start_time": "2025-03-24T05:22:24.158167Z"
    }
   },
   "cell_type": "code",
   "source": [
    "# results['metadatas'][0] #[0]['source']\n",
    "results['documents'][0][0]"
   ],
   "id": "c6a9c1661db02f02",
   "outputs": [
    {
     "data": {
      "text/plain": [
       "'你们的产品，多久需要维护一次？维护保养内容有哪些？'"
      ]
     },
     "execution_count": 12,
     "metadata": {},
     "output_type": "execute_result"
    }
   ],
   "execution_count": 12
  },
  {
   "metadata": {
    "ExecuteTime": {
     "end_time": "2025-03-24T05:22:24.429963Z",
     "start_time": "2025-03-24T05:22:24.415969Z"
    }
   },
   "cell_type": "code",
   "source": [
    "colls = client.list_collections()\n",
    "colls[0]"
   ],
   "id": "94d6a395a5b7a803",
   "outputs": [
    {
     "data": {
      "text/plain": [
       "'siasun_qa_service'"
      ]
     },
     "execution_count": 13,
     "metadata": {},
     "output_type": "execute_result"
    }
   ],
   "execution_count": 13
  },
  {
   "metadata": {
    "ExecuteTime": {
     "end_time": "2025-03-24T05:42:11.637269Z",
     "start_time": "2025-03-24T05:42:11.633426Z"
    }
   },
   "cell_type": "code",
   "source": "queries1 = ['你们的产品需要多久维护一次?','宏作业有什么用?']",
   "id": "1332f82fbe473593",
   "outputs": [],
   "execution_count": 47
  },
  {
   "metadata": {
    "ExecuteTime": {
     "end_time": "2025-03-24T05:42:17.138558Z",
     "start_time": "2025-03-24T05:42:17.049232Z"
    }
   },
   "cell_type": "code",
   "source": [
    "\n",
    "results = collections[0].query(\n",
    "    query_texts=queries1,\n",
    "    n_results=4\n",
    ")\n",
    "results\n"
   ],
   "id": "e80b1495078948f0",
   "outputs": [
    {
     "data": {
      "text/plain": [
       "{'ids': [['siasun_qa_service_q2',\n",
       "   'siasun_qa_service_a9',\n",
       "   'siasun_qa_service_q21',\n",
       "   'siasun_qa_service_a10'],\n",
       "  ['siasun_qa_service_q16',\n",
       "   'siasun_qa_service_a20',\n",
       "   'siasun_qa_service_q13',\n",
       "   'siasun_qa_service_a7']],\n",
       " 'embeddings': None,\n",
       " 'documents': [['你们的产品，多久需要维护一次？维护保养内容有哪些？',\n",
       "   '作业作为一个重要的单元，所以不能进行批量删除与添加，防止误操作造成损失。',\n",
       "   '宏作业是干什么用的？',\n",
       "   '新松有标准的视觉通讯协议，视觉厂家可以按照此协议进行开发适配。当前适配过的品牌有，沈阳自动化所，欧姆龙、海康、梅卡曼德、视比特、基恩士。'],\n",
       "  ['离线建模使用是样册的标准杆长，但实际机器人内有杆长补偿，这样建模对离线下发的点位准确性是否有影响？',\n",
       "   '有，离线接口库。',\n",
       "   '欧拉角是什么？有什么用处？新松机器人的欧拉角顺序是什么？',\n",
       "   '还有其它报警跟随，还需要查看其它报警来确认原因。弧焊与离线都会产生离线运动失败的报警。']],\n",
       " 'uris': None,\n",
       " 'data': None,\n",
       " 'metadatas': [[{'source': 'question'},\n",
       "   {'source': 'answer'},\n",
       "   {'source': 'question'},\n",
       "   {'source': 'answer'}],\n",
       "  [{'source': 'question'},\n",
       "   {'source': 'answer'},\n",
       "   {'source': 'question'},\n",
       "   {'source': 'answer'}]],\n",
       " 'distances': [[0.35835238473584624,\n",
       "   0.8026765812953612,\n",
       "   0.8398664268040978,\n",
       "   0.8905950951966901],\n",
       "  [0.5112318120344393,\n",
       "   0.5778327751539375,\n",
       "   0.676073343384295,\n",
       "   0.7153126507950901]],\n",
       " 'included': [<IncludeEnum.distances: 'distances'>,\n",
       "  <IncludeEnum.documents: 'documents'>,\n",
       "  <IncludeEnum.metadatas: 'metadatas'>]}"
      ]
     },
     "execution_count": 48,
     "metadata": {},
     "output_type": "execute_result"
    }
   ],
   "execution_count": 48
  },
  {
   "metadata": {
    "ExecuteTime": {
     "end_time": "2025-03-24T05:22:24.674245Z",
     "start_time": "2025-03-24T05:22:24.502162Z"
    }
   },
   "cell_type": "code",
   "source": [
    "\n",
    "# question = \"你们的产品需要多久维护一次?\"\n",
    "# question = \"你们在售前评估上，如何帮助到我们?\"\n",
    "answers = []\n",
    "for collection in collections:\n",
    "    results = collection.query(\n",
    "        query_texts=queries,\n",
    "        n_results=4\n",
    "    )\n",
    "    docs = []\n",
    "    for i,metadata in enumerate(results['metadatas'][0]):\n",
    "        if metadata['source'] == 'question':\n",
    "            docs.append({'id': results['ids'][0][i],\n",
    "                         'document': results['documents'][0][i],\n",
    "                         'distance':results['distances'][0][i]})\n",
    "    df = pd.DataFrame(docs)\n",
    "    answers.append(df)\n",
    "df_answers = pd.concat(answers, axis=0,ignore_index=True)\n",
    "# df_answers = pd.stack(answers, axis=2)"
   ],
   "id": "22b73eb7792be2ab",
   "outputs": [],
   "execution_count": 14
  },
  {
   "metadata": {
    "ExecuteTime": {
     "end_time": "2025-03-24T05:22:24.726922Z",
     "start_time": "2025-03-24T05:22:24.713995Z"
    }
   },
   "cell_type": "code",
   "source": "df_answers.loc[df_answers['distance'].idxmin()]",
   "id": "f58ee1e3e4554ea0",
   "outputs": [
    {
     "data": {
      "text/plain": [
       "id          siasun_qa_technology_q10\n",
       "document         你们在售前评估上，能提供什么样的帮助？\n",
       "distance                    0.376322\n",
       "Name: 2, dtype: object"
      ]
     },
     "execution_count": 15,
     "metadata": {},
     "output_type": "execute_result"
    }
   ],
   "execution_count": 15
  },
  {
   "metadata": {
    "ExecuteTime": {
     "end_time": "2025-03-24T05:22:24.802435Z",
     "start_time": "2025-03-24T05:22:24.794404Z"
    }
   },
   "cell_type": "code",
   "source": [
    "\n",
    "id_q = df_answers.loc[df_answers['distance'].idxmin()]['id']\n",
    "id_q"
   ],
   "id": "622e9f7c853af379",
   "outputs": [
    {
     "data": {
      "text/plain": [
       "'siasun_qa_technology_q10'"
      ]
     },
     "execution_count": 16,
     "metadata": {},
     "output_type": "execute_result"
    }
   ],
   "execution_count": 16
  },
  {
   "metadata": {
    "ExecuteTime": {
     "end_time": "2025-03-24T05:22:24.874972Z",
     "start_time": "2025-03-24T05:22:24.865740Z"
    }
   },
   "cell_type": "code",
   "source": [
    "\n",
    "id_a_list = id_q.split('_')\n",
    "id_a_list[-1] = id_a_list[-1].replace('q','a')\n",
    "id_a_list"
   ],
   "id": "5929799653473da2",
   "outputs": [
    {
     "data": {
      "text/plain": [
       "['siasun', 'qa', 'technology', 'a10']"
      ]
     },
     "execution_count": 17,
     "metadata": {},
     "output_type": "execute_result"
    }
   ],
   "execution_count": 17
  },
  {
   "metadata": {
    "ExecuteTime": {
     "end_time": "2025-03-24T05:22:24.922547Z",
     "start_time": "2025-03-24T05:22:24.911864Z"
    }
   },
   "cell_type": "code",
   "source": [
    "id_a = '_'.join(id_a_list)\n",
    "id_a"
   ],
   "id": "93a65db8201c85e5",
   "outputs": [
    {
     "data": {
      "text/plain": [
       "'siasun_qa_technology_a10'"
      ]
     },
     "execution_count": 18,
     "metadata": {},
     "output_type": "execute_result"
    }
   ],
   "execution_count": 18
  },
  {
   "metadata": {
    "ExecuteTime": {
     "end_time": "2025-03-24T05:22:25.471411Z",
     "start_time": "2025-03-24T05:22:25.464635Z"
    }
   },
   "cell_type": "code",
   "source": [
    "coll_idx = 0 if id_a_list[-2] == 'service' else 1\n",
    "coll_idx"
   ],
   "id": "5f3b099a6b99bb79",
   "outputs": [
    {
     "data": {
      "text/plain": [
       "1"
      ]
     },
     "execution_count": 19,
     "metadata": {},
     "output_type": "execute_result"
    }
   ],
   "execution_count": 19
  },
  {
   "metadata": {
    "ExecuteTime": {
     "end_time": "2025-03-24T05:22:25.857509Z",
     "start_time": "2025-03-24T05:22:25.845431Z"
    }
   },
   "cell_type": "code",
   "source": [
    "answer = collections[coll_idx].get(id_a)\n",
    "answer['documents']"
   ],
   "id": "54a710916272b975",
   "outputs": [
    {
     "data": {
      "text/plain": [
       "['部分情况可提供现场技术指导，提供成功应用案例经验支持，仿真模拟场景，评估负载等风险，提供机械、电气、软件接口对接。']"
      ]
     },
     "execution_count": 20,
     "metadata": {},
     "output_type": "execute_result"
    }
   ],
   "execution_count": 20
  },
  {
   "metadata": {
    "ExecuteTime": {
     "end_time": "2025-03-24T05:22:26.052756Z",
     "start_time": "2025-03-24T05:22:26.048191Z"
    }
   },
   "cell_type": "code",
   "source": "best_answer = df_answers.loc[df_answers['distance'].idxmin()]",
   "id": "9d82892da75b95cb",
   "outputs": [],
   "execution_count": 21
  },
  {
   "metadata": {
    "ExecuteTime": {
     "end_time": "2025-03-24T05:34:46.307113Z",
     "start_time": "2025-03-24T05:34:46.300108Z"
    }
   },
   "cell_type": "code",
   "source": [
    "def qa(questions:list[str], collections:list[chromadb.Collection]=collections):\n",
    "    matched_questions = []\n",
    "    for collection in collections:\n",
    "        results = collection.query(\n",
    "            query_texts=questions,\n",
    "            n_results=4\n",
    "        )\n",
    "        docs = []\n",
    "        for i,metadata in enumerate(results['metadatas'][0]):\n",
    "            if metadata['source'] == 'question':\n",
    "                docs.append({'id': results['ids'][0][i],\n",
    "                                'document': results['documents'][0][i], \n",
    "                                'distance':results['distances'][0][i]})\n",
    "        df = pd.DataFrame(docs)\n",
    "        matched_questions.append(df)\n",
    "\n",
    "    df_matched_questions = pd.concat(matched_questions,axis=0,ignore_index=True)\n",
    "    best_match_q_id = df_matched_questions.loc[df_matched_questions['distance'].idxmin()]['id']\n",
    "    id_a_list = best_match_q_id.split('_')\n",
    "    id_a_list[-1] = id_a_list[-1].replace('q','a')\n",
    "    id_a = '_'.join(id_a_list)\n",
    "    coll_idx = 0 if id_a_list[-2] == 'service' else 1\n",
    "    best_answer = collections[coll_idx].get(id_a)['documents']\n",
    "    res_text = best_answer[0]\n",
    "    return res_text\n",
    "    # question =\n",
    "    # return answers"
   ],
   "id": "2ea352cd4183e359",
   "outputs": [],
   "execution_count": 42
  },
  {
   "metadata": {
    "ExecuteTime": {
     "end_time": "2025-03-24T05:31:03.115335Z",
     "start_time": "2025-03-24T05:31:03.022097Z"
    }
   },
   "cell_type": "code",
   "source": [
    "\n",
    "question = \"你们的产品需要多久维护一次?\"\n",
    "res = qa(question)\n",
    "res\n"
   ],
   "id": "f749d9cc9a401a32",
   "outputs": [
    {
     "data": {
      "text/plain": [
       "['根据机器人的型号和实际使用情况，制定机器人的保养计划,一般分为日常、3 个月、6 个月、1 年期的维护保养。\\n需要对机器人进行日常点检和定期维护保养，点检工作主要检查设备是否存在漏油、异响、异常震动、异常报警；定期维护保养主要对油脂、线束护套、风扇、电机接头等易损位置进行检查，并定期更换润滑油。具体检验项目及维护周期详见安装维护手册。']"
      ]
     },
     "execution_count": 34,
     "metadata": {},
     "output_type": "execute_result"
    }
   ],
   "execution_count": 34
  },
  {
   "metadata": {
    "ExecuteTime": {
     "end_time": "2025-03-24T05:31:32.525330Z",
     "start_time": "2025-03-24T05:31:32.521033Z"
    }
   },
   "cell_type": "code",
   "source": "print(res[0])",
   "id": "29b2f84aa0784af1",
   "outputs": [
    {
     "name": "stdout",
     "output_type": "stream",
     "text": [
      "根据机器人的型号和实际使用情况，制定机器人的保养计划,一般分为日常、3 个月、6 个月、1 年期的维护保养。\n",
      "需要对机器人进行日常点检和定期维护保养，点检工作主要检查设备是否存在漏油、异响、异常震动、异常报警；定期维护保养主要对油脂、线束护套、风扇、电机接头等易损位置进行检查，并定期更换润滑油。具体检验项目及维护周期详见安装维护手册。\n"
     ]
    }
   ],
   "execution_count": 36
  },
  {
   "metadata": {
    "ExecuteTime": {
     "end_time": "2025-03-24T05:34:52.105629Z",
     "start_time": "2025-03-24T05:34:51.917064Z"
    }
   },
   "cell_type": "code",
   "source": [
    "# |export\n",
    "iface = gr.Interface(fn=qa, inputs=gr.Text(value=\"多久维护一次产品?\"), outputs=\"text\")\n",
    "iface.launch(width=500,share=False)"
   ],
   "id": "ad2f204e6ab55bfc",
   "outputs": [
    {
     "name": "stdout",
     "output_type": "stream",
     "text": [
      "* Running on local URL:  http://127.0.0.1:7860\n",
      "\n",
      "To create a public link, set `share=True` in `launch()`.\n"
     ]
    },
    {
     "data": {
      "text/plain": [
       "<IPython.core.display.HTML object>"
      ],
      "text/html": [
       "<div><iframe src=\"http://127.0.0.1:7860/\" width=\"500\" height=\"500\" allow=\"autoplay; camera; microphone; clipboard-read; clipboard-write;\" frameborder=\"0\" allowfullscreen></iframe></div>"
      ]
     },
     "metadata": {},
     "output_type": "display_data"
    },
    {
     "data": {
      "text/plain": []
     },
     "execution_count": 43,
     "metadata": {},
     "output_type": "execute_result"
    }
   ],
   "execution_count": 43
  },
  {
   "metadata": {
    "ExecuteTime": {
     "end_time": "2025-03-24T05:34:33.629905Z",
     "start_time": "2025-03-24T05:34:33.445274Z"
    }
   },
   "cell_type": "code",
   "source": [
    "# this is only necessary in a notebook\n",
    "iface.close()"
   ],
   "id": "888b1b0530808ebe",
   "outputs": [
    {
     "name": "stdout",
     "output_type": "stream",
     "text": [
      "Closing server running on port: 7860\n"
     ]
    }
   ],
   "execution_count": 41
  },
  {
   "metadata": {},
   "cell_type": "markdown",
   "source": "## Create a `requirements.txt` file",
   "id": "7dc11529d1b85a84"
  },
  {
   "metadata": {
    "ExecuteTime": {
     "end_time": "2025-03-24T05:22:58.708249Z",
     "start_time": "2025-03-24T05:22:58.701118Z"
    }
   },
   "cell_type": "code",
   "source": [
    "%%writefile ../requirements.txt\n",
    "fastcore"
   ],
   "id": "c39a06f76c3da0f5",
   "outputs": [
    {
     "name": "stdout",
     "output_type": "stream",
     "text": [
      "Overwriting ../requirements.txt\n"
     ]
    }
   ],
   "execution_count": 26
  },
  {
   "metadata": {
    "ExecuteTime": {
     "end_time": "2025-03-24T05:22:59.021659Z",
     "start_time": "2025-03-24T05:22:58.757093Z"
    }
   },
   "cell_type": "code",
   "source": [
    "# | hide\n",
    "import nbdev\n",
    "\n",
    "nbdev.nbdev_export()"
   ],
   "id": "9df14eac7a58493f",
   "outputs": [],
   "execution_count": 27
  },
  {
   "metadata": {
    "ExecuteTime": {
     "end_time": "2025-03-24T05:22:59.039834Z",
     "start_time": "2025-03-24T05:22:59.035487Z"
    }
   },
   "cell_type": "code",
   "source": "# |default_exp data_preprocessing",
   "id": "648dc291964559de",
   "outputs": [],
   "execution_count": 28
  },
  {
   "metadata": {},
   "cell_type": "markdown",
   "source": "## Convert this notebook into a Gradio app",
   "id": "4755b2e93c82953c"
  },
  {
   "metadata": {
    "ExecuteTime": {
     "end_time": "2025-03-24T05:22:59.087612Z",
     "start_time": "2025-03-24T05:22:59.082988Z"
    }
   },
   "cell_type": "code",
   "source": [
    "# from nbdev.export import nb_export\n",
    "# nb_export('01_gradio.ipynb', lib_path='.', name='gradio')"
   ],
   "id": "9549f5fd490578dd",
   "outputs": [],
   "execution_count": 29
  },
  {
   "metadata": {
    "ExecuteTime": {
     "end_time": "2025-03-24T05:22:59.160450Z",
     "start_time": "2025-03-24T05:22:59.133427Z"
    }
   },
   "cell_type": "code",
   "source": [
    "# | hide\n",
    "import nbdev\n",
    "\n",
    "nbdev.nbdev_export()"
   ],
   "id": "6118d49775df611a",
   "outputs": [],
   "execution_count": 30
  }
 ],
 "metadata": {
  "kernelspec": {
   "name": "python3",
   "language": "python",
   "display_name": "Python 3 (ipykernel)"
  }
 },
 "nbformat": 5,
 "nbformat_minor": 9
}
